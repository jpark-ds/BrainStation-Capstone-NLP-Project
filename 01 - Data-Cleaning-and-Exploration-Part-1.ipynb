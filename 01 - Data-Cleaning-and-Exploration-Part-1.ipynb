{
 "cells": [
  {
   "cell_type": "markdown",
   "id": "63f052c6",
   "metadata": {},
   "source": [
    "Name: Jonathan Park <br>\n",
    "Date: 2022.04.03"
   ]
  },
  {
   "cell_type": "markdown",
   "id": "2d338df0",
   "metadata": {},
   "source": [
    "# Project Shappify: Data Cleaning and EDA Part 1\n",
    "***"
   ]
  },
  {
   "cell_type": "markdown",
   "id": "232bc0d7",
   "metadata": {},
   "source": [
    "## Problem and Value Statements"
   ]
  },
  {
   "cell_type": "markdown",
   "id": "be3ae19c",
   "metadata": {},
   "source": [
    "The goals of this capstone project is to identify the words predictive of sentiment (sentiment analysis) and identify the different topics that these reviews contain (topic modeling) so that I can automate the process of gathering and directing high-quality feedback to relevant stakeholders in order to optimize the overall user experience for Shopify's app store users/merchants."
   ]
  },
  {
   "cell_type": "markdown",
   "id": "23ad2cc6",
   "metadata": {},
   "source": [
    "## Introduction"
   ]
  },
  {
   "cell_type": "markdown",
   "id": "03f71f3d",
   "metadata": {},
   "source": [
    "Outlined in this notebook are the general steps I took for gathering, inspecting, and cleaning the data prior to implementing natural language processing (NLP) techniques. This step is critical for making certain the data quality is minimized of any noise or nonsensical data and to gain deeper insights on what the data is made up of (e.g., data types, variables, missing values).\n",
    "\n",
    "This notebook will be organized in the following manner:\n",
    "\n",
    "1. Data Acquisition\n",
    "2. Data Preparation and Cleaning\n",
    "3. Exploratory Data Analysis\n",
    "\n",
    "The desired output from the initial cleaning process of this notebook will be a dataframe that contains the appropriate data types within the columns, removal of duplicate rows, and removal of missing values. The output will then be saved for further use in Part 2, where text pre-processing, tokenization, and vectorization of the review texts will take place."
   ]
  },
  {
   "cell_type": "markdown",
   "id": "3f0ff560",
   "metadata": {},
   "source": [
    "## Getting the Data\n",
    "***"
   ]
  },
  {
   "cell_type": "markdown",
   "id": "447078c4",
   "metadata": {},
   "source": [
    "The data utilized for this project was retrieved from [Kaggle](https://www.kaggle.com/usernam3/shopify-app-store?select=apps.csv). The author had conveniently laid out the data to be .csv files with details on the apps, categories, benefits, pricing plans, and reviews. Provided below is the deduced data dictionary for the output from each file.I will take a closer look at the `reviews.csv` file in the next section.\n",
    "\n",
    "To verify the validity of the reviews dataset, 3 randomly selected apps from the dataset were chosen and the 20 of the most recent review texts (i.e., from Aug 2020) were cross-referenced with the Shopify App Store and the app’s corresponding review webpages. One discrepancy observed was that the date the review was posted on the webpage can change because of the\n",
    "original author editing their review and causing an update to the review's date. This is not captured by the Kaggle dataset\n",
    "(i.e., post date and last edited date are amalgamated to a single “posted date”).\n",
    "\n",
    "Furthermore, in comparing additional aspects to the current Shopify App store webpages and the Kaggle dataset, it appears that the following are out-of-date characteristics in the Kaggle dataset:\n",
    "\n",
    "1. There are 12 app categories are listed in the `categories.csv`. However, there are only 9 categories outlined on the Shopify App store webpage.\n",
    "2. There are $\\approx$ 4,700 unique app ids listed in the `apps.csv`. However, this number has grown to $\\approx$ 7,200 apps in the current Shopify App store.\n",
    "3. Some app names have been modified (e.g., SEO HTML Sitemap from Kaggle dataset changed to SEO HTML and XML Sitemap in the current Shopify App Store webpage)."
   ]
  },
  {
   "cell_type": "markdown",
   "id": "a8217912",
   "metadata": {},
   "source": [
    "#### Data Dictionary"
   ]
  },
  {
   "cell_type": "markdown",
   "id": "80d6304f",
   "metadata": {},
   "source": [
    "A total of 7`.csv` files were from the Kaggle dataset. Of the 7, only 4 of the files were used in order to obtain the application's name and category for exploratory data analysis later in the notebook.\n",
    "\n",
    "The type of data contained in each file is outlined below (adapted from the Kaggle dataset \"Detail\" section)."
   ]
  },
  {
   "cell_type": "markdown",
   "id": "9c3cadf2",
   "metadata": {
    "ExecuteTime": {
     "end_time": "2022-03-20T21:10:23.485378Z",
     "start_time": "2022-03-20T21:10:23.464380Z"
    }
   },
   "source": [
    "***\n",
    "\n",
    "Table 1. Data Dictionary – reviews.csv \n",
    "<br>\n",
    "\n",
    "    \n",
    "| Column Name | Description |\n",
    "| :--- | :--- |\n",
    "| `app_id` | Unique identifier for the application or app in the dataset. |\n",
    "| `author` | Name of the merchant or user that wrote the review. |\n",
    "| `rating` | The rating given to the app by the author in the form of stars. Ranging from 1 to 5, with 5 being the highest. |\n",
    "| `posted_at`(renamed to `review_date`) | The date that the review was first posted OR the data that it was last edited. |\n",
    "| `body` (renamed to `review_text`) | The text of the review. |\n",
    "| `helpful_count` | The total number of \"thumbs up\" that the community of users can give in relation to whether the review helped them, if available. |\n",
    "| `developer_reply` (renamed to `dev_reply_text`) | The text of the app developer's response, if available. |\n",
    "| `developer_reply_posted_at` (renamed to `dev_reply_date`) | The date of the app developer's response, if available. |\n",
    "   \n",
    "<br>\n",
    "\n",
    "***\n",
    "\n",
    "Table 2. Data Dictionary – apps.csv \n",
    "<br>\n",
    "    \n",
    "\n",
    "|Column Name|Description|\n",
    "|:---|:---|\n",
    "|`id` (renamed to `app_id`)| Unique identifier for the app. |\n",
    "|`url`| The URL link to the application on the Shopify App store. |\n",
    "|`title` (renamed to `app_name`)| The name of the app. |\n",
    "|`developer`| The name of the application developer. |\n",
    "|`developer_link`| The link to the application developer's parter page on Shopify that also lists the other applications the developer has created. |\n",
    "|`icon`| A URL to the application's image icon observed in the app's description. |\n",
    "|`rating`| Average rating of the application from the reviews received-to-date. |\n",
    "|`reviews_count`| Total number of reviews received-to-date. |\n",
    "|`description_raw`| The app's description with HTML tags not parsed. |\n",
    "|`description`| Description of the app. |\n",
    "|`tagline`| App's tagline. |\n",
    "|`pricing_hint`| Pricing details of the application.  |\n",
    "    \n",
    "\n",
    "<br>\n",
    "\n",
    "***\n",
    "\n",
    "Table 3. Data Dictionary – apps_categories.csv \n",
    "<br>\n",
    "\n",
    "    \n",
    "\n",
    "|Column Name|Description|\n",
    "|:---|:---|\n",
    "|`app_id` | Unique identifier for the app. |\n",
    "|`category_id`| Unique identifier for the app's category. |\n",
    "    \n",
    "\n",
    "<br>\n",
    "\n",
    "***\n",
    "\n",
    "Table 4. Data Dictionary – categories.csv \n",
    "<br>\n",
    "\n",
    "    \n",
    "\n",
    "|Column Name|Description|\n",
    "|:---|:---|\n",
    "|`id` (renamed to `category_id`)| Unique identifier for the app's category. |\n",
    "|`title` (renamed to `category_name`)| Name of the category (12 possible categories). Note that an app can possess more than one category name. |\n",
    "    \n",
    "\n",
    "\n",
    "<br>\n",
    "\n",
    "***\n",
    "\n",
    "Table 5. Data Dictionary – pricing_plans.csv \n",
    "<br>\n",
    "\n",
    "    \n",
    "\n",
    "|Column Name|Description|\n",
    "|:---|:---|\n",
    "|`id` | Unique identifier for the app's pricing plan. |\n",
    "|`app_id` | Unique identifier for the app. |\n",
    "|`title`| Name of pricing option. |\n",
    "|`price`| Price of subscription. |\n",
    "    \n",
    "\n",
    "<br>\n",
    "\n",
    "***\n",
    "\n",
    "Table 6. Data Dictionary – pricing_plan_features.csv \n",
    "<br>\n",
    "\n",
    "    \n",
    "\n",
    "|Column Name|Description|\n",
    "|:---|:---|\n",
    "|`app_id` (appears incorrect) | Unique identifier for the app's pricing plan. |\n",
    "|`pricing_plan_id` (appears incorrect) | Unique identifier for the software app.  |\n",
    "|`feature`| Features related to the specific app's pricing plan choices. |\n",
    "    \n",
    "\n",
    "<br>\n",
    "\n",
    "***\n",
    "\n",
    "Table 7. Data Dictionary – key_benefits.csv \n",
    "<br>\n",
    "\n",
    "    \n",
    "|Column Name|Description|\n",
    "|:---|:---|\n",
    "|`app_id` | Unique identifier for the app. |\n",
    "|`title`| Key benefits of the application as outlined on the app's webpage. |\n",
    "|`description`| Descriptor for the key benefit of the app. |\n",
    "    \n",
    "\n",
    "<br>\n",
    "\n",
    "***"
   ]
  },
  {
   "cell_type": "markdown",
   "id": "4ed20f54",
   "metadata": {},
   "source": [
    "### Import Packages"
   ]
  },
  {
   "cell_type": "markdown",
   "id": "67735dfb",
   "metadata": {},
   "source": [
    "As always, there are a list of packages I will import for this notebook."
   ]
  },
  {
   "cell_type": "code",
   "execution_count": 1,
   "id": "25dd9669",
   "metadata": {
    "ExecuteTime": {
     "end_time": "2022-05-22T20:49:07.945276Z",
     "start_time": "2022-05-22T20:49:06.056830Z"
    }
   },
   "outputs": [],
   "source": [
    "# Array and dataframe manipulation libraries\n",
    "import numpy as np\n",
    "import pandas as pd\n",
    "\n",
    "# Plotting libraries\n",
    "import matplotlib.pyplot as plt\n",
    "import seaborn as sns"
   ]
  },
  {
   "cell_type": "markdown",
   "id": "e69c1440",
   "metadata": {},
   "source": [
    "### Import Data"
   ]
  },
  {
   "cell_type": "markdown",
   "id": "5a34f441",
   "metadata": {},
   "source": [
    "Please make sure the directory has been changed to match your folder destination."
   ]
  },
  {
   "cell_type": "code",
   "execution_count": 2,
   "id": "13974ec0",
   "metadata": {
    "ExecuteTime": {
     "end_time": "2022-05-22T20:49:09.831319Z",
     "start_time": "2022-05-22T20:49:07.947212Z"
    }
   },
   "outputs": [],
   "source": [
    "# Import dataset\n",
    "reviews_df = pd.read_csv('Kaggle Dataset/reviews.csv')"
   ]
  },
  {
   "cell_type": "markdown",
   "id": "6d529ca4",
   "metadata": {},
   "source": [
    "###  Overview of Data"
   ]
  },
  {
   "cell_type": "markdown",
   "id": "acf3505b",
   "metadata": {},
   "source": [
    "I will check the top 5 rows and bottom 5 rows of the dataframe to see what the data looks like and also identify any unexpected information at the bottom of the dataframe (e.g., if any non-data related contact attached at the bottom)."
   ]
  },
  {
   "cell_type": "code",
   "execution_count": 3,
   "id": "24605a4e",
   "metadata": {
    "ExecuteTime": {
     "end_time": "2022-05-22T20:49:09.862194Z",
     "start_time": "2022-05-22T20:49:09.833085Z"
    },
    "scrolled": true
   },
   "outputs": [
    {
     "data": {
      "text/html": [
       "<div>\n",
       "<style scoped>\n",
       "    .dataframe tbody tr th:only-of-type {\n",
       "        vertical-align: middle;\n",
       "    }\n",
       "\n",
       "    .dataframe tbody tr th {\n",
       "        vertical-align: top;\n",
       "    }\n",
       "\n",
       "    .dataframe thead th {\n",
       "        text-align: right;\n",
       "    }\n",
       "</style>\n",
       "<table border=\"1\" class=\"dataframe\">\n",
       "  <thead>\n",
       "    <tr style=\"text-align: right;\">\n",
       "      <th></th>\n",
       "      <th>app_id</th>\n",
       "      <th>author</th>\n",
       "      <th>rating</th>\n",
       "      <th>posted_at</th>\n",
       "      <th>body</th>\n",
       "      <th>helpful_count</th>\n",
       "      <th>developer_reply</th>\n",
       "      <th>developer_reply_posted_at</th>\n",
       "    </tr>\n",
       "  </thead>\n",
       "  <tbody>\n",
       "    <tr>\n",
       "      <th>0</th>\n",
       "      <td>b1da53a4-0474-4700-9620-bf386bc033fb</td>\n",
       "      <td>Consuela</td>\n",
       "      <td>5</td>\n",
       "      <td>August 6, 2020</td>\n",
       "      <td>Great and super fast customer service! Highly ...</td>\n",
       "      <td>0</td>\n",
       "      <td>NaN</td>\n",
       "      <td>NaN</td>\n",
       "    </tr>\n",
       "    <tr>\n",
       "      <th>1</th>\n",
       "      <td>b1da53a4-0474-4700-9620-bf386bc033fb</td>\n",
       "      <td>L'Atelier Global</td>\n",
       "      <td>5</td>\n",
       "      <td>August 4, 2020</td>\n",
       "      <td>Still setting up my store, and after initially...</td>\n",
       "      <td>0</td>\n",
       "      <td>NaN</td>\n",
       "      <td>NaN</td>\n",
       "    </tr>\n",
       "    <tr>\n",
       "      <th>2</th>\n",
       "      <td>b1da53a4-0474-4700-9620-bf386bc033fb</td>\n",
       "      <td>city'super E-Shop</td>\n",
       "      <td>5</td>\n",
       "      <td>August 4, 2020</td>\n",
       "      <td>This is an excellent search app, which they ha...</td>\n",
       "      <td>0</td>\n",
       "      <td>NaN</td>\n",
       "      <td>NaN</td>\n",
       "    </tr>\n",
       "    <tr>\n",
       "      <th>3</th>\n",
       "      <td>b1da53a4-0474-4700-9620-bf386bc033fb</td>\n",
       "      <td>PortableHandwashing.com</td>\n",
       "      <td>5</td>\n",
       "      <td>July 30, 2020</td>\n",
       "      <td>A+, great great great customer service! thanks...</td>\n",
       "      <td>0</td>\n",
       "      <td>NaN</td>\n",
       "      <td>NaN</td>\n",
       "    </tr>\n",
       "    <tr>\n",
       "      <th>4</th>\n",
       "      <td>b1da53a4-0474-4700-9620-bf386bc033fb</td>\n",
       "      <td>ICCTUNING</td>\n",
       "      <td>5</td>\n",
       "      <td>July 28, 2020</td>\n",
       "      <td>I'm begginig to use this app, the search engin...</td>\n",
       "      <td>0</td>\n",
       "      <td>NaN</td>\n",
       "      <td>NaN</td>\n",
       "    </tr>\n",
       "  </tbody>\n",
       "</table>\n",
       "</div>"
      ],
      "text/plain": [
       "                                 app_id                   author  rating  \\\n",
       "0  b1da53a4-0474-4700-9620-bf386bc033fb                 Consuela       5   \n",
       "1  b1da53a4-0474-4700-9620-bf386bc033fb         L'Atelier Global       5   \n",
       "2  b1da53a4-0474-4700-9620-bf386bc033fb        city'super E-Shop       5   \n",
       "3  b1da53a4-0474-4700-9620-bf386bc033fb  PortableHandwashing.com       5   \n",
       "4  b1da53a4-0474-4700-9620-bf386bc033fb                ICCTUNING       5   \n",
       "\n",
       "        posted_at                                               body  \\\n",
       "0  August 6, 2020  Great and super fast customer service! Highly ...   \n",
       "1  August 4, 2020  Still setting up my store, and after initially...   \n",
       "2  August 4, 2020  This is an excellent search app, which they ha...   \n",
       "3   July 30, 2020  A+, great great great customer service! thanks...   \n",
       "4   July 28, 2020  I'm begginig to use this app, the search engin...   \n",
       "\n",
       "   helpful_count developer_reply developer_reply_posted_at  \n",
       "0              0             NaN                       NaN  \n",
       "1              0             NaN                       NaN  \n",
       "2              0             NaN                       NaN  \n",
       "3              0             NaN                       NaN  \n",
       "4              0             NaN                       NaN  "
      ]
     },
     "execution_count": 3,
     "metadata": {},
     "output_type": "execute_result"
    }
   ],
   "source": [
    "# Print the first 5 rows\n",
    "reviews_df.head()"
   ]
  },
  {
   "cell_type": "code",
   "execution_count": 4,
   "id": "6c843dd1",
   "metadata": {
    "ExecuteTime": {
     "end_time": "2022-05-22T20:49:09.877271Z",
     "start_time": "2022-05-22T20:49:09.865979Z"
    },
    "scrolled": false
   },
   "outputs": [
    {
     "data": {
      "text/html": [
       "<div>\n",
       "<style scoped>\n",
       "    .dataframe tbody tr th:only-of-type {\n",
       "        vertical-align: middle;\n",
       "    }\n",
       "\n",
       "    .dataframe tbody tr th {\n",
       "        vertical-align: top;\n",
       "    }\n",
       "\n",
       "    .dataframe thead th {\n",
       "        text-align: right;\n",
       "    }\n",
       "</style>\n",
       "<table border=\"1\" class=\"dataframe\">\n",
       "  <thead>\n",
       "    <tr style=\"text-align: right;\">\n",
       "      <th></th>\n",
       "      <th>app_id</th>\n",
       "      <th>author</th>\n",
       "      <th>rating</th>\n",
       "      <th>posted_at</th>\n",
       "      <th>body</th>\n",
       "      <th>helpful_count</th>\n",
       "      <th>developer_reply</th>\n",
       "      <th>developer_reply_posted_at</th>\n",
       "    </tr>\n",
       "  </thead>\n",
       "  <tbody>\n",
       "    <tr>\n",
       "      <th>447312</th>\n",
       "      <td>1a4accf8-b57e-4c08-a07c-fe5db0f0a0bc</td>\n",
       "      <td>Life Force</td>\n",
       "      <td>2</td>\n",
       "      <td>August 10, 2015</td>\n",
       "      <td>The app is cool and simple to use which I like...</td>\n",
       "      <td>0</td>\n",
       "      <td>NaN</td>\n",
       "      <td>NaN</td>\n",
       "    </tr>\n",
       "    <tr>\n",
       "      <th>447313</th>\n",
       "      <td>1a4accf8-b57e-4c08-a07c-fe5db0f0a0bc</td>\n",
       "      <td>Luka Inc</td>\n",
       "      <td>5</td>\n",
       "      <td>July 16, 2015</td>\n",
       "      <td>Such a great thing, and great customer service...</td>\n",
       "      <td>0</td>\n",
       "      <td>NaN</td>\n",
       "      <td>NaN</td>\n",
       "    </tr>\n",
       "    <tr>\n",
       "      <th>447314</th>\n",
       "      <td>1a4accf8-b57e-4c08-a07c-fe5db0f0a0bc</td>\n",
       "      <td>Say It Forward</td>\n",
       "      <td>5</td>\n",
       "      <td>June 29, 2015</td>\n",
       "      <td>Just found Privy!  I can't wait to start recei...</td>\n",
       "      <td>0</td>\n",
       "      <td>NaN</td>\n",
       "      <td>NaN</td>\n",
       "    </tr>\n",
       "    <tr>\n",
       "      <th>447315</th>\n",
       "      <td>1a4accf8-b57e-4c08-a07c-fe5db0f0a0bc</td>\n",
       "      <td>Cupboard Distributing</td>\n",
       "      <td>5</td>\n",
       "      <td>June 26, 2015</td>\n",
       "      <td>Wow, overnight got tons of new email signups a...</td>\n",
       "      <td>0</td>\n",
       "      <td>NaN</td>\n",
       "      <td>NaN</td>\n",
       "    </tr>\n",
       "    <tr>\n",
       "      <th>447316</th>\n",
       "      <td>1a4accf8-b57e-4c08-a07c-fe5db0f0a0bc</td>\n",
       "      <td>Pure Pleasure Shop</td>\n",
       "      <td>5</td>\n",
       "      <td>June 25, 2015</td>\n",
       "      <td>We love Privy! Easy to use, clear call to acti...</td>\n",
       "      <td>0</td>\n",
       "      <td>NaN</td>\n",
       "      <td>NaN</td>\n",
       "    </tr>\n",
       "  </tbody>\n",
       "</table>\n",
       "</div>"
      ],
      "text/plain": [
       "                                      app_id                 author  rating  \\\n",
       "447312  1a4accf8-b57e-4c08-a07c-fe5db0f0a0bc             Life Force       2   \n",
       "447313  1a4accf8-b57e-4c08-a07c-fe5db0f0a0bc               Luka Inc       5   \n",
       "447314  1a4accf8-b57e-4c08-a07c-fe5db0f0a0bc         Say It Forward       5   \n",
       "447315  1a4accf8-b57e-4c08-a07c-fe5db0f0a0bc  Cupboard Distributing       5   \n",
       "447316  1a4accf8-b57e-4c08-a07c-fe5db0f0a0bc     Pure Pleasure Shop       5   \n",
       "\n",
       "              posted_at                                               body  \\\n",
       "447312  August 10, 2015  The app is cool and simple to use which I like...   \n",
       "447313    July 16, 2015  Such a great thing, and great customer service...   \n",
       "447314    June 29, 2015  Just found Privy!  I can't wait to start recei...   \n",
       "447315    June 26, 2015  Wow, overnight got tons of new email signups a...   \n",
       "447316    June 25, 2015  We love Privy! Easy to use, clear call to acti...   \n",
       "\n",
       "        helpful_count developer_reply developer_reply_posted_at  \n",
       "447312              0             NaN                       NaN  \n",
       "447313              0             NaN                       NaN  \n",
       "447314              0             NaN                       NaN  \n",
       "447315              0             NaN                       NaN  \n",
       "447316              0             NaN                       NaN  "
      ]
     },
     "execution_count": 4,
     "metadata": {},
     "output_type": "execute_result"
    }
   ],
   "source": [
    "# Similarly, print the last 5 rows to identify if any \n",
    "# non-data related content was tacked on at the bottom (e.g., comments)\n",
    "reviews_df.tail()"
   ]
  },
  {
   "cell_type": "markdown",
   "id": "77d6b184",
   "metadata": {},
   "source": [
    "Let's take this opportunity to modify the column names to a clearer description. I will modify the `posted_at`, `body`, `developer_reply` and `developer_reply_posted_at` to the following: `review_date`, `review_text`, `dev_reply`, and `dev_reply_date`, respectively."
   ]
  },
  {
   "cell_type": "code",
   "execution_count": 5,
   "id": "b4117853",
   "metadata": {
    "ExecuteTime": {
     "end_time": "2022-05-22T20:49:09.908290Z",
     "start_time": "2022-05-22T20:49:09.879270Z"
    }
   },
   "outputs": [],
   "source": [
    "reviews_df = reviews_df.rename(columns = {\"posted_at\":\"review_date\", \n",
    "                                          \"body\":\"review_text\",\n",
    "                                          \"developer_reply\":\"dev_reply_text\",\n",
    "                                          \"developer_reply_posted_at\":\"dev_reply_date\"})"
   ]
  },
  {
   "cell_type": "code",
   "execution_count": 6,
   "id": "d21dc9bd",
   "metadata": {
    "ExecuteTime": {
     "end_time": "2022-05-22T20:49:09.923996Z",
     "start_time": "2022-05-22T20:49:09.909998Z"
    }
   },
   "outputs": [
    {
     "data": {
      "text/html": [
       "<div>\n",
       "<style scoped>\n",
       "    .dataframe tbody tr th:only-of-type {\n",
       "        vertical-align: middle;\n",
       "    }\n",
       "\n",
       "    .dataframe tbody tr th {\n",
       "        vertical-align: top;\n",
       "    }\n",
       "\n",
       "    .dataframe thead th {\n",
       "        text-align: right;\n",
       "    }\n",
       "</style>\n",
       "<table border=\"1\" class=\"dataframe\">\n",
       "  <thead>\n",
       "    <tr style=\"text-align: right;\">\n",
       "      <th></th>\n",
       "      <th>app_id</th>\n",
       "      <th>author</th>\n",
       "      <th>rating</th>\n",
       "      <th>review_date</th>\n",
       "      <th>review_text</th>\n",
       "      <th>helpful_count</th>\n",
       "      <th>dev_reply_text</th>\n",
       "      <th>dev_reply_date</th>\n",
       "    </tr>\n",
       "  </thead>\n",
       "  <tbody>\n",
       "    <tr>\n",
       "      <th>0</th>\n",
       "      <td>b1da53a4-0474-4700-9620-bf386bc033fb</td>\n",
       "      <td>Consuela</td>\n",
       "      <td>5</td>\n",
       "      <td>August 6, 2020</td>\n",
       "      <td>Great and super fast customer service! Highly ...</td>\n",
       "      <td>0</td>\n",
       "      <td>NaN</td>\n",
       "      <td>NaN</td>\n",
       "    </tr>\n",
       "    <tr>\n",
       "      <th>1</th>\n",
       "      <td>b1da53a4-0474-4700-9620-bf386bc033fb</td>\n",
       "      <td>L'Atelier Global</td>\n",
       "      <td>5</td>\n",
       "      <td>August 4, 2020</td>\n",
       "      <td>Still setting up my store, and after initially...</td>\n",
       "      <td>0</td>\n",
       "      <td>NaN</td>\n",
       "      <td>NaN</td>\n",
       "    </tr>\n",
       "    <tr>\n",
       "      <th>2</th>\n",
       "      <td>b1da53a4-0474-4700-9620-bf386bc033fb</td>\n",
       "      <td>city'super E-Shop</td>\n",
       "      <td>5</td>\n",
       "      <td>August 4, 2020</td>\n",
       "      <td>This is an excellent search app, which they ha...</td>\n",
       "      <td>0</td>\n",
       "      <td>NaN</td>\n",
       "      <td>NaN</td>\n",
       "    </tr>\n",
       "    <tr>\n",
       "      <th>3</th>\n",
       "      <td>b1da53a4-0474-4700-9620-bf386bc033fb</td>\n",
       "      <td>PortableHandwashing.com</td>\n",
       "      <td>5</td>\n",
       "      <td>July 30, 2020</td>\n",
       "      <td>A+, great great great customer service! thanks...</td>\n",
       "      <td>0</td>\n",
       "      <td>NaN</td>\n",
       "      <td>NaN</td>\n",
       "    </tr>\n",
       "    <tr>\n",
       "      <th>4</th>\n",
       "      <td>b1da53a4-0474-4700-9620-bf386bc033fb</td>\n",
       "      <td>ICCTUNING</td>\n",
       "      <td>5</td>\n",
       "      <td>July 28, 2020</td>\n",
       "      <td>I'm begginig to use this app, the search engin...</td>\n",
       "      <td>0</td>\n",
       "      <td>NaN</td>\n",
       "      <td>NaN</td>\n",
       "    </tr>\n",
       "  </tbody>\n",
       "</table>\n",
       "</div>"
      ],
      "text/plain": [
       "                                 app_id                   author  rating  \\\n",
       "0  b1da53a4-0474-4700-9620-bf386bc033fb                 Consuela       5   \n",
       "1  b1da53a4-0474-4700-9620-bf386bc033fb         L'Atelier Global       5   \n",
       "2  b1da53a4-0474-4700-9620-bf386bc033fb        city'super E-Shop       5   \n",
       "3  b1da53a4-0474-4700-9620-bf386bc033fb  PortableHandwashing.com       5   \n",
       "4  b1da53a4-0474-4700-9620-bf386bc033fb                ICCTUNING       5   \n",
       "\n",
       "      review_date                                        review_text  \\\n",
       "0  August 6, 2020  Great and super fast customer service! Highly ...   \n",
       "1  August 4, 2020  Still setting up my store, and after initially...   \n",
       "2  August 4, 2020  This is an excellent search app, which they ha...   \n",
       "3   July 30, 2020  A+, great great great customer service! thanks...   \n",
       "4   July 28, 2020  I'm begginig to use this app, the search engin...   \n",
       "\n",
       "   helpful_count dev_reply_text dev_reply_date  \n",
       "0              0            NaN            NaN  \n",
       "1              0            NaN            NaN  \n",
       "2              0            NaN            NaN  \n",
       "3              0            NaN            NaN  \n",
       "4              0            NaN            NaN  "
      ]
     },
     "execution_count": 6,
     "metadata": {},
     "output_type": "execute_result"
    }
   ],
   "source": [
    "reviews_df.head()"
   ]
  },
  {
   "cell_type": "markdown",
   "id": "bd32194b",
   "metadata": {},
   "source": [
    "Check the shape of the data frame."
   ]
  },
  {
   "cell_type": "code",
   "execution_count": 7,
   "id": "92541c89",
   "metadata": {
    "ExecuteTime": {
     "end_time": "2022-05-22T20:49:09.939995Z",
     "start_time": "2022-05-22T20:49:09.924997Z"
    }
   },
   "outputs": [
    {
     "name": "stdout",
     "output_type": "stream",
     "text": [
      "The dataframe shape I am working with has 447317 rows and 8 columns\n"
     ]
    }
   ],
   "source": [
    "# Shape of the dataframe\n",
    "[nrows, ncols] = reviews_df.shape\n",
    "print(f\"The dataframe shape I am working with has {nrows} rows and {ncols} columns\")"
   ]
  },
  {
   "cell_type": "markdown",
   "id": "85561ff5",
   "metadata": {},
   "source": [
    "Retrieve a brief summary of the data types and non-null count within the dataframe."
   ]
  },
  {
   "cell_type": "code",
   "execution_count": 8,
   "id": "a2e7a301",
   "metadata": {
    "ExecuteTime": {
     "end_time": "2022-05-22T20:49:10.097011Z",
     "start_time": "2022-05-22T20:49:09.940999Z"
    },
    "scrolled": false
   },
   "outputs": [
    {
     "name": "stdout",
     "output_type": "stream",
     "text": [
      "<class 'pandas.core.frame.DataFrame'>\n",
      "RangeIndex: 447317 entries, 0 to 447316\n",
      "Data columns (total 8 columns):\n",
      " #   Column          Non-Null Count   Dtype \n",
      "---  ------          --------------   ----- \n",
      " 0   app_id          447317 non-null  object\n",
      " 1   author          447193 non-null  object\n",
      " 2   rating          447317 non-null  int64 \n",
      " 3   review_date     447317 non-null  object\n",
      " 4   review_text     447116 non-null  object\n",
      " 5   helpful_count   447317 non-null  int64 \n",
      " 6   dev_reply_text  47561 non-null   object\n",
      " 7   dev_reply_date  47561 non-null   object\n",
      "dtypes: int64(2), object(6)\n",
      "memory usage: 27.3+ MB\n"
     ]
    }
   ],
   "source": [
    "# Quick summary of dataframe's columns, data type, and non-null counts\n",
    "reviews_df.info()"
   ]
  },
  {
   "cell_type": "code",
   "execution_count": 9,
   "id": "54215bf3",
   "metadata": {
    "ExecuteTime": {
     "end_time": "2022-05-22T20:49:10.570761Z",
     "start_time": "2022-05-22T20:49:10.098014Z"
    },
    "scrolled": true
   },
   "outputs": [
    {
     "data": {
      "text/plain": [
       "app_id              3733\n",
       "author            299314\n",
       "rating                 5\n",
       "review_date         3190\n",
       "review_text       441166\n",
       "helpful_count         54\n",
       "dev_reply_text     37262\n",
       "dev_reply_date       550\n",
       "dtype: int64"
      ]
     },
     "execution_count": 9,
     "metadata": {},
     "output_type": "execute_result"
    }
   ],
   "source": [
    "reviews_df.nunique()"
   ]
  },
  {
   "cell_type": "markdown",
   "id": "30407b9a",
   "metadata": {},
   "source": [
    "#### Summary\n",
    "- There is approximately $\\approx$ 3,700 unique `app_id`s with ratings and $\\approx$ 440k reviews in total.\n",
    "- There is $\\approx$ 300k `author`s. It is possible that each author may have posted reviews to other apps as well.\n",
    "- The `rating` and `helpful_count` columns are numeric data types; what I would expect.\n",
    "- The `review_date` and `dev_reply_date` are dates and need to be converted from an object data type to datetime data type."
   ]
  },
  {
   "cell_type": "markdown",
   "id": "ca7e35a1",
   "metadata": {},
   "source": [
    "##  Data Preparation and Cleaning\n",
    "***"
   ]
  },
  {
   "cell_type": "markdown",
   "id": "6f9d72ae",
   "metadata": {},
   "source": [
    "I will perform the following data preparation and cleaning steps in this section:\n",
    "\n",
    "- Fix Data Type Column\n",
    "- Remove Duplicate Rows\n",
    "- Remove NaNs/NaTs\n"
   ]
  },
  {
   "cell_type": "markdown",
   "id": "3b08899e",
   "metadata": {},
   "source": [
    "### Fix Data Type Column"
   ]
  },
  {
   "cell_type": "markdown",
   "id": "cbdf614b",
   "metadata": {},
   "source": [
    "Next I will take the `review_date` column and convert it from an object type to a datetime data type."
   ]
  },
  {
   "cell_type": "code",
   "execution_count": 10,
   "id": "2ddafc53",
   "metadata": {
    "ExecuteTime": {
     "end_time": "2022-05-22T20:49:10.586333Z",
     "start_time": "2022-05-22T20:49:10.573263Z"
    }
   },
   "outputs": [
    {
     "data": {
      "text/plain": [
       "0    August 6, 2020\n",
       "1    August 4, 2020\n",
       "2    August 4, 2020\n",
       "3     July 30, 2020\n",
       "4     July 28, 2020\n",
       "Name: review_date, dtype: object"
      ]
     },
     "execution_count": 10,
     "metadata": {},
     "output_type": "execute_result"
    }
   ],
   "source": [
    "# The dtype is an object so I want to convert it to datetime\n",
    "\n",
    "# Take a quick peek at the dates current format\n",
    "reviews_df['review_date'].head()"
   ]
  },
  {
   "cell_type": "code",
   "execution_count": 11,
   "id": "4f200f95",
   "metadata": {
    "ExecuteTime": {
     "end_time": "2022-05-22T20:49:11.080484Z",
     "start_time": "2022-05-22T20:49:10.588313Z"
    },
    "scrolled": false
   },
   "outputs": [
    {
     "name": "stdout",
     "output_type": "stream",
     "text": [
      "<class 'pandas.core.frame.DataFrame'>\n",
      "RangeIndex: 447317 entries, 0 to 447316\n",
      "Data columns (total 8 columns):\n",
      " #   Column          Non-Null Count   Dtype         \n",
      "---  ------          --------------   -----         \n",
      " 0   app_id          447317 non-null  object        \n",
      " 1   author          447193 non-null  object        \n",
      " 2   rating          447317 non-null  int64         \n",
      " 3   review_date     447317 non-null  datetime64[ns]\n",
      " 4   review_text     447116 non-null  object        \n",
      " 5   helpful_count   447317 non-null  int64         \n",
      " 6   dev_reply_text  47561 non-null   object        \n",
      " 7   dev_reply_date  47561 non-null   object        \n",
      "dtypes: datetime64[ns](1), int64(2), object(5)\n",
      "memory usage: 27.3+ MB\n"
     ]
    }
   ],
   "source": [
    "# Convert to datetime data type\n",
    "reviews_df['review_date'] = pd.to_datetime(reviews_df['review_date']) \n",
    "\n",
    "# Check to see the datatype change has been implemented\n",
    "reviews_df.info()"
   ]
  },
  {
   "cell_type": "markdown",
   "id": "15a23c48",
   "metadata": {},
   "source": [
    "Let's get a brief overview on the range of dates the reviews were created."
   ]
  },
  {
   "cell_type": "code",
   "execution_count": 12,
   "id": "50b04548",
   "metadata": {
    "ExecuteTime": {
     "end_time": "2022-05-22T20:49:11.143972Z",
     "start_time": "2022-05-22T20:49:11.082892Z"
    }
   },
   "outputs": [
    {
     "data": {
      "text/plain": [
       "217750   2009-06-02\n",
       "217554   2009-06-02\n",
       "217536   2009-06-03\n",
       "217535   2009-06-04\n",
       "217520   2009-06-12\n",
       "            ...    \n",
       "391451   2020-08-30\n",
       "367059   2020-08-30\n",
       "147979   2020-08-30\n",
       "38604    2020-08-30\n",
       "111661   2020-08-30\n",
       "Name: review_date, Length: 447317, dtype: datetime64[ns]"
      ]
     },
     "execution_count": 12,
     "metadata": {},
     "output_type": "execute_result"
    }
   ],
   "source": [
    "reviews_df['review_date'].sort_values()"
   ]
  },
  {
   "cell_type": "markdown",
   "id": "082e2b49",
   "metadata": {},
   "source": [
    "The reviews date back from June of 2009, approximately around the time when the Shopify App store opened, up until when the date the reviews were gathered, August 2020."
   ]
  },
  {
   "cell_type": "markdown",
   "id": "9c4e3f69",
   "metadata": {},
   "source": [
    "I will do the same datetime conversion for `dev_reply_date` column."
   ]
  },
  {
   "cell_type": "code",
   "execution_count": 13,
   "id": "f36b2a15",
   "metadata": {
    "ExecuteTime": {
     "end_time": "2022-05-22T20:49:11.175455Z",
     "start_time": "2022-05-22T20:49:11.144952Z"
    }
   },
   "outputs": [
    {
     "data": {
      "text/plain": [
       "30    August 25, 2020\n",
       "38      June 25, 2020\n",
       "43    August 17, 2020\n",
       "48       June 2, 2020\n",
       "71     April 23, 2020\n",
       "Name: dev_reply_date, dtype: object"
      ]
     },
     "execution_count": 13,
     "metadata": {},
     "output_type": "execute_result"
    }
   ],
   "source": [
    "# Take a glimpe into dev_reply_date that contains dev responses (i.e., not NaN)\n",
    "reviews_df[~reviews_df['dev_reply_date'].isna()]['dev_reply_date'].head()"
   ]
  },
  {
   "cell_type": "code",
   "execution_count": 14,
   "id": "df484c0c",
   "metadata": {
    "ExecuteTime": {
     "end_time": "2022-05-22T20:49:11.301601Z",
     "start_time": "2022-05-22T20:49:11.177439Z"
    }
   },
   "outputs": [],
   "source": [
    "# Convert to datetime data type\n",
    "reviews_df['dev_reply_date'] = pd.to_datetime(reviews_df['dev_reply_date']) "
   ]
  },
  {
   "cell_type": "code",
   "execution_count": 15,
   "id": "37d04a67",
   "metadata": {
    "ExecuteTime": {
     "end_time": "2022-05-22T20:49:11.428434Z",
     "start_time": "2022-05-22T20:49:11.303603Z"
    },
    "scrolled": false
   },
   "outputs": [
    {
     "name": "stdout",
     "output_type": "stream",
     "text": [
      "<class 'pandas.core.frame.DataFrame'>\n",
      "RangeIndex: 447317 entries, 0 to 447316\n",
      "Data columns (total 8 columns):\n",
      " #   Column          Non-Null Count   Dtype         \n",
      "---  ------          --------------   -----         \n",
      " 0   app_id          447317 non-null  object        \n",
      " 1   author          447193 non-null  object        \n",
      " 2   rating          447317 non-null  int64         \n",
      " 3   review_date     447317 non-null  datetime64[ns]\n",
      " 4   review_text     447116 non-null  object        \n",
      " 5   helpful_count   447317 non-null  int64         \n",
      " 6   dev_reply_text  47561 non-null   object        \n",
      " 7   dev_reply_date  47561 non-null   datetime64[ns]\n",
      "dtypes: datetime64[ns](2), int64(2), object(4)\n",
      "memory usage: 27.3+ MB\n"
     ]
    }
   ],
   "source": [
    "# Check to see the datatype change has been implemented\n",
    "reviews_df.info()"
   ]
  },
  {
   "cell_type": "markdown",
   "id": "a74f23de",
   "metadata": {},
   "source": [
    "I can confirm that both date columns have been converted to `datetime` data types."
   ]
  },
  {
   "cell_type": "markdown",
   "id": "3652071e",
   "metadata": {},
   "source": [
    "Let's get a brief overview on the range of dates the developer replies occurred."
   ]
  },
  {
   "cell_type": "code",
   "execution_count": 16,
   "id": "f61a08d0",
   "metadata": {
    "ExecuteTime": {
     "end_time": "2022-05-22T20:49:11.443906Z",
     "start_time": "2022-05-22T20:49:11.430436Z"
    }
   },
   "outputs": [
    {
     "data": {
      "text/plain": [
       "117706   2019-02-28\n",
       "400398   2019-02-28\n",
       "400384   2019-02-28\n",
       "400383   2019-02-28\n",
       "400368   2019-02-28\n",
       "            ...    \n",
       "101253   2020-08-30\n",
       "45925    2020-08-30\n",
       "27118    2020-08-30\n",
       "27102    2020-08-30\n",
       "2746     2020-08-30\n",
       "Name: dev_reply_date, Length: 47561, dtype: datetime64[ns]"
      ]
     },
     "execution_count": 16,
     "metadata": {},
     "output_type": "execute_result"
    }
   ],
   "source": [
    "# Filter out the missing developer reply date values that were introduced\n",
    "# when converting the column data type to datetime and then sort the dates\n",
    "reviews_df['dev_reply_date'][reviews_df['dev_reply_date'].notna()].sort_values()"
   ]
  },
  {
   "cell_type": "markdown",
   "id": "2f2c5a44",
   "metadata": {},
   "source": [
    "Interestingly, developer responses started appearing in the end of February 2019. This indicates it may have been a relatively new feature to the app store that enabled app developers to respond to app reviews."
   ]
  },
  {
   "cell_type": "markdown",
   "id": "901a554d",
   "metadata": {},
   "source": [
    "### Remove Duplicate Rows"
   ]
  },
  {
   "cell_type": "markdown",
   "id": "1274e3d8",
   "metadata": {},
   "source": [
    "I will check for redundant information and remove them."
   ]
  },
  {
   "cell_type": "code",
   "execution_count": 17,
   "id": "637ed671",
   "metadata": {
    "ExecuteTime": {
     "end_time": "2022-05-22T20:49:12.315460Z",
     "start_time": "2022-05-22T20:49:11.445891Z"
    },
    "scrolled": false
   },
   "outputs": [
    {
     "name": "stdout",
     "output_type": "stream",
     "text": [
      "False    447298\n",
      "True         19\n",
      "dtype: int64\n"
     ]
    },
    {
     "data": {
      "text/plain": [
       "False    99.995752\n",
       "True      0.004248\n",
       "dtype: float64"
      ]
     },
     "execution_count": 17,
     "metadata": {},
     "output_type": "execute_result"
    }
   ],
   "source": [
    "# Check for duplicate row data and convert the total true/false into percentage\n",
    "print(reviews_df.duplicated().value_counts())\n",
    "reviews_df.duplicated().value_counts(normalize = True) * 100"
   ]
  },
  {
   "cell_type": "markdown",
   "id": "808fcbba",
   "metadata": {},
   "source": [
    "Take a glimpse into the 19 duplicate rows."
   ]
  },
  {
   "cell_type": "code",
   "execution_count": 18,
   "id": "d86aebce",
   "metadata": {
    "ExecuteTime": {
     "end_time": "2022-05-22T20:49:12.760038Z",
     "start_time": "2022-05-22T20:49:12.317292Z"
    },
    "scrolled": true
   },
   "outputs": [
    {
     "data": {
      "text/html": [
       "<div>\n",
       "<style scoped>\n",
       "    .dataframe tbody tr th:only-of-type {\n",
       "        vertical-align: middle;\n",
       "    }\n",
       "\n",
       "    .dataframe tbody tr th {\n",
       "        vertical-align: top;\n",
       "    }\n",
       "\n",
       "    .dataframe thead th {\n",
       "        text-align: right;\n",
       "    }\n",
       "</style>\n",
       "<table border=\"1\" class=\"dataframe\">\n",
       "  <thead>\n",
       "    <tr style=\"text-align: right;\">\n",
       "      <th></th>\n",
       "      <th>app_id</th>\n",
       "      <th>author</th>\n",
       "      <th>rating</th>\n",
       "      <th>review_date</th>\n",
       "      <th>review_text</th>\n",
       "      <th>helpful_count</th>\n",
       "      <th>dev_reply_text</th>\n",
       "      <th>dev_reply_date</th>\n",
       "    </tr>\n",
       "  </thead>\n",
       "  <tbody>\n",
       "    <tr>\n",
       "      <th>12137</th>\n",
       "      <td>daf33223-bc38-433a-a97d-55bdef98b006</td>\n",
       "      <td>locosmetic.com</td>\n",
       "      <td>5</td>\n",
       "      <td>2012-03-30</td>\n",
       "      <td>This app is really amazing. I've never realize...</td>\n",
       "      <td>0</td>\n",
       "      <td>NaN</td>\n",
       "      <td>NaT</td>\n",
       "    </tr>\n",
       "    <tr>\n",
       "      <th>12170</th>\n",
       "      <td>daf33223-bc38-433a-a97d-55bdef98b006</td>\n",
       "      <td>alertwine</td>\n",
       "      <td>5</td>\n",
       "      <td>2012-03-22</td>\n",
       "      <td>This App pays itself. It's great for contactin...</td>\n",
       "      <td>0</td>\n",
       "      <td>NaN</td>\n",
       "      <td>NaT</td>\n",
       "    </tr>\n",
       "    <tr>\n",
       "      <th>19437</th>\n",
       "      <td>d3883e47-4a47-492b-af88-6896b8ae9ac7</td>\n",
       "      <td>SmoothieBox</td>\n",
       "      <td>5</td>\n",
       "      <td>2019-05-30</td>\n",
       "      <td>ReCharge has some of the best Shopify app supp...</td>\n",
       "      <td>0</td>\n",
       "      <td>NaN</td>\n",
       "      <td>NaT</td>\n",
       "    </tr>\n",
       "    <tr>\n",
       "      <th>110734</th>\n",
       "      <td>c5595105-d89a-4869-99c9-7f92c2cf28a0</td>\n",
       "      <td>UPAN The Cast Iron Sausage Fry Pan</td>\n",
       "      <td>5</td>\n",
       "      <td>2020-02-25</td>\n",
       "      <td>Great Service, if you dont see exactly what yo...</td>\n",
       "      <td>0</td>\n",
       "      <td>NaN</td>\n",
       "      <td>NaT</td>\n",
       "    </tr>\n",
       "    <tr>\n",
       "      <th>110754</th>\n",
       "      <td>c5595105-d89a-4869-99c9-7f92c2cf28a0</td>\n",
       "      <td>UPAN The Cast Iron Sausage Fry Pan</td>\n",
       "      <td>5</td>\n",
       "      <td>2020-02-25</td>\n",
       "      <td>Great Service, if you dont see exactly what yo...</td>\n",
       "      <td>0</td>\n",
       "      <td>NaN</td>\n",
       "      <td>NaT</td>\n",
       "    </tr>\n",
       "    <tr>\n",
       "      <th>111175</th>\n",
       "      <td>7b35f515-1a6f-4324-87a9-0a81318478b1</td>\n",
       "      <td>Vaso Roto</td>\n",
       "      <td>1</td>\n",
       "      <td>2019-03-11</td>\n",
       "      <td>La app dejó de funcionar, no deja abrir ningún...</td>\n",
       "      <td>0</td>\n",
       "      <td>NaN</td>\n",
       "      <td>NaT</td>\n",
       "    </tr>\n",
       "    <tr>\n",
       "      <th>131583</th>\n",
       "      <td>2bb4f15f-8a1e-4c51-a837-b7ca306c55e6</td>\n",
       "      <td>Fo Shizzle My Fizzle</td>\n",
       "      <td>1</td>\n",
       "      <td>2020-07-09</td>\n",
       "      <td>Hate to say it, but this is absolute garbage. ...</td>\n",
       "      <td>0</td>\n",
       "      <td>Thank you for sharing your feedback. I'd like ...</td>\n",
       "      <td>2020-08-04</td>\n",
       "    </tr>\n",
       "    <tr>\n",
       "      <th>144473</th>\n",
       "      <td>2a67b721-009c-472e-b25c-5d2ba2ba8953</td>\n",
       "      <td>ourCommonplace</td>\n",
       "      <td>5</td>\n",
       "      <td>2020-06-22</td>\n",
       "      <td>Great app and good support. Would recommend to...</td>\n",
       "      <td>0</td>\n",
       "      <td>NaN</td>\n",
       "      <td>NaT</td>\n",
       "    </tr>\n",
       "    <tr>\n",
       "      <th>146178</th>\n",
       "      <td>238bea68-28c8-4623-8bc5-2053ff218e96</td>\n",
       "      <td>Original Oil &amp; Acrylic Paintings by The Painti...</td>\n",
       "      <td>5</td>\n",
       "      <td>2013-02-27</td>\n",
       "      <td>Great app! Really quick and easy to use. Alex ...</td>\n",
       "      <td>0</td>\n",
       "      <td>NaN</td>\n",
       "      <td>NaT</td>\n",
       "    </tr>\n",
       "    <tr>\n",
       "      <th>168663</th>\n",
       "      <td>00ad6b55-3a26-42be-a185-ca3bf2a361dc</td>\n",
       "      <td>Best Branding</td>\n",
       "      <td>5</td>\n",
       "      <td>2014-04-05</td>\n",
       "      <td>Product Options is a fantastic app, it offers ...</td>\n",
       "      <td>0</td>\n",
       "      <td>NaN</td>\n",
       "      <td>NaT</td>\n",
       "    </tr>\n",
       "    <tr>\n",
       "      <th>168664</th>\n",
       "      <td>00ad6b55-3a26-42be-a185-ca3bf2a361dc</td>\n",
       "      <td>Best Branding</td>\n",
       "      <td>5</td>\n",
       "      <td>2014-04-05</td>\n",
       "      <td>Product Options is a fantastic app, it offers ...</td>\n",
       "      <td>0</td>\n",
       "      <td>NaN</td>\n",
       "      <td>NaT</td>\n",
       "    </tr>\n",
       "    <tr>\n",
       "      <th>261060</th>\n",
       "      <td>c02e806c-7770-48f7-9d92-d34ab68a2a51</td>\n",
       "      <td>Ticktock Guru</td>\n",
       "      <td>1</td>\n",
       "      <td>2018-10-08</td>\n",
       "      <td>This app works very poorly for unique used or ...</td>\n",
       "      <td>0</td>\n",
       "      <td>NaN</td>\n",
       "      <td>NaT</td>\n",
       "    </tr>\n",
       "    <tr>\n",
       "      <th>271714</th>\n",
       "      <td>47655af1-e0e4-42b3-b154-1979a10ca5b0</td>\n",
       "      <td>Snug Bug Boutique</td>\n",
       "      <td>5</td>\n",
       "      <td>2019-04-02</td>\n",
       "      <td>I like the apps because the apps are very easy...</td>\n",
       "      <td>0</td>\n",
       "      <td>NaN</td>\n",
       "      <td>NaT</td>\n",
       "    </tr>\n",
       "    <tr>\n",
       "      <th>369876</th>\n",
       "      <td>8d28ced2-f6b9-4884-8f77-37b2f2253d94</td>\n",
       "      <td>Selloutsale</td>\n",
       "      <td>5</td>\n",
       "      <td>2018-03-13</td>\n",
       "      <td>Easy to use app, just installing now to see re...</td>\n",
       "      <td>0</td>\n",
       "      <td>NaN</td>\n",
       "      <td>NaT</td>\n",
       "    </tr>\n",
       "    <tr>\n",
       "      <th>418598</th>\n",
       "      <td>da066a0b-53fc-42a2-b329-e0cce559f7ea</td>\n",
       "      <td>Karma Konxeptz</td>\n",
       "      <td>5</td>\n",
       "      <td>2018-08-07</td>\n",
       "      <td>Great app. Currently on a free plan but hoping...</td>\n",
       "      <td>0</td>\n",
       "      <td>NaN</td>\n",
       "      <td>NaT</td>\n",
       "    </tr>\n",
       "    <tr>\n",
       "      <th>425493</th>\n",
       "      <td>1a4accf8-b57e-4c08-a07c-fe5db0f0a0bc</td>\n",
       "      <td>theekevinfuller</td>\n",
       "      <td>3</td>\n",
       "      <td>2018-10-07</td>\n",
       "      <td>So far so good we'll see how things go with si...</td>\n",
       "      <td>0</td>\n",
       "      <td>NaN</td>\n",
       "      <td>NaT</td>\n",
       "    </tr>\n",
       "    <tr>\n",
       "      <th>425539</th>\n",
       "      <td>1a4accf8-b57e-4c08-a07c-fe5db0f0a0bc</td>\n",
       "      <td>theekevinfuller</td>\n",
       "      <td>3</td>\n",
       "      <td>2018-10-07</td>\n",
       "      <td>So far so good we'll see how things go with si...</td>\n",
       "      <td>0</td>\n",
       "      <td>NaN</td>\n",
       "      <td>NaT</td>\n",
       "    </tr>\n",
       "    <tr>\n",
       "      <th>425540</th>\n",
       "      <td>1a4accf8-b57e-4c08-a07c-fe5db0f0a0bc</td>\n",
       "      <td>theekevinfuller</td>\n",
       "      <td>3</td>\n",
       "      <td>2018-10-07</td>\n",
       "      <td>So far so good we'll see how things go with si...</td>\n",
       "      <td>0</td>\n",
       "      <td>NaN</td>\n",
       "      <td>NaT</td>\n",
       "    </tr>\n",
       "    <tr>\n",
       "      <th>425541</th>\n",
       "      <td>1a4accf8-b57e-4c08-a07c-fe5db0f0a0bc</td>\n",
       "      <td>theekevinfuller</td>\n",
       "      <td>3</td>\n",
       "      <td>2018-10-07</td>\n",
       "      <td>So far so good we'll see how things go with si...</td>\n",
       "      <td>0</td>\n",
       "      <td>NaN</td>\n",
       "      <td>NaT</td>\n",
       "    </tr>\n",
       "  </tbody>\n",
       "</table>\n",
       "</div>"
      ],
      "text/plain": [
       "                                      app_id  \\\n",
       "12137   daf33223-bc38-433a-a97d-55bdef98b006   \n",
       "12170   daf33223-bc38-433a-a97d-55bdef98b006   \n",
       "19437   d3883e47-4a47-492b-af88-6896b8ae9ac7   \n",
       "110734  c5595105-d89a-4869-99c9-7f92c2cf28a0   \n",
       "110754  c5595105-d89a-4869-99c9-7f92c2cf28a0   \n",
       "111175  7b35f515-1a6f-4324-87a9-0a81318478b1   \n",
       "131583  2bb4f15f-8a1e-4c51-a837-b7ca306c55e6   \n",
       "144473  2a67b721-009c-472e-b25c-5d2ba2ba8953   \n",
       "146178  238bea68-28c8-4623-8bc5-2053ff218e96   \n",
       "168663  00ad6b55-3a26-42be-a185-ca3bf2a361dc   \n",
       "168664  00ad6b55-3a26-42be-a185-ca3bf2a361dc   \n",
       "261060  c02e806c-7770-48f7-9d92-d34ab68a2a51   \n",
       "271714  47655af1-e0e4-42b3-b154-1979a10ca5b0   \n",
       "369876  8d28ced2-f6b9-4884-8f77-37b2f2253d94   \n",
       "418598  da066a0b-53fc-42a2-b329-e0cce559f7ea   \n",
       "425493  1a4accf8-b57e-4c08-a07c-fe5db0f0a0bc   \n",
       "425539  1a4accf8-b57e-4c08-a07c-fe5db0f0a0bc   \n",
       "425540  1a4accf8-b57e-4c08-a07c-fe5db0f0a0bc   \n",
       "425541  1a4accf8-b57e-4c08-a07c-fe5db0f0a0bc   \n",
       "\n",
       "                                                   author  rating review_date  \\\n",
       "12137                                      locosmetic.com       5  2012-03-30   \n",
       "12170                                           alertwine       5  2012-03-22   \n",
       "19437                                         SmoothieBox       5  2019-05-30   \n",
       "110734                 UPAN The Cast Iron Sausage Fry Pan       5  2020-02-25   \n",
       "110754                 UPAN The Cast Iron Sausage Fry Pan       5  2020-02-25   \n",
       "111175                                          Vaso Roto       1  2019-03-11   \n",
       "131583                               Fo Shizzle My Fizzle       1  2020-07-09   \n",
       "144473                                     ourCommonplace       5  2020-06-22   \n",
       "146178  Original Oil & Acrylic Paintings by The Painti...       5  2013-02-27   \n",
       "168663                                      Best Branding       5  2014-04-05   \n",
       "168664                                      Best Branding       5  2014-04-05   \n",
       "261060                                      Ticktock Guru       1  2018-10-08   \n",
       "271714                                  Snug Bug Boutique       5  2019-04-02   \n",
       "369876                                        Selloutsale       5  2018-03-13   \n",
       "418598                                     Karma Konxeptz       5  2018-08-07   \n",
       "425493                                    theekevinfuller       3  2018-10-07   \n",
       "425539                                    theekevinfuller       3  2018-10-07   \n",
       "425540                                    theekevinfuller       3  2018-10-07   \n",
       "425541                                    theekevinfuller       3  2018-10-07   \n",
       "\n",
       "                                              review_text  helpful_count  \\\n",
       "12137   This app is really amazing. I've never realize...              0   \n",
       "12170   This App pays itself. It's great for contactin...              0   \n",
       "19437   ReCharge has some of the best Shopify app supp...              0   \n",
       "110734  Great Service, if you dont see exactly what yo...              0   \n",
       "110754  Great Service, if you dont see exactly what yo...              0   \n",
       "111175  La app dejó de funcionar, no deja abrir ningún...              0   \n",
       "131583  Hate to say it, but this is absolute garbage. ...              0   \n",
       "144473  Great app and good support. Would recommend to...              0   \n",
       "146178  Great app! Really quick and easy to use. Alex ...              0   \n",
       "168663  Product Options is a fantastic app, it offers ...              0   \n",
       "168664  Product Options is a fantastic app, it offers ...              0   \n",
       "261060  This app works very poorly for unique used or ...              0   \n",
       "271714  I like the apps because the apps are very easy...              0   \n",
       "369876  Easy to use app, just installing now to see re...              0   \n",
       "418598  Great app. Currently on a free plan but hoping...              0   \n",
       "425493  So far so good we'll see how things go with si...              0   \n",
       "425539  So far so good we'll see how things go with si...              0   \n",
       "425540  So far so good we'll see how things go with si...              0   \n",
       "425541  So far so good we'll see how things go with si...              0   \n",
       "\n",
       "                                           dev_reply_text dev_reply_date  \n",
       "12137                                                 NaN            NaT  \n",
       "12170                                                 NaN            NaT  \n",
       "19437                                                 NaN            NaT  \n",
       "110734                                                NaN            NaT  \n",
       "110754                                                NaN            NaT  \n",
       "111175                                                NaN            NaT  \n",
       "131583  Thank you for sharing your feedback. I'd like ...     2020-08-04  \n",
       "144473                                                NaN            NaT  \n",
       "146178                                                NaN            NaT  \n",
       "168663                                                NaN            NaT  \n",
       "168664                                                NaN            NaT  \n",
       "261060                                                NaN            NaT  \n",
       "271714                                                NaN            NaT  \n",
       "369876                                                NaN            NaT  \n",
       "418598                                                NaN            NaT  \n",
       "425493                                                NaN            NaT  \n",
       "425539                                                NaN            NaT  \n",
       "425540                                                NaN            NaT  \n",
       "425541                                                NaN            NaT  "
      ]
     },
     "execution_count": 18,
     "metadata": {},
     "output_type": "execute_result"
    }
   ],
   "source": [
    "reviews_df[reviews_df.duplicated()]"
   ]
  },
  {
   "cell_type": "markdown",
   "id": "c321f098",
   "metadata": {},
   "source": [
    "I observed a very small number ofthe dataset contains duplicate rows. I will remove them and then check the new shape of the dataframe to confirm the changes are made."
   ]
  },
  {
   "cell_type": "code",
   "execution_count": 19,
   "id": "5c28abda",
   "metadata": {
    "ExecuteTime": {
     "end_time": "2022-05-22T20:49:13.283592Z",
     "start_time": "2022-05-22T20:49:12.761567Z"
    },
    "scrolled": true
   },
   "outputs": [],
   "source": [
    "# By default, all duplicates are dropped except the first occurrence.\n",
    "reviews_df.drop_duplicates(inplace=True)\n",
    "\n",
    "# Reset the index values of the dataframe to account for all the data\n",
    "# cleaning in the previous steps\n",
    "reviews_df = reviews_df.reset_index(drop = True)"
   ]
  },
  {
   "cell_type": "code",
   "execution_count": 20,
   "id": "9f2d2952",
   "metadata": {
    "ExecuteTime": {
     "end_time": "2022-05-22T20:49:13.299592Z",
     "start_time": "2022-05-22T20:49:13.284593Z"
    }
   },
   "outputs": [
    {
     "name": "stdout",
     "output_type": "stream",
     "text": [
      "The NEW dataframe shape I am working with now has 447298 rows and 8 columns\n"
     ]
    }
   ],
   "source": [
    "# Shape of the NEW dataframe\n",
    "[nrows_new, ncols_new] = reviews_df.shape\n",
    "print(f\"The NEW dataframe shape I am working with now has {nrows_new} rows and {ncols_new} columns\")"
   ]
  },
  {
   "cell_type": "code",
   "execution_count": 21,
   "id": "1dcc46dc",
   "metadata": {
    "ExecuteTime": {
     "end_time": "2022-05-22T20:49:13.742237Z",
     "start_time": "2022-05-22T20:49:13.301596Z"
    },
    "scrolled": true
   },
   "outputs": [
    {
     "name": "stdout",
     "output_type": "stream",
     "text": [
      "The NEW dataframe has 0 number of duplicated rows\n"
     ]
    }
   ],
   "source": [
    "# Confirm I have no more duplicated row values\n",
    "print(f\"The NEW dataframe has {reviews_df.duplicated().sum()} number of duplicated rows\")"
   ]
  },
  {
   "cell_type": "markdown",
   "id": "fe3bc08b",
   "metadata": {},
   "source": [
    "### Remove NaN/NaT values"
   ]
  },
  {
   "cell_type": "markdown",
   "id": "3fa4f322",
   "metadata": {},
   "source": [
    "Let's now check for `NaN` and `NaT` values. Note that `NaT` values were introduced as a result of the `datetime` data type conversion. `NaT` refer to missing dates."
   ]
  },
  {
   "cell_type": "code",
   "execution_count": 22,
   "id": "17b74693",
   "metadata": {
    "ExecuteTime": {
     "end_time": "2022-05-22T20:49:13.853784Z",
     "start_time": "2022-05-22T20:49:13.744239Z"
    },
    "scrolled": true
   },
   "outputs": [
    {
     "data": {
      "text/html": [
       "<div>\n",
       "<style scoped>\n",
       "    .dataframe tbody tr th:only-of-type {\n",
       "        vertical-align: middle;\n",
       "    }\n",
       "\n",
       "    .dataframe tbody tr th {\n",
       "        vertical-align: top;\n",
       "    }\n",
       "\n",
       "    .dataframe thead th {\n",
       "        text-align: right;\n",
       "    }\n",
       "</style>\n",
       "<table border=\"1\" class=\"dataframe\">\n",
       "  <thead>\n",
       "    <tr style=\"text-align: right;\">\n",
       "      <th></th>\n",
       "      <th>nan_count</th>\n",
       "      <th>nan_percent</th>\n",
       "    </tr>\n",
       "  </thead>\n",
       "  <tbody>\n",
       "    <tr>\n",
       "      <th>app_id</th>\n",
       "      <td>0</td>\n",
       "      <td>0.00</td>\n",
       "    </tr>\n",
       "    <tr>\n",
       "      <th>author</th>\n",
       "      <td>124</td>\n",
       "      <td>0.03</td>\n",
       "    </tr>\n",
       "    <tr>\n",
       "      <th>rating</th>\n",
       "      <td>0</td>\n",
       "      <td>0.00</td>\n",
       "    </tr>\n",
       "    <tr>\n",
       "      <th>review_date</th>\n",
       "      <td>0</td>\n",
       "      <td>0.00</td>\n",
       "    </tr>\n",
       "    <tr>\n",
       "      <th>review_text</th>\n",
       "      <td>201</td>\n",
       "      <td>0.04</td>\n",
       "    </tr>\n",
       "    <tr>\n",
       "      <th>helpful_count</th>\n",
       "      <td>0</td>\n",
       "      <td>0.00</td>\n",
       "    </tr>\n",
       "    <tr>\n",
       "      <th>dev_reply_text</th>\n",
       "      <td>399738</td>\n",
       "      <td>89.37</td>\n",
       "    </tr>\n",
       "    <tr>\n",
       "      <th>dev_reply_date</th>\n",
       "      <td>399738</td>\n",
       "      <td>89.37</td>\n",
       "    </tr>\n",
       "  </tbody>\n",
       "</table>\n",
       "</div>"
      ],
      "text/plain": [
       "                nan_count  nan_percent\n",
       "app_id                  0         0.00\n",
       "author                124         0.03\n",
       "rating                  0         0.00\n",
       "review_date             0         0.00\n",
       "review_text           201         0.04\n",
       "helpful_count           0         0.00\n",
       "dev_reply_text     399738        89.37\n",
       "dev_reply_date     399738        89.37"
      ]
     },
     "execution_count": 22,
     "metadata": {},
     "output_type": "execute_result"
    }
   ],
   "source": [
    "# Total number of NaN/NaT values in the dataframe\n",
    "nan_df = pd.DataFrame(reviews_df.isna().sum(), columns = {\"nan_count\"})\n",
    "nan_df['nan_percent'] = round(nan_df['nan_count'] / len(reviews_df) * 100, 2)\n",
    "nan_df"
   ]
  },
  {
   "cell_type": "markdown",
   "id": "bedb8e7b",
   "metadata": {},
   "source": [
    "By calculating the proportions of `NaN` and `NaT` values in their corresponding columns:\n",
    "\n",
    "- I observe trivial proportions of `author` and `review_text` are empty.\n",
    "- Approximately $\\approx$ 89% of reviews do not have a developer response. I will explore this further in the next section."
   ]
  },
  {
   "cell_type": "markdown",
   "id": "7e0c2512",
   "metadata": {},
   "source": [
    "Since I am interested in using the `review_text` as features for downstream sentiment analysis and topic modeling, I will remove/drop the rows with `NaN` in the `review_text` column."
   ]
  },
  {
   "cell_type": "code",
   "execution_count": 23,
   "id": "4dc573e5",
   "metadata": {
    "ExecuteTime": {
     "end_time": "2022-05-22T20:49:13.917625Z",
     "start_time": "2022-05-22T20:49:13.855771Z"
    }
   },
   "outputs": [
    {
     "data": {
      "text/html": [
       "<div>\n",
       "<style scoped>\n",
       "    .dataframe tbody tr th:only-of-type {\n",
       "        vertical-align: middle;\n",
       "    }\n",
       "\n",
       "    .dataframe tbody tr th {\n",
       "        vertical-align: top;\n",
       "    }\n",
       "\n",
       "    .dataframe thead th {\n",
       "        text-align: right;\n",
       "    }\n",
       "</style>\n",
       "<table border=\"1\" class=\"dataframe\">\n",
       "  <thead>\n",
       "    <tr style=\"text-align: right;\">\n",
       "      <th></th>\n",
       "      <th>app_id</th>\n",
       "      <th>author</th>\n",
       "      <th>rating</th>\n",
       "      <th>review_date</th>\n",
       "      <th>review_text</th>\n",
       "      <th>helpful_count</th>\n",
       "      <th>dev_reply_text</th>\n",
       "      <th>dev_reply_date</th>\n",
       "    </tr>\n",
       "  </thead>\n",
       "  <tbody>\n",
       "    <tr>\n",
       "      <th>627</th>\n",
       "      <td>b13f9c06-c950-419e-ab51-a8b73cd55738</td>\n",
       "      <td>avatar.do</td>\n",
       "      <td>4</td>\n",
       "      <td>2020-07-14</td>\n",
       "      <td>NaN</td>\n",
       "      <td>0</td>\n",
       "      <td>NaN</td>\n",
       "      <td>NaT</td>\n",
       "    </tr>\n",
       "    <tr>\n",
       "      <th>1305</th>\n",
       "      <td>b1f0bd7c-6268-43c6-9d9e-7115ae50f867</td>\n",
       "      <td>Dispenser Station</td>\n",
       "      <td>4</td>\n",
       "      <td>2020-06-26</td>\n",
       "      <td>NaN</td>\n",
       "      <td>0</td>\n",
       "      <td>NaN</td>\n",
       "      <td>NaT</td>\n",
       "    </tr>\n",
       "    <tr>\n",
       "      <th>1620</th>\n",
       "      <td>9e3be138-3e6b-4f0b-b6d3-18d13dc53758</td>\n",
       "      <td>Limitedparis</td>\n",
       "      <td>5</td>\n",
       "      <td>2018-04-21</td>\n",
       "      <td>NaN</td>\n",
       "      <td>0</td>\n",
       "      <td>NaN</td>\n",
       "      <td>NaT</td>\n",
       "    </tr>\n",
       "    <tr>\n",
       "      <th>2978</th>\n",
       "      <td>94e77128-9474-4076-b4a1-2ac6b880c8f3</td>\n",
       "      <td>Zofikira</td>\n",
       "      <td>3</td>\n",
       "      <td>2019-05-29</td>\n",
       "      <td>NaN</td>\n",
       "      <td>0</td>\n",
       "      <td>NaN</td>\n",
       "      <td>NaT</td>\n",
       "    </tr>\n",
       "    <tr>\n",
       "      <th>3498</th>\n",
       "      <td>4d6ae242-2891-4581-b120-f374bbbb8def</td>\n",
       "      <td>Gift Rebellion</td>\n",
       "      <td>3</td>\n",
       "      <td>2018-06-15</td>\n",
       "      <td>NaN</td>\n",
       "      <td>0</td>\n",
       "      <td>NaN</td>\n",
       "      <td>NaT</td>\n",
       "    </tr>\n",
       "  </tbody>\n",
       "</table>\n",
       "</div>"
      ],
      "text/plain": [
       "                                    app_id             author  rating  \\\n",
       "627   b13f9c06-c950-419e-ab51-a8b73cd55738          avatar.do       4   \n",
       "1305  b1f0bd7c-6268-43c6-9d9e-7115ae50f867  Dispenser Station       4   \n",
       "1620  9e3be138-3e6b-4f0b-b6d3-18d13dc53758       Limitedparis       5   \n",
       "2978  94e77128-9474-4076-b4a1-2ac6b880c8f3           Zofikira       3   \n",
       "3498  4d6ae242-2891-4581-b120-f374bbbb8def     Gift Rebellion       3   \n",
       "\n",
       "     review_date review_text  helpful_count dev_reply_text dev_reply_date  \n",
       "627   2020-07-14         NaN              0            NaN            NaT  \n",
       "1305  2020-06-26         NaN              0            NaN            NaT  \n",
       "1620  2018-04-21         NaN              0            NaN            NaT  \n",
       "2978  2019-05-29         NaN              0            NaN            NaT  \n",
       "3498  2018-06-15         NaN              0            NaN            NaT  "
      ]
     },
     "execution_count": 23,
     "metadata": {},
     "output_type": "execute_result"
    }
   ],
   "source": [
    "# Quick glimpse of the rows with empty or NaN review_text cells\n",
    "reviews_df[reviews_df['review_text'].isna()].head()"
   ]
  },
  {
   "cell_type": "code",
   "execution_count": 24,
   "id": "6b286197",
   "metadata": {
    "ExecuteTime": {
     "end_time": "2022-05-22T20:49:14.042695Z",
     "start_time": "2022-05-22T20:49:13.919628Z"
    }
   },
   "outputs": [],
   "source": [
    "# Remove NaN rows based on review_text NaNs\n",
    "nan_index = reviews_df[reviews_df['review_text'].isna()].index\n",
    "\n",
    "# Drop the NaN rows\n",
    "reviews_df.drop(nan_index, inplace = True)\n",
    "\n",
    "# Reset the index of the dataframe\n",
    "reviews_df.reset_index(drop = True, inplace = True)"
   ]
  },
  {
   "cell_type": "code",
   "execution_count": 25,
   "id": "5bfefc61",
   "metadata": {
    "ExecuteTime": {
     "end_time": "2022-05-22T20:49:14.154562Z",
     "start_time": "2022-05-22T20:49:14.043697Z"
    },
    "scrolled": false
   },
   "outputs": [
    {
     "data": {
      "text/html": [
       "<div>\n",
       "<style scoped>\n",
       "    .dataframe tbody tr th:only-of-type {\n",
       "        vertical-align: middle;\n",
       "    }\n",
       "\n",
       "    .dataframe tbody tr th {\n",
       "        vertical-align: top;\n",
       "    }\n",
       "\n",
       "    .dataframe thead th {\n",
       "        text-align: right;\n",
       "    }\n",
       "</style>\n",
       "<table border=\"1\" class=\"dataframe\">\n",
       "  <thead>\n",
       "    <tr style=\"text-align: right;\">\n",
       "      <th></th>\n",
       "      <th>nan_count</th>\n",
       "      <th>nan_percent</th>\n",
       "    </tr>\n",
       "  </thead>\n",
       "  <tbody>\n",
       "    <tr>\n",
       "      <th>app_id</th>\n",
       "      <td>0</td>\n",
       "      <td>0.0000</td>\n",
       "    </tr>\n",
       "    <tr>\n",
       "      <th>author</th>\n",
       "      <td>124</td>\n",
       "      <td>0.0277</td>\n",
       "    </tr>\n",
       "    <tr>\n",
       "      <th>rating</th>\n",
       "      <td>0</td>\n",
       "      <td>0.0000</td>\n",
       "    </tr>\n",
       "    <tr>\n",
       "      <th>review_date</th>\n",
       "      <td>0</td>\n",
       "      <td>0.0000</td>\n",
       "    </tr>\n",
       "    <tr>\n",
       "      <th>review_text</th>\n",
       "      <td>0</td>\n",
       "      <td>0.0000</td>\n",
       "    </tr>\n",
       "    <tr>\n",
       "      <th>helpful_count</th>\n",
       "      <td>0</td>\n",
       "      <td>0.0000</td>\n",
       "    </tr>\n",
       "    <tr>\n",
       "      <th>dev_reply_text</th>\n",
       "      <td>399555</td>\n",
       "      <td>89.3665</td>\n",
       "    </tr>\n",
       "    <tr>\n",
       "      <th>dev_reply_date</th>\n",
       "      <td>399555</td>\n",
       "      <td>89.3665</td>\n",
       "    </tr>\n",
       "  </tbody>\n",
       "</table>\n",
       "</div>"
      ],
      "text/plain": [
       "                nan_count  nan_percent\n",
       "app_id                  0       0.0000\n",
       "author                124       0.0277\n",
       "rating                  0       0.0000\n",
       "review_date             0       0.0000\n",
       "review_text             0       0.0000\n",
       "helpful_count           0       0.0000\n",
       "dev_reply_text     399555      89.3665\n",
       "dev_reply_date     399555      89.3665"
      ]
     },
     "execution_count": 25,
     "metadata": {},
     "output_type": "execute_result"
    }
   ],
   "source": [
    "# Total number of NaN values in the dataframe\n",
    "nan_df = pd.DataFrame(reviews_df.isna().sum(), columns = {\"nan_count\"})\n",
    "nan_df['nan_percent'] = round(nan_df['nan_count'] / len(reviews_df) * 100, 4)\n",
    "nan_df"
   ]
  },
  {
   "cell_type": "markdown",
   "id": "88c0f26d",
   "metadata": {},
   "source": [
    "I have removed all the rows with `NaN` in the `review_text` column."
   ]
  },
  {
   "cell_type": "markdown",
   "id": "e66045de",
   "metadata": {},
   "source": [
    "Let's now investigate the `NaN` counts for the `author` column. I will take a quick glimpse below."
   ]
  },
  {
   "cell_type": "code",
   "execution_count": 26,
   "id": "7e6d9e2b",
   "metadata": {
    "ExecuteTime": {
     "end_time": "2022-05-22T20:49:14.201818Z",
     "start_time": "2022-05-22T20:49:14.155561Z"
    }
   },
   "outputs": [
    {
     "data": {
      "text/html": [
       "<div>\n",
       "<style scoped>\n",
       "    .dataframe tbody tr th:only-of-type {\n",
       "        vertical-align: middle;\n",
       "    }\n",
       "\n",
       "    .dataframe tbody tr th {\n",
       "        vertical-align: top;\n",
       "    }\n",
       "\n",
       "    .dataframe thead th {\n",
       "        text-align: right;\n",
       "    }\n",
       "</style>\n",
       "<table border=\"1\" class=\"dataframe\">\n",
       "  <thead>\n",
       "    <tr style=\"text-align: right;\">\n",
       "      <th></th>\n",
       "      <th>app_id</th>\n",
       "      <th>author</th>\n",
       "      <th>rating</th>\n",
       "      <th>review_date</th>\n",
       "      <th>review_text</th>\n",
       "      <th>helpful_count</th>\n",
       "      <th>dev_reply_text</th>\n",
       "      <th>dev_reply_date</th>\n",
       "    </tr>\n",
       "  </thead>\n",
       "  <tbody>\n",
       "    <tr>\n",
       "      <th>12168</th>\n",
       "      <td>daf33223-bc38-433a-a97d-55bdef98b006</td>\n",
       "      <td>NaN</td>\n",
       "      <td>5</td>\n",
       "      <td>2011-12-15</td>\n",
       "      <td>Wow these guys are awesome. Not only does this...</td>\n",
       "      <td>0</td>\n",
       "      <td>NaN</td>\n",
       "      <td>NaT</td>\n",
       "    </tr>\n",
       "    <tr>\n",
       "      <th>12169</th>\n",
       "      <td>daf33223-bc38-433a-a97d-55bdef98b006</td>\n",
       "      <td>NaN</td>\n",
       "      <td>5</td>\n",
       "      <td>2011-12-12</td>\n",
       "      <td>Exactly what we have been looking for and Aban...</td>\n",
       "      <td>0</td>\n",
       "      <td>NaN</td>\n",
       "      <td>NaT</td>\n",
       "    </tr>\n",
       "    <tr>\n",
       "      <th>12179</th>\n",
       "      <td>daf33223-bc38-433a-a97d-55bdef98b006</td>\n",
       "      <td>NaN</td>\n",
       "      <td>5</td>\n",
       "      <td>2011-12-05</td>\n",
       "      <td>Abandon App has been a great addition to our S...</td>\n",
       "      <td>0</td>\n",
       "      <td>NaN</td>\n",
       "      <td>NaT</td>\n",
       "    </tr>\n",
       "    <tr>\n",
       "      <th>12270</th>\n",
       "      <td>daf33223-bc38-433a-a97d-55bdef98b006</td>\n",
       "      <td>NaN</td>\n",
       "      <td>5</td>\n",
       "      <td>2011-12-05</td>\n",
       "      <td>A great app. Must have plugin for any Shopify ...</td>\n",
       "      <td>0</td>\n",
       "      <td>NaN</td>\n",
       "      <td>NaT</td>\n",
       "    </tr>\n",
       "    <tr>\n",
       "      <th>12282</th>\n",
       "      <td>daf33223-bc38-433a-a97d-55bdef98b006</td>\n",
       "      <td>NaN</td>\n",
       "      <td>5</td>\n",
       "      <td>2011-11-13</td>\n",
       "      <td>I will be perfectly honest i installed this ap...</td>\n",
       "      <td>0</td>\n",
       "      <td>NaN</td>\n",
       "      <td>NaT</td>\n",
       "    </tr>\n",
       "    <tr>\n",
       "      <th>...</th>\n",
       "      <td>...</td>\n",
       "      <td>...</td>\n",
       "      <td>...</td>\n",
       "      <td>...</td>\n",
       "      <td>...</td>\n",
       "      <td>...</td>\n",
       "      <td>...</td>\n",
       "      <td>...</td>\n",
       "    </tr>\n",
       "    <tr>\n",
       "      <th>358481</th>\n",
       "      <td>6dd7f731-ee55-4533-9874-55c1d197b245</td>\n",
       "      <td>NaN</td>\n",
       "      <td>5</td>\n",
       "      <td>2011-07-10</td>\n",
       "      <td>This plugin quickly identified an easy issue t...</td>\n",
       "      <td>0</td>\n",
       "      <td>NaN</td>\n",
       "      <td>NaT</td>\n",
       "    </tr>\n",
       "    <tr>\n",
       "      <th>358502</th>\n",
       "      <td>6dd7f731-ee55-4533-9874-55c1d197b245</td>\n",
       "      <td>NaN</td>\n",
       "      <td>4</td>\n",
       "      <td>2011-06-19</td>\n",
       "      <td>Awesome application for non expert SEO users!</td>\n",
       "      <td>0</td>\n",
       "      <td>NaN</td>\n",
       "      <td>NaT</td>\n",
       "    </tr>\n",
       "    <tr>\n",
       "      <th>358503</th>\n",
       "      <td>6dd7f731-ee55-4533-9874-55c1d197b245</td>\n",
       "      <td>NaN</td>\n",
       "      <td>5</td>\n",
       "      <td>2011-06-15</td>\n",
       "      <td>Easy to install and works great.  Identified a...</td>\n",
       "      <td>0</td>\n",
       "      <td>NaN</td>\n",
       "      <td>NaT</td>\n",
       "    </tr>\n",
       "    <tr>\n",
       "      <th>374719</th>\n",
       "      <td>24703d6c-dfdf-4ab9-ac8d-f5ebb65bd434</td>\n",
       "      <td>NaN</td>\n",
       "      <td>4</td>\n",
       "      <td>2011-02-23</td>\n",
       "      <td>I can't believe how easy that is! Great back-e...</td>\n",
       "      <td>0</td>\n",
       "      <td>NaN</td>\n",
       "      <td>NaT</td>\n",
       "    </tr>\n",
       "    <tr>\n",
       "      <th>374720</th>\n",
       "      <td>24703d6c-dfdf-4ab9-ac8d-f5ebb65bd434</td>\n",
       "      <td>NaN</td>\n",
       "      <td>5</td>\n",
       "      <td>2011-01-19</td>\n",
       "      <td>The Ignite app is a fundamental part of our re...</td>\n",
       "      <td>0</td>\n",
       "      <td>NaN</td>\n",
       "      <td>NaT</td>\n",
       "    </tr>\n",
       "  </tbody>\n",
       "</table>\n",
       "<p>124 rows × 8 columns</p>\n",
       "</div>"
      ],
      "text/plain": [
       "                                      app_id author  rating review_date  \\\n",
       "12168   daf33223-bc38-433a-a97d-55bdef98b006    NaN       5  2011-12-15   \n",
       "12169   daf33223-bc38-433a-a97d-55bdef98b006    NaN       5  2011-12-12   \n",
       "12179   daf33223-bc38-433a-a97d-55bdef98b006    NaN       5  2011-12-05   \n",
       "12270   daf33223-bc38-433a-a97d-55bdef98b006    NaN       5  2011-12-05   \n",
       "12282   daf33223-bc38-433a-a97d-55bdef98b006    NaN       5  2011-11-13   \n",
       "...                                      ...    ...     ...         ...   \n",
       "358481  6dd7f731-ee55-4533-9874-55c1d197b245    NaN       5  2011-07-10   \n",
       "358502  6dd7f731-ee55-4533-9874-55c1d197b245    NaN       4  2011-06-19   \n",
       "358503  6dd7f731-ee55-4533-9874-55c1d197b245    NaN       5  2011-06-15   \n",
       "374719  24703d6c-dfdf-4ab9-ac8d-f5ebb65bd434    NaN       4  2011-02-23   \n",
       "374720  24703d6c-dfdf-4ab9-ac8d-f5ebb65bd434    NaN       5  2011-01-19   \n",
       "\n",
       "                                              review_text  helpful_count  \\\n",
       "12168   Wow these guys are awesome. Not only does this...              0   \n",
       "12169   Exactly what we have been looking for and Aban...              0   \n",
       "12179   Abandon App has been a great addition to our S...              0   \n",
       "12270   A great app. Must have plugin for any Shopify ...              0   \n",
       "12282   I will be perfectly honest i installed this ap...              0   \n",
       "...                                                   ...            ...   \n",
       "358481  This plugin quickly identified an easy issue t...              0   \n",
       "358502      Awesome application for non expert SEO users!              0   \n",
       "358503  Easy to install and works great.  Identified a...              0   \n",
       "374719  I can't believe how easy that is! Great back-e...              0   \n",
       "374720  The Ignite app is a fundamental part of our re...              0   \n",
       "\n",
       "       dev_reply_text dev_reply_date  \n",
       "12168             NaN            NaT  \n",
       "12169             NaN            NaT  \n",
       "12179             NaN            NaT  \n",
       "12270             NaN            NaT  \n",
       "12282             NaN            NaT  \n",
       "...               ...            ...  \n",
       "358481            NaN            NaT  \n",
       "358502            NaN            NaT  \n",
       "358503            NaN            NaT  \n",
       "374719            NaN            NaT  \n",
       "374720            NaN            NaT  \n",
       "\n",
       "[124 rows x 8 columns]"
      ]
     },
     "execution_count": 26,
     "metadata": {},
     "output_type": "execute_result"
    }
   ],
   "source": [
    "# Quick glimpse of the rows with empty or NaN author cells\n",
    "reviews_df[reviews_df['author'].isna()]"
   ]
  },
  {
   "cell_type": "markdown",
   "id": "55eb00ac",
   "metadata": {},
   "source": [
    "Out of curiosity, I want to check the year that missing review_text cells are from for any particular pattern."
   ]
  },
  {
   "cell_type": "code",
   "execution_count": 27,
   "id": "fdf005c1",
   "metadata": {
    "ExecuteTime": {
     "end_time": "2022-05-22T20:49:14.248988Z",
     "start_time": "2022-05-22T20:49:14.203307Z"
    }
   },
   "outputs": [
    {
     "data": {
      "text/plain": [
       "2011    82\n",
       "2010    19\n",
       "2009    12\n",
       "2012    10\n",
       "2019     1\n",
       "Name: review_date, dtype: int64"
      ]
     },
     "execution_count": 27,
     "metadata": {},
     "output_type": "execute_result"
    }
   ],
   "source": [
    "# Quick glimpse of the rows with empty or NaN author cells and their\n",
    "# corresponding years out of curiosity\n",
    "reviews_df[reviews_df['author'].isna()].review_date.dt.year.value_counts()"
   ]
  },
  {
   "cell_type": "markdown",
   "id": "41c4d550",
   "metadata": {},
   "source": [
    "These rows do not appear to be exclusive to a particular year."
   ]
  },
  {
   "cell_type": "markdown",
   "id": "e94fe97c",
   "metadata": {},
   "source": [
    "Despite the missing `author` name for the rows of data, I see that it still contains some `review_text`. One option can be to preserve these rows of data since they contain `review_text` data that can be used for downstream analysis and the author of the reviews may have chosen to be anonymous about it. However, I will drop these rows since the number of rows with `NaN` in the `author` column are $\\approx$ 0.03% of the total data. "
   ]
  },
  {
   "cell_type": "code",
   "execution_count": 28,
   "id": "68ce2f6d",
   "metadata": {
    "ExecuteTime": {
     "end_time": "2022-05-22T20:49:14.356875Z",
     "start_time": "2022-05-22T20:49:14.254822Z"
    }
   },
   "outputs": [],
   "source": [
    "## Optional removal of rows with missing author values ##\n",
    "\n",
    "# Remove NaN rows based on 'author' NaNs\n",
    "nan_index = reviews_df[reviews_df['author'].isna()].index\n",
    "reviews_df.drop(nan_index, inplace = True)\n",
    "reviews_df.reset_index(drop = True, inplace = True)"
   ]
  },
  {
   "cell_type": "code",
   "execution_count": 29,
   "id": "668b44b8",
   "metadata": {
    "ExecuteTime": {
     "end_time": "2022-05-22T20:49:14.466370Z",
     "start_time": "2022-05-22T20:49:14.358878Z"
    }
   },
   "outputs": [
    {
     "data": {
      "text/html": [
       "<div>\n",
       "<style scoped>\n",
       "    .dataframe tbody tr th:only-of-type {\n",
       "        vertical-align: middle;\n",
       "    }\n",
       "\n",
       "    .dataframe tbody tr th {\n",
       "        vertical-align: top;\n",
       "    }\n",
       "\n",
       "    .dataframe thead th {\n",
       "        text-align: right;\n",
       "    }\n",
       "</style>\n",
       "<table border=\"1\" class=\"dataframe\">\n",
       "  <thead>\n",
       "    <tr style=\"text-align: right;\">\n",
       "      <th></th>\n",
       "      <th>nan_count</th>\n",
       "      <th>nan_percent</th>\n",
       "    </tr>\n",
       "  </thead>\n",
       "  <tbody>\n",
       "    <tr>\n",
       "      <th>app_id</th>\n",
       "      <td>0</td>\n",
       "      <td>0.0000</td>\n",
       "    </tr>\n",
       "    <tr>\n",
       "      <th>author</th>\n",
       "      <td>0</td>\n",
       "      <td>0.0000</td>\n",
       "    </tr>\n",
       "    <tr>\n",
       "      <th>rating</th>\n",
       "      <td>0</td>\n",
       "      <td>0.0000</td>\n",
       "    </tr>\n",
       "    <tr>\n",
       "      <th>review_date</th>\n",
       "      <td>0</td>\n",
       "      <td>0.0000</td>\n",
       "    </tr>\n",
       "    <tr>\n",
       "      <th>review_text</th>\n",
       "      <td>0</td>\n",
       "      <td>0.0000</td>\n",
       "    </tr>\n",
       "    <tr>\n",
       "      <th>helpful_count</th>\n",
       "      <td>0</td>\n",
       "      <td>0.0000</td>\n",
       "    </tr>\n",
       "    <tr>\n",
       "      <th>dev_reply_text</th>\n",
       "      <td>399431</td>\n",
       "      <td>89.3636</td>\n",
       "    </tr>\n",
       "    <tr>\n",
       "      <th>dev_reply_date</th>\n",
       "      <td>399431</td>\n",
       "      <td>89.3636</td>\n",
       "    </tr>\n",
       "  </tbody>\n",
       "</table>\n",
       "</div>"
      ],
      "text/plain": [
       "                nan_count  nan_percent\n",
       "app_id                  0       0.0000\n",
       "author                  0       0.0000\n",
       "rating                  0       0.0000\n",
       "review_date             0       0.0000\n",
       "review_text             0       0.0000\n",
       "helpful_count           0       0.0000\n",
       "dev_reply_text     399431      89.3636\n",
       "dev_reply_date     399431      89.3636"
      ]
     },
     "execution_count": 29,
     "metadata": {},
     "output_type": "execute_result"
    }
   ],
   "source": [
    "# Total number of NaN values in the dataframe\n",
    "# Can be used as a check to see if the missing author values\n",
    "# were removed or not depending on whether the above optional\n",
    "# cell is executed.\n",
    "nan_df = pd.DataFrame(reviews_df.isna().sum(), columns = {\"nan_count\"})\n",
    "nan_df['nan_percent'] = round(nan_df['nan_count'] / len(reviews_df) * 100, 4)\n",
    "nan_df"
   ]
  },
  {
   "cell_type": "code",
   "execution_count": 30,
   "id": "7fcdf96a",
   "metadata": {
    "ExecuteTime": {
     "end_time": "2022-05-22T20:49:14.593291Z",
     "start_time": "2022-05-22T20:49:14.468368Z"
    },
    "scrolled": true
   },
   "outputs": [
    {
     "name": "stdout",
     "output_type": "stream",
     "text": [
      "<class 'pandas.core.frame.DataFrame'>\n",
      "RangeIndex: 446973 entries, 0 to 446972\n",
      "Data columns (total 8 columns):\n",
      " #   Column          Non-Null Count   Dtype         \n",
      "---  ------          --------------   -----         \n",
      " 0   app_id          446973 non-null  object        \n",
      " 1   author          446973 non-null  object        \n",
      " 2   rating          446973 non-null  int64         \n",
      " 3   review_date     446973 non-null  datetime64[ns]\n",
      " 4   review_text     446973 non-null  object        \n",
      " 5   helpful_count   446973 non-null  int64         \n",
      " 6   dev_reply_text  47542 non-null   object        \n",
      " 7   dev_reply_date  47542 non-null   datetime64[ns]\n",
      "dtypes: datetime64[ns](2), int64(2), object(4)\n",
      "memory usage: 27.3+ MB\n"
     ]
    }
   ],
   "source": [
    "reviews_df.info()"
   ]
  },
  {
   "cell_type": "markdown",
   "id": "f5b3eed5",
   "metadata": {},
   "source": [
    "I have inspected and confirmed that the dataframe has no duplicates and no `NaN` values for columns of interest. Although the `dev_reply_text` and `dev_reply_date` contain $\\approx$ 400,000 `NaN` values, the columns will be removed in future analyses. As a result, no further steps for removing `NaN` values will be initiated."
   ]
  },
  {
   "cell_type": "markdown",
   "id": "fe99f0e4",
   "metadata": {},
   "source": [
    "### Ad-Hoc Developer Responses EDA\n",
    "\n",
    "<a id='dev_responses_eda_1'></a>"
   ]
  },
  {
   "cell_type": "markdown",
   "id": "dd5f44ab",
   "metadata": {},
   "source": [
    "Seeing that there are $\\approx$ 89% of reviews that did not have a developer response, a brief analysis on the responses observed throughout the available years (2019-2020) will be explored."
   ]
  },
  {
   "cell_type": "markdown",
   "id": "6406b327",
   "metadata": {},
   "source": [
    "Additional EDA on developer responses can found later in the notebook [here](#dev_responses_eda_2)."
   ]
  },
  {
   "cell_type": "markdown",
   "id": "dd6c94ad",
   "metadata": {},
   "source": [
    "#### What was the total number of developer responses that took place in 2019-2020?"
   ]
  },
  {
   "cell_type": "markdown",
   "id": "add4e96d",
   "metadata": {},
   "source": [
    "Let's first get the total count of `dev_reply_date` rows that do not have a `NaT` and separate it by the years."
   ]
  },
  {
   "cell_type": "code",
   "execution_count": 31,
   "id": "16da02b7",
   "metadata": {
    "ExecuteTime": {
     "end_time": "2022-05-22T20:49:14.625290Z",
     "start_time": "2022-05-22T20:49:14.595297Z"
    }
   },
   "outputs": [
    {
     "data": {
      "text/plain": [
       "2019    22074\n",
       "2020    25468\n",
       "Name: dev_reply_date, dtype: int64"
      ]
     },
     "execution_count": 31,
     "metadata": {},
     "output_type": "execute_result"
    }
   ],
   "source": [
    "# Count number of non-NaN developer responses by using the dev_reply_date column \n",
    "# and separate by the corresponding year\n",
    "dev_reply_count = reviews_df['dev_reply_date'][reviews_df['dev_reply_date'].notna()].dt.year.value_counts().sort_index()\n",
    "\n",
    "# Quick glimpse\n",
    "dev_reply_count"
   ]
  },
  {
   "cell_type": "code",
   "execution_count": 32,
   "id": "feb7056a",
   "metadata": {
    "ExecuteTime": {
     "end_time": "2022-05-22T20:49:14.641290Z",
     "start_time": "2022-05-22T20:49:14.626292Z"
    }
   },
   "outputs": [
    {
     "data": {
      "text/plain": [
       "47542"
      ]
     },
     "execution_count": 32,
     "metadata": {},
     "output_type": "execute_result"
    }
   ],
   "source": [
    "# Confirm the total count of all developer responses\n",
    "dev_reply_count.sum()"
   ]
  },
  {
   "cell_type": "markdown",
   "id": "9836f96a",
   "metadata": {},
   "source": [
    "The total count of developer responses matches up with the total non-null values (47,542) observed during the data preparation and cleaning section."
   ]
  },
  {
   "cell_type": "markdown",
   "id": "f5c0a202",
   "metadata": {},
   "source": [
    "Let's compare the total number of reviews to the total number of developer responses."
   ]
  },
  {
   "cell_type": "code",
   "execution_count": 33,
   "id": "d91fd930",
   "metadata": {
    "ExecuteTime": {
     "end_time": "2022-05-22T20:49:14.704291Z",
     "start_time": "2022-05-22T20:49:14.643292Z"
    }
   },
   "outputs": [
    {
     "data": {
      "text/plain": [
       "2019    112782\n",
       "2020    107483\n",
       "Name: review_date, dtype: int64"
      ]
     },
     "execution_count": 33,
     "metadata": {},
     "output_type": "execute_result"
    }
   ],
   "source": [
    "# Total count of reviews across each year\n",
    "total_reviews = reviews_df['review_date'].dt.year.value_counts().sort_index().tail(2)\n",
    "\n",
    "# Quick glimpse\n",
    "total_reviews"
   ]
  },
  {
   "cell_type": "code",
   "execution_count": 34,
   "id": "28699d9b",
   "metadata": {
    "ExecuteTime": {
     "end_time": "2022-05-22T20:49:14.720293Z",
     "start_time": "2022-05-22T20:49:14.706293Z"
    }
   },
   "outputs": [
    {
     "data": {
      "text/html": [
       "<div>\n",
       "<style scoped>\n",
       "    .dataframe tbody tr th:only-of-type {\n",
       "        vertical-align: middle;\n",
       "    }\n",
       "\n",
       "    .dataframe tbody tr th {\n",
       "        vertical-align: top;\n",
       "    }\n",
       "\n",
       "    .dataframe thead th {\n",
       "        text-align: right;\n",
       "    }\n",
       "</style>\n",
       "<table border=\"1\" class=\"dataframe\">\n",
       "  <thead>\n",
       "    <tr style=\"text-align: right;\">\n",
       "      <th></th>\n",
       "      <th>Percent of Reviews with Developer Responses</th>\n",
       "    </tr>\n",
       "  </thead>\n",
       "  <tbody>\n",
       "    <tr>\n",
       "      <th>2019</th>\n",
       "      <td>19.6</td>\n",
       "    </tr>\n",
       "    <tr>\n",
       "      <th>2020</th>\n",
       "      <td>23.7</td>\n",
       "    </tr>\n",
       "  </tbody>\n",
       "</table>\n",
       "</div>"
      ],
      "text/plain": [
       "      Percent of Reviews with Developer Responses\n",
       "2019                                         19.6\n",
       "2020                                         23.7"
      ]
     },
     "execution_count": 34,
     "metadata": {},
     "output_type": "execute_result"
    }
   ],
   "source": [
    "# Proportion of reviews with developer responses from 2019 and onwards\n",
    "dev_reply_pptn = pd.DataFrame(round(dev_reply_count / total_reviews * 100, 1), \n",
    "                              columns = {'Percent of Reviews with Developer Responses'})\n",
    "dev_reply_pptn"
   ]
  },
  {
   "cell_type": "markdown",
   "id": "08cbb980",
   "metadata": {
    "ExecuteTime": {
     "end_time": "2022-03-21T01:41:00.418793Z",
     "start_time": "2022-03-21T01:41:00.399791Z"
    }
   },
   "source": [
    "The proportion of reviews with developer responses have been increasing across the years (19.6% to 23.7%) from 2019 to 2020 (up until August)."
   ]
  },
  {
   "cell_type": "markdown",
   "id": "711772b8",
   "metadata": {},
   "source": [
    "Having completed the data preparation and cleaning portion, I will now introduce the merging of different dataframes in order to retrieve the `app_name` for the corresponding `app_id` as well as the `category_name` that each `app_name` possesses in the next section."
   ]
  },
  {
   "cell_type": "markdown",
   "id": "1953988f",
   "metadata": {},
   "source": [
    "## Additional Data Preparation: Convert App ID and Category ID to App Names and Category Names\n",
    "***"
   ]
  },
  {
   "cell_type": "markdown",
   "id": "2e9969b9",
   "metadata": {},
   "source": [
    "I will take the unique identifier for each app reviewed and merge it with their known `app_name` and `category_name`."
   ]
  },
  {
   "cell_type": "markdown",
   "id": "959e0581",
   "metadata": {},
   "source": [
    "I will import the following files: `apps.csv`, `apps_categories.csv`, and `categories.csv`."
   ]
  },
  {
   "cell_type": "code",
   "execution_count": 35,
   "id": "b849dd8b",
   "metadata": {
    "ExecuteTime": {
     "end_time": "2022-05-22T20:49:15.210701Z",
     "start_time": "2022-05-22T20:49:14.721293Z"
    }
   },
   "outputs": [],
   "source": [
    "# Import app names dataset\n",
    "app_names = pd.read_csv('Kaggle Dataset/apps.csv',\n",
    "                       usecols = ['id', 'title'])\n",
    "app_names.rename(columns = {'id':'app_id', 'title':'app_name'}, inplace = True)\n",
    "\n",
    "# Import app categories dataset\n",
    "apps_categories = pd.read_csv('Kaggle Dataset/apps_categories.csv')\n",
    "\n",
    "# Import category identifier dataset\n",
    "categories = pd.read_csv('Kaggle Dataset/categories.csv',\n",
    "                       usecols = ['id', 'title'])\n",
    "categories.rename(columns = {'id':'category_id', 'title':'category_name'}, inplace = True)"
   ]
  },
  {
   "cell_type": "markdown",
   "id": "798d96ce",
   "metadata": {},
   "source": [
    "### Application Names from apps.csv "
   ]
  },
  {
   "cell_type": "markdown",
   "id": "aac911f0",
   "metadata": {},
   "source": [
    "Let's take a quick glimpse at the overall dataframe."
   ]
  },
  {
   "cell_type": "code",
   "execution_count": 36,
   "id": "7256b09f",
   "metadata": {
    "ExecuteTime": {
     "end_time": "2022-05-22T20:49:15.226360Z",
     "start_time": "2022-05-22T20:49:15.211703Z"
    }
   },
   "outputs": [
    {
     "data": {
      "text/html": [
       "<div>\n",
       "<style scoped>\n",
       "    .dataframe tbody tr th:only-of-type {\n",
       "        vertical-align: middle;\n",
       "    }\n",
       "\n",
       "    .dataframe tbody tr th {\n",
       "        vertical-align: top;\n",
       "    }\n",
       "\n",
       "    .dataframe thead th {\n",
       "        text-align: right;\n",
       "    }\n",
       "</style>\n",
       "<table border=\"1\" class=\"dataframe\">\n",
       "  <thead>\n",
       "    <tr style=\"text-align: right;\">\n",
       "      <th></th>\n",
       "      <th>app_id</th>\n",
       "      <th>app_name</th>\n",
       "    </tr>\n",
       "  </thead>\n",
       "  <tbody>\n",
       "    <tr>\n",
       "      <th>0</th>\n",
       "      <td>9e4748a9-7eda-4814-83b6-0537d44152b1</td>\n",
       "      <td>Panda Language Translate</td>\n",
       "    </tr>\n",
       "    <tr>\n",
       "      <th>1</th>\n",
       "      <td>d1476138-a608-4bb9-8d39-b30f3ca7617d</td>\n",
       "      <td>Instant Brand Page</td>\n",
       "    </tr>\n",
       "    <tr>\n",
       "      <th>2</th>\n",
       "      <td>d6e49a3c-2f9f-4bfa-8c26-5d024faf2241</td>\n",
       "      <td>FAQ Accordion | Help Center</td>\n",
       "    </tr>\n",
       "    <tr>\n",
       "      <th>3</th>\n",
       "      <td>0ef0087f-3ae5-4dbc-84e0-193b576d82ed</td>\n",
       "      <td>Promote Me | Many apps in one</td>\n",
       "    </tr>\n",
       "    <tr>\n",
       "      <th>4</th>\n",
       "      <td>7aac2a1f-ff03-4f38-aeb7-7619403a6f05</td>\n",
       "      <td>Instalify</td>\n",
       "    </tr>\n",
       "  </tbody>\n",
       "</table>\n",
       "</div>"
      ],
      "text/plain": [
       "                                 app_id                       app_name\n",
       "0  9e4748a9-7eda-4814-83b6-0537d44152b1       Panda Language Translate\n",
       "1  d1476138-a608-4bb9-8d39-b30f3ca7617d             Instant Brand Page\n",
       "2  d6e49a3c-2f9f-4bfa-8c26-5d024faf2241    FAQ Accordion | Help Center\n",
       "3  0ef0087f-3ae5-4dbc-84e0-193b576d82ed  Promote Me | Many apps in one\n",
       "4  7aac2a1f-ff03-4f38-aeb7-7619403a6f05                      Instalify"
      ]
     },
     "execution_count": 36,
     "metadata": {},
     "output_type": "execute_result"
    }
   ],
   "source": [
    "app_names.head()"
   ]
  },
  {
   "cell_type": "code",
   "execution_count": 37,
   "id": "aeaace1b",
   "metadata": {
    "ExecuteTime": {
     "end_time": "2022-05-22T20:49:15.241379Z",
     "start_time": "2022-05-22T20:49:15.228361Z"
    },
    "scrolled": true
   },
   "outputs": [
    {
     "data": {
      "text/html": [
       "<div>\n",
       "<style scoped>\n",
       "    .dataframe tbody tr th:only-of-type {\n",
       "        vertical-align: middle;\n",
       "    }\n",
       "\n",
       "    .dataframe tbody tr th {\n",
       "        vertical-align: top;\n",
       "    }\n",
       "\n",
       "    .dataframe thead th {\n",
       "        text-align: right;\n",
       "    }\n",
       "</style>\n",
       "<table border=\"1\" class=\"dataframe\">\n",
       "  <thead>\n",
       "    <tr style=\"text-align: right;\">\n",
       "      <th></th>\n",
       "      <th>app_id</th>\n",
       "      <th>app_name</th>\n",
       "    </tr>\n",
       "  </thead>\n",
       "  <tbody>\n",
       "    <tr>\n",
       "      <th>4745</th>\n",
       "      <td>a2197ba7-c0d0-4954-9b37-09c7f27ec919</td>\n",
       "      <td>Request a Quote &amp; Hide Prices</td>\n",
       "    </tr>\n",
       "    <tr>\n",
       "      <th>4746</th>\n",
       "      <td>28cd2f9d-61ea-447f-ae7d-e67440352d19</td>\n",
       "      <td>Product Options and Customizer</td>\n",
       "    </tr>\n",
       "    <tr>\n",
       "      <th>4747</th>\n",
       "      <td>f6fc54ce-9999-4180-8e7e-c899bbf30bbd</td>\n",
       "      <td>Custom Reviews</td>\n",
       "    </tr>\n",
       "    <tr>\n",
       "      <th>4748</th>\n",
       "      <td>95d883a8-7dba-443d-a6ee-f018d4446985</td>\n",
       "      <td>Swatches by Webyze</td>\n",
       "    </tr>\n",
       "    <tr>\n",
       "      <th>4749</th>\n",
       "      <td>17918ea4-80b9-4811-947d-c0b2f950976a</td>\n",
       "      <td>COD Order Confirmation</td>\n",
       "    </tr>\n",
       "  </tbody>\n",
       "</table>\n",
       "</div>"
      ],
      "text/plain": [
       "                                    app_id                        app_name\n",
       "4745  a2197ba7-c0d0-4954-9b37-09c7f27ec919   Request a Quote & Hide Prices\n",
       "4746  28cd2f9d-61ea-447f-ae7d-e67440352d19  Product Options and Customizer\n",
       "4747  f6fc54ce-9999-4180-8e7e-c899bbf30bbd                  Custom Reviews\n",
       "4748  95d883a8-7dba-443d-a6ee-f018d4446985              Swatches by Webyze\n",
       "4749  17918ea4-80b9-4811-947d-c0b2f950976a          COD Order Confirmation"
      ]
     },
     "execution_count": 37,
     "metadata": {},
     "output_type": "execute_result"
    }
   ],
   "source": [
    "app_names.tail()"
   ]
  },
  {
   "cell_type": "code",
   "execution_count": 38,
   "id": "5e3bb196",
   "metadata": {
    "ExecuteTime": {
     "end_time": "2022-05-22T20:49:15.257459Z",
     "start_time": "2022-05-22T20:49:15.243366Z"
    }
   },
   "outputs": [
    {
     "name": "stdout",
     "output_type": "stream",
     "text": [
      "<class 'pandas.core.frame.DataFrame'>\n",
      "RangeIndex: 4750 entries, 0 to 4749\n",
      "Data columns (total 2 columns):\n",
      " #   Column    Non-Null Count  Dtype \n",
      "---  ------    --------------  ----- \n",
      " 0   app_id    4750 non-null   object\n",
      " 1   app_name  4750 non-null   object\n",
      "dtypes: object(2)\n",
      "memory usage: 74.3+ KB\n"
     ]
    }
   ],
   "source": [
    "app_names.info()"
   ]
  },
  {
   "cell_type": "markdown",
   "id": "7005d3ae",
   "metadata": {},
   "source": [
    "I only have two columns of data from `apps.csv`."
   ]
  },
  {
   "cell_type": "markdown",
   "id": "326ea08d",
   "metadata": {},
   "source": [
    "Check for `NaN` values."
   ]
  },
  {
   "cell_type": "code",
   "execution_count": 39,
   "id": "c2e8bab2",
   "metadata": {
    "ExecuteTime": {
     "end_time": "2022-05-22T20:49:15.273008Z",
     "start_time": "2022-05-22T20:49:15.258457Z"
    }
   },
   "outputs": [
    {
     "name": "stdout",
     "output_type": "stream",
     "text": [
      "The app_names dataframe has 0 number of NaNs\n"
     ]
    }
   ],
   "source": [
    "# Confirm the number of missing row values\n",
    "print(f\"The app_names dataframe has {app_names.isna().sum().sum()} number of NaNs\")"
   ]
  },
  {
   "cell_type": "markdown",
   "id": "b1752c89",
   "metadata": {},
   "source": [
    "Check for duplicate rows."
   ]
  },
  {
   "cell_type": "code",
   "execution_count": 40,
   "id": "9a765ec1",
   "metadata": {
    "ExecuteTime": {
     "end_time": "2022-05-22T20:49:15.288998Z",
     "start_time": "2022-05-22T20:49:15.273990Z"
    }
   },
   "outputs": [
    {
     "name": "stdout",
     "output_type": "stream",
     "text": [
      "The app_names dataframe has 0 number of duplicated rows\n"
     ]
    }
   ],
   "source": [
    "# Confirm the number of duplicated row values\n",
    "print(f\"The app_names dataframe has {app_names.duplicated().sum()} number of duplicated rows\")"
   ]
  },
  {
   "cell_type": "markdown",
   "id": "911241c4",
   "metadata": {},
   "source": [
    "There were $\\approx$ 4,700 different applications available on the Shopify App Store at the time of this gathered dataset. It appears only $\\approx$ 3,700 apps had user review ratings of the possible apps available."
   ]
  },
  {
   "cell_type": "markdown",
   "id": "87d52da0",
   "metadata": {},
   "source": [
    "### App ID  and Category ID from apps_categories.csv"
   ]
  },
  {
   "cell_type": "markdown",
   "id": "b594bef6",
   "metadata": {},
   "source": [
    "Let's take a quick glimpse at the overall dataframe."
   ]
  },
  {
   "cell_type": "code",
   "execution_count": 41,
   "id": "c474e2e5",
   "metadata": {
    "ExecuteTime": {
     "end_time": "2022-05-22T20:49:15.304874Z",
     "start_time": "2022-05-22T20:49:15.289989Z"
    }
   },
   "outputs": [
    {
     "data": {
      "text/html": [
       "<div>\n",
       "<style scoped>\n",
       "    .dataframe tbody tr th:only-of-type {\n",
       "        vertical-align: middle;\n",
       "    }\n",
       "\n",
       "    .dataframe tbody tr th {\n",
       "        vertical-align: top;\n",
       "    }\n",
       "\n",
       "    .dataframe thead th {\n",
       "        text-align: right;\n",
       "    }\n",
       "</style>\n",
       "<table border=\"1\" class=\"dataframe\">\n",
       "  <thead>\n",
       "    <tr style=\"text-align: right;\">\n",
       "      <th></th>\n",
       "      <th>app_id</th>\n",
       "      <th>category_id</th>\n",
       "    </tr>\n",
       "  </thead>\n",
       "  <tbody>\n",
       "    <tr>\n",
       "      <th>0</th>\n",
       "      <td>9e4748a9-7eda-4814-83b6-0537d44152b1</td>\n",
       "      <td>c3f9db73c29bc33607778f9935c3c4dc</td>\n",
       "    </tr>\n",
       "    <tr>\n",
       "      <th>1</th>\n",
       "      <td>d1476138-a608-4bb9-8d39-b30f3ca7617d</td>\n",
       "      <td>c3f9db73c29bc33607778f9935c3c4dc</td>\n",
       "    </tr>\n",
       "    <tr>\n",
       "      <th>2</th>\n",
       "      <td>d6e49a3c-2f9f-4bfa-8c26-5d024faf2241</td>\n",
       "      <td>c3f9db73c29bc33607778f9935c3c4dc</td>\n",
       "    </tr>\n",
       "    <tr>\n",
       "      <th>3</th>\n",
       "      <td>d6e49a3c-2f9f-4bfa-8c26-5d024faf2241</td>\n",
       "      <td>64430ad2835be8ad60c59e7d44e4b0b1</td>\n",
       "    </tr>\n",
       "    <tr>\n",
       "      <th>4</th>\n",
       "      <td>0ef0087f-3ae5-4dbc-84e0-193b576d82ed</td>\n",
       "      <td>c3f9db73c29bc33607778f9935c3c4dc</td>\n",
       "    </tr>\n",
       "  </tbody>\n",
       "</table>\n",
       "</div>"
      ],
      "text/plain": [
       "                                 app_id                       category_id\n",
       "0  9e4748a9-7eda-4814-83b6-0537d44152b1  c3f9db73c29bc33607778f9935c3c4dc\n",
       "1  d1476138-a608-4bb9-8d39-b30f3ca7617d  c3f9db73c29bc33607778f9935c3c4dc\n",
       "2  d6e49a3c-2f9f-4bfa-8c26-5d024faf2241  c3f9db73c29bc33607778f9935c3c4dc\n",
       "3  d6e49a3c-2f9f-4bfa-8c26-5d024faf2241  64430ad2835be8ad60c59e7d44e4b0b1\n",
       "4  0ef0087f-3ae5-4dbc-84e0-193b576d82ed  c3f9db73c29bc33607778f9935c3c4dc"
      ]
     },
     "execution_count": 41,
     "metadata": {},
     "output_type": "execute_result"
    }
   ],
   "source": [
    "apps_categories.head()"
   ]
  },
  {
   "cell_type": "code",
   "execution_count": 42,
   "id": "4de853ce",
   "metadata": {
    "ExecuteTime": {
     "end_time": "2022-05-22T20:49:15.320722Z",
     "start_time": "2022-05-22T20:49:15.306857Z"
    },
    "scrolled": true
   },
   "outputs": [
    {
     "data": {
      "text/html": [
       "<div>\n",
       "<style scoped>\n",
       "    .dataframe tbody tr th:only-of-type {\n",
       "        vertical-align: middle;\n",
       "    }\n",
       "\n",
       "    .dataframe tbody tr th {\n",
       "        vertical-align: top;\n",
       "    }\n",
       "\n",
       "    .dataframe thead th {\n",
       "        text-align: right;\n",
       "    }\n",
       "</style>\n",
       "<table border=\"1\" class=\"dataframe\">\n",
       "  <thead>\n",
       "    <tr style=\"text-align: right;\">\n",
       "      <th></th>\n",
       "      <th>app_id</th>\n",
       "      <th>category_id</th>\n",
       "    </tr>\n",
       "  </thead>\n",
       "  <tbody>\n",
       "    <tr>\n",
       "      <th>7371</th>\n",
       "      <td>a2197ba7-c0d0-4954-9b37-09c7f27ec919</td>\n",
       "      <td>5eb4e29e50e3f178acc614236ed107f4</td>\n",
       "    </tr>\n",
       "    <tr>\n",
       "      <th>7372</th>\n",
       "      <td>28cd2f9d-61ea-447f-ae7d-e67440352d19</td>\n",
       "      <td>c3f9db73c29bc33607778f9935c3c4dc</td>\n",
       "    </tr>\n",
       "    <tr>\n",
       "      <th>7373</th>\n",
       "      <td>f6fc54ce-9999-4180-8e7e-c899bbf30bbd</td>\n",
       "      <td>5eb4e29e50e3f178acc614236ed107f4</td>\n",
       "    </tr>\n",
       "    <tr>\n",
       "      <th>7374</th>\n",
       "      <td>95d883a8-7dba-443d-a6ee-f018d4446985</td>\n",
       "      <td>c3f9db73c29bc33607778f9935c3c4dc</td>\n",
       "    </tr>\n",
       "    <tr>\n",
       "      <th>7375</th>\n",
       "      <td>17918ea4-80b9-4811-947d-c0b2f950976a</td>\n",
       "      <td>30ea2315e910c5e5335de42d5e87dca5</td>\n",
       "    </tr>\n",
       "  </tbody>\n",
       "</table>\n",
       "</div>"
      ],
      "text/plain": [
       "                                    app_id                       category_id\n",
       "7371  a2197ba7-c0d0-4954-9b37-09c7f27ec919  5eb4e29e50e3f178acc614236ed107f4\n",
       "7372  28cd2f9d-61ea-447f-ae7d-e67440352d19  c3f9db73c29bc33607778f9935c3c4dc\n",
       "7373  f6fc54ce-9999-4180-8e7e-c899bbf30bbd  5eb4e29e50e3f178acc614236ed107f4\n",
       "7374  95d883a8-7dba-443d-a6ee-f018d4446985  c3f9db73c29bc33607778f9935c3c4dc\n",
       "7375  17918ea4-80b9-4811-947d-c0b2f950976a  30ea2315e910c5e5335de42d5e87dca5"
      ]
     },
     "execution_count": 42,
     "metadata": {},
     "output_type": "execute_result"
    }
   ],
   "source": [
    "apps_categories.tail()"
   ]
  },
  {
   "cell_type": "code",
   "execution_count": 43,
   "id": "1ee3aaa7",
   "metadata": {
    "ExecuteTime": {
     "end_time": "2022-05-22T20:49:15.335848Z",
     "start_time": "2022-05-22T20:49:15.322470Z"
    }
   },
   "outputs": [
    {
     "name": "stdout",
     "output_type": "stream",
     "text": [
      "<class 'pandas.core.frame.DataFrame'>\n",
      "RangeIndex: 7376 entries, 0 to 7375\n",
      "Data columns (total 2 columns):\n",
      " #   Column       Non-Null Count  Dtype \n",
      "---  ------       --------------  ----- \n",
      " 0   app_id       7376 non-null   object\n",
      " 1   category_id  7376 non-null   object\n",
      "dtypes: object(2)\n",
      "memory usage: 115.4+ KB\n"
     ]
    }
   ],
   "source": [
    "apps_categories.info()"
   ]
  },
  {
   "cell_type": "markdown",
   "id": "e4539a1b",
   "metadata": {},
   "source": [
    "I only have two columns of data from `apps_categories.csv`."
   ]
  },
  {
   "cell_type": "markdown",
   "id": "a8287698",
   "metadata": {},
   "source": [
    "Check for `NaN` values."
   ]
  },
  {
   "cell_type": "code",
   "execution_count": 44,
   "id": "33dfcec7",
   "metadata": {
    "ExecuteTime": {
     "end_time": "2022-05-22T20:49:15.351859Z",
     "start_time": "2022-05-22T20:49:15.337844Z"
    }
   },
   "outputs": [
    {
     "name": "stdout",
     "output_type": "stream",
     "text": [
      "The apps_categories dataframe has 0 number of NaNs\n"
     ]
    }
   ],
   "source": [
    "# Confirm the number of missing row values\n",
    "print(f\"The apps_categories dataframe has {apps_categories.isna().sum().sum()} number of NaNs\")"
   ]
  },
  {
   "cell_type": "markdown",
   "id": "c65a1301",
   "metadata": {},
   "source": [
    "Check for duplicate rows."
   ]
  },
  {
   "cell_type": "code",
   "execution_count": 45,
   "id": "96b9cd3f",
   "metadata": {
    "ExecuteTime": {
     "end_time": "2022-05-22T20:49:15.367476Z",
     "start_time": "2022-05-22T20:49:15.352843Z"
    }
   },
   "outputs": [
    {
     "name": "stdout",
     "output_type": "stream",
     "text": [
      "The apps_categories dataframe has 0 number of duplicated rows\n"
     ]
    }
   ],
   "source": [
    "# Confirm the number of duplicated row values\n",
    "print(f\"The apps_categories dataframe has {apps_categories.duplicated().sum()} number of duplicated rows\")"
   ]
  },
  {
   "cell_type": "markdown",
   "id": "9f278995",
   "metadata": {},
   "source": [
    "Although the number of unique apps in total were $\\approx$ 4,700, I have $\\approx$ 7,300 apps with unique category identifiers. This indicates that a single app can have multiple categories, as observed in the first 5 rows of the dataframe."
   ]
  },
  {
   "cell_type": "markdown",
   "id": "25e3f21b",
   "metadata": {},
   "source": [
    "### Category ID and Category Names from categories.csv"
   ]
  },
  {
   "cell_type": "markdown",
   "id": "ef582953",
   "metadata": {},
   "source": [
    "Let's take a quick glimpse at the overall dataframe."
   ]
  },
  {
   "cell_type": "code",
   "execution_count": 46,
   "id": "aa5a33c9",
   "metadata": {
    "ExecuteTime": {
     "end_time": "2022-05-22T20:49:15.383394Z",
     "start_time": "2022-05-22T20:49:15.368476Z"
    }
   },
   "outputs": [
    {
     "data": {
      "text/html": [
       "<div>\n",
       "<style scoped>\n",
       "    .dataframe tbody tr th:only-of-type {\n",
       "        vertical-align: middle;\n",
       "    }\n",
       "\n",
       "    .dataframe tbody tr th {\n",
       "        vertical-align: top;\n",
       "    }\n",
       "\n",
       "    .dataframe thead th {\n",
       "        text-align: right;\n",
       "    }\n",
       "</style>\n",
       "<table border=\"1\" class=\"dataframe\">\n",
       "  <thead>\n",
       "    <tr style=\"text-align: right;\">\n",
       "      <th></th>\n",
       "      <th>category_id</th>\n",
       "      <th>category_name</th>\n",
       "    </tr>\n",
       "  </thead>\n",
       "  <tbody>\n",
       "    <tr>\n",
       "      <th>0</th>\n",
       "      <td>c3f9db73c29bc33607778f9935c3c4dc</td>\n",
       "      <td>Store design</td>\n",
       "    </tr>\n",
       "    <tr>\n",
       "      <th>1</th>\n",
       "      <td>64430ad2835be8ad60c59e7d44e4b0b1</td>\n",
       "      <td>Customer support</td>\n",
       "    </tr>\n",
       "    <tr>\n",
       "      <th>2</th>\n",
       "      <td>5eb4e29e50e3f178acc614236ed107f4</td>\n",
       "      <td>Sales and conversion optimization</td>\n",
       "    </tr>\n",
       "    <tr>\n",
       "      <th>3</th>\n",
       "      <td>c769c2bd15500dd906102d9be97fdceb</td>\n",
       "      <td>Marketing</td>\n",
       "    </tr>\n",
       "    <tr>\n",
       "      <th>4</th>\n",
       "      <td>30ea2315e910c5e5335de42d5e87dca5</td>\n",
       "      <td>Orders and shipping</td>\n",
       "    </tr>\n",
       "    <tr>\n",
       "      <th>5</th>\n",
       "      <td>9fe78acd078fc030de72c896adc93a2d</td>\n",
       "      <td>Inventory management</td>\n",
       "    </tr>\n",
       "    <tr>\n",
       "      <th>6</th>\n",
       "      <td>737ad50051083aa051d127a53b3ac0da</td>\n",
       "      <td>Productivity</td>\n",
       "    </tr>\n",
       "    <tr>\n",
       "      <th>7</th>\n",
       "      <td>bd125b49ce6b0425d29e33cb8b49a496</td>\n",
       "      <td>Finding and adding products</td>\n",
       "    </tr>\n",
       "    <tr>\n",
       "      <th>8</th>\n",
       "      <td>30a930262efca129caafcd586bc7e6fe</td>\n",
       "      <td>Places to sell</td>\n",
       "    </tr>\n",
       "    <tr>\n",
       "      <th>9</th>\n",
       "      <td>26a72de0d02e0e4e5f615332d61a878e</td>\n",
       "      <td>Finances</td>\n",
       "    </tr>\n",
       "    <tr>\n",
       "      <th>10</th>\n",
       "      <td>c576a841fd4f333a6f074d68e76a1d37</td>\n",
       "      <td>Reporting</td>\n",
       "    </tr>\n",
       "    <tr>\n",
       "      <th>11</th>\n",
       "      <td>e44cd5379a3166568741a07cc81ef6e5</td>\n",
       "      <td>Trust and security</td>\n",
       "    </tr>\n",
       "  </tbody>\n",
       "</table>\n",
       "</div>"
      ],
      "text/plain": [
       "                         category_id                      category_name\n",
       "0   c3f9db73c29bc33607778f9935c3c4dc                       Store design\n",
       "1   64430ad2835be8ad60c59e7d44e4b0b1                   Customer support\n",
       "2   5eb4e29e50e3f178acc614236ed107f4  Sales and conversion optimization\n",
       "3   c769c2bd15500dd906102d9be97fdceb                          Marketing\n",
       "4   30ea2315e910c5e5335de42d5e87dca5                Orders and shipping\n",
       "5   9fe78acd078fc030de72c896adc93a2d               Inventory management\n",
       "6   737ad50051083aa051d127a53b3ac0da                       Productivity\n",
       "7   bd125b49ce6b0425d29e33cb8b49a496        Finding and adding products\n",
       "8   30a930262efca129caafcd586bc7e6fe                     Places to sell\n",
       "9   26a72de0d02e0e4e5f615332d61a878e                           Finances\n",
       "10  c576a841fd4f333a6f074d68e76a1d37                          Reporting\n",
       "11  e44cd5379a3166568741a07cc81ef6e5                 Trust and security"
      ]
     },
     "execution_count": 46,
     "metadata": {},
     "output_type": "execute_result"
    }
   ],
   "source": [
    "categories"
   ]
  },
  {
   "cell_type": "code",
   "execution_count": 47,
   "id": "41b46bcf",
   "metadata": {
    "ExecuteTime": {
     "end_time": "2022-05-22T20:49:15.399316Z",
     "start_time": "2022-05-22T20:49:15.384394Z"
    }
   },
   "outputs": [
    {
     "name": "stdout",
     "output_type": "stream",
     "text": [
      "<class 'pandas.core.frame.DataFrame'>\n",
      "RangeIndex: 12 entries, 0 to 11\n",
      "Data columns (total 2 columns):\n",
      " #   Column         Non-Null Count  Dtype \n",
      "---  ------         --------------  ----- \n",
      " 0   category_id    12 non-null     object\n",
      " 1   category_name  12 non-null     object\n",
      "dtypes: object(2)\n",
      "memory usage: 320.0+ bytes\n"
     ]
    }
   ],
   "source": [
    "categories.info()"
   ]
  },
  {
   "cell_type": "markdown",
   "id": "47a6a91a",
   "metadata": {},
   "source": [
    "There are only 12 different categories that an application can fall under."
   ]
  },
  {
   "cell_type": "markdown",
   "id": "ed2460d4",
   "metadata": {},
   "source": [
    "### Merge Dataframes to Retrieve App and Category Names"
   ]
  },
  {
   "cell_type": "markdown",
   "id": "f6539c9a",
   "metadata": {},
   "source": [
    "I will merge the dataframes together."
   ]
  },
  {
   "cell_type": "code",
   "execution_count": 48,
   "id": "111f240e",
   "metadata": {
    "ExecuteTime": {
     "end_time": "2022-05-22T20:49:15.414724Z",
     "start_time": "2022-05-22T20:49:15.400848Z"
    }
   },
   "outputs": [
    {
     "name": "stdout",
     "output_type": "stream",
     "text": [
      "The current 'reviews_df' dataframe shape I am working with has 446973 rows and 8 columns\n"
     ]
    }
   ],
   "source": [
    "# Shape of current dataframe\n",
    "[nrows_new, ncols_new] = reviews_df.shape\n",
    "print(f\"The current 'reviews_df' dataframe shape I am working with has {nrows_new} rows and {ncols_new} columns\")"
   ]
  },
  {
   "cell_type": "code",
   "execution_count": 49,
   "id": "46899a6f",
   "metadata": {
    "ExecuteTime": {
     "end_time": "2022-05-22T20:49:16.175287Z",
     "start_time": "2022-05-22T20:49:15.416721Z"
    },
    "scrolled": true
   },
   "outputs": [],
   "source": [
    "# Merge the dataframes using app_id for app_names.csv and apps_categories.csv\n",
    "# Merge the subsequent dataframe using category_id from categories.csv\n",
    "reviews_df_merged = reviews_df.merge(app_names, on='app_id').\\\n",
    "                    merge(apps_categories,on='app_id').\\\n",
    "                    merge(categories,on='category_id')"
   ]
  },
  {
   "cell_type": "code",
   "execution_count": 50,
   "id": "bb5104ab",
   "metadata": {
    "ExecuteTime": {
     "end_time": "2022-05-22T20:49:16.190937Z",
     "start_time": "2022-05-22T20:49:16.176892Z"
    }
   },
   "outputs": [
    {
     "data": {
      "text/html": [
       "<div>\n",
       "<style scoped>\n",
       "    .dataframe tbody tr th:only-of-type {\n",
       "        vertical-align: middle;\n",
       "    }\n",
       "\n",
       "    .dataframe tbody tr th {\n",
       "        vertical-align: top;\n",
       "    }\n",
       "\n",
       "    .dataframe thead th {\n",
       "        text-align: right;\n",
       "    }\n",
       "</style>\n",
       "<table border=\"1\" class=\"dataframe\">\n",
       "  <thead>\n",
       "    <tr style=\"text-align: right;\">\n",
       "      <th></th>\n",
       "      <th>app_id</th>\n",
       "      <th>author</th>\n",
       "      <th>rating</th>\n",
       "      <th>review_date</th>\n",
       "      <th>review_text</th>\n",
       "      <th>helpful_count</th>\n",
       "      <th>dev_reply_text</th>\n",
       "      <th>dev_reply_date</th>\n",
       "      <th>app_name</th>\n",
       "      <th>category_id</th>\n",
       "      <th>category_name</th>\n",
       "    </tr>\n",
       "  </thead>\n",
       "  <tbody>\n",
       "    <tr>\n",
       "      <th>0</th>\n",
       "      <td>b1da53a4-0474-4700-9620-bf386bc033fb</td>\n",
       "      <td>Consuela</td>\n",
       "      <td>5</td>\n",
       "      <td>2020-08-06</td>\n",
       "      <td>Great and super fast customer service! Highly ...</td>\n",
       "      <td>0</td>\n",
       "      <td>NaN</td>\n",
       "      <td>NaT</td>\n",
       "      <td>Instant Search +</td>\n",
       "      <td>c3f9db73c29bc33607778f9935c3c4dc</td>\n",
       "      <td>Store design</td>\n",
       "    </tr>\n",
       "    <tr>\n",
       "      <th>1</th>\n",
       "      <td>b1da53a4-0474-4700-9620-bf386bc033fb</td>\n",
       "      <td>L'Atelier Global</td>\n",
       "      <td>5</td>\n",
       "      <td>2020-08-04</td>\n",
       "      <td>Still setting up my store, and after initially...</td>\n",
       "      <td>0</td>\n",
       "      <td>NaN</td>\n",
       "      <td>NaT</td>\n",
       "      <td>Instant Search +</td>\n",
       "      <td>c3f9db73c29bc33607778f9935c3c4dc</td>\n",
       "      <td>Store design</td>\n",
       "    </tr>\n",
       "    <tr>\n",
       "      <th>2</th>\n",
       "      <td>b1da53a4-0474-4700-9620-bf386bc033fb</td>\n",
       "      <td>city'super E-Shop</td>\n",
       "      <td>5</td>\n",
       "      <td>2020-08-04</td>\n",
       "      <td>This is an excellent search app, which they ha...</td>\n",
       "      <td>0</td>\n",
       "      <td>NaN</td>\n",
       "      <td>NaT</td>\n",
       "      <td>Instant Search +</td>\n",
       "      <td>c3f9db73c29bc33607778f9935c3c4dc</td>\n",
       "      <td>Store design</td>\n",
       "    </tr>\n",
       "    <tr>\n",
       "      <th>3</th>\n",
       "      <td>b1da53a4-0474-4700-9620-bf386bc033fb</td>\n",
       "      <td>PortableHandwashing.com</td>\n",
       "      <td>5</td>\n",
       "      <td>2020-07-30</td>\n",
       "      <td>A+, great great great customer service! thanks...</td>\n",
       "      <td>0</td>\n",
       "      <td>NaN</td>\n",
       "      <td>NaT</td>\n",
       "      <td>Instant Search +</td>\n",
       "      <td>c3f9db73c29bc33607778f9935c3c4dc</td>\n",
       "      <td>Store design</td>\n",
       "    </tr>\n",
       "    <tr>\n",
       "      <th>4</th>\n",
       "      <td>b1da53a4-0474-4700-9620-bf386bc033fb</td>\n",
       "      <td>ICCTUNING</td>\n",
       "      <td>5</td>\n",
       "      <td>2020-07-28</td>\n",
       "      <td>I'm begginig to use this app, the search engin...</td>\n",
       "      <td>0</td>\n",
       "      <td>NaN</td>\n",
       "      <td>NaT</td>\n",
       "      <td>Instant Search +</td>\n",
       "      <td>c3f9db73c29bc33607778f9935c3c4dc</td>\n",
       "      <td>Store design</td>\n",
       "    </tr>\n",
       "  </tbody>\n",
       "</table>\n",
       "</div>"
      ],
      "text/plain": [
       "                                 app_id                   author  rating  \\\n",
       "0  b1da53a4-0474-4700-9620-bf386bc033fb                 Consuela       5   \n",
       "1  b1da53a4-0474-4700-9620-bf386bc033fb         L'Atelier Global       5   \n",
       "2  b1da53a4-0474-4700-9620-bf386bc033fb        city'super E-Shop       5   \n",
       "3  b1da53a4-0474-4700-9620-bf386bc033fb  PortableHandwashing.com       5   \n",
       "4  b1da53a4-0474-4700-9620-bf386bc033fb                ICCTUNING       5   \n",
       "\n",
       "  review_date                                        review_text  \\\n",
       "0  2020-08-06  Great and super fast customer service! Highly ...   \n",
       "1  2020-08-04  Still setting up my store, and after initially...   \n",
       "2  2020-08-04  This is an excellent search app, which they ha...   \n",
       "3  2020-07-30  A+, great great great customer service! thanks...   \n",
       "4  2020-07-28  I'm begginig to use this app, the search engin...   \n",
       "\n",
       "   helpful_count dev_reply_text dev_reply_date          app_name  \\\n",
       "0              0            NaN            NaT  Instant Search +   \n",
       "1              0            NaN            NaT  Instant Search +   \n",
       "2              0            NaN            NaT  Instant Search +   \n",
       "3              0            NaN            NaT  Instant Search +   \n",
       "4              0            NaN            NaT  Instant Search +   \n",
       "\n",
       "                        category_id category_name  \n",
       "0  c3f9db73c29bc33607778f9935c3c4dc  Store design  \n",
       "1  c3f9db73c29bc33607778f9935c3c4dc  Store design  \n",
       "2  c3f9db73c29bc33607778f9935c3c4dc  Store design  \n",
       "3  c3f9db73c29bc33607778f9935c3c4dc  Store design  \n",
       "4  c3f9db73c29bc33607778f9935c3c4dc  Store design  "
      ]
     },
     "execution_count": 50,
     "metadata": {},
     "output_type": "execute_result"
    }
   ],
   "source": [
    "# Glimpse of the first 5 rows of the data frame\n",
    "reviews_df_merged.head()"
   ]
  },
  {
   "cell_type": "code",
   "execution_count": 51,
   "id": "42b87ae8",
   "metadata": {
    "ExecuteTime": {
     "end_time": "2022-05-22T20:49:16.206141Z",
     "start_time": "2022-05-22T20:49:16.192977Z"
    }
   },
   "outputs": [
    {
     "name": "stdout",
     "output_type": "stream",
     "text": [
      "The updated and merged 'reviews_df' dataframe shape I am working with now has 808560 rows and 11 columns\n"
     ]
    }
   ],
   "source": [
    "# Shape of the updated and merged dataframe\n",
    "# Multi-line f string\n",
    "[nrows_new, ncols_new] = reviews_df_merged.shape\n",
    "print(f\"The updated and merged 'reviews_df' dataframe shape I am working with \"\n",
    "      f\"now has {nrows_new} rows and {ncols_new} columns\")"
   ]
  },
  {
   "cell_type": "markdown",
   "id": "b0703024",
   "metadata": {},
   "source": [
    "I will now drop the unique identifier columns."
   ]
  },
  {
   "cell_type": "code",
   "execution_count": 52,
   "id": "492198d7",
   "metadata": {
    "ExecuteTime": {
     "end_time": "2022-05-22T20:49:16.441081Z",
     "start_time": "2022-05-22T20:49:16.207769Z"
    }
   },
   "outputs": [],
   "source": [
    "# Drop unique id columns\n",
    "reviews_df_merged.drop(columns = ['app_id', 'category_id'], inplace = True)"
   ]
  },
  {
   "cell_type": "markdown",
   "id": "0c0186e4",
   "metadata": {},
   "source": [
    "Reorganize the dataframe and the columns so that the `app_name` and `category_name` are on the left-hand side."
   ]
  },
  {
   "cell_type": "code",
   "execution_count": 53,
   "id": "0b8df1e5",
   "metadata": {
    "ExecuteTime": {
     "end_time": "2022-05-22T20:49:16.551748Z",
     "start_time": "2022-05-22T20:49:16.442431Z"
    }
   },
   "outputs": [],
   "source": [
    "reviews_df_merged = reviews_df_merged[['app_name',\n",
    "                         'category_name',\n",
    "                         'author', \n",
    "                         'rating', \n",
    "                         'review_date',\n",
    "                         'review_text', \n",
    "                         'helpful_count', \n",
    "                         'dev_reply_text', \n",
    "                         'dev_reply_date']]"
   ]
  },
  {
   "cell_type": "markdown",
   "id": "133ae089",
   "metadata": {},
   "source": [
    "Let's take an overview look at the dataframe."
   ]
  },
  {
   "cell_type": "code",
   "execution_count": 54,
   "id": "a052fa20",
   "metadata": {
    "ExecuteTime": {
     "end_time": "2022-05-22T20:49:16.820769Z",
     "start_time": "2022-05-22T20:49:16.553243Z"
    }
   },
   "outputs": [
    {
     "name": "stdout",
     "output_type": "stream",
     "text": [
      "<class 'pandas.core.frame.DataFrame'>\n",
      "Int64Index: 808560 entries, 0 to 808559\n",
      "Data columns (total 9 columns):\n",
      " #   Column          Non-Null Count   Dtype         \n",
      "---  ------          --------------   -----         \n",
      " 0   app_name        808560 non-null  object        \n",
      " 1   category_name   808560 non-null  object        \n",
      " 2   author          808560 non-null  object        \n",
      " 3   rating          808560 non-null  int64         \n",
      " 4   review_date     808560 non-null  datetime64[ns]\n",
      " 5   review_text     808560 non-null  object        \n",
      " 6   helpful_count   808560 non-null  int64         \n",
      " 7   dev_reply_text  90616 non-null   object        \n",
      " 8   dev_reply_date  90616 non-null   datetime64[ns]\n",
      "dtypes: datetime64[ns](2), int64(2), object(5)\n",
      "memory usage: 61.7+ MB\n"
     ]
    }
   ],
   "source": [
    "reviews_df_merged.info()"
   ]
  },
  {
   "cell_type": "markdown",
   "id": "ccfb34d5",
   "metadata": {},
   "source": [
    "The problem faced here is thatthe dataframe has actually grown! The reason for this is that in the `apps_categories` dataframe, each app can fall into MORE THAN ONE category. This resulted in the growth ofthe dataframe because of the duplicated rows of data. \n",
    "\n",
    "Further analysis will not be made based on the category of the apps. As a result, category will not be explored further throughout sentiment analysis and topic modeling. It will only be examined during EDA."
   ]
  },
  {
   "cell_type": "markdown",
   "id": "bab246b9",
   "metadata": {},
   "source": [
    "I now have two dataframes: \n",
    "\n",
    "- `reviews_df_merged` will be used to examine app names with their corresponding category(ies) names\n",
    "- `reviews_df` will have the app names only"
   ]
  },
  {
   "cell_type": "markdown",
   "id": "59766cbf",
   "metadata": {},
   "source": [
    "I will create another dataframe where only the `app_names` file with the `reviews_df` are merged to retrieve the corresponding application name with the unique application identifier. This dataframe will retain the `reviews_df` variable name."
   ]
  },
  {
   "cell_type": "markdown",
   "id": "d52d705a",
   "metadata": {},
   "source": [
    "Check the shape prior to merge and compare it to after the merge to ensure no size changes occurred."
   ]
  },
  {
   "cell_type": "code",
   "execution_count": 55,
   "id": "18a35cdf",
   "metadata": {
    "ExecuteTime": {
     "end_time": "2022-05-22T20:49:16.835900Z",
     "start_time": "2022-05-22T20:49:16.821903Z"
    }
   },
   "outputs": [
    {
     "name": "stdout",
     "output_type": "stream",
     "text": [
      "The current 'reviews_df' dataframe shape I am working with has 446973 rows and 8 columns\n"
     ]
    }
   ],
   "source": [
    "# Shape of current dataframe\n",
    "[nrows_new, ncols_new] = reviews_df.shape\n",
    "print(f\"The current 'reviews_df' dataframe shape I am working with has {nrows_new} rows and {ncols_new} columns\")"
   ]
  },
  {
   "cell_type": "code",
   "execution_count": 56,
   "id": "a2232339",
   "metadata": {
    "ExecuteTime": {
     "end_time": "2022-05-22T20:49:17.167686Z",
     "start_time": "2022-05-22T20:49:16.837801Z"
    }
   },
   "outputs": [],
   "source": [
    "# Merge app names to dateframe\n",
    "reviews_df = reviews_df.merge(app_names, on='app_id', how = 'inner')"
   ]
  },
  {
   "cell_type": "code",
   "execution_count": 57,
   "id": "3f964b79",
   "metadata": {
    "ExecuteTime": {
     "end_time": "2022-05-22T20:49:17.183682Z",
     "start_time": "2022-05-22T20:49:17.169683Z"
    }
   },
   "outputs": [
    {
     "name": "stdout",
     "output_type": "stream",
     "text": [
      "The updated 'reviews_df' dataframe shape I am working with has 446973 rows and 9 columns\n"
     ]
    }
   ],
   "source": [
    "# Shape of updated dataframe\n",
    "[nrows_new, ncols_new] = reviews_df.shape\n",
    "print(f\"The updated 'reviews_df' dataframe shape I am working with has {nrows_new} rows and {ncols_new} columns\")"
   ]
  },
  {
   "cell_type": "code",
   "execution_count": 58,
   "id": "89bbca82",
   "metadata": {
    "ExecuteTime": {
     "end_time": "2022-05-22T20:49:17.199682Z",
     "start_time": "2022-05-22T20:49:17.184684Z"
    },
    "scrolled": true
   },
   "outputs": [
    {
     "data": {
      "text/html": [
       "<div>\n",
       "<style scoped>\n",
       "    .dataframe tbody tr th:only-of-type {\n",
       "        vertical-align: middle;\n",
       "    }\n",
       "\n",
       "    .dataframe tbody tr th {\n",
       "        vertical-align: top;\n",
       "    }\n",
       "\n",
       "    .dataframe thead th {\n",
       "        text-align: right;\n",
       "    }\n",
       "</style>\n",
       "<table border=\"1\" class=\"dataframe\">\n",
       "  <thead>\n",
       "    <tr style=\"text-align: right;\">\n",
       "      <th></th>\n",
       "      <th>app_id</th>\n",
       "      <th>author</th>\n",
       "      <th>rating</th>\n",
       "      <th>review_date</th>\n",
       "      <th>review_text</th>\n",
       "      <th>helpful_count</th>\n",
       "      <th>dev_reply_text</th>\n",
       "      <th>dev_reply_date</th>\n",
       "      <th>app_name</th>\n",
       "    </tr>\n",
       "  </thead>\n",
       "  <tbody>\n",
       "    <tr>\n",
       "      <th>0</th>\n",
       "      <td>b1da53a4-0474-4700-9620-bf386bc033fb</td>\n",
       "      <td>Consuela</td>\n",
       "      <td>5</td>\n",
       "      <td>2020-08-06</td>\n",
       "      <td>Great and super fast customer service! Highly ...</td>\n",
       "      <td>0</td>\n",
       "      <td>NaN</td>\n",
       "      <td>NaT</td>\n",
       "      <td>Instant Search +</td>\n",
       "    </tr>\n",
       "    <tr>\n",
       "      <th>1</th>\n",
       "      <td>b1da53a4-0474-4700-9620-bf386bc033fb</td>\n",
       "      <td>L'Atelier Global</td>\n",
       "      <td>5</td>\n",
       "      <td>2020-08-04</td>\n",
       "      <td>Still setting up my store, and after initially...</td>\n",
       "      <td>0</td>\n",
       "      <td>NaN</td>\n",
       "      <td>NaT</td>\n",
       "      <td>Instant Search +</td>\n",
       "    </tr>\n",
       "    <tr>\n",
       "      <th>2</th>\n",
       "      <td>b1da53a4-0474-4700-9620-bf386bc033fb</td>\n",
       "      <td>city'super E-Shop</td>\n",
       "      <td>5</td>\n",
       "      <td>2020-08-04</td>\n",
       "      <td>This is an excellent search app, which they ha...</td>\n",
       "      <td>0</td>\n",
       "      <td>NaN</td>\n",
       "      <td>NaT</td>\n",
       "      <td>Instant Search +</td>\n",
       "    </tr>\n",
       "    <tr>\n",
       "      <th>3</th>\n",
       "      <td>b1da53a4-0474-4700-9620-bf386bc033fb</td>\n",
       "      <td>PortableHandwashing.com</td>\n",
       "      <td>5</td>\n",
       "      <td>2020-07-30</td>\n",
       "      <td>A+, great great great customer service! thanks...</td>\n",
       "      <td>0</td>\n",
       "      <td>NaN</td>\n",
       "      <td>NaT</td>\n",
       "      <td>Instant Search +</td>\n",
       "    </tr>\n",
       "    <tr>\n",
       "      <th>4</th>\n",
       "      <td>b1da53a4-0474-4700-9620-bf386bc033fb</td>\n",
       "      <td>ICCTUNING</td>\n",
       "      <td>5</td>\n",
       "      <td>2020-07-28</td>\n",
       "      <td>I'm begginig to use this app, the search engin...</td>\n",
       "      <td>0</td>\n",
       "      <td>NaN</td>\n",
       "      <td>NaT</td>\n",
       "      <td>Instant Search +</td>\n",
       "    </tr>\n",
       "  </tbody>\n",
       "</table>\n",
       "</div>"
      ],
      "text/plain": [
       "                                 app_id                   author  rating  \\\n",
       "0  b1da53a4-0474-4700-9620-bf386bc033fb                 Consuela       5   \n",
       "1  b1da53a4-0474-4700-9620-bf386bc033fb         L'Atelier Global       5   \n",
       "2  b1da53a4-0474-4700-9620-bf386bc033fb        city'super E-Shop       5   \n",
       "3  b1da53a4-0474-4700-9620-bf386bc033fb  PortableHandwashing.com       5   \n",
       "4  b1da53a4-0474-4700-9620-bf386bc033fb                ICCTUNING       5   \n",
       "\n",
       "  review_date                                        review_text  \\\n",
       "0  2020-08-06  Great and super fast customer service! Highly ...   \n",
       "1  2020-08-04  Still setting up my store, and after initially...   \n",
       "2  2020-08-04  This is an excellent search app, which they ha...   \n",
       "3  2020-07-30  A+, great great great customer service! thanks...   \n",
       "4  2020-07-28  I'm begginig to use this app, the search engin...   \n",
       "\n",
       "   helpful_count dev_reply_text dev_reply_date          app_name  \n",
       "0              0            NaN            NaT  Instant Search +  \n",
       "1              0            NaN            NaT  Instant Search +  \n",
       "2              0            NaN            NaT  Instant Search +  \n",
       "3              0            NaN            NaT  Instant Search +  \n",
       "4              0            NaN            NaT  Instant Search +  "
      ]
     },
     "execution_count": 58,
     "metadata": {},
     "output_type": "execute_result"
    }
   ],
   "source": [
    "# Glimpse of the first 5 rows of the data frame\n",
    "reviews_df.head()"
   ]
  },
  {
   "cell_type": "markdown",
   "id": "effe5f6e",
   "metadata": {},
   "source": [
    "I will drop the unique `app_id` sinceI now have the corresponding `app_name`."
   ]
  },
  {
   "cell_type": "code",
   "execution_count": 59,
   "id": "378c7fc9",
   "metadata": {
    "ExecuteTime": {
     "end_time": "2022-05-22T20:49:17.326020Z",
     "start_time": "2022-05-22T20:49:17.200684Z"
    },
    "scrolled": true
   },
   "outputs": [],
   "source": [
    "reviews_df.drop(columns = ['app_id'], inplace = True)"
   ]
  },
  {
   "cell_type": "markdown",
   "id": "1e00af54",
   "metadata": {},
   "source": [
    "Reorganize the columns of the dataframe so that `app_name` is on the left-hand side."
   ]
  },
  {
   "cell_type": "code",
   "execution_count": 60,
   "id": "2148c2d0",
   "metadata": {
    "ExecuteTime": {
     "end_time": "2022-05-22T20:49:17.388917Z",
     "start_time": "2022-05-22T20:49:17.328490Z"
    }
   },
   "outputs": [],
   "source": [
    "reviews_df = reviews_df[['app_name',\n",
    "                         'author', \n",
    "                         'rating', \n",
    "                         'review_date',\n",
    "                         'review_text', \n",
    "                         'helpful_count', \n",
    "                         'dev_reply_text', \n",
    "                         'dev_reply_date']]"
   ]
  },
  {
   "cell_type": "markdown",
   "id": "322c8169",
   "metadata": {},
   "source": [
    "Take a quick glimpse of the newly merged `reviews_df` dataframe."
   ]
  },
  {
   "cell_type": "code",
   "execution_count": 61,
   "id": "25eb7da7",
   "metadata": {
    "ExecuteTime": {
     "end_time": "2022-05-22T20:49:17.405063Z",
     "start_time": "2022-05-22T20:49:17.390923Z"
    }
   },
   "outputs": [
    {
     "data": {
      "text/html": [
       "<div>\n",
       "<style scoped>\n",
       "    .dataframe tbody tr th:only-of-type {\n",
       "        vertical-align: middle;\n",
       "    }\n",
       "\n",
       "    .dataframe tbody tr th {\n",
       "        vertical-align: top;\n",
       "    }\n",
       "\n",
       "    .dataframe thead th {\n",
       "        text-align: right;\n",
       "    }\n",
       "</style>\n",
       "<table border=\"1\" class=\"dataframe\">\n",
       "  <thead>\n",
       "    <tr style=\"text-align: right;\">\n",
       "      <th></th>\n",
       "      <th>app_name</th>\n",
       "      <th>author</th>\n",
       "      <th>rating</th>\n",
       "      <th>review_date</th>\n",
       "      <th>review_text</th>\n",
       "      <th>helpful_count</th>\n",
       "      <th>dev_reply_text</th>\n",
       "      <th>dev_reply_date</th>\n",
       "    </tr>\n",
       "  </thead>\n",
       "  <tbody>\n",
       "    <tr>\n",
       "      <th>0</th>\n",
       "      <td>Instant Search +</td>\n",
       "      <td>Consuela</td>\n",
       "      <td>5</td>\n",
       "      <td>2020-08-06</td>\n",
       "      <td>Great and super fast customer service! Highly ...</td>\n",
       "      <td>0</td>\n",
       "      <td>NaN</td>\n",
       "      <td>NaT</td>\n",
       "    </tr>\n",
       "    <tr>\n",
       "      <th>1</th>\n",
       "      <td>Instant Search +</td>\n",
       "      <td>L'Atelier Global</td>\n",
       "      <td>5</td>\n",
       "      <td>2020-08-04</td>\n",
       "      <td>Still setting up my store, and after initially...</td>\n",
       "      <td>0</td>\n",
       "      <td>NaN</td>\n",
       "      <td>NaT</td>\n",
       "    </tr>\n",
       "    <tr>\n",
       "      <th>2</th>\n",
       "      <td>Instant Search +</td>\n",
       "      <td>city'super E-Shop</td>\n",
       "      <td>5</td>\n",
       "      <td>2020-08-04</td>\n",
       "      <td>This is an excellent search app, which they ha...</td>\n",
       "      <td>0</td>\n",
       "      <td>NaN</td>\n",
       "      <td>NaT</td>\n",
       "    </tr>\n",
       "    <tr>\n",
       "      <th>3</th>\n",
       "      <td>Instant Search +</td>\n",
       "      <td>PortableHandwashing.com</td>\n",
       "      <td>5</td>\n",
       "      <td>2020-07-30</td>\n",
       "      <td>A+, great great great customer service! thanks...</td>\n",
       "      <td>0</td>\n",
       "      <td>NaN</td>\n",
       "      <td>NaT</td>\n",
       "    </tr>\n",
       "    <tr>\n",
       "      <th>4</th>\n",
       "      <td>Instant Search +</td>\n",
       "      <td>ICCTUNING</td>\n",
       "      <td>5</td>\n",
       "      <td>2020-07-28</td>\n",
       "      <td>I'm begginig to use this app, the search engin...</td>\n",
       "      <td>0</td>\n",
       "      <td>NaN</td>\n",
       "      <td>NaT</td>\n",
       "    </tr>\n",
       "  </tbody>\n",
       "</table>\n",
       "</div>"
      ],
      "text/plain": [
       "           app_name                   author  rating review_date  \\\n",
       "0  Instant Search +                 Consuela       5  2020-08-06   \n",
       "1  Instant Search +         L'Atelier Global       5  2020-08-04   \n",
       "2  Instant Search +        city'super E-Shop       5  2020-08-04   \n",
       "3  Instant Search +  PortableHandwashing.com       5  2020-07-30   \n",
       "4  Instant Search +                ICCTUNING       5  2020-07-28   \n",
       "\n",
       "                                         review_text  helpful_count  \\\n",
       "0  Great and super fast customer service! Highly ...              0   \n",
       "1  Still setting up my store, and after initially...              0   \n",
       "2  This is an excellent search app, which they ha...              0   \n",
       "3  A+, great great great customer service! thanks...              0   \n",
       "4  I'm begginig to use this app, the search engin...              0   \n",
       "\n",
       "  dev_reply_text dev_reply_date  \n",
       "0            NaN            NaT  \n",
       "1            NaN            NaT  \n",
       "2            NaN            NaT  \n",
       "3            NaN            NaT  \n",
       "4            NaN            NaT  "
      ]
     },
     "execution_count": 61,
     "metadata": {},
     "output_type": "execute_result"
    }
   ],
   "source": [
    "reviews_df.head()"
   ]
  },
  {
   "cell_type": "code",
   "execution_count": 62,
   "id": "5433a77c",
   "metadata": {
    "ExecuteTime": {
     "end_time": "2022-05-22T20:49:17.547343Z",
     "start_time": "2022-05-22T20:49:17.406587Z"
    }
   },
   "outputs": [
    {
     "name": "stdout",
     "output_type": "stream",
     "text": [
      "<class 'pandas.core.frame.DataFrame'>\n",
      "Int64Index: 446973 entries, 0 to 446972\n",
      "Data columns (total 8 columns):\n",
      " #   Column          Non-Null Count   Dtype         \n",
      "---  ------          --------------   -----         \n",
      " 0   app_name        446973 non-null  object        \n",
      " 1   author          446973 non-null  object        \n",
      " 2   rating          446973 non-null  int64         \n",
      " 3   review_date     446973 non-null  datetime64[ns]\n",
      " 4   review_text     446973 non-null  object        \n",
      " 5   helpful_count   446973 non-null  int64         \n",
      " 6   dev_reply_text  47542 non-null   object        \n",
      " 7   dev_reply_date  47542 non-null   datetime64[ns]\n",
      "dtypes: datetime64[ns](2), int64(2), object(4)\n",
      "memory usage: 30.7+ MB\n"
     ]
    }
   ],
   "source": [
    "reviews_df.info()"
   ]
  },
  {
   "cell_type": "markdown",
   "id": "98504868",
   "metadata": {},
   "source": [
    "The `reviews_df` dataframe now has the corresponding app name and not the unique identifier as the first column. No changes to the shape of the dataframe is observed."
   ]
  },
  {
   "cell_type": "markdown",
   "id": "23eb74f8",
   "metadata": {},
   "source": [
    "## Exploratory Data Analysis\n",
    "***"
   ]
  },
  {
   "cell_type": "markdown",
   "id": "a190dc49",
   "metadata": {},
   "source": [
    "I will now be conducting exploratory analyses on the current state of the data that I have. Two separate EDAs will be conducted on the `reviews_df` and `reviews_df_merged`."
   ]
  },
  {
   "cell_type": "markdown",
   "id": "c3d2c613",
   "metadata": {},
   "source": [
    "### EDA on `reviews_df`\n",
    "\n",
    "<a id='app_developers_directive'></a>"
   ]
  },
  {
   "cell_type": "markdown",
   "id": "2caa4776",
   "metadata": {},
   "source": [
    "In this section, an important step was made in creating another feature/column to the dataframe. Specifically, when evaluating the distribution of ratings across the reviews, I have multiple classes (i.e., 1 to 5 stars) and class imbalances that are observed in the subsection below titled `What is the rating distribution?`.\n",
    "\n",
    "In order to simplify the analysis downstream, I implemented a data amalgamation of the ratings and converted it from a 5 star multi-class classification analysis to just a binary-class of positive (i.e., good) and negative (i.e., bad) reviews classification analysis. Specifically, reviews with ratings from 1-3 were categorized as negative or bad reviews and reviews with ratings from 4-5 were categorized as positive or good reviews.\n",
    "\n",
    "The reasons for this positive and negative reviews simplification as well as the threshold for rating delineation are as follows:\n",
    "\n",
    "1. Simplify the multi-class problem into a binary classification analysis.\n",
    "2. Heuristics may argue that ratings of 4 to 5 may not differ that greatly.\n",
    "3. A previous study by [Pagano & Maalej (2013)](https://ieeexplore.ieee.org/document/6636712) found that of the various topics that the reviews from Apple's App Store encapsulated, $\\approx$ 93%-97% of reviews rated 4-5 stars contained \"praise\", defined by the authors as an expression of appreciation in the feedback. In contrast, only $\\approx$ 20% of reviews rated 3 stars or less contained \"praise\".\n",
    "4. Lastly, the directive provided by Shopify's App store to app developers state that replying to reviews are optional. Furthermore, [Shopify's recommendations](https://shopify.dev/apps/store/success/managing-app-reviews) on how to go about responding to reviews include focusing on addressing reviews with \"three stars or less...\".\n",
    "\n",
    "As a result, a new feature/column was made titled `is_review_good` in the `What is the rating distribution of good or bad reviews?` subsection below."
   ]
  },
  {
   "cell_type": "markdown",
   "id": "aab88d59",
   "metadata": {},
   "source": [
    "#### What are the total number of unique apps and authors/merchants? What is the range of review dates?"
   ]
  },
  {
   "cell_type": "code",
   "execution_count": 63,
   "id": "7896c0cd",
   "metadata": {
    "ExecuteTime": {
     "end_time": "2022-05-22T20:49:18.241698Z",
     "start_time": "2022-05-22T20:49:17.548345Z"
    }
   },
   "outputs": [
    {
     "data": {
      "text/plain": [
       "app_name            3701\n",
       "author            299204\n",
       "rating                 5\n",
       "review_date         3088\n",
       "review_text       441042\n",
       "helpful_count         54\n",
       "dev_reply_text     37254\n",
       "dev_reply_date       550\n",
       "dtype: int64"
      ]
     },
     "execution_count": 63,
     "metadata": {},
     "output_type": "execute_result"
    }
   ],
   "source": [
    "# Obtain total unique values for each column in the dataframe\n",
    "reviews_df.nunique()"
   ]
  },
  {
   "cell_type": "code",
   "execution_count": 64,
   "id": "3e144f30",
   "metadata": {
    "ExecuteTime": {
     "end_time": "2022-05-22T20:49:18.289699Z",
     "start_time": "2022-05-22T20:49:18.242701Z"
    }
   },
   "outputs": [
    {
     "data": {
      "text/plain": [
       "173323   2012-01-17\n",
       "323569   2012-01-19\n",
       "224797   2012-01-23\n",
       "173322   2012-01-23\n",
       "313634   2012-01-24\n",
       "            ...    \n",
       "66564    2020-08-30\n",
       "7171     2020-08-30\n",
       "56515    2020-08-30\n",
       "435024   2020-08-30\n",
       "63571    2020-08-30\n",
       "Name: review_date, Length: 446973, dtype: datetime64[ns]"
      ]
     },
     "execution_count": 64,
     "metadata": {},
     "output_type": "execute_result"
    }
   ],
   "source": [
    "# Sort the dates in the review_date column\n",
    "reviews_df['review_date'].sort_values()"
   ]
  },
  {
   "cell_type": "markdown",
   "id": "e74ff555",
   "metadata": {},
   "source": [
    "After taking the dataset through general data cleaning procedures, the dataset contains:\n",
    "\n",
    "- 3,701 unique listed applications with reviews\n",
    "- 299,204 unique authors/merchants, indicating that more than one review was completed by the same author\n",
    "- Reviews that now range from 2012-2020 instead of from 2009 (i.e., a result of the data cleaning process)"
   ]
  },
  {
   "cell_type": "markdown",
   "id": "9ff3b676",
   "metadata": {},
   "source": [
    "#### What are the total reviews observed across each year?"
   ]
  },
  {
   "cell_type": "markdown",
   "id": "324d2ea3",
   "metadata": {},
   "source": [
    "Let's take a look at which years that reviews generally fall under."
   ]
  },
  {
   "cell_type": "code",
   "execution_count": 65,
   "id": "bc0a7cd5",
   "metadata": {
    "ExecuteTime": {
     "end_time": "2022-05-22T20:49:18.637852Z",
     "start_time": "2022-05-22T20:49:18.290700Z"
    }
   },
   "outputs": [
    {
     "data": {
      "image/png": "[encoded data removed]",
      "text/plain": [
       "<Figure size 1440x1440 with 1 Axes>"
      ]
     },
     "metadata": {
      "needs_background": "light"
     },
     "output_type": "display_data"
    }
   ],
   "source": [
    "plt.figure(figsize=(20, 20))\n",
    "\n",
    "############# Bar Graph #############\n",
    "sns.barplot(x=reviews_df['review_date'].dt.year.value_counts().index,\n",
    "            y=reviews_df['review_date'].dt.year.value_counts(),\n",
    "            color='steelblue')\n",
    "\n",
    "# Set title and labels for axes\n",
    "plt.xlabel(\"Year\", size=24)\n",
    "plt.ylabel(\"Total Count\", size=24)\n",
    "plt.title(\"Total Reviews in Each Year\", size=24, pad=20)\n",
    "plt.yticks(size=14)\n",
    "plt.xticks(size=14)\n",
    "\n",
    "# Set axis limits\n",
    "plt.ylim(0, 120_000)\n",
    "\n",
    "plt.tight_layout()\n",
    "plt.show()"
   ]
  },
  {
   "cell_type": "markdown",
   "id": "40c7195c",
   "metadata": {},
   "source": [
    "We see general trends of year-over-year increases in the total reviews. Note that the total reviews in 2019 looks larger than 2020 but that is a result of total reviews in 2020 ranging up until August."
   ]
  },
  {
   "cell_type": "markdown",
   "id": "88ae7d7e",
   "metadata": {},
   "source": [
    "#### What is the rating distribution?"
   ]
  },
  {
   "cell_type": "code",
   "execution_count": 66,
   "id": "6cec5104",
   "metadata": {
    "ExecuteTime": {
     "end_time": "2022-05-22T20:49:18.653708Z",
     "start_time": "2022-05-22T20:49:18.638838Z"
    }
   },
   "outputs": [
    {
     "data": {
      "text/plain": [
       "1     16882\n",
       "2      4742\n",
       "3      9533\n",
       "4     36641\n",
       "5    379175\n",
       "Name: rating, dtype: int64"
      ]
     },
     "execution_count": 66,
     "metadata": {},
     "output_type": "execute_result"
    }
   ],
   "source": [
    "# Total count of each rating observed\n",
    "reviews_df['rating'].value_counts().sort_index()"
   ]
  },
  {
   "cell_type": "code",
   "execution_count": 67,
   "id": "ce81f248",
   "metadata": {
    "ExecuteTime": {
     "end_time": "2022-05-22T20:49:18.669724Z",
     "start_time": "2022-05-22T20:49:18.655693Z"
    }
   },
   "outputs": [
    {
     "data": {
      "text/plain": [
       "1     3.78\n",
       "2     1.06\n",
       "3     2.13\n",
       "4     8.20\n",
       "5    84.83\n",
       "Name: rating, dtype: float64"
      ]
     },
     "execution_count": 67,
     "metadata": {},
     "output_type": "execute_result"
    }
   ],
   "source": [
    "# Total proportion of each rating observed, in percentage\n",
    "round(reviews_df['rating'].value_counts(normalize = True) * 100, 2).sort_index()"
   ]
  },
  {
   "cell_type": "code",
   "execution_count": 68,
   "id": "cf6bb658",
   "metadata": {
    "ExecuteTime": {
     "end_time": "2022-05-22T20:49:18.924299Z",
     "start_time": "2022-05-22T20:49:18.670713Z"
    },
    "scrolled": false
   },
   "outputs": [
    {
     "data": {
      "image/png": "[encoded data removed]",
      "text/plain": [
       "<Figure size 720x720 with 1 Axes>"
      ]
     },
     "metadata": {
      "needs_background": "light"
     },
     "output_type": "display_data"
    },
    {
     "data": {
      "text/plain": [
       "<Figure size 432x288 with 0 Axes>"
      ]
     },
     "metadata": {},
     "output_type": "display_data"
    }
   ],
   "source": [
    "plt.figure(figsize=(10, 10))\n",
    "\n",
    "############# Bar Graph #############\n",
    "sns.barplot(x=reviews_df['rating'].value_counts().index,\n",
    "            y=round(reviews_df['rating'].value_counts(normalize = True) * 100, 2),\n",
    "            color='steelblue')\n",
    "\n",
    "# Set title and labels for axes\n",
    "plt.xlabel(\"Review Score Rating\", size=24)\n",
    "plt.ylabel(\"Percentage (%)\", size=24)\n",
    "plt.title(\"Proportion (in %) of Rating Score in All Reviews\",\n",
    "          size=24,\n",
    "          pad=20)\n",
    "plt.yticks(size = 14)\n",
    "plt.xticks(size = 14)\n",
    "\n",
    "# Set axis limits\n",
    "plt.ylim(0, 90)\n",
    "\n",
    "# Remove top and right borders\n",
    "sns.despine()\n",
    "\n",
    "plt.tight_layout()\n",
    "plt.show()\n",
    "\n",
    "# Save figure\n",
    "plt.savefig('ratings.png', dpi=300, bbox_inches='tight')"
   ]
  },
  {
   "cell_type": "markdown",
   "id": "d753df68",
   "metadata": {},
   "source": [
    "We see a left-skewed distribution in the review ratings, with $\\approx$ 85% of reviews rated 5 stars."
   ]
  },
  {
   "cell_type": "markdown",
   "id": "06a4a38c",
   "metadata": {},
   "source": [
    "#### What is the distribution of positive and negative reviews?"
   ]
  },
  {
   "cell_type": "code",
   "execution_count": 69,
   "id": "4b454dbb",
   "metadata": {
    "ExecuteTime": {
     "end_time": "2022-05-22T20:49:18.940299Z",
     "start_time": "2022-05-22T20:49:18.926300Z"
    }
   },
   "outputs": [],
   "source": [
    "# Create a new column titled 'is_review_good' and label any\n",
    "# row with a star rating of 4 and above a 1 or 'positive'. \n",
    "# Ratings 3 and below are labeled 0 or 'negative'\n",
    "reviews_df['is_review_good'] = np.where(reviews_df['rating'] >= 4, 1, 0)"
   ]
  },
  {
   "cell_type": "code",
   "execution_count": 70,
   "id": "1c25b073",
   "metadata": {
    "ExecuteTime": {
     "end_time": "2022-05-22T20:49:18.955300Z",
     "start_time": "2022-05-22T20:49:18.941301Z"
    }
   },
   "outputs": [
    {
     "data": {
      "text/plain": [
       "0     31157\n",
       "1    415816\n",
       "Name: is_review_good, dtype: int64"
      ]
     },
     "execution_count": 70,
     "metadata": {},
     "output_type": "execute_result"
    }
   ],
   "source": [
    "# Total proportion of positive and negative reviews observed\n",
    "reviews_df['is_review_good'].value_counts().sort_index()"
   ]
  },
  {
   "cell_type": "code",
   "execution_count": 71,
   "id": "156601b0",
   "metadata": {
    "ExecuteTime": {
     "end_time": "2022-05-22T20:49:18.971299Z",
     "start_time": "2022-05-22T20:49:18.956299Z"
    }
   },
   "outputs": [
    {
     "data": {
      "text/plain": [
       "0     6.97\n",
       "1    93.03\n",
       "Name: is_review_good, dtype: float64"
      ]
     },
     "execution_count": 71,
     "metadata": {},
     "output_type": "execute_result"
    }
   ],
   "source": [
    "# Total proportion of positive and negative reviews observed, in percentage\n",
    "round(reviews_df['is_review_good'].value_counts(normalize = True) * 100, 2).sort_index()"
   ]
  },
  {
   "cell_type": "code",
   "execution_count": 72,
   "id": "9a8dea71",
   "metadata": {
    "ExecuteTime": {
     "end_time": "2022-05-22T20:49:18.987299Z",
     "start_time": "2022-05-22T20:49:18.972300Z"
    }
   },
   "outputs": [],
   "source": [
    "# Create new variable for the plot below\n",
    "good_reviews = reviews_df['is_review_good'].value_counts(normalize = True).sort_index().rename({0: 'Negative', 1: 'Positive' })"
   ]
  },
  {
   "cell_type": "code",
   "execution_count": 73,
   "id": "610b011c",
   "metadata": {
    "ExecuteTime": {
     "end_time": "2022-05-22T20:49:19.114927Z",
     "start_time": "2022-05-22T20:49:18.989301Z"
    },
    "scrolled": false
   },
   "outputs": [
    {
     "data": {
      "image/png": "[encoded data removed]",
      "text/plain": [
       "<Figure size 720x720 with 1 Axes>"
      ]
     },
     "metadata": {
      "needs_background": "light"
     },
     "output_type": "display_data"
    }
   ],
   "source": [
    "plt.figure(figsize=(10, 10))\n",
    "\n",
    "############# Bar Graph #############\n",
    "sns.barplot(x=good_reviews.index,\n",
    "            y=good_reviews * 100,\n",
    "            palette=[\"crimson\",\"steelblue\"],\n",
    "            edgecolor=\"1.0\")\n",
    "\n",
    "# Set title and labels for axes\n",
    "plt.xlabel(\"Review Score Rating\", size=24)\n",
    "plt.ylabel(\"Percentage (%)\", size=24)\n",
    "# plt.title(\"Proportion (in %) of Positive and Negative Reviews\",\n",
    "#           size=24,\n",
    "#           pad=20)\n",
    "plt.yticks(size = 14)\n",
    "plt.xticks(size = 14)\n",
    "\n",
    "# Set axis limits\n",
    "plt.ylim(0, 100)\n",
    "\n",
    "# Remove top and right borders\n",
    "sns.despine()\n",
    "\n",
    "plt.tight_layout()\n",
    "\n",
    "# Save figure\n",
    "# plt.savefig('ratings.svg', dpi=300, bbox_inches='tight')\n",
    "# plt.savefig('destination_path.eps', format='eps')\n",
    "plt.show()"
   ]
  },
  {
   "cell_type": "markdown",
   "id": "4dd5d5f7",
   "metadata": {},
   "source": [
    "Categorizing reviews as positive and negative resulted in $\\approx$ 93% of positive reviews and $\\approx$ 7% of negative reviews for this dataset."
   ]
  },
  {
   "cell_type": "markdown",
   "id": "9633d8c9",
   "metadata": {},
   "source": [
    "#### What is the distribution of reviews across apps?"
   ]
  },
  {
   "cell_type": "code",
   "execution_count": 74,
   "id": "081aa29e",
   "metadata": {
    "ExecuteTime": {
     "end_time": "2022-05-22T20:49:19.146819Z",
     "start_time": "2022-05-22T20:49:19.116911Z"
    }
   },
   "outputs": [
    {
     "data": {
      "text/plain": [
       "count     3701.000000\n",
       "mean       120.770873\n",
       "std        600.580519\n",
       "min          1.000000\n",
       "25%          3.000000\n",
       "50%         11.000000\n",
       "75%         54.000000\n",
       "max      24274.000000\n",
       "Name: app_name, dtype: float64"
      ]
     },
     "execution_count": 74,
     "metadata": {},
     "output_type": "execute_result"
    }
   ],
   "source": [
    "# Obtain descriptive statistics of the reviews observed across\n",
    "# each app\n",
    "reviews_df['app_name'].value_counts().describe()"
   ]
  },
  {
   "cell_type": "code",
   "execution_count": 75,
   "id": "1aa6fd64",
   "metadata": {
    "ExecuteTime": {
     "end_time": "2022-05-22T20:49:24.733150Z",
     "start_time": "2022-05-22T20:49:19.147816Z"
    },
    "scrolled": false
   },
   "outputs": [
    {
     "data": {
      "image/png": "[encoded data removed]",
      "text/plain": [
       "<Figure size 1440x720 with 1 Axes>"
      ]
     },
     "metadata": {
      "needs_background": "light"
     },
     "output_type": "display_data"
    }
   ],
   "source": [
    "plt.figure(figsize=(20, 10))\n",
    "\n",
    "############# Histogram #############\n",
    "sns.histplot(reviews_df['app_name'].value_counts())\n",
    "\n",
    "# Set title and labels for axes\n",
    "plt.xlabel(\"Bins\", size=24)\n",
    "plt.ylabel(\"Total Count\", size=24)\n",
    "plt.title(\"Distribution of App Review Totals\", size=24, pad=20)\n",
    "\n",
    "# Set axes ticks\n",
    "plt.xticks(rotation=45, size=14)\n",
    "plt.yticks(size=14)\n",
    "\n",
    "plt.show()"
   ]
  },
  {
   "cell_type": "markdown",
   "id": "9fb6fe89",
   "metadata": {},
   "source": [
    "I see that there are outliers influencing the resolution to the graph. Specifically, I have an app that received $\\approx$ 24,000 reviews. However, the mean of review counts are 120; way below the max. In contrast, the median or 50%ile is at 11 reviews. Let's take a closer look at review count distribution at 500 and below."
   ]
  },
  {
   "cell_type": "code",
   "execution_count": 76,
   "id": "53f34d3c",
   "metadata": {
    "ExecuteTime": {
     "end_time": "2022-05-22T20:49:31.577302Z",
     "start_time": "2022-05-22T20:49:24.734130Z"
    }
   },
   "outputs": [
    {
     "data": {
      "image/png": "[encoded data removed]",
      "text/plain": [
       "<Figure size 1440x720 with 1 Axes>"
      ]
     },
     "metadata": {
      "needs_background": "light"
     },
     "output_type": "display_data"
    }
   ],
   "source": [
    "plt.figure(figsize=(20, 10))\n",
    "\n",
    "############# Histogram #############\n",
    "sns.histplot(reviews_df['app_name'].value_counts())\n",
    "\n",
    "# Set title and labels for axes\n",
    "plt.xlabel(\"Bins\", size=24)\n",
    "plt.ylabel(\"Total Count\", size=24)\n",
    "plt.title(\"Distribution of App Review Totals\", size=24, pad=20)\n",
    "\n",
    "# Set axes ticks\n",
    "plt.xticks(rotation=45, size=14)\n",
    "plt.yticks(size=14)\n",
    "\n",
    "# Set axes limits\n",
    "plt.xlim(0, 500)\n",
    "\n",
    "# Plot mean and median\n",
    "plt.axvline(np.mean(reviews_df['app_name'].value_counts()), color=\"red\", label=\"Mean\")\n",
    "plt.axvline(np.median(reviews_df['app_name'].value_counts()), color=\"yellow\", label=\"Median\")\n",
    "\n",
    "# Show legend\n",
    "plt.legend(fontsize = 24)\n",
    "\n",
    "plt.show()"
   ]
  },
  {
   "cell_type": "markdown",
   "id": "686b15cf",
   "metadata": {},
   "source": [
    "Based on the distribution and values of the mean and median, I can see that the dataset is a right-skewed distribution for total review counts across apps."
   ]
  },
  {
   "cell_type": "markdown",
   "id": "4daac117",
   "metadata": {},
   "source": [
    "#### What are the top 10 apps with most developer responses?"
   ]
  },
  {
   "cell_type": "code",
   "execution_count": 77,
   "id": "a8696ffb",
   "metadata": {
    "ExecuteTime": {
     "end_time": "2022-05-22T20:49:31.624545Z",
     "start_time": "2022-05-22T20:49:31.579304Z"
    }
   },
   "outputs": [],
   "source": [
    "# Obtain all reviews with 'dev_reply_text' cell filled out and count\n",
    "# the total rows with the developer responses for each unique app \n",
    "# and assign it to a new variable\n",
    "top_10_dev_reply = reviews_df.loc[np.where(reviews_df['dev_reply_text'].notna()), 'app_name'].value_counts()"
   ]
  },
  {
   "cell_type": "code",
   "execution_count": 78,
   "id": "27955e35",
   "metadata": {
    "ExecuteTime": {
     "end_time": "2022-05-22T20:49:31.640315Z",
     "start_time": "2022-05-22T20:49:31.626538Z"
    },
    "scrolled": true
   },
   "outputs": [
    {
     "data": {
      "text/plain": [
       "26.0"
      ]
     },
     "execution_count": 78,
     "metadata": {},
     "output_type": "execute_result"
    }
   ],
   "source": [
    "# Proportion of total developer responses accounted for by the top 10 apps with\n",
    "# most developer responses, in percentage\n",
    "round(top_10_dev_reply.head(10).sum() / top_10_dev_reply.sum(), 2) * 100"
   ]
  },
  {
   "cell_type": "markdown",
   "id": "25809133",
   "metadata": {},
   "source": [
    "The top 10 apps with most developer responses accounted for $\\approx$ 26% of total developer responses observed."
   ]
  },
  {
   "cell_type": "code",
   "execution_count": 79,
   "id": "b3a0eb00",
   "metadata": {
    "ExecuteTime": {
     "end_time": "2022-05-22T20:49:31.885978Z",
     "start_time": "2022-05-22T20:49:31.641308Z"
    }
   },
   "outputs": [
    {
     "data": {
      "image/png": "[encoded data removed]",
      "text/plain": [
       "<Figure size 1440x720 with 1 Axes>"
      ]
     },
     "metadata": {
      "needs_background": "light"
     },
     "output_type": "display_data"
    }
   ],
   "source": [
    "plt.figure(figsize = (20,10))\n",
    "\n",
    "############# Bar Graph #############\n",
    "sns.barplot(x=top_10_dev_reply.head(10).index,\n",
    "            y=top_10_dev_reply.head(10).values,\n",
    "            color='steelblue')\n",
    "\n",
    "# Set title and labels for axes\n",
    "plt.xlabel(\"App Name\", size=24)\n",
    "plt.ylabel(\"Total Count\", size=24)\n",
    "plt.title(\"Top 10 Apps with Most Developer Responses\",\n",
    "          size=24,\n",
    "          pad=20)\n",
    "\n",
    "# Set axes ticks\n",
    "plt.xticks(rotation=45, size = 14)\n",
    "plt.yticks(size = 14)\n",
    "\n",
    "# Set axes limits\n",
    "plt.ylim(0, 4_000)\n",
    "\n",
    "plt.show()\n"
   ]
  },
  {
   "cell_type": "code",
   "execution_count": 80,
   "id": "475082f7",
   "metadata": {
    "ExecuteTime": {
     "end_time": "2022-05-22T20:49:31.893925Z",
     "start_time": "2022-05-22T20:49:31.887556Z"
    }
   },
   "outputs": [
    {
     "data": {
      "text/plain": [
       "Index(['Infinite Product Options', 'Instant Traffic & Ads',\n",
       "       'PageFly Landing Page Builder', 'Privy ‑ Pop Ups, Email, & SMS',\n",
       "       'ReConvert Upsell & Cross Sell', 'Sales Pop Master ‑ Countdown',\n",
       "       'Sales Pop up ‑ Social Proof', 'Spocket ‑ US & EU Dropshipping',\n",
       "       'Stamped.io Product Reviews UGC', 'WhatsApp Chat + Abandoned Cart'],\n",
       "      dtype='object')"
      ]
     },
     "execution_count": 80,
     "metadata": {},
     "output_type": "execute_result"
    }
   ],
   "source": [
    "# The top 10 apps with the most developer responses;\n",
    "# sorted alphabetical order\n",
    "top_10_dev_reply.head(10).sort_index().index"
   ]
  },
  {
   "cell_type": "markdown",
   "id": "d8f0d253",
   "metadata": {},
   "source": [
    "The app with the most developer responses is `Privy ‑ Pop Ups, Email, & SMS`."
   ]
  },
  {
   "cell_type": "markdown",
   "id": "8ac58ded",
   "metadata": {
    "ExecuteTime": {
     "end_time": "2022-04-04T00:32:34.161330Z",
     "start_time": "2022-04-04T00:32:34.140318Z"
    }
   },
   "source": [
    "- The top 10 apps with the most developer replies accounted for $\\approx$ 26% of all developer responses.\n",
    "    - These apps were (in alphabetical order):\n",
    "        - `Infinite Product Options`\n",
    "        - `Instant Traffic & Ads`\n",
    "        - `PageFly Landing Page Builder`\n",
    "        - `Privy ‑ Pop Ups, Email, & SMS`\n",
    "        - `ReConvert Upsell & Cross Sell`\n",
    "        - `Sales Pop Master ‑ Countdown`\n",
    "        - `Sales Pop up ‑ Social Proof`\n",
    "        - `Spocket ‑ US & EU Dropshipping`\n",
    "        - `Stamped.io Product Reviews UGC`\n",
    "        - `WhatsApp Chat + Abandoned Cart`"
   ]
  },
  {
   "cell_type": "markdown",
   "id": "dff997a3",
   "metadata": {},
   "source": [
    "#### What are the top 10 reviewed apps?"
   ]
  },
  {
   "cell_type": "code",
   "execution_count": 81,
   "id": "b5596376",
   "metadata": {
    "ExecuteTime": {
     "end_time": "2022-05-22T20:49:31.925636Z",
     "start_time": "2022-05-22T20:49:31.894925Z"
    }
   },
   "outputs": [],
   "source": [
    "# Obtain count of total reviews observed for each unique app and assign it to a \n",
    "# new variable\n",
    "top_10_most_reviews = reviews_df['app_name'].value_counts().head(10)"
   ]
  },
  {
   "cell_type": "code",
   "execution_count": 82,
   "id": "9d4d4291",
   "metadata": {
    "ExecuteTime": {
     "end_time": "2022-05-22T20:49:32.147405Z",
     "start_time": "2022-05-22T20:49:31.935633Z"
    },
    "scrolled": false
   },
   "outputs": [
    {
     "data": {
      "image/png": "[encoded data removed]",
      "text/plain": [
       "<Figure size 1440x720 with 1 Axes>"
      ]
     },
     "metadata": {
      "needs_background": "light"
     },
     "output_type": "display_data"
    }
   ],
   "source": [
    "plt.figure(figsize = (20,10))\n",
    "\n",
    "############# Bar Graph #############\n",
    "sns.barplot(x=top_10_most_reviews.index,\n",
    "            y=top_10_most_reviews.values,\n",
    "            color='steelblue')\n",
    "\n",
    "# Set title and labels for axes\n",
    "plt.xlabel(\"App Name\", size=24)\n",
    "plt.ylabel(\"Total Count\", size=24)\n",
    "plt.title(\"Top 10 Apps with Most Reviews\",\n",
    "          size=24,\n",
    "          pad=20)\n",
    "\n",
    "# Set axes ticks\n",
    "plt.xticks(rotation=45, size = 14)\n",
    "plt.yticks(size = 14)\n",
    "\n",
    "plt.show()"
   ]
  },
  {
   "cell_type": "markdown",
   "id": "039ef061",
   "metadata": {},
   "source": [
    "The app with the most reviews is also `Privy ‑ Pop Ups, Email, & SMS`."
   ]
  },
  {
   "cell_type": "code",
   "execution_count": 83,
   "id": "34adac03",
   "metadata": {
    "ExecuteTime": {
     "end_time": "2022-05-22T20:49:32.163418Z",
     "start_time": "2022-05-22T20:49:32.149405Z"
    }
   },
   "outputs": [
    {
     "data": {
      "text/plain": [
       "Index(['BEST Currency Converter', 'Free Shipping Bar',\n",
       "       'Free Traffic & Ads by Varinode', 'Loox ‑ Photo Reviews',\n",
       "       'Privy ‑ Pop Ups, Email, & SMS', 'Quick Announcement Bar',\n",
       "       'Recart FB Messenger Marketing', 'Sales Pop Master ‑ Countdown',\n",
       "       'Sales Pop ‑ Social Proof Popup', 'Ultimate Sales Boost'],\n",
       "      dtype='object')"
      ]
     },
     "execution_count": 83,
     "metadata": {},
     "output_type": "execute_result"
    }
   ],
   "source": [
    "# The top 10 reviewed apps in alphabetical order\n",
    "top_10_most_reviews.head(10).sort_index().index"
   ]
  },
  {
   "cell_type": "markdown",
   "id": "7dd84733",
   "metadata": {},
   "source": [
    "#### What are the top 10 highly rated apps?"
   ]
  },
  {
   "cell_type": "code",
   "execution_count": 84,
   "id": "18a73ca6",
   "metadata": {
    "ExecuteTime": {
     "end_time": "2022-05-22T20:49:32.210418Z",
     "start_time": "2022-05-22T20:49:32.165405Z"
    }
   },
   "outputs": [],
   "source": [
    "# Obtain count of total 5-star rating reviews observed for each unique app \n",
    "# and assign it to a new variable\n",
    "top_10_highly_rated = reviews_df.loc[reviews_df['rating'] == 5, 'app_name'].value_counts().head(10)"
   ]
  },
  {
   "cell_type": "code",
   "execution_count": 85,
   "id": "263ef031",
   "metadata": {
    "ExecuteTime": {
     "end_time": "2022-05-22T20:49:32.431855Z",
     "start_time": "2022-05-22T20:49:32.212407Z"
    },
    "scrolled": false
   },
   "outputs": [
    {
     "data": {
      "image/png": "[encoded data removed]",
      "text/plain": [
       "<Figure size 1440x720 with 1 Axes>"
      ]
     },
     "metadata": {
      "needs_background": "light"
     },
     "output_type": "display_data"
    }
   ],
   "source": [
    "plt.figure(figsize = (20,10))\n",
    "\n",
    "############# Bar Graph #############\n",
    "sns.barplot(x=top_10_highly_rated.index,\n",
    "            y=top_10_highly_rated.values,\n",
    "            color='steelblue')\n",
    "\n",
    "# Set title and labels for axes\n",
    "plt.xlabel(\"App Name\", size=24)\n",
    "plt.ylabel(\"Total Count\", size=24)\n",
    "plt.title(\"Top 10 Highly Rated Apps\",\n",
    "          size=24,\n",
    "          pad=20)\n",
    "\n",
    "# Set axes ticks\n",
    "plt.xticks(rotation=45, size = 14)\n",
    "plt.yticks(size = 14)\n",
    "\n",
    "plt.show()"
   ]
  },
  {
   "cell_type": "code",
   "execution_count": 86,
   "id": "de525bfd",
   "metadata": {
    "ExecuteTime": {
     "end_time": "2022-05-22T20:49:32.447853Z",
     "start_time": "2022-05-22T20:49:32.432859Z"
    }
   },
   "outputs": [
    {
     "data": {
      "text/plain": [
       "Index(['BEST Currency Converter', 'Free Shipping Bar',\n",
       "       'Free Traffic & Ads by Varinode', 'Loox ‑ Photo Reviews',\n",
       "       'Privy ‑ Pop Ups, Email, & SMS', 'Quick Announcement Bar',\n",
       "       'Recart FB Messenger Marketing', 'Sales Pop Master ‑ Countdown',\n",
       "       'Sales Pop ‑ Social Proof Popup', 'Ultimate Sales Boost'],\n",
       "      dtype='object')"
      ]
     },
     "execution_count": 86,
     "metadata": {},
     "output_type": "execute_result"
    }
   ],
   "source": [
    "# The top 10 highly rated apps in alphabetical order\n",
    "top_10_highly_rated.head(10).sort_index().index"
   ]
  },
  {
   "cell_type": "markdown",
   "id": "41e8af0d",
   "metadata": {},
   "source": [
    "Again, `Privy ‑ Pop Ups, Email, & SMS` is the top highly rated app (i.e., most reviews with 5-stars) and the app with the most reviews. Interestingly, that information is proudly marketed on their [website](https://www.privy.com/), providing more confidence in the validity to the Kaggle dataset."
   ]
  },
  {
   "cell_type": "code",
   "execution_count": 87,
   "id": "c30dc985",
   "metadata": {
    "ExecuteTime": {
     "end_time": "2022-05-22T20:49:32.463871Z",
     "start_time": "2022-05-22T20:49:32.448860Z"
    }
   },
   "outputs": [
    {
     "data": {
      "text/plain": [
       "array([ True,  True,  True,  True,  True,  True,  True,  True,  True,\n",
       "        True])"
      ]
     },
     "execution_count": 87,
     "metadata": {},
     "output_type": "execute_result"
    }
   ],
   "source": [
    "# Compare the names of the top 10 highly rated apps and top 10 highly reviewed apps\n",
    "# to see if the top 10 lists correspond to the same apps\n",
    "top_10_highly_rated.head(10).sort_index().index == top_10_most_reviews.head(10).sort_index().index"
   ]
  },
  {
   "cell_type": "markdown",
   "id": "8e722944",
   "metadata": {},
   "source": [
    "Furthermore, the 10 apps with the most reviews and the 10 apps with the most 5-star rating reviews were in the top 10 list for both categories."
   ]
  },
  {
   "cell_type": "markdown",
   "id": "83bb8015",
   "metadata": {},
   "source": [
    "The top 10 apps with the most reviews and the top 10 apps that are highly rated (i.e., most 5-star ratings) were identical in that the apps were in the top 10 of both categories.\n",
    "- These apps were (in alphabetical order):\n",
    "        - `BEST Currency Converter`\n",
    "        - `Free Shipping Bar`\n",
    "        - `Free Traffic & Ads by Varinode`\n",
    "        - `Loox ‑ Photo Reviews`\n",
    "        - `Privy ‑ Pop Ups, Email, & SMS`\n",
    "        - `Quick Announcement Bar`\n",
    "        - `Recart FB Messenger Marketing`\n",
    "        - `Sales Pop Master ‑ Countdown`\n",
    "        - `Sales Pop ‑ Social Proof Popup`\n",
    "        - `Ultimate Sales Boost`"
   ]
  },
  {
   "cell_type": "markdown",
   "id": "9560c12c",
   "metadata": {},
   "source": [
    "### EDA on `reviews_df_merged`"
   ]
  },
  {
   "cell_type": "markdown",
   "id": "8c8d81c0",
   "metadata": {},
   "source": [
    "Here I am using the `reviews_df_merged` dataframe where the data points grew in size because of the mapping of categories to apps such that apps can have multiple categories."
   ]
  },
  {
   "cell_type": "markdown",
   "id": "890e2817",
   "metadata": {},
   "source": [
    "#### What is the distribution of total reviews across different app categories?"
   ]
  },
  {
   "cell_type": "code",
   "execution_count": 88,
   "id": "d1b1fcb5",
   "metadata": {
    "ExecuteTime": {
     "end_time": "2022-05-22T20:49:32.511000Z",
     "start_time": "2022-05-22T20:49:32.465856Z"
    }
   },
   "outputs": [],
   "source": [
    "# Obtain count of total reviews observed for each unique app category \n",
    "# and assign it to a new variable\n",
    "total_reviews_per_category = reviews_df_merged['category_name'].value_counts()"
   ]
  },
  {
   "cell_type": "code",
   "execution_count": 89,
   "id": "1fcaf5d0",
   "metadata": {
    "ExecuteTime": {
     "end_time": "2022-05-22T20:49:32.525858Z",
     "start_time": "2022-05-22T20:49:32.512859Z"
    }
   },
   "outputs": [
    {
     "data": {
      "text/plain": [
       "Store design                         267141\n",
       "Sales and conversion optimization    193884\n",
       "Marketing                            187113\n",
       "Orders and shipping                   37066\n",
       "Customer support                      28663\n",
       "Finding and adding products           26272\n",
       "Reporting                             14083\n",
       "Productivity                          13181\n",
       "Inventory management                  13162\n",
       "Places to sell                        11092\n",
       "Trust and security                    10596\n",
       "Finances                               6307\n",
       "Name: category_name, dtype: int64"
      ]
     },
     "execution_count": 89,
     "metadata": {},
     "output_type": "execute_result"
    }
   ],
   "source": [
    "total_reviews_per_category"
   ]
  },
  {
   "cell_type": "code",
   "execution_count": 90,
   "id": "5dfd71e6",
   "metadata": {
    "ExecuteTime": {
     "end_time": "2022-05-22T20:49:32.838488Z",
     "start_time": "2022-05-22T20:49:32.526858Z"
    },
    "scrolled": false
   },
   "outputs": [
    {
     "data": {
      "image/png": "[encoded data removed]",
      "text/plain": [
       "<Figure size 1440x720 with 1 Axes>"
      ]
     },
     "metadata": {
      "needs_background": "light"
     },
     "output_type": "display_data"
    }
   ],
   "source": [
    "plt.figure(figsize = (20,10))\n",
    "\n",
    "############# Bar Graph #############\n",
    "sns.barplot(x=reviews_df_merged['category_name'].value_counts().index,\n",
    "            y=round(reviews_df_merged['category_name'].value_counts(normalize = True) * 100, 2),\n",
    "            color='steelblue')\n",
    "\n",
    "# Set title and labels for axes\n",
    "plt.xlabel(\"App Category\", size=24)\n",
    "plt.ylabel(\"Percentage (%)\", size=24)\n",
    "plt.title(\"Proportion (in %) of Total Reviews in Each Category\",\n",
    "          size=24,\n",
    "          pad=20)\n",
    "\n",
    "# Set axes ticks\n",
    "plt.xticks(rotation = 45, size = 14)\n",
    "plt.yticks(size = 14)\n",
    "\n",
    "# Set axes limits\n",
    "plt.ylim(0, 35)\n",
    "    \n",
    "    \n",
    "plt.tight_layout()\n",
    "plt.show()"
   ]
  },
  {
   "cell_type": "markdown",
   "id": "7340cbad",
   "metadata": {},
   "source": [
    "We can see that the most popular app categories at the time of the gathered dataset were: store design, sales and conversion optimization, and marketing. However, due to the data merging and duplication of reviews along with multiple apps consisting of multiple categories, this interpretation is cautioned. The cells below will further explore the total unique reviews observed for specific app category(ies)."
   ]
  },
  {
   "cell_type": "markdown",
   "id": "3b569bf7",
   "metadata": {},
   "source": [
    "#### What is the most common category or combination of categories across the apps?"
   ]
  },
  {
   "cell_type": "code",
   "execution_count": 91,
   "id": "1ba326be",
   "metadata": {
    "ExecuteTime": {
     "end_time": "2022-05-22T20:49:33.187914Z",
     "start_time": "2022-05-22T20:49:32.839469Z"
    }
   },
   "outputs": [],
   "source": [
    "# Group the data by app name and its' corresponding category(ies) and\n",
    "# modify the 'category_name' column such that if an app has multiple categories,\n",
    "# it would be a string that is concatenated to present the category combination for\n",
    "# the app in a single row\n",
    "apps_categories_df = pd.DataFrame(reviews_df_merged.groupby('app_name')['category_name'].\\\n",
    "                                  unique().apply(', '.join)).reset_index()"
   ]
  },
  {
   "cell_type": "code",
   "execution_count": 92,
   "id": "d2c7c3b3",
   "metadata": {
    "ExecuteTime": {
     "end_time": "2022-05-22T20:49:33.203945Z",
     "start_time": "2022-05-22T20:49:33.189918Z"
    }
   },
   "outputs": [
    {
     "data": {
      "text/html": [
       "<div>\n",
       "<style scoped>\n",
       "    .dataframe tbody tr th:only-of-type {\n",
       "        vertical-align: middle;\n",
       "    }\n",
       "\n",
       "    .dataframe tbody tr th {\n",
       "        vertical-align: top;\n",
       "    }\n",
       "\n",
       "    .dataframe thead th {\n",
       "        text-align: right;\n",
       "    }\n",
       "</style>\n",
       "<table border=\"1\" class=\"dataframe\">\n",
       "  <thead>\n",
       "    <tr style=\"text-align: right;\">\n",
       "      <th></th>\n",
       "      <th>app_name</th>\n",
       "      <th>category_name</th>\n",
       "    </tr>\n",
       "  </thead>\n",
       "  <tbody>\n",
       "    <tr>\n",
       "      <th>0</th>\n",
       "      <td>AdBlock Blocker</td>\n",
       "      <td>Store design</td>\n",
       "    </tr>\n",
       "    <tr>\n",
       "      <th>1</th>\n",
       "      <td>Marketplace in a Box</td>\n",
       "      <td>Sales and conversion optimization</td>\n",
       "    </tr>\n",
       "    <tr>\n",
       "      <th>2</th>\n",
       "      <td>Product Labels &amp; Badges</td>\n",
       "      <td>Store design</td>\n",
       "    </tr>\n",
       "    <tr>\n",
       "      <th>3</th>\n",
       "      <td>#1 Bundle Upsell by PickyStory</td>\n",
       "      <td>Store design, Sales and conversion optimization</td>\n",
       "    </tr>\n",
       "    <tr>\n",
       "      <th>4</th>\n",
       "      <td>#1 Facebook Feed &amp; Google Feed</td>\n",
       "      <td>Sales and conversion optimization, Reporting, ...</td>\n",
       "    </tr>\n",
       "  </tbody>\n",
       "</table>\n",
       "</div>"
      ],
      "text/plain": [
       "                         app_name  \\\n",
       "0                 AdBlock Blocker   \n",
       "1            Marketplace in a Box   \n",
       "2         Product Labels & Badges   \n",
       "3  #1 Bundle Upsell by PickyStory   \n",
       "4  #1 Facebook Feed & Google Feed   \n",
       "\n",
       "                                       category_name  \n",
       "0                                       Store design  \n",
       "1                  Sales and conversion optimization  \n",
       "2                                       Store design  \n",
       "3    Store design, Sales and conversion optimization  \n",
       "4  Sales and conversion optimization, Reporting, ...  "
      ]
     },
     "execution_count": 92,
     "metadata": {},
     "output_type": "execute_result"
    }
   ],
   "source": [
    "# Glimpse of the first 5 rows of subsetted dataframe\n",
    "apps_categories_df.head()"
   ]
  },
  {
   "cell_type": "code",
   "execution_count": 93,
   "id": "6fa3127d",
   "metadata": {
    "ExecuteTime": {
     "end_time": "2022-05-22T20:49:33.219743Z",
     "start_time": "2022-05-22T20:49:33.205946Z"
    }
   },
   "outputs": [
    {
     "data": {
      "text/plain": [
       "app_name         0\n",
       "category_name    0\n",
       "dtype: int64"
      ]
     },
     "execution_count": 93,
     "metadata": {},
     "output_type": "execute_result"
    }
   ],
   "source": [
    "# Check for missing values\n",
    "apps_categories_df.isna().sum()"
   ]
  },
  {
   "cell_type": "code",
   "execution_count": 94,
   "id": "c8cc56ef",
   "metadata": {
    "ExecuteTime": {
     "end_time": "2022-05-22T20:49:33.235762Z",
     "start_time": "2022-05-22T20:49:33.220743Z"
    }
   },
   "outputs": [
    {
     "data": {
      "text/plain": [
       "app_name         0\n",
       "category_name    0\n",
       "dtype: int64"
      ]
     },
     "execution_count": 94,
     "metadata": {},
     "output_type": "execute_result"
    }
   ],
   "source": [
    "# Check for duplicated app names\n",
    "apps_categories_df[apps_categories_df['app_name'].duplicated()].count()"
   ]
  },
  {
   "cell_type": "code",
   "execution_count": 95,
   "id": "58371d1a",
   "metadata": {
    "ExecuteTime": {
     "end_time": "2022-05-22T20:49:33.251644Z",
     "start_time": "2022-05-22T20:49:33.237764Z"
    },
    "scrolled": true
   },
   "outputs": [
    {
     "data": {
      "text/plain": [
       "Store design                                                  763\n",
       "Store design, Sales and conversion optimization               334\n",
       "Orders and shipping                                           286\n",
       "Marketing                                                     271\n",
       "Sales and conversion optimization                             255\n",
       "Store design, Marketing                                       186\n",
       "Finding and adding products                                   156\n",
       "Store design, Sales and conversion optimization, Marketing    113\n",
       "Sales and conversion optimization, Marketing                  107\n",
       "Customer support                                              100\n",
       "Name: category_name, dtype: int64"
      ]
     },
     "execution_count": 95,
     "metadata": {},
     "output_type": "execute_result"
    }
   ],
   "source": [
    "# Count the total number of apps with specific category(ies) and show top 10\n",
    "# common categories across apps\n",
    "apps_categories_df['category_name'].value_counts().head(10)"
   ]
  },
  {
   "cell_type": "markdown",
   "id": "78165570",
   "metadata": {},
   "source": [
    "#### What is the category or combination of categories with the most reviews? "
   ]
  },
  {
   "cell_type": "markdown",
   "id": "eb258ddc",
   "metadata": {},
   "source": [
    "To obtain the total unique reviews observed for a particular app category(ies), I will use the `reviews_df` dataframe along with the recently created `apps_categories_df` to analyze the most reviews observed for a particular category(ies) available across the apps. "
   ]
  },
  {
   "cell_type": "code",
   "execution_count": 96,
   "id": "19d69d1b",
   "metadata": {
    "ExecuteTime": {
     "end_time": "2022-05-22T20:49:33.315069Z",
     "start_time": "2022-05-22T20:49:33.253325Z"
    }
   },
   "outputs": [],
   "source": [
    "# Create a new dataframe with the total reviews for each app using the 'reviews_df'\n",
    "# and name the column with total review count as 'total_reviews' and reset the\n",
    "# index\n",
    "total_reviews_across_apps = reviews_df.value_counts('app_name').\\\n",
    "                            to_frame().rename(columns = {0:'total_reviews'}).reset_index()"
   ]
  },
  {
   "cell_type": "code",
   "execution_count": 97,
   "id": "1b248516",
   "metadata": {
    "ExecuteTime": {
     "end_time": "2022-05-22T20:49:33.330571Z",
     "start_time": "2022-05-22T20:49:33.316684Z"
    }
   },
   "outputs": [
    {
     "data": {
      "text/html": [
       "<div>\n",
       "<style scoped>\n",
       "    .dataframe tbody tr th:only-of-type {\n",
       "        vertical-align: middle;\n",
       "    }\n",
       "\n",
       "    .dataframe tbody tr th {\n",
       "        vertical-align: top;\n",
       "    }\n",
       "\n",
       "    .dataframe thead th {\n",
       "        text-align: right;\n",
       "    }\n",
       "</style>\n",
       "<table border=\"1\" class=\"dataframe\">\n",
       "  <thead>\n",
       "    <tr style=\"text-align: right;\">\n",
       "      <th></th>\n",
       "      <th>app_name</th>\n",
       "      <th>total_reviews</th>\n",
       "    </tr>\n",
       "  </thead>\n",
       "  <tbody>\n",
       "    <tr>\n",
       "      <th>0</th>\n",
       "      <td>Privy ‑ Pop Ups, Email, &amp; SMS</td>\n",
       "      <td>24274</td>\n",
       "    </tr>\n",
       "    <tr>\n",
       "      <th>1</th>\n",
       "      <td>Free Shipping Bar</td>\n",
       "      <td>9615</td>\n",
       "    </tr>\n",
       "    <tr>\n",
       "      <th>2</th>\n",
       "      <td>BEST Currency Converter</td>\n",
       "      <td>7171</td>\n",
       "    </tr>\n",
       "    <tr>\n",
       "      <th>3</th>\n",
       "      <td>Sales Pop ‑ Social Proof Popup</td>\n",
       "      <td>6699</td>\n",
       "    </tr>\n",
       "    <tr>\n",
       "      <th>4</th>\n",
       "      <td>Ultimate Sales Boost</td>\n",
       "      <td>6340</td>\n",
       "    </tr>\n",
       "  </tbody>\n",
       "</table>\n",
       "</div>"
      ],
      "text/plain": [
       "                         app_name  total_reviews\n",
       "0   Privy ‑ Pop Ups, Email, & SMS          24274\n",
       "1               Free Shipping Bar           9615\n",
       "2         BEST Currency Converter           7171\n",
       "3  Sales Pop ‑ Social Proof Popup           6699\n",
       "4            Ultimate Sales Boost           6340"
      ]
     },
     "execution_count": 97,
     "metadata": {},
     "output_type": "execute_result"
    }
   ],
   "source": [
    "# Glimpse of the first 5 rows\n",
    "total_reviews_across_apps.head()"
   ]
  },
  {
   "cell_type": "code",
   "execution_count": 98,
   "id": "c66860e3",
   "metadata": {
    "ExecuteTime": {
     "end_time": "2022-05-22T20:49:33.346208Z",
     "start_time": "2022-05-22T20:49:33.332241Z"
    }
   },
   "outputs": [],
   "source": [
    "# Merge the total_reviews_across_apps dataframe and the apps_categories_df dataframe\n",
    "# by using the column 'app_name' that is common between both \n",
    "apps_categories_total_reviews_df = apps_categories_df.merge(total_reviews_across_apps, on='app_name')"
   ]
  },
  {
   "cell_type": "code",
   "execution_count": 99,
   "id": "92cf6cfc",
   "metadata": {
    "ExecuteTime": {
     "end_time": "2022-05-22T20:49:33.362051Z",
     "start_time": "2022-05-22T20:49:33.348192Z"
    }
   },
   "outputs": [
    {
     "data": {
      "text/html": [
       "<div>\n",
       "<style scoped>\n",
       "    .dataframe tbody tr th:only-of-type {\n",
       "        vertical-align: middle;\n",
       "    }\n",
       "\n",
       "    .dataframe tbody tr th {\n",
       "        vertical-align: top;\n",
       "    }\n",
       "\n",
       "    .dataframe thead th {\n",
       "        text-align: right;\n",
       "    }\n",
       "</style>\n",
       "<table border=\"1\" class=\"dataframe\">\n",
       "  <thead>\n",
       "    <tr style=\"text-align: right;\">\n",
       "      <th></th>\n",
       "      <th>app_name</th>\n",
       "      <th>category_name</th>\n",
       "      <th>total_reviews</th>\n",
       "    </tr>\n",
       "  </thead>\n",
       "  <tbody>\n",
       "    <tr>\n",
       "      <th>0</th>\n",
       "      <td>AdBlock Blocker</td>\n",
       "      <td>Store design</td>\n",
       "      <td>1</td>\n",
       "    </tr>\n",
       "    <tr>\n",
       "      <th>1</th>\n",
       "      <td>Marketplace in a Box</td>\n",
       "      <td>Sales and conversion optimization</td>\n",
       "      <td>11</td>\n",
       "    </tr>\n",
       "    <tr>\n",
       "      <th>2</th>\n",
       "      <td>Product Labels &amp; Badges</td>\n",
       "      <td>Store design</td>\n",
       "      <td>9</td>\n",
       "    </tr>\n",
       "    <tr>\n",
       "      <th>3</th>\n",
       "      <td>#1 Bundle Upsell by PickyStory</td>\n",
       "      <td>Store design, Sales and conversion optimization</td>\n",
       "      <td>40</td>\n",
       "    </tr>\n",
       "    <tr>\n",
       "      <th>4</th>\n",
       "      <td>#1 Facebook Feed &amp; Google Feed</td>\n",
       "      <td>Sales and conversion optimization, Reporting, ...</td>\n",
       "      <td>17</td>\n",
       "    </tr>\n",
       "  </tbody>\n",
       "</table>\n",
       "</div>"
      ],
      "text/plain": [
       "                         app_name  \\\n",
       "0                 AdBlock Blocker   \n",
       "1            Marketplace in a Box   \n",
       "2         Product Labels & Badges   \n",
       "3  #1 Bundle Upsell by PickyStory   \n",
       "4  #1 Facebook Feed & Google Feed   \n",
       "\n",
       "                                       category_name  total_reviews  \n",
       "0                                       Store design              1  \n",
       "1                  Sales and conversion optimization             11  \n",
       "2                                       Store design              9  \n",
       "3    Store design, Sales and conversion optimization             40  \n",
       "4  Sales and conversion optimization, Reporting, ...             17  "
      ]
     },
     "execution_count": 99,
     "metadata": {},
     "output_type": "execute_result"
    }
   ],
   "source": [
    "apps_categories_total_reviews_df.head()"
   ]
  },
  {
   "cell_type": "code",
   "execution_count": 100,
   "id": "a7d11dc2",
   "metadata": {
    "ExecuteTime": {
     "end_time": "2022-05-22T20:49:33.378036Z",
     "start_time": "2022-05-22T20:49:33.363037Z"
    }
   },
   "outputs": [],
   "source": [
    "# Get the total sum of unique reviews observed for each unique category(ies) \n",
    "# observed across all the apps and show the top 10 category(ies) with the\n",
    "# most reviews observed\n",
    "top_10_categories_total_reviews = apps_categories_total_reviews_df.groupby('category_name')[['total_reviews']].sum().\\\n",
    "                                  sort_values(by = 'total_reviews', ascending = False).head(10).reset_index()"
   ]
  },
  {
   "cell_type": "code",
   "execution_count": 101,
   "id": "b75838da",
   "metadata": {
    "ExecuteTime": {
     "end_time": "2022-05-22T20:49:33.394086Z",
     "start_time": "2022-05-22T20:49:33.379037Z"
    }
   },
   "outputs": [
    {
     "data": {
      "text/html": [
       "<div>\n",
       "<style scoped>\n",
       "    .dataframe tbody tr th:only-of-type {\n",
       "        vertical-align: middle;\n",
       "    }\n",
       "\n",
       "    .dataframe tbody tr th {\n",
       "        vertical-align: top;\n",
       "    }\n",
       "\n",
       "    .dataframe thead th {\n",
       "        text-align: right;\n",
       "    }\n",
       "</style>\n",
       "<table border=\"1\" class=\"dataframe\">\n",
       "  <thead>\n",
       "    <tr style=\"text-align: right;\">\n",
       "      <th></th>\n",
       "      <th>category_name</th>\n",
       "      <th>total_reviews</th>\n",
       "    </tr>\n",
       "  </thead>\n",
       "  <tbody>\n",
       "    <tr>\n",
       "      <th>0</th>\n",
       "      <td>Store design</td>\n",
       "      <td>73494</td>\n",
       "    </tr>\n",
       "    <tr>\n",
       "      <th>1</th>\n",
       "      <td>Store design, Sales and conversion optimizatio...</td>\n",
       "      <td>70364</td>\n",
       "    </tr>\n",
       "    <tr>\n",
       "      <th>2</th>\n",
       "      <td>Store design, Sales and conversion optimization</td>\n",
       "      <td>60159</td>\n",
       "    </tr>\n",
       "    <tr>\n",
       "      <th>3</th>\n",
       "      <td>Marketing</td>\n",
       "      <td>36946</td>\n",
       "    </tr>\n",
       "    <tr>\n",
       "      <th>4</th>\n",
       "      <td>Store design, Marketing</td>\n",
       "      <td>30718</td>\n",
       "    </tr>\n",
       "    <tr>\n",
       "      <th>5</th>\n",
       "      <td>Sales and conversion optimization, Marketing</td>\n",
       "      <td>24418</td>\n",
       "    </tr>\n",
       "    <tr>\n",
       "      <th>6</th>\n",
       "      <td>Finding and adding products</td>\n",
       "      <td>22814</td>\n",
       "    </tr>\n",
       "    <tr>\n",
       "      <th>7</th>\n",
       "      <td>Sales and conversion optimization</td>\n",
       "      <td>20394</td>\n",
       "    </tr>\n",
       "    <tr>\n",
       "      <th>8</th>\n",
       "      <td>Orders and shipping</td>\n",
       "      <td>15223</td>\n",
       "    </tr>\n",
       "    <tr>\n",
       "      <th>9</th>\n",
       "      <td>Store design, Trust and security</td>\n",
       "      <td>6472</td>\n",
       "    </tr>\n",
       "  </tbody>\n",
       "</table>\n",
       "</div>"
      ],
      "text/plain": [
       "                                       category_name  total_reviews\n",
       "0                                       Store design          73494\n",
       "1  Store design, Sales and conversion optimizatio...          70364\n",
       "2    Store design, Sales and conversion optimization          60159\n",
       "3                                          Marketing          36946\n",
       "4                            Store design, Marketing          30718\n",
       "5       Sales and conversion optimization, Marketing          24418\n",
       "6                        Finding and adding products          22814\n",
       "7                  Sales and conversion optimization          20394\n",
       "8                                Orders and shipping          15223\n",
       "9                   Store design, Trust and security           6472"
      ]
     },
     "execution_count": 101,
     "metadata": {},
     "output_type": "execute_result"
    }
   ],
   "source": [
    "top_10_categories_total_reviews.head(10)"
   ]
  },
  {
   "cell_type": "code",
   "execution_count": 102,
   "id": "6bb83122",
   "metadata": {
    "ExecuteTime": {
     "end_time": "2022-05-22T20:49:33.616289Z",
     "start_time": "2022-05-22T20:49:33.395135Z"
    },
    "scrolled": false
   },
   "outputs": [
    {
     "data": {
      "image/png": "[encoded data removed]",
      "text/plain": [
       "<Figure size 1080x720 with 1 Axes>"
      ]
     },
     "metadata": {
      "needs_background": "light"
     },
     "output_type": "display_data"
    }
   ],
   "source": [
    "############# Horizontal Bar Graph #############\n",
    "data = top_10_categories_total_reviews['total_reviews'].values\n",
    "df = pd.DataFrame(data,columns=['total_reviews'], index = top_10_categories_total_reviews['category_name'])\n",
    "\n",
    "df.sort_values(by = 'total_reviews', ascending = True).plot.barh(figsize = (15,10), legend=None)\n",
    "\n",
    "# Set title and labels for axes\n",
    "plt.ylabel(\"App Category(ies)\", size=24)\n",
    "plt.xlabel(\"Total Reviews\", size=24)\n",
    "plt.title(\"Proportion of Total Reviews in Each Category(ies)\",\n",
    "          size=24,\n",
    "          pad=20)\n",
    "\n",
    "# Set axes ticks\n",
    "plt.xticks(size = 14)\n",
    "plt.yticks(size = 14)\n",
    "\n",
    "# Set axes limits\n",
    "plt.xlim(0, 80_000)\n",
    "\n",
    "# Remove top and right borders\n",
    "sns.despine()\n",
    "    \n",
    "plt.tight_layout()\n",
    "plt.show()"
   ]
  },
  {
   "cell_type": "markdown",
   "id": "71a9ae44",
   "metadata": {},
   "source": [
    "The total unique reviews accumulated and observed for a particular category or combination of categories across apps is highest ($\\approx$ 73,000 or $\\approx$ 17% of all reviews) for the `Store Design` category. Interestingly, apps with a combination of these 2-3 categories achieved the second (`Store design, Sales and conversion optimization, Marketing`; $\\approx$ 70,000 or $\\approx$ 16%) and third (`Store design, Sales and conversion optimization`; $\\approx$ 60,000 or $\\approx$ 14%) highest total reviews. This indicates the importance of `Store Design`, `Sales and conversion optimization`, and `Marketing` app functionalities/capabilities to users/merchants in the Shopify App Store ecosystem and the large interest for apps with combinations of the aforementioned categories."
   ]
  },
  {
   "cell_type": "markdown",
   "id": "1f2e6ae8",
   "metadata": {
    "ExecuteTime": {
     "end_time": "2022-04-04T14:45:54.209456Z",
     "start_time": "2022-04-04T14:45:54.192456Z"
    }
   },
   "source": [
    "## Developer Responses EDA Continued\n",
    "***\n",
    "<a id='dev_responses_eda_2'></a>"
   ]
  },
  {
   "cell_type": "markdown",
   "id": "0498b758",
   "metadata": {},
   "source": [
    "The initial EDA of calculating the proportion of developer responses to reviews in 2019 and 2020 can be found [here](#dev_responses_eda_1)."
   ]
  },
  {
   "cell_type": "markdown",
   "id": "34acf7e9",
   "metadata": {},
   "source": [
    "### Proportion of Developer Responses for Positive and Negative Reviews in 2019"
   ]
  },
  {
   "cell_type": "markdown",
   "id": "a5b2d3c1",
   "metadata": {},
   "source": [
    "Developer responses were only observed in 2019 and onwards. The proportion of developer responses to positive and negative reviews is calculated for the year 2019."
   ]
  },
  {
   "cell_type": "code",
   "execution_count": 103,
   "id": "4cfb31e6",
   "metadata": {
    "ExecuteTime": {
     "end_time": "2022-05-22T20:49:33.677774Z",
     "start_time": "2022-05-22T20:49:33.618282Z"
    }
   },
   "outputs": [],
   "source": [
    "# Subset reviews to only those observed in 2019\n",
    "reviews_2019_only = reviews_df[(reviews_df['review_date'].dt.year == 2019)]"
   ]
  },
  {
   "cell_type": "code",
   "execution_count": 104,
   "id": "8a82d19a",
   "metadata": {
    "ExecuteTime": {
     "end_time": "2022-05-22T20:49:33.693664Z",
     "start_time": "2022-05-22T20:49:33.678756Z"
    },
    "scrolled": true
   },
   "outputs": [
    {
     "data": {
      "text/html": [
       "<div>\n",
       "<style scoped>\n",
       "    .dataframe tbody tr th:only-of-type {\n",
       "        vertical-align: middle;\n",
       "    }\n",
       "\n",
       "    .dataframe tbody tr th {\n",
       "        vertical-align: top;\n",
       "    }\n",
       "\n",
       "    .dataframe thead th {\n",
       "        text-align: right;\n",
       "    }\n",
       "</style>\n",
       "<table border=\"1\" class=\"dataframe\">\n",
       "  <thead>\n",
       "    <tr style=\"text-align: right;\">\n",
       "      <th></th>\n",
       "      <th>app_name</th>\n",
       "      <th>author</th>\n",
       "      <th>rating</th>\n",
       "      <th>review_date</th>\n",
       "      <th>review_text</th>\n",
       "      <th>helpful_count</th>\n",
       "      <th>dev_reply_text</th>\n",
       "      <th>dev_reply_date</th>\n",
       "      <th>is_review_good</th>\n",
       "    </tr>\n",
       "  </thead>\n",
       "  <tbody>\n",
       "    <tr>\n",
       "      <th>25</th>\n",
       "      <td>Instant Search +</td>\n",
       "      <td>Pushchair Expert</td>\n",
       "      <td>5</td>\n",
       "      <td>2019-12-09</td>\n",
       "      <td>Excellent search module. The best out there. F...</td>\n",
       "      <td>0</td>\n",
       "      <td>NaN</td>\n",
       "      <td>NaT</td>\n",
       "      <td>1</td>\n",
       "    </tr>\n",
       "    <tr>\n",
       "      <th>26</th>\n",
       "      <td>Instant Search +</td>\n",
       "      <td>Total Restroom</td>\n",
       "      <td>5</td>\n",
       "      <td>2019-12-04</td>\n",
       "      <td>After looking for a great search and filter re...</td>\n",
       "      <td>1</td>\n",
       "      <td>NaN</td>\n",
       "      <td>NaT</td>\n",
       "      <td>1</td>\n",
       "    </tr>\n",
       "    <tr>\n",
       "      <th>27</th>\n",
       "      <td>Instant Search +</td>\n",
       "      <td>Movatik</td>\n",
       "      <td>5</td>\n",
       "      <td>2019-10-25</td>\n",
       "      <td>Great app with a lot of features and very cust...</td>\n",
       "      <td>0</td>\n",
       "      <td>NaN</td>\n",
       "      <td>NaT</td>\n",
       "      <td>1</td>\n",
       "    </tr>\n",
       "    <tr>\n",
       "      <th>28</th>\n",
       "      <td>Instant Search +</td>\n",
       "      <td>AZ-Delivery</td>\n",
       "      <td>5</td>\n",
       "      <td>2019-10-07</td>\n",
       "      <td>Great costumer support! Really helpful for ins...</td>\n",
       "      <td>0</td>\n",
       "      <td>NaN</td>\n",
       "      <td>NaT</td>\n",
       "      <td>1</td>\n",
       "    </tr>\n",
       "    <tr>\n",
       "      <th>29</th>\n",
       "      <td>Instant Search +</td>\n",
       "      <td>Jake 'n' Jasp</td>\n",
       "      <td>4</td>\n",
       "      <td>2019-09-17</td>\n",
       "      <td>I used this app . It's useful. I had few issue...</td>\n",
       "      <td>0</td>\n",
       "      <td>NaN</td>\n",
       "      <td>NaT</td>\n",
       "      <td>1</td>\n",
       "    </tr>\n",
       "  </tbody>\n",
       "</table>\n",
       "</div>"
      ],
      "text/plain": [
       "            app_name            author  rating review_date  \\\n",
       "25  Instant Search +  Pushchair Expert       5  2019-12-09   \n",
       "26  Instant Search +    Total Restroom       5  2019-12-04   \n",
       "27  Instant Search +           Movatik       5  2019-10-25   \n",
       "28  Instant Search +       AZ-Delivery       5  2019-10-07   \n",
       "29  Instant Search +     Jake 'n' Jasp       4  2019-09-17   \n",
       "\n",
       "                                          review_text  helpful_count  \\\n",
       "25  Excellent search module. The best out there. F...              0   \n",
       "26  After looking for a great search and filter re...              1   \n",
       "27  Great app with a lot of features and very cust...              0   \n",
       "28  Great costumer support! Really helpful for ins...              0   \n",
       "29  I used this app . It's useful. I had few issue...              0   \n",
       "\n",
       "   dev_reply_text dev_reply_date  is_review_good  \n",
       "25            NaN            NaT               1  \n",
       "26            NaN            NaT               1  \n",
       "27            NaN            NaT               1  \n",
       "28            NaN            NaT               1  \n",
       "29            NaN            NaT               1  "
      ]
     },
     "execution_count": 104,
     "metadata": {},
     "output_type": "execute_result"
    }
   ],
   "source": [
    "# Print the first 5 rows \n",
    "reviews_2019_only.head()"
   ]
  },
  {
   "cell_type": "markdown",
   "id": "317fc490",
   "metadata": {},
   "source": [
    "I will now separate total reviews and total reviews with developers response by positive and negative classes."
   ]
  },
  {
   "cell_type": "code",
   "execution_count": 105,
   "id": "957a8be7",
   "metadata": {
    "ExecuteTime": {
     "end_time": "2022-05-22T20:49:33.741333Z",
     "start_time": "2022-05-22T20:49:33.695648Z"
    }
   },
   "outputs": [],
   "source": [
    "# Group data by positive/negative reviews with the following columns:\n",
    "# total count of reviews and total count of reviews with developer responses\n",
    "reviews_2019_only_pptn_dev_reply = reviews_2019_only.groupby('is_review_good')[['review_text','dev_reply_text']].count()"
   ]
  },
  {
   "cell_type": "code",
   "execution_count": 106,
   "id": "013ea286",
   "metadata": {
    "ExecuteTime": {
     "end_time": "2022-05-22T20:49:33.756851Z",
     "start_time": "2022-05-22T20:49:33.743866Z"
    }
   },
   "outputs": [
    {
     "data": {
      "text/html": [
       "<div>\n",
       "<style scoped>\n",
       "    .dataframe tbody tr th:only-of-type {\n",
       "        vertical-align: middle;\n",
       "    }\n",
       "\n",
       "    .dataframe tbody tr th {\n",
       "        vertical-align: top;\n",
       "    }\n",
       "\n",
       "    .dataframe thead th {\n",
       "        text-align: right;\n",
       "    }\n",
       "</style>\n",
       "<table border=\"1\" class=\"dataframe\">\n",
       "  <thead>\n",
       "    <tr style=\"text-align: right;\">\n",
       "      <th></th>\n",
       "      <th>review_text</th>\n",
       "      <th>dev_reply_text</th>\n",
       "    </tr>\n",
       "    <tr>\n",
       "      <th>is_review_good</th>\n",
       "      <th></th>\n",
       "      <th></th>\n",
       "    </tr>\n",
       "  </thead>\n",
       "  <tbody>\n",
       "    <tr>\n",
       "      <th>0</th>\n",
       "      <td>9196</td>\n",
       "      <td>4258</td>\n",
       "    </tr>\n",
       "    <tr>\n",
       "      <th>1</th>\n",
       "      <td>103586</td>\n",
       "      <td>16298</td>\n",
       "    </tr>\n",
       "  </tbody>\n",
       "</table>\n",
       "</div>"
      ],
      "text/plain": [
       "                review_text  dev_reply_text\n",
       "is_review_good                             \n",
       "0                      9196            4258\n",
       "1                    103586           16298"
      ]
     },
     "execution_count": 106,
     "metadata": {},
     "output_type": "execute_result"
    }
   ],
   "source": [
    "# Print the dataframe\n",
    "reviews_2019_only_pptn_dev_reply"
   ]
  },
  {
   "cell_type": "code",
   "execution_count": 107,
   "id": "87cec1ce",
   "metadata": {
    "ExecuteTime": {
     "end_time": "2022-05-22T20:49:33.772739Z",
     "start_time": "2022-05-22T20:49:33.758851Z"
    }
   },
   "outputs": [],
   "source": [
    "# Rename columns for improved understanding\n",
    "reviews_2019_only_pptn_dev_reply.rename(columns = {'review_text':'total_reviews', 'dev_reply_text':'total_dev_replies'},\\\n",
    "                                        inplace = True)"
   ]
  },
  {
   "cell_type": "code",
   "execution_count": 108,
   "id": "e4e368c5",
   "metadata": {
    "ExecuteTime": {
     "end_time": "2022-05-22T20:49:33.787881Z",
     "start_time": "2022-05-22T20:49:33.773881Z"
    }
   },
   "outputs": [
    {
     "data": {
      "text/html": [
       "<div>\n",
       "<style scoped>\n",
       "    .dataframe tbody tr th:only-of-type {\n",
       "        vertical-align: middle;\n",
       "    }\n",
       "\n",
       "    .dataframe tbody tr th {\n",
       "        vertical-align: top;\n",
       "    }\n",
       "\n",
       "    .dataframe thead th {\n",
       "        text-align: right;\n",
       "    }\n",
       "</style>\n",
       "<table border=\"1\" class=\"dataframe\">\n",
       "  <thead>\n",
       "    <tr style=\"text-align: right;\">\n",
       "      <th></th>\n",
       "      <th>total_reviews</th>\n",
       "      <th>total_dev_replies</th>\n",
       "    </tr>\n",
       "    <tr>\n",
       "      <th>is_review_good</th>\n",
       "      <th></th>\n",
       "      <th></th>\n",
       "    </tr>\n",
       "  </thead>\n",
       "  <tbody>\n",
       "    <tr>\n",
       "      <th>0</th>\n",
       "      <td>9196</td>\n",
       "      <td>4258</td>\n",
       "    </tr>\n",
       "    <tr>\n",
       "      <th>1</th>\n",
       "      <td>103586</td>\n",
       "      <td>16298</td>\n",
       "    </tr>\n",
       "  </tbody>\n",
       "</table>\n",
       "</div>"
      ],
      "text/plain": [
       "                total_reviews  total_dev_replies\n",
       "is_review_good                                  \n",
       "0                        9196               4258\n",
       "1                      103586              16298"
      ]
     },
     "execution_count": 108,
     "metadata": {},
     "output_type": "execute_result"
    }
   ],
   "source": [
    "# Print the dataframe with updated column names\n",
    "reviews_2019_only_pptn_dev_reply"
   ]
  },
  {
   "cell_type": "code",
   "execution_count": 109,
   "id": "e58e49ed",
   "metadata": {
    "ExecuteTime": {
     "end_time": "2022-05-22T20:49:33.803403Z",
     "start_time": "2022-05-22T20:49:33.789884Z"
    }
   },
   "outputs": [
    {
     "data": {
      "text/html": [
       "<div>\n",
       "<style scoped>\n",
       "    .dataframe tbody tr th:only-of-type {\n",
       "        vertical-align: middle;\n",
       "    }\n",
       "\n",
       "    .dataframe tbody tr th {\n",
       "        vertical-align: top;\n",
       "    }\n",
       "\n",
       "    .dataframe thead th {\n",
       "        text-align: right;\n",
       "    }\n",
       "</style>\n",
       "<table border=\"1\" class=\"dataframe\">\n",
       "  <thead>\n",
       "    <tr style=\"text-align: right;\">\n",
       "      <th></th>\n",
       "      <th>pct_total_reviews</th>\n",
       "      <th>pct_total_dev_replies</th>\n",
       "    </tr>\n",
       "    <tr>\n",
       "      <th>is_review_good</th>\n",
       "      <th></th>\n",
       "      <th></th>\n",
       "    </tr>\n",
       "  </thead>\n",
       "  <tbody>\n",
       "    <tr>\n",
       "      <th>0</th>\n",
       "      <td>8.2</td>\n",
       "      <td>20.7</td>\n",
       "    </tr>\n",
       "    <tr>\n",
       "      <th>1</th>\n",
       "      <td>91.8</td>\n",
       "      <td>79.3</td>\n",
       "    </tr>\n",
       "  </tbody>\n",
       "</table>\n",
       "</div>"
      ],
      "text/plain": [
       "                pct_total_reviews  pct_total_dev_replies\n",
       "is_review_good                                          \n",
       "0                             8.2                   20.7\n",
       "1                            91.8                   79.3"
      ]
     },
     "execution_count": 109,
     "metadata": {},
     "output_type": "execute_result"
    }
   ],
   "source": [
    "# Calculate proportions across columns as percentages to observe the proportion of total \n",
    "# negative/positive reviews and total negative/positive reviews with developer responses\n",
    "\n",
    "# https://stackoverflow.com/questions/23377108/pandas-percentage-of-total-with-groupby\n",
    "\n",
    "# axis=0: apply calculation “column-wise”\n",
    "reviews_2019_only_pptn_dev_reply.apply(lambda x: round(x / x.sum() * 100, 1), axis = 0).\\\n",
    "rename(columns = {'total_reviews':'pct_total_reviews', 'total_dev_replies':'pct_total_dev_replies'})"
   ]
  },
  {
   "cell_type": "markdown",
   "id": "01e969b0",
   "metadata": {},
   "source": [
    "In 2019, $\\approx$ 92% of reviews were positive and $\\approx$ 8% of reviews were negative. Of all the developer responses observed, $\\approx$ 21% were dedicated to negative reviews, whereas $\\approx$ 79% were for positive reviews."
   ]
  },
  {
   "cell_type": "code",
   "execution_count": 110,
   "id": "2e1e4c42",
   "metadata": {
    "ExecuteTime": {
     "end_time": "2022-05-22T20:49:33.819469Z",
     "start_time": "2022-05-22T20:49:33.805407Z"
    }
   },
   "outputs": [
    {
     "data": {
      "text/html": [
       "<div>\n",
       "<style scoped>\n",
       "    .dataframe tbody tr th:only-of-type {\n",
       "        vertical-align: middle;\n",
       "    }\n",
       "\n",
       "    .dataframe tbody tr th {\n",
       "        vertical-align: top;\n",
       "    }\n",
       "\n",
       "    .dataframe thead th {\n",
       "        text-align: right;\n",
       "    }\n",
       "</style>\n",
       "<table border=\"1\" class=\"dataframe\">\n",
       "  <thead>\n",
       "    <tr style=\"text-align: right;\">\n",
       "      <th></th>\n",
       "      <th>pct_reviews_no_dev_reply</th>\n",
       "      <th>pct_reviews_with_dev_reply</th>\n",
       "    </tr>\n",
       "    <tr>\n",
       "      <th>is_review_good</th>\n",
       "      <th></th>\n",
       "      <th></th>\n",
       "    </tr>\n",
       "  </thead>\n",
       "  <tbody>\n",
       "    <tr>\n",
       "      <th>0</th>\n",
       "      <td>100.0</td>\n",
       "      <td>46.3</td>\n",
       "    </tr>\n",
       "    <tr>\n",
       "      <th>1</th>\n",
       "      <td>100.0</td>\n",
       "      <td>15.7</td>\n",
       "    </tr>\n",
       "  </tbody>\n",
       "</table>\n",
       "</div>"
      ],
      "text/plain": [
       "                pct_reviews_no_dev_reply  pct_reviews_with_dev_reply\n",
       "is_review_good                                                      \n",
       "0                                  100.0                        46.3\n",
       "1                                  100.0                        15.7"
      ]
     },
     "execution_count": 110,
     "metadata": {},
     "output_type": "execute_result"
    }
   ],
   "source": [
    "# Calculate proportions across rows as percentages to observe the proportion\n",
    "# of negative/positive reviews with or without developer responses\n",
    "\n",
    "# axis=1: apply calculation “row-wise”; rename columns\n",
    "reviews_2019_only_pptn_dev_reply.apply(lambda x: round(x / x.max() * 100, 1), axis = 1).\\\n",
    "rename(columns = {'total_reviews':'pct_reviews_no_dev_reply', 'total_dev_replies':'pct_reviews_with_dev_reply'})"
   ]
  },
  {
   "cell_type": "markdown",
   "id": "6bb273bd",
   "metadata": {},
   "source": [
    "Approximately $\\approx$ 46% of negative reviews received developer responses, whereas $\\approx$ 16% of positive reviews received developer responses."
   ]
  },
  {
   "cell_type": "markdown",
   "id": "83f87cb7",
   "metadata": {},
   "source": [
    "### Proportion of Developer Responses for Positive and Negative Reviews in 2020"
   ]
  },
  {
   "cell_type": "code",
   "execution_count": 111,
   "id": "9add99a4",
   "metadata": {
    "ExecuteTime": {
     "end_time": "2022-05-22T20:49:33.882766Z",
     "start_time": "2022-05-22T20:49:33.820985Z"
    }
   },
   "outputs": [],
   "source": [
    "# Subset reviews to only those observed in 2020\n",
    "reviews_2020_only = reviews_df[(reviews_df['review_date'].dt.year == 2020)]"
   ]
  },
  {
   "cell_type": "code",
   "execution_count": 112,
   "id": "e1fc69ef",
   "metadata": {
    "ExecuteTime": {
     "end_time": "2022-05-22T20:49:33.898411Z",
     "start_time": "2022-05-22T20:49:33.884721Z"
    }
   },
   "outputs": [
    {
     "data": {
      "text/html": [
       "<div>\n",
       "<style scoped>\n",
       "    .dataframe tbody tr th:only-of-type {\n",
       "        vertical-align: middle;\n",
       "    }\n",
       "\n",
       "    .dataframe tbody tr th {\n",
       "        vertical-align: top;\n",
       "    }\n",
       "\n",
       "    .dataframe thead th {\n",
       "        text-align: right;\n",
       "    }\n",
       "</style>\n",
       "<table border=\"1\" class=\"dataframe\">\n",
       "  <thead>\n",
       "    <tr style=\"text-align: right;\">\n",
       "      <th></th>\n",
       "      <th>app_name</th>\n",
       "      <th>author</th>\n",
       "      <th>rating</th>\n",
       "      <th>review_date</th>\n",
       "      <th>review_text</th>\n",
       "      <th>helpful_count</th>\n",
       "      <th>dev_reply_text</th>\n",
       "      <th>dev_reply_date</th>\n",
       "      <th>is_review_good</th>\n",
       "    </tr>\n",
       "  </thead>\n",
       "  <tbody>\n",
       "    <tr>\n",
       "      <th>0</th>\n",
       "      <td>Instant Search +</td>\n",
       "      <td>Consuela</td>\n",
       "      <td>5</td>\n",
       "      <td>2020-08-06</td>\n",
       "      <td>Great and super fast customer service! Highly ...</td>\n",
       "      <td>0</td>\n",
       "      <td>NaN</td>\n",
       "      <td>NaT</td>\n",
       "      <td>1</td>\n",
       "    </tr>\n",
       "    <tr>\n",
       "      <th>1</th>\n",
       "      <td>Instant Search +</td>\n",
       "      <td>L'Atelier Global</td>\n",
       "      <td>5</td>\n",
       "      <td>2020-08-04</td>\n",
       "      <td>Still setting up my store, and after initially...</td>\n",
       "      <td>0</td>\n",
       "      <td>NaN</td>\n",
       "      <td>NaT</td>\n",
       "      <td>1</td>\n",
       "    </tr>\n",
       "    <tr>\n",
       "      <th>2</th>\n",
       "      <td>Instant Search +</td>\n",
       "      <td>city'super E-Shop</td>\n",
       "      <td>5</td>\n",
       "      <td>2020-08-04</td>\n",
       "      <td>This is an excellent search app, which they ha...</td>\n",
       "      <td>0</td>\n",
       "      <td>NaN</td>\n",
       "      <td>NaT</td>\n",
       "      <td>1</td>\n",
       "    </tr>\n",
       "    <tr>\n",
       "      <th>3</th>\n",
       "      <td>Instant Search +</td>\n",
       "      <td>PortableHandwashing.com</td>\n",
       "      <td>5</td>\n",
       "      <td>2020-07-30</td>\n",
       "      <td>A+, great great great customer service! thanks...</td>\n",
       "      <td>0</td>\n",
       "      <td>NaN</td>\n",
       "      <td>NaT</td>\n",
       "      <td>1</td>\n",
       "    </tr>\n",
       "    <tr>\n",
       "      <th>4</th>\n",
       "      <td>Instant Search +</td>\n",
       "      <td>ICCTUNING</td>\n",
       "      <td>5</td>\n",
       "      <td>2020-07-28</td>\n",
       "      <td>I'm begginig to use this app, the search engin...</td>\n",
       "      <td>0</td>\n",
       "      <td>NaN</td>\n",
       "      <td>NaT</td>\n",
       "      <td>1</td>\n",
       "    </tr>\n",
       "  </tbody>\n",
       "</table>\n",
       "</div>"
      ],
      "text/plain": [
       "           app_name                   author  rating review_date  \\\n",
       "0  Instant Search +                 Consuela       5  2020-08-06   \n",
       "1  Instant Search +         L'Atelier Global       5  2020-08-04   \n",
       "2  Instant Search +        city'super E-Shop       5  2020-08-04   \n",
       "3  Instant Search +  PortableHandwashing.com       5  2020-07-30   \n",
       "4  Instant Search +                ICCTUNING       5  2020-07-28   \n",
       "\n",
       "                                         review_text  helpful_count  \\\n",
       "0  Great and super fast customer service! Highly ...              0   \n",
       "1  Still setting up my store, and after initially...              0   \n",
       "2  This is an excellent search app, which they ha...              0   \n",
       "3  A+, great great great customer service! thanks...              0   \n",
       "4  I'm begginig to use this app, the search engin...              0   \n",
       "\n",
       "  dev_reply_text dev_reply_date  is_review_good  \n",
       "0            NaN            NaT               1  \n",
       "1            NaN            NaT               1  \n",
       "2            NaN            NaT               1  \n",
       "3            NaN            NaT               1  \n",
       "4            NaN            NaT               1  "
      ]
     },
     "execution_count": 112,
     "metadata": {},
     "output_type": "execute_result"
    }
   ],
   "source": [
    "# Print the first 5 rows \n",
    "reviews_2020_only.head()"
   ]
  },
  {
   "cell_type": "code",
   "execution_count": 113,
   "id": "6057c3e5",
   "metadata": {
    "ExecuteTime": {
     "end_time": "2022-05-22T20:49:33.946411Z",
     "start_time": "2022-05-22T20:49:33.900413Z"
    }
   },
   "outputs": [],
   "source": [
    "# Group data by positive/negative reviews with the following columns:\n",
    "# total count of reviews and total count of reviews with developer responses\n",
    "reviews_2020_only_pptn_dev_reply = reviews_2020_only.groupby('is_review_good')[['review_text','dev_reply_text']].count()"
   ]
  },
  {
   "cell_type": "code",
   "execution_count": 114,
   "id": "8d05fb60",
   "metadata": {
    "ExecuteTime": {
     "end_time": "2022-05-22T20:49:33.962411Z",
     "start_time": "2022-05-22T20:49:33.948412Z"
    }
   },
   "outputs": [
    {
     "data": {
      "text/html": [
       "<div>\n",
       "<style scoped>\n",
       "    .dataframe tbody tr th:only-of-type {\n",
       "        vertical-align: middle;\n",
       "    }\n",
       "\n",
       "    .dataframe tbody tr th {\n",
       "        vertical-align: top;\n",
       "    }\n",
       "\n",
       "    .dataframe thead th {\n",
       "        text-align: right;\n",
       "    }\n",
       "</style>\n",
       "<table border=\"1\" class=\"dataframe\">\n",
       "  <thead>\n",
       "    <tr style=\"text-align: right;\">\n",
       "      <th></th>\n",
       "      <th>total_reviews</th>\n",
       "      <th>total_dev_replies</th>\n",
       "    </tr>\n",
       "    <tr>\n",
       "      <th>is_review_good</th>\n",
       "      <th></th>\n",
       "      <th></th>\n",
       "    </tr>\n",
       "  </thead>\n",
       "  <tbody>\n",
       "    <tr>\n",
       "      <th>0</th>\n",
       "      <td>7851</td>\n",
       "      <td>4151</td>\n",
       "    </tr>\n",
       "    <tr>\n",
       "      <th>1</th>\n",
       "      <td>99632</td>\n",
       "      <td>20904</td>\n",
       "    </tr>\n",
       "  </tbody>\n",
       "</table>\n",
       "</div>"
      ],
      "text/plain": [
       "                total_reviews  total_dev_replies\n",
       "is_review_good                                  \n",
       "0                        7851               4151\n",
       "1                       99632              20904"
      ]
     },
     "execution_count": 114,
     "metadata": {},
     "output_type": "execute_result"
    }
   ],
   "source": [
    "reviews_2020_only_pptn_dev_reply.rename(columns = {'review_text':'total_reviews', 'dev_reply_text':'total_dev_replies'})"
   ]
  },
  {
   "cell_type": "code",
   "execution_count": 115,
   "id": "0825074b",
   "metadata": {
    "ExecuteTime": {
     "end_time": "2022-05-22T20:49:33.978410Z",
     "start_time": "2022-05-22T20:49:33.963422Z"
    }
   },
   "outputs": [
    {
     "data": {
      "text/html": [
       "<div>\n",
       "<style scoped>\n",
       "    .dataframe tbody tr th:only-of-type {\n",
       "        vertical-align: middle;\n",
       "    }\n",
       "\n",
       "    .dataframe tbody tr th {\n",
       "        vertical-align: top;\n",
       "    }\n",
       "\n",
       "    .dataframe thead th {\n",
       "        text-align: right;\n",
       "    }\n",
       "</style>\n",
       "<table border=\"1\" class=\"dataframe\">\n",
       "  <thead>\n",
       "    <tr style=\"text-align: right;\">\n",
       "      <th></th>\n",
       "      <th>pct_total_reviews</th>\n",
       "      <th>pct_total_dev_replies</th>\n",
       "    </tr>\n",
       "    <tr>\n",
       "      <th>is_review_good</th>\n",
       "      <th></th>\n",
       "      <th></th>\n",
       "    </tr>\n",
       "  </thead>\n",
       "  <tbody>\n",
       "    <tr>\n",
       "      <th>0</th>\n",
       "      <td>7.3</td>\n",
       "      <td>16.6</td>\n",
       "    </tr>\n",
       "    <tr>\n",
       "      <th>1</th>\n",
       "      <td>92.7</td>\n",
       "      <td>83.4</td>\n",
       "    </tr>\n",
       "  </tbody>\n",
       "</table>\n",
       "</div>"
      ],
      "text/plain": [
       "                pct_total_reviews  pct_total_dev_replies\n",
       "is_review_good                                          \n",
       "0                             7.3                   16.6\n",
       "1                            92.7                   83.4"
      ]
     },
     "execution_count": 115,
     "metadata": {},
     "output_type": "execute_result"
    }
   ],
   "source": [
    "# Calculate proportions across columns as percentages to observe the proportion of total \n",
    "# negative/positive reviews and total negative/positive reviews with developer responses\n",
    "\n",
    "# axis=0: apply calculation “column-wise”\n",
    "reviews_2020_only_pptn_dev_reply.apply(lambda x: round(x / x.sum() * 100, 1), axis = 0).\\\n",
    "rename(columns = {'review_text':'pct_total_reviews', 'dev_reply_text':'pct_total_dev_replies'})"
   ]
  },
  {
   "cell_type": "markdown",
   "id": "a555c035",
   "metadata": {},
   "source": [
    "In 2020 (up until August), $\\approx$ 93% of reviews were positive and $\\approx$ 7% of reviews were negative. Of all the developer responses observed, $\\approx$ 16.6% were dedicated to negative reviews, whereas $\\approx$ 83.4% were for positive reviews."
   ]
  },
  {
   "cell_type": "code",
   "execution_count": 116,
   "id": "30f3cc2d",
   "metadata": {
    "ExecuteTime": {
     "end_time": "2022-05-22T20:49:33.994411Z",
     "start_time": "2022-05-22T20:49:33.979412Z"
    },
    "scrolled": true
   },
   "outputs": [
    {
     "data": {
      "text/html": [
       "<div>\n",
       "<style scoped>\n",
       "    .dataframe tbody tr th:only-of-type {\n",
       "        vertical-align: middle;\n",
       "    }\n",
       "\n",
       "    .dataframe tbody tr th {\n",
       "        vertical-align: top;\n",
       "    }\n",
       "\n",
       "    .dataframe thead th {\n",
       "        text-align: right;\n",
       "    }\n",
       "</style>\n",
       "<table border=\"1\" class=\"dataframe\">\n",
       "  <thead>\n",
       "    <tr style=\"text-align: right;\">\n",
       "      <th></th>\n",
       "      <th>pct_reviews_no_dev_reply</th>\n",
       "      <th>pct_reviews_with_dev_reply</th>\n",
       "    </tr>\n",
       "    <tr>\n",
       "      <th>is_review_good</th>\n",
       "      <th></th>\n",
       "      <th></th>\n",
       "    </tr>\n",
       "  </thead>\n",
       "  <tbody>\n",
       "    <tr>\n",
       "      <th>0</th>\n",
       "      <td>100.0</td>\n",
       "      <td>52.9</td>\n",
       "    </tr>\n",
       "    <tr>\n",
       "      <th>1</th>\n",
       "      <td>100.0</td>\n",
       "      <td>21.0</td>\n",
       "    </tr>\n",
       "  </tbody>\n",
       "</table>\n",
       "</div>"
      ],
      "text/plain": [
       "                pct_reviews_no_dev_reply  pct_reviews_with_dev_reply\n",
       "is_review_good                                                      \n",
       "0                                  100.0                        52.9\n",
       "1                                  100.0                        21.0"
      ]
     },
     "execution_count": 116,
     "metadata": {},
     "output_type": "execute_result"
    }
   ],
   "source": [
    "# Calculate proportions across rows as percentages to observe the proportion\n",
    "# of negative/positive reviews with or without developer responses\n",
    "\n",
    "# axis=1: apply calculation “row-wise”; rename columns\n",
    "reviews_2020_only_pptn_dev_reply.apply(lambda x: round(x / x.max() * 100, 1), axis = 1).\\\n",
    "rename(columns = {'review_text':'pct_reviews_no_dev_reply', 'dev_reply_text':'pct_reviews_with_dev_reply'})"
   ]
  },
  {
   "cell_type": "markdown",
   "id": "a878fcb0",
   "metadata": {},
   "source": [
    "Furthermore, $\\approx$ 53% of negative reviews received developer responses, whereas $\\approx$ 21% of positive reviews received developer responses."
   ]
  },
  {
   "cell_type": "markdown",
   "id": "62699542",
   "metadata": {},
   "source": [
    "# Summary\n",
    "***"
   ]
  },
  {
   "cell_type": "markdown",
   "id": "f39fbf81",
   "metadata": {},
   "source": [
    "Due to the skewed distribution of 5-star ratings across the reviews and the multi-class problem, the dataset was simplified into a binary classification by categorizing ratings 1-3 as negative or bad reviews and ratings 4-5 as positive or good reviews. This simplification resulted in $\\approx$ 93% of positive reviews and $\\approx$ 7% of negative reviews in the entire dataset.\n",
    "\n",
    "The class imbalance is of potential concern for this dataset. There is an opportunity to downsample this dataset based on the lowest number of reviews for a particular star rating prior to amalgamating data into a binary classification problem. However, it may be possible that the dataset can be separated out regardless of the class imbalance and this hypothesis will be explored in Part 3 of the Jupyter Notebooks."
   ]
  },
  {
   "cell_type": "markdown",
   "id": "88e1fdef",
   "metadata": {},
   "source": [
    "In Feb 2019, the first appearance of developer responses were observed in this dataset. The proportion of developer responses to reviews increased $\\approx$ 4% from 2019 (19.6%) to 2020 (up until August; 23.7%). The proportion of negative reviews that received developer responses increased $\\approx$ 7% from 2019 ($\\approx$ 46%) to 2020 ($\\approx$ 53%). \n",
    "\n",
    "\n",
    "Altogether, approximately $\\approx$ 49% (8,409 / 17,047) of negative reviews in 2019-2020 received developer responses. It was previously observed and stated that app developers responding to negative reviews are optional, as described [here](#app_developers_directive). This may explain why not all negative reviews receive developer responses."
   ]
  },
  {
   "cell_type": "markdown",
   "id": "6d7afad6",
   "metadata": {},
   "source": [
    "Although the proportion of negative reviews (7%) are far below the proportion of positive reviews (93%), only half of all negative reviews are being responded to by app developers. Although the topics that these reviews fall under will be explored in the upcoming notebooks, this opportunity for app developers to address negative reviews may be missed opportunities for addressing high-quality constructive feedback."
   ]
  },
  {
   "cell_type": "markdown",
   "id": "d2300a38",
   "metadata": {},
   "source": [
    "Furthermore, given that Shopify's App store is accessible by merchants/users from around the world, multi-language reviews have been observed throughout this data wrangling process. Of particular interest is the interaction of developer responses and the language of the review. This will be explored in Part 2 of the Jupyter Notebooks provided."
   ]
  },
  {
   "cell_type": "markdown",
   "id": "189d4f9c",
   "metadata": {},
   "source": [
    "Additional data exploration and future analyses can be completed for the following questions below:\n",
    "\n",
    "- What are the monthly, weekly, and daily reviews that have been observed and the corresponding proportion of developer responses observed?\n",
    "- Do certain dates of the year (e.g., time of month, time of day, seasonality) possess more reviews than usual? This particular insight could then inform whether more support would be required and on standby to provide developer responses."
   ]
  },
  {
   "cell_type": "markdown",
   "id": "029c3be1",
   "metadata": {},
   "source": [
    "## Save  `reviews_df` for Part 2"
   ]
  },
  {
   "cell_type": "markdown",
   "id": "2fbd3703",
   "metadata": {},
   "source": [
    "Due to the commands for saving as .csv files using pandas does not preserve the data types that were originally modified, `pickle` files were created instead and used throughout."
   ]
  },
  {
   "cell_type": "code",
   "execution_count": 117,
   "id": "ed03f699",
   "metadata": {
    "ExecuteTime": {
     "end_time": "2022-05-22T20:49:34.010001Z",
     "start_time": "2022-05-22T20:49:33.996412Z"
    }
   },
   "outputs": [],
   "source": [
    "# # Create a pickle file\n",
    "# reviews_df.to_pickle(\"reviews_df_part_1.pkl\")"
   ]
  },
  {
   "cell_type": "code",
   "execution_count": 118,
   "id": "f61734fb",
   "metadata": {
    "ExecuteTime": {
     "end_time": "2022-05-22T20:49:34.025796Z",
     "start_time": "2022-05-22T20:49:34.012010Z"
    }
   },
   "outputs": [],
   "source": [
    "# # Create a .csv file\n",
    "# reviews_df.to_csv('reviews_df_part_1.csv', index = False)"
   ]
  }
 ],
 "metadata": {
  "kernelspec": {
   "display_name": "Python 3 (ipykernel)",
   "language": "python",
   "name": "python3"
  },
  "language_info": {
   "codemirror_mode": {
    "name": "ipython",
    "version": 3
   },
   "file_extension": ".py",
   "mimetype": "text/x-python",
   "name": "python",
   "nbconvert_exporter": "python",
   "pygments_lexer": "ipython3",
   "version": "3.9.7"
  },
  "toc": {
   "base_numbering": 1,
   "nav_menu": {},
   "number_sections": true,
   "sideBar": true,
   "skip_h1_title": false,
   "title_cell": "Table of Contents",
   "title_sidebar": "Contents",
   "toc_cell": false,
   "toc_position": {
    "height": "calc(100% - 180px)",
    "left": "10px",
    "top": "150px",
    "width": "303px"
   },
   "toc_section_display": true,
   "toc_window_display": true
  },
  "varInspector": {
   "cols": {
    "lenName": 16,
    "lenType": 16,
    "lenVar": 40
   },
   "kernels_config": {
    "python": {
     "delete_cmd_postfix": "",
     "delete_cmd_prefix": "del ",
     "library": "var_list.py",
     "varRefreshCmd": "print(var_dic_list())"
    },
    "r": {
     "delete_cmd_postfix": ") ",
     "delete_cmd_prefix": "rm(",
     "library": "var_list.r",
     "varRefreshCmd": "cat(var_dic_list()) "
    }
   },
   "types_to_exclude": [
    "module",
    "function",
    "builtin_function_or_method",
    "instance",
    "_Feature"
   ],
   "window_display": false
  }
 },
 "nbformat": 4,
 "nbformat_minor": 5
}
