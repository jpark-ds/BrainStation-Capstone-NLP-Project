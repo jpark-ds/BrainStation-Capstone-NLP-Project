{
 "cells": [
  {
   "cell_type": "markdown",
   "id": "73fdc26d",
   "metadata": {},
   "source": [
    "Name: Jonathan Park <br>\n",
    "Date: 2022.04.03"
   ]
  },
  {
   "cell_type": "markdown",
   "id": "f930f7ab",
   "metadata": {},
   "source": [
    "# Project Shappify: Text Pre-processing, Language Detection and Vectorization Part 2\n",
    "***"
   ]
  },
  {
   "cell_type": "markdown",
   "id": "72779a43",
   "metadata": {},
   "source": [
    "## Introduction"
   ]
  },
  {
   "cell_type": "markdown",
   "id": "e505e988",
   "metadata": {},
   "source": [
    "Using the output of the reviews dataframe from Part 1, the steps in this notebook involves iterative text pre-processing of the reviews coupled with a pre-trained hierarchical classifier for language detection and isolating English language reviews. These processes are implemented in order to minimize the noise in the dataset and in preparation for implementing models in Part 3 and Part 4 of the Jupyter Notebooks."
   ]
  },
  {
   "cell_type": "markdown",
   "id": "2338009e",
   "metadata": {},
   "source": [
    "### Standard Data Formats: Document-Term Matrix"
   ]
  },
  {
   "cell_type": "markdown",
   "id": "40b079ac",
   "metadata": {},
   "source": [
    "In order to complete the data analyses in these upcoming notebooks, I will be using scikit-learn's CountVectorizer to break down a document's (i.e., in this context, a document or doc refers to each individual review text) sentence(s) into individual words or tokens. This process is called tokenization. The frequency of appearance of an individual word or token for a doc is then recorded along the row and the unique token is represented as a feature or column. This process results in a Document-Term Matrix (DTM) that can then be used in other analyses.\n",
    "\n",
    "Each individual word or token or unigram may be synonymously used throughout this notebook. However, it is also possible to break down sentences by pairs or triplets of words, called bigrams or trigrams, respectively. Bigrams will be briefly explored throughout the EDA process.\n",
    "\n",
    "<!-- In addition, with CountVectorizer, we can remove stop words. Stop words are common words that add no additional meaning to text such as 'a', 'the', etc. -->"
   ]
  },
  {
   "cell_type": "markdown",
   "id": "426e4069",
   "metadata": {},
   "source": [
    "### Import Packages"
   ]
  },
  {
   "cell_type": "code",
   "execution_count": 1,
   "id": "6c68c142",
   "metadata": {
    "ExecuteTime": {
     "end_time": "2022-05-22T20:44:35.147981Z",
     "start_time": "2022-05-22T20:44:32.254214Z"
    }
   },
   "outputs": [],
   "source": [
    "# Array and dataframe manipulation libraries\n",
    "import numpy as np\n",
    "import pandas as pd\n",
    "\n",
    "# Plotting libraries\n",
    "import matplotlib.pyplot as plt\n",
    "import seaborn as sns\n",
    "\n",
    "# Visual progress bar library\n",
    "from tqdm import tqdm\n",
    "tqdm.pandas()\n",
    "\n",
    "# Text pre-processing packages\n",
    "import re\n",
    "import string\n",
    "import contractions\n",
    "\n",
    "# Language detection library\n",
    "import fasttext\n",
    "\n",
    "# Natural language toolkit library\n",
    "import nltk\n",
    "from nltk.tokenize import word_tokenize # Tokenize text\n",
    "from nltk.tokenize.treebank import TreebankWordDetokenizer # Detokenize text\n",
    "from nltk.stem import WordNetLemmatizer # Lemmatizer\n",
    "from nltk.corpus import wordnet # POS Tagging\n",
    "\n",
    "# Sklearn libraries\n",
    "from sklearn.feature_extraction.text import CountVectorizer"
   ]
  },
  {
   "cell_type": "markdown",
   "id": "5fafa346",
   "metadata": {},
   "source": [
    "### Defining Functions"
   ]
  },
  {
   "cell_type": "markdown",
   "id": "a0041946",
   "metadata": {},
   "source": [
    "I will define a function that will plot the top 20 most frequent tokens."
   ]
  },
  {
   "cell_type": "code",
   "execution_count": 2,
   "id": "87e1f871",
   "metadata": {
    "ExecuteTime": {
     "end_time": "2022-05-22T20:44:35.163976Z",
     "start_time": "2022-05-22T20:44:35.149963Z"
    }
   },
   "outputs": [],
   "source": [
    "def plot_most_frequent(df, n_gram, top=20):\n",
    "    \n",
    "    \"\"\"\n",
    "    Creates a bar graph of the top 20 tokens.\n",
    "    Specify the n_gram range utilized\n",
    "    for display in the graph's title.\n",
    "    \n",
    "    Parameters\n",
    "    ----------\n",
    "    df : Dataframe of reviews.\n",
    "    n_gram : Text for inputting into the graph title (e.g., unigram, bigram).\n",
    "    top : The top 20 (default) tokens will be depicted.\n",
    "\n",
    "    \"\"\"\n",
    "\n",
    "    fig, ax = plt.subplots(figsize=(0.75 * top, 5))\n",
    "    \n",
    "    ############# Bar Graph #############\n",
    "    df.sort_values(by=\"count\", ascending=False).\\\n",
    "                   head(top).\\\n",
    "                   plot(kind=\"bar\",\n",
    "                        rot=45,\n",
    "                        ax=ax,\n",
    "                        legend = None)\n",
    "\n",
    "    # Set title and axes labels\n",
    "    plt.title(f\"Most frequent {n_gram}\", size=24)\n",
    "    plt.ylabel(\"Total Reviews Count\")\n",
    "    \n",
    "    # Remove top and right borders\n",
    "    sns.despine()\n",
    "    \n",
    "    plt.show()"
   ]
  },
  {
   "cell_type": "markdown",
   "id": "d396ff46",
   "metadata": {},
   "source": [
    "### Import Data"
   ]
  },
  {
   "cell_type": "markdown",
   "id": "c6503468",
   "metadata": {},
   "source": [
    "Please make sure the directory has been changed to match your folder destination."
   ]
  },
  {
   "cell_type": "code",
   "execution_count": 3,
   "id": "717d4172",
   "metadata": {
    "ExecuteTime": {
     "end_time": "2022-05-22T20:44:35.511032Z",
     "start_time": "2022-05-22T20:44:35.165961Z"
    }
   },
   "outputs": [],
   "source": [
    "# Import dataset\n",
    "reviews_df = pd.read_pickle('reviews_df_part_1.pkl')"
   ]
  },
  {
   "cell_type": "markdown",
   "id": "52ad8150",
   "metadata": {},
   "source": [
    "###  Overview of Data"
   ]
  },
  {
   "cell_type": "markdown",
   "id": "ed6df0fa",
   "metadata": {},
   "source": [
    "I will check the top 5 rows and bottom 5 rows of the dataframe to remind myself of what the data looks like."
   ]
  },
  {
   "cell_type": "code",
   "execution_count": 4,
   "id": "058233e7",
   "metadata": {
    "ExecuteTime": {
     "end_time": "2022-05-22T20:44:35.542081Z",
     "start_time": "2022-05-22T20:44:35.514061Z"
    },
    "scrolled": true
   },
   "outputs": [
    {
     "data": {
      "text/html": [
       "<div>\n",
       "<style scoped>\n",
       "    .dataframe tbody tr th:only-of-type {\n",
       "        vertical-align: middle;\n",
       "    }\n",
       "\n",
       "    .dataframe tbody tr th {\n",
       "        vertical-align: top;\n",
       "    }\n",
       "\n",
       "    .dataframe thead th {\n",
       "        text-align: right;\n",
       "    }\n",
       "</style>\n",
       "<table border=\"1\" class=\"dataframe\">\n",
       "  <thead>\n",
       "    <tr style=\"text-align: right;\">\n",
       "      <th></th>\n",
       "      <th>app_name</th>\n",
       "      <th>author</th>\n",
       "      <th>rating</th>\n",
       "      <th>review_date</th>\n",
       "      <th>review_text</th>\n",
       "      <th>helpful_count</th>\n",
       "      <th>dev_reply_text</th>\n",
       "      <th>dev_reply_date</th>\n",
       "      <th>is_review_good</th>\n",
       "    </tr>\n",
       "  </thead>\n",
       "  <tbody>\n",
       "    <tr>\n",
       "      <th>0</th>\n",
       "      <td>Instant Search +</td>\n",
       "      <td>Consuela</td>\n",
       "      <td>5</td>\n",
       "      <td>2020-08-06</td>\n",
       "      <td>Great and super fast customer service! Highly ...</td>\n",
       "      <td>0</td>\n",
       "      <td>NaN</td>\n",
       "      <td>NaT</td>\n",
       "      <td>1</td>\n",
       "    </tr>\n",
       "    <tr>\n",
       "      <th>1</th>\n",
       "      <td>Instant Search +</td>\n",
       "      <td>L'Atelier Global</td>\n",
       "      <td>5</td>\n",
       "      <td>2020-08-04</td>\n",
       "      <td>Still setting up my store, and after initially...</td>\n",
       "      <td>0</td>\n",
       "      <td>NaN</td>\n",
       "      <td>NaT</td>\n",
       "      <td>1</td>\n",
       "    </tr>\n",
       "    <tr>\n",
       "      <th>2</th>\n",
       "      <td>Instant Search +</td>\n",
       "      <td>city'super E-Shop</td>\n",
       "      <td>5</td>\n",
       "      <td>2020-08-04</td>\n",
       "      <td>This is an excellent search app, which they ha...</td>\n",
       "      <td>0</td>\n",
       "      <td>NaN</td>\n",
       "      <td>NaT</td>\n",
       "      <td>1</td>\n",
       "    </tr>\n",
       "    <tr>\n",
       "      <th>3</th>\n",
       "      <td>Instant Search +</td>\n",
       "      <td>PortableHandwashing.com</td>\n",
       "      <td>5</td>\n",
       "      <td>2020-07-30</td>\n",
       "      <td>A+, great great great customer service! thanks...</td>\n",
       "      <td>0</td>\n",
       "      <td>NaN</td>\n",
       "      <td>NaT</td>\n",
       "      <td>1</td>\n",
       "    </tr>\n",
       "    <tr>\n",
       "      <th>4</th>\n",
       "      <td>Instant Search +</td>\n",
       "      <td>ICCTUNING</td>\n",
       "      <td>5</td>\n",
       "      <td>2020-07-28</td>\n",
       "      <td>I'm begginig to use this app, the search engin...</td>\n",
       "      <td>0</td>\n",
       "      <td>NaN</td>\n",
       "      <td>NaT</td>\n",
       "      <td>1</td>\n",
       "    </tr>\n",
       "  </tbody>\n",
       "</table>\n",
       "</div>"
      ],
      "text/plain": [
       "           app_name                   author  rating review_date  \\\n",
       "0  Instant Search +                 Consuela       5  2020-08-06   \n",
       "1  Instant Search +         L'Atelier Global       5  2020-08-04   \n",
       "2  Instant Search +        city'super E-Shop       5  2020-08-04   \n",
       "3  Instant Search +  PortableHandwashing.com       5  2020-07-30   \n",
       "4  Instant Search +                ICCTUNING       5  2020-07-28   \n",
       "\n",
       "                                         review_text  helpful_count  \\\n",
       "0  Great and super fast customer service! Highly ...              0   \n",
       "1  Still setting up my store, and after initially...              0   \n",
       "2  This is an excellent search app, which they ha...              0   \n",
       "3  A+, great great great customer service! thanks...              0   \n",
       "4  I'm begginig to use this app, the search engin...              0   \n",
       "\n",
       "  dev_reply_text dev_reply_date  is_review_good  \n",
       "0            NaN            NaT               1  \n",
       "1            NaN            NaT               1  \n",
       "2            NaN            NaT               1  \n",
       "3            NaN            NaT               1  \n",
       "4            NaN            NaT               1  "
      ]
     },
     "execution_count": 4,
     "metadata": {},
     "output_type": "execute_result"
    }
   ],
   "source": [
    "# Print the first 5 rows\n",
    "reviews_df.head()"
   ]
  },
  {
   "cell_type": "code",
   "execution_count": 5,
   "id": "2608ede8",
   "metadata": {
    "ExecuteTime": {
     "end_time": "2022-05-22T20:44:35.573459Z",
     "start_time": "2022-05-22T20:44:35.544083Z"
    },
    "scrolled": true
   },
   "outputs": [
    {
     "data": {
      "text/html": [
       "<div>\n",
       "<style scoped>\n",
       "    .dataframe tbody tr th:only-of-type {\n",
       "        vertical-align: middle;\n",
       "    }\n",
       "\n",
       "    .dataframe tbody tr th {\n",
       "        vertical-align: top;\n",
       "    }\n",
       "\n",
       "    .dataframe thead th {\n",
       "        text-align: right;\n",
       "    }\n",
       "</style>\n",
       "<table border=\"1\" class=\"dataframe\">\n",
       "  <thead>\n",
       "    <tr style=\"text-align: right;\">\n",
       "      <th></th>\n",
       "      <th>app_name</th>\n",
       "      <th>author</th>\n",
       "      <th>rating</th>\n",
       "      <th>review_date</th>\n",
       "      <th>review_text</th>\n",
       "      <th>helpful_count</th>\n",
       "      <th>dev_reply_text</th>\n",
       "      <th>dev_reply_date</th>\n",
       "      <th>is_review_good</th>\n",
       "    </tr>\n",
       "  </thead>\n",
       "  <tbody>\n",
       "    <tr>\n",
       "      <th>446968</th>\n",
       "      <td>COD Order Confirmation</td>\n",
       "      <td>Feltin</td>\n",
       "      <td>5</td>\n",
       "      <td>2018-03-22</td>\n",
       "      <td>Very very well explained tutorial. Seems very ...</td>\n",
       "      <td>0</td>\n",
       "      <td>NaN</td>\n",
       "      <td>NaT</td>\n",
       "      <td>1</td>\n",
       "    </tr>\n",
       "    <tr>\n",
       "      <th>446969</th>\n",
       "      <td>COD Order Confirmation</td>\n",
       "      <td>Srstore09</td>\n",
       "      <td>5</td>\n",
       "      <td>2018-01-23</td>\n",
       "      <td>Finally we have an App for for CoD Confirmatio...</td>\n",
       "      <td>0</td>\n",
       "      <td>NaN</td>\n",
       "      <td>NaT</td>\n",
       "      <td>1</td>\n",
       "    </tr>\n",
       "    <tr>\n",
       "      <th>446970</th>\n",
       "      <td>COD Order Confirmation</td>\n",
       "      <td>Eshop Fashion</td>\n",
       "      <td>5</td>\n",
       "      <td>2018-01-05</td>\n",
       "      <td>Useful, App help us to reduce cost &amp; time. hig...</td>\n",
       "      <td>0</td>\n",
       "      <td>NaN</td>\n",
       "      <td>NaT</td>\n",
       "      <td>1</td>\n",
       "    </tr>\n",
       "    <tr>\n",
       "      <th>446971</th>\n",
       "      <td>COD Order Confirmation</td>\n",
       "      <td>Arabicworld</td>\n",
       "      <td>1</td>\n",
       "      <td>2017-06-15</td>\n",
       "      <td>Do not purchase this application!\\nit's like s...</td>\n",
       "      <td>0</td>\n",
       "      <td>NaN</td>\n",
       "      <td>NaT</td>\n",
       "      <td>0</td>\n",
       "    </tr>\n",
       "    <tr>\n",
       "      <th>446972</th>\n",
       "      <td>COD Order Confirmation</td>\n",
       "      <td>Ethnicyug</td>\n",
       "      <td>5</td>\n",
       "      <td>2016-01-06</td>\n",
       "      <td>​​A must​ have​ app for those having e-stores ...</td>\n",
       "      <td>0</td>\n",
       "      <td>NaN</td>\n",
       "      <td>NaT</td>\n",
       "      <td>1</td>\n",
       "    </tr>\n",
       "  </tbody>\n",
       "</table>\n",
       "</div>"
      ],
      "text/plain": [
       "                      app_name         author  rating review_date  \\\n",
       "446968  COD Order Confirmation         Feltin       5  2018-03-22   \n",
       "446969  COD Order Confirmation      Srstore09       5  2018-01-23   \n",
       "446970  COD Order Confirmation  Eshop Fashion       5  2018-01-05   \n",
       "446971  COD Order Confirmation    Arabicworld       1  2017-06-15   \n",
       "446972  COD Order Confirmation      Ethnicyug       5  2016-01-06   \n",
       "\n",
       "                                              review_text  helpful_count  \\\n",
       "446968  Very very well explained tutorial. Seems very ...              0   \n",
       "446969  Finally we have an App for for CoD Confirmatio...              0   \n",
       "446970  Useful, App help us to reduce cost & time. hig...              0   \n",
       "446971  Do not purchase this application!\\nit's like s...              0   \n",
       "446972  ​​A must​ have​ app for those having e-stores ...              0   \n",
       "\n",
       "       dev_reply_text dev_reply_date  is_review_good  \n",
       "446968            NaN            NaT               1  \n",
       "446969            NaN            NaT               1  \n",
       "446970            NaN            NaT               1  \n",
       "446971            NaN            NaT               0  \n",
       "446972            NaN            NaT               1  "
      ]
     },
     "execution_count": 5,
     "metadata": {},
     "output_type": "execute_result"
    }
   ],
   "source": [
    "# Similarly, print the last 5 rows to identify if any \n",
    "# non-data related content was tacked on at the bottom (e.g., comments)\n",
    "reviews_df.tail()"
   ]
  },
  {
   "cell_type": "code",
   "execution_count": 6,
   "id": "88e3ac08",
   "metadata": {
    "ExecuteTime": {
     "end_time": "2022-05-22T20:44:35.685065Z",
     "start_time": "2022-05-22T20:44:35.574416Z"
    }
   },
   "outputs": [
    {
     "name": "stdout",
     "output_type": "stream",
     "text": [
      "<class 'pandas.core.frame.DataFrame'>\n",
      "Int64Index: 446973 entries, 0 to 446972\n",
      "Data columns (total 9 columns):\n",
      " #   Column          Non-Null Count   Dtype         \n",
      "---  ------          --------------   -----         \n",
      " 0   app_name        446973 non-null  object        \n",
      " 1   author          446973 non-null  object        \n",
      " 2   rating          446973 non-null  int64         \n",
      " 3   review_date     446973 non-null  datetime64[ns]\n",
      " 4   review_text     446973 non-null  object        \n",
      " 5   helpful_count   446973 non-null  int64         \n",
      " 6   dev_reply_text  47542 non-null   object        \n",
      " 7   dev_reply_date  47542 non-null   datetime64[ns]\n",
      " 8   is_review_good  446973 non-null  int32         \n",
      "dtypes: datetime64[ns](2), int32(1), int64(2), object(4)\n",
      "memory usage: 32.4+ MB\n"
     ]
    }
   ],
   "source": [
    "# Quick summary of dataframe's columns, data type, and non-null counts\n",
    "reviews_df.info()"
   ]
  },
  {
   "cell_type": "markdown",
   "id": "df178593",
   "metadata": {},
   "source": [
    "There are currently 8 columns in the dataframe (excluding the index). I will drop the `author`, `rating`, and `helpful_count` columns since I will not be using them in the downstream analysis."
   ]
  },
  {
   "cell_type": "code",
   "execution_count": 7,
   "id": "6cf558f3",
   "metadata": {
    "ExecuteTime": {
     "end_time": "2022-05-22T20:44:35.716575Z",
     "start_time": "2022-05-22T20:44:35.687066Z"
    }
   },
   "outputs": [],
   "source": [
    "# Drop columns from dataframe\n",
    "reviews_df.drop(columns = ['author', 'rating', 'helpful_count'], inplace = True)"
   ]
  },
  {
   "cell_type": "markdown",
   "id": "19ec62e7",
   "metadata": {},
   "source": [
    "Confirm that the columns have been dropped."
   ]
  },
  {
   "cell_type": "code",
   "execution_count": 8,
   "id": "46087ca7",
   "metadata": {
    "ExecuteTime": {
     "end_time": "2022-05-22T20:44:35.796118Z",
     "start_time": "2022-05-22T20:44:35.718576Z"
    }
   },
   "outputs": [
    {
     "name": "stdout",
     "output_type": "stream",
     "text": [
      "<class 'pandas.core.frame.DataFrame'>\n",
      "Int64Index: 446973 entries, 0 to 446972\n",
      "Data columns (total 6 columns):\n",
      " #   Column          Non-Null Count   Dtype         \n",
      "---  ------          --------------   -----         \n",
      " 0   app_name        446973 non-null  object        \n",
      " 1   review_date     446973 non-null  datetime64[ns]\n",
      " 2   review_text     446973 non-null  object        \n",
      " 3   dev_reply_text  47542 non-null   object        \n",
      " 4   dev_reply_date  47542 non-null   datetime64[ns]\n",
      " 5   is_review_good  446973 non-null  int32         \n",
      "dtypes: datetime64[ns](2), int32(1), object(3)\n",
      "memory usage: 22.2+ MB\n"
     ]
    }
   ],
   "source": [
    "reviews_df.info()"
   ]
  },
  {
   "cell_type": "markdown",
   "id": "8aad5aa1",
   "metadata": {},
   "source": [
    "The total columns in the dataframe decreased to 5 columns, indicating successful dropping of columns."
   ]
  },
  {
   "cell_type": "markdown",
   "id": "135d10d8",
   "metadata": {},
   "source": [
    "#### What is the vocabulary size prior to any text pre-processing?"
   ]
  },
  {
   "cell_type": "markdown",
   "id": "0602bec8",
   "metadata": {},
   "source": [
    "For exploratory purposes, I will obtain the size of the vocabulary from the Document-Term sparse matrix created by the CountVectorizer function from the Sklearn library."
   ]
  },
  {
   "cell_type": "code",
   "execution_count": 9,
   "id": "bc6ce5c6",
   "metadata": {
    "ExecuteTime": {
     "end_time": "2022-05-22T20:44:47.886634Z",
     "start_time": "2022-05-22T20:44:35.797118Z"
    }
   },
   "outputs": [],
   "source": [
    "# Instantiate Countvectorizer with ngrams = 1 default\n",
    "cv_base = CountVectorizer()\n",
    "\n",
    "# Fit and transform the review text column\n",
    "cv_base_results = cv_base.fit_transform(reviews_df['review_text'])"
   ]
  },
  {
   "cell_type": "code",
   "execution_count": 10,
   "id": "b2ef29e1",
   "metadata": {
    "ExecuteTime": {
     "end_time": "2022-05-22T20:44:47.902073Z",
     "start_time": "2022-05-22T20:44:47.889618Z"
    }
   },
   "outputs": [
    {
     "data": {
      "text/plain": [
       "<446973x104750 sparse matrix of type '<class 'numpy.int64'>'\n",
       "\twith 11228604 stored elements in Compressed Sparse Row format>"
      ]
     },
     "execution_count": 10,
     "metadata": {},
     "output_type": "execute_result"
    }
   ],
   "source": [
    "# Print the results of the vectorized results\n",
    "cv_base_results"
   ]
  },
  {
   "cell_type": "markdown",
   "id": "0e6d9ade",
   "metadata": {},
   "source": [
    "The current vocabulary size is 104,750 without text pre-processing. Let's see how this changes as we go through the different text pre-processing steps. This is analagous to dimensionality reduction, which will be important for the future modeling in Parts 3 and 4 of the Jupyter Notebooks."
   ]
  },
  {
   "cell_type": "markdown",
   "id": "311d6063",
   "metadata": {},
   "source": [
    "## Text Pre-Processing Round 1"
   ]
  },
  {
   "cell_type": "markdown",
   "id": "9a1f4db7",
   "metadata": {},
   "source": [
    "The initial text pre-processing for round 1 will be to first remove the line breaks (e.g., \\n) that can appear within the review texts. This step is implemented to also enable a first pass of the review texts into the pre-trained hierarchical classifier for multi-language detection. Additional details will be outlined in subsequent sections regarding the language detection model."
   ]
  },
  {
   "cell_type": "markdown",
   "id": "9f1d9ae5",
   "metadata": {},
   "source": [
    "First define a function that will implement the round 1 of text pre-processing below."
   ]
  },
  {
   "cell_type": "code",
   "execution_count": 11,
   "id": "a5467a71",
   "metadata": {
    "ExecuteTime": {
     "end_time": "2022-05-22T20:44:47.917038Z",
     "start_time": "2022-05-22T20:44:47.904040Z"
    }
   },
   "outputs": [],
   "source": [
    "def clean_review_round_1(review_text):\n",
    "    \n",
    "    \"\"\"\n",
    "    Remove nonsensical text such as \n",
    "    \\n (i.e., line breaks).\n",
    "    \n",
    "    Parameters\n",
    "    ----------\n",
    "    review_text : Array of review texts.\n",
    "\n",
    "    Returns\n",
    "    -------\n",
    "    review_text : Array of review texts with nonsensical text removed.\n",
    "    \n",
    "    \"\"\"\n",
    "\n",
    "    assert isinstance(review_text, str), 'Input string arguments only'\n",
    "\n",
    "    # Subsitute newline characters with space\n",
    "    review_text = re.sub('\\n', ' ', review_text)\n",
    "    \n",
    "    return review_text"
   ]
  },
  {
   "cell_type": "markdown",
   "id": "e9572bbc",
   "metadata": {},
   "source": [
    "I will now create a copy of the `reviews_df` dataframe into a new variable `reviews_df_clean_1`, which represents the dataframe that will contain results from the first round of pre-processing."
   ]
  },
  {
   "cell_type": "code",
   "execution_count": 12,
   "id": "00a167ae",
   "metadata": {
    "ExecuteTime": {
     "end_time": "2022-05-22T20:44:47.949038Z",
     "start_time": "2022-05-22T20:44:47.919040Z"
    }
   },
   "outputs": [],
   "source": [
    "# Create a new variable\n",
    "reviews_df_clean_1 = reviews_df.copy()"
   ]
  },
  {
   "cell_type": "markdown",
   "id": "4193b607",
   "metadata": {},
   "source": [
    "Apply the text pre-processing to `reviews_df_clean_1`."
   ]
  },
  {
   "cell_type": "code",
   "execution_count": 13,
   "id": "a329deb4",
   "metadata": {
    "ExecuteTime": {
     "end_time": "2022-05-22T20:44:49.178125Z",
     "start_time": "2022-05-22T20:44:47.951037Z"
    }
   },
   "outputs": [
    {
     "name": "stderr",
     "output_type": "stream",
     "text": [
      "100%|██████████| 446973/446973 [00:01<00:00, 377528.08it/s]\n"
     ]
    }
   ],
   "source": [
    "reviews_df_clean_1['review_text'] = reviews_df_clean_1['review_text'].progress_apply(lambda x: clean_review_round_1(x))"
   ]
  },
  {
   "cell_type": "markdown",
   "id": "2d52cca0",
   "metadata": {},
   "source": [
    "### Language Detection Round 1"
   ]
  },
  {
   "cell_type": "markdown",
   "id": "58f7e63a",
   "metadata": {},
   "source": [
    "Throughout the data wrangling phase in Part 1, instances of reviews being posted in languages other than English were observed. For this reason, a language detection step is integrated to identify what other languages are present and to separate out English language reviews for downstream analysis.\n",
    "\n",
    "I am using the open-source pre-trained model made available by [fasttext](https://fasttext.cc/docs/en/language-identification.html) (formerly fastText), which was first created by researchers from the [Facebook AI group](https://research.facebook.com/blog/2016/08/fasttext/). It is capable of recognizing 176 different languages and provides ISO language codes for the identified language. This open-source library was chosen for the main reason of optimal speed and performance. For instance, an interesting [article](https://towardsdatascience.com/benchmarking-language-detection-for-nlp-8250ea8b67c) describes the comparison in speed and accuracy of language detection of the fasttext model in comparison to other methods (e.g., SpaCy). In addition, my attempt of implementing SpaCy's language detection took $\\approx$ 3-5 hours for the model to complete. Given multiple instances of language detection in this notebook, that method was not feasible at this time. For those reasons, fasttext was implemented."
   ]
  },
  {
   "cell_type": "markdown",
   "id": "1f2a838e",
   "metadata": {},
   "source": [
    "I will first load and instantiate the fasttext pre-trained model. The pre-trained model can be found [here](https://fasttext.cc/docs/en/language-identification.html)."
   ]
  },
  {
   "cell_type": "markdown",
   "id": "1cfb90eb",
   "metadata": {},
   "source": [
    "Implementation code for fasttext was adapted from the following:\n",
    "\n",
    "- [Source 1](https://towardsdatascience.com/benchmarking-language-detection-for-nlp-8250ea8b67c)"
   ]
  },
  {
   "cell_type": "code",
   "execution_count": 14,
   "id": "aac4551f",
   "metadata": {
    "ExecuteTime": {
     "end_time": "2022-05-22T20:44:49.964042Z",
     "start_time": "2022-05-22T20:44:49.180126Z"
    }
   },
   "outputs": [],
   "source": [
    "# Load pre-trained hierarchical model downloaded from fasttext\n",
    "path_to_model = 'lid.176.bin'\n",
    "ft_model = fasttext.load_model(path_to_model)"
   ]
  },
  {
   "cell_type": "markdown",
   "id": "f0d23eb8",
   "metadata": {},
   "source": [
    "I will now define a function that will use the fasttext model to classify the language of a review's text and extract the 2-3 letter ISO language code from the results."
   ]
  },
  {
   "cell_type": "code",
   "execution_count": 15,
   "id": "36d3fc18",
   "metadata": {
    "ExecuteTime": {
     "end_time": "2022-05-22T20:44:49.980020Z",
     "start_time": "2022-05-22T20:44:49.966022Z"
    }
   },
   "outputs": [],
   "source": [
    "def lang_detect(review_text):\n",
    "    \n",
    "    \"\"\"    \n",
    "    Using fasttext's pre-trained hierarchical classifer,\n",
    "    multi-language detection is implemented. Specified output \n",
    "    are 2-3 letter ISO language codes.\n",
    "    \n",
    "    Parameters\n",
    "    ----------\n",
    "    review_text : Array of review texts.\n",
    "\n",
    "    Returns\n",
    "    -------\n",
    "    lang_result : The ISO language code.\n",
    "    \n",
    "    \"\"\"\n",
    "\n",
    "    \n",
    "    assert isinstance(review_text, str), 'Input string arguments only'\n",
    "\n",
    "    \n",
    "    # Extract the ISO language code\n",
    "    lang_result = [p.replace('__label__', '') for p in ft_model.predict(review_text)[0]][0]\n",
    "    \n",
    "    return lang_result"
   ]
  },
  {
   "cell_type": "markdown",
   "id": "819816e8",
   "metadata": {},
   "source": [
    "I will now apply the function to the review texts. This step is relatively quick, taking approximately 20 seconds to classify $\\approx$ 450,000 reviews. A new column is created in the dataframe, called `lang_iso`, representing the ISO language code output from the above function."
   ]
  },
  {
   "cell_type": "code",
   "execution_count": 16,
   "id": "6f793c97",
   "metadata": {
    "ExecuteTime": {
     "end_time": "2022-05-22T20:45:07.516785Z",
     "start_time": "2022-05-22T20:44:49.982175Z"
    },
    "scrolled": true
   },
   "outputs": [
    {
     "name": "stderr",
     "output_type": "stream",
     "text": [
      "100%|██████████| 446973/446973 [00:17<00:00, 25518.55it/s]\n"
     ]
    }
   ],
   "source": [
    "reviews_df_clean_1['lang_iso'] = reviews_df_clean_1['review_text'].progress_apply(lambda x: lang_detect(x))"
   ]
  },
  {
   "cell_type": "markdown",
   "id": "13b5bda0",
   "metadata": {},
   "source": [
    "#### Save English Language Reviews - Round 1"
   ]
  },
  {
   "cell_type": "markdown",
   "id": "1c7bdba2",
   "metadata": {},
   "source": [
    "I will now separate all the review texts classified as `en` for English, into a new variable titled `reviews_df_clean_1_en`."
   ]
  },
  {
   "cell_type": "code",
   "execution_count": 17,
   "id": "fd8c0d1b",
   "metadata": {
    "ExecuteTime": {
     "end_time": "2022-05-22T20:45:07.675826Z",
     "start_time": "2022-05-22T20:45:07.518784Z"
    }
   },
   "outputs": [],
   "source": [
    "# Create new dataframe with only the English language reviews\n",
    "reviews_df_clean_1_en = reviews_df_clean_1[reviews_df_clean_1['lang_iso'] == 'en']"
   ]
  },
  {
   "cell_type": "markdown",
   "id": "6663ecf0",
   "metadata": {},
   "source": [
    "Take a quick glimpse of the new dataframe."
   ]
  },
  {
   "cell_type": "code",
   "execution_count": 18,
   "id": "71c5b817",
   "metadata": {
    "ExecuteTime": {
     "end_time": "2022-05-22T20:45:07.691206Z",
     "start_time": "2022-05-22T20:45:07.676825Z"
    }
   },
   "outputs": [
    {
     "data": {
      "text/html": [
       "<div>\n",
       "<style scoped>\n",
       "    .dataframe tbody tr th:only-of-type {\n",
       "        vertical-align: middle;\n",
       "    }\n",
       "\n",
       "    .dataframe tbody tr th {\n",
       "        vertical-align: top;\n",
       "    }\n",
       "\n",
       "    .dataframe thead th {\n",
       "        text-align: right;\n",
       "    }\n",
       "</style>\n",
       "<table border=\"1\" class=\"dataframe\">\n",
       "  <thead>\n",
       "    <tr style=\"text-align: right;\">\n",
       "      <th></th>\n",
       "      <th>app_name</th>\n",
       "      <th>review_date</th>\n",
       "      <th>review_text</th>\n",
       "      <th>dev_reply_text</th>\n",
       "      <th>dev_reply_date</th>\n",
       "      <th>is_review_good</th>\n",
       "      <th>lang_iso</th>\n",
       "    </tr>\n",
       "  </thead>\n",
       "  <tbody>\n",
       "    <tr>\n",
       "      <th>0</th>\n",
       "      <td>Instant Search +</td>\n",
       "      <td>2020-08-06</td>\n",
       "      <td>Great and super fast customer service! Highly ...</td>\n",
       "      <td>NaN</td>\n",
       "      <td>NaT</td>\n",
       "      <td>1</td>\n",
       "      <td>en</td>\n",
       "    </tr>\n",
       "    <tr>\n",
       "      <th>1</th>\n",
       "      <td>Instant Search +</td>\n",
       "      <td>2020-08-04</td>\n",
       "      <td>Still setting up my store, and after initially...</td>\n",
       "      <td>NaN</td>\n",
       "      <td>NaT</td>\n",
       "      <td>1</td>\n",
       "      <td>en</td>\n",
       "    </tr>\n",
       "    <tr>\n",
       "      <th>2</th>\n",
       "      <td>Instant Search +</td>\n",
       "      <td>2020-08-04</td>\n",
       "      <td>This is an excellent search app, which they ha...</td>\n",
       "      <td>NaN</td>\n",
       "      <td>NaT</td>\n",
       "      <td>1</td>\n",
       "      <td>en</td>\n",
       "    </tr>\n",
       "    <tr>\n",
       "      <th>3</th>\n",
       "      <td>Instant Search +</td>\n",
       "      <td>2020-07-30</td>\n",
       "      <td>A+, great great great customer service! thanks...</td>\n",
       "      <td>NaN</td>\n",
       "      <td>NaT</td>\n",
       "      <td>1</td>\n",
       "      <td>en</td>\n",
       "    </tr>\n",
       "    <tr>\n",
       "      <th>4</th>\n",
       "      <td>Instant Search +</td>\n",
       "      <td>2020-07-28</td>\n",
       "      <td>I'm begginig to use this app, the search engin...</td>\n",
       "      <td>NaN</td>\n",
       "      <td>NaT</td>\n",
       "      <td>1</td>\n",
       "      <td>en</td>\n",
       "    </tr>\n",
       "  </tbody>\n",
       "</table>\n",
       "</div>"
      ],
      "text/plain": [
       "           app_name review_date  \\\n",
       "0  Instant Search +  2020-08-06   \n",
       "1  Instant Search +  2020-08-04   \n",
       "2  Instant Search +  2020-08-04   \n",
       "3  Instant Search +  2020-07-30   \n",
       "4  Instant Search +  2020-07-28   \n",
       "\n",
       "                                         review_text dev_reply_text  \\\n",
       "0  Great and super fast customer service! Highly ...            NaN   \n",
       "1  Still setting up my store, and after initially...            NaN   \n",
       "2  This is an excellent search app, which they ha...            NaN   \n",
       "3  A+, great great great customer service! thanks...            NaN   \n",
       "4  I'm begginig to use this app, the search engin...            NaN   \n",
       "\n",
       "  dev_reply_date  is_review_good lang_iso  \n",
       "0            NaT               1       en  \n",
       "1            NaT               1       en  \n",
       "2            NaT               1       en  \n",
       "3            NaT               1       en  \n",
       "4            NaT               1       en  "
      ]
     },
     "execution_count": 18,
     "metadata": {},
     "output_type": "execute_result"
    }
   ],
   "source": [
    "# Print first 5 rows\n",
    "reviews_df_clean_1_en.head()"
   ]
  },
  {
   "cell_type": "markdown",
   "id": "d98fafe7",
   "metadata": {},
   "source": [
    "Check the size of the new dataframe."
   ]
  },
  {
   "cell_type": "code",
   "execution_count": 19,
   "id": "a7161947",
   "metadata": {
    "ExecuteTime": {
     "end_time": "2022-05-22T20:45:07.707181Z",
     "start_time": "2022-05-22T20:45:07.693181Z"
    }
   },
   "outputs": [
    {
     "name": "stdout",
     "output_type": "stream",
     "text": [
      "The dataframe shape we are working with has 426568 rows and 7 columns.\n",
      "A total of 20405 rows were removed.\n"
     ]
    }
   ],
   "source": [
    "# Shape of the dataframe\n",
    "[nrows, ncols] = reviews_df_clean_1_en.shape\n",
    "print(f\"The dataframe shape we are working with has {nrows} rows and {ncols} columns.\")\n",
    "print(f\"A total of {len(reviews_df_clean_1) - len(reviews_df_clean_1_en)} rows were removed.\")"
   ]
  },
  {
   "cell_type": "code",
   "execution_count": 20,
   "id": "2064623a",
   "metadata": {
    "ExecuteTime": {
     "end_time": "2022-05-22T20:45:07.818420Z",
     "start_time": "2022-05-22T20:45:07.709181Z"
    }
   },
   "outputs": [
    {
     "name": "stdout",
     "output_type": "stream",
     "text": [
      "<class 'pandas.core.frame.DataFrame'>\n",
      "Int64Index: 426568 entries, 0 to 446972\n",
      "Data columns (total 7 columns):\n",
      " #   Column          Non-Null Count   Dtype         \n",
      "---  ------          --------------   -----         \n",
      " 0   app_name        426568 non-null  object        \n",
      " 1   review_date     426568 non-null  datetime64[ns]\n",
      " 2   review_text     426568 non-null  object        \n",
      " 3   dev_reply_text  45280 non-null   object        \n",
      " 4   dev_reply_date  45280 non-null   datetime64[ns]\n",
      " 5   is_review_good  426568 non-null  int32         \n",
      " 6   lang_iso        426568 non-null  object        \n",
      "dtypes: datetime64[ns](2), int32(1), object(4)\n",
      "memory usage: 24.4+ MB\n"
     ]
    }
   ],
   "source": [
    "reviews_df_clean_1_en.info()"
   ]
  },
  {
   "cell_type": "markdown",
   "id": "2baf7ff0",
   "metadata": {},
   "source": [
    "Based on the initial pass of the language detection, we can see that $\\approx$ 20,000 reviews were in different languages. I will conduct additional text pre-processing and see if these numbers/proportions change. Upon completing the final text pre-processing, a deeper dive into the languages will be explored."
   ]
  },
  {
   "cell_type": "markdown",
   "id": "8ff6fb6c",
   "metadata": {},
   "source": [
    "I will now save the English-only reviews for Part 3 in the Jupyter Notebook series."
   ]
  },
  {
   "cell_type": "markdown",
   "id": "6be665d1",
   "metadata": {},
   "source": [
    "Save the results into a .pkl file. If it's commented out, the file has already been saved and loaded in one 1-2 cells right below this one."
   ]
  },
  {
   "cell_type": "code",
   "execution_count": 21,
   "id": "5df1e55a",
   "metadata": {
    "ExecuteTime": {
     "end_time": "2022-05-22T20:45:07.833956Z",
     "start_time": "2022-05-22T20:45:07.819936Z"
    }
   },
   "outputs": [],
   "source": [
    "# # Save English-only reviews as pickle file\n",
    "# reviews_df_clean_1_en.to_pickle(\"reviews_df_clean_1_en_part_2.pkl\")"
   ]
  },
  {
   "cell_type": "code",
   "execution_count": 22,
   "id": "8ee3b002",
   "metadata": {
    "ExecuteTime": {
     "end_time": "2022-05-22T20:45:08.133193Z",
     "start_time": "2022-05-22T20:45:07.835938Z"
    }
   },
   "outputs": [],
   "source": [
    "# Load the saved pickle file from a previous implementation\n",
    "reviews_df_clean_1_en = pd.read_pickle('reviews_df_clean_1_en_part_2.pkl')"
   ]
  },
  {
   "cell_type": "markdown",
   "id": "3a99f3bd",
   "metadata": {},
   "source": [
    "#### What is the size of the vocabulary for English-only reviews after round 1 of text pre-processing?"
   ]
  },
  {
   "cell_type": "code",
   "execution_count": 23,
   "id": "c8452717",
   "metadata": {
    "ExecuteTime": {
     "end_time": "2022-05-22T20:45:19.221964Z",
     "start_time": "2022-05-22T20:45:08.136173Z"
    }
   },
   "outputs": [],
   "source": [
    "# Instantiate Countvectorizer with ngrams = 1 default\n",
    "cv_round_1 = CountVectorizer()\n",
    "\n",
    "# Fit and transform the review text column\n",
    "cv_round_1_results = cv_round_1.fit_transform(reviews_df_clean_1_en['review_text'])"
   ]
  },
  {
   "cell_type": "code",
   "execution_count": 24,
   "id": "e2f93f9e",
   "metadata": {
    "ExecuteTime": {
     "end_time": "2022-05-22T20:45:19.237928Z",
     "start_time": "2022-05-22T20:45:19.223948Z"
    }
   },
   "outputs": [
    {
     "data": {
      "text/plain": [
       "<426568x73637 sparse matrix of type '<class 'numpy.int64'>'\n",
       "\twith 10889991 stored elements in Compressed Sparse Row format>"
      ]
     },
     "execution_count": 24,
     "metadata": {},
     "output_type": "execute_result"
    }
   ],
   "source": [
    "cv_round_1_results"
   ]
  },
  {
   "cell_type": "markdown",
   "id": "700037ac",
   "metadata": {},
   "source": [
    "After 1 round of text pre-processing and separating out English-language reviews, the vocabulary decreased to 73,637. The previous vocabulary size was 104,750 without text pre-processing."
   ]
  },
  {
   "cell_type": "markdown",
   "id": "a5679dfb",
   "metadata": {},
   "source": [
    "## Text Pre-Processing Round 2"
   ]
  },
  {
   "cell_type": "markdown",
   "id": "6013862f",
   "metadata": {},
   "source": [
    "I will now implement additional text pre-processing and observe if that changes the ability for the language detection pre-trained classifier to filter between English language and multi-language reviews.\n",
    "\n",
    "The different text pre-processing steps were motivated and adapted from the following Youtube NLP tutorial series by dashofdata and corresponding GitHub: \n",
    "\n",
    "- Source 1: [Dashofdata Youtube Tutorials](https://www.youtube.com/watch?v=5BVebXXb2o4)\n",
    "- Source 2: [Dashofdata GitHub](https://github.com/adashofdata/nlp-in-python-tutorial)"
   ]
  },
  {
   "cell_type": "markdown",
   "id": "b7321676",
   "metadata": {},
   "source": [
    "I have defined a function that will perform the following for text pre-processing round 2:\n",
    "\n",
    "- lowercase all text\n",
    "- removes URL text links\n",
    "- expand contractions\n",
    "- substitute hyphens with whitespace\n",
    "- substitute punctuation marks with whitespace\n",
    "- substitute words with numbers inside (i.e., sandwiched between ascii characters) with whitespace\n",
    "- substitute repeating characters > 2 to a maximum of 2 characters\n",
    "- substitute any sequence of whitespace with a single whitespace"
   ]
  },
  {
   "cell_type": "code",
   "execution_count": 25,
   "id": "97460a1b",
   "metadata": {
    "ExecuteTime": {
     "end_time": "2022-05-22T20:45:19.253367Z",
     "start_time": "2022-05-22T20:45:19.239928Z"
    }
   },
   "outputs": [],
   "source": [
    "def clean_review_round_2(review_text):\n",
    "    \n",
    "    \"\"\"\n",
    "    Makes review text lowercase, removes URL text links, expands contractions,\n",
    "    removes punctuation marks, removes words containing numbers,\n",
    "    removes repeating characters to a maximum of 2, and\n",
    "    replaces multiple sequenced whitespaces to a single whitespace.\n",
    "    \n",
    "    Parameters\n",
    "    ----------\n",
    "    review_text : Array of review texts.\n",
    "\n",
    "    Returns\n",
    "    -------\n",
    "    review_text : Array of review texts with round 1 of text pre-processing applied.\n",
    "    \n",
    "    \"\"\"\n",
    "\n",
    "    \n",
    "    assert isinstance(review_text, str), 'Input string arguments only'\n",
    "    \n",
    "    # Make review text all lowercase\n",
    "    review_text = review_text.lower()\n",
    "    \n",
    "    # Replace URL links with empty string\n",
    "    # https://stackoverflow.com/questions/10475027/extracting-url-link-using-regular-expression-re-string-matching-python\n",
    "    # Text with www. and trailing characters that are not whitespace are\n",
    "    # matched and replaced with empty string\n",
    "    review_text = re.sub(\"www.[^\\s]+\", \"\", review_text)\n",
    "\n",
    "    # Expand out contractions\n",
    "    review_text = contractions.fix(review_text)\n",
    "    \n",
    "    # String.punctuation gives string of all sets of punctuation marks\n",
    "    # take punctuation marks and \"escape\" any special metacharacters\n",
    "    # feed punctuation marks into where %s is\n",
    "    # square brackets will take punctuation marks one at a time\n",
    "    # substitute/remove punctuation mark with empty string\n",
    "    review_text = re.sub('[-]', ' ', review_text) # remove hyphens so that I do not have to worry about chances where there is more than 2 repeating characters (e.g., skull-like)\n",
    "    review_text = re.sub('[%s]' % re.escape(string.punctuation), '', review_text)\n",
    "\n",
    "    # Take the digit inside a word, where \\w represents any repeating ascii character\n",
    "    # and subsitute with nothing (i.e., remove)\n",
    "    review_text = re.sub('\\w*\\d\\w*', ' ', review_text)\n",
    "    \n",
    "    # Replace repeating characters in words with a maximum of 2 \n",
    "    review_text = re.sub(\"(.)\\\\1{2,}\", \"\\\\1\\\\1\", review_text)\n",
    "    \n",
    "    # Remove multiple whitespaces\n",
    "    review_text = re.sub(' +', ' ', review_text)\n",
    "    \n",
    "    return review_text"
   ]
  },
  {
   "cell_type": "markdown",
   "id": "51e13f07",
   "metadata": {},
   "source": [
    "I will now create a copy of the `reviews_df_clean_1` dataframe into a new variable `reviews_df_clean_2`, which represents the dataframe that will go through the second round of pre-processing."
   ]
  },
  {
   "cell_type": "code",
   "execution_count": 26,
   "id": "091ca403",
   "metadata": {
    "ExecuteTime": {
     "end_time": "2022-05-22T20:45:19.284724Z",
     "start_time": "2022-05-22T20:45:19.255345Z"
    }
   },
   "outputs": [],
   "source": [
    "reviews_df_clean_2 = reviews_df_clean_1.copy()"
   ]
  },
  {
   "cell_type": "markdown",
   "id": "615d2155",
   "metadata": {},
   "source": [
    "Quick glimpse of the first 5 rows prior to pre-processing the dataframe."
   ]
  },
  {
   "cell_type": "code",
   "execution_count": 27,
   "id": "de43e0d6",
   "metadata": {
    "ExecuteTime": {
     "end_time": "2022-05-22T20:45:19.300758Z",
     "start_time": "2022-05-22T20:45:19.285748Z"
    }
   },
   "outputs": [
    {
     "data": {
      "text/html": [
       "<div>\n",
       "<style scoped>\n",
       "    .dataframe tbody tr th:only-of-type {\n",
       "        vertical-align: middle;\n",
       "    }\n",
       "\n",
       "    .dataframe tbody tr th {\n",
       "        vertical-align: top;\n",
       "    }\n",
       "\n",
       "    .dataframe thead th {\n",
       "        text-align: right;\n",
       "    }\n",
       "</style>\n",
       "<table border=\"1\" class=\"dataframe\">\n",
       "  <thead>\n",
       "    <tr style=\"text-align: right;\">\n",
       "      <th></th>\n",
       "      <th>app_name</th>\n",
       "      <th>review_date</th>\n",
       "      <th>review_text</th>\n",
       "      <th>dev_reply_text</th>\n",
       "      <th>dev_reply_date</th>\n",
       "      <th>is_review_good</th>\n",
       "      <th>lang_iso</th>\n",
       "    </tr>\n",
       "  </thead>\n",
       "  <tbody>\n",
       "    <tr>\n",
       "      <th>0</th>\n",
       "      <td>Instant Search +</td>\n",
       "      <td>2020-08-06</td>\n",
       "      <td>Great and super fast customer service! Highly ...</td>\n",
       "      <td>NaN</td>\n",
       "      <td>NaT</td>\n",
       "      <td>1</td>\n",
       "      <td>en</td>\n",
       "    </tr>\n",
       "    <tr>\n",
       "      <th>1</th>\n",
       "      <td>Instant Search +</td>\n",
       "      <td>2020-08-04</td>\n",
       "      <td>Still setting up my store, and after initially...</td>\n",
       "      <td>NaN</td>\n",
       "      <td>NaT</td>\n",
       "      <td>1</td>\n",
       "      <td>en</td>\n",
       "    </tr>\n",
       "    <tr>\n",
       "      <th>2</th>\n",
       "      <td>Instant Search +</td>\n",
       "      <td>2020-08-04</td>\n",
       "      <td>This is an excellent search app, which they ha...</td>\n",
       "      <td>NaN</td>\n",
       "      <td>NaT</td>\n",
       "      <td>1</td>\n",
       "      <td>en</td>\n",
       "    </tr>\n",
       "    <tr>\n",
       "      <th>3</th>\n",
       "      <td>Instant Search +</td>\n",
       "      <td>2020-07-30</td>\n",
       "      <td>A+, great great great customer service! thanks...</td>\n",
       "      <td>NaN</td>\n",
       "      <td>NaT</td>\n",
       "      <td>1</td>\n",
       "      <td>en</td>\n",
       "    </tr>\n",
       "    <tr>\n",
       "      <th>4</th>\n",
       "      <td>Instant Search +</td>\n",
       "      <td>2020-07-28</td>\n",
       "      <td>I'm begginig to use this app, the search engin...</td>\n",
       "      <td>NaN</td>\n",
       "      <td>NaT</td>\n",
       "      <td>1</td>\n",
       "      <td>en</td>\n",
       "    </tr>\n",
       "  </tbody>\n",
       "</table>\n",
       "</div>"
      ],
      "text/plain": [
       "           app_name review_date  \\\n",
       "0  Instant Search +  2020-08-06   \n",
       "1  Instant Search +  2020-08-04   \n",
       "2  Instant Search +  2020-08-04   \n",
       "3  Instant Search +  2020-07-30   \n",
       "4  Instant Search +  2020-07-28   \n",
       "\n",
       "                                         review_text dev_reply_text  \\\n",
       "0  Great and super fast customer service! Highly ...            NaN   \n",
       "1  Still setting up my store, and after initially...            NaN   \n",
       "2  This is an excellent search app, which they ha...            NaN   \n",
       "3  A+, great great great customer service! thanks...            NaN   \n",
       "4  I'm begginig to use this app, the search engin...            NaN   \n",
       "\n",
       "  dev_reply_date  is_review_good lang_iso  \n",
       "0            NaT               1       en  \n",
       "1            NaT               1       en  \n",
       "2            NaT               1       en  \n",
       "3            NaT               1       en  \n",
       "4            NaT               1       en  "
      ]
     },
     "execution_count": 27,
     "metadata": {},
     "output_type": "execute_result"
    }
   ],
   "source": [
    "reviews_df_clean_2.head()"
   ]
  },
  {
   "cell_type": "markdown",
   "id": "b1366326",
   "metadata": {},
   "source": [
    "Apply the text pre-processing to `reviews_df_clean_2`."
   ]
  },
  {
   "cell_type": "code",
   "execution_count": 28,
   "id": "be90000e",
   "metadata": {
    "ExecuteTime": {
     "end_time": "2022-05-22T20:45:48.892766Z",
     "start_time": "2022-05-22T20:45:19.306405Z"
    }
   },
   "outputs": [
    {
     "name": "stderr",
     "output_type": "stream",
     "text": [
      "100%|██████████| 446973/446973 [00:29<00:00, 15126.71it/s]\n"
     ]
    }
   ],
   "source": [
    "reviews_df_clean_2['review_text'] = reviews_df_clean_2['review_text'].progress_apply(lambda x: clean_review_round_2(x))"
   ]
  },
  {
   "cell_type": "markdown",
   "id": "5b39c00b",
   "metadata": {},
   "source": [
    "Quick glimpse of the first 5 rows of the processed dataframe."
   ]
  },
  {
   "cell_type": "code",
   "execution_count": 29,
   "id": "f01acc07",
   "metadata": {
    "ExecuteTime": {
     "end_time": "2022-05-22T20:45:48.908284Z",
     "start_time": "2022-05-22T20:45:48.894306Z"
    }
   },
   "outputs": [
    {
     "data": {
      "text/html": [
       "<div>\n",
       "<style scoped>\n",
       "    .dataframe tbody tr th:only-of-type {\n",
       "        vertical-align: middle;\n",
       "    }\n",
       "\n",
       "    .dataframe tbody tr th {\n",
       "        vertical-align: top;\n",
       "    }\n",
       "\n",
       "    .dataframe thead th {\n",
       "        text-align: right;\n",
       "    }\n",
       "</style>\n",
       "<table border=\"1\" class=\"dataframe\">\n",
       "  <thead>\n",
       "    <tr style=\"text-align: right;\">\n",
       "      <th></th>\n",
       "      <th>app_name</th>\n",
       "      <th>review_date</th>\n",
       "      <th>review_text</th>\n",
       "      <th>dev_reply_text</th>\n",
       "      <th>dev_reply_date</th>\n",
       "      <th>is_review_good</th>\n",
       "      <th>lang_iso</th>\n",
       "    </tr>\n",
       "  </thead>\n",
       "  <tbody>\n",
       "    <tr>\n",
       "      <th>0</th>\n",
       "      <td>Instant Search +</td>\n",
       "      <td>2020-08-06</td>\n",
       "      <td>great and super fast customer service highly c...</td>\n",
       "      <td>NaN</td>\n",
       "      <td>NaT</td>\n",
       "      <td>1</td>\n",
       "      <td>en</td>\n",
       "    </tr>\n",
       "    <tr>\n",
       "      <th>1</th>\n",
       "      <td>Instant Search +</td>\n",
       "      <td>2020-08-04</td>\n",
       "      <td>still setting up my store and after initially ...</td>\n",
       "      <td>NaN</td>\n",
       "      <td>NaT</td>\n",
       "      <td>1</td>\n",
       "      <td>en</td>\n",
       "    </tr>\n",
       "    <tr>\n",
       "      <th>2</th>\n",
       "      <td>Instant Search +</td>\n",
       "      <td>2020-08-04</td>\n",
       "      <td>this is an excellent search app which they hav...</td>\n",
       "      <td>NaN</td>\n",
       "      <td>NaT</td>\n",
       "      <td>1</td>\n",
       "      <td>en</td>\n",
       "    </tr>\n",
       "    <tr>\n",
       "      <th>3</th>\n",
       "      <td>Instant Search +</td>\n",
       "      <td>2020-07-30</td>\n",
       "      <td>a great great great customer service thanks to...</td>\n",
       "      <td>NaN</td>\n",
       "      <td>NaT</td>\n",
       "      <td>1</td>\n",
       "      <td>en</td>\n",
       "    </tr>\n",
       "    <tr>\n",
       "      <th>4</th>\n",
       "      <td>Instant Search +</td>\n",
       "      <td>2020-07-28</td>\n",
       "      <td>i am begginig to use this app the search engin...</td>\n",
       "      <td>NaN</td>\n",
       "      <td>NaT</td>\n",
       "      <td>1</td>\n",
       "      <td>en</td>\n",
       "    </tr>\n",
       "  </tbody>\n",
       "</table>\n",
       "</div>"
      ],
      "text/plain": [
       "           app_name review_date  \\\n",
       "0  Instant Search +  2020-08-06   \n",
       "1  Instant Search +  2020-08-04   \n",
       "2  Instant Search +  2020-08-04   \n",
       "3  Instant Search +  2020-07-30   \n",
       "4  Instant Search +  2020-07-28   \n",
       "\n",
       "                                         review_text dev_reply_text  \\\n",
       "0  great and super fast customer service highly c...            NaN   \n",
       "1  still setting up my store and after initially ...            NaN   \n",
       "2  this is an excellent search app which they hav...            NaN   \n",
       "3  a great great great customer service thanks to...            NaN   \n",
       "4  i am begginig to use this app the search engin...            NaN   \n",
       "\n",
       "  dev_reply_date  is_review_good lang_iso  \n",
       "0            NaT               1       en  \n",
       "1            NaT               1       en  \n",
       "2            NaT               1       en  \n",
       "3            NaT               1       en  \n",
       "4            NaT               1       en  "
      ]
     },
     "execution_count": 29,
     "metadata": {},
     "output_type": "execute_result"
    }
   ],
   "source": [
    "reviews_df_clean_2.head()"
   ]
  },
  {
   "cell_type": "markdown",
   "id": "c6b6ec9a",
   "metadata": {},
   "source": [
    "We can see that the text pre-processing steps was applied to the `review_text`."
   ]
  },
  {
   "cell_type": "code",
   "execution_count": 30,
   "id": "2e81d2b9",
   "metadata": {
    "ExecuteTime": {
     "end_time": "2022-05-22T20:45:49.018885Z",
     "start_time": "2022-05-22T20:45:48.910284Z"
    }
   },
   "outputs": [
    {
     "name": "stdout",
     "output_type": "stream",
     "text": [
      "<class 'pandas.core.frame.DataFrame'>\n",
      "Int64Index: 446973 entries, 0 to 446972\n",
      "Data columns (total 7 columns):\n",
      " #   Column          Non-Null Count   Dtype         \n",
      "---  ------          --------------   -----         \n",
      " 0   app_name        446973 non-null  object        \n",
      " 1   review_date     446973 non-null  datetime64[ns]\n",
      " 2   review_text     446973 non-null  object        \n",
      " 3   dev_reply_text  47542 non-null   object        \n",
      " 4   dev_reply_date  47542 non-null   datetime64[ns]\n",
      " 5   is_review_good  446973 non-null  int32         \n",
      " 6   lang_iso        446973 non-null  object        \n",
      "dtypes: datetime64[ns](2), int32(1), object(4)\n",
      "memory usage: 25.6+ MB\n"
     ]
    }
   ],
   "source": [
    "reviews_df_clean_2.info()"
   ]
  },
  {
   "cell_type": "markdown",
   "id": "a76f90f6",
   "metadata": {},
   "source": [
    "### Post Text Pre-Processing Data Removal"
   ]
  },
  {
   "cell_type": "markdown",
   "id": "39a9827b",
   "metadata": {},
   "source": [
    "Throughout the cleaning and pre-processing phase, I noticed a few examples of reviews that contain nonsensical text that would result in empty texts after text pre-processing. Below are some examples. As a result, an extra step is incorporated to remove reviews that do not contain any text."
   ]
  },
  {
   "cell_type": "markdown",
   "id": "a403397a",
   "metadata": {},
   "source": [
    "Example 1 of a review prior to any text pre-processing."
   ]
  },
  {
   "cell_type": "code",
   "execution_count": 31,
   "id": "5799b6bf",
   "metadata": {
    "ExecuteTime": {
     "end_time": "2022-05-22T20:45:49.050383Z",
     "start_time": "2022-05-22T20:45:49.019885Z"
    }
   },
   "outputs": [
    {
     "data": {
      "text/plain": [
       "'.............................................................................................................................................................'"
      ]
     },
     "execution_count": 31,
     "metadata": {},
     "output_type": "execute_result"
    }
   ],
   "source": [
    "# Example review prior to any pre-processing\n",
    "reviews_df.loc[4_508,'review_text']"
   ]
  },
  {
   "cell_type": "markdown",
   "id": "4f4e1597",
   "metadata": {},
   "source": [
    "Example 1 post text pre-processing. Notice that it is an empty string."
   ]
  },
  {
   "cell_type": "code",
   "execution_count": 32,
   "id": "88fdd336",
   "metadata": {
    "ExecuteTime": {
     "end_time": "2022-05-22T20:45:49.065893Z",
     "start_time": "2022-05-22T20:45:49.052073Z"
    },
    "scrolled": true
   },
   "outputs": [
    {
     "data": {
      "text/plain": [
       "''"
      ]
     },
     "execution_count": 32,
     "metadata": {},
     "output_type": "execute_result"
    }
   ],
   "source": [
    "# Example review post pre-processing\n",
    "reviews_df_clean_2.loc[4_508,'review_text']"
   ]
  },
  {
   "cell_type": "markdown",
   "id": "cef6bc78",
   "metadata": {},
   "source": [
    "Example 2 of a review prior to any text pre-processing."
   ]
  },
  {
   "cell_type": "code",
   "execution_count": 33,
   "id": "7d5bfc09",
   "metadata": {
    "ExecuteTime": {
     "end_time": "2022-05-22T20:45:49.081409Z",
     "start_time": "2022-05-22T20:45:49.067893Z"
    }
   },
   "outputs": [
    {
     "data": {
      "text/plain": [
       "'///////////////////////////////////////////////////////////////////////////////////////////////////////////////////////'"
      ]
     },
     "execution_count": 33,
     "metadata": {},
     "output_type": "execute_result"
    }
   ],
   "source": [
    "reviews_df.loc[139_498,'review_text']"
   ]
  },
  {
   "cell_type": "markdown",
   "id": "5a5bf030",
   "metadata": {},
   "source": [
    "Example 2 post text pre-processing. Notice that it is an empty string."
   ]
  },
  {
   "cell_type": "code",
   "execution_count": 34,
   "id": "fda84354",
   "metadata": {
    "ExecuteTime": {
     "end_time": "2022-05-22T20:45:49.097434Z",
     "start_time": "2022-05-22T20:45:49.083440Z"
    }
   },
   "outputs": [
    {
     "data": {
      "text/plain": [
       "''"
      ]
     },
     "execution_count": 34,
     "metadata": {},
     "output_type": "execute_result"
    }
   ],
   "source": [
    "reviews_df_clean_2.loc[139_498,'review_text']"
   ]
  },
  {
   "cell_type": "markdown",
   "id": "96a5f6a6",
   "metadata": {},
   "source": [
    "The total count of reviews that were empty after the first 2 rounds of text pre-processing is counted below."
   ]
  },
  {
   "cell_type": "code",
   "execution_count": 35,
   "id": "8d129768",
   "metadata": {
    "ExecuteTime": {
     "end_time": "2022-05-22T20:45:49.160039Z",
     "start_time": "2022-05-22T20:45:49.099434Z"
    },
    "scrolled": true
   },
   "outputs": [
    {
     "data": {
      "text/plain": [
       "app_name          111\n",
       "review_date       111\n",
       "review_text       111\n",
       "dev_reply_text      9\n",
       "dev_reply_date      9\n",
       "is_review_good    111\n",
       "lang_iso          111\n",
       "dtype: int64"
      ]
     },
     "execution_count": 35,
     "metadata": {},
     "output_type": "execute_result"
    }
   ],
   "source": [
    "reviews_df_clean_2[reviews_df_clean_2['review_text'] == ''].count()"
   ]
  },
  {
   "cell_type": "markdown",
   "id": "eca4e3f7",
   "metadata": {
    "ExecuteTime": {
     "end_time": "2022-03-29T01:31:04.126847Z",
     "start_time": "2022-03-29T01:31:04.114849Z"
    }
   },
   "source": [
    "We can see that 111 rows of data now contain an empty string. I will create an index to remove the empty review text string from the dataframe."
   ]
  },
  {
   "cell_type": "code",
   "execution_count": 36,
   "id": "2f8b3202",
   "metadata": {
    "ExecuteTime": {
     "end_time": "2022-05-22T20:45:49.223115Z",
     "start_time": "2022-05-22T20:45:49.162040Z"
    }
   },
   "outputs": [],
   "source": [
    "# Index for rows to drop/remove\n",
    "drop_index = reviews_df_clean_2[reviews_df_clean_2['review_text'] == ''].index"
   ]
  },
  {
   "cell_type": "code",
   "execution_count": 37,
   "id": "0800f968",
   "metadata": {
    "ExecuteTime": {
     "end_time": "2022-05-22T20:45:49.286093Z",
     "start_time": "2022-05-22T20:45:49.225074Z"
    },
    "scrolled": true
   },
   "outputs": [],
   "source": [
    "# Drop the rows from dataframe\n",
    "reviews_df_clean_2.drop(drop_index, inplace = True, axis = 0)"
   ]
  },
  {
   "cell_type": "markdown",
   "id": "0aa51d46",
   "metadata": {},
   "source": [
    "We can see that the count of empty strings are now removed."
   ]
  },
  {
   "cell_type": "code",
   "execution_count": 38,
   "id": "99e6e39f",
   "metadata": {
    "ExecuteTime": {
     "end_time": "2022-05-22T20:45:49.349123Z",
     "start_time": "2022-05-22T20:45:49.288096Z"
    }
   },
   "outputs": [
    {
     "data": {
      "text/plain": [
       "app_name          0\n",
       "review_date       0\n",
       "review_text       0\n",
       "dev_reply_text    0\n",
       "dev_reply_date    0\n",
       "is_review_good    0\n",
       "lang_iso          0\n",
       "dtype: int64"
      ]
     },
     "execution_count": 38,
     "metadata": {},
     "output_type": "execute_result"
    }
   ],
   "source": [
    "reviews_df_clean_2[reviews_df_clean_2['review_text'] == ''].count()"
   ]
  },
  {
   "cell_type": "markdown",
   "id": "9bd38e37",
   "metadata": {},
   "source": [
    "I also have a total count of reviews that were empty and contained only whitespace after the first 2 rounds of text pre-processing."
   ]
  },
  {
   "cell_type": "markdown",
   "id": "b06d7e81",
   "metadata": {},
   "source": [
    "Example 3 of a review prior to any text pre-processing."
   ]
  },
  {
   "cell_type": "code",
   "execution_count": 39,
   "id": "f5802855",
   "metadata": {
    "ExecuteTime": {
     "end_time": "2022-05-22T20:45:49.364122Z",
     "start_time": "2022-05-22T20:45:49.350124Z"
    }
   },
   "outputs": [
    {
     "data": {
      "text/plain": [
       "'1111111111111111111111111111111111111111111111111111111111111111111111111111111111111111111111111111111111111'"
      ]
     },
     "execution_count": 39,
     "metadata": {},
     "output_type": "execute_result"
    }
   ],
   "source": [
    "reviews_df.loc[122_436,'review_text']"
   ]
  },
  {
   "cell_type": "markdown",
   "id": "a7e13601",
   "metadata": {
    "ExecuteTime": {
     "end_time": "2022-05-17T16:47:29.684971Z",
     "start_time": "2022-05-17T16:47:29.677950Z"
    }
   },
   "source": [
    "Example 3 post text pre-processing. Notice that it is a string with empty whitespace."
   ]
  },
  {
   "cell_type": "code",
   "execution_count": 40,
   "id": "567a8408",
   "metadata": {
    "ExecuteTime": {
     "end_time": "2022-05-22T20:45:49.395695Z",
     "start_time": "2022-05-22T20:45:49.365123Z"
    }
   },
   "outputs": [
    {
     "data": {
      "text/plain": [
       "' '"
      ]
     },
     "execution_count": 40,
     "metadata": {},
     "output_type": "execute_result"
    }
   ],
   "source": [
    "reviews_df_clean_2.loc[122_436,'review_text']"
   ]
  },
  {
   "cell_type": "code",
   "execution_count": 41,
   "id": "9877928d",
   "metadata": {
    "ExecuteTime": {
     "end_time": "2022-05-22T20:45:49.459230Z",
     "start_time": "2022-05-22T20:45:49.397722Z"
    }
   },
   "outputs": [
    {
     "data": {
      "text/plain": [
       "app_name          224\n",
       "review_date       224\n",
       "review_text       224\n",
       "dev_reply_text     15\n",
       "dev_reply_date     15\n",
       "is_review_good    224\n",
       "lang_iso          224\n",
       "dtype: int64"
      ]
     },
     "execution_count": 41,
     "metadata": {},
     "output_type": "execute_result"
    }
   ],
   "source": [
    "reviews_df_clean_2[reviews_df_clean_2['review_text'] == ' '].count()"
   ]
  },
  {
   "cell_type": "markdown",
   "id": "a9d2a779",
   "metadata": {},
   "source": [
    "We can see that 224 rows of data contain an empty whitespace. We will create an index to remove the empty rows from the dataframe."
   ]
  },
  {
   "cell_type": "code",
   "execution_count": 42,
   "id": "029c5ef1",
   "metadata": {
    "ExecuteTime": {
     "end_time": "2022-05-22T20:45:49.522865Z",
     "start_time": "2022-05-22T20:45:49.461231Z"
    }
   },
   "outputs": [],
   "source": [
    "# Index for rows to drop/remove\n",
    "drop_index = reviews_df_clean_2[reviews_df_clean_2['review_text'] == ' '].index"
   ]
  },
  {
   "cell_type": "code",
   "execution_count": 43,
   "id": "5e0c1b24",
   "metadata": {
    "ExecuteTime": {
     "end_time": "2022-05-22T20:45:49.602455Z",
     "start_time": "2022-05-22T20:45:49.523864Z"
    }
   },
   "outputs": [],
   "source": [
    "# Drop the rows from dataframe\n",
    "reviews_df_clean_2.drop(drop_index, inplace = True, axis = 0)"
   ]
  },
  {
   "cell_type": "markdown",
   "id": "6dc9be49",
   "metadata": {},
   "source": [
    "We can see that the count of empty strings that contained only whitespace are now removed."
   ]
  },
  {
   "cell_type": "code",
   "execution_count": 44,
   "id": "490bed02",
   "metadata": {
    "ExecuteTime": {
     "end_time": "2022-05-22T20:45:49.666648Z",
     "start_time": "2022-05-22T20:45:49.603968Z"
    }
   },
   "outputs": [
    {
     "data": {
      "text/plain": [
       "app_name          0\n",
       "review_date       0\n",
       "review_text       0\n",
       "dev_reply_text    0\n",
       "dev_reply_date    0\n",
       "is_review_good    0\n",
       "lang_iso          0\n",
       "dtype: int64"
      ]
     },
     "execution_count": 44,
     "metadata": {},
     "output_type": "execute_result"
    }
   ],
   "source": [
    "reviews_df_clean_2[reviews_df_clean_2['review_text'] == ' '].count()"
   ]
  },
  {
   "cell_type": "code",
   "execution_count": 45,
   "id": "ee2ec6be",
   "metadata": {
    "ExecuteTime": {
     "end_time": "2022-05-22T20:45:49.682491Z",
     "start_time": "2022-05-22T20:45:49.668649Z"
    },
    "scrolled": false
   },
   "outputs": [
    {
     "name": "stdout",
     "output_type": "stream",
     "text": [
      "The updated dataframe shape we are working with now has 446638 rows and 7 columns\n"
     ]
    }
   ],
   "source": [
    "# Shape of the NEW dataframe\n",
    "[nrows_new, ncols_new] = reviews_df_clean_2.shape\n",
    "print(f\"The updated dataframe shape we are working with now has {nrows_new} rows and {ncols_new} columns\")"
   ]
  },
  {
   "cell_type": "markdown",
   "id": "f0e59419",
   "metadata": {},
   "source": [
    "### Language Detection Round 2"
   ]
  },
  {
   "cell_type": "markdown",
   "id": "05f7d2bc",
   "metadata": {},
   "source": [
    "I will now apply the function to `review_df_clean_2` dataframe. This step is again, relatively quick."
   ]
  },
  {
   "cell_type": "code",
   "execution_count": 46,
   "id": "bb104e7f",
   "metadata": {
    "ExecuteTime": {
     "end_time": "2022-05-22T20:46:07.155266Z",
     "start_time": "2022-05-22T20:45:49.684467Z"
    },
    "scrolled": true
   },
   "outputs": [
    {
     "name": "stderr",
     "output_type": "stream",
     "text": [
      "100%|██████████| 446638/446638 [00:17<00:00, 25607.60it/s]\n"
     ]
    }
   ],
   "source": [
    "# Apply language detect pre-trained model that was previously instantiated to the dataframe\n",
    "reviews_df_clean_2['lang_iso'] = reviews_df_clean_2['review_text'].progress_apply(lambda x: lang_detect(x))"
   ]
  },
  {
   "cell_type": "markdown",
   "id": "ba2bb929",
   "metadata": {},
   "source": [
    "#### Save English Language Reviews - Round 2"
   ]
  },
  {
   "cell_type": "markdown",
   "id": "b58537f9",
   "metadata": {},
   "source": [
    "I will now separate all the review texts classified as `en` for English, into a new variable titled `reviews_df_clean_2_en`."
   ]
  },
  {
   "cell_type": "code",
   "execution_count": 47,
   "id": "d2b02892",
   "metadata": {
    "ExecuteTime": {
     "end_time": "2022-05-22T20:46:07.233313Z",
     "start_time": "2022-05-22T20:46:07.156265Z"
    }
   },
   "outputs": [],
   "source": [
    "# Create new dataframe with only the English language reviews after round 2 of text pre-processing\n",
    "reviews_df_clean_2_en = reviews_df_clean_2[reviews_df_clean_2['lang_iso'] == 'en']"
   ]
  },
  {
   "cell_type": "markdown",
   "id": "5a42160f",
   "metadata": {},
   "source": [
    "Take a quick glimpse of the new dataframe."
   ]
  },
  {
   "cell_type": "code",
   "execution_count": 48,
   "id": "d472e303",
   "metadata": {
    "ExecuteTime": {
     "end_time": "2022-05-22T20:46:07.249294Z",
     "start_time": "2022-05-22T20:46:07.234610Z"
    }
   },
   "outputs": [
    {
     "data": {
      "text/html": [
       "<div>\n",
       "<style scoped>\n",
       "    .dataframe tbody tr th:only-of-type {\n",
       "        vertical-align: middle;\n",
       "    }\n",
       "\n",
       "    .dataframe tbody tr th {\n",
       "        vertical-align: top;\n",
       "    }\n",
       "\n",
       "    .dataframe thead th {\n",
       "        text-align: right;\n",
       "    }\n",
       "</style>\n",
       "<table border=\"1\" class=\"dataframe\">\n",
       "  <thead>\n",
       "    <tr style=\"text-align: right;\">\n",
       "      <th></th>\n",
       "      <th>app_name</th>\n",
       "      <th>review_date</th>\n",
       "      <th>review_text</th>\n",
       "      <th>dev_reply_text</th>\n",
       "      <th>dev_reply_date</th>\n",
       "      <th>is_review_good</th>\n",
       "      <th>lang_iso</th>\n",
       "    </tr>\n",
       "  </thead>\n",
       "  <tbody>\n",
       "    <tr>\n",
       "      <th>0</th>\n",
       "      <td>Instant Search +</td>\n",
       "      <td>2020-08-06</td>\n",
       "      <td>great and super fast customer service highly c...</td>\n",
       "      <td>NaN</td>\n",
       "      <td>NaT</td>\n",
       "      <td>1</td>\n",
       "      <td>en</td>\n",
       "    </tr>\n",
       "    <tr>\n",
       "      <th>1</th>\n",
       "      <td>Instant Search +</td>\n",
       "      <td>2020-08-04</td>\n",
       "      <td>still setting up my store and after initially ...</td>\n",
       "      <td>NaN</td>\n",
       "      <td>NaT</td>\n",
       "      <td>1</td>\n",
       "      <td>en</td>\n",
       "    </tr>\n",
       "    <tr>\n",
       "      <th>2</th>\n",
       "      <td>Instant Search +</td>\n",
       "      <td>2020-08-04</td>\n",
       "      <td>this is an excellent search app which they hav...</td>\n",
       "      <td>NaN</td>\n",
       "      <td>NaT</td>\n",
       "      <td>1</td>\n",
       "      <td>en</td>\n",
       "    </tr>\n",
       "    <tr>\n",
       "      <th>3</th>\n",
       "      <td>Instant Search +</td>\n",
       "      <td>2020-07-30</td>\n",
       "      <td>a great great great customer service thanks to...</td>\n",
       "      <td>NaN</td>\n",
       "      <td>NaT</td>\n",
       "      <td>1</td>\n",
       "      <td>en</td>\n",
       "    </tr>\n",
       "    <tr>\n",
       "      <th>4</th>\n",
       "      <td>Instant Search +</td>\n",
       "      <td>2020-07-28</td>\n",
       "      <td>i am begginig to use this app the search engin...</td>\n",
       "      <td>NaN</td>\n",
       "      <td>NaT</td>\n",
       "      <td>1</td>\n",
       "      <td>en</td>\n",
       "    </tr>\n",
       "  </tbody>\n",
       "</table>\n",
       "</div>"
      ],
      "text/plain": [
       "           app_name review_date  \\\n",
       "0  Instant Search +  2020-08-06   \n",
       "1  Instant Search +  2020-08-04   \n",
       "2  Instant Search +  2020-08-04   \n",
       "3  Instant Search +  2020-07-30   \n",
       "4  Instant Search +  2020-07-28   \n",
       "\n",
       "                                         review_text dev_reply_text  \\\n",
       "0  great and super fast customer service highly c...            NaN   \n",
       "1  still setting up my store and after initially ...            NaN   \n",
       "2  this is an excellent search app which they hav...            NaN   \n",
       "3  a great great great customer service thanks to...            NaN   \n",
       "4  i am begginig to use this app the search engin...            NaN   \n",
       "\n",
       "  dev_reply_date  is_review_good lang_iso  \n",
       "0            NaT               1       en  \n",
       "1            NaT               1       en  \n",
       "2            NaT               1       en  \n",
       "3            NaT               1       en  \n",
       "4            NaT               1       en  "
      ]
     },
     "execution_count": 48,
     "metadata": {},
     "output_type": "execute_result"
    }
   ],
   "source": [
    "reviews_df_clean_2_en.head()"
   ]
  },
  {
   "cell_type": "markdown",
   "id": "db9cefc5",
   "metadata": {},
   "source": [
    "Check the size of the new dataframe."
   ]
  },
  {
   "cell_type": "code",
   "execution_count": 49,
   "id": "90916f9d",
   "metadata": {
    "ExecuteTime": {
     "end_time": "2022-05-22T20:46:07.265038Z",
     "start_time": "2022-05-22T20:46:07.252239Z"
    },
    "scrolled": true
   },
   "outputs": [
    {
     "name": "stdout",
     "output_type": "stream",
     "text": [
      "The dataframe shape we are working with has 427298 rows and 7 columns.\n",
      "A total of 19340 rows were removed.\n"
     ]
    }
   ],
   "source": [
    "# Shape of the dataframe\n",
    "[nrows, ncols] = reviews_df_clean_2_en.shape\n",
    "print(f\"The dataframe shape we are working with has {nrows} rows and {ncols} columns.\")\n",
    "print(f\"A total of {len(reviews_df_clean_2) - len(reviews_df_clean_2_en)} rows were removed.\")"
   ]
  },
  {
   "cell_type": "code",
   "execution_count": 50,
   "id": "5f1c47c1",
   "metadata": {
    "ExecuteTime": {
     "end_time": "2022-05-22T20:46:07.373958Z",
     "start_time": "2022-05-22T20:46:07.267037Z"
    },
    "scrolled": true
   },
   "outputs": [
    {
     "name": "stdout",
     "output_type": "stream",
     "text": [
      "<class 'pandas.core.frame.DataFrame'>\n",
      "Int64Index: 427298 entries, 0 to 446972\n",
      "Data columns (total 7 columns):\n",
      " #   Column          Non-Null Count   Dtype         \n",
      "---  ------          --------------   -----         \n",
      " 0   app_name        427298 non-null  object        \n",
      " 1   review_date     427298 non-null  datetime64[ns]\n",
      " 2   review_text     427298 non-null  object        \n",
      " 3   dev_reply_text  45305 non-null   object        \n",
      " 4   dev_reply_date  45305 non-null   datetime64[ns]\n",
      " 5   is_review_good  427298 non-null  int32         \n",
      " 6   lang_iso        427298 non-null  object        \n",
      "dtypes: datetime64[ns](2), int32(1), object(4)\n",
      "memory usage: 24.5+ MB\n"
     ]
    }
   ],
   "source": [
    "reviews_df_clean_2_en.info()"
   ]
  },
  {
   "cell_type": "markdown",
   "id": "52115ea6",
   "metadata": {},
   "source": [
    "Check the distribution of positive and negative reviews in the English-only reviews extracted after 2 rounds of text pre-processing."
   ]
  },
  {
   "cell_type": "code",
   "execution_count": 51,
   "id": "985b3828",
   "metadata": {
    "ExecuteTime": {
     "end_time": "2022-05-22T20:46:07.388942Z",
     "start_time": "2022-05-22T20:46:07.376940Z"
    },
    "scrolled": true
   },
   "outputs": [
    {
     "data": {
      "text/plain": [
       "1    0.930187\n",
       "0    0.069813\n",
       "Name: is_review_good, dtype: float64"
      ]
     },
     "execution_count": 51,
     "metadata": {},
     "output_type": "execute_result"
    }
   ],
   "source": [
    "reviews_df_clean_2_en['is_review_good'].value_counts(normalize=True)"
   ]
  },
  {
   "cell_type": "markdown",
   "id": "dd421a0a",
   "metadata": {},
   "source": [
    "The proportion of positive and negative reviews have remained relatively similar to what was observed prior to any text pre-processing and removal of multi-language reviews."
   ]
  },
  {
   "cell_type": "markdown",
   "id": "67fc7ea0",
   "metadata": {},
   "source": [
    "I will now save the English-only reviews for Part 3 in the Jupyter Notebook series."
   ]
  },
  {
   "cell_type": "markdown",
   "id": "3a15a244",
   "metadata": {},
   "source": [
    "Save the results into a .pkl file. If it's commented out, the file has already been saved and loaded in one 1-2 cells right below this one."
   ]
  },
  {
   "cell_type": "code",
   "execution_count": 52,
   "id": "6b54ce62",
   "metadata": {
    "ExecuteTime": {
     "end_time": "2022-05-22T20:46:07.404013Z",
     "start_time": "2022-05-22T20:46:07.390938Z"
    }
   },
   "outputs": [],
   "source": [
    "# # Save English-only reviews as pickle file\n",
    "# reviews_df_clean_2_en.to_pickle(\"reviews_df_clean_2_en_part_2.pkl\")"
   ]
  },
  {
   "cell_type": "code",
   "execution_count": 53,
   "id": "815739c0",
   "metadata": {
    "ExecuteTime": {
     "end_time": "2022-05-22T20:46:07.673389Z",
     "start_time": "2022-05-22T20:46:07.406552Z"
    }
   },
   "outputs": [],
   "source": [
    "# Load the pickle file from a previous implementation\n",
    "reviews_df_clean_2_en = pd.read_pickle('reviews_df_clean_2_en_part_2.pkl')"
   ]
  },
  {
   "cell_type": "markdown",
   "id": "7587030b",
   "metadata": {},
   "source": [
    "Based on the language detection after 2 rounds of text pre-processing, we can see that $\\approx$ 19,000 reviews were in different languages. An extra 1,000 English language reviews were extracted after two rounds of text pre-processing. I will compare and contrast the differences in the extracted language reviews observed after round 1 of text pre-processing versus round 2 of text pre-processing."
   ]
  },
  {
   "cell_type": "markdown",
   "id": "667b0a43",
   "metadata": {},
   "source": [
    "#### What is the size of the vocabulary for English-only reviews after round 2 of text pre-processing?"
   ]
  },
  {
   "cell_type": "code",
   "execution_count": 54,
   "id": "5e25626d",
   "metadata": {
    "ExecuteTime": {
     "end_time": "2022-05-22T20:46:18.446919Z",
     "start_time": "2022-05-22T20:46:07.674395Z"
    }
   },
   "outputs": [],
   "source": [
    "# Instantiate Countvectorizer with ngrams = 1\n",
    "cv_round_2 = CountVectorizer()\n",
    "\n",
    "# Fit and transform the review text column\n",
    "cv_round_2_results = cv_round_2.fit_transform(reviews_df_clean_2_en['review_text'])"
   ]
  },
  {
   "cell_type": "code",
   "execution_count": 55,
   "id": "2a9cce06",
   "metadata": {
    "ExecuteTime": {
     "end_time": "2022-05-22T20:46:18.462920Z",
     "start_time": "2022-05-22T20:46:18.447921Z"
    }
   },
   "outputs": [
    {
     "data": {
      "text/plain": [
       "<427298x81035 sparse matrix of type '<class 'numpy.int64'>'\n",
       "\twith 10854151 stored elements in Compressed Sparse Row format>"
      ]
     },
     "execution_count": 55,
     "metadata": {},
     "output_type": "execute_result"
    }
   ],
   "source": [
    "cv_round_2_results"
   ]
  },
  {
   "cell_type": "markdown",
   "id": "2a707617",
   "metadata": {},
   "source": [
    "After the 2nd round, the vocabulary increased to 81,035. This is in contrast to round 1's English-only reviews vocabulary of 73,637. This may be due to the preservation of additional English-language reviews."
   ]
  },
  {
   "cell_type": "markdown",
   "id": "15696019",
   "metadata": {},
   "source": [
    "## Comparing Language Detection Results from Round 1 versus Round 2"
   ]
  },
  {
   "cell_type": "markdown",
   "id": "2db6d2f6",
   "metadata": {},
   "source": [
    "I will merge the two dataframes of English-only language reviews that were retrieved during Rounds 1 and 2 of language detection implementation to observe what the differences were.\n",
    "\n",
    "Inspiration on the code to compare two unequal sized dataframes were derived from this [stack overflow page](https://stackoverflow.com/questions/60166307/compare-columns-in-pandas-between-two-unequal-size-dataframes-for-condition-chec)."
   ]
  },
  {
   "cell_type": "code",
   "execution_count": 56,
   "id": "89a2859b",
   "metadata": {
    "ExecuteTime": {
     "end_time": "2022-05-22T20:46:18.868553Z",
     "start_time": "2022-05-22T20:46:18.464924Z"
    }
   },
   "outputs": [],
   "source": [
    "# Merge the dataframes using an outer join\n",
    "df_merged = reviews_df_clean_1_en.merge(reviews_df_clean_2_en, how='outer', left_index=True, right_index=True)"
   ]
  },
  {
   "cell_type": "markdown",
   "id": "88c50ea3",
   "metadata": {},
   "source": [
    "I will now take a look at the English language reviews that were detected during Round 2 but not in Round 1."
   ]
  },
  {
   "cell_type": "markdown",
   "id": "c82bbb0e",
   "metadata": {},
   "source": [
    "The columns with suffix \"x\" is the dataframe that underwent only Round 1 of text pre-processing. Columns with suffix \"y\" is the dataframe that went through Round 1 and 2 of text pre-processing."
   ]
  },
  {
   "cell_type": "markdown",
   "id": "2039bc5f",
   "metadata": {},
   "source": [
    "Note: Make sure to scroll to the right of the dataframe to see the data."
   ]
  },
  {
   "cell_type": "code",
   "execution_count": 57,
   "id": "58f9c92b",
   "metadata": {
    "ExecuteTime": {
     "end_time": "2022-05-22T20:46:19.123585Z",
     "start_time": "2022-05-22T20:46:18.870553Z"
    },
    "scrolled": false
   },
   "outputs": [
    {
     "data": {
      "text/html": [
       "<div>\n",
       "<style scoped>\n",
       "    .dataframe tbody tr th:only-of-type {\n",
       "        vertical-align: middle;\n",
       "    }\n",
       "\n",
       "    .dataframe tbody tr th {\n",
       "        vertical-align: top;\n",
       "    }\n",
       "\n",
       "    .dataframe thead th {\n",
       "        text-align: right;\n",
       "    }\n",
       "</style>\n",
       "<table border=\"1\" class=\"dataframe\">\n",
       "  <thead>\n",
       "    <tr style=\"text-align: right;\">\n",
       "      <th></th>\n",
       "      <th>app_name_x</th>\n",
       "      <th>review_date_x</th>\n",
       "      <th>review_text_x</th>\n",
       "      <th>dev_reply_text_x</th>\n",
       "      <th>dev_reply_date_x</th>\n",
       "      <th>is_review_good_x</th>\n",
       "      <th>lang_iso_x</th>\n",
       "      <th>app_name_y</th>\n",
       "      <th>review_date_y</th>\n",
       "      <th>review_text_y</th>\n",
       "      <th>dev_reply_text_y</th>\n",
       "      <th>dev_reply_date_y</th>\n",
       "      <th>is_review_good_y</th>\n",
       "      <th>lang_iso_y</th>\n",
       "    </tr>\n",
       "  </thead>\n",
       "  <tbody>\n",
       "    <tr>\n",
       "      <th>501</th>\n",
       "      <td>NaN</td>\n",
       "      <td>NaT</td>\n",
       "      <td>NaN</td>\n",
       "      <td>NaN</td>\n",
       "      <td>NaT</td>\n",
       "      <td>NaN</td>\n",
       "      <td>NaN</td>\n",
       "      <td>Instant Search +</td>\n",
       "      <td>2016-08-15</td>\n",
       "      <td>nice job from</td>\n",
       "      <td>NaN</td>\n",
       "      <td>NaT</td>\n",
       "      <td>1.0</td>\n",
       "      <td>en</td>\n",
       "    </tr>\n",
       "    <tr>\n",
       "      <th>682</th>\n",
       "      <td>NaN</td>\n",
       "      <td>NaT</td>\n",
       "      <td>NaN</td>\n",
       "      <td>NaN</td>\n",
       "      <td>NaT</td>\n",
       "      <td>NaN</td>\n",
       "      <td>NaN</td>\n",
       "      <td>Sticky Add To Cart BOOSTER PRO</td>\n",
       "      <td>2020-08-21</td>\n",
       "      <td>wow very good thanks good</td>\n",
       "      <td>NaN</td>\n",
       "      <td>NaT</td>\n",
       "      <td>1.0</td>\n",
       "      <td>en</td>\n",
       "    </tr>\n",
       "    <tr>\n",
       "      <th>809</th>\n",
       "      <td>NaN</td>\n",
       "      <td>NaT</td>\n",
       "      <td>NaN</td>\n",
       "      <td>NaN</td>\n",
       "      <td>NaT</td>\n",
       "      <td>NaN</td>\n",
       "      <td>NaN</td>\n",
       "      <td>Sticky Add To Cart BOOSTER PRO</td>\n",
       "      <td>2020-02-03</td>\n",
       "      <td>goodd</td>\n",
       "      <td>NaN</td>\n",
       "      <td>NaT</td>\n",
       "      <td>1.0</td>\n",
       "      <td>en</td>\n",
       "    </tr>\n",
       "    <tr>\n",
       "      <th>934</th>\n",
       "      <td>NaN</td>\n",
       "      <td>NaT</td>\n",
       "      <td>NaN</td>\n",
       "      <td>NaN</td>\n",
       "      <td>NaT</td>\n",
       "      <td>NaN</td>\n",
       "      <td>NaN</td>\n",
       "      <td>Sticky Add To Cart BOOSTER PRO</td>\n",
       "      <td>2019-09-01</td>\n",
       "      <td>really good</td>\n",
       "      <td>Hi Zuluzula, thank you for your review 🙏. Glad...</td>\n",
       "      <td>2019-09-03</td>\n",
       "      <td>1.0</td>\n",
       "      <td>en</td>\n",
       "    </tr>\n",
       "    <tr>\n",
       "      <th>1045</th>\n",
       "      <td>NaN</td>\n",
       "      <td>NaT</td>\n",
       "      <td>NaN</td>\n",
       "      <td>NaN</td>\n",
       "      <td>NaT</td>\n",
       "      <td>NaN</td>\n",
       "      <td>NaN</td>\n",
       "      <td>Sticky Add To Cart BOOSTER PRO</td>\n",
       "      <td>2019-05-16</td>\n",
       "      <td>best app cool</td>\n",
       "      <td>NaN</td>\n",
       "      <td>NaT</td>\n",
       "      <td>1.0</td>\n",
       "      <td>en</td>\n",
       "    </tr>\n",
       "    <tr>\n",
       "      <th>1048</th>\n",
       "      <td>NaN</td>\n",
       "      <td>NaT</td>\n",
       "      <td>NaN</td>\n",
       "      <td>NaN</td>\n",
       "      <td>NaT</td>\n",
       "      <td>NaN</td>\n",
       "      <td>NaN</td>\n",
       "      <td>Sticky Add To Cart BOOSTER PRO</td>\n",
       "      <td>2019-05-13</td>\n",
       "      <td>so far so good i just got it i hope it does go...</td>\n",
       "      <td>NaN</td>\n",
       "      <td>NaT</td>\n",
       "      <td>1.0</td>\n",
       "      <td>en</td>\n",
       "    </tr>\n",
       "    <tr>\n",
       "      <th>1290</th>\n",
       "      <td>NaN</td>\n",
       "      <td>NaT</td>\n",
       "      <td>NaN</td>\n",
       "      <td>NaN</td>\n",
       "      <td>NaT</td>\n",
       "      <td>NaN</td>\n",
       "      <td>NaN</td>\n",
       "      <td>Sticky Add To Cart BOOSTER PRO</td>\n",
       "      <td>2018-08-20</td>\n",
       "      <td>good</td>\n",
       "      <td>NaN</td>\n",
       "      <td>NaT</td>\n",
       "      <td>1.0</td>\n",
       "      <td>en</td>\n",
       "    </tr>\n",
       "    <tr>\n",
       "      <th>1473</th>\n",
       "      <td>NaN</td>\n",
       "      <td>NaT</td>\n",
       "      <td>NaN</td>\n",
       "      <td>NaN</td>\n",
       "      <td>NaT</td>\n",
       "      <td>NaN</td>\n",
       "      <td>NaN</td>\n",
       "      <td>Sticky Add To Cart BOOSTER PRO</td>\n",
       "      <td>2017-10-17</td>\n",
       "      <td>cool</td>\n",
       "      <td>NaN</td>\n",
       "      <td>NaT</td>\n",
       "      <td>1.0</td>\n",
       "      <td>en</td>\n",
       "    </tr>\n",
       "    <tr>\n",
       "      <th>2252</th>\n",
       "      <td>NaN</td>\n",
       "      <td>NaT</td>\n",
       "      <td>NaN</td>\n",
       "      <td>NaN</td>\n",
       "      <td>NaT</td>\n",
       "      <td>NaN</td>\n",
       "      <td>NaN</td>\n",
       "      <td>Countdown Timer | Cart Timer</td>\n",
       "      <td>2019-03-24</td>\n",
       "      <td>good appdffgffdffdd</td>\n",
       "      <td>NaN</td>\n",
       "      <td>NaT</td>\n",
       "      <td>1.0</td>\n",
       "      <td>en</td>\n",
       "    </tr>\n",
       "    <tr>\n",
       "      <th>2253</th>\n",
       "      <td>NaN</td>\n",
       "      <td>NaT</td>\n",
       "      <td>NaN</td>\n",
       "      <td>NaN</td>\n",
       "      <td>NaT</td>\n",
       "      <td>NaN</td>\n",
       "      <td>NaN</td>\n",
       "      <td>Countdown Timer | Cart Timer</td>\n",
       "      <td>2019-03-10</td>\n",
       "      <td>real goodd</td>\n",
       "      <td>NaN</td>\n",
       "      <td>NaT</td>\n",
       "      <td>1.0</td>\n",
       "      <td>en</td>\n",
       "    </tr>\n",
       "    <tr>\n",
       "      <th>2260</th>\n",
       "      <td>NaN</td>\n",
       "      <td>NaT</td>\n",
       "      <td>NaN</td>\n",
       "      <td>NaN</td>\n",
       "      <td>NaT</td>\n",
       "      <td>NaN</td>\n",
       "      <td>NaN</td>\n",
       "      <td>Countdown Timer | Cart Timer</td>\n",
       "      <td>2019-03-05</td>\n",
       "      <td>for the free plan the big logo on right of the...</td>\n",
       "      <td>NaN</td>\n",
       "      <td>NaT</td>\n",
       "      <td>0.0</td>\n",
       "      <td>en</td>\n",
       "    </tr>\n",
       "    <tr>\n",
       "      <th>2274</th>\n",
       "      <td>NaN</td>\n",
       "      <td>NaT</td>\n",
       "      <td>NaN</td>\n",
       "      <td>NaN</td>\n",
       "      <td>NaT</td>\n",
       "      <td>NaN</td>\n",
       "      <td>NaN</td>\n",
       "      <td>Countdown Timer | Cart Timer</td>\n",
       "      <td>2019-02-23</td>\n",
       "      <td>mknjpqdsfdsfcsdrdsfcdsfsdscfdsff</td>\n",
       "      <td>NaN</td>\n",
       "      <td>NaT</td>\n",
       "      <td>0.0</td>\n",
       "      <td>en</td>\n",
       "    </tr>\n",
       "    <tr>\n",
       "      <th>2470</th>\n",
       "      <td>NaN</td>\n",
       "      <td>NaT</td>\n",
       "      <td>NaN</td>\n",
       "      <td>NaN</td>\n",
       "      <td>NaT</td>\n",
       "      <td>NaN</td>\n",
       "      <td>NaN</td>\n",
       "      <td>Countdown Timer | Cart Timer</td>\n",
       "      <td>2018-10-15</td>\n",
       "      <td>great app oo oo o o o</td>\n",
       "      <td>NaN</td>\n",
       "      <td>NaT</td>\n",
       "      <td>1.0</td>\n",
       "      <td>en</td>\n",
       "    </tr>\n",
       "    <tr>\n",
       "      <th>3536</th>\n",
       "      <td>NaN</td>\n",
       "      <td>NaT</td>\n",
       "      <td>NaN</td>\n",
       "      <td>NaN</td>\n",
       "      <td>NaT</td>\n",
       "      <td>NaN</td>\n",
       "      <td>NaN</td>\n",
       "      <td>JSON‑LD for SEO</td>\n",
       "      <td>2017-08-23</td>\n",
       "      <td>great</td>\n",
       "      <td>NaN</td>\n",
       "      <td>NaT</td>\n",
       "      <td>1.0</td>\n",
       "      <td>en</td>\n",
       "    </tr>\n",
       "    <tr>\n",
       "      <th>4348</th>\n",
       "      <td>NaN</td>\n",
       "      <td>NaT</td>\n",
       "      <td>NaN</td>\n",
       "      <td>NaN</td>\n",
       "      <td>NaT</td>\n",
       "      <td>NaN</td>\n",
       "      <td>NaN</td>\n",
       "      <td>Bulk Fulfill</td>\n",
       "      <td>2020-03-03</td>\n",
       "      <td>five star really thanks good joob</td>\n",
       "      <td>NaN</td>\n",
       "      <td>NaT</td>\n",
       "      <td>1.0</td>\n",
       "      <td>en</td>\n",
       "    </tr>\n",
       "    <tr>\n",
       "      <th>5771</th>\n",
       "      <td>NaN</td>\n",
       "      <td>NaT</td>\n",
       "      <td>NaN</td>\n",
       "      <td>NaN</td>\n",
       "      <td>NaT</td>\n",
       "      <td>NaN</td>\n",
       "      <td>NaN</td>\n",
       "      <td>Abandoned Cart Recovery ‑ FREE</td>\n",
       "      <td>2020-04-17</td>\n",
       "      <td>very nice app helped me a lot i use a message ...</td>\n",
       "      <td>NaN</td>\n",
       "      <td>NaT</td>\n",
       "      <td>1.0</td>\n",
       "      <td>en</td>\n",
       "    </tr>\n",
       "    <tr>\n",
       "      <th>5787</th>\n",
       "      <td>NaN</td>\n",
       "      <td>NaT</td>\n",
       "      <td>NaN</td>\n",
       "      <td>NaN</td>\n",
       "      <td>NaT</td>\n",
       "      <td>NaN</td>\n",
       "      <td>NaN</td>\n",
       "      <td>Abandoned Cart Recovery ‑ FREE</td>\n",
       "      <td>2020-04-16</td>\n",
       "      <td>good it s good to have this free app with shop...</td>\n",
       "      <td>NaN</td>\n",
       "      <td>NaT</td>\n",
       "      <td>1.0</td>\n",
       "      <td>en</td>\n",
       "    </tr>\n",
       "    <tr>\n",
       "      <th>5863</th>\n",
       "      <td>NaN</td>\n",
       "      <td>NaT</td>\n",
       "      <td>NaN</td>\n",
       "      <td>NaN</td>\n",
       "      <td>NaT</td>\n",
       "      <td>NaN</td>\n",
       "      <td>NaN</td>\n",
       "      <td>Abandoned Cart Recovery ‑ FREE</td>\n",
       "      <td>2020-04-13</td>\n",
       "      <td>very good</td>\n",
       "      <td>NaN</td>\n",
       "      <td>NaT</td>\n",
       "      <td>1.0</td>\n",
       "      <td>en</td>\n",
       "    </tr>\n",
       "    <tr>\n",
       "      <th>5978</th>\n",
       "      <td>NaN</td>\n",
       "      <td>NaT</td>\n",
       "      <td>NaN</td>\n",
       "      <td>NaN</td>\n",
       "      <td>NaT</td>\n",
       "      <td>NaN</td>\n",
       "      <td>NaN</td>\n",
       "      <td>Abandoned Cart Recovery ‑ FREE</td>\n",
       "      <td>2020-04-07</td>\n",
       "      <td>great app</td>\n",
       "      <td>NaN</td>\n",
       "      <td>NaT</td>\n",
       "      <td>1.0</td>\n",
       "      <td>en</td>\n",
       "    </tr>\n",
       "    <tr>\n",
       "      <th>6021</th>\n",
       "      <td>NaN</td>\n",
       "      <td>NaT</td>\n",
       "      <td>NaN</td>\n",
       "      <td>NaN</td>\n",
       "      <td>NaT</td>\n",
       "      <td>NaN</td>\n",
       "      <td>NaN</td>\n",
       "      <td>Abandoned Cart Recovery ‑ FREE</td>\n",
       "      <td>2020-04-04</td>\n",
       "      <td>awesome i loved how easy it wasnn</td>\n",
       "      <td>NaN</td>\n",
       "      <td>NaT</td>\n",
       "      <td>1.0</td>\n",
       "      <td>en</td>\n",
       "    </tr>\n",
       "    <tr>\n",
       "      <th>6022</th>\n",
       "      <td>NaN</td>\n",
       "      <td>NaT</td>\n",
       "      <td>NaN</td>\n",
       "      <td>NaN</td>\n",
       "      <td>NaT</td>\n",
       "      <td>NaN</td>\n",
       "      <td>NaN</td>\n",
       "      <td>Abandoned Cart Recovery ‑ FREE</td>\n",
       "      <td>2020-04-04</td>\n",
       "      <td>not bad mm</td>\n",
       "      <td>NaN</td>\n",
       "      <td>NaT</td>\n",
       "      <td>1.0</td>\n",
       "      <td>en</td>\n",
       "    </tr>\n",
       "    <tr>\n",
       "      <th>6151</th>\n",
       "      <td>NaN</td>\n",
       "      <td>NaT</td>\n",
       "      <td>NaN</td>\n",
       "      <td>NaN</td>\n",
       "      <td>NaT</td>\n",
       "      <td>NaN</td>\n",
       "      <td>NaN</td>\n",
       "      <td>Abandoned Cart Recovery ‑ FREE</td>\n",
       "      <td>2020-03-27</td>\n",
       "      <td>pp</td>\n",
       "      <td>NaN</td>\n",
       "      <td>NaT</td>\n",
       "      <td>1.0</td>\n",
       "      <td>en</td>\n",
       "    </tr>\n",
       "    <tr>\n",
       "      <th>6344</th>\n",
       "      <td>NaN</td>\n",
       "      <td>NaT</td>\n",
       "      <td>NaN</td>\n",
       "      <td>NaN</td>\n",
       "      <td>NaT</td>\n",
       "      <td>NaN</td>\n",
       "      <td>NaN</td>\n",
       "      <td>Abandoned Cart Recovery ‑ FREE</td>\n",
       "      <td>2020-03-09</td>\n",
       "      <td>very easy i like it love love love</td>\n",
       "      <td>NaN</td>\n",
       "      <td>NaT</td>\n",
       "      <td>1.0</td>\n",
       "      <td>en</td>\n",
       "    </tr>\n",
       "    <tr>\n",
       "      <th>6394</th>\n",
       "      <td>NaN</td>\n",
       "      <td>NaT</td>\n",
       "      <td>NaN</td>\n",
       "      <td>NaN</td>\n",
       "      <td>NaT</td>\n",
       "      <td>NaN</td>\n",
       "      <td>NaN</td>\n",
       "      <td>Abandoned Cart Recovery ‑ FREE</td>\n",
       "      <td>2020-03-04</td>\n",
       "      <td>goodd</td>\n",
       "      <td>NaN</td>\n",
       "      <td>NaT</td>\n",
       "      <td>1.0</td>\n",
       "      <td>en</td>\n",
       "    </tr>\n",
       "    <tr>\n",
       "      <th>6454</th>\n",
       "      <td>NaN</td>\n",
       "      <td>NaT</td>\n",
       "      <td>NaN</td>\n",
       "      <td>NaN</td>\n",
       "      <td>NaT</td>\n",
       "      <td>NaN</td>\n",
       "      <td>NaN</td>\n",
       "      <td>Abandoned Cart Recovery ‑ FREE</td>\n",
       "      <td>2020-02-28</td>\n",
       "      <td>goodgoodgoodgoodgoodgoodgoodgoodgoodgoodgood</td>\n",
       "      <td>NaN</td>\n",
       "      <td>NaT</td>\n",
       "      <td>1.0</td>\n",
       "      <td>en</td>\n",
       "    </tr>\n",
       "    <tr>\n",
       "      <th>6470</th>\n",
       "      <td>NaN</td>\n",
       "      <td>NaT</td>\n",
       "      <td>NaN</td>\n",
       "      <td>NaN</td>\n",
       "      <td>NaT</td>\n",
       "      <td>NaN</td>\n",
       "      <td>NaN</td>\n",
       "      <td>Abandoned Cart Recovery ‑ FREE</td>\n",
       "      <td>2020-02-26</td>\n",
       "      <td>good</td>\n",
       "      <td>NaN</td>\n",
       "      <td>NaT</td>\n",
       "      <td>1.0</td>\n",
       "      <td>en</td>\n",
       "    </tr>\n",
       "    <tr>\n",
       "      <th>6490</th>\n",
       "      <td>NaN</td>\n",
       "      <td>NaT</td>\n",
       "      <td>NaN</td>\n",
       "      <td>NaN</td>\n",
       "      <td>NaT</td>\n",
       "      <td>NaN</td>\n",
       "      <td>NaN</td>\n",
       "      <td>Abandoned Cart Recovery ‑ FREE</td>\n",
       "      <td>2020-02-24</td>\n",
       "      <td>good goodnnot bad realyy</td>\n",
       "      <td>NaN</td>\n",
       "      <td>NaT</td>\n",
       "      <td>1.0</td>\n",
       "      <td>en</td>\n",
       "    </tr>\n",
       "    <tr>\n",
       "      <th>6539</th>\n",
       "      <td>NaN</td>\n",
       "      <td>NaT</td>\n",
       "      <td>NaN</td>\n",
       "      <td>NaN</td>\n",
       "      <td>NaT</td>\n",
       "      <td>NaN</td>\n",
       "      <td>NaN</td>\n",
       "      <td>Abandoned Cart Recovery ‑ FREE</td>\n",
       "      <td>2020-02-18</td>\n",
       "      <td>is the bestțț</td>\n",
       "      <td>NaN</td>\n",
       "      <td>NaT</td>\n",
       "      <td>1.0</td>\n",
       "      <td>en</td>\n",
       "    </tr>\n",
       "    <tr>\n",
       "      <th>6560</th>\n",
       "      <td>NaN</td>\n",
       "      <td>NaT</td>\n",
       "      <td>NaN</td>\n",
       "      <td>NaN</td>\n",
       "      <td>NaT</td>\n",
       "      <td>NaN</td>\n",
       "      <td>NaN</td>\n",
       "      <td>Abandoned Cart Recovery ‑ FREE</td>\n",
       "      <td>2020-02-16</td>\n",
       "      <td>cool its amazing cooll</td>\n",
       "      <td>NaN</td>\n",
       "      <td>NaT</td>\n",
       "      <td>1.0</td>\n",
       "      <td>en</td>\n",
       "    </tr>\n",
       "    <tr>\n",
       "      <th>6792</th>\n",
       "      <td>NaN</td>\n",
       "      <td>NaT</td>\n",
       "      <td>NaN</td>\n",
       "      <td>NaN</td>\n",
       "      <td>NaT</td>\n",
       "      <td>NaN</td>\n",
       "      <td>NaN</td>\n",
       "      <td>Abandoned Cart Recovery ‑ FREE</td>\n",
       "      <td>2020-01-22</td>\n",
       "      <td>great free app</td>\n",
       "      <td>NaN</td>\n",
       "      <td>NaT</td>\n",
       "      <td>1.0</td>\n",
       "      <td>en</td>\n",
       "    </tr>\n",
       "    <tr>\n",
       "      <th>6800</th>\n",
       "      <td>NaN</td>\n",
       "      <td>NaT</td>\n",
       "      <td>NaN</td>\n",
       "      <td>NaN</td>\n",
       "      <td>NaT</td>\n",
       "      <td>NaN</td>\n",
       "      <td>NaN</td>\n",
       "      <td>Abandoned Cart Recovery ‑ FREE</td>\n",
       "      <td>2020-01-21</td>\n",
       "      <td>love itlove itlove itlove itlove itlove itlove...</td>\n",
       "      <td>NaN</td>\n",
       "      <td>NaT</td>\n",
       "      <td>1.0</td>\n",
       "      <td>en</td>\n",
       "    </tr>\n",
       "    <tr>\n",
       "      <th>6833</th>\n",
       "      <td>NaN</td>\n",
       "      <td>NaT</td>\n",
       "      <td>NaN</td>\n",
       "      <td>NaN</td>\n",
       "      <td>NaT</td>\n",
       "      <td>NaN</td>\n",
       "      <td>NaN</td>\n",
       "      <td>Abandoned Cart Recovery ‑ FREE</td>\n",
       "      <td>2020-01-18</td>\n",
       "      <td>thanks mm</td>\n",
       "      <td>NaN</td>\n",
       "      <td>NaT</td>\n",
       "      <td>1.0</td>\n",
       "      <td>en</td>\n",
       "    </tr>\n",
       "    <tr>\n",
       "      <th>6959</th>\n",
       "      <td>NaN</td>\n",
       "      <td>NaT</td>\n",
       "      <td>NaN</td>\n",
       "      <td>NaN</td>\n",
       "      <td>NaT</td>\n",
       "      <td>NaN</td>\n",
       "      <td>NaN</td>\n",
       "      <td>Abandoned Cart Recovery ‑ FREE</td>\n",
       "      <td>2020-01-06</td>\n",
       "      <td>very good app to minimize abandoned carts and ...</td>\n",
       "      <td>NaN</td>\n",
       "      <td>NaT</td>\n",
       "      <td>1.0</td>\n",
       "      <td>en</td>\n",
       "    </tr>\n",
       "    <tr>\n",
       "      <th>7004</th>\n",
       "      <td>NaN</td>\n",
       "      <td>NaT</td>\n",
       "      <td>NaN</td>\n",
       "      <td>NaN</td>\n",
       "      <td>NaT</td>\n",
       "      <td>NaN</td>\n",
       "      <td>NaN</td>\n",
       "      <td>Abandoned Cart Recovery ‑ FREE</td>\n",
       "      <td>2020-01-04</td>\n",
       "      <td>bbjbb</td>\n",
       "      <td>NaN</td>\n",
       "      <td>NaT</td>\n",
       "      <td>1.0</td>\n",
       "      <td>en</td>\n",
       "    </tr>\n",
       "    <tr>\n",
       "      <th>7035</th>\n",
       "      <td>NaN</td>\n",
       "      <td>NaT</td>\n",
       "      <td>NaN</td>\n",
       "      <td>NaN</td>\n",
       "      <td>NaT</td>\n",
       "      <td>NaN</td>\n",
       "      <td>NaN</td>\n",
       "      <td>Abandoned Cart Recovery ‑ FREE</td>\n",
       "      <td>2020-01-02</td>\n",
       "      <td>not tried</td>\n",
       "      <td>NaN</td>\n",
       "      <td>NaT</td>\n",
       "      <td>1.0</td>\n",
       "      <td>en</td>\n",
       "    </tr>\n",
       "    <tr>\n",
       "      <th>7178</th>\n",
       "      <td>NaN</td>\n",
       "      <td>NaT</td>\n",
       "      <td>NaN</td>\n",
       "      <td>NaN</td>\n",
       "      <td>NaT</td>\n",
       "      <td>NaN</td>\n",
       "      <td>NaN</td>\n",
       "      <td>SEO Optimizer ‑Trusted SEO app</td>\n",
       "      <td>2020-08-29</td>\n",
       "      <td>goodd</td>\n",
       "      <td>NaN</td>\n",
       "      <td>NaT</td>\n",
       "      <td>1.0</td>\n",
       "      <td>en</td>\n",
       "    </tr>\n",
       "    <tr>\n",
       "      <th>7412</th>\n",
       "      <td>NaN</td>\n",
       "      <td>NaT</td>\n",
       "      <td>NaN</td>\n",
       "      <td>NaN</td>\n",
       "      <td>NaT</td>\n",
       "      <td>NaN</td>\n",
       "      <td>NaN</td>\n",
       "      <td>SEO Optimizer ‑Trusted SEO app</td>\n",
       "      <td>2019-11-18</td>\n",
       "      <td>great app to save time zznb</td>\n",
       "      <td>NaN</td>\n",
       "      <td>NaT</td>\n",
       "      <td>1.0</td>\n",
       "      <td>en</td>\n",
       "    </tr>\n",
       "    <tr>\n",
       "      <th>7596</th>\n",
       "      <td>NaN</td>\n",
       "      <td>NaT</td>\n",
       "      <td>NaN</td>\n",
       "      <td>NaN</td>\n",
       "      <td>NaT</td>\n",
       "      <td>NaN</td>\n",
       "      <td>NaN</td>\n",
       "      <td>SEO Optimizer ‑Trusted SEO app</td>\n",
       "      <td>2019-10-28</td>\n",
       "      <td>toop</td>\n",
       "      <td>NaN</td>\n",
       "      <td>NaT</td>\n",
       "      <td>1.0</td>\n",
       "      <td>en</td>\n",
       "    </tr>\n",
       "    <tr>\n",
       "      <th>7906</th>\n",
       "      <td>NaN</td>\n",
       "      <td>NaT</td>\n",
       "      <td>NaN</td>\n",
       "      <td>NaN</td>\n",
       "      <td>NaT</td>\n",
       "      <td>NaN</td>\n",
       "      <td>NaN</td>\n",
       "      <td>SEO Optimizer ‑Trusted SEO app</td>\n",
       "      <td>2019-09-09</td>\n",
       "      <td>good</td>\n",
       "      <td>NaN</td>\n",
       "      <td>NaT</td>\n",
       "      <td>1.0</td>\n",
       "      <td>en</td>\n",
       "    </tr>\n",
       "    <tr>\n",
       "      <th>7988</th>\n",
       "      <td>NaN</td>\n",
       "      <td>NaT</td>\n",
       "      <td>NaN</td>\n",
       "      <td>NaN</td>\n",
       "      <td>NaT</td>\n",
       "      <td>NaN</td>\n",
       "      <td>NaN</td>\n",
       "      <td>SEO Optimizer ‑Trusted SEO app</td>\n",
       "      <td>2019-08-27</td>\n",
       "      <td>best app</td>\n",
       "      <td>NaN</td>\n",
       "      <td>NaT</td>\n",
       "      <td>1.0</td>\n",
       "      <td>en</td>\n",
       "    </tr>\n",
       "  </tbody>\n",
       "</table>\n",
       "</div>"
      ],
      "text/plain": [
       "     app_name_x review_date_x review_text_x dev_reply_text_x dev_reply_date_x  \\\n",
       "501         NaN           NaT           NaN              NaN              NaT   \n",
       "682         NaN           NaT           NaN              NaN              NaT   \n",
       "809         NaN           NaT           NaN              NaN              NaT   \n",
       "934         NaN           NaT           NaN              NaN              NaT   \n",
       "1045        NaN           NaT           NaN              NaN              NaT   \n",
       "1048        NaN           NaT           NaN              NaN              NaT   \n",
       "1290        NaN           NaT           NaN              NaN              NaT   \n",
       "1473        NaN           NaT           NaN              NaN              NaT   \n",
       "2252        NaN           NaT           NaN              NaN              NaT   \n",
       "2253        NaN           NaT           NaN              NaN              NaT   \n",
       "2260        NaN           NaT           NaN              NaN              NaT   \n",
       "2274        NaN           NaT           NaN              NaN              NaT   \n",
       "2470        NaN           NaT           NaN              NaN              NaT   \n",
       "3536        NaN           NaT           NaN              NaN              NaT   \n",
       "4348        NaN           NaT           NaN              NaN              NaT   \n",
       "5771        NaN           NaT           NaN              NaN              NaT   \n",
       "5787        NaN           NaT           NaN              NaN              NaT   \n",
       "5863        NaN           NaT           NaN              NaN              NaT   \n",
       "5978        NaN           NaT           NaN              NaN              NaT   \n",
       "6021        NaN           NaT           NaN              NaN              NaT   \n",
       "6022        NaN           NaT           NaN              NaN              NaT   \n",
       "6151        NaN           NaT           NaN              NaN              NaT   \n",
       "6344        NaN           NaT           NaN              NaN              NaT   \n",
       "6394        NaN           NaT           NaN              NaN              NaT   \n",
       "6454        NaN           NaT           NaN              NaN              NaT   \n",
       "6470        NaN           NaT           NaN              NaN              NaT   \n",
       "6490        NaN           NaT           NaN              NaN              NaT   \n",
       "6539        NaN           NaT           NaN              NaN              NaT   \n",
       "6560        NaN           NaT           NaN              NaN              NaT   \n",
       "6792        NaN           NaT           NaN              NaN              NaT   \n",
       "6800        NaN           NaT           NaN              NaN              NaT   \n",
       "6833        NaN           NaT           NaN              NaN              NaT   \n",
       "6959        NaN           NaT           NaN              NaN              NaT   \n",
       "7004        NaN           NaT           NaN              NaN              NaT   \n",
       "7035        NaN           NaT           NaN              NaN              NaT   \n",
       "7178        NaN           NaT           NaN              NaN              NaT   \n",
       "7412        NaN           NaT           NaN              NaN              NaT   \n",
       "7596        NaN           NaT           NaN              NaN              NaT   \n",
       "7906        NaN           NaT           NaN              NaN              NaT   \n",
       "7988        NaN           NaT           NaN              NaN              NaT   \n",
       "\n",
       "      is_review_good_x lang_iso_x                      app_name_y  \\\n",
       "501                NaN        NaN                Instant Search +   \n",
       "682                NaN        NaN  Sticky Add To Cart BOOSTER PRO   \n",
       "809                NaN        NaN  Sticky Add To Cart BOOSTER PRO   \n",
       "934                NaN        NaN  Sticky Add To Cart BOOSTER PRO   \n",
       "1045               NaN        NaN  Sticky Add To Cart BOOSTER PRO   \n",
       "1048               NaN        NaN  Sticky Add To Cart BOOSTER PRO   \n",
       "1290               NaN        NaN  Sticky Add To Cart BOOSTER PRO   \n",
       "1473               NaN        NaN  Sticky Add To Cart BOOSTER PRO   \n",
       "2252               NaN        NaN    Countdown Timer | Cart Timer   \n",
       "2253               NaN        NaN    Countdown Timer | Cart Timer   \n",
       "2260               NaN        NaN    Countdown Timer | Cart Timer   \n",
       "2274               NaN        NaN    Countdown Timer | Cart Timer   \n",
       "2470               NaN        NaN    Countdown Timer | Cart Timer   \n",
       "3536               NaN        NaN                 JSON‑LD for SEO   \n",
       "4348               NaN        NaN                    Bulk Fulfill   \n",
       "5771               NaN        NaN  Abandoned Cart Recovery ‑ FREE   \n",
       "5787               NaN        NaN  Abandoned Cart Recovery ‑ FREE   \n",
       "5863               NaN        NaN  Abandoned Cart Recovery ‑ FREE   \n",
       "5978               NaN        NaN  Abandoned Cart Recovery ‑ FREE   \n",
       "6021               NaN        NaN  Abandoned Cart Recovery ‑ FREE   \n",
       "6022               NaN        NaN  Abandoned Cart Recovery ‑ FREE   \n",
       "6151               NaN        NaN  Abandoned Cart Recovery ‑ FREE   \n",
       "6344               NaN        NaN  Abandoned Cart Recovery ‑ FREE   \n",
       "6394               NaN        NaN  Abandoned Cart Recovery ‑ FREE   \n",
       "6454               NaN        NaN  Abandoned Cart Recovery ‑ FREE   \n",
       "6470               NaN        NaN  Abandoned Cart Recovery ‑ FREE   \n",
       "6490               NaN        NaN  Abandoned Cart Recovery ‑ FREE   \n",
       "6539               NaN        NaN  Abandoned Cart Recovery ‑ FREE   \n",
       "6560               NaN        NaN  Abandoned Cart Recovery ‑ FREE   \n",
       "6792               NaN        NaN  Abandoned Cart Recovery ‑ FREE   \n",
       "6800               NaN        NaN  Abandoned Cart Recovery ‑ FREE   \n",
       "6833               NaN        NaN  Abandoned Cart Recovery ‑ FREE   \n",
       "6959               NaN        NaN  Abandoned Cart Recovery ‑ FREE   \n",
       "7004               NaN        NaN  Abandoned Cart Recovery ‑ FREE   \n",
       "7035               NaN        NaN  Abandoned Cart Recovery ‑ FREE   \n",
       "7178               NaN        NaN  SEO Optimizer ‑Trusted SEO app   \n",
       "7412               NaN        NaN  SEO Optimizer ‑Trusted SEO app   \n",
       "7596               NaN        NaN  SEO Optimizer ‑Trusted SEO app   \n",
       "7906               NaN        NaN  SEO Optimizer ‑Trusted SEO app   \n",
       "7988               NaN        NaN  SEO Optimizer ‑Trusted SEO app   \n",
       "\n",
       "     review_date_y                                      review_text_y  \\\n",
       "501     2016-08-15                                     nice job from    \n",
       "682     2020-08-21                          wow very good thanks good   \n",
       "809     2020-02-03                                              goodd   \n",
       "934     2019-09-01                                        really good   \n",
       "1045    2019-05-16                                      best app cool   \n",
       "1048    2019-05-13  so far so good i just got it i hope it does go...   \n",
       "1290    2018-08-20                                               good   \n",
       "1473    2017-10-17                                               cool   \n",
       "2252    2019-03-24                                good appdffgffdffdd   \n",
       "2253    2019-03-10                                         real goodd   \n",
       "2260    2019-03-05  for the free plan the big logo on right of the...   \n",
       "2274    2019-02-23                   mknjpqdsfdsfcsdrdsfcdsfsdscfdsff   \n",
       "2470    2018-10-15                              great app oo oo o o o   \n",
       "3536    2017-08-23                                              great   \n",
       "4348    2020-03-03                  five star really thanks good joob   \n",
       "5771    2020-04-17  very nice app helped me a lot i use a message ...   \n",
       "5787    2020-04-16  good it s good to have this free app with shop...   \n",
       "5863    2020-04-13                                          very good   \n",
       "5978    2020-04-07                                         great app    \n",
       "6021    2020-04-04                  awesome i loved how easy it wasnn   \n",
       "6022    2020-04-04                                         not bad mm   \n",
       "6151    2020-03-27                                                 pp   \n",
       "6344    2020-03-09                very easy i like it love love love    \n",
       "6394    2020-03-04                                              goodd   \n",
       "6454    2020-02-28       goodgoodgoodgoodgoodgoodgoodgoodgoodgoodgood   \n",
       "6470    2020-02-26                                               good   \n",
       "6490    2020-02-24                           good goodnnot bad realyy   \n",
       "6539    2020-02-18                                      is the bestțț   \n",
       "6560    2020-02-16                             cool its amazing cooll   \n",
       "6792    2020-01-22                                    great free app    \n",
       "6800    2020-01-21  love itlove itlove itlove itlove itlove itlove...   \n",
       "6833    2020-01-18                                          thanks mm   \n",
       "6959    2020-01-06  very good app to minimize abandoned carts and ...   \n",
       "7004    2020-01-04                                              bbjbb   \n",
       "7035    2020-01-02                                         not tried    \n",
       "7178    2020-08-29                                              goodd   \n",
       "7412    2019-11-18                        great app to save time zznb   \n",
       "7596    2019-10-28                                               toop   \n",
       "7906    2019-09-09                                               good   \n",
       "7988    2019-08-27                                           best app   \n",
       "\n",
       "                                       dev_reply_text_y dev_reply_date_y  \\\n",
       "501                                                 NaN              NaT   \n",
       "682                                                 NaN              NaT   \n",
       "809                                                 NaN              NaT   \n",
       "934   Hi Zuluzula, thank you for your review 🙏. Glad...       2019-09-03   \n",
       "1045                                                NaN              NaT   \n",
       "1048                                                NaN              NaT   \n",
       "1290                                                NaN              NaT   \n",
       "1473                                                NaN              NaT   \n",
       "2252                                                NaN              NaT   \n",
       "2253                                                NaN              NaT   \n",
       "2260                                                NaN              NaT   \n",
       "2274                                                NaN              NaT   \n",
       "2470                                                NaN              NaT   \n",
       "3536                                                NaN              NaT   \n",
       "4348                                                NaN              NaT   \n",
       "5771                                                NaN              NaT   \n",
       "5787                                                NaN              NaT   \n",
       "5863                                                NaN              NaT   \n",
       "5978                                                NaN              NaT   \n",
       "6021                                                NaN              NaT   \n",
       "6022                                                NaN              NaT   \n",
       "6151                                                NaN              NaT   \n",
       "6344                                                NaN              NaT   \n",
       "6394                                                NaN              NaT   \n",
       "6454                                                NaN              NaT   \n",
       "6470                                                NaN              NaT   \n",
       "6490                                                NaN              NaT   \n",
       "6539                                                NaN              NaT   \n",
       "6560                                                NaN              NaT   \n",
       "6792                                                NaN              NaT   \n",
       "6800                                                NaN              NaT   \n",
       "6833                                                NaN              NaT   \n",
       "6959                                                NaN              NaT   \n",
       "7004                                                NaN              NaT   \n",
       "7035                                                NaN              NaT   \n",
       "7178                                                NaN              NaT   \n",
       "7412                                                NaN              NaT   \n",
       "7596                                                NaN              NaT   \n",
       "7906                                                NaN              NaT   \n",
       "7988                                                NaN              NaT   \n",
       "\n",
       "      is_review_good_y lang_iso_y  \n",
       "501                1.0         en  \n",
       "682                1.0         en  \n",
       "809                1.0         en  \n",
       "934                1.0         en  \n",
       "1045               1.0         en  \n",
       "1048               1.0         en  \n",
       "1290               1.0         en  \n",
       "1473               1.0         en  \n",
       "2252               1.0         en  \n",
       "2253               1.0         en  \n",
       "2260               0.0         en  \n",
       "2274               0.0         en  \n",
       "2470               1.0         en  \n",
       "3536               1.0         en  \n",
       "4348               1.0         en  \n",
       "5771               1.0         en  \n",
       "5787               1.0         en  \n",
       "5863               1.0         en  \n",
       "5978               1.0         en  \n",
       "6021               1.0         en  \n",
       "6022               1.0         en  \n",
       "6151               1.0         en  \n",
       "6344               1.0         en  \n",
       "6394               1.0         en  \n",
       "6454               1.0         en  \n",
       "6470               1.0         en  \n",
       "6490               1.0         en  \n",
       "6539               1.0         en  \n",
       "6560               1.0         en  \n",
       "6792               1.0         en  \n",
       "6800               1.0         en  \n",
       "6833               1.0         en  \n",
       "6959               1.0         en  \n",
       "7004               1.0         en  \n",
       "7035               1.0         en  \n",
       "7178               1.0         en  \n",
       "7412               1.0         en  \n",
       "7596               1.0         en  \n",
       "7906               1.0         en  \n",
       "7988               1.0         en  "
      ]
     },
     "execution_count": 57,
     "metadata": {},
     "output_type": "execute_result"
    }
   ],
   "source": [
    "df_merged[df_merged['lang_iso_x'].isna()].head(40)"
   ]
  },
  {
   "cell_type": "markdown",
   "id": "ab86174b",
   "metadata": {},
   "source": [
    "I can see that the English language reviews detected in Round 2 are correctly identified as English-language reviews. However, I also see that some of the reviews that were detected contain nonsensical text that provide no meaning. These nonsensical texts can be added to a custom stop-word list.\n",
    "\n",
    "Examples of stop-words to add are:\n",
    "\n",
    "- appdffgffdffdd\n",
    "- mknjpqdsfdsfcsdrdsfcdsfsdscfdsff"
   ]
  },
  {
   "cell_type": "markdown",
   "id": "74245fff",
   "metadata": {},
   "source": [
    "I will now take a look at the English language reviews that were detected during Round 1 but not in Round 2, if any."
   ]
  },
  {
   "cell_type": "code",
   "execution_count": 58,
   "id": "2df4ab5f",
   "metadata": {
    "ExecuteTime": {
     "end_time": "2022-05-22T20:46:19.187113Z",
     "start_time": "2022-05-22T20:46:19.125586Z"
    },
    "scrolled": false
   },
   "outputs": [
    {
     "data": {
      "text/html": [
       "<div>\n",
       "<style scoped>\n",
       "    .dataframe tbody tr th:only-of-type {\n",
       "        vertical-align: middle;\n",
       "    }\n",
       "\n",
       "    .dataframe tbody tr th {\n",
       "        vertical-align: top;\n",
       "    }\n",
       "\n",
       "    .dataframe thead th {\n",
       "        text-align: right;\n",
       "    }\n",
       "</style>\n",
       "<table border=\"1\" class=\"dataframe\">\n",
       "  <thead>\n",
       "    <tr style=\"text-align: right;\">\n",
       "      <th></th>\n",
       "      <th>app_name_x</th>\n",
       "      <th>review_date_x</th>\n",
       "      <th>review_text_x</th>\n",
       "      <th>dev_reply_text_x</th>\n",
       "      <th>dev_reply_date_x</th>\n",
       "      <th>is_review_good_x</th>\n",
       "      <th>lang_iso_x</th>\n",
       "      <th>app_name_y</th>\n",
       "      <th>review_date_y</th>\n",
       "      <th>review_text_y</th>\n",
       "      <th>dev_reply_text_y</th>\n",
       "      <th>dev_reply_date_y</th>\n",
       "      <th>is_review_good_y</th>\n",
       "      <th>lang_iso_y</th>\n",
       "    </tr>\n",
       "  </thead>\n",
       "  <tbody>\n",
       "    <tr>\n",
       "      <th>747</th>\n",
       "      <td>Sticky Add To Cart BOOSTER PRO</td>\n",
       "      <td>2020-04-30</td>\n",
       "      <td>ME ENCANTAAAAAAAAAAAAAAAAAAAAAAAAAAAAAAAAAAAAA...</td>\n",
       "      <td>NaN</td>\n",
       "      <td>NaT</td>\n",
       "      <td>1.0</td>\n",
       "      <td>en</td>\n",
       "      <td>NaN</td>\n",
       "      <td>NaT</td>\n",
       "      <td>NaN</td>\n",
       "      <td>NaN</td>\n",
       "      <td>NaT</td>\n",
       "      <td>NaN</td>\n",
       "      <td>NaN</td>\n",
       "    </tr>\n",
       "    <tr>\n",
       "      <th>754</th>\n",
       "      <td>Sticky Add To Cart BOOSTER PRO</td>\n",
       "      <td>2020-04-07</td>\n",
       "      <td>como faço pra a pessoa excluir algo do carrinh...</td>\n",
       "      <td>NaN</td>\n",
       "      <td>NaT</td>\n",
       "      <td>0.0</td>\n",
       "      <td>en</td>\n",
       "      <td>NaN</td>\n",
       "      <td>NaT</td>\n",
       "      <td>NaN</td>\n",
       "      <td>NaN</td>\n",
       "      <td>NaT</td>\n",
       "      <td>NaN</td>\n",
       "      <td>NaN</td>\n",
       "    </tr>\n",
       "    <tr>\n",
       "      <th>755</th>\n",
       "      <td>Sticky Add To Cart BOOSTER PRO</td>\n",
       "      <td>2020-04-07</td>\n",
       "      <td>GREATSF,DV,LKdnvNsvnOsdviodsoijvKyxjVKLdkV  oi...</td>\n",
       "      <td>NaN</td>\n",
       "      <td>NaT</td>\n",
       "      <td>1.0</td>\n",
       "      <td>en</td>\n",
       "      <td>NaN</td>\n",
       "      <td>NaT</td>\n",
       "      <td>NaN</td>\n",
       "      <td>NaN</td>\n",
       "      <td>NaT</td>\n",
       "      <td>NaN</td>\n",
       "      <td>NaN</td>\n",
       "    </tr>\n",
       "    <tr>\n",
       "      <th>998</th>\n",
       "      <td>Sticky Add To Cart BOOSTER PRO</td>\n",
       "      <td>2019-07-06</td>\n",
       "      <td>TRES BONNE APPLI        !!</td>\n",
       "      <td>NaN</td>\n",
       "      <td>NaT</td>\n",
       "      <td>1.0</td>\n",
       "      <td>en</td>\n",
       "      <td>NaN</td>\n",
       "      <td>NaT</td>\n",
       "      <td>NaN</td>\n",
       "      <td>NaN</td>\n",
       "      <td>NaT</td>\n",
       "      <td>NaN</td>\n",
       "      <td>NaN</td>\n",
       "    </tr>\n",
       "    <tr>\n",
       "      <th>1137</th>\n",
       "      <td>Sticky Add To Cart BOOSTER PRO</td>\n",
       "      <td>2019-02-25</td>\n",
       "      <td>gggggggggggggggggggggggggggggggggggggggggggggg...</td>\n",
       "      <td>NaN</td>\n",
       "      <td>NaT</td>\n",
       "      <td>1.0</td>\n",
       "      <td>en</td>\n",
       "      <td>NaN</td>\n",
       "      <td>NaT</td>\n",
       "      <td>NaN</td>\n",
       "      <td>NaN</td>\n",
       "      <td>NaT</td>\n",
       "      <td>NaN</td>\n",
       "      <td>NaN</td>\n",
       "    </tr>\n",
       "    <tr>\n",
       "      <th>...</th>\n",
       "      <td>...</td>\n",
       "      <td>...</td>\n",
       "      <td>...</td>\n",
       "      <td>...</td>\n",
       "      <td>...</td>\n",
       "      <td>...</td>\n",
       "      <td>...</td>\n",
       "      <td>...</td>\n",
       "      <td>...</td>\n",
       "      <td>...</td>\n",
       "      <td>...</td>\n",
       "      <td>...</td>\n",
       "      <td>...</td>\n",
       "      <td>...</td>\n",
       "    </tr>\n",
       "    <tr>\n",
       "      <th>440944</th>\n",
       "      <td>Printful: Print‑on‑Demand</td>\n",
       "      <td>2018-12-17</td>\n",
       "      <td>SUPER APPLICATION JE RECOMMANDE VIVEMENT  PROD...</td>\n",
       "      <td>NaN</td>\n",
       "      <td>NaT</td>\n",
       "      <td>1.0</td>\n",
       "      <td>en</td>\n",
       "      <td>NaN</td>\n",
       "      <td>NaT</td>\n",
       "      <td>NaN</td>\n",
       "      <td>NaN</td>\n",
       "      <td>NaT</td>\n",
       "      <td>NaN</td>\n",
       "      <td>NaN</td>\n",
       "    </tr>\n",
       "    <tr>\n",
       "      <th>442988</th>\n",
       "      <td>SEO Images King</td>\n",
       "      <td>2020-06-13</td>\n",
       "      <td>Application au top! service client fantastique...</td>\n",
       "      <td>NaN</td>\n",
       "      <td>NaT</td>\n",
       "      <td>1.0</td>\n",
       "      <td>en</td>\n",
       "      <td>NaN</td>\n",
       "      <td>NaT</td>\n",
       "      <td>NaN</td>\n",
       "      <td>NaN</td>\n",
       "      <td>NaT</td>\n",
       "      <td>NaN</td>\n",
       "      <td>NaN</td>\n",
       "    </tr>\n",
       "    <tr>\n",
       "      <th>443454</th>\n",
       "      <td>SEO Images King</td>\n",
       "      <td>2018-04-09</td>\n",
       "      <td>Test Test Test Test Test Test Test Test Test T...</td>\n",
       "      <td>NaN</td>\n",
       "      <td>NaT</td>\n",
       "      <td>1.0</td>\n",
       "      <td>en</td>\n",
       "      <td>NaN</td>\n",
       "      <td>NaT</td>\n",
       "      <td>NaN</td>\n",
       "      <td>NaN</td>\n",
       "      <td>NaT</td>\n",
       "      <td>NaN</td>\n",
       "      <td>NaN</td>\n",
       "    </tr>\n",
       "    <tr>\n",
       "      <th>444674</th>\n",
       "      <td>Promotion Popup by Secomapp</td>\n",
       "      <td>2019-03-11</td>\n",
       "      <td>WWW.JEWELR-STYLE.COM</td>\n",
       "      <td>NaN</td>\n",
       "      <td>NaT</td>\n",
       "      <td>1.0</td>\n",
       "      <td>en</td>\n",
       "      <td>NaN</td>\n",
       "      <td>NaT</td>\n",
       "      <td>NaN</td>\n",
       "      <td>NaN</td>\n",
       "      <td>NaT</td>\n",
       "      <td>NaN</td>\n",
       "      <td>NaN</td>\n",
       "    </tr>\n",
       "    <tr>\n",
       "      <th>444930</th>\n",
       "      <td>Image Optimizer</td>\n",
       "      <td>2019-09-15</td>\n",
       "      <td>I love it!!!!!!!!!!!!!!!!!!!!!!!!!!!!!!!!!!!!!...</td>\n",
       "      <td>Thank you so much for taking the time to leave...</td>\n",
       "      <td>2019-09-15</td>\n",
       "      <td>1.0</td>\n",
       "      <td>en</td>\n",
       "      <td>NaN</td>\n",
       "      <td>NaT</td>\n",
       "      <td>NaN</td>\n",
       "      <td>NaN</td>\n",
       "      <td>NaT</td>\n",
       "      <td>NaN</td>\n",
       "      <td>NaN</td>\n",
       "    </tr>\n",
       "  </tbody>\n",
       "</table>\n",
       "<p>916 rows × 14 columns</p>\n",
       "</div>"
      ],
      "text/plain": [
       "                            app_name_x review_date_x  \\\n",
       "747     Sticky Add To Cart BOOSTER PRO    2020-04-30   \n",
       "754     Sticky Add To Cart BOOSTER PRO    2020-04-07   \n",
       "755     Sticky Add To Cart BOOSTER PRO    2020-04-07   \n",
       "998     Sticky Add To Cart BOOSTER PRO    2019-07-06   \n",
       "1137    Sticky Add To Cart BOOSTER PRO    2019-02-25   \n",
       "...                                ...           ...   \n",
       "440944       Printful: Print‑on‑Demand    2018-12-17   \n",
       "442988                 SEO Images King    2020-06-13   \n",
       "443454                 SEO Images King    2018-04-09   \n",
       "444674     Promotion Popup by Secomapp    2019-03-11   \n",
       "444930                 Image Optimizer    2019-09-15   \n",
       "\n",
       "                                            review_text_x  \\\n",
       "747     ME ENCANTAAAAAAAAAAAAAAAAAAAAAAAAAAAAAAAAAAAAA...   \n",
       "754     como faço pra a pessoa excluir algo do carrinh...   \n",
       "755     GREATSF,DV,LKdnvNsvnOsdviodsoijvKyxjVKLdkV  oi...   \n",
       "998                            TRES BONNE APPLI        !!   \n",
       "1137    gggggggggggggggggggggggggggggggggggggggggggggg...   \n",
       "...                                                   ...   \n",
       "440944  SUPER APPLICATION JE RECOMMANDE VIVEMENT  PROD...   \n",
       "442988  Application au top! service client fantastique...   \n",
       "443454  Test Test Test Test Test Test Test Test Test T...   \n",
       "444674                               WWW.JEWELR-STYLE.COM   \n",
       "444930  I love it!!!!!!!!!!!!!!!!!!!!!!!!!!!!!!!!!!!!!...   \n",
       "\n",
       "                                         dev_reply_text_x dev_reply_date_x  \\\n",
       "747                                                   NaN              NaT   \n",
       "754                                                   NaN              NaT   \n",
       "755                                                   NaN              NaT   \n",
       "998                                                   NaN              NaT   \n",
       "1137                                                  NaN              NaT   \n",
       "...                                                   ...              ...   \n",
       "440944                                                NaN              NaT   \n",
       "442988                                                NaN              NaT   \n",
       "443454                                                NaN              NaT   \n",
       "444674                                                NaN              NaT   \n",
       "444930  Thank you so much for taking the time to leave...       2019-09-15   \n",
       "\n",
       "        is_review_good_x lang_iso_x app_name_y review_date_y review_text_y  \\\n",
       "747                  1.0         en        NaN           NaT           NaN   \n",
       "754                  0.0         en        NaN           NaT           NaN   \n",
       "755                  1.0         en        NaN           NaT           NaN   \n",
       "998                  1.0         en        NaN           NaT           NaN   \n",
       "1137                 1.0         en        NaN           NaT           NaN   \n",
       "...                  ...        ...        ...           ...           ...   \n",
       "440944               1.0         en        NaN           NaT           NaN   \n",
       "442988               1.0         en        NaN           NaT           NaN   \n",
       "443454               1.0         en        NaN           NaT           NaN   \n",
       "444674               1.0         en        NaN           NaT           NaN   \n",
       "444930               1.0         en        NaN           NaT           NaN   \n",
       "\n",
       "       dev_reply_text_y dev_reply_date_y  is_review_good_y lang_iso_y  \n",
       "747                 NaN              NaT               NaN        NaN  \n",
       "754                 NaN              NaT               NaN        NaN  \n",
       "755                 NaN              NaT               NaN        NaN  \n",
       "998                 NaN              NaT               NaN        NaN  \n",
       "1137                NaN              NaT               NaN        NaN  \n",
       "...                 ...              ...               ...        ...  \n",
       "440944              NaN              NaT               NaN        NaN  \n",
       "442988              NaN              NaT               NaN        NaN  \n",
       "443454              NaN              NaT               NaN        NaN  \n",
       "444674              NaN              NaT               NaN        NaN  \n",
       "444930              NaN              NaT               NaN        NaN  \n",
       "\n",
       "[916 rows x 14 columns]"
      ]
     },
     "execution_count": 58,
     "metadata": {},
     "output_type": "execute_result"
    }
   ],
   "source": [
    "df_merged[df_merged['lang_iso_y'].isna()]"
   ]
  },
  {
   "cell_type": "markdown",
   "id": "ee1e0a4e",
   "metadata": {},
   "source": [
    "I see that the English language reviews detected in Round 1 were missed as English-language reviews in Round 2. However, I also see reviews classified as English but were not, indicating some improvement with Round 2 of text pre-processing. In addition, some of the reviews in Round 1 contain nonsensical text that provide no meaning.\n",
    "\n",
    "Examples of additional stop-words to add are:\n",
    "\n",
    "- WWW.JEWELR-STYLE.COM\n",
    "\n",
    "Based on these observations, an additional regular expression to extract any strings that start with \"www.\" can be implemented. This was implemented a posteriori in the text pre-processing round 2."
   ]
  },
  {
   "cell_type": "markdown",
   "id": "d03000d7",
   "metadata": {},
   "source": [
    "Given that a second round of text pre-processing resulted in more English language reviews being detected, despite some possible false positives, the English language reviews from Round 2 will be utilized for further analyses. Opportunities for further analysis of the misclassification in multi-language reviews can be revisited in this section in the future."
   ]
  },
  {
   "cell_type": "markdown",
   "id": "9ba31fce",
   "metadata": {},
   "source": [
    "## Text Pre-Processing Round 3"
   ]
  },
  {
   "cell_type": "markdown",
   "id": "82b8ce86",
   "metadata": {},
   "source": [
    "For the last round of text pre-processing, text normalization will be implemented through lemmatization of the nouns, verbs, adverbs, and adjectives within the review text. Although stemming is another technique of text normalization, such as the Porter2 or Snowball Stemmer through NLTK's library, stemming will not be used at this time due to the word being stemmed potentially not returning to its' canonical form (e.g., leaves == leav instead of leaf).\n",
    "\n",
    "An example of lemmatization is the following:\n",
    "\n",
    "- Make 'beautifully' into 'beautiful' as they're the same root word (lemmatization)"
   ]
  },
  {
   "cell_type": "markdown",
   "id": "044f1435",
   "metadata": {
    "ExecuteTime": {
     "end_time": "2022-04-02T03:23:52.215240Z",
     "start_time": "2022-04-02T03:23:52.200240Z"
    }
   },
   "source": [
    "Different Part-Of-Speech (POS) implementations were explored prior to tokenization and lemmatization for this section. For instance, SpaCy consists of POS tagging than can be extracted from creating doc objects using one of their pre-trained models. However, due to the implementation duration ranging $\\approx$ 100 hours or more to complete, it was not feasible for use with this project.\n",
    "\n",
    "NLTK's library is implemented below to tag words of their respective POS. This enables the lemmatizer to identify which token to lemmatize."
   ]
  },
  {
   "cell_type": "markdown",
   "id": "25954de0",
   "metadata": {},
   "source": [
    "The following sources were inspiration or adaptations for the process implemented. The sources are:\n",
    "\n",
    "- Source 1: [Lemmatizer Implementation](https://www.machinelearningplus.com/nlp/lemmatization-examples-python/)\n",
    "- Source 2: [NLTK Untokenize](https://stackoverflow.com/questions/21948019/python-untokenize-a-sentence)\n",
    "- Source 3: [A Dash of Data Tutorials](https://www.youtube.com/watch?v=5BVebXXb2o4)\n",
    "- Source 4: [A Dash of Data GitHub](https://github.com/adashofdata/nlp-in-python-tutorial)\n",
    "- Source 5: [POS Tags](https://www.ling.upenn.edu/courses/Fall_2003/ling001/penn_treebank_pos.html)"
   ]
  },
  {
   "cell_type": "markdown",
   "id": "4d97e768",
   "metadata": {},
   "source": [
    "### Text Normalization and Pre-Processing"
   ]
  },
  {
   "cell_type": "markdown",
   "id": "a638c7cf",
   "metadata": {},
   "source": [
    "As an adaptation to Source 1's lemmatization process through NLTK's library, I first defined a function that performed POS tagging of the word in a review as either an adjective (J), noun (N), verb (V), or adverb (R). Wordnet's implementation of POS tagging is labeled using the Penn Treebank P.O.S. Tags (hyperlinked in \"Source 5\")."
   ]
  },
  {
   "cell_type": "markdown",
   "id": "8c7892bc",
   "metadata": {},
   "source": [
    "Throughout defining the lemmatization function, two different implementations were created. The first implementation conducted the POS tagging followed by lemmatizing only the words that were tagged with the \"allowed\" POS tags. However, this implementation would preserve all other words within the text if they were not tagged/lemmatized.\n",
    "\n",
    "The second implementation took a variation of the initial approach. Words that were POS tagged as J, N, V, or R, were lemmatized and only those POS words that were of the four word classes were extracted and all other words were discarded in the reviews texts.\n",
    "\n",
    "After many many hours, the above implementations were successfully applied. However, when taking the lemmatized review texts and applying logistic regression modeling in Part 3 of the Jupyter Notebooks, model performance metrics decreased in comparison to non-lemmatized texts. This indicated that the \"stringent\" lemmatization and restriction of using only the lemmatized words in downstream analysis resulted in undertraining of model performance relative to non-lemmatized reviews. \n",
    "\n",
    "A more optimal approach would be to continue the iterative text pre-processing approach and attempting lemmatization of a single word class and comparing model performances across different word class lemmatization combinations.\n",
    "\n",
    "For purposes of this capstone project and given the compressed timeline, the lemmatization of a third implementation, which will focus on lemmatizing only the verbs, will be used and evaluated. Non-POS tagged words will be retained in the review texts."
   ]
  },
  {
   "cell_type": "markdown",
   "id": "bef1236c",
   "metadata": {},
   "source": [
    "\n",
    "####  Verb Lemmatizer Only - Implementation"
   ]
  },
  {
   "cell_type": "markdown",
   "id": "1cc1356f",
   "metadata": {},
   "source": [
    "I will now define the function that will apply text normalization to only verbs."
   ]
  },
  {
   "cell_type": "code",
   "execution_count": 59,
   "id": "7f50ef2c",
   "metadata": {
    "ExecuteTime": {
     "end_time": "2022-05-22T20:46:19.203112Z",
     "start_time": "2022-05-22T20:46:19.189115Z"
    }
   },
   "outputs": [],
   "source": [
    "def clean_review_round_3(review_text, allowed_postags=[\"V\"]):\n",
    "       \n",
    "    \"\"\"\n",
    "    First, tokenize the review's text into individual \n",
    "    words/tokens. The tokens are then Part-of-Speech tagged and the \n",
    "    first letter of the tag is taken. A tag_dict is \n",
    "    created that only includes the allowed POS tag labels, which\n",
    "    in this case, are only verbs.\n",
    "    \n",
    "    If the word's POS tag matches with the tag_dict keys, \n",
    "    then it will output the letter that corresponds to the \n",
    "    POS that the lemmatizer function is familiar with. The lemmatizer\n",
    "    will then be applied to tokens that are verbs. All other tokens\n",
    "    will remain in its' original form.\n",
    "    \n",
    "    The lemmatized and non-lemmatized tokens will then be detokenized \n",
    "    and combined back into a single string/sentence. The result will be \n",
    "    outputted.\n",
    "    \n",
    "    Parameters\n",
    "    ----------\n",
    "    review_text : Array of review texts.\n",
    "    allowed_postags : Specified Part-Of-Speech tag to be labeled for lemmatizer function\n",
    "                      (default is \"V\" for verbs).\n",
    "\n",
    "    Returns\n",
    "    -------\n",
    "    review_text : Array of review texts with text normalization.\n",
    "\n",
    "    \"\"\"\n",
    "    \n",
    "    # Extract the first letter of the part-of-speech tag identified;\n",
    "    # only verbs (\"V\") will be used\n",
    "    \n",
    "    # Empty variable\n",
    "    tokens_lemmatized = []\n",
    "    \n",
    "    # Instantiate lemmatizer\n",
    "    lemmatizer = WordNetLemmatizer()\n",
    "    \n",
    "    # Tokenize review text\n",
    "    tokens = word_tokenize(review_text)\n",
    "\n",
    "    # For each token in the review text,\n",
    "    # retrieve the first letter of the POS\n",
    "    # tag, capitalize it, and compare it to\n",
    "    # the alloved postags, which in this case,\n",
    "    # is for verbs (\"V\") only\n",
    "    for token in tokens:\n",
    "    \n",
    "        tag = nltk.pos_tag([token])[0][1][0].upper()\n",
    "\n",
    "        if tag in allowed_postags:\n",
    "\n",
    "            tag_dict = {\"J\": wordnet.ADJ,\n",
    "                        \"N\": wordnet.NOUN,\n",
    "                        \"V\": wordnet.VERB,\n",
    "                        \"R\": wordnet.ADV}\n",
    "\n",
    "            word_net_pos = tag_dict.get(tag)\n",
    "\n",
    "            # Lemmatize the word with the appropriate tag inputted and then\n",
    "            # append it together to the preceding tokens processed\n",
    "            tokens_lemmatized.append(lemmatizer.lemmatize(token, word_net_pos))\n",
    "\n",
    "        else:\n",
    "\n",
    "            # No lemmatization if it is not a verb; append it together\n",
    "            # with the preceding tokens processed\n",
    "            tokens_lemmatized.append(token)\n",
    "    \n",
    "    # Return a single string be detokenizing the words/tokens\n",
    "    review_text = TreebankWordDetokenizer().detokenize(tokens_lemmatized)\n",
    "    \n",
    "    return review_text\n"
   ]
  },
  {
   "cell_type": "markdown",
   "id": "2c0db8a7",
   "metadata": {},
   "source": [
    "I will now create a copy of the `reviews_df_clean_2_en` (i.e., the English-only language reviews from Round 2) dataframe into a new variable `reviews_df_clean_3_en`, which represents the English-only language reviews dataframe that will go through the third round of pre-processing."
   ]
  },
  {
   "cell_type": "code",
   "execution_count": 60,
   "id": "d1e2c1b3",
   "metadata": {
    "ExecuteTime": {
     "end_time": "2022-05-22T20:46:19.235111Z",
     "start_time": "2022-05-22T20:46:19.205119Z"
    }
   },
   "outputs": [],
   "source": [
    "reviews_df_clean_3_en = reviews_df_clean_2_en.copy()"
   ]
  },
  {
   "cell_type": "markdown",
   "id": "6853920a",
   "metadata": {},
   "source": [
    "Take a quick glimpse of the first 5 rows prior to pre-processing the dataframe."
   ]
  },
  {
   "cell_type": "code",
   "execution_count": 61,
   "id": "a5c38f92",
   "metadata": {
    "ExecuteTime": {
     "end_time": "2022-05-22T20:46:19.251113Z",
     "start_time": "2022-05-22T20:46:19.238113Z"
    }
   },
   "outputs": [
    {
     "data": {
      "text/html": [
       "<div>\n",
       "<style scoped>\n",
       "    .dataframe tbody tr th:only-of-type {\n",
       "        vertical-align: middle;\n",
       "    }\n",
       "\n",
       "    .dataframe tbody tr th {\n",
       "        vertical-align: top;\n",
       "    }\n",
       "\n",
       "    .dataframe thead th {\n",
       "        text-align: right;\n",
       "    }\n",
       "</style>\n",
       "<table border=\"1\" class=\"dataframe\">\n",
       "  <thead>\n",
       "    <tr style=\"text-align: right;\">\n",
       "      <th></th>\n",
       "      <th>app_name</th>\n",
       "      <th>review_date</th>\n",
       "      <th>review_text</th>\n",
       "      <th>dev_reply_text</th>\n",
       "      <th>dev_reply_date</th>\n",
       "      <th>is_review_good</th>\n",
       "      <th>lang_iso</th>\n",
       "    </tr>\n",
       "  </thead>\n",
       "  <tbody>\n",
       "    <tr>\n",
       "      <th>0</th>\n",
       "      <td>Instant Search +</td>\n",
       "      <td>2020-08-06</td>\n",
       "      <td>great and super fast customer service highly c...</td>\n",
       "      <td>NaN</td>\n",
       "      <td>NaT</td>\n",
       "      <td>1</td>\n",
       "      <td>en</td>\n",
       "    </tr>\n",
       "    <tr>\n",
       "      <th>1</th>\n",
       "      <td>Instant Search +</td>\n",
       "      <td>2020-08-04</td>\n",
       "      <td>still setting up my store and after initially ...</td>\n",
       "      <td>NaN</td>\n",
       "      <td>NaT</td>\n",
       "      <td>1</td>\n",
       "      <td>en</td>\n",
       "    </tr>\n",
       "    <tr>\n",
       "      <th>2</th>\n",
       "      <td>Instant Search +</td>\n",
       "      <td>2020-08-04</td>\n",
       "      <td>this is an excellent search app which they hav...</td>\n",
       "      <td>NaN</td>\n",
       "      <td>NaT</td>\n",
       "      <td>1</td>\n",
       "      <td>en</td>\n",
       "    </tr>\n",
       "    <tr>\n",
       "      <th>3</th>\n",
       "      <td>Instant Search +</td>\n",
       "      <td>2020-07-30</td>\n",
       "      <td>a great great great customer service thanks to...</td>\n",
       "      <td>NaN</td>\n",
       "      <td>NaT</td>\n",
       "      <td>1</td>\n",
       "      <td>en</td>\n",
       "    </tr>\n",
       "    <tr>\n",
       "      <th>4</th>\n",
       "      <td>Instant Search +</td>\n",
       "      <td>2020-07-28</td>\n",
       "      <td>i am begginig to use this app the search engin...</td>\n",
       "      <td>NaN</td>\n",
       "      <td>NaT</td>\n",
       "      <td>1</td>\n",
       "      <td>en</td>\n",
       "    </tr>\n",
       "  </tbody>\n",
       "</table>\n",
       "</div>"
      ],
      "text/plain": [
       "           app_name review_date  \\\n",
       "0  Instant Search +  2020-08-06   \n",
       "1  Instant Search +  2020-08-04   \n",
       "2  Instant Search +  2020-08-04   \n",
       "3  Instant Search +  2020-07-30   \n",
       "4  Instant Search +  2020-07-28   \n",
       "\n",
       "                                         review_text dev_reply_text  \\\n",
       "0  great and super fast customer service highly c...            NaN   \n",
       "1  still setting up my store and after initially ...            NaN   \n",
       "2  this is an excellent search app which they hav...            NaN   \n",
       "3  a great great great customer service thanks to...            NaN   \n",
       "4  i am begginig to use this app the search engin...            NaN   \n",
       "\n",
       "  dev_reply_date  is_review_good lang_iso  \n",
       "0            NaT               1       en  \n",
       "1            NaT               1       en  \n",
       "2            NaT               1       en  \n",
       "3            NaT               1       en  \n",
       "4            NaT               1       en  "
      ]
     },
     "execution_count": 61,
     "metadata": {},
     "output_type": "execute_result"
    }
   ],
   "source": [
    "reviews_df_clean_3_en.head()"
   ]
  },
  {
   "cell_type": "code",
   "execution_count": 62,
   "id": "58aa78fb",
   "metadata": {
    "ExecuteTime": {
     "end_time": "2022-05-22T20:46:19.362645Z",
     "start_time": "2022-05-22T20:46:19.253112Z"
    }
   },
   "outputs": [
    {
     "name": "stdout",
     "output_type": "stream",
     "text": [
      "<class 'pandas.core.frame.DataFrame'>\n",
      "Int64Index: 427298 entries, 0 to 446972\n",
      "Data columns (total 7 columns):\n",
      " #   Column          Non-Null Count   Dtype         \n",
      "---  ------          --------------   -----         \n",
      " 0   app_name        427298 non-null  object        \n",
      " 1   review_date     427298 non-null  datetime64[ns]\n",
      " 2   review_text     427298 non-null  object        \n",
      " 3   dev_reply_text  45305 non-null   object        \n",
      " 4   dev_reply_date  45305 non-null   datetime64[ns]\n",
      " 5   is_review_good  427298 non-null  int32         \n",
      " 6   lang_iso        427298 non-null  object        \n",
      "dtypes: datetime64[ns](2), int32(1), object(4)\n",
      "memory usage: 40.6+ MB\n"
     ]
    }
   ],
   "source": [
    "reviews_df_clean_3_en.info()"
   ]
  },
  {
   "cell_type": "markdown",
   "id": "12486293",
   "metadata": {},
   "source": [
    "Apply text normalization to `reviews_df_clean_3_en`. This step takes $\\approx$ 3.5 hours to complete. As a result, the saved file is provided and can be loaded with the command outlined in the cells below."
   ]
  },
  {
   "cell_type": "code",
   "execution_count": 63,
   "id": "ad68b18a",
   "metadata": {
    "ExecuteTime": {
     "end_time": "2022-05-22T20:46:19.377780Z",
     "start_time": "2022-05-22T20:46:19.364209Z"
    }
   },
   "outputs": [],
   "source": [
    "# # Apply text normalization; takes a long run time. It is commented out and the resulting\n",
    "# # file is loaded in the cells below\n",
    "\n",
    "# reviews_df_clean_3_en['review_text'] = reviews_df_clean_3_en['review_text'].\\\n",
    "#                                        progress_apply(lambda x: clean_review_round_3(x))"
   ]
  },
  {
   "cell_type": "markdown",
   "id": "55b83959",
   "metadata": {},
   "source": [
    "#### Save Lemmatized English Language Reviews - Round 3"
   ]
  },
  {
   "cell_type": "markdown",
   "id": "5662f3e6",
   "metadata": {},
   "source": [
    "Save the results into a .pkl file. If it's commented out, the file has already been saved and it will be loaded in the cells below."
   ]
  },
  {
   "cell_type": "code",
   "execution_count": 64,
   "id": "fff92e37",
   "metadata": {
    "ExecuteTime": {
     "end_time": "2022-05-22T20:46:19.393905Z",
     "start_time": "2022-05-22T20:46:19.379781Z"
    }
   },
   "outputs": [],
   "source": [
    "# # Create a pickle file\n",
    "# reviews_df_clean_3_en.to_pickle(\"reviews_df_clean_3a_en_verb_only_lemmatized_part_2.pkl\")"
   ]
  },
  {
   "cell_type": "code",
   "execution_count": 65,
   "id": "ed1520c9",
   "metadata": {
    "ExecuteTime": {
     "end_time": "2022-05-22T20:46:19.711874Z",
     "start_time": "2022-05-22T20:46:19.395419Z"
    }
   },
   "outputs": [],
   "source": [
    "# Load the pickle file\n",
    "reviews_df_clean_3_en = pd.read_pickle('reviews_df_clean_3a_en_verb_only_lemmatized_part_2.pkl')"
   ]
  },
  {
   "cell_type": "markdown",
   "id": "2ed398f0",
   "metadata": {},
   "source": [
    "Take a quick glimpse of the first 5 rows of the processed dataframe."
   ]
  },
  {
   "cell_type": "code",
   "execution_count": 66,
   "id": "fb878b1a",
   "metadata": {
    "ExecuteTime": {
     "end_time": "2022-05-22T20:46:19.727244Z",
     "start_time": "2022-05-22T20:46:19.713372Z"
    },
    "scrolled": true
   },
   "outputs": [
    {
     "data": {
      "text/html": [
       "<div>\n",
       "<style scoped>\n",
       "    .dataframe tbody tr th:only-of-type {\n",
       "        vertical-align: middle;\n",
       "    }\n",
       "\n",
       "    .dataframe tbody tr th {\n",
       "        vertical-align: top;\n",
       "    }\n",
       "\n",
       "    .dataframe thead th {\n",
       "        text-align: right;\n",
       "    }\n",
       "</style>\n",
       "<table border=\"1\" class=\"dataframe\">\n",
       "  <thead>\n",
       "    <tr style=\"text-align: right;\">\n",
       "      <th></th>\n",
       "      <th>app_name</th>\n",
       "      <th>review_date</th>\n",
       "      <th>review_text</th>\n",
       "      <th>dev_reply_text</th>\n",
       "      <th>dev_reply_date</th>\n",
       "      <th>is_review_good</th>\n",
       "      <th>lang_iso</th>\n",
       "    </tr>\n",
       "  </thead>\n",
       "  <tbody>\n",
       "    <tr>\n",
       "      <th>0</th>\n",
       "      <td>Instant Search +</td>\n",
       "      <td>2020-08-06</td>\n",
       "      <td>great and super fast customer service highly c...</td>\n",
       "      <td>NaN</td>\n",
       "      <td>NaT</td>\n",
       "      <td>1</td>\n",
       "      <td>en</td>\n",
       "    </tr>\n",
       "    <tr>\n",
       "      <th>1</th>\n",
       "      <td>Instant Search +</td>\n",
       "      <td>2020-08-04</td>\n",
       "      <td>still set up my store and after initially pay ...</td>\n",
       "      <td>NaN</td>\n",
       "      <td>NaT</td>\n",
       "      <td>1</td>\n",
       "      <td>en</td>\n",
       "    </tr>\n",
       "    <tr>\n",
       "      <th>2</th>\n",
       "      <td>Instant Search +</td>\n",
       "      <td>2020-08-04</td>\n",
       "      <td>this be an excellent search app which they hav...</td>\n",
       "      <td>NaN</td>\n",
       "      <td>NaT</td>\n",
       "      <td>1</td>\n",
       "      <td>en</td>\n",
       "    </tr>\n",
       "    <tr>\n",
       "      <th>3</th>\n",
       "      <td>Instant Search +</td>\n",
       "      <td>2020-07-30</td>\n",
       "      <td>a great great great customer service thanks to...</td>\n",
       "      <td>NaN</td>\n",
       "      <td>NaT</td>\n",
       "      <td>1</td>\n",
       "      <td>en</td>\n",
       "    </tr>\n",
       "    <tr>\n",
       "      <th>4</th>\n",
       "      <td>Instant Search +</td>\n",
       "      <td>2020-07-28</td>\n",
       "      <td>i be begginig to use this app the search engin...</td>\n",
       "      <td>NaN</td>\n",
       "      <td>NaT</td>\n",
       "      <td>1</td>\n",
       "      <td>en</td>\n",
       "    </tr>\n",
       "  </tbody>\n",
       "</table>\n",
       "</div>"
      ],
      "text/plain": [
       "           app_name review_date  \\\n",
       "0  Instant Search +  2020-08-06   \n",
       "1  Instant Search +  2020-08-04   \n",
       "2  Instant Search +  2020-08-04   \n",
       "3  Instant Search +  2020-07-30   \n",
       "4  Instant Search +  2020-07-28   \n",
       "\n",
       "                                         review_text dev_reply_text  \\\n",
       "0  great and super fast customer service highly c...            NaN   \n",
       "1  still set up my store and after initially pay ...            NaN   \n",
       "2  this be an excellent search app which they hav...            NaN   \n",
       "3  a great great great customer service thanks to...            NaN   \n",
       "4  i be begginig to use this app the search engin...            NaN   \n",
       "\n",
       "  dev_reply_date  is_review_good lang_iso  \n",
       "0            NaT               1       en  \n",
       "1            NaT               1       en  \n",
       "2            NaT               1       en  \n",
       "3            NaT               1       en  \n",
       "4            NaT               1       en  "
      ]
     },
     "execution_count": 66,
     "metadata": {},
     "output_type": "execute_result"
    }
   ],
   "source": [
    "reviews_df_clean_3_en.head()"
   ]
  },
  {
   "cell_type": "code",
   "execution_count": 67,
   "id": "347038f8",
   "metadata": {
    "ExecuteTime": {
     "end_time": "2022-05-22T20:46:19.820324Z",
     "start_time": "2022-05-22T20:46:19.729248Z"
    }
   },
   "outputs": [
    {
     "name": "stdout",
     "output_type": "stream",
     "text": [
      "<class 'pandas.core.frame.DataFrame'>\n",
      "Int64Index: 427298 entries, 0 to 446972\n",
      "Data columns (total 7 columns):\n",
      " #   Column          Non-Null Count   Dtype         \n",
      "---  ------          --------------   -----         \n",
      " 0   app_name        427298 non-null  object        \n",
      " 1   review_date     427298 non-null  datetime64[ns]\n",
      " 2   review_text     427298 non-null  object        \n",
      " 3   dev_reply_text  45305 non-null   object        \n",
      " 4   dev_reply_date  45305 non-null   datetime64[ns]\n",
      " 5   is_review_good  427298 non-null  int32         \n",
      " 6   lang_iso        427298 non-null  object        \n",
      "dtypes: datetime64[ns](2), int32(1), object(4)\n",
      "memory usage: 24.5+ MB\n"
     ]
    }
   ],
   "source": [
    "reviews_df_clean_3_en.info()"
   ]
  },
  {
   "cell_type": "markdown",
   "id": "bbc6ea56",
   "metadata": {},
   "source": [
    "#### What is the size of the vocabulary for English-only reviews after round 3 of text pre-processing?"
   ]
  },
  {
   "cell_type": "code",
   "execution_count": 68,
   "id": "145a2bbf",
   "metadata": {
    "ExecuteTime": {
     "end_time": "2022-05-22T20:46:30.584970Z",
     "start_time": "2022-05-22T20:46:19.821883Z"
    }
   },
   "outputs": [],
   "source": [
    "# Instantiate Countvectorizer with ngrams = 1\n",
    "cv_round_3 = CountVectorizer()\n",
    "\n",
    "# Fit and transform the review text column\n",
    "cv_round_3_results = cv_round_3.fit_transform(reviews_df_clean_3_en['review_text'])"
   ]
  },
  {
   "cell_type": "code",
   "execution_count": 69,
   "id": "0080dcc8",
   "metadata": {
    "ExecuteTime": {
     "end_time": "2022-05-22T20:46:30.600964Z",
     "start_time": "2022-05-22T20:46:30.586950Z"
    }
   },
   "outputs": [
    {
     "data": {
      "text/plain": [
       "<427298x77362 sparse matrix of type '<class 'numpy.int64'>'\n",
       "\twith 10578192 stored elements in Compressed Sparse Row format>"
      ]
     },
     "execution_count": 69,
     "metadata": {},
     "output_type": "execute_result"
    }
   ],
   "source": [
    "cv_round_3_results"
   ]
  },
  {
   "cell_type": "markdown",
   "id": "bbd30199",
   "metadata": {},
   "source": [
    "After 3 rounds of text pre-processing, the final vocabulary size is 77,362. This is a large decrease from the vocabulary size observed after 2 rounds of text pre-processing (i.e., 81,035)."
   ]
  },
  {
   "cell_type": "markdown",
   "id": "1e99a106",
   "metadata": {},
   "source": [
    "## Multi-language Reviews"
   ]
  },
  {
   "cell_type": "markdown",
   "id": "511044ce",
   "metadata": {},
   "source": [
    "I will take the post-processed `reviews_df_clean_2` and drop all the rows with `en` in the column of `lang_iso`, leaving us with a new dataframe called `reviews_df_clean_2_multi_lingual` with only the multi-lingual reviews."
   ]
  },
  {
   "cell_type": "code",
   "execution_count": 70,
   "id": "dc0cfcd9",
   "metadata": {
    "ExecuteTime": {
     "end_time": "2022-05-22T20:46:30.696006Z",
     "start_time": "2022-05-22T20:46:30.602954Z"
    },
    "scrolled": true
   },
   "outputs": [],
   "source": [
    "# Create an index of all the english language reviews\n",
    "index = reviews_df_clean_2[reviews_df_clean_2['lang_iso'] == 'en'].index"
   ]
  },
  {
   "cell_type": "code",
   "execution_count": 71,
   "id": "d6ecfe54",
   "metadata": {
    "ExecuteTime": {
     "end_time": "2022-05-22T20:46:30.807988Z",
     "start_time": "2022-05-22T20:46:30.696999Z"
    }
   },
   "outputs": [],
   "source": [
    "# Create new variable with only multi-language reviews\n",
    "# Reset the index\n",
    "reviews_df_clean_2_multi_lingual = reviews_df_clean_2.drop(index).reset_index(drop = True)"
   ]
  },
  {
   "cell_type": "markdown",
   "id": "ca0756c7",
   "metadata": {},
   "source": [
    "Take quick glimpse of the first 5 rows of the dataframe."
   ]
  },
  {
   "cell_type": "code",
   "execution_count": 72,
   "id": "635a68ae",
   "metadata": {
    "ExecuteTime": {
     "end_time": "2022-05-22T20:46:30.839787Z",
     "start_time": "2022-05-22T20:46:30.809790Z"
    }
   },
   "outputs": [
    {
     "data": {
      "text/html": [
       "<div>\n",
       "<style scoped>\n",
       "    .dataframe tbody tr th:only-of-type {\n",
       "        vertical-align: middle;\n",
       "    }\n",
       "\n",
       "    .dataframe tbody tr th {\n",
       "        vertical-align: top;\n",
       "    }\n",
       "\n",
       "    .dataframe thead th {\n",
       "        text-align: right;\n",
       "    }\n",
       "</style>\n",
       "<table border=\"1\" class=\"dataframe\">\n",
       "  <thead>\n",
       "    <tr style=\"text-align: right;\">\n",
       "      <th></th>\n",
       "      <th>app_name</th>\n",
       "      <th>review_date</th>\n",
       "      <th>review_text</th>\n",
       "      <th>dev_reply_text</th>\n",
       "      <th>dev_reply_date</th>\n",
       "      <th>is_review_good</th>\n",
       "      <th>lang_iso</th>\n",
       "    </tr>\n",
       "  </thead>\n",
       "  <tbody>\n",
       "    <tr>\n",
       "      <th>0</th>\n",
       "      <td>Instant Search +</td>\n",
       "      <td>2017-01-19</td>\n",
       "      <td>bonne idée cette application intéressante nhés...</td>\n",
       "      <td>NaN</td>\n",
       "      <td>NaT</td>\n",
       "      <td>1</td>\n",
       "      <td>fr</td>\n",
       "    </tr>\n",
       "    <tr>\n",
       "      <th>1</th>\n",
       "      <td>Instant Search +</td>\n",
       "      <td>2016-07-25</td>\n",
       "      <td>pt por hora estou apaixonada pelo app acabei d...</td>\n",
       "      <td>NaN</td>\n",
       "      <td>NaT</td>\n",
       "      <td>1</td>\n",
       "      <td>pt</td>\n",
       "    </tr>\n",
       "    <tr>\n",
       "      <th>2</th>\n",
       "      <td>Sticky Add To Cart BOOSTER PRO</td>\n",
       "      <td>2020-06-27</td>\n",
       "      <td>excelente aplicación doy cinco estrellas por e...</td>\n",
       "      <td>NaN</td>\n",
       "      <td>NaT</td>\n",
       "      <td>1</td>\n",
       "      <td>es</td>\n",
       "    </tr>\n",
       "    <tr>\n",
       "      <th>3</th>\n",
       "      <td>Sticky Add To Cart BOOSTER PRO</td>\n",
       "      <td>2020-06-13</td>\n",
       "      <td>ich finde die app wirklich mega hat wirklich d...</td>\n",
       "      <td>NaN</td>\n",
       "      <td>NaT</td>\n",
       "      <td>1</td>\n",
       "      <td>de</td>\n",
       "    </tr>\n",
       "    <tr>\n",
       "      <th>4</th>\n",
       "      <td>Sticky Add To Cart BOOSTER PRO</td>\n",
       "      <td>2020-05-21</td>\n",
       "      <td>ainda testando mas era realmente o que eu esta...</td>\n",
       "      <td>NaN</td>\n",
       "      <td>NaT</td>\n",
       "      <td>1</td>\n",
       "      <td>pt</td>\n",
       "    </tr>\n",
       "    <tr>\n",
       "      <th>...</th>\n",
       "      <td>...</td>\n",
       "      <td>...</td>\n",
       "      <td>...</td>\n",
       "      <td>...</td>\n",
       "      <td>...</td>\n",
       "      <td>...</td>\n",
       "      <td>...</td>\n",
       "    </tr>\n",
       "    <tr>\n",
       "      <th>19335</th>\n",
       "      <td>Best Custom Product Options</td>\n",
       "      <td>2020-08-26</td>\n",
       "      <td>en cours de résolution je modifierais la note ...</td>\n",
       "      <td>Sorry we are located in California and were sl...</td>\n",
       "      <td>2020-08-26</td>\n",
       "      <td>0</td>\n",
       "      <td>fr</td>\n",
       "    </tr>\n",
       "    <tr>\n",
       "      <th>19336</th>\n",
       "      <td>Best Custom Product Options</td>\n",
       "      <td>2020-04-09</td>\n",
       "      <td>super application intuitive et pratique si bes...</td>\n",
       "      <td>NaN</td>\n",
       "      <td>NaT</td>\n",
       "      <td>1</td>\n",
       "      <td>fr</td>\n",
       "    </tr>\n",
       "    <tr>\n",
       "      <th>19337</th>\n",
       "      <td>Best Custom Product Options</td>\n",
       "      <td>2019-03-10</td>\n",
       "      <td>la mejor aplicación que e instalado me a ayuda...</td>\n",
       "      <td>NaN</td>\n",
       "      <td>NaT</td>\n",
       "      <td>1</td>\n",
       "      <td>es</td>\n",
       "    </tr>\n",
       "    <tr>\n",
       "      <th>19338</th>\n",
       "      <td>Best Custom Product Options</td>\n",
       "      <td>2019-02-13</td>\n",
       "      <td>la app es muy buena y da una mejor experiencia...</td>\n",
       "      <td>NaN</td>\n",
       "      <td>NaT</td>\n",
       "      <td>1</td>\n",
       "      <td>es</td>\n",
       "    </tr>\n",
       "    <tr>\n",
       "      <th>19339</th>\n",
       "      <td>COD Order Confirmation</td>\n",
       "      <td>2019-02-24</td>\n",
       "      <td>dfghjklmdfhj dfghjklm sdjklm dhjkl ertyuiop er...</td>\n",
       "      <td>NaN</td>\n",
       "      <td>NaT</td>\n",
       "      <td>1</td>\n",
       "      <td>sv</td>\n",
       "    </tr>\n",
       "  </tbody>\n",
       "</table>\n",
       "<p>19340 rows × 7 columns</p>\n",
       "</div>"
      ],
      "text/plain": [
       "                             app_name review_date  \\\n",
       "0                    Instant Search +  2017-01-19   \n",
       "1                    Instant Search +  2016-07-25   \n",
       "2      Sticky Add To Cart BOOSTER PRO  2020-06-27   \n",
       "3      Sticky Add To Cart BOOSTER PRO  2020-06-13   \n",
       "4      Sticky Add To Cart BOOSTER PRO  2020-05-21   \n",
       "...                               ...         ...   \n",
       "19335     Best Custom Product Options  2020-08-26   \n",
       "19336     Best Custom Product Options  2020-04-09   \n",
       "19337     Best Custom Product Options  2019-03-10   \n",
       "19338     Best Custom Product Options  2019-02-13   \n",
       "19339          COD Order Confirmation  2019-02-24   \n",
       "\n",
       "                                             review_text  \\\n",
       "0      bonne idée cette application intéressante nhés...   \n",
       "1      pt por hora estou apaixonada pelo app acabei d...   \n",
       "2      excelente aplicación doy cinco estrellas por e...   \n",
       "3      ich finde die app wirklich mega hat wirklich d...   \n",
       "4      ainda testando mas era realmente o que eu esta...   \n",
       "...                                                  ...   \n",
       "19335  en cours de résolution je modifierais la note ...   \n",
       "19336  super application intuitive et pratique si bes...   \n",
       "19337  la mejor aplicación que e instalado me a ayuda...   \n",
       "19338  la app es muy buena y da una mejor experiencia...   \n",
       "19339  dfghjklmdfhj dfghjklm sdjklm dhjkl ertyuiop er...   \n",
       "\n",
       "                                          dev_reply_text dev_reply_date  \\\n",
       "0                                                    NaN            NaT   \n",
       "1                                                    NaN            NaT   \n",
       "2                                                    NaN            NaT   \n",
       "3                                                    NaN            NaT   \n",
       "4                                                    NaN            NaT   \n",
       "...                                                  ...            ...   \n",
       "19335  Sorry we are located in California and were sl...     2020-08-26   \n",
       "19336                                                NaN            NaT   \n",
       "19337                                                NaN            NaT   \n",
       "19338                                                NaN            NaT   \n",
       "19339                                                NaN            NaT   \n",
       "\n",
       "       is_review_good lang_iso  \n",
       "0                   1       fr  \n",
       "1                   1       pt  \n",
       "2                   1       es  \n",
       "3                   1       de  \n",
       "4                   1       pt  \n",
       "...               ...      ...  \n",
       "19335               0       fr  \n",
       "19336               1       fr  \n",
       "19337               1       es  \n",
       "19338               1       es  \n",
       "19339               1       sv  \n",
       "\n",
       "[19340 rows x 7 columns]"
      ]
     },
     "execution_count": 72,
     "metadata": {},
     "output_type": "execute_result"
    }
   ],
   "source": [
    "reviews_df_clean_2_multi_lingual"
   ]
  },
  {
   "cell_type": "markdown",
   "id": "719fa49e",
   "metadata": {},
   "source": [
    "A brief look at the review texts reveals that they are reviews written in a different language. However, there can also be reviews written with multiple languages, with an example shown below."
   ]
  },
  {
   "cell_type": "code",
   "execution_count": 73,
   "id": "9a00059a",
   "metadata": {
    "ExecuteTime": {
     "end_time": "2022-05-22T20:46:30.855790Z",
     "start_time": "2022-05-22T20:46:30.841800Z"
    }
   },
   "outputs": [
    {
     "data": {
      "text/plain": [
       "'thank you so much i love it i recommand it je ne parle pas très bien anglais donc je continue en francais'"
      ]
     },
     "execution_count": 73,
     "metadata": {},
     "output_type": "execute_result"
    }
   ],
   "source": [
    "reviews_df_clean_2_multi_lingual.loc[33, 'review_text']"
   ]
  },
  {
   "cell_type": "markdown",
   "id": "16e05429",
   "metadata": {},
   "source": [
    "It can be observed that this example review contains English and French. However, it was labeled an ISO language code of `fr` for `French` by the pre-trained model. Although that is partially correct, we see a limitation to this entire process. The language detection model is unable to distinguish multiple languages in a single review. This limitation can be further examined and investigated by using another library that enables [multi-language segmentation](https://towardsdatascience.com/4-python-libraries-to-detect-english-and-non-english-language-c82ad3efd430) (i.e., Pycld2 library) for a set of texts. For now, this is an acknowledgement of the limitation."
   ]
  },
  {
   "cell_type": "markdown",
   "id": "ded68205",
   "metadata": {},
   "source": [
    "### Extract List of Language ISO Codes and Corresponding Language Label"
   ]
  },
  {
   "cell_type": "markdown",
   "id": "6342b34e",
   "metadata": {},
   "source": [
    "In order to take the ISO language codes into an interpretable language label, ISO language codes from [datahub](https://datahub.io/core/language-codes#data) were downloaded and utilized. Two different files are loaded to account for the 2 character ISO codes and 3 character ISO codes."
   ]
  },
  {
   "cell_type": "markdown",
   "id": "07b2c546",
   "metadata": {},
   "source": [
    "Load the 2 character ISO codes file."
   ]
  },
  {
   "cell_type": "code",
   "execution_count": 74,
   "id": "ff1abe5c",
   "metadata": {
    "ExecuteTime": {
     "end_time": "2022-05-22T20:46:30.886791Z",
     "start_time": "2022-05-22T20:46:30.857791Z"
    }
   },
   "outputs": [],
   "source": [
    "lang_iso_codes = pd.read_csv('language-codes.csv')"
   ]
  },
  {
   "cell_type": "markdown",
   "id": "b1baee8d",
   "metadata": {},
   "source": [
    "Take a quick glimpse of the top and bottom 5 rows of the file."
   ]
  },
  {
   "cell_type": "code",
   "execution_count": 75,
   "id": "aa0c917f",
   "metadata": {
    "ExecuteTime": {
     "end_time": "2022-05-22T20:46:30.901791Z",
     "start_time": "2022-05-22T20:46:30.888791Z"
    }
   },
   "outputs": [
    {
     "data": {
      "text/html": [
       "<div>\n",
       "<style scoped>\n",
       "    .dataframe tbody tr th:only-of-type {\n",
       "        vertical-align: middle;\n",
       "    }\n",
       "\n",
       "    .dataframe tbody tr th {\n",
       "        vertical-align: top;\n",
       "    }\n",
       "\n",
       "    .dataframe thead th {\n",
       "        text-align: right;\n",
       "    }\n",
       "</style>\n",
       "<table border=\"1\" class=\"dataframe\">\n",
       "  <thead>\n",
       "    <tr style=\"text-align: right;\">\n",
       "      <th></th>\n",
       "      <th>alpha2</th>\n",
       "      <th>English</th>\n",
       "    </tr>\n",
       "  </thead>\n",
       "  <tbody>\n",
       "    <tr>\n",
       "      <th>0</th>\n",
       "      <td>aa</td>\n",
       "      <td>Afar</td>\n",
       "    </tr>\n",
       "    <tr>\n",
       "      <th>1</th>\n",
       "      <td>ab</td>\n",
       "      <td>Abkhazian</td>\n",
       "    </tr>\n",
       "    <tr>\n",
       "      <th>2</th>\n",
       "      <td>ae</td>\n",
       "      <td>Avestan</td>\n",
       "    </tr>\n",
       "    <tr>\n",
       "      <th>3</th>\n",
       "      <td>af</td>\n",
       "      <td>Afrikaans</td>\n",
       "    </tr>\n",
       "    <tr>\n",
       "      <th>4</th>\n",
       "      <td>ak</td>\n",
       "      <td>Akan</td>\n",
       "    </tr>\n",
       "    <tr>\n",
       "      <th>...</th>\n",
       "      <td>...</td>\n",
       "      <td>...</td>\n",
       "    </tr>\n",
       "    <tr>\n",
       "      <th>180</th>\n",
       "      <td>yo</td>\n",
       "      <td>Yoruba</td>\n",
       "    </tr>\n",
       "    <tr>\n",
       "      <th>181</th>\n",
       "      <td>za</td>\n",
       "      <td>Zhuang; Chuang</td>\n",
       "    </tr>\n",
       "    <tr>\n",
       "      <th>182</th>\n",
       "      <td>zh</td>\n",
       "      <td>Chinese</td>\n",
       "    </tr>\n",
       "    <tr>\n",
       "      <th>183</th>\n",
       "      <td>zu</td>\n",
       "      <td>Zulu</td>\n",
       "    </tr>\n",
       "    <tr>\n",
       "      <th>184</th>\n",
       "      <td>sh</td>\n",
       "      <td>Serbo-croatia</td>\n",
       "    </tr>\n",
       "  </tbody>\n",
       "</table>\n",
       "<p>185 rows × 2 columns</p>\n",
       "</div>"
      ],
      "text/plain": [
       "    alpha2         English\n",
       "0       aa            Afar\n",
       "1       ab       Abkhazian\n",
       "2       ae         Avestan\n",
       "3       af       Afrikaans\n",
       "4       ak            Akan\n",
       "..     ...             ...\n",
       "180     yo          Yoruba\n",
       "181     za  Zhuang; Chuang\n",
       "182     zh         Chinese\n",
       "183     zu            Zulu\n",
       "184     sh   Serbo-croatia\n",
       "\n",
       "[185 rows x 2 columns]"
      ]
     },
     "execution_count": 75,
     "metadata": {},
     "output_type": "execute_result"
    }
   ],
   "source": [
    "lang_iso_codes"
   ]
  },
  {
   "cell_type": "markdown",
   "id": "25aaef33",
   "metadata": {
    "ExecuteTime": {
     "end_time": "2022-04-02T15:58:04.439086Z",
     "start_time": "2022-04-02T15:58:04.431089Z"
    }
   },
   "source": [
    "Load the 3 chracter ISO codes file."
   ]
  },
  {
   "cell_type": "code",
   "execution_count": 76,
   "id": "283d581f",
   "metadata": {
    "ExecuteTime": {
     "end_time": "2022-05-22T20:46:30.917789Z",
     "start_time": "2022-05-22T20:46:30.903790Z"
    }
   },
   "outputs": [],
   "source": [
    "lang_iso_codes_full = pd.read_csv('language-codes-full.csv')"
   ]
  },
  {
   "cell_type": "markdown",
   "id": "9ce80fc7",
   "metadata": {},
   "source": [
    "Take a quick glimpse of the top and bottom 5 rows of the file. For the purposes of this notebook, only `alpha3-b` and `English` columns are used."
   ]
  },
  {
   "cell_type": "code",
   "execution_count": 77,
   "id": "3ab84356",
   "metadata": {
    "ExecuteTime": {
     "end_time": "2022-05-22T20:46:30.932790Z",
     "start_time": "2022-05-22T20:46:30.918790Z"
    }
   },
   "outputs": [
    {
     "data": {
      "text/html": [
       "<div>\n",
       "<style scoped>\n",
       "    .dataframe tbody tr th:only-of-type {\n",
       "        vertical-align: middle;\n",
       "    }\n",
       "\n",
       "    .dataframe tbody tr th {\n",
       "        vertical-align: top;\n",
       "    }\n",
       "\n",
       "    .dataframe thead th {\n",
       "        text-align: right;\n",
       "    }\n",
       "</style>\n",
       "<table border=\"1\" class=\"dataframe\">\n",
       "  <thead>\n",
       "    <tr style=\"text-align: right;\">\n",
       "      <th></th>\n",
       "      <th>alpha3-b</th>\n",
       "      <th>alpha3-t</th>\n",
       "      <th>alpha2</th>\n",
       "      <th>English</th>\n",
       "      <th>French</th>\n",
       "    </tr>\n",
       "  </thead>\n",
       "  <tbody>\n",
       "    <tr>\n",
       "      <th>0</th>\n",
       "      <td>aar</td>\n",
       "      <td>NaN</td>\n",
       "      <td>aa</td>\n",
       "      <td>Afar</td>\n",
       "      <td>afar</td>\n",
       "    </tr>\n",
       "    <tr>\n",
       "      <th>1</th>\n",
       "      <td>abk</td>\n",
       "      <td>NaN</td>\n",
       "      <td>ab</td>\n",
       "      <td>Abkhazian</td>\n",
       "      <td>abkhaze</td>\n",
       "    </tr>\n",
       "    <tr>\n",
       "      <th>2</th>\n",
       "      <td>ace</td>\n",
       "      <td>NaN</td>\n",
       "      <td>NaN</td>\n",
       "      <td>Achinese</td>\n",
       "      <td>aceh</td>\n",
       "    </tr>\n",
       "    <tr>\n",
       "      <th>3</th>\n",
       "      <td>ach</td>\n",
       "      <td>NaN</td>\n",
       "      <td>NaN</td>\n",
       "      <td>Acoli</td>\n",
       "      <td>acoli</td>\n",
       "    </tr>\n",
       "    <tr>\n",
       "      <th>4</th>\n",
       "      <td>ada</td>\n",
       "      <td>NaN</td>\n",
       "      <td>NaN</td>\n",
       "      <td>Adangme</td>\n",
       "      <td>adangme</td>\n",
       "    </tr>\n",
       "  </tbody>\n",
       "</table>\n",
       "</div>"
      ],
      "text/plain": [
       "  alpha3-b alpha3-t alpha2    English   French\n",
       "0      aar      NaN     aa       Afar     afar\n",
       "1      abk      NaN     ab  Abkhazian  abkhaze\n",
       "2      ace      NaN    NaN   Achinese     aceh\n",
       "3      ach      NaN    NaN      Acoli    acoli\n",
       "4      ada      NaN    NaN    Adangme  adangme"
      ]
     },
     "execution_count": 77,
     "metadata": {},
     "output_type": "execute_result"
    }
   ],
   "source": [
    "lang_iso_codes_full.head()"
   ]
  },
  {
   "cell_type": "code",
   "execution_count": 78,
   "id": "d2df67e6",
   "metadata": {
    "ExecuteTime": {
     "end_time": "2022-05-22T20:46:30.948790Z",
     "start_time": "2022-05-22T20:46:30.933790Z"
    }
   },
   "outputs": [],
   "source": [
    "lang_iso_codes_full = lang_iso_codes_full.drop(columns = ['alpha3-t', 'alpha2', 'French'])"
   ]
  },
  {
   "cell_type": "code",
   "execution_count": 79,
   "id": "5399fbcc",
   "metadata": {
    "ExecuteTime": {
     "end_time": "2022-05-22T20:46:30.964791Z",
     "start_time": "2022-05-22T20:46:30.950791Z"
    }
   },
   "outputs": [
    {
     "data": {
      "text/html": [
       "<div>\n",
       "<style scoped>\n",
       "    .dataframe tbody tr th:only-of-type {\n",
       "        vertical-align: middle;\n",
       "    }\n",
       "\n",
       "    .dataframe tbody tr th {\n",
       "        vertical-align: top;\n",
       "    }\n",
       "\n",
       "    .dataframe thead th {\n",
       "        text-align: right;\n",
       "    }\n",
       "</style>\n",
       "<table border=\"1\" class=\"dataframe\">\n",
       "  <thead>\n",
       "    <tr style=\"text-align: right;\">\n",
       "      <th></th>\n",
       "      <th>alpha3-b</th>\n",
       "      <th>English</th>\n",
       "    </tr>\n",
       "  </thead>\n",
       "  <tbody>\n",
       "    <tr>\n",
       "      <th>0</th>\n",
       "      <td>aar</td>\n",
       "      <td>Afar</td>\n",
       "    </tr>\n",
       "    <tr>\n",
       "      <th>1</th>\n",
       "      <td>abk</td>\n",
       "      <td>Abkhazian</td>\n",
       "    </tr>\n",
       "    <tr>\n",
       "      <th>2</th>\n",
       "      <td>ace</td>\n",
       "      <td>Achinese</td>\n",
       "    </tr>\n",
       "    <tr>\n",
       "      <th>3</th>\n",
       "      <td>ach</td>\n",
       "      <td>Acoli</td>\n",
       "    </tr>\n",
       "    <tr>\n",
       "      <th>4</th>\n",
       "      <td>ada</td>\n",
       "      <td>Adangme</td>\n",
       "    </tr>\n",
       "    <tr>\n",
       "      <th>...</th>\n",
       "      <td>...</td>\n",
       "      <td>...</td>\n",
       "    </tr>\n",
       "    <tr>\n",
       "      <th>489</th>\n",
       "      <td>eml</td>\n",
       "      <td>Emilian-Romagnol</td>\n",
       "    </tr>\n",
       "    <tr>\n",
       "      <th>490</th>\n",
       "      <td>als</td>\n",
       "      <td>Tosk Albanian</td>\n",
       "    </tr>\n",
       "    <tr>\n",
       "      <th>491</th>\n",
       "      <td>pfl</td>\n",
       "      <td>Pfaelzisch</td>\n",
       "    </tr>\n",
       "    <tr>\n",
       "      <th>492</th>\n",
       "      <td>pnb</td>\n",
       "      <td>Western Panjabi</td>\n",
       "    </tr>\n",
       "    <tr>\n",
       "      <th>493</th>\n",
       "      <td>azb</td>\n",
       "      <td>South Azerbaijani</td>\n",
       "    </tr>\n",
       "  </tbody>\n",
       "</table>\n",
       "<p>494 rows × 2 columns</p>\n",
       "</div>"
      ],
      "text/plain": [
       "    alpha3-b            English\n",
       "0        aar               Afar\n",
       "1        abk          Abkhazian\n",
       "2        ace           Achinese\n",
       "3        ach              Acoli\n",
       "4        ada            Adangme\n",
       "..       ...                ...\n",
       "489      eml   Emilian-Romagnol\n",
       "490      als      Tosk Albanian\n",
       "491      pfl         Pfaelzisch\n",
       "492      pnb    Western Panjabi\n",
       "493      azb  South Azerbaijani\n",
       "\n",
       "[494 rows x 2 columns]"
      ]
     },
     "execution_count": 79,
     "metadata": {},
     "output_type": "execute_result"
    }
   ],
   "source": [
    "lang_iso_codes_full"
   ]
  },
  {
   "cell_type": "markdown",
   "id": "c0b13c22",
   "metadata": {},
   "source": [
    "### Compile Readable Language Label for Multi-language Reviews"
   ]
  },
  {
   "cell_type": "markdown",
   "id": "5aba0ea4",
   "metadata": {},
   "source": [
    "Take the `reviews_df_clean_2_multi_lingual` with its indices already reset, for additional analysis."
   ]
  },
  {
   "cell_type": "code",
   "execution_count": 80,
   "id": "85e5b238",
   "metadata": {
    "ExecuteTime": {
     "end_time": "2022-05-22T20:46:30.980788Z",
     "start_time": "2022-05-22T20:46:30.965792Z"
    }
   },
   "outputs": [
    {
     "name": "stdout",
     "output_type": "stream",
     "text": [
      "The multi-lingual dataframe shape we are working with has 19340 rows and 7 columns\n"
     ]
    }
   ],
   "source": [
    "# Shape of the multi-lingual dataframe\n",
    "[nrows_new, ncols_new] = reviews_df_clean_2_multi_lingual.shape\n",
    "print(f\"The multi-lingual dataframe shape we are working with has {nrows_new} rows and {ncols_new} columns\")"
   ]
  },
  {
   "cell_type": "markdown",
   "id": "69e1230f",
   "metadata": {},
   "source": [
    "Take a glimpse at the top and bottom 5 rows again to make sure the index was reset."
   ]
  },
  {
   "cell_type": "code",
   "execution_count": 81,
   "id": "42c86342",
   "metadata": {
    "ExecuteTime": {
     "end_time": "2022-05-22T20:46:30.996789Z",
     "start_time": "2022-05-22T20:46:30.981792Z"
    }
   },
   "outputs": [
    {
     "data": {
      "text/html": [
       "<div>\n",
       "<style scoped>\n",
       "    .dataframe tbody tr th:only-of-type {\n",
       "        vertical-align: middle;\n",
       "    }\n",
       "\n",
       "    .dataframe tbody tr th {\n",
       "        vertical-align: top;\n",
       "    }\n",
       "\n",
       "    .dataframe thead th {\n",
       "        text-align: right;\n",
       "    }\n",
       "</style>\n",
       "<table border=\"1\" class=\"dataframe\">\n",
       "  <thead>\n",
       "    <tr style=\"text-align: right;\">\n",
       "      <th></th>\n",
       "      <th>app_name</th>\n",
       "      <th>review_date</th>\n",
       "      <th>review_text</th>\n",
       "      <th>dev_reply_text</th>\n",
       "      <th>dev_reply_date</th>\n",
       "      <th>is_review_good</th>\n",
       "      <th>lang_iso</th>\n",
       "    </tr>\n",
       "  </thead>\n",
       "  <tbody>\n",
       "    <tr>\n",
       "      <th>0</th>\n",
       "      <td>Instant Search +</td>\n",
       "      <td>2017-01-19</td>\n",
       "      <td>bonne idée cette application intéressante nhés...</td>\n",
       "      <td>NaN</td>\n",
       "      <td>NaT</td>\n",
       "      <td>1</td>\n",
       "      <td>fr</td>\n",
       "    </tr>\n",
       "    <tr>\n",
       "      <th>1</th>\n",
       "      <td>Instant Search +</td>\n",
       "      <td>2016-07-25</td>\n",
       "      <td>pt por hora estou apaixonada pelo app acabei d...</td>\n",
       "      <td>NaN</td>\n",
       "      <td>NaT</td>\n",
       "      <td>1</td>\n",
       "      <td>pt</td>\n",
       "    </tr>\n",
       "    <tr>\n",
       "      <th>2</th>\n",
       "      <td>Sticky Add To Cart BOOSTER PRO</td>\n",
       "      <td>2020-06-27</td>\n",
       "      <td>excelente aplicación doy cinco estrellas por e...</td>\n",
       "      <td>NaN</td>\n",
       "      <td>NaT</td>\n",
       "      <td>1</td>\n",
       "      <td>es</td>\n",
       "    </tr>\n",
       "    <tr>\n",
       "      <th>3</th>\n",
       "      <td>Sticky Add To Cart BOOSTER PRO</td>\n",
       "      <td>2020-06-13</td>\n",
       "      <td>ich finde die app wirklich mega hat wirklich d...</td>\n",
       "      <td>NaN</td>\n",
       "      <td>NaT</td>\n",
       "      <td>1</td>\n",
       "      <td>de</td>\n",
       "    </tr>\n",
       "    <tr>\n",
       "      <th>4</th>\n",
       "      <td>Sticky Add To Cart BOOSTER PRO</td>\n",
       "      <td>2020-05-21</td>\n",
       "      <td>ainda testando mas era realmente o que eu esta...</td>\n",
       "      <td>NaN</td>\n",
       "      <td>NaT</td>\n",
       "      <td>1</td>\n",
       "      <td>pt</td>\n",
       "    </tr>\n",
       "  </tbody>\n",
       "</table>\n",
       "</div>"
      ],
      "text/plain": [
       "                         app_name review_date  \\\n",
       "0                Instant Search +  2017-01-19   \n",
       "1                Instant Search +  2016-07-25   \n",
       "2  Sticky Add To Cart BOOSTER PRO  2020-06-27   \n",
       "3  Sticky Add To Cart BOOSTER PRO  2020-06-13   \n",
       "4  Sticky Add To Cart BOOSTER PRO  2020-05-21   \n",
       "\n",
       "                                         review_text dev_reply_text  \\\n",
       "0  bonne idée cette application intéressante nhés...            NaN   \n",
       "1  pt por hora estou apaixonada pelo app acabei d...            NaN   \n",
       "2  excelente aplicación doy cinco estrellas por e...            NaN   \n",
       "3  ich finde die app wirklich mega hat wirklich d...            NaN   \n",
       "4  ainda testando mas era realmente o que eu esta...            NaN   \n",
       "\n",
       "  dev_reply_date  is_review_good lang_iso  \n",
       "0            NaT               1       fr  \n",
       "1            NaT               1       pt  \n",
       "2            NaT               1       es  \n",
       "3            NaT               1       de  \n",
       "4            NaT               1       pt  "
      ]
     },
     "execution_count": 81,
     "metadata": {},
     "output_type": "execute_result"
    }
   ],
   "source": [
    "reviews_df_clean_2_multi_lingual.head()"
   ]
  },
  {
   "cell_type": "code",
   "execution_count": 82,
   "id": "832c9a4d",
   "metadata": {
    "ExecuteTime": {
     "end_time": "2022-05-22T20:46:31.028822Z",
     "start_time": "2022-05-22T20:46:31.007790Z"
    }
   },
   "outputs": [
    {
     "data": {
      "text/html": [
       "<div>\n",
       "<style scoped>\n",
       "    .dataframe tbody tr th:only-of-type {\n",
       "        vertical-align: middle;\n",
       "    }\n",
       "\n",
       "    .dataframe tbody tr th {\n",
       "        vertical-align: top;\n",
       "    }\n",
       "\n",
       "    .dataframe thead th {\n",
       "        text-align: right;\n",
       "    }\n",
       "</style>\n",
       "<table border=\"1\" class=\"dataframe\">\n",
       "  <thead>\n",
       "    <tr style=\"text-align: right;\">\n",
       "      <th></th>\n",
       "      <th>app_name</th>\n",
       "      <th>review_date</th>\n",
       "      <th>review_text</th>\n",
       "      <th>dev_reply_text</th>\n",
       "      <th>dev_reply_date</th>\n",
       "      <th>is_review_good</th>\n",
       "      <th>lang_iso</th>\n",
       "    </tr>\n",
       "  </thead>\n",
       "  <tbody>\n",
       "    <tr>\n",
       "      <th>19335</th>\n",
       "      <td>Best Custom Product Options</td>\n",
       "      <td>2020-08-26</td>\n",
       "      <td>en cours de résolution je modifierais la note ...</td>\n",
       "      <td>Sorry we are located in California and were sl...</td>\n",
       "      <td>2020-08-26</td>\n",
       "      <td>0</td>\n",
       "      <td>fr</td>\n",
       "    </tr>\n",
       "    <tr>\n",
       "      <th>19336</th>\n",
       "      <td>Best Custom Product Options</td>\n",
       "      <td>2020-04-09</td>\n",
       "      <td>super application intuitive et pratique si bes...</td>\n",
       "      <td>NaN</td>\n",
       "      <td>NaT</td>\n",
       "      <td>1</td>\n",
       "      <td>fr</td>\n",
       "    </tr>\n",
       "    <tr>\n",
       "      <th>19337</th>\n",
       "      <td>Best Custom Product Options</td>\n",
       "      <td>2019-03-10</td>\n",
       "      <td>la mejor aplicación que e instalado me a ayuda...</td>\n",
       "      <td>NaN</td>\n",
       "      <td>NaT</td>\n",
       "      <td>1</td>\n",
       "      <td>es</td>\n",
       "    </tr>\n",
       "    <tr>\n",
       "      <th>19338</th>\n",
       "      <td>Best Custom Product Options</td>\n",
       "      <td>2019-02-13</td>\n",
       "      <td>la app es muy buena y da una mejor experiencia...</td>\n",
       "      <td>NaN</td>\n",
       "      <td>NaT</td>\n",
       "      <td>1</td>\n",
       "      <td>es</td>\n",
       "    </tr>\n",
       "    <tr>\n",
       "      <th>19339</th>\n",
       "      <td>COD Order Confirmation</td>\n",
       "      <td>2019-02-24</td>\n",
       "      <td>dfghjklmdfhj dfghjklm sdjklm dhjkl ertyuiop er...</td>\n",
       "      <td>NaN</td>\n",
       "      <td>NaT</td>\n",
       "      <td>1</td>\n",
       "      <td>sv</td>\n",
       "    </tr>\n",
       "  </tbody>\n",
       "</table>\n",
       "</div>"
      ],
      "text/plain": [
       "                          app_name review_date  \\\n",
       "19335  Best Custom Product Options  2020-08-26   \n",
       "19336  Best Custom Product Options  2020-04-09   \n",
       "19337  Best Custom Product Options  2019-03-10   \n",
       "19338  Best Custom Product Options  2019-02-13   \n",
       "19339       COD Order Confirmation  2019-02-24   \n",
       "\n",
       "                                             review_text  \\\n",
       "19335  en cours de résolution je modifierais la note ...   \n",
       "19336  super application intuitive et pratique si bes...   \n",
       "19337  la mejor aplicación que e instalado me a ayuda...   \n",
       "19338  la app es muy buena y da una mejor experiencia...   \n",
       "19339  dfghjklmdfhj dfghjklm sdjklm dhjkl ertyuiop er...   \n",
       "\n",
       "                                          dev_reply_text dev_reply_date  \\\n",
       "19335  Sorry we are located in California and were sl...     2020-08-26   \n",
       "19336                                                NaN            NaT   \n",
       "19337                                                NaN            NaT   \n",
       "19338                                                NaN            NaT   \n",
       "19339                                                NaN            NaT   \n",
       "\n",
       "       is_review_good lang_iso  \n",
       "19335               0       fr  \n",
       "19336               1       fr  \n",
       "19337               1       es  \n",
       "19338               1       es  \n",
       "19339               1       sv  "
      ]
     },
     "execution_count": 82,
     "metadata": {},
     "output_type": "execute_result"
    }
   ],
   "source": [
    "reviews_df_clean_2_multi_lingual.tail()"
   ]
  },
  {
   "cell_type": "markdown",
   "id": "872712cf",
   "metadata": {},
   "source": [
    "I will now cross-reference the ISO language codes with the corresponding language label that was input into the column `language` in the dataframe."
   ]
  },
  {
   "cell_type": "markdown",
   "id": "26f51b61",
   "metadata": {},
   "source": [
    "This is a verbose for loop that cross-references the ISO code to the language label. Additional cleaning and tidying of this code can be done in the future. Due to deprecated language ISO codes that the fasttext identified but is not in the downloaded .csv files used as a reference, different errors arose throughout this process. As a workaround, ISO language codes not recognized within the .csv files were cross-referenced from this [website](https://iso639-3.sil.org/code_tables/639/data) and manually updated in the .csv files."
   ]
  },
  {
   "cell_type": "code",
   "execution_count": 83,
   "id": "f6fb74da",
   "metadata": {
    "ExecuteTime": {
     "end_time": "2022-05-22T20:46:43.363664Z",
     "start_time": "2022-05-22T20:46:31.030821Z"
    }
   },
   "outputs": [
    {
     "name": "stderr",
     "output_type": "stream",
     "text": [
      "100%|██████████| 19340/19340 [00:12<00:00, 1570.74it/s]\n"
     ]
    }
   ],
   "source": [
    "# For loop that will cross-reference the iso language code outputted from the \n",
    "# fasttext language detection model with the appropriate understandable\n",
    "# language label from downloaded .csv files.\n",
    "\n",
    "for i in tqdm(range(len(reviews_df_clean_2_multi_lingual['lang_iso']))):\n",
    "    \n",
    "    if len(reviews_df_clean_2_multi_lingual.loc[i,'lang_iso']) == 2:\n",
    "    \n",
    "        lang_index = np.where(reviews_df_clean_2_multi_lingual.loc[i, 'lang_iso'] == lang_iso_codes['alpha2'])[0][0]\n",
    "        \n",
    "        reviews_df_clean_2_multi_lingual.loc[i, 'language'] = lang_iso_codes.loc[lang_index,'English']\n",
    "        \n",
    "    else:\n",
    "        \n",
    "        lang_index = np.where(reviews_df_clean_2_multi_lingual.loc[i, 'lang_iso'] == lang_iso_codes_full['alpha3-b'])[0][0]\n",
    "        \n",
    "        reviews_df_clean_2_multi_lingual.loc[i, 'language'] = lang_iso_codes_full.loc[lang_index,'English']"
   ]
  },
  {
   "cell_type": "markdown",
   "id": "c0059314",
   "metadata": {},
   "source": [
    "The dataframe has now been updated with the corresponding language label in the `language` column next to the `lang_iso` code."
   ]
  },
  {
   "cell_type": "code",
   "execution_count": 84,
   "id": "cd4313bb",
   "metadata": {
    "ExecuteTime": {
     "end_time": "2022-05-22T20:46:43.395586Z",
     "start_time": "2022-05-22T20:46:43.365779Z"
    }
   },
   "outputs": [
    {
     "data": {
      "text/html": [
       "<div>\n",
       "<style scoped>\n",
       "    .dataframe tbody tr th:only-of-type {\n",
       "        vertical-align: middle;\n",
       "    }\n",
       "\n",
       "    .dataframe tbody tr th {\n",
       "        vertical-align: top;\n",
       "    }\n",
       "\n",
       "    .dataframe thead th {\n",
       "        text-align: right;\n",
       "    }\n",
       "</style>\n",
       "<table border=\"1\" class=\"dataframe\">\n",
       "  <thead>\n",
       "    <tr style=\"text-align: right;\">\n",
       "      <th></th>\n",
       "      <th>app_name</th>\n",
       "      <th>review_date</th>\n",
       "      <th>review_text</th>\n",
       "      <th>dev_reply_text</th>\n",
       "      <th>dev_reply_date</th>\n",
       "      <th>is_review_good</th>\n",
       "      <th>lang_iso</th>\n",
       "      <th>language</th>\n",
       "    </tr>\n",
       "  </thead>\n",
       "  <tbody>\n",
       "    <tr>\n",
       "      <th>0</th>\n",
       "      <td>Instant Search +</td>\n",
       "      <td>2017-01-19</td>\n",
       "      <td>bonne idée cette application intéressante nhés...</td>\n",
       "      <td>NaN</td>\n",
       "      <td>NaT</td>\n",
       "      <td>1</td>\n",
       "      <td>fr</td>\n",
       "      <td>French</td>\n",
       "    </tr>\n",
       "    <tr>\n",
       "      <th>1</th>\n",
       "      <td>Instant Search +</td>\n",
       "      <td>2016-07-25</td>\n",
       "      <td>pt por hora estou apaixonada pelo app acabei d...</td>\n",
       "      <td>NaN</td>\n",
       "      <td>NaT</td>\n",
       "      <td>1</td>\n",
       "      <td>pt</td>\n",
       "      <td>Portuguese</td>\n",
       "    </tr>\n",
       "    <tr>\n",
       "      <th>2</th>\n",
       "      <td>Sticky Add To Cart BOOSTER PRO</td>\n",
       "      <td>2020-06-27</td>\n",
       "      <td>excelente aplicación doy cinco estrellas por e...</td>\n",
       "      <td>NaN</td>\n",
       "      <td>NaT</td>\n",
       "      <td>1</td>\n",
       "      <td>es</td>\n",
       "      <td>Spanish; Castilian</td>\n",
       "    </tr>\n",
       "    <tr>\n",
       "      <th>3</th>\n",
       "      <td>Sticky Add To Cart BOOSTER PRO</td>\n",
       "      <td>2020-06-13</td>\n",
       "      <td>ich finde die app wirklich mega hat wirklich d...</td>\n",
       "      <td>NaN</td>\n",
       "      <td>NaT</td>\n",
       "      <td>1</td>\n",
       "      <td>de</td>\n",
       "      <td>German</td>\n",
       "    </tr>\n",
       "    <tr>\n",
       "      <th>4</th>\n",
       "      <td>Sticky Add To Cart BOOSTER PRO</td>\n",
       "      <td>2020-05-21</td>\n",
       "      <td>ainda testando mas era realmente o que eu esta...</td>\n",
       "      <td>NaN</td>\n",
       "      <td>NaT</td>\n",
       "      <td>1</td>\n",
       "      <td>pt</td>\n",
       "      <td>Portuguese</td>\n",
       "    </tr>\n",
       "    <tr>\n",
       "      <th>...</th>\n",
       "      <td>...</td>\n",
       "      <td>...</td>\n",
       "      <td>...</td>\n",
       "      <td>...</td>\n",
       "      <td>...</td>\n",
       "      <td>...</td>\n",
       "      <td>...</td>\n",
       "      <td>...</td>\n",
       "    </tr>\n",
       "    <tr>\n",
       "      <th>19335</th>\n",
       "      <td>Best Custom Product Options</td>\n",
       "      <td>2020-08-26</td>\n",
       "      <td>en cours de résolution je modifierais la note ...</td>\n",
       "      <td>Sorry we are located in California and were sl...</td>\n",
       "      <td>2020-08-26</td>\n",
       "      <td>0</td>\n",
       "      <td>fr</td>\n",
       "      <td>French</td>\n",
       "    </tr>\n",
       "    <tr>\n",
       "      <th>19336</th>\n",
       "      <td>Best Custom Product Options</td>\n",
       "      <td>2020-04-09</td>\n",
       "      <td>super application intuitive et pratique si bes...</td>\n",
       "      <td>NaN</td>\n",
       "      <td>NaT</td>\n",
       "      <td>1</td>\n",
       "      <td>fr</td>\n",
       "      <td>French</td>\n",
       "    </tr>\n",
       "    <tr>\n",
       "      <th>19337</th>\n",
       "      <td>Best Custom Product Options</td>\n",
       "      <td>2019-03-10</td>\n",
       "      <td>la mejor aplicación que e instalado me a ayuda...</td>\n",
       "      <td>NaN</td>\n",
       "      <td>NaT</td>\n",
       "      <td>1</td>\n",
       "      <td>es</td>\n",
       "      <td>Spanish; Castilian</td>\n",
       "    </tr>\n",
       "    <tr>\n",
       "      <th>19338</th>\n",
       "      <td>Best Custom Product Options</td>\n",
       "      <td>2019-02-13</td>\n",
       "      <td>la app es muy buena y da una mejor experiencia...</td>\n",
       "      <td>NaN</td>\n",
       "      <td>NaT</td>\n",
       "      <td>1</td>\n",
       "      <td>es</td>\n",
       "      <td>Spanish; Castilian</td>\n",
       "    </tr>\n",
       "    <tr>\n",
       "      <th>19339</th>\n",
       "      <td>COD Order Confirmation</td>\n",
       "      <td>2019-02-24</td>\n",
       "      <td>dfghjklmdfhj dfghjklm sdjklm dhjkl ertyuiop er...</td>\n",
       "      <td>NaN</td>\n",
       "      <td>NaT</td>\n",
       "      <td>1</td>\n",
       "      <td>sv</td>\n",
       "      <td>Swedish</td>\n",
       "    </tr>\n",
       "  </tbody>\n",
       "</table>\n",
       "<p>19340 rows × 8 columns</p>\n",
       "</div>"
      ],
      "text/plain": [
       "                             app_name review_date  \\\n",
       "0                    Instant Search +  2017-01-19   \n",
       "1                    Instant Search +  2016-07-25   \n",
       "2      Sticky Add To Cart BOOSTER PRO  2020-06-27   \n",
       "3      Sticky Add To Cart BOOSTER PRO  2020-06-13   \n",
       "4      Sticky Add To Cart BOOSTER PRO  2020-05-21   \n",
       "...                               ...         ...   \n",
       "19335     Best Custom Product Options  2020-08-26   \n",
       "19336     Best Custom Product Options  2020-04-09   \n",
       "19337     Best Custom Product Options  2019-03-10   \n",
       "19338     Best Custom Product Options  2019-02-13   \n",
       "19339          COD Order Confirmation  2019-02-24   \n",
       "\n",
       "                                             review_text  \\\n",
       "0      bonne idée cette application intéressante nhés...   \n",
       "1      pt por hora estou apaixonada pelo app acabei d...   \n",
       "2      excelente aplicación doy cinco estrellas por e...   \n",
       "3      ich finde die app wirklich mega hat wirklich d...   \n",
       "4      ainda testando mas era realmente o que eu esta...   \n",
       "...                                                  ...   \n",
       "19335  en cours de résolution je modifierais la note ...   \n",
       "19336  super application intuitive et pratique si bes...   \n",
       "19337  la mejor aplicación que e instalado me a ayuda...   \n",
       "19338  la app es muy buena y da una mejor experiencia...   \n",
       "19339  dfghjklmdfhj dfghjklm sdjklm dhjkl ertyuiop er...   \n",
       "\n",
       "                                          dev_reply_text dev_reply_date  \\\n",
       "0                                                    NaN            NaT   \n",
       "1                                                    NaN            NaT   \n",
       "2                                                    NaN            NaT   \n",
       "3                                                    NaN            NaT   \n",
       "4                                                    NaN            NaT   \n",
       "...                                                  ...            ...   \n",
       "19335  Sorry we are located in California and were sl...     2020-08-26   \n",
       "19336                                                NaN            NaT   \n",
       "19337                                                NaN            NaT   \n",
       "19338                                                NaN            NaT   \n",
       "19339                                                NaN            NaT   \n",
       "\n",
       "       is_review_good lang_iso            language  \n",
       "0                   1       fr              French  \n",
       "1                   1       pt          Portuguese  \n",
       "2                   1       es  Spanish; Castilian  \n",
       "3                   1       de              German  \n",
       "4                   1       pt          Portuguese  \n",
       "...               ...      ...                 ...  \n",
       "19335               0       fr              French  \n",
       "19336               1       fr              French  \n",
       "19337               1       es  Spanish; Castilian  \n",
       "19338               1       es  Spanish; Castilian  \n",
       "19339               1       sv             Swedish  \n",
       "\n",
       "[19340 rows x 8 columns]"
      ]
     },
     "execution_count": 84,
     "metadata": {},
     "output_type": "execute_result"
    }
   ],
   "source": [
    "reviews_df_clean_2_multi_lingual"
   ]
  },
  {
   "cell_type": "code",
   "execution_count": 85,
   "id": "e89b21c3",
   "metadata": {
    "ExecuteTime": {
     "end_time": "2022-05-22T20:46:43.425826Z",
     "start_time": "2022-05-22T20:46:43.397936Z"
    }
   },
   "outputs": [
    {
     "name": "stdout",
     "output_type": "stream",
     "text": [
      "<class 'pandas.core.frame.DataFrame'>\n",
      "RangeIndex: 19340 entries, 0 to 19339\n",
      "Data columns (total 8 columns):\n",
      " #   Column          Non-Null Count  Dtype         \n",
      "---  ------          --------------  -----         \n",
      " 0   app_name        19340 non-null  object        \n",
      " 1   review_date     19340 non-null  datetime64[ns]\n",
      " 2   review_text     19340 non-null  object        \n",
      " 3   dev_reply_text  2213 non-null   object        \n",
      " 4   dev_reply_date  2213 non-null   datetime64[ns]\n",
      " 5   is_review_good  19340 non-null  int32         \n",
      " 6   lang_iso        19340 non-null  object        \n",
      " 7   language        19340 non-null  object        \n",
      "dtypes: datetime64[ns](2), int32(1), object(5)\n",
      "memory usage: 1.1+ MB\n"
     ]
    }
   ],
   "source": [
    "reviews_df_clean_2_multi_lingual.info()"
   ]
  },
  {
   "cell_type": "markdown",
   "id": "f0d05a4f",
   "metadata": {},
   "source": [
    "Perform a quick check of any missing values introduced into the `language` column."
   ]
  },
  {
   "cell_type": "code",
   "execution_count": 86,
   "id": "94686de9",
   "metadata": {
    "ExecuteTime": {
     "end_time": "2022-05-22T20:46:43.441559Z",
     "start_time": "2022-05-22T20:46:43.427827Z"
    }
   },
   "outputs": [
    {
     "data": {
      "text/plain": [
       "0"
      ]
     },
     "execution_count": 86,
     "metadata": {},
     "output_type": "execute_result"
    }
   ],
   "source": [
    "# Check for NaN values\n",
    "reviews_df_clean_2_multi_lingual['language'].isna().sum()"
   ]
  },
  {
   "cell_type": "markdown",
   "id": "c9499a51",
   "metadata": {},
   "source": [
    "#### Save Multi-language Reviews"
   ]
  },
  {
   "cell_type": "markdown",
   "id": "af3f98bf",
   "metadata": {},
   "source": [
    "Save the results into a .pkl file. If it's commented out, the file has already been saved and loaded in the cells below."
   ]
  },
  {
   "cell_type": "code",
   "execution_count": 87,
   "id": "1b24fb91",
   "metadata": {
    "ExecuteTime": {
     "end_time": "2022-05-22T20:46:43.456979Z",
     "start_time": "2022-05-22T20:46:43.443794Z"
    }
   },
   "outputs": [],
   "source": [
    "# # Create a pickle file\n",
    "# reviews_df_clean_2_multi_lingual.to_pickle(\"reviews_df_clean_2_multi_lingual.pkl\")"
   ]
  },
  {
   "cell_type": "code",
   "execution_count": 88,
   "id": "e8e49b77",
   "metadata": {
    "ExecuteTime": {
     "end_time": "2022-05-22T20:46:43.487965Z",
     "start_time": "2022-05-22T20:46:43.458965Z"
    }
   },
   "outputs": [],
   "source": [
    "# Load the pickle file from a previous implementation\n",
    "reviews_df_clean_2_multi_lingual = pd.read_pickle('reviews_df_clean_2_multi_lingual.pkl')"
   ]
  },
  {
   "cell_type": "code",
   "execution_count": 89,
   "id": "9ca1ced5",
   "metadata": {
    "ExecuteTime": {
     "end_time": "2022-05-22T20:46:43.756447Z",
     "start_time": "2022-05-22T20:46:43.488965Z"
    },
    "scrolled": true
   },
   "outputs": [
    {
     "name": "stdout",
     "output_type": "stream",
     "text": [
      "<class 'pandas.core.frame.DataFrame'>\n",
      "RangeIndex: 19340 entries, 0 to 19339\n",
      "Data columns (total 8 columns):\n",
      " #   Column          Non-Null Count  Dtype         \n",
      "---  ------          --------------  -----         \n",
      " 0   app_name        19340 non-null  object        \n",
      " 1   review_date     19340 non-null  datetime64[ns]\n",
      " 2   review_text     19340 non-null  object        \n",
      " 3   dev_reply_text  2213 non-null   object        \n",
      " 4   dev_reply_date  2213 non-null   datetime64[ns]\n",
      " 5   is_review_good  19340 non-null  int32         \n",
      " 6   lang_iso        19340 non-null  object        \n",
      " 7   language        19340 non-null  object        \n",
      "dtypes: datetime64[ns](2), int32(1), object(5)\n",
      "memory usage: 1.1+ MB\n"
     ]
    }
   ],
   "source": [
    "reviews_df_clean_2_multi_lingual.info()"
   ]
  },
  {
   "cell_type": "markdown",
   "id": "36a750af",
   "metadata": {},
   "source": [
    "# Exploratory Data Analysis Part 2"
   ]
  },
  {
   "cell_type": "markdown",
   "id": "aa6f71d6",
   "metadata": {},
   "source": [
    "I will take a deeper look at the vocabulary and token frequency of the text normalized English language reviews."
   ]
  },
  {
   "cell_type": "markdown",
   "id": "16cc82aa",
   "metadata": {},
   "source": [
    "## What is the 20 most common unigrams throughout the reviews?"
   ]
  },
  {
   "cell_type": "markdown",
   "id": "291692c7",
   "metadata": {},
   "source": [
    "Using the previously constructed Document-Term Matrix (DTM; saved as a compressed sparse matrix), I will convert the sparse matrix into a dataframe."
   ]
  },
  {
   "cell_type": "code",
   "execution_count": 90,
   "id": "01e10d94",
   "metadata": {
    "ExecuteTime": {
     "end_time": "2022-05-22T20:46:43.772474Z",
     "start_time": "2022-05-22T20:46:43.758452Z"
    }
   },
   "outputs": [
    {
     "data": {
      "text/plain": [
       "<427298x77362 sparse matrix of type '<class 'numpy.int64'>'\n",
       "\twith 10578192 stored elements in Compressed Sparse Row format>"
      ]
     },
     "execution_count": 90,
     "metadata": {},
     "output_type": "execute_result"
    }
   ],
   "source": [
    "# Previously constructed DTM that is saved as a CSR matrix with the\n",
    "# text normalized English language reviews\n",
    "cv_round_3_results"
   ]
  },
  {
   "cell_type": "code",
   "execution_count": 91,
   "id": "01f31008",
   "metadata": {
    "ExecuteTime": {
     "end_time": "2022-05-22T20:46:44.135593Z",
     "start_time": "2022-05-22T20:46:43.774454Z"
    }
   },
   "outputs": [
    {
     "data": {
      "text/plain": [
       "array([[280,   1,   1, ...,   1,   1,   1]], dtype=int32)"
      ]
     },
     "execution_count": 91,
     "metadata": {},
     "output_type": "execute_result"
    }
   ],
   "source": [
    "np.array(cv_round_3_results.astype(bool).sum(axis=0))"
   ]
  },
  {
   "cell_type": "code",
   "execution_count": 92,
   "id": "22f4bdee",
   "metadata": {
    "ExecuteTime": {
     "end_time": "2022-05-22T20:46:44.278203Z",
     "start_time": "2022-05-22T20:46:44.137589Z"
    }
   },
   "outputs": [],
   "source": [
    "# Create a numpy array of the frequency count of presence for each token across the reviews.\n",
    "# This is done by first converting the sparse matrix into a boolean because the sparse matrix \n",
    "# contains the frequency of count, whereas I am interesting in only the presence or absence of a word\n",
    "# in a review.\n",
    "# https://stackoverflow.com/questions/60490776/python-countvectorizer-for-pandas-dataframe\n",
    "counts = np.array(cv_round_3_results.astype(bool).sum(axis=0))\n",
    "\n",
    "# Create a dataframe of the frequency count for each feature/words from the vectorizer\n",
    "cv_round_3_totals_df = (pd.DataFrame({\"count\": counts[0]}, index=cv_round_3.get_feature_names()))"
   ]
  },
  {
   "cell_type": "code",
   "execution_count": 93,
   "id": "c5bca112",
   "metadata": {
    "ExecuteTime": {
     "end_time": "2022-05-22T20:46:44.310152Z",
     "start_time": "2022-05-22T20:46:44.280183Z"
    }
   },
   "outputs": [
    {
     "data": {
      "text/html": [
       "<div>\n",
       "<style scoped>\n",
       "    .dataframe tbody tr th:only-of-type {\n",
       "        vertical-align: middle;\n",
       "    }\n",
       "\n",
       "    .dataframe tbody tr th {\n",
       "        vertical-align: top;\n",
       "    }\n",
       "\n",
       "    .dataframe thead th {\n",
       "        text-align: right;\n",
       "    }\n",
       "</style>\n",
       "<table border=\"1\" class=\"dataframe\">\n",
       "  <thead>\n",
       "    <tr style=\"text-align: right;\">\n",
       "      <th></th>\n",
       "      <th>count</th>\n",
       "    </tr>\n",
       "  </thead>\n",
       "  <tbody>\n",
       "    <tr>\n",
       "      <th>laboudoircoquettecom</th>\n",
       "      <td>1</td>\n",
       "    </tr>\n",
       "    <tr>\n",
       "      <th>newtons</th>\n",
       "      <td>1</td>\n",
       "    </tr>\n",
       "    <tr>\n",
       "      <th>newuies</th>\n",
       "      <td>1</td>\n",
       "    </tr>\n",
       "    <tr>\n",
       "      <th>newupdated</th>\n",
       "      <td>1</td>\n",
       "    </tr>\n",
       "    <tr>\n",
       "      <th>neww</th>\n",
       "      <td>1</td>\n",
       "    </tr>\n",
       "    <tr>\n",
       "      <th>...</th>\n",
       "      <td>...</td>\n",
       "    </tr>\n",
       "    <tr>\n",
       "      <th>the</th>\n",
       "      <td>222476</td>\n",
       "    </tr>\n",
       "    <tr>\n",
       "      <th>app</th>\n",
       "      <td>258086</td>\n",
       "    </tr>\n",
       "    <tr>\n",
       "      <th>be</th>\n",
       "      <td>262330</td>\n",
       "    </tr>\n",
       "    <tr>\n",
       "      <th>and</th>\n",
       "      <td>267020</td>\n",
       "    </tr>\n",
       "    <tr>\n",
       "      <th>to</th>\n",
       "      <td>278686</td>\n",
       "    </tr>\n",
       "  </tbody>\n",
       "</table>\n",
       "<p>77362 rows × 1 columns</p>\n",
       "</div>"
      ],
      "text/plain": [
       "                       count\n",
       "laboudoircoquettecom       1\n",
       "newtons                    1\n",
       "newuies                    1\n",
       "newupdated                 1\n",
       "neww                       1\n",
       "...                      ...\n",
       "the                   222476\n",
       "app                   258086\n",
       "be                    262330\n",
       "and                   267020\n",
       "to                    278686\n",
       "\n",
       "[77362 rows x 1 columns]"
      ]
     },
     "execution_count": 93,
     "metadata": {},
     "output_type": "execute_result"
    }
   ],
   "source": [
    "cv_round_3_totals_df.sort_values(by = 'count')"
   ]
  },
  {
   "cell_type": "markdown",
   "id": "e6014f3d",
   "metadata": {},
   "source": [
    "Let's take a look at descriptive statistics on the total frequency of each word/token."
   ]
  },
  {
   "cell_type": "code",
   "execution_count": 94,
   "id": "ad441f75",
   "metadata": {
    "ExecuteTime": {
     "end_time": "2022-05-22T20:46:44.341126Z",
     "start_time": "2022-05-22T20:46:44.311815Z"
    },
    "scrolled": true
   },
   "outputs": [
    {
     "data": {
      "text/html": [
       "<div>\n",
       "<style scoped>\n",
       "    .dataframe tbody tr th:only-of-type {\n",
       "        vertical-align: middle;\n",
       "    }\n",
       "\n",
       "    .dataframe tbody tr th {\n",
       "        vertical-align: top;\n",
       "    }\n",
       "\n",
       "    .dataframe thead th {\n",
       "        text-align: right;\n",
       "    }\n",
       "</style>\n",
       "<table border=\"1\" class=\"dataframe\">\n",
       "  <thead>\n",
       "    <tr style=\"text-align: right;\">\n",
       "      <th></th>\n",
       "      <th>count</th>\n",
       "    </tr>\n",
       "  </thead>\n",
       "  <tbody>\n",
       "    <tr>\n",
       "      <th>count</th>\n",
       "      <td>77362.000000</td>\n",
       "    </tr>\n",
       "    <tr>\n",
       "      <th>mean</th>\n",
       "      <td>136.736279</td>\n",
       "    </tr>\n",
       "    <tr>\n",
       "      <th>std</th>\n",
       "      <td>3043.049937</td>\n",
       "    </tr>\n",
       "    <tr>\n",
       "      <th>min</th>\n",
       "      <td>1.000000</td>\n",
       "    </tr>\n",
       "    <tr>\n",
       "      <th>25%</th>\n",
       "      <td>1.000000</td>\n",
       "    </tr>\n",
       "    <tr>\n",
       "      <th>50%</th>\n",
       "      <td>1.000000</td>\n",
       "    </tr>\n",
       "    <tr>\n",
       "      <th>75%</th>\n",
       "      <td>3.000000</td>\n",
       "    </tr>\n",
       "    <tr>\n",
       "      <th>max</th>\n",
       "      <td>278686.000000</td>\n",
       "    </tr>\n",
       "  </tbody>\n",
       "</table>\n",
       "</div>"
      ],
      "text/plain": [
       "               count\n",
       "count   77362.000000\n",
       "mean      136.736279\n",
       "std      3043.049937\n",
       "min         1.000000\n",
       "25%         1.000000\n",
       "50%         1.000000\n",
       "75%         3.000000\n",
       "max    278686.000000"
      ]
     },
     "execution_count": 94,
     "metadata": {},
     "output_type": "execute_result"
    }
   ],
   "source": [
    "cv_round_3_totals_df.describe()"
   ]
  },
  {
   "cell_type": "markdown",
   "id": "d15a3c60",
   "metadata": {},
   "source": [
    "It appears that on average, each token/unigram appears in $\\approx$ 136 reviews, with a standard deviation of 3,043 reviews. The median value frequency is 1 review. We can see that I have some outliers in the dataset, with a unigram present in $\\approx$ 278,000 reviews."
   ]
  },
  {
   "cell_type": "markdown",
   "id": "13f53200",
   "metadata": {
    "ExecuteTime": {
     "end_time": "2022-05-18T16:51:31.579010Z",
     "start_time": "2022-05-18T16:51:31.564013Z"
    }
   },
   "source": [
    "I will now plot a bar graphs of the 20 most frequent unigrams."
   ]
  },
  {
   "cell_type": "code",
   "execution_count": 95,
   "id": "dc960b7e",
   "metadata": {
    "ExecuteTime": {
     "end_time": "2022-05-22T20:46:44.621894Z",
     "start_time": "2022-05-22T20:46:44.343931Z"
    }
   },
   "outputs": [
    {
     "data": {
      "image/png": "[encoded data removed]",
      "text/plain": [
       "<Figure size 1080x360 with 1 Axes>"
      ]
     },
     "metadata": {
      "needs_background": "light"
     },
     "output_type": "display_data"
    }
   ],
   "source": [
    "plot_most_frequent(cv_round_3_totals_df, 'unigram')"
   ]
  },
  {
   "cell_type": "markdown",
   "id": "b8c0e370",
   "metadata": {},
   "source": [
    "It appears that the most frequent tokens observed in the text normalized English language reviews are generally stop words, with exceptions, such as `great` and `easy`. Although stop words removal was not specified in the countvectorizer function, more details regarding stop words are described in Part 3. For additional EDA, I will remove the stop words using a default stop words list deployed in the sklearn library and observe the results."
   ]
  },
  {
   "cell_type": "code",
   "execution_count": 96,
   "id": "3f11fb6c",
   "metadata": {
    "ExecuteTime": {
     "end_time": "2022-05-22T20:46:54.482219Z",
     "start_time": "2022-05-22T20:46:44.623874Z"
    }
   },
   "outputs": [],
   "source": [
    "# Instantiate Countvectorizer with ngrams = 1 and stop words removed\n",
    "cv_round_3 = CountVectorizer(stop_words='english')\n",
    "\n",
    "# Fit and transform the review text column\n",
    "cv_round_3_results = cv_round_3.fit_transform(reviews_df_clean_3_en['review_text'])"
   ]
  },
  {
   "cell_type": "code",
   "execution_count": 97,
   "id": "1746a47f",
   "metadata": {
    "ExecuteTime": {
     "end_time": "2022-05-22T20:46:54.497365Z",
     "start_time": "2022-05-22T20:46:54.483220Z"
    }
   },
   "outputs": [
    {
     "data": {
      "text/plain": [
       "<427298x77066 sparse matrix of type '<class 'numpy.int64'>'\n",
       "\twith 5785136 stored elements in Compressed Sparse Row format>"
      ]
     },
     "execution_count": 97,
     "metadata": {},
     "output_type": "execute_result"
    }
   ],
   "source": [
    "cv_round_3_results"
   ]
  },
  {
   "cell_type": "markdown",
   "id": "edf21c0d",
   "metadata": {},
   "source": [
    "With the stop words default removal implemented, $\\approx$ 300 unique tokens were removed (77362 - 77,066). Let's now convert it into a dataframe and plot the top 20 most frequent tokens."
   ]
  },
  {
   "cell_type": "code",
   "execution_count": 98,
   "id": "e4cf9609",
   "metadata": {
    "ExecuteTime": {
     "end_time": "2022-05-22T20:46:54.736838Z",
     "start_time": "2022-05-22T20:46:54.499365Z"
    }
   },
   "outputs": [],
   "source": [
    "# Create a numpy array of the frequency count of presence for each token\n",
    "# across the reviews\n",
    "counts = np.array(cv_round_3_results.astype(bool).sum(axis=0))\n",
    "\n",
    "# Create a dataframe using the counts and feature/words from the vectorizer\n",
    "cv_round_3_totals_df = (pd.DataFrame({\"count\": counts[0]}, index=cv_round_3.get_feature_names()))"
   ]
  },
  {
   "cell_type": "code",
   "execution_count": 99,
   "id": "eae2b9d5",
   "metadata": {
    "ExecuteTime": {
     "end_time": "2022-05-22T20:46:54.768746Z",
     "start_time": "2022-05-22T20:46:54.738822Z"
    }
   },
   "outputs": [
    {
     "data": {
      "text/html": [
       "<div>\n",
       "<style scoped>\n",
       "    .dataframe tbody tr th:only-of-type {\n",
       "        vertical-align: middle;\n",
       "    }\n",
       "\n",
       "    .dataframe tbody tr th {\n",
       "        vertical-align: top;\n",
       "    }\n",
       "\n",
       "    .dataframe thead th {\n",
       "        text-align: right;\n",
       "    }\n",
       "</style>\n",
       "<table border=\"1\" class=\"dataframe\">\n",
       "  <thead>\n",
       "    <tr style=\"text-align: right;\">\n",
       "      <th></th>\n",
       "      <th>count</th>\n",
       "    </tr>\n",
       "  </thead>\n",
       "  <tbody>\n",
       "    <tr>\n",
       "      <th>count</th>\n",
       "      <td>77066.000000</td>\n",
       "    </tr>\n",
       "    <tr>\n",
       "      <th>mean</th>\n",
       "      <td>75.067293</td>\n",
       "    </tr>\n",
       "    <tr>\n",
       "      <th>std</th>\n",
       "      <td>1589.817244</td>\n",
       "    </tr>\n",
       "    <tr>\n",
       "      <th>min</th>\n",
       "      <td>1.000000</td>\n",
       "    </tr>\n",
       "    <tr>\n",
       "      <th>25%</th>\n",
       "      <td>1.000000</td>\n",
       "    </tr>\n",
       "    <tr>\n",
       "      <th>50%</th>\n",
       "      <td>1.000000</td>\n",
       "    </tr>\n",
       "    <tr>\n",
       "      <th>75%</th>\n",
       "      <td>3.000000</td>\n",
       "    </tr>\n",
       "    <tr>\n",
       "      <th>max</th>\n",
       "      <td>258086.000000</td>\n",
       "    </tr>\n",
       "  </tbody>\n",
       "</table>\n",
       "</div>"
      ],
      "text/plain": [
       "               count\n",
       "count   77066.000000\n",
       "mean       75.067293\n",
       "std      1589.817244\n",
       "min         1.000000\n",
       "25%         1.000000\n",
       "50%         1.000000\n",
       "75%         3.000000\n",
       "max    258086.000000"
      ]
     },
     "execution_count": 99,
     "metadata": {},
     "output_type": "execute_result"
    }
   ],
   "source": [
    "cv_round_3_totals_df.describe()"
   ]
  },
  {
   "cell_type": "markdown",
   "id": "45a951ea",
   "metadata": {},
   "source": [
    "With stop words removed, it appears that on average, each token appears in $\\approx$ 75 reviews, with a standard deviation of 1,589 reviews. The median value frequency is still 1 review. Outliers are still present in the dataset, with a token present in $\\approx$ 258,000 reviews."
   ]
  },
  {
   "cell_type": "code",
   "execution_count": 100,
   "id": "2d337083",
   "metadata": {
    "ExecuteTime": {
     "end_time": "2022-05-22T20:46:54.975015Z",
     "start_time": "2022-05-22T20:46:54.770744Z"
    }
   },
   "outputs": [
    {
     "data": {
      "image/png": "[encoded data removed]",
      "text/plain": [
       "<Figure size 1080x360 with 1 Axes>"
      ]
     },
     "metadata": {
      "needs_background": "light"
     },
     "output_type": "display_data"
    }
   ],
   "source": [
    "plot_most_frequent(cv_round_3_totals_df, 'unigram')"
   ]
  },
  {
   "cell_type": "markdown",
   "id": "f6b7fa05",
   "metadata": {},
   "source": [
    "It appears that `app` is the most common token. However, it does not provide much meaning and distinction to why a review may be positive or negative. As a result, it can be a word added to a custom stop words list in future analyses. Interestingly, terms such as `use`, `great`, `easy`, `support` `recommend`, `help`, `good` and `customer` are among the top 10 most frequent tokens. This may indicate the importance of receiving `help` or `support` or possibly `customer support` that reviews are based on. Furthermore, positive sentiment words such as `great` and `good` are in alignment with the observation that the majority of reviews are positively rated. \n",
    "\n",
    "Exploratory analysis of bigrams will be conducted in the next section. Further analyses conducted in Parts 3 and 4 will also implement bigrams and possibly trigrams to preserve sequences of words and improve understanding of common characteristics for positive and negative reviews."
   ]
  },
  {
   "cell_type": "markdown",
   "id": "f88668b7",
   "metadata": {},
   "source": [
    "## What is the 20 most common bigrams throughout the reviews?"
   ]
  },
  {
   "cell_type": "markdown",
   "id": "dc965a42",
   "metadata": {},
   "source": [
    "I will now evaluate what the most common bigrams are throughout the reviews."
   ]
  },
  {
   "cell_type": "code",
   "execution_count": 101,
   "id": "b43f5c37",
   "metadata": {
    "ExecuteTime": {
     "end_time": "2022-05-22T20:47:14.487932Z",
     "start_time": "2022-05-22T20:46:54.977015Z"
    }
   },
   "outputs": [],
   "source": [
    "# Instantiate Countvectorizer with ngrams = 2 and stop words removed\n",
    "cv_round_3_bigrams = CountVectorizer(stop_words='english', ngram_range=(2,2))\n",
    "\n",
    "# Fit and transform the review text column\n",
    "cv_round_3_bigrams_results = cv_round_3_bigrams.fit_transform(reviews_df_clean_3_en['review_text'])"
   ]
  },
  {
   "cell_type": "code",
   "execution_count": 102,
   "id": "85cb06cd",
   "metadata": {
    "ExecuteTime": {
     "end_time": "2022-05-22T20:47:14.503214Z",
     "start_time": "2022-05-22T20:47:14.489932Z"
    }
   },
   "outputs": [
    {
     "data": {
      "text/plain": [
       "<427298x1387612 sparse matrix of type '<class 'numpy.int64'>'\n",
       "\twith 5902857 stored elements in Compressed Sparse Row format>"
      ]
     },
     "execution_count": 102,
     "metadata": {},
     "output_type": "execute_result"
    }
   ],
   "source": [
    "cv_round_3_bigrams_results"
   ]
  },
  {
   "cell_type": "markdown",
   "id": "db601b20",
   "metadata": {},
   "source": [
    "The number of unique features for only bigrams specified resulted in $\\approx$ 1.4 million tokens."
   ]
  },
  {
   "cell_type": "code",
   "execution_count": 103,
   "id": "b52d2092",
   "metadata": {
    "ExecuteTime": {
     "end_time": "2022-05-22T20:47:16.531259Z",
     "start_time": "2022-05-22T20:47:14.505231Z"
    }
   },
   "outputs": [],
   "source": [
    "# Create a numpy array of the frequency count of presence for each token\n",
    "# across the reviews\n",
    "counts = np.array(cv_round_3_bigrams_results.astype(bool).sum(axis=0))\n",
    "\n",
    "# Create a dataframe using the counts and feature/words from the vectorizer\n",
    "cv_round_3_bigrams_totals_df = (pd.DataFrame({\"count\": counts[0]}, index=cv_round_3_bigrams.get_feature_names()))"
   ]
  },
  {
   "cell_type": "code",
   "execution_count": 104,
   "id": "1b6b1f6f",
   "metadata": {
    "ExecuteTime": {
     "end_time": "2022-05-22T20:47:16.578817Z",
     "start_time": "2022-05-22T20:47:16.532967Z"
    },
    "scrolled": true
   },
   "outputs": [
    {
     "data": {
      "text/html": [
       "<div>\n",
       "<style scoped>\n",
       "    .dataframe tbody tr th:only-of-type {\n",
       "        vertical-align: middle;\n",
       "    }\n",
       "\n",
       "    .dataframe tbody tr th {\n",
       "        vertical-align: top;\n",
       "    }\n",
       "\n",
       "    .dataframe thead th {\n",
       "        text-align: right;\n",
       "    }\n",
       "</style>\n",
       "<table border=\"1\" class=\"dataframe\">\n",
       "  <thead>\n",
       "    <tr style=\"text-align: right;\">\n",
       "      <th></th>\n",
       "      <th>count</th>\n",
       "    </tr>\n",
       "  </thead>\n",
       "  <tbody>\n",
       "    <tr>\n",
       "      <th>count</th>\n",
       "      <td>1387612.000</td>\n",
       "    </tr>\n",
       "    <tr>\n",
       "      <th>mean</th>\n",
       "      <td>4.254</td>\n",
       "    </tr>\n",
       "    <tr>\n",
       "      <th>std</th>\n",
       "      <td>93.014</td>\n",
       "    </tr>\n",
       "    <tr>\n",
       "      <th>min</th>\n",
       "      <td>1.000</td>\n",
       "    </tr>\n",
       "    <tr>\n",
       "      <th>25%</th>\n",
       "      <td>1.000</td>\n",
       "    </tr>\n",
       "    <tr>\n",
       "      <th>50%</th>\n",
       "      <td>1.000</td>\n",
       "    </tr>\n",
       "    <tr>\n",
       "      <th>75%</th>\n",
       "      <td>2.000</td>\n",
       "    </tr>\n",
       "    <tr>\n",
       "      <th>max</th>\n",
       "      <td>50336.000</td>\n",
       "    </tr>\n",
       "  </tbody>\n",
       "</table>\n",
       "</div>"
      ],
      "text/plain": [
       "            count\n",
       "count 1387612.000\n",
       "mean        4.254\n",
       "std        93.014\n",
       "min         1.000\n",
       "25%         1.000\n",
       "50%         1.000\n",
       "75%         2.000\n",
       "max     50336.000"
      ]
     },
     "execution_count": 104,
     "metadata": {},
     "output_type": "execute_result"
    }
   ],
   "source": [
    "# Suppress scientific notation output\n",
    "pd.set_option('display.float_format', lambda x: '%.3f' % x)\n",
    "\n",
    "cv_round_3_bigrams_totals_df.describe()"
   ]
  },
  {
   "cell_type": "markdown",
   "id": "3006e7b3",
   "metadata": {},
   "source": [
    "With stop words removed and only bigrams extracted, it appears that on average, each bigram appears in $\\approx$ 4 reviews, with a standard deviation of 93 reviews. The median value frequency is still 1 review. The highest frequency of appearance for a bigram $\\approx$ 50,000 reviews."
   ]
  },
  {
   "cell_type": "code",
   "execution_count": 105,
   "id": "fabd4374",
   "metadata": {
    "ExecuteTime": {
     "end_time": "2022-05-22T20:47:16.990975Z",
     "start_time": "2022-05-22T20:47:16.580797Z"
    }
   },
   "outputs": [
    {
     "data": {
      "image/png": "[encoded data removed]",
      "text/plain": [
       "<Figure size 1080x360 with 1 Axes>"
      ]
     },
     "metadata": {
      "needs_background": "light"
     },
     "output_type": "display_data"
    }
   ],
   "source": [
    "plot_most_frequent(cv_round_3_bigrams_totals_df, 'bigram')"
   ]
  },
  {
   "cell_type": "markdown",
   "id": "40f1cff7",
   "metadata": {},
   "source": [
    "It appears that `easy use` is the most common token. A related bigram is `super easy` and `easy set`. These bigrams indicate the importance to users/merchents about an app's usability. Furthermore, bigrams such as `highly recommend`, `app easy`, `love app`, `app great`, `good app`, `app works`, and `works great` contain positive sentiment. \n",
    "\n",
    "Furthermore, bigrams such as `customer service`, `support team`, and `customer support` all relate to some form of customer support team or service and is an important potential theme across the reviews and to users/merchants in determining whether an app will be positively or negatively rated.\n",
    "\n",
    "Lastly, `recommend app` may appear to have positive sentiment. However, without additional words within the sequence to determine whether the preceding words include `not`, it is not clear. This finding supports the case for including trigrams into future analysis."
   ]
  },
  {
   "cell_type": "markdown",
   "id": "f4d1480f",
   "metadata": {},
   "source": [
    "I will now take a deeper look at the multi-language reviews that were compiled after Round 2 of text pre-processing completed earlier in the notebook."
   ]
  },
  {
   "cell_type": "markdown",
   "id": "e2c7489f",
   "metadata": {},
   "source": [
    "## What is the distribution of positive and negative multi-language reviews?"
   ]
  },
  {
   "cell_type": "code",
   "execution_count": 106,
   "id": "6e5174e3",
   "metadata": {
    "ExecuteTime": {
     "end_time": "2022-05-22T20:47:17.006134Z",
     "start_time": "2022-05-22T20:47:16.993099Z"
    }
   },
   "outputs": [
    {
     "data": {
      "text/plain": [
       "1    18040\n",
       "0     1300\n",
       "Name: is_review_good, dtype: int64"
      ]
     },
     "execution_count": 106,
     "metadata": {},
     "output_type": "execute_result"
    }
   ],
   "source": [
    "reviews_df_clean_2_multi_lingual['is_review_good'].value_counts()"
   ]
  },
  {
   "cell_type": "code",
   "execution_count": 107,
   "id": "a8d78999",
   "metadata": {
    "ExecuteTime": {
     "end_time": "2022-05-22T20:47:17.021666Z",
     "start_time": "2022-05-22T20:47:17.008667Z"
    }
   },
   "outputs": [
    {
     "data": {
      "text/plain": [
       "1   93.280\n",
       "0    6.720\n",
       "Name: is_review_good, dtype: float64"
      ]
     },
     "execution_count": 107,
     "metadata": {},
     "output_type": "execute_result"
    }
   ],
   "source": [
    "round(reviews_df_clean_2_multi_lingual['is_review_good'].value_counts(normalize = True) * 100, 2)"
   ]
  },
  {
   "cell_type": "markdown",
   "id": "8b4b9a72",
   "metadata": {},
   "source": [
    "The ratio of positive and negative reviews were a similar ratio from the overall dataset, with $\\approx$ 93.3% of positive reviews and $\\approx$ 6.7% of negative reviews."
   ]
  },
  {
   "cell_type": "markdown",
   "id": "ff843a12",
   "metadata": {},
   "source": [
    "## How many different languages were detected?"
   ]
  },
  {
   "cell_type": "markdown",
   "id": "68769a16",
   "metadata": {},
   "source": [
    "Based on the total count of reviews observed for each unique `language` from `reviews_df_clean_2_multi_lingual`, there are approximately 94 different languages detected from the Kaggle dataset of the Shopify App Store reviews."
   ]
  },
  {
   "cell_type": "code",
   "execution_count": 108,
   "id": "4851ca76",
   "metadata": {
    "ExecuteTime": {
     "end_time": "2022-05-22T20:47:17.036703Z",
     "start_time": "2022-05-22T20:47:17.024667Z"
    }
   },
   "outputs": [
    {
     "data": {
      "text/plain": [
       "French                     5926\n",
       "Spanish; Castilian         4738\n",
       "Portuguese                 4410\n",
       "German                     1129\n",
       "Italian                     965\n",
       "                           ... \n",
       "Assamese                      1\n",
       "Haitian; Haitian Creole       1\n",
       "Javanese                      1\n",
       "Sinhala; Sinhalese            1\n",
       "Ido                           1\n",
       "Name: language, Length: 94, dtype: int64"
      ]
     },
     "execution_count": 108,
     "metadata": {},
     "output_type": "execute_result"
    }
   ],
   "source": [
    "# Retrieve total review count for each language\n",
    "reviews_df_clean_2_multi_lingual['language'].value_counts()"
   ]
  },
  {
   "cell_type": "markdown",
   "id": "5057917d",
   "metadata": {},
   "source": [
    "However, we see at the very end of the series of the total reviews count for each language, some of these languages only contained 1 review. Due to the potential false-positives or misclassification of some of the reviews by the pre-trained model for a particular language and/or due to the review text containing 'noise', an arbitrary threshold will be used.\n",
    "\n",
    "Specifically, languages will be deemed present if more than 10 reviews for that language are present."
   ]
  },
  {
   "cell_type": "code",
   "execution_count": 109,
   "id": "8c3f44eb",
   "metadata": {
    "ExecuteTime": {
     "end_time": "2022-05-22T20:47:17.051994Z",
     "start_time": "2022-05-22T20:47:17.039142Z"
    }
   },
   "outputs": [],
   "source": [
    "multi_lang_10_or_more_reviews = reviews_df_clean_2_multi_lingual['language'].value_counts() > 10"
   ]
  },
  {
   "cell_type": "code",
   "execution_count": 110,
   "id": "a2629ca7",
   "metadata": {
    "ExecuteTime": {
     "end_time": "2022-05-22T20:47:17.067452Z",
     "start_time": "2022-05-22T20:47:17.054594Z"
    }
   },
   "outputs": [
    {
     "data": {
      "text/plain": [
       "32"
      ]
     },
     "execution_count": 110,
     "metadata": {},
     "output_type": "execute_result"
    }
   ],
   "source": [
    "multi_lang_10_or_more_reviews.sum()"
   ]
  },
  {
   "cell_type": "markdown",
   "id": "6315b592",
   "metadata": {},
   "source": [
    "After threshold, we see that there are $\\approx$ 32 different languages present with more than 10 reviews. Let's take a look at the names of these languages that are present and their corresponding count."
   ]
  },
  {
   "cell_type": "code",
   "execution_count": 111,
   "id": "c3ebaf3d",
   "metadata": {
    "ExecuteTime": {
     "end_time": "2022-05-22T20:47:17.082830Z",
     "start_time": "2022-05-22T20:47:17.070112Z"
    },
    "scrolled": false
   },
   "outputs": [],
   "source": [
    "multi_lang_df = reviews_df_clean_2_multi_lingual['language'].value_counts()[multi_lang_10_or_more_reviews].\\\n",
    "                to_frame().reset_index().rename(columns = {'index':'language', 'language':'total_reviews'})"
   ]
  },
  {
   "cell_type": "code",
   "execution_count": 112,
   "id": "1fe5dfe5",
   "metadata": {
    "ExecuteTime": {
     "end_time": "2022-05-22T20:47:17.097964Z",
     "start_time": "2022-05-22T20:47:17.085741Z"
    }
   },
   "outputs": [
    {
     "data": {
      "text/html": [
       "<div>\n",
       "<style scoped>\n",
       "    .dataframe tbody tr th:only-of-type {\n",
       "        vertical-align: middle;\n",
       "    }\n",
       "\n",
       "    .dataframe tbody tr th {\n",
       "        vertical-align: top;\n",
       "    }\n",
       "\n",
       "    .dataframe thead th {\n",
       "        text-align: right;\n",
       "    }\n",
       "</style>\n",
       "<table border=\"1\" class=\"dataframe\">\n",
       "  <thead>\n",
       "    <tr style=\"text-align: right;\">\n",
       "      <th></th>\n",
       "      <th>language</th>\n",
       "      <th>total_reviews</th>\n",
       "    </tr>\n",
       "  </thead>\n",
       "  <tbody>\n",
       "    <tr>\n",
       "      <th>0</th>\n",
       "      <td>French</td>\n",
       "      <td>5926</td>\n",
       "    </tr>\n",
       "    <tr>\n",
       "      <th>1</th>\n",
       "      <td>Spanish; Castilian</td>\n",
       "      <td>4738</td>\n",
       "    </tr>\n",
       "    <tr>\n",
       "      <th>2</th>\n",
       "      <td>Portuguese</td>\n",
       "      <td>4410</td>\n",
       "    </tr>\n",
       "    <tr>\n",
       "      <th>3</th>\n",
       "      <td>German</td>\n",
       "      <td>1129</td>\n",
       "    </tr>\n",
       "    <tr>\n",
       "      <th>4</th>\n",
       "      <td>Italian</td>\n",
       "      <td>965</td>\n",
       "    </tr>\n",
       "  </tbody>\n",
       "</table>\n",
       "</div>"
      ],
      "text/plain": [
       "             language  total_reviews\n",
       "0              French           5926\n",
       "1  Spanish; Castilian           4738\n",
       "2          Portuguese           4410\n",
       "3              German           1129\n",
       "4             Italian            965"
      ]
     },
     "execution_count": 112,
     "metadata": {},
     "output_type": "execute_result"
    }
   ],
   "source": [
    "multi_lang_df.head()"
   ]
  },
  {
   "cell_type": "code",
   "execution_count": 113,
   "id": "039eabf6",
   "metadata": {
    "ExecuteTime": {
     "end_time": "2022-05-22T20:47:17.457428Z",
     "start_time": "2022-05-22T20:47:17.100631Z"
    }
   },
   "outputs": [
    {
     "data": {
      "image/png": "[encoded data removed]",
      "text/plain": [
       "<Figure size 1080x720 with 1 Axes>"
      ]
     },
     "metadata": {
      "needs_background": "light"
     },
     "output_type": "display_data"
    }
   ],
   "source": [
    "############# Horizontal Bar Graph #############\n",
    "data = multi_lang_df['total_reviews'].values\n",
    "df = pd.DataFrame(data,columns=['total_reviews'], index = multi_lang_df['language'])\n",
    "\n",
    "df.sort_values(by = 'total_reviews', ascending = True).plot.barh(figsize = (15,10), legend=None)\n",
    "\n",
    "# Set title and labels for axes\n",
    "plt.ylabel(\"Language\", size=24)\n",
    "plt.xlabel(\"Total Reviews\", size=24)\n",
    "plt.title(\"Proportion of Total Non-English Reviews for Each Language\",\n",
    "          size=24,\n",
    "          pad=20)\n",
    "\n",
    "# Set axes ticks\n",
    "plt.xticks(size = 14)\n",
    "plt.yticks(size = 14)\n",
    "\n",
    "# Remove top and right borders\n",
    "sns.despine()\n",
    "    \n",
    "plt.tight_layout()\n",
    "plt.show()"
   ]
  },
  {
   "cell_type": "markdown",
   "id": "3ef0a3bd",
   "metadata": {},
   "source": [
    "A wide-range of languages can be observed in this dataset. With the exception of English the top 10 languages with the most reviews include:\n",
    "\n",
    "- French (30.6% of total multi-language reviews)\n",
    "- Spanish; Castilian  (24.5%)\n",
    "- Portuguese (22.8%)\n",
    "- German (5.8%)\n",
    "- Italian (5.0%)\n",
    "- Dutch; Flemish (1.8%)\n",
    "- Russian (0.8%)\n",
    "- Japanese (0.7%)\n",
    "- Chinese (0.7%)\n",
    "- Swedish (0.6%)"
   ]
  },
  {
   "cell_type": "markdown",
   "id": "cef61ab6",
   "metadata": {},
   "source": [
    "## What is the total multi-language reviews observed over the years?"
   ]
  },
  {
   "cell_type": "code",
   "execution_count": 114,
   "id": "2e0df31d",
   "metadata": {
    "ExecuteTime": {
     "end_time": "2022-05-22T20:47:17.488987Z",
     "start_time": "2022-05-22T20:47:17.459418Z"
    },
    "scrolled": false
   },
   "outputs": [
    {
     "data": {
      "text/html": [
       "<div>\n",
       "<style scoped>\n",
       "    .dataframe tbody tr th:only-of-type {\n",
       "        vertical-align: middle;\n",
       "    }\n",
       "\n",
       "    .dataframe tbody tr th {\n",
       "        vertical-align: top;\n",
       "    }\n",
       "\n",
       "    .dataframe thead th {\n",
       "        text-align: right;\n",
       "    }\n",
       "</style>\n",
       "<table border=\"1\" class=\"dataframe\">\n",
       "  <thead>\n",
       "    <tr style=\"text-align: right;\">\n",
       "      <th></th>\n",
       "      <th>app_name</th>\n",
       "      <th>review_date</th>\n",
       "      <th>review_text</th>\n",
       "      <th>dev_reply_text</th>\n",
       "      <th>dev_reply_date</th>\n",
       "      <th>is_review_good</th>\n",
       "      <th>lang_iso</th>\n",
       "      <th>language</th>\n",
       "    </tr>\n",
       "  </thead>\n",
       "  <tbody>\n",
       "    <tr>\n",
       "      <th>19</th>\n",
       "      <td>Sticky Add To Cart BOOSTER PRO</td>\n",
       "      <td>2019-12-27</td>\n",
       "      <td>excelente ayuda a que la compra no se vaya de ...</td>\n",
       "      <td>Hola Amatista Electronik! ¡Muchas gracias por ...</td>\n",
       "      <td>2019-12-28</td>\n",
       "      <td>1</td>\n",
       "      <td>es</td>\n",
       "      <td>Spanish; Castilian</td>\n",
       "    </tr>\n",
       "    <tr>\n",
       "      <th>20</th>\n",
       "      <td>Sticky Add To Cart BOOSTER PRO</td>\n",
       "      <td>2019-11-24</td>\n",
       "      <td>jai vu votre appli sur certains sites et sans ...</td>\n",
       "      <td>Bonjour BeTech 4 Life ™, merci pour votre avis :)</td>\n",
       "      <td>2019-11-28</td>\n",
       "      <td>1</td>\n",
       "      <td>fr</td>\n",
       "      <td>French</td>\n",
       "    </tr>\n",
       "    <tr>\n",
       "      <th>21</th>\n",
       "      <td>Sticky Add To Cart BOOSTER PRO</td>\n",
       "      <td>2019-11-18</td>\n",
       "      <td>bonne application cest dommage quelle soit pay...</td>\n",
       "      <td>Bonjour Torgaw, nous apprécions la critique :)...</td>\n",
       "      <td>2019-11-18</td>\n",
       "      <td>1</td>\n",
       "      <td>fr</td>\n",
       "      <td>French</td>\n",
       "    </tr>\n",
       "    <tr>\n",
       "      <th>22</th>\n",
       "      <td>Sticky Add To Cart BOOSTER PRO</td>\n",
       "      <td>2019-10-17</td>\n",
       "      <td>vraiment satisfait de lapplication le rendu es...</td>\n",
       "      <td>Bonjour Ultimate Barbe™, merci pour cette bell...</td>\n",
       "      <td>2019-10-19</td>\n",
       "      <td>1</td>\n",
       "      <td>fr</td>\n",
       "      <td>French</td>\n",
       "    </tr>\n",
       "    <tr>\n",
       "      <th>23</th>\n",
       "      <td>Sticky Add To Cart BOOSTER PRO</td>\n",
       "      <td>2019-10-16</td>\n",
       "      <td>voy a probar la aplicacion haver si funciona e...</td>\n",
       "      <td>Hola Smart &amp; Market, gracias por tu comentario...</td>\n",
       "      <td>2019-10-16</td>\n",
       "      <td>1</td>\n",
       "      <td>es</td>\n",
       "      <td>Spanish; Castilian</td>\n",
       "    </tr>\n",
       "    <tr>\n",
       "      <th>...</th>\n",
       "      <td>...</td>\n",
       "      <td>...</td>\n",
       "      <td>...</td>\n",
       "      <td>...</td>\n",
       "      <td>...</td>\n",
       "      <td>...</td>\n",
       "      <td>...</td>\n",
       "      <td>...</td>\n",
       "    </tr>\n",
       "    <tr>\n",
       "      <th>19276</th>\n",
       "      <td>Affiliatly Affiliate Marketing</td>\n",
       "      <td>2020-05-28</td>\n",
       "      <td>jai téléchargé ce matin votre application jai ...</td>\n",
       "      <td>Hi,\\n​we have a french translation, you can en...</td>\n",
       "      <td>2020-05-28</td>\n",
       "      <td>1</td>\n",
       "      <td>fr</td>\n",
       "      <td>French</td>\n",
       "    </tr>\n",
       "    <tr>\n",
       "      <th>19317</th>\n",
       "      <td>Promotion Popup by Secomapp</td>\n",
       "      <td>2018-04-17</td>\n",
       "      <td>assez pratique lappli est simple dutilisation ...</td>\n",
       "      <td>Thanks for your review. If you confuse about a...</td>\n",
       "      <td>2019-07-14</td>\n",
       "      <td>0</td>\n",
       "      <td>fr</td>\n",
       "      <td>French</td>\n",
       "    </tr>\n",
       "    <tr>\n",
       "      <th>19322</th>\n",
       "      <td>Image Optimizer</td>\n",
       "      <td>2019-09-15</td>\n",
       "      <td>i love it</td>\n",
       "      <td>Thank you so much for taking the time to leave...</td>\n",
       "      <td>2019-09-15</td>\n",
       "      <td>1</td>\n",
       "      <td>sv</td>\n",
       "      <td>Swedish</td>\n",
       "    </tr>\n",
       "    <tr>\n",
       "      <th>19323</th>\n",
       "      <td>Image Optimizer</td>\n",
       "      <td>2019-05-03</td>\n",
       "      <td>muito bom adorei deixou meu sitem muito mais l...</td>\n",
       "      <td>Muito Obrigado! Thank you so much for the grea...</td>\n",
       "      <td>2019-05-04</td>\n",
       "      <td>1</td>\n",
       "      <td>pt</td>\n",
       "      <td>Portuguese</td>\n",
       "    </tr>\n",
       "    <tr>\n",
       "      <th>19335</th>\n",
       "      <td>Best Custom Product Options</td>\n",
       "      <td>2020-08-26</td>\n",
       "      <td>en cours de résolution je modifierais la note ...</td>\n",
       "      <td>Sorry we are located in California and were sl...</td>\n",
       "      <td>2020-08-26</td>\n",
       "      <td>0</td>\n",
       "      <td>fr</td>\n",
       "      <td>French</td>\n",
       "    </tr>\n",
       "  </tbody>\n",
       "</table>\n",
       "<p>2213 rows × 8 columns</p>\n",
       "</div>"
      ],
      "text/plain": [
       "                             app_name review_date  \\\n",
       "19     Sticky Add To Cart BOOSTER PRO  2019-12-27   \n",
       "20     Sticky Add To Cart BOOSTER PRO  2019-11-24   \n",
       "21     Sticky Add To Cart BOOSTER PRO  2019-11-18   \n",
       "22     Sticky Add To Cart BOOSTER PRO  2019-10-17   \n",
       "23     Sticky Add To Cart BOOSTER PRO  2019-10-16   \n",
       "...                               ...         ...   \n",
       "19276  Affiliatly Affiliate Marketing  2020-05-28   \n",
       "19317     Promotion Popup by Secomapp  2018-04-17   \n",
       "19322                 Image Optimizer  2019-09-15   \n",
       "19323                 Image Optimizer  2019-05-03   \n",
       "19335     Best Custom Product Options  2020-08-26   \n",
       "\n",
       "                                             review_text  \\\n",
       "19     excelente ayuda a que la compra no se vaya de ...   \n",
       "20     jai vu votre appli sur certains sites et sans ...   \n",
       "21     bonne application cest dommage quelle soit pay...   \n",
       "22     vraiment satisfait de lapplication le rendu es...   \n",
       "23     voy a probar la aplicacion haver si funciona e...   \n",
       "...                                                  ...   \n",
       "19276  jai téléchargé ce matin votre application jai ...   \n",
       "19317  assez pratique lappli est simple dutilisation ...   \n",
       "19322                                          i love it   \n",
       "19323  muito bom adorei deixou meu sitem muito mais l...   \n",
       "19335  en cours de résolution je modifierais la note ...   \n",
       "\n",
       "                                          dev_reply_text dev_reply_date  \\\n",
       "19     Hola Amatista Electronik! ¡Muchas gracias por ...     2019-12-28   \n",
       "20     Bonjour BeTech 4 Life ™, merci pour votre avis :)     2019-11-28   \n",
       "21     Bonjour Torgaw, nous apprécions la critique :)...     2019-11-18   \n",
       "22     Bonjour Ultimate Barbe™, merci pour cette bell...     2019-10-19   \n",
       "23     Hola Smart & Market, gracias por tu comentario...     2019-10-16   \n",
       "...                                                  ...            ...   \n",
       "19276  Hi,\\n​we have a french translation, you can en...     2020-05-28   \n",
       "19317  Thanks for your review. If you confuse about a...     2019-07-14   \n",
       "19322  Thank you so much for taking the time to leave...     2019-09-15   \n",
       "19323  Muito Obrigado! Thank you so much for the grea...     2019-05-04   \n",
       "19335  Sorry we are located in California and were sl...     2020-08-26   \n",
       "\n",
       "       is_review_good lang_iso            language  \n",
       "19                  1       es  Spanish; Castilian  \n",
       "20                  1       fr              French  \n",
       "21                  1       fr              French  \n",
       "22                  1       fr              French  \n",
       "23                  1       es  Spanish; Castilian  \n",
       "...               ...      ...                 ...  \n",
       "19276               1       fr              French  \n",
       "19317               0       fr              French  \n",
       "19322               1       sv             Swedish  \n",
       "19323               1       pt          Portuguese  \n",
       "19335               0       fr              French  \n",
       "\n",
       "[2213 rows x 8 columns]"
      ]
     },
     "execution_count": 114,
     "metadata": {},
     "output_type": "execute_result"
    }
   ],
   "source": [
    "reviews_df_clean_2_multi_lingual[reviews_df_clean_2_multi_lingual['dev_reply_text'].notna()]"
   ]
  },
  {
   "cell_type": "markdown",
   "id": "a77b8f70",
   "metadata": {},
   "source": [
    "In reviewing some of the developer responses, it is interesting to note that some multi-language reviews appear to contain English language developer responses."
   ]
  },
  {
   "cell_type": "code",
   "execution_count": 115,
   "id": "217aa338",
   "metadata": {
    "ExecuteTime": {
     "end_time": "2022-05-22T20:47:17.712007Z",
     "start_time": "2022-05-22T20:47:17.490990Z"
    },
    "scrolled": false
   },
   "outputs": [
    {
     "data": {
      "image/png": "[encoded data removed]",
      "text/plain": [
       "<Figure size 1440x720 with 1 Axes>"
      ]
     },
     "metadata": {
      "needs_background": "light"
     },
     "output_type": "display_data"
    }
   ],
   "source": [
    "plt.figure(figsize=(20, 10))\n",
    "\n",
    "############# Bar Graph #############\n",
    "sns.barplot(x=reviews_df_clean_2_multi_lingual['review_date'].dt.year.value_counts().index,\n",
    "            y=reviews_df_clean_2_multi_lingual['review_date'].dt.year.value_counts(),\n",
    "            color='steelblue')\n",
    "\n",
    "# Set title and labels for axes\n",
    "plt.xlabel(\"Year\", size=24)\n",
    "plt.ylabel(\"Total Count\", size=24)\n",
    "plt.title(\"Total Multi-language Reviews in Each Year\", size=24, pad=20)\n",
    "plt.yticks(size=14)\n",
    "plt.xticks(size=14)\n",
    "\n",
    "# Set axis limits\n",
    "plt.ylim(0, 8_000)\n",
    "\n",
    "plt.tight_layout()\n",
    "plt.show()"
   ]
  },
  {
   "cell_type": "markdown",
   "id": "655655bf",
   "metadata": {},
   "source": [
    "## How many non-English language reviews received developer responses in English?"
   ]
  },
  {
   "cell_type": "code",
   "execution_count": 116,
   "id": "5cf03bdf",
   "metadata": {
    "ExecuteTime": {
     "end_time": "2022-05-22T20:47:17.727987Z",
     "start_time": "2022-05-22T20:47:17.713003Z"
    }
   },
   "outputs": [
    {
     "data": {
      "text/html": [
       "<div>\n",
       "<style scoped>\n",
       "    .dataframe tbody tr th:only-of-type {\n",
       "        vertical-align: middle;\n",
       "    }\n",
       "\n",
       "    .dataframe tbody tr th {\n",
       "        vertical-align: top;\n",
       "    }\n",
       "\n",
       "    .dataframe thead th {\n",
       "        text-align: right;\n",
       "    }\n",
       "</style>\n",
       "<table border=\"1\" class=\"dataframe\">\n",
       "  <thead>\n",
       "    <tr style=\"text-align: right;\">\n",
       "      <th></th>\n",
       "      <th>app_name</th>\n",
       "      <th>review_date</th>\n",
       "      <th>review_text</th>\n",
       "      <th>dev_reply_text</th>\n",
       "      <th>dev_reply_date</th>\n",
       "      <th>is_review_good</th>\n",
       "      <th>lang_iso</th>\n",
       "      <th>language</th>\n",
       "    </tr>\n",
       "  </thead>\n",
       "  <tbody>\n",
       "    <tr>\n",
       "      <th>0</th>\n",
       "      <td>Instant Search +</td>\n",
       "      <td>2017-01-19</td>\n",
       "      <td>bonne idée cette application intéressante nhés...</td>\n",
       "      <td>NaN</td>\n",
       "      <td>NaT</td>\n",
       "      <td>1</td>\n",
       "      <td>fr</td>\n",
       "      <td>French</td>\n",
       "    </tr>\n",
       "    <tr>\n",
       "      <th>1</th>\n",
       "      <td>Instant Search +</td>\n",
       "      <td>2016-07-25</td>\n",
       "      <td>pt por hora estou apaixonada pelo app acabei d...</td>\n",
       "      <td>NaN</td>\n",
       "      <td>NaT</td>\n",
       "      <td>1</td>\n",
       "      <td>pt</td>\n",
       "      <td>Portuguese</td>\n",
       "    </tr>\n",
       "    <tr>\n",
       "      <th>2</th>\n",
       "      <td>Sticky Add To Cart BOOSTER PRO</td>\n",
       "      <td>2020-06-27</td>\n",
       "      <td>excelente aplicación doy cinco estrellas por e...</td>\n",
       "      <td>NaN</td>\n",
       "      <td>NaT</td>\n",
       "      <td>1</td>\n",
       "      <td>es</td>\n",
       "      <td>Spanish; Castilian</td>\n",
       "    </tr>\n",
       "    <tr>\n",
       "      <th>3</th>\n",
       "      <td>Sticky Add To Cart BOOSTER PRO</td>\n",
       "      <td>2020-06-13</td>\n",
       "      <td>ich finde die app wirklich mega hat wirklich d...</td>\n",
       "      <td>NaN</td>\n",
       "      <td>NaT</td>\n",
       "      <td>1</td>\n",
       "      <td>de</td>\n",
       "      <td>German</td>\n",
       "    </tr>\n",
       "    <tr>\n",
       "      <th>4</th>\n",
       "      <td>Sticky Add To Cart BOOSTER PRO</td>\n",
       "      <td>2020-05-21</td>\n",
       "      <td>ainda testando mas era realmente o que eu esta...</td>\n",
       "      <td>NaN</td>\n",
       "      <td>NaT</td>\n",
       "      <td>1</td>\n",
       "      <td>pt</td>\n",
       "      <td>Portuguese</td>\n",
       "    </tr>\n",
       "  </tbody>\n",
       "</table>\n",
       "</div>"
      ],
      "text/plain": [
       "                         app_name review_date  \\\n",
       "0                Instant Search +  2017-01-19   \n",
       "1                Instant Search +  2016-07-25   \n",
       "2  Sticky Add To Cart BOOSTER PRO  2020-06-27   \n",
       "3  Sticky Add To Cart BOOSTER PRO  2020-06-13   \n",
       "4  Sticky Add To Cart BOOSTER PRO  2020-05-21   \n",
       "\n",
       "                                         review_text dev_reply_text  \\\n",
       "0  bonne idée cette application intéressante nhés...            NaN   \n",
       "1  pt por hora estou apaixonada pelo app acabei d...            NaN   \n",
       "2  excelente aplicación doy cinco estrellas por e...            NaN   \n",
       "3  ich finde die app wirklich mega hat wirklich d...            NaN   \n",
       "4  ainda testando mas era realmente o que eu esta...            NaN   \n",
       "\n",
       "  dev_reply_date  is_review_good lang_iso            language  \n",
       "0            NaT               1       fr              French  \n",
       "1            NaT               1       pt          Portuguese  \n",
       "2            NaT               1       es  Spanish; Castilian  \n",
       "3            NaT               1       de              German  \n",
       "4            NaT               1       pt          Portuguese  "
      ]
     },
     "execution_count": 116,
     "metadata": {},
     "output_type": "execute_result"
    }
   ],
   "source": [
    "reviews_df_clean_2_multi_lingual.head()"
   ]
  },
  {
   "cell_type": "code",
   "execution_count": 117,
   "id": "3906021b",
   "metadata": {
    "ExecuteTime": {
     "end_time": "2022-05-22T20:47:17.744015Z",
     "start_time": "2022-05-22T20:47:17.729989Z"
    }
   },
   "outputs": [],
   "source": [
    "# Create a copy of the reviews_df_clean_2_multi_lingual dataframe and name it\n",
    "# all_dev_responses\n",
    "all_dev_responses = reviews_df_clean_2_multi_lingual.copy()"
   ]
  },
  {
   "cell_type": "code",
   "execution_count": 118,
   "id": "125f4396",
   "metadata": {
    "ExecuteTime": {
     "end_time": "2022-05-22T20:47:17.759090Z",
     "start_time": "2022-05-22T20:47:17.747006Z"
    }
   },
   "outputs": [],
   "source": [
    "# Retrieve only developer responses that are not missing\n",
    "all_dev_responses = all_dev_responses[all_dev_responses['dev_reply_text'].notna()]"
   ]
  },
  {
   "cell_type": "code",
   "execution_count": 119,
   "id": "c6fc0ec2",
   "metadata": {
    "ExecuteTime": {
     "end_time": "2022-05-22T20:47:17.789395Z",
     "start_time": "2022-05-22T20:47:17.761092Z"
    }
   },
   "outputs": [
    {
     "data": {
      "text/html": [
       "<div>\n",
       "<style scoped>\n",
       "    .dataframe tbody tr th:only-of-type {\n",
       "        vertical-align: middle;\n",
       "    }\n",
       "\n",
       "    .dataframe tbody tr th {\n",
       "        vertical-align: top;\n",
       "    }\n",
       "\n",
       "    .dataframe thead th {\n",
       "        text-align: right;\n",
       "    }\n",
       "</style>\n",
       "<table border=\"1\" class=\"dataframe\">\n",
       "  <thead>\n",
       "    <tr style=\"text-align: right;\">\n",
       "      <th></th>\n",
       "      <th>app_name</th>\n",
       "      <th>review_date</th>\n",
       "      <th>review_text</th>\n",
       "      <th>dev_reply_text</th>\n",
       "      <th>dev_reply_date</th>\n",
       "      <th>is_review_good</th>\n",
       "      <th>lang_iso</th>\n",
       "      <th>language</th>\n",
       "    </tr>\n",
       "  </thead>\n",
       "  <tbody>\n",
       "    <tr>\n",
       "      <th>19</th>\n",
       "      <td>Sticky Add To Cart BOOSTER PRO</td>\n",
       "      <td>2019-12-27</td>\n",
       "      <td>excelente ayuda a que la compra no se vaya de ...</td>\n",
       "      <td>Hola Amatista Electronik! ¡Muchas gracias por ...</td>\n",
       "      <td>2019-12-28</td>\n",
       "      <td>1</td>\n",
       "      <td>es</td>\n",
       "      <td>Spanish; Castilian</td>\n",
       "    </tr>\n",
       "    <tr>\n",
       "      <th>20</th>\n",
       "      <td>Sticky Add To Cart BOOSTER PRO</td>\n",
       "      <td>2019-11-24</td>\n",
       "      <td>jai vu votre appli sur certains sites et sans ...</td>\n",
       "      <td>Bonjour BeTech 4 Life ™, merci pour votre avis :)</td>\n",
       "      <td>2019-11-28</td>\n",
       "      <td>1</td>\n",
       "      <td>fr</td>\n",
       "      <td>French</td>\n",
       "    </tr>\n",
       "    <tr>\n",
       "      <th>21</th>\n",
       "      <td>Sticky Add To Cart BOOSTER PRO</td>\n",
       "      <td>2019-11-18</td>\n",
       "      <td>bonne application cest dommage quelle soit pay...</td>\n",
       "      <td>Bonjour Torgaw, nous apprécions la critique :)...</td>\n",
       "      <td>2019-11-18</td>\n",
       "      <td>1</td>\n",
       "      <td>fr</td>\n",
       "      <td>French</td>\n",
       "    </tr>\n",
       "    <tr>\n",
       "      <th>22</th>\n",
       "      <td>Sticky Add To Cart BOOSTER PRO</td>\n",
       "      <td>2019-10-17</td>\n",
       "      <td>vraiment satisfait de lapplication le rendu es...</td>\n",
       "      <td>Bonjour Ultimate Barbe™, merci pour cette bell...</td>\n",
       "      <td>2019-10-19</td>\n",
       "      <td>1</td>\n",
       "      <td>fr</td>\n",
       "      <td>French</td>\n",
       "    </tr>\n",
       "    <tr>\n",
       "      <th>23</th>\n",
       "      <td>Sticky Add To Cart BOOSTER PRO</td>\n",
       "      <td>2019-10-16</td>\n",
       "      <td>voy a probar la aplicacion haver si funciona e...</td>\n",
       "      <td>Hola Smart &amp; Market, gracias por tu comentario...</td>\n",
       "      <td>2019-10-16</td>\n",
       "      <td>1</td>\n",
       "      <td>es</td>\n",
       "      <td>Spanish; Castilian</td>\n",
       "    </tr>\n",
       "  </tbody>\n",
       "</table>\n",
       "</div>"
      ],
      "text/plain": [
       "                          app_name review_date  \\\n",
       "19  Sticky Add To Cart BOOSTER PRO  2019-12-27   \n",
       "20  Sticky Add To Cart BOOSTER PRO  2019-11-24   \n",
       "21  Sticky Add To Cart BOOSTER PRO  2019-11-18   \n",
       "22  Sticky Add To Cart BOOSTER PRO  2019-10-17   \n",
       "23  Sticky Add To Cart BOOSTER PRO  2019-10-16   \n",
       "\n",
       "                                          review_text  \\\n",
       "19  excelente ayuda a que la compra no se vaya de ...   \n",
       "20  jai vu votre appli sur certains sites et sans ...   \n",
       "21  bonne application cest dommage quelle soit pay...   \n",
       "22  vraiment satisfait de lapplication le rendu es...   \n",
       "23  voy a probar la aplicacion haver si funciona e...   \n",
       "\n",
       "                                       dev_reply_text dev_reply_date  \\\n",
       "19  Hola Amatista Electronik! ¡Muchas gracias por ...     2019-12-28   \n",
       "20  Bonjour BeTech 4 Life ™, merci pour votre avis :)     2019-11-28   \n",
       "21  Bonjour Torgaw, nous apprécions la critique :)...     2019-11-18   \n",
       "22  Bonjour Ultimate Barbe™, merci pour cette bell...     2019-10-19   \n",
       "23  Hola Smart & Market, gracias por tu comentario...     2019-10-16   \n",
       "\n",
       "    is_review_good lang_iso            language  \n",
       "19               1       es  Spanish; Castilian  \n",
       "20               1       fr              French  \n",
       "21               1       fr              French  \n",
       "22               1       fr              French  \n",
       "23               1       es  Spanish; Castilian  "
      ]
     },
     "execution_count": 119,
     "metadata": {},
     "output_type": "execute_result"
    }
   ],
   "source": [
    "all_dev_responses.head()"
   ]
  },
  {
   "cell_type": "code",
   "execution_count": 120,
   "id": "20bbfa89",
   "metadata": {
    "ExecuteTime": {
     "end_time": "2022-05-22T20:47:17.820431Z",
     "start_time": "2022-05-22T20:47:17.791396Z"
    }
   },
   "outputs": [
    {
     "name": "stderr",
     "output_type": "stream",
     "text": [
      "100%|██████████| 2213/2213 [00:00<00:00, 184430.03it/s]\n"
     ]
    }
   ],
   "source": [
    "# Apply the basic text pre-processing, which is removing the code for line breaks\n",
    "# This is necessary for being able to pass the data through the pre-trained \n",
    "# language detection classifier\n",
    "all_dev_responses['dev_reply_text'] = all_dev_responses['dev_reply_text'].progress_apply(lambda x: clean_review_round_1(x))"
   ]
  },
  {
   "cell_type": "code",
   "execution_count": 121,
   "id": "e1cbe5b5",
   "metadata": {
    "ExecuteTime": {
     "end_time": "2022-05-22T20:47:17.948025Z",
     "start_time": "2022-05-22T20:47:17.822972Z"
    },
    "scrolled": true
   },
   "outputs": [
    {
     "name": "stderr",
     "output_type": "stream",
     "text": [
      "100%|██████████| 2213/2213 [00:00<00:00, 18749.31it/s]\n"
     ]
    }
   ],
   "source": [
    "# Apply the language detection model that was previously defined\n",
    "all_dev_responses['dev_lang_iso'] = all_dev_responses['dev_reply_text'].progress_apply(lambda x: lang_detect(x))"
   ]
  },
  {
   "cell_type": "code",
   "execution_count": 122,
   "id": "d5b6882e",
   "metadata": {
    "ExecuteTime": {
     "end_time": "2022-05-22T20:47:17.963258Z",
     "start_time": "2022-05-22T20:47:17.950004Z"
    },
    "scrolled": false
   },
   "outputs": [
    {
     "data": {
      "text/plain": [
       "en   63.500\n",
       "fr   12.500\n",
       "es   10.000\n",
       "pt    4.800\n",
       "de    4.100\n",
       "it    2.500\n",
       "ja    0.500\n",
       "nl    0.400\n",
       "ru    0.400\n",
       "et    0.200\n",
       "he    0.200\n",
       "zh    0.200\n",
       "vi    0.100\n",
       "hu    0.100\n",
       "id    0.100\n",
       "cs    0.100\n",
       "ro    0.100\n",
       "sl    0.000\n",
       "ar    0.000\n",
       "tr    0.000\n",
       "sr    0.000\n",
       "ta    0.000\n",
       "no    0.000\n",
       "Name: dev_lang_iso, dtype: float64"
      ]
     },
     "execution_count": 122,
     "metadata": {},
     "output_type": "execute_result"
    }
   ],
   "source": [
    "# Express the proportion of developer response languages as percentage of\n",
    "# total developer responses observed for only non-english language reviews\n",
    "round(all_dev_responses['dev_lang_iso'].value_counts(normalize = True), 3) * 100"
   ]
  },
  {
   "cell_type": "code",
   "execution_count": 123,
   "id": "a7470a2f",
   "metadata": {
    "ExecuteTime": {
     "end_time": "2022-05-22T20:47:17.994980Z",
     "start_time": "2022-05-22T20:47:17.965246Z"
    },
    "scrolled": false
   },
   "outputs": [
    {
     "data": {
      "text/html": [
       "<div>\n",
       "<style scoped>\n",
       "    .dataframe tbody tr th:only-of-type {\n",
       "        vertical-align: middle;\n",
       "    }\n",
       "\n",
       "    .dataframe tbody tr th {\n",
       "        vertical-align: top;\n",
       "    }\n",
       "\n",
       "    .dataframe thead th {\n",
       "        text-align: right;\n",
       "    }\n",
       "</style>\n",
       "<table border=\"1\" class=\"dataframe\">\n",
       "  <thead>\n",
       "    <tr style=\"text-align: right;\">\n",
       "      <th></th>\n",
       "      <th>app_name</th>\n",
       "      <th>review_date</th>\n",
       "      <th>review_text</th>\n",
       "      <th>dev_reply_text</th>\n",
       "      <th>dev_reply_date</th>\n",
       "      <th>is_review_good</th>\n",
       "      <th>lang_iso</th>\n",
       "      <th>language</th>\n",
       "      <th>dev_lang_iso</th>\n",
       "    </tr>\n",
       "  </thead>\n",
       "  <tbody>\n",
       "    <tr>\n",
       "      <th>24</th>\n",
       "      <td>Sticky Add To Cart BOOSTER PRO</td>\n",
       "      <td>2019-10-11</td>\n",
       "      <td>asdasdasdasdasdasdasdklidashoiasdhodhasoldnaso...</td>\n",
       "      <td>Hi Azmita, thank you for your review 🙏! Happy ...</td>\n",
       "      <td>2019-10-13</td>\n",
       "      <td>1</td>\n",
       "      <td>de</td>\n",
       "      <td>German</td>\n",
       "      <td>en</td>\n",
       "    </tr>\n",
       "    <tr>\n",
       "      <th>27</th>\n",
       "      <td>Sticky Add To Cart BOOSTER PRO</td>\n",
       "      <td>2019-09-21</td>\n",
       "      <td>nicee</td>\n",
       "      <td>Hi Woman Body Shape, thank you for your review...</td>\n",
       "      <td>2019-09-25</td>\n",
       "      <td>1</td>\n",
       "      <td>nl</td>\n",
       "      <td>Dutch; Flemish</td>\n",
       "      <td>en</td>\n",
       "    </tr>\n",
       "    <tr>\n",
       "      <th>36</th>\n",
       "      <td>Sticky Add To Cart BOOSTER PRO</td>\n",
       "      <td>2019-07-18</td>\n",
       "      <td>nicee</td>\n",
       "      <td>Thank you for your review!! :) 🙏 🤩</td>\n",
       "      <td>2019-07-19</td>\n",
       "      <td>1</td>\n",
       "      <td>nl</td>\n",
       "      <td>Dutch; Flemish</td>\n",
       "      <td>en</td>\n",
       "    </tr>\n",
       "    <tr>\n",
       "      <th>78</th>\n",
       "      <td>FAQ Accordion | Help Center</td>\n",
       "      <td>2020-07-29</td>\n",
       "      <td>aplicativo diz ter plano gratuito e é verdade ...</td>\n",
       "      <td>Hi there, So sorry if the free features you ca...</td>\n",
       "      <td>2020-08-25</td>\n",
       "      <td>0</td>\n",
       "      <td>pt</td>\n",
       "      <td>Portuguese</td>\n",
       "      <td>en</td>\n",
       "    </tr>\n",
       "    <tr>\n",
       "      <th>79</th>\n",
       "      <td>FAQ Accordion | Help Center</td>\n",
       "      <td>2020-05-18</td>\n",
       "      <td>péssimo péssimo péssimo perca de tempo horríve...</td>\n",
       "      <td>Hi there, Thanks for writing in and so sorry f...</td>\n",
       "      <td>2020-05-19</td>\n",
       "      <td>0</td>\n",
       "      <td>pt</td>\n",
       "      <td>Portuguese</td>\n",
       "      <td>en</td>\n",
       "    </tr>\n",
       "    <tr>\n",
       "      <th>...</th>\n",
       "      <td>...</td>\n",
       "      <td>...</td>\n",
       "      <td>...</td>\n",
       "      <td>...</td>\n",
       "      <td>...</td>\n",
       "      <td>...</td>\n",
       "      <td>...</td>\n",
       "      <td>...</td>\n",
       "      <td>...</td>\n",
       "    </tr>\n",
       "    <tr>\n",
       "      <th>19276</th>\n",
       "      <td>Affiliatly Affiliate Marketing</td>\n",
       "      <td>2020-05-28</td>\n",
       "      <td>jai téléchargé ce matin votre application jai ...</td>\n",
       "      <td>Hi, ​we have a french translation, you can ena...</td>\n",
       "      <td>2020-05-28</td>\n",
       "      <td>1</td>\n",
       "      <td>fr</td>\n",
       "      <td>French</td>\n",
       "      <td>en</td>\n",
       "    </tr>\n",
       "    <tr>\n",
       "      <th>19317</th>\n",
       "      <td>Promotion Popup by Secomapp</td>\n",
       "      <td>2018-04-17</td>\n",
       "      <td>assez pratique lappli est simple dutilisation ...</td>\n",
       "      <td>Thanks for your review. If you confuse about a...</td>\n",
       "      <td>2019-07-14</td>\n",
       "      <td>0</td>\n",
       "      <td>fr</td>\n",
       "      <td>French</td>\n",
       "      <td>en</td>\n",
       "    </tr>\n",
       "    <tr>\n",
       "      <th>19322</th>\n",
       "      <td>Image Optimizer</td>\n",
       "      <td>2019-09-15</td>\n",
       "      <td>i love it</td>\n",
       "      <td>Thank you so much for taking the time to leave...</td>\n",
       "      <td>2019-09-15</td>\n",
       "      <td>1</td>\n",
       "      <td>sv</td>\n",
       "      <td>Swedish</td>\n",
       "      <td>en</td>\n",
       "    </tr>\n",
       "    <tr>\n",
       "      <th>19323</th>\n",
       "      <td>Image Optimizer</td>\n",
       "      <td>2019-05-03</td>\n",
       "      <td>muito bom adorei deixou meu sitem muito mais l...</td>\n",
       "      <td>Muito Obrigado! Thank you so much for the grea...</td>\n",
       "      <td>2019-05-04</td>\n",
       "      <td>1</td>\n",
       "      <td>pt</td>\n",
       "      <td>Portuguese</td>\n",
       "      <td>en</td>\n",
       "    </tr>\n",
       "    <tr>\n",
       "      <th>19335</th>\n",
       "      <td>Best Custom Product Options</td>\n",
       "      <td>2020-08-26</td>\n",
       "      <td>en cours de résolution je modifierais la note ...</td>\n",
       "      <td>Sorry we are located in California and were sl...</td>\n",
       "      <td>2020-08-26</td>\n",
       "      <td>0</td>\n",
       "      <td>fr</td>\n",
       "      <td>French</td>\n",
       "      <td>en</td>\n",
       "    </tr>\n",
       "  </tbody>\n",
       "</table>\n",
       "<p>1405 rows × 9 columns</p>\n",
       "</div>"
      ],
      "text/plain": [
       "                             app_name review_date  \\\n",
       "24     Sticky Add To Cart BOOSTER PRO  2019-10-11   \n",
       "27     Sticky Add To Cart BOOSTER PRO  2019-09-21   \n",
       "36     Sticky Add To Cart BOOSTER PRO  2019-07-18   \n",
       "78        FAQ Accordion | Help Center  2020-07-29   \n",
       "79        FAQ Accordion | Help Center  2020-05-18   \n",
       "...                               ...         ...   \n",
       "19276  Affiliatly Affiliate Marketing  2020-05-28   \n",
       "19317     Promotion Popup by Secomapp  2018-04-17   \n",
       "19322                 Image Optimizer  2019-09-15   \n",
       "19323                 Image Optimizer  2019-05-03   \n",
       "19335     Best Custom Product Options  2020-08-26   \n",
       "\n",
       "                                             review_text  \\\n",
       "24     asdasdasdasdasdasdasdklidashoiasdhodhasoldnaso...   \n",
       "27                                                 nicee   \n",
       "36                                                 nicee   \n",
       "78     aplicativo diz ter plano gratuito e é verdade ...   \n",
       "79     péssimo péssimo péssimo perca de tempo horríve...   \n",
       "...                                                  ...   \n",
       "19276  jai téléchargé ce matin votre application jai ...   \n",
       "19317  assez pratique lappli est simple dutilisation ...   \n",
       "19322                                          i love it   \n",
       "19323  muito bom adorei deixou meu sitem muito mais l...   \n",
       "19335  en cours de résolution je modifierais la note ...   \n",
       "\n",
       "                                          dev_reply_text dev_reply_date  \\\n",
       "24     Hi Azmita, thank you for your review 🙏! Happy ...     2019-10-13   \n",
       "27     Hi Woman Body Shape, thank you for your review...     2019-09-25   \n",
       "36                    Thank you for your review!! :) 🙏 🤩     2019-07-19   \n",
       "78     Hi there, So sorry if the free features you ca...     2020-08-25   \n",
       "79     Hi there, Thanks for writing in and so sorry f...     2020-05-19   \n",
       "...                                                  ...            ...   \n",
       "19276  Hi, ​we have a french translation, you can ena...     2020-05-28   \n",
       "19317  Thanks for your review. If you confuse about a...     2019-07-14   \n",
       "19322  Thank you so much for taking the time to leave...     2019-09-15   \n",
       "19323  Muito Obrigado! Thank you so much for the grea...     2019-05-04   \n",
       "19335  Sorry we are located in California and were sl...     2020-08-26   \n",
       "\n",
       "       is_review_good lang_iso        language dev_lang_iso  \n",
       "24                  1       de          German           en  \n",
       "27                  1       nl  Dutch; Flemish           en  \n",
       "36                  1       nl  Dutch; Flemish           en  \n",
       "78                  0       pt      Portuguese           en  \n",
       "79                  0       pt      Portuguese           en  \n",
       "...               ...      ...             ...          ...  \n",
       "19276               1       fr          French           en  \n",
       "19317               0       fr          French           en  \n",
       "19322               1       sv         Swedish           en  \n",
       "19323               1       pt      Portuguese           en  \n",
       "19335               0       fr          French           en  \n",
       "\n",
       "[1405 rows x 9 columns]"
      ]
     },
     "execution_count": 123,
     "metadata": {},
     "output_type": "execute_result"
    }
   ],
   "source": [
    "# Look at all the developer responses that responded in the English language\n",
    "# and compare that with the language that the review was written in\n",
    "all_dev_responses[all_dev_responses['dev_lang_iso'] == 'en']"
   ]
  },
  {
   "cell_type": "markdown",
   "id": "7dca11e4",
   "metadata": {},
   "source": [
    "Although some of the classified multi-language reviews were actually in English, it is interesting to see that $\\approx$ 64% of developer responses to non-English language reviews were written in English. This finding indicates a potential language barrier that exists within the Shopify App Store when it comes to interacting with users/merchants and possible challenges for receiving assistance, if any."
   ]
  },
  {
   "cell_type": "markdown",
   "id": "ab20af35",
   "metadata": {},
   "source": [
    "# Summary"
   ]
  },
  {
   "cell_type": "markdown",
   "id": "8209c827",
   "metadata": {},
   "source": [
    "Through various rounds of text pre-processing followed by separating out English language reviews from non-English reviews, dimensionality reduction was achieved through reducing the size of the vocabulary or unique tokens observed across the corpus of reviews from $\\approx$ 104,000 to $\\approx$ 77,000 - 81,000."
   ]
  },
  {
   "cell_type": "markdown",
   "id": "63482cbe",
   "metadata": {},
   "source": [
    "Among the top 10 most frequently observed tokens in the reviews, terms related to `customer support`, `support` or `help` may foreshadow an important theme across the reviews. Unigrams with generally positive sentiment, such as `good`, `great`, `easy`, were among the most frequent words and may be a result of $\\approx$ 93% of reviews being positively rated. \n",
    "\n",
    "By implementing bigrams to be extracted from the reviews, of the top 20 bigrams, `easy use` was the most common token. This may indicate the importance to users/merchents about an app's usability. Furthermore, bigrams such as `customer service`, `support team`, and `customer support` indicate the importance of customer support received from app developers. Many positive sentiments were observed within the bigrams, such as `highly recommend` or `good app`. Although, `recommend app` may appear to have positive sentiment, it is unclear whether preceding words include `not`, which would change the sentiment completely. This finding supports the case for including trigrams into future analysis to improve the understanding for characteristics that relate to positive and negative reviews. \n",
    "\n",
    "As an immediate actionable insight, these frequent bigrams may be beneficial to the user community to quickly gauge the overall sentiment of an app before choosing to install or use it. Integrating the top 5 most positive and/or negative bigrams observed for all the reviews for a particular app within the app store may facilitate easier decision making."
   ]
  },
  {
   "cell_type": "markdown",
   "id": "d94ca1c0",
   "metadata": {},
   "source": [
    "There was about 94 different languages observed throughout the multi-language reviews. To account for potential language misclassification, an arbitrary threshold was used and it was determined that 32 languages were present (based on observing more than 10 reviews for a particular language). In observing the multi-language or non-English language review, $\\approx$ 64% of developer responses to those reviews were completed in the English language. This finding may indicate a potential language barrier for users/merchants that authored non-English language reviews seeking support or guidance but receiving responses not in their native language. Further analysis is warranted to identify the strength of the support being provided to non-English merchants within the Shopify App store ecosystem."
   ]
  },
  {
   "cell_type": "markdown",
   "id": "778115e6",
   "metadata": {},
   "source": [
    "In adopting the data-centric mindset, further optimization of the text-preprocessing with custom stop words list can be used, followed by iterative text normalization."
   ]
  },
  {
   "cell_type": "markdown",
   "id": "bce76915",
   "metadata": {},
   "source": [
    "Future analyses can integrate Textblob or VADER for sentiment analysis with values between -1 and +1 and create a scatterplot with respect to polarity of positive and negative reviews or observe how it changes over time. Furthermore, a tSNE plot may be another option for visualizing positive and negative reviews for determining how separate or not the reviews are and whether the class imbalance needs to be addressed with various sampling techniques."
   ]
  }
 ],
 "metadata": {
  "kernelspec": {
   "display_name": "Python 3 (ipykernel)",
   "language": "python",
   "name": "python3"
  },
  "language_info": {
   "codemirror_mode": {
    "name": "ipython",
    "version": 3
   },
   "file_extension": ".py",
   "mimetype": "text/x-python",
   "name": "python",
   "nbconvert_exporter": "python",
   "pygments_lexer": "ipython3",
   "version": "3.9.7"
  },
  "toc": {
   "base_numbering": 1,
   "nav_menu": {},
   "number_sections": true,
   "sideBar": true,
   "skip_h1_title": false,
   "title_cell": "Table of Contents",
   "title_sidebar": "Contents",
   "toc_cell": false,
   "toc_position": {
    "height": "calc(100% - 180px)",
    "left": "10px",
    "top": "150px",
    "width": "356px"
   },
   "toc_section_display": true,
   "toc_window_display": true
  },
  "varInspector": {
   "cols": {
    "lenName": 16,
    "lenType": 16,
    "lenVar": 40
   },
   "kernels_config": {
    "python": {
     "delete_cmd_postfix": "",
     "delete_cmd_prefix": "del ",
     "library": "var_list.py",
     "varRefreshCmd": "print(var_dic_list())"
    },
    "r": {
     "delete_cmd_postfix": ") ",
     "delete_cmd_prefix": "rm(",
     "library": "var_list.r",
     "varRefreshCmd": "cat(var_dic_list()) "
    }
   },
   "types_to_exclude": [
    "module",
    "function",
    "builtin_function_or_method",
    "instance",
    "_Feature"
   ],
   "window_display": false
  }
 },
 "nbformat": 4,
 "nbformat_minor": 5
}
