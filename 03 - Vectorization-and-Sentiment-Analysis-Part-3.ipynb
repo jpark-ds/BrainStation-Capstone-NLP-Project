{
 "cells": [
  {
   "cell_type": "markdown",
   "id": "ed0199dc",
   "metadata": {
    "ExecuteTime": {
     "end_time": "2022-04-04T00:44:03.052933Z",
     "start_time": "2022-04-04T00:44:03.037934Z"
    }
   },
   "source": [
    "Name: Jonathan Park <br>\n",
    "Date: 2022.04.03"
   ]
  },
  {
   "cell_type": "markdown",
   "id": "2d338df0",
   "metadata": {},
   "source": [
    "# Project Shappify: Vectorization and Sentiment Analysis Part 3\n",
    "***"
   ]
  },
  {
   "cell_type": "markdown",
   "id": "23ad2cc6",
   "metadata": {},
   "source": [
    "## Introduction"
   ]
  },
  {
   "cell_type": "markdown",
   "id": "195a80f5",
   "metadata": {},
   "source": [
    "Taking the outputs of the English-only review texts from Part 2, the next steps will involve creating a Document-Term Matrix (DTM) and feeding it into a logistic regression (logit) model. To minimize any data leakage, pipelines will be implemented through sklearn's library. Obtaining optimal hyperparameters for the logit model will be iteratively achieved through a grid search that searches for optimal hyperparameters.\n",
    "\n",
    "Several different logit models are created to also highlight the importance of the data-centric approach to machine learning by showing how the classification performance metrics of the model can change due to the different steps of text pre-processing previously implemented. For instance, we will see that a logit model of the reviews text without separating English-only reviews will show poorer model performance compared to a logit model with just the English review texts."
   ]
  },
  {
   "cell_type": "markdown",
   "id": "4ed20f54",
   "metadata": {},
   "source": [
    "### Import Packages"
   ]
  },
  {
   "cell_type": "code",
   "execution_count": 1,
   "id": "25dd9669",
   "metadata": {
    "ExecuteTime": {
     "end_time": "2022-05-22T20:44:19.602968Z",
     "start_time": "2022-05-22T20:44:17.420190Z"
    }
   },
   "outputs": [],
   "source": [
    "# Array and dataframe manipulation libraries\n",
    "import numpy as np\n",
    "import pandas as pd\n",
    "\n",
    "# Plotting libraries\n",
    "import matplotlib.pyplot as plt\n",
    "import seaborn as sns\n",
    "\n",
    "# Visual progress bar library\n",
    "from tqdm import tqdm\n",
    "tqdm.pandas()\n",
    "\n",
    "# Sklearn library for model-related function\n",
    "# and retrieving model metrics\n",
    "from sklearn.model_selection import train_test_split\n",
    "from sklearn.model_selection import cross_val_score\n",
    "from sklearn.model_selection import GridSearchCV\n",
    "from sklearn.feature_extraction.text import CountVectorizer\n",
    "from sklearn.linear_model import LogisticRegression\n",
    "from sklearn.pipeline import Pipeline\n",
    "from sklearn.metrics import confusion_matrix, recall_score, precision_score, f1_score, classification_report\n",
    "from sklearn import set_config\n",
    "set_config(display=\"diagram\")\n",
    "\n",
    "# Saving models\n",
    "import pickle"
   ]
  },
  {
   "cell_type": "markdown",
   "id": "01d0875a",
   "metadata": {},
   "source": [
    "### Defining Functions"
   ]
  },
  {
   "cell_type": "markdown",
   "id": "344b16eb",
   "metadata": {},
   "source": [
    "I will be define some functions that will be used throughout the notebook here."
   ]
  },
  {
   "cell_type": "markdown",
   "id": "dab75b9b",
   "metadata": {},
   "source": [
    "#### Train-Test Split Function"
   ]
  },
  {
   "cell_type": "markdown",
   "id": "b405a758",
   "metadata": {},
   "source": [
    "Create stratified train and test splits of the dataset via sklearn's library and simultaneously output the shapes of the dataframes created."
   ]
  },
  {
   "cell_type": "code",
   "execution_count": 2,
   "id": "7dcb2f3d",
   "metadata": {
    "ExecuteTime": {
     "end_time": "2022-05-22T20:44:19.618998Z",
     "start_time": "2022-05-22T20:44:19.604972Z"
    }
   },
   "outputs": [],
   "source": [
    "def train_test_split_print(X, y, size, random_state):\n",
    "    \n",
    "    \"\"\"\n",
    "    Create stratified, randomized train and test split of the inputted dataset\n",
    "    and print the shapes of each train and test subset.\n",
    "\n",
    "    Parameters\n",
    "    ----------\n",
    "    X : Arrays* representing the independent variable(s). Must be of same length of y.\n",
    "    y : Arrays* representing the dependent variable. Must be of same length of X.\n",
    "    size : An input argument for the train_test_split from sklearn\n",
    "           library. Specification for proportion of dataset (float) or \n",
    "           absolute value (int) to be allocated for test subset.\n",
    "    random_state : Seed number for random number generator for reproducible data.\n",
    "\n",
    "    Returns\n",
    "    -------\n",
    "    X_remainder : Subset of X for train and cross-validation data.\n",
    "    X_test : Subset of X for test data.\n",
    "    y_remainder : Subset of y for train and cross-validation data.\n",
    "    y_test : Subset of y for test data.\n",
    "    \n",
    "    * refers to arrays as defined by sklearn's train_test_split function documentation.\n",
    "    \"\"\"\n",
    "\n",
    "    print_line = \"\\n=======================================================\\n\"\n",
    "\n",
    "    print('\\n Before Train and Test Split', print_line)\n",
    "    print(f\"Shape of X = {X.shape}; Shape of y = {y.shape}\")\n",
    "    \n",
    "    \n",
    "    # Splitting the data into train and test datasets using\n",
    "    # train_test_split function from sklearn library\n",
    "    X_remainder, X_test, y_remainder, y_test = train_test_split(X,\n",
    "                                                                y,\n",
    "                                                                test_size=size,\n",
    "                                                                random_state=random_state,\n",
    "                                                                stratify=y)\n",
    "\n",
    "    print('\\n\\n After Train and Test Split', print_line)\n",
    "\n",
    "    print('Train/Valiation Dataset \\n')\n",
    "    print(f\"Shape of X_remainder = {X_remainder.shape}; Shape of y_remainder = {y_remainder.shape}\")\n",
    "    \n",
    "    print('\\n')\n",
    "\n",
    "    print('Test Dataset \\n')\n",
    "    print(f\"Shape of X_test = {X_test.shape}; Shape of y_test = {y_test.shape}\")\n",
    "    \n",
    "    return (X_remainder, X_test, y_remainder, y_test)"
   ]
  },
  {
   "cell_type": "markdown",
   "id": "603e5cea",
   "metadata": {},
   "source": [
    "#### Model Performance Metrics Function"
   ]
  },
  {
   "cell_type": "markdown",
   "id": "a140d1d6",
   "metadata": {},
   "source": [
    "Output the model classification report and confusion matrix for a given model."
   ]
  },
  {
   "cell_type": "code",
   "execution_count": 3,
   "id": "e6a70ed8",
   "metadata": {
    "ExecuteTime": {
     "end_time": "2022-05-22T20:44:19.634760Z",
     "start_time": "2022-05-22T20:44:19.619969Z"
    }
   },
   "outputs": [],
   "source": [
    "def model_performance_metrics(model, X_train, y_train, X_test, y_test):\n",
    "\n",
    "    \"\"\"\n",
    "    Prints the confusion matrix and classification report for train/remainder\n",
    "    and test data subsets using the specified fitted model. Confusion matrix and \n",
    "    classification report functions are from sklearn library. Returns various\n",
    "    performance metrics for the model on the train/remainder and test data subsets.\n",
    "\n",
    "    Parameters\n",
    "    ----------\n",
    "    model : The fitted model used to predict classifications and assess performance metrics on. \n",
    "    X_train : Subset of X for train and cross-validation data (i.e., remainder).\n",
    "    y_train : Subset of y for train and cross-validation data.\n",
    "    X_test : Subset of X for test data.\n",
    "    y_test : Subset of y for test data.\n",
    "    \n",
    "    \n",
    "    Returns\n",
    "    -------\n",
    "    precision : Model precision on the train/remainder and test data subsets. \n",
    "    recall : Model recall on the train/remainder and test data subsets. \n",
    "    f1_score : Model harmonic mean scores on the train/remainder and test data subsets. \n",
    "\n",
    "    \"\"\"\n",
    "\n",
    "    # Define empty variables\n",
    "    precision = []\n",
    "    recall = []\n",
    "    f1_score = []\n",
    "    \n",
    "    for title,x,y in (['Train Data', X_train, y_train],\n",
    "                      ['Test Data', X_test, y_test]):\n",
    "\n",
    "        print_line = \"\\n=======================================================\\n\"\n",
    "\n",
    "        # Title\n",
    "        print(f\"Confusion matrix for {title}:\", print_line)\n",
    "\n",
    "        # Predict classifications\n",
    "        y_pred = model.predict(x)\n",
    "\n",
    "        # Display confusion matrix; function from sklearn library\n",
    "        conmat = pd.DataFrame(data = confusion_matrix(y, y_pred),\n",
    "                              index = ['True 0 [Negative Review]', 'True 1 [Positive Review]'],\n",
    "                              columns = ['Predicted 0 [Negative Review]', 'Predicted 1 [Positive Review]']\n",
    "                             )\n",
    "        \n",
    "        display(conmat)\n",
    "        \n",
    "        # Title\n",
    "        print(f\"Classification Report for {title}:\", print_line)\n",
    "\n",
    "        # Create target names for classification report labels\n",
    "        target_names = ['Negative (Class 0)', 'Positive (Class 1)']\n",
    "        \n",
    "        # Print classification report output; function from sklearn library\n",
    "        report_initial = classification_report(y, y_pred, target_names=target_names)\n",
    "        \n",
    "        print(report_initial)\n",
    "        \n",
    "        # Classification report output as dict\n",
    "        report_dict = classification_report(y, y_pred, target_names=target_names, output_dict=True)\n",
    "\n",
    "        # Create dataframe from the classification report\n",
    "        metrics_df = pd.DataFrame(report_dict).T\n",
    "        metrics_df = metrics_df.iloc[0:2, 0:3]\n",
    "\n",
    "        # Append performance metrics to corresponding variables initially defined\n",
    "        precision.append(f\"{metrics_df['precision'].values[0]*100:0.1f}%\")\n",
    "        precision.append(f\"{metrics_df['precision'].values[1]*100:0.1f}%\")\n",
    "        recall.append(f\"{metrics_df['recall'].values[0]*100:0.1f}%\")\n",
    "        recall.append(f\"{metrics_df['recall'].values[1]*100:0.1f}%\")\n",
    "        f1_score.append(f\"{metrics_df['f1-score'].values[0]*100:0.1f}%\")\n",
    "        f1_score.append(f\"{metrics_df['f1-score'].values[1]*100:0.1f}%\")\n",
    "\n",
    "\n",
    "    return precision, recall, f1_score"
   ]
  },
  {
   "cell_type": "markdown",
   "id": "59ee3ded",
   "metadata": {},
   "source": [
    "## All Language Reviews with No Rounds of Text Pre-processing"
   ]
  },
  {
   "cell_type": "markdown",
   "id": "e2631317",
   "metadata": {},
   "source": [
    "I will first fit a logistic regression model on the `reviews_df_part_1` that contains no text pre-processing or language detection and separation."
   ]
  },
  {
   "cell_type": "markdown",
   "id": "b52aadfe",
   "metadata": {},
   "source": [
    "### Import Data - Reviews from Part 1"
   ]
  },
  {
   "cell_type": "code",
   "execution_count": 4,
   "id": "3bcebaf1",
   "metadata": {
    "ExecuteTime": {
     "end_time": "2022-05-22T20:44:19.917283Z",
     "start_time": "2022-05-22T20:44:19.636729Z"
    }
   },
   "outputs": [],
   "source": [
    "# Import dataset\n",
    "reviews_df = pd.read_pickle('reviews_df_part_1.pkl')"
   ]
  },
  {
   "cell_type": "markdown",
   "id": "203a45b1",
   "metadata": {},
   "source": [
    "Quick glimpse of the top 5 and bottom 5 rows."
   ]
  },
  {
   "cell_type": "code",
   "execution_count": 5,
   "id": "c6dc8071",
   "metadata": {
    "ExecuteTime": {
     "end_time": "2022-05-22T20:44:19.948134Z",
     "start_time": "2022-05-22T20:44:19.918255Z"
    }
   },
   "outputs": [
    {
     "data": {
      "text/html": [
       "<div>\n",
       "<style scoped>\n",
       "    .dataframe tbody tr th:only-of-type {\n",
       "        vertical-align: middle;\n",
       "    }\n",
       "\n",
       "    .dataframe tbody tr th {\n",
       "        vertical-align: top;\n",
       "    }\n",
       "\n",
       "    .dataframe thead th {\n",
       "        text-align: right;\n",
       "    }\n",
       "</style>\n",
       "<table border=\"1\" class=\"dataframe\">\n",
       "  <thead>\n",
       "    <tr style=\"text-align: right;\">\n",
       "      <th></th>\n",
       "      <th>app_name</th>\n",
       "      <th>author</th>\n",
       "      <th>rating</th>\n",
       "      <th>review_date</th>\n",
       "      <th>review_text</th>\n",
       "      <th>helpful_count</th>\n",
       "      <th>dev_reply_text</th>\n",
       "      <th>dev_reply_date</th>\n",
       "      <th>is_review_good</th>\n",
       "    </tr>\n",
       "  </thead>\n",
       "  <tbody>\n",
       "    <tr>\n",
       "      <th>0</th>\n",
       "      <td>Instant Search +</td>\n",
       "      <td>Consuela</td>\n",
       "      <td>5</td>\n",
       "      <td>2020-08-06</td>\n",
       "      <td>Great and super fast customer service! Highly ...</td>\n",
       "      <td>0</td>\n",
       "      <td>NaN</td>\n",
       "      <td>NaT</td>\n",
       "      <td>1</td>\n",
       "    </tr>\n",
       "    <tr>\n",
       "      <th>1</th>\n",
       "      <td>Instant Search +</td>\n",
       "      <td>L'Atelier Global</td>\n",
       "      <td>5</td>\n",
       "      <td>2020-08-04</td>\n",
       "      <td>Still setting up my store, and after initially...</td>\n",
       "      <td>0</td>\n",
       "      <td>NaN</td>\n",
       "      <td>NaT</td>\n",
       "      <td>1</td>\n",
       "    </tr>\n",
       "    <tr>\n",
       "      <th>2</th>\n",
       "      <td>Instant Search +</td>\n",
       "      <td>city'super E-Shop</td>\n",
       "      <td>5</td>\n",
       "      <td>2020-08-04</td>\n",
       "      <td>This is an excellent search app, which they ha...</td>\n",
       "      <td>0</td>\n",
       "      <td>NaN</td>\n",
       "      <td>NaT</td>\n",
       "      <td>1</td>\n",
       "    </tr>\n",
       "    <tr>\n",
       "      <th>3</th>\n",
       "      <td>Instant Search +</td>\n",
       "      <td>PortableHandwashing.com</td>\n",
       "      <td>5</td>\n",
       "      <td>2020-07-30</td>\n",
       "      <td>A+, great great great customer service! thanks...</td>\n",
       "      <td>0</td>\n",
       "      <td>NaN</td>\n",
       "      <td>NaT</td>\n",
       "      <td>1</td>\n",
       "    </tr>\n",
       "    <tr>\n",
       "      <th>4</th>\n",
       "      <td>Instant Search +</td>\n",
       "      <td>ICCTUNING</td>\n",
       "      <td>5</td>\n",
       "      <td>2020-07-28</td>\n",
       "      <td>I'm begginig to use this app, the search engin...</td>\n",
       "      <td>0</td>\n",
       "      <td>NaN</td>\n",
       "      <td>NaT</td>\n",
       "      <td>1</td>\n",
       "    </tr>\n",
       "  </tbody>\n",
       "</table>\n",
       "</div>"
      ],
      "text/plain": [
       "           app_name                   author  rating review_date  \\\n",
       "0  Instant Search +                 Consuela       5  2020-08-06   \n",
       "1  Instant Search +         L'Atelier Global       5  2020-08-04   \n",
       "2  Instant Search +        city'super E-Shop       5  2020-08-04   \n",
       "3  Instant Search +  PortableHandwashing.com       5  2020-07-30   \n",
       "4  Instant Search +                ICCTUNING       5  2020-07-28   \n",
       "\n",
       "                                         review_text  helpful_count  \\\n",
       "0  Great and super fast customer service! Highly ...              0   \n",
       "1  Still setting up my store, and after initially...              0   \n",
       "2  This is an excellent search app, which they ha...              0   \n",
       "3  A+, great great great customer service! thanks...              0   \n",
       "4  I'm begginig to use this app, the search engin...              0   \n",
       "\n",
       "  dev_reply_text dev_reply_date  is_review_good  \n",
       "0            NaN            NaT               1  \n",
       "1            NaN            NaT               1  \n",
       "2            NaN            NaT               1  \n",
       "3            NaN            NaT               1  \n",
       "4            NaN            NaT               1  "
      ]
     },
     "execution_count": 5,
     "metadata": {},
     "output_type": "execute_result"
    }
   ],
   "source": [
    "reviews_df.head()"
   ]
  },
  {
   "cell_type": "code",
   "execution_count": 6,
   "id": "0086de9a",
   "metadata": {
    "ExecuteTime": {
     "end_time": "2022-05-22T20:44:19.964117Z",
     "start_time": "2022-05-22T20:44:19.950120Z"
    }
   },
   "outputs": [
    {
     "data": {
      "text/html": [
       "<div>\n",
       "<style scoped>\n",
       "    .dataframe tbody tr th:only-of-type {\n",
       "        vertical-align: middle;\n",
       "    }\n",
       "\n",
       "    .dataframe tbody tr th {\n",
       "        vertical-align: top;\n",
       "    }\n",
       "\n",
       "    .dataframe thead th {\n",
       "        text-align: right;\n",
       "    }\n",
       "</style>\n",
       "<table border=\"1\" class=\"dataframe\">\n",
       "  <thead>\n",
       "    <tr style=\"text-align: right;\">\n",
       "      <th></th>\n",
       "      <th>app_name</th>\n",
       "      <th>author</th>\n",
       "      <th>rating</th>\n",
       "      <th>review_date</th>\n",
       "      <th>review_text</th>\n",
       "      <th>helpful_count</th>\n",
       "      <th>dev_reply_text</th>\n",
       "      <th>dev_reply_date</th>\n",
       "      <th>is_review_good</th>\n",
       "    </tr>\n",
       "  </thead>\n",
       "  <tbody>\n",
       "    <tr>\n",
       "      <th>446968</th>\n",
       "      <td>COD Order Confirmation</td>\n",
       "      <td>Feltin</td>\n",
       "      <td>5</td>\n",
       "      <td>2018-03-22</td>\n",
       "      <td>Very very well explained tutorial. Seems very ...</td>\n",
       "      <td>0</td>\n",
       "      <td>NaN</td>\n",
       "      <td>NaT</td>\n",
       "      <td>1</td>\n",
       "    </tr>\n",
       "    <tr>\n",
       "      <th>446969</th>\n",
       "      <td>COD Order Confirmation</td>\n",
       "      <td>Srstore09</td>\n",
       "      <td>5</td>\n",
       "      <td>2018-01-23</td>\n",
       "      <td>Finally we have an App for for CoD Confirmatio...</td>\n",
       "      <td>0</td>\n",
       "      <td>NaN</td>\n",
       "      <td>NaT</td>\n",
       "      <td>1</td>\n",
       "    </tr>\n",
       "    <tr>\n",
       "      <th>446970</th>\n",
       "      <td>COD Order Confirmation</td>\n",
       "      <td>Eshop Fashion</td>\n",
       "      <td>5</td>\n",
       "      <td>2018-01-05</td>\n",
       "      <td>Useful, App help us to reduce cost &amp; time. hig...</td>\n",
       "      <td>0</td>\n",
       "      <td>NaN</td>\n",
       "      <td>NaT</td>\n",
       "      <td>1</td>\n",
       "    </tr>\n",
       "    <tr>\n",
       "      <th>446971</th>\n",
       "      <td>COD Order Confirmation</td>\n",
       "      <td>Arabicworld</td>\n",
       "      <td>1</td>\n",
       "      <td>2017-06-15</td>\n",
       "      <td>Do not purchase this application!\\nit's like s...</td>\n",
       "      <td>0</td>\n",
       "      <td>NaN</td>\n",
       "      <td>NaT</td>\n",
       "      <td>0</td>\n",
       "    </tr>\n",
       "    <tr>\n",
       "      <th>446972</th>\n",
       "      <td>COD Order Confirmation</td>\n",
       "      <td>Ethnicyug</td>\n",
       "      <td>5</td>\n",
       "      <td>2016-01-06</td>\n",
       "      <td>​​A must​ have​ app for those having e-stores ...</td>\n",
       "      <td>0</td>\n",
       "      <td>NaN</td>\n",
       "      <td>NaT</td>\n",
       "      <td>1</td>\n",
       "    </tr>\n",
       "  </tbody>\n",
       "</table>\n",
       "</div>"
      ],
      "text/plain": [
       "                      app_name         author  rating review_date  \\\n",
       "446968  COD Order Confirmation         Feltin       5  2018-03-22   \n",
       "446969  COD Order Confirmation      Srstore09       5  2018-01-23   \n",
       "446970  COD Order Confirmation  Eshop Fashion       5  2018-01-05   \n",
       "446971  COD Order Confirmation    Arabicworld       1  2017-06-15   \n",
       "446972  COD Order Confirmation      Ethnicyug       5  2016-01-06   \n",
       "\n",
       "                                              review_text  helpful_count  \\\n",
       "446968  Very very well explained tutorial. Seems very ...              0   \n",
       "446969  Finally we have an App for for CoD Confirmatio...              0   \n",
       "446970  Useful, App help us to reduce cost & time. hig...              0   \n",
       "446971  Do not purchase this application!\\nit's like s...              0   \n",
       "446972  ​​A must​ have​ app for those having e-stores ...              0   \n",
       "\n",
       "       dev_reply_text dev_reply_date  is_review_good  \n",
       "446968            NaN            NaT               1  \n",
       "446969            NaN            NaT               1  \n",
       "446970            NaN            NaT               1  \n",
       "446971            NaN            NaT               0  \n",
       "446972            NaN            NaT               1  "
      ]
     },
     "execution_count": 6,
     "metadata": {},
     "output_type": "execute_result"
    }
   ],
   "source": [
    "reviews_df.tail()"
   ]
  },
  {
   "cell_type": "code",
   "execution_count": 7,
   "id": "26500ec1",
   "metadata": {
    "ExecuteTime": {
     "end_time": "2022-05-22T20:44:20.075696Z",
     "start_time": "2022-05-22T20:44:19.966119Z"
    }
   },
   "outputs": [
    {
     "name": "stdout",
     "output_type": "stream",
     "text": [
      "<class 'pandas.core.frame.DataFrame'>\n",
      "Int64Index: 446973 entries, 0 to 446972\n",
      "Data columns (total 9 columns):\n",
      " #   Column          Non-Null Count   Dtype         \n",
      "---  ------          --------------   -----         \n",
      " 0   app_name        446973 non-null  object        \n",
      " 1   author          446973 non-null  object        \n",
      " 2   rating          446973 non-null  int64         \n",
      " 3   review_date     446973 non-null  datetime64[ns]\n",
      " 4   review_text     446973 non-null  object        \n",
      " 5   helpful_count   446973 non-null  int64         \n",
      " 6   dev_reply_text  47542 non-null   object        \n",
      " 7   dev_reply_date  47542 non-null   datetime64[ns]\n",
      " 8   is_review_good  446973 non-null  int32         \n",
      "dtypes: datetime64[ns](2), int32(1), int64(2), object(4)\n",
      "memory usage: 32.4+ MB\n"
     ]
    }
   ],
   "source": [
    "reviews_df.info()"
   ]
  },
  {
   "cell_type": "markdown",
   "id": "74a5b334",
   "metadata": {},
   "source": [
    "### Separate and Define X and y Variables from the Dataframe"
   ]
  },
  {
   "cell_type": "markdown",
   "id": "3d91a50f",
   "metadata": {},
   "source": [
    "The `X` variable will be the `review_text` and the `y` variable will be the `is_review_good` binary variable."
   ]
  },
  {
   "cell_type": "code",
   "execution_count": 8,
   "id": "be372bd9",
   "metadata": {
    "ExecuteTime": {
     "end_time": "2022-05-22T20:44:20.091143Z",
     "start_time": "2022-05-22T20:44:20.076646Z"
    }
   },
   "outputs": [],
   "source": [
    "X = reviews_df['review_text']"
   ]
  },
  {
   "cell_type": "code",
   "execution_count": 9,
   "id": "56725250",
   "metadata": {
    "ExecuteTime": {
     "end_time": "2022-05-22T20:44:20.107182Z",
     "start_time": "2022-05-22T20:44:20.094206Z"
    }
   },
   "outputs": [
    {
     "data": {
      "text/plain": [
       "(446973,)"
      ]
     },
     "execution_count": 9,
     "metadata": {},
     "output_type": "execute_result"
    }
   ],
   "source": [
    "# Check the shape\n",
    "X.shape"
   ]
  },
  {
   "cell_type": "code",
   "execution_count": 10,
   "id": "e7564f54",
   "metadata": {
    "ExecuteTime": {
     "end_time": "2022-05-22T20:44:20.122701Z",
     "start_time": "2022-05-22T20:44:20.113146Z"
    }
   },
   "outputs": [],
   "source": [
    "y = reviews_df['is_review_good']"
   ]
  },
  {
   "cell_type": "code",
   "execution_count": 11,
   "id": "1fffc5be",
   "metadata": {
    "ExecuteTime": {
     "end_time": "2022-05-22T20:44:20.137850Z",
     "start_time": "2022-05-22T20:44:20.123685Z"
    },
    "scrolled": true
   },
   "outputs": [
    {
     "data": {
      "text/plain": [
       "(446973,)"
      ]
     },
     "execution_count": 11,
     "metadata": {},
     "output_type": "execute_result"
    }
   ],
   "source": [
    "# Check the shape\n",
    "y.shape"
   ]
  },
  {
   "cell_type": "markdown",
   "id": "20873d98",
   "metadata": {},
   "source": [
    "### Train-Test Split"
   ]
  },
  {
   "cell_type": "markdown",
   "id": "b1ecf795",
   "metadata": {
    "ExecuteTime": {
     "end_time": "2022-03-29T14:25:36.579509Z",
     "start_time": "2022-03-29T14:25:36.565512Z"
    }
   },
   "source": [
    "I will now implement a train-test split using a 90:10 ratio. This ratio was chosen because of the large magnitude of the data that is available. This ratio will be used throughout the rest of the notebook."
   ]
  },
  {
   "cell_type": "code",
   "execution_count": 12,
   "id": "199063b7",
   "metadata": {
    "ExecuteTime": {
     "end_time": "2022-05-22T20:44:20.342392Z",
     "start_time": "2022-05-22T20:44:20.139861Z"
    },
    "scrolled": true
   },
   "outputs": [
    {
     "name": "stdout",
     "output_type": "stream",
     "text": [
      "\n",
      " Before Train and Test Split \n",
      "=======================================================\n",
      "\n",
      "Shape of X = (446973,); Shape of y = (446973,)\n",
      "\n",
      "\n",
      " After Train and Test Split \n",
      "=======================================================\n",
      "\n",
      "Train/Valiation Dataset \n",
      "\n",
      "Shape of X_remainder = (402275,); Shape of y_remainder = (402275,)\n",
      "\n",
      "\n",
      "Test Dataset \n",
      "\n",
      "Shape of X_test = (44698,); Shape of y_test = (44698,)\n"
     ]
    }
   ],
   "source": [
    "# Train-test split for non-text pre-processed review data\n",
    "X_remainder, X_test, y_remainder, y_test = train_test_split_print(X, \n",
    "                                                                  y, \n",
    "                                                                  size = 0.1, \n",
    "                                                                  random_state = 1)"
   ]
  },
  {
   "cell_type": "markdown",
   "id": "8f9f2781",
   "metadata": {},
   "source": [
    "### Logistic Regression Model 0"
   ]
  },
  {
   "cell_type": "markdown",
   "id": "4aa7f64c",
   "metadata": {},
   "source": [
    "I will create a simple logistic regression model with a plain CountVectorizer to retrieve the baseline model performance metrics. No cross-fold validation and optimized hyperparameters will be used at this point."
   ]
  },
  {
   "cell_type": "code",
   "execution_count": 13,
   "id": "1277539e",
   "metadata": {
    "ExecuteTime": {
     "end_time": "2022-05-22T20:44:20.357578Z",
     "start_time": "2022-05-22T20:44:20.344069Z"
    }
   },
   "outputs": [],
   "source": [
    "# Define a pipeline that implements the steps for the transform and final estimator\n",
    "# Alternative method can be to use make_pipeline function in sklearn\n",
    "\n",
    "# Instantiate transformer and estimator or steps for the pipeline\n",
    "estimators = [(\"cv\", CountVectorizer()),\n",
    "              (\"logit_model\", LogisticRegression(max_iter=200,\n",
    "                              solver='liblinear',\n",
    "                              penalty='l1',\n",
    "                              random_state=1))]\n",
    "\n",
    "# Instantiate pipeline\n",
    "logit_v0_pipe = Pipeline(estimators, verbose=True)"
   ]
  },
  {
   "cell_type": "markdown",
   "id": "a7237618",
   "metadata": {
    "ExecuteTime": {
     "end_time": "2022-04-02T19:36:46.873620Z",
     "start_time": "2022-04-02T19:36:46.862616Z"
    }
   },
   "source": [
    "Fit the pipeline to the train dataset."
   ]
  },
  {
   "cell_type": "code",
   "execution_count": 14,
   "id": "7b484aa9",
   "metadata": {
    "ExecuteTime": {
     "end_time": "2022-05-22T20:44:20.373137Z",
     "start_time": "2022-05-22T20:44:20.359838Z"
    },
    "scrolled": true
   },
   "outputs": [],
   "source": [
    "# # Fit pipeline \n",
    "# logit_v0_pipe.fit(X_remainder, y_remainder)"
   ]
  },
  {
   "cell_type": "markdown",
   "id": "69be2333",
   "metadata": {},
   "source": [
    "Save the fitted model to a pickle file."
   ]
  },
  {
   "cell_type": "code",
   "execution_count": 15,
   "id": "7475fca8",
   "metadata": {
    "ExecuteTime": {
     "end_time": "2022-05-22T20:44:20.389117Z",
     "start_time": "2022-05-22T20:44:20.375135Z"
    }
   },
   "outputs": [],
   "source": [
    "# # Save the model to a pickle file\n",
    "# # https://stackoverflow.com/questions/10592605/save-classifier-to-disk-in-scikit-learn\n",
    "# with open('logit_v0_pipe.pkl', 'wb') as f:\n",
    "#     pickle.dump(logit_v0_pipe, f)"
   ]
  },
  {
   "cell_type": "markdown",
   "id": "a6f8045e",
   "metadata": {},
   "source": [
    "Load the fitted model from a pickle file."
   ]
  },
  {
   "cell_type": "code",
   "execution_count": 16,
   "id": "10ab2b63",
   "metadata": {
    "ExecuteTime": {
     "end_time": "2022-05-22T20:44:20.435337Z",
     "start_time": "2022-05-22T20:44:20.391118Z"
    }
   },
   "outputs": [],
   "source": [
    "# Load pickled model file\n",
    "with open('logit_v0_pipe.pkl', 'rb') as f:\n",
    "    logit_v0_pipe = pickle.load(f)"
   ]
  },
  {
   "cell_type": "markdown",
   "id": "e4100af8",
   "metadata": {},
   "source": [
    "Click on elements below for details of each step in the pipeline diagram."
   ]
  },
  {
   "cell_type": "code",
   "execution_count": 17,
   "id": "45ee6289",
   "metadata": {
    "ExecuteTime": {
     "end_time": "2022-05-22T20:44:20.451366Z",
     "start_time": "2022-05-22T20:44:20.436338Z"
    }
   },
   "outputs": [
    {
     "data": {
      "text/html": [
       "<style>#sk-98953357-a6c5-403e-98c1-c1b861933b41 {color: black;background-color: white;}#sk-98953357-a6c5-403e-98c1-c1b861933b41 pre{padding: 0;}#sk-98953357-a6c5-403e-98c1-c1b861933b41 div.sk-toggleable {background-color: white;}#sk-98953357-a6c5-403e-98c1-c1b861933b41 label.sk-toggleable__label {cursor: pointer;display: block;width: 100%;margin-bottom: 0;padding: 0.2em 0.3em;box-sizing: border-box;text-align: center;}#sk-98953357-a6c5-403e-98c1-c1b861933b41 div.sk-toggleable__content {max-height: 0;max-width: 0;overflow: hidden;text-align: left;background-color: #f0f8ff;}#sk-98953357-a6c5-403e-98c1-c1b861933b41 div.sk-toggleable__content pre {margin: 0.2em;color: black;border-radius: 0.25em;background-color: #f0f8ff;}#sk-98953357-a6c5-403e-98c1-c1b861933b41 input.sk-toggleable__control:checked~div.sk-toggleable__content {max-height: 200px;max-width: 100%;overflow: auto;}#sk-98953357-a6c5-403e-98c1-c1b861933b41 div.sk-estimator input.sk-toggleable__control:checked~label.sk-toggleable__label {background-color: #d4ebff;}#sk-98953357-a6c5-403e-98c1-c1b861933b41 div.sk-label input.sk-toggleable__control:checked~label.sk-toggleable__label {background-color: #d4ebff;}#sk-98953357-a6c5-403e-98c1-c1b861933b41 input.sk-hidden--visually {border: 0;clip: rect(1px 1px 1px 1px);clip: rect(1px, 1px, 1px, 1px);height: 1px;margin: -1px;overflow: hidden;padding: 0;position: absolute;width: 1px;}#sk-98953357-a6c5-403e-98c1-c1b861933b41 div.sk-estimator {font-family: monospace;background-color: #f0f8ff;margin: 0.25em 0.25em;border: 1px dotted black;border-radius: 0.25em;box-sizing: border-box;}#sk-98953357-a6c5-403e-98c1-c1b861933b41 div.sk-estimator:hover {background-color: #d4ebff;}#sk-98953357-a6c5-403e-98c1-c1b861933b41 div.sk-parallel-item::after {content: \"\";width: 100%;border-bottom: 1px solid gray;flex-grow: 1;}#sk-98953357-a6c5-403e-98c1-c1b861933b41 div.sk-label:hover label.sk-toggleable__label {background-color: #d4ebff;}#sk-98953357-a6c5-403e-98c1-c1b861933b41 div.sk-serial::before {content: \"\";position: absolute;border-left: 1px solid gray;box-sizing: border-box;top: 2em;bottom: 0;left: 50%;}#sk-98953357-a6c5-403e-98c1-c1b861933b41 div.sk-serial {display: flex;flex-direction: column;align-items: center;background-color: white;}#sk-98953357-a6c5-403e-98c1-c1b861933b41 div.sk-item {z-index: 1;}#sk-98953357-a6c5-403e-98c1-c1b861933b41 div.sk-parallel {display: flex;align-items: stretch;justify-content: center;background-color: white;}#sk-98953357-a6c5-403e-98c1-c1b861933b41 div.sk-parallel-item {display: flex;flex-direction: column;position: relative;background-color: white;}#sk-98953357-a6c5-403e-98c1-c1b861933b41 div.sk-parallel-item:first-child::after {align-self: flex-end;width: 50%;}#sk-98953357-a6c5-403e-98c1-c1b861933b41 div.sk-parallel-item:last-child::after {align-self: flex-start;width: 50%;}#sk-98953357-a6c5-403e-98c1-c1b861933b41 div.sk-parallel-item:only-child::after {width: 0;}#sk-98953357-a6c5-403e-98c1-c1b861933b41 div.sk-dashed-wrapped {border: 1px dashed gray;margin: 0.2em;box-sizing: border-box;padding-bottom: 0.1em;background-color: white;position: relative;}#sk-98953357-a6c5-403e-98c1-c1b861933b41 div.sk-label label {font-family: monospace;font-weight: bold;background-color: white;display: inline-block;line-height: 1.2em;}#sk-98953357-a6c5-403e-98c1-c1b861933b41 div.sk-label-container {position: relative;z-index: 2;text-align: center;}#sk-98953357-a6c5-403e-98c1-c1b861933b41 div.sk-container {display: inline-block;position: relative;}</style><div id=\"sk-98953357-a6c5-403e-98c1-c1b861933b41\" class\"sk-top-container\"><div class=\"sk-container\"><div class=\"sk-item sk-dashed-wrapped\"><div class=\"sk-label-container\"><div class=\"sk-label sk-toggleable\"><input class=\"sk-toggleable__control sk-hidden--visually\" id=\"f4ff4f17-b1a0-46fe-90bf-84dde156c921\" type=\"checkbox\" ><label class=\"sk-toggleable__label\" for=\"f4ff4f17-b1a0-46fe-90bf-84dde156c921\">Pipeline</label><div class=\"sk-toggleable__content\"><pre>Pipeline(steps=[('cv', CountVectorizer()),\n",
       "                ('logit_model',\n",
       "                 LogisticRegression(max_iter=200, penalty='l1', random_state=1,\n",
       "                                    solver='liblinear'))],\n",
       "         verbose=True)</pre></div></div></div><div class=\"sk-serial\"><div class=\"sk-item\"><div class=\"sk-estimator sk-toggleable\"><input class=\"sk-toggleable__control sk-hidden--visually\" id=\"ac863998-2b54-4005-a6df-a0efdf7c1e67\" type=\"checkbox\" ><label class=\"sk-toggleable__label\" for=\"ac863998-2b54-4005-a6df-a0efdf7c1e67\">CountVectorizer</label><div class=\"sk-toggleable__content\"><pre>CountVectorizer()</pre></div></div></div><div class=\"sk-item\"><div class=\"sk-estimator sk-toggleable\"><input class=\"sk-toggleable__control sk-hidden--visually\" id=\"b959ec7d-7c45-4a5d-a591-c06d213fc96e\" type=\"checkbox\" ><label class=\"sk-toggleable__label\" for=\"b959ec7d-7c45-4a5d-a591-c06d213fc96e\">LogisticRegression</label><div class=\"sk-toggleable__content\"><pre>LogisticRegression(max_iter=200, penalty='l1', random_state=1,\n",
       "                   solver='liblinear')</pre></div></div></div></div></div></div></div>"
      ],
      "text/plain": [
       "Pipeline(steps=[('cv', CountVectorizer()),\n",
       "                ('logit_model',\n",
       "                 LogisticRegression(max_iter=200, penalty='l1', random_state=1,\n",
       "                                    solver='liblinear'))],\n",
       "         verbose=True)"
      ]
     },
     "execution_count": 17,
     "metadata": {},
     "output_type": "execute_result"
    }
   ],
   "source": [
    "# Display pipeline diagram\n",
    "logit_v0_pipe"
   ]
  },
  {
   "cell_type": "markdown",
   "id": "82211002",
   "metadata": {},
   "source": [
    "Score the model on both train and test datasets and output the accuracy of the model."
   ]
  },
  {
   "cell_type": "code",
   "execution_count": 18,
   "id": "bad632b9",
   "metadata": {
    "ExecuteTime": {
     "end_time": "2022-05-22T20:44:31.987135Z",
     "start_time": "2022-05-22T20:44:20.453011Z"
    }
   },
   "outputs": [
    {
     "name": "stdout",
     "output_type": "stream",
     "text": [
      "Train score: 97.2%\n",
      "Test score: 96.7%\n"
     ]
    }
   ],
   "source": [
    "# Train and test score from logit_v0_pipe\n",
    "accuracy = []\n",
    "\n",
    "accuracy.append(f\"{logit_v0_pipe.score(X_remainder, y_remainder) * 100:0.1f}%\")\n",
    "accuracy.append(f\"{logit_v0_pipe.score(X_test, y_test) * 100:0.1f}%\")\n",
    "\n",
    "print(f\"Train score: {accuracy[0]}\")\n",
    "print(f\"Test score: {accuracy[1]}\")"
   ]
  },
  {
   "cell_type": "markdown",
   "id": "77aba181",
   "metadata": {},
   "source": [
    "It appears the model performed well. However, this may be solely a result of the model's ability to correctly classify positive reviews very well but not the negative reviews due to the class imbalance."
   ]
  },
  {
   "cell_type": "markdown",
   "id": "2b76e1e3",
   "metadata": {},
   "source": [
    "I will retrieve the confusion matrix and classification report of the performance metrics from the model for both train and test datasets to observe the model's ability to classify positive reviews and negative reviews, separately."
   ]
  },
  {
   "cell_type": "code",
   "execution_count": 19,
   "id": "7a6fdddd",
   "metadata": {
    "ExecuteTime": {
     "end_time": "2022-05-22T20:44:44.957086Z",
     "start_time": "2022-05-22T20:44:31.988105Z"
    },
    "scrolled": false
   },
   "outputs": [
    {
     "name": "stdout",
     "output_type": "stream",
     "text": [
      "Confusion matrix for Train Data: \n",
      "=======================================================\n",
      "\n"
     ]
    },
    {
     "data": {
      "text/html": [
       "<div>\n",
       "<style scoped>\n",
       "    .dataframe tbody tr th:only-of-type {\n",
       "        vertical-align: middle;\n",
       "    }\n",
       "\n",
       "    .dataframe tbody tr th {\n",
       "        vertical-align: top;\n",
       "    }\n",
       "\n",
       "    .dataframe thead th {\n",
       "        text-align: right;\n",
       "    }\n",
       "</style>\n",
       "<table border=\"1\" class=\"dataframe\">\n",
       "  <thead>\n",
       "    <tr style=\"text-align: right;\">\n",
       "      <th></th>\n",
       "      <th>Predicted 0 [Negative Review]</th>\n",
       "      <th>Predicted 1 [Positive Review]</th>\n",
       "    </tr>\n",
       "  </thead>\n",
       "  <tbody>\n",
       "    <tr>\n",
       "      <th>True 0 [Negative Review]</th>\n",
       "      <td>19049</td>\n",
       "      <td>8992</td>\n",
       "    </tr>\n",
       "    <tr>\n",
       "      <th>True 1 [Positive Review]</th>\n",
       "      <td>2262</td>\n",
       "      <td>371972</td>\n",
       "    </tr>\n",
       "  </tbody>\n",
       "</table>\n",
       "</div>"
      ],
      "text/plain": [
       "                          Predicted 0 [Negative Review]  \\\n",
       "True 0 [Negative Review]                          19049   \n",
       "True 1 [Positive Review]                           2262   \n",
       "\n",
       "                          Predicted 1 [Positive Review]  \n",
       "True 0 [Negative Review]                           8992  \n",
       "True 1 [Positive Review]                         371972  "
      ]
     },
     "metadata": {},
     "output_type": "display_data"
    },
    {
     "name": "stdout",
     "output_type": "stream",
     "text": [
      "Classification Report for Train Data: \n",
      "=======================================================\n",
      "\n",
      "                    precision    recall  f1-score   support\n",
      "\n",
      "Negative (Class 0)       0.89      0.68      0.77     28041\n",
      "Positive (Class 1)       0.98      0.99      0.99    374234\n",
      "\n",
      "          accuracy                           0.97    402275\n",
      "         macro avg       0.94      0.84      0.88    402275\n",
      "      weighted avg       0.97      0.97      0.97    402275\n",
      "\n",
      "Confusion matrix for Test Data: \n",
      "=======================================================\n",
      "\n"
     ]
    },
    {
     "data": {
      "text/html": [
       "<div>\n",
       "<style scoped>\n",
       "    .dataframe tbody tr th:only-of-type {\n",
       "        vertical-align: middle;\n",
       "    }\n",
       "\n",
       "    .dataframe tbody tr th {\n",
       "        vertical-align: top;\n",
       "    }\n",
       "\n",
       "    .dataframe thead th {\n",
       "        text-align: right;\n",
       "    }\n",
       "</style>\n",
       "<table border=\"1\" class=\"dataframe\">\n",
       "  <thead>\n",
       "    <tr style=\"text-align: right;\">\n",
       "      <th></th>\n",
       "      <th>Predicted 0 [Negative Review]</th>\n",
       "      <th>Predicted 1 [Positive Review]</th>\n",
       "    </tr>\n",
       "  </thead>\n",
       "  <tbody>\n",
       "    <tr>\n",
       "      <th>True 0 [Negative Review]</th>\n",
       "      <td>1990</td>\n",
       "      <td>1126</td>\n",
       "    </tr>\n",
       "    <tr>\n",
       "      <th>True 1 [Positive Review]</th>\n",
       "      <td>367</td>\n",
       "      <td>41215</td>\n",
       "    </tr>\n",
       "  </tbody>\n",
       "</table>\n",
       "</div>"
      ],
      "text/plain": [
       "                          Predicted 0 [Negative Review]  \\\n",
       "True 0 [Negative Review]                           1990   \n",
       "True 1 [Positive Review]                            367   \n",
       "\n",
       "                          Predicted 1 [Positive Review]  \n",
       "True 0 [Negative Review]                           1126  \n",
       "True 1 [Positive Review]                          41215  "
      ]
     },
     "metadata": {},
     "output_type": "display_data"
    },
    {
     "name": "stdout",
     "output_type": "stream",
     "text": [
      "Classification Report for Test Data: \n",
      "=======================================================\n",
      "\n",
      "                    precision    recall  f1-score   support\n",
      "\n",
      "Negative (Class 0)       0.84      0.64      0.73      3116\n",
      "Positive (Class 1)       0.97      0.99      0.98     41582\n",
      "\n",
      "          accuracy                           0.97     44698\n",
      "         macro avg       0.91      0.81      0.85     44698\n",
      "      weighted avg       0.96      0.97      0.96     44698\n",
      "\n"
     ]
    }
   ],
   "source": [
    "# Use the function defined earlier for model performance metrics\n",
    "precision, recall, f1_score = model_performance_metrics(logit_v0_pipe,\n",
    "                                                        X_remainder,\n",
    "                                                        y_remainder,\n",
    "                                                        X_test,\n",
    "                                                        y_test)"
   ]
  },
  {
   "cell_type": "code",
   "execution_count": 20,
   "id": "010aecf6",
   "metadata": {
    "ExecuteTime": {
     "end_time": "2022-05-22T20:44:44.972557Z",
     "start_time": "2022-05-22T20:44:44.958061Z"
    },
    "scrolled": true
   },
   "outputs": [],
   "source": [
    "# Compile the model performance metrics into a dataframe\n",
    "model_compilation = pd.DataFrame({\n",
    "                                    'Model': 'logit_v0',\n",
    "                                    'Dataset': ['Train_Remainder', \n",
    "                                                'Train_Remainder',\n",
    "                                                'Test', \n",
    "                                                'Test'],\n",
    "                                    'Target':['Negative (Class 0)', \n",
    "                                              'Positive (Class 1)',\n",
    "                                              'Negative (Class 0)', \n",
    "                                              'Positive (Class 1)'],\n",
    "                                    'Accuracy': [' ', accuracy[0], ' ', accuracy[1]],\n",
    "                                    'Precision': precision,\n",
    "                                    'Recall': recall,\n",
    "                                    'F1-Score': f1_score\n",
    "                                },\n",
    "                                index= range(0,4))"
   ]
  },
  {
   "cell_type": "code",
   "execution_count": 21,
   "id": "4070cbcb",
   "metadata": {
    "ExecuteTime": {
     "end_time": "2022-05-22T20:44:44.988324Z",
     "start_time": "2022-05-22T20:44:44.974559Z"
    }
   },
   "outputs": [
    {
     "data": {
      "text/html": [
       "<div>\n",
       "<style scoped>\n",
       "    .dataframe tbody tr th:only-of-type {\n",
       "        vertical-align: middle;\n",
       "    }\n",
       "\n",
       "    .dataframe tbody tr th {\n",
       "        vertical-align: top;\n",
       "    }\n",
       "\n",
       "    .dataframe thead th {\n",
       "        text-align: right;\n",
       "    }\n",
       "</style>\n",
       "<table border=\"1\" class=\"dataframe\">\n",
       "  <thead>\n",
       "    <tr style=\"text-align: right;\">\n",
       "      <th></th>\n",
       "      <th>Model</th>\n",
       "      <th>Dataset</th>\n",
       "      <th>Target</th>\n",
       "      <th>Accuracy</th>\n",
       "      <th>Precision</th>\n",
       "      <th>Recall</th>\n",
       "      <th>F1-Score</th>\n",
       "    </tr>\n",
       "  </thead>\n",
       "  <tbody>\n",
       "    <tr>\n",
       "      <th>0</th>\n",
       "      <td>logit_v0</td>\n",
       "      <td>Train_Remainder</td>\n",
       "      <td>Negative (Class 0)</td>\n",
       "      <td></td>\n",
       "      <td>89.4%</td>\n",
       "      <td>67.9%</td>\n",
       "      <td>77.2%</td>\n",
       "    </tr>\n",
       "    <tr>\n",
       "      <th>1</th>\n",
       "      <td>logit_v0</td>\n",
       "      <td>Train_Remainder</td>\n",
       "      <td>Positive (Class 1)</td>\n",
       "      <td>97.2%</td>\n",
       "      <td>97.6%</td>\n",
       "      <td>99.4%</td>\n",
       "      <td>98.5%</td>\n",
       "    </tr>\n",
       "    <tr>\n",
       "      <th>2</th>\n",
       "      <td>logit_v0</td>\n",
       "      <td>Test</td>\n",
       "      <td>Negative (Class 0)</td>\n",
       "      <td></td>\n",
       "      <td>84.4%</td>\n",
       "      <td>63.9%</td>\n",
       "      <td>72.7%</td>\n",
       "    </tr>\n",
       "    <tr>\n",
       "      <th>3</th>\n",
       "      <td>logit_v0</td>\n",
       "      <td>Test</td>\n",
       "      <td>Positive (Class 1)</td>\n",
       "      <td>96.7%</td>\n",
       "      <td>97.3%</td>\n",
       "      <td>99.1%</td>\n",
       "      <td>98.2%</td>\n",
       "    </tr>\n",
       "  </tbody>\n",
       "</table>\n",
       "</div>"
      ],
      "text/plain": [
       "      Model          Dataset              Target Accuracy Precision Recall  \\\n",
       "0  logit_v0  Train_Remainder  Negative (Class 0)              89.4%  67.9%   \n",
       "1  logit_v0  Train_Remainder  Positive (Class 1)    97.2%     97.6%  99.4%   \n",
       "2  logit_v0             Test  Negative (Class 0)              84.4%  63.9%   \n",
       "3  logit_v0             Test  Positive (Class 1)    96.7%     97.3%  99.1%   \n",
       "\n",
       "  F1-Score  \n",
       "0    77.2%  \n",
       "1    98.5%  \n",
       "2    72.7%  \n",
       "3    98.2%  "
      ]
     },
     "execution_count": 21,
     "metadata": {},
     "output_type": "execute_result"
    }
   ],
   "source": [
    "# Print the model compiled results\n",
    "model_compilation"
   ]
  },
  {
   "cell_type": "markdown",
   "id": "cef95d27",
   "metadata": {},
   "source": [
    "When taking a closer look at the model performance metrics, the precision and recall for correctly predicting positive reviews are excellent, with $\\approx$ 97-99% for both train and test datasets. Although the precision for train and test data are $\\approx$ 84-89%, the recall for correctly identifying negative reviews is $\\approx$ 64-68%. This is due to the potential 'noise' in the data as a result of nonsensical text and/or other language reviews that are confusing the model. In addition,   the class imbalance between the total positive and negative reviews may also affect the model's ability to identify patterns within the dataset. Let's see how this changes with the different pre-processed datasets.\n",
    "\n",
    "I will be focusing on the train and test performance metrics for correctly identifying negative reviews with the different model iterations."
   ]
  },
  {
   "cell_type": "markdown",
   "id": "06e674a4",
   "metadata": {},
   "source": [
    "#### Odds Ratios"
   ]
  },
  {
   "cell_type": "markdown",
   "id": "81b944ea",
   "metadata": {},
   "source": [
    "This section is a quick demonstration and visualization of the specific features or words that were most and least predictive of positive and negative reviews from logit_v0."
   ]
  },
  {
   "cell_type": "markdown",
   "id": "b844b5c6",
   "metadata": {},
   "source": [
    "I will extract the logit model coefficients, take the exponent to retrieve odds ratios, and compile it into a dataframe."
   ]
  },
  {
   "cell_type": "code",
   "execution_count": 22,
   "id": "cf2cb0ca",
   "metadata": {
    "ExecuteTime": {
     "end_time": "2022-05-22T20:44:45.081564Z",
     "start_time": "2022-05-22T20:44:44.989307Z"
    }
   },
   "outputs": [],
   "source": [
    "# Create dataframe of the logit coefficients and odds ratios\n",
    "logit_coef_df = pd.DataFrame({\"Feature\": logit_v0_pipe[0].get_feature_names(),\n",
    "                              \"Logit_Coefficient\": logit_v0_pipe[1].coef_[0],\n",
    "                              \"Odds_Ratio\": np.exp(logit_v0_pipe[1].coef_[0])\n",
    "                             })\n"
   ]
  },
  {
   "cell_type": "markdown",
   "id": "150d8d36",
   "metadata": {},
   "source": [
    "Quick glimpse of the top 5 and bottom 5 rows."
   ]
  },
  {
   "cell_type": "code",
   "execution_count": 23,
   "id": "fe888bf5",
   "metadata": {
    "ExecuteTime": {
     "end_time": "2022-05-22T20:44:45.097089Z",
     "start_time": "2022-05-22T20:44:45.083089Z"
    }
   },
   "outputs": [
    {
     "data": {
      "text/html": [
       "<div>\n",
       "<style scoped>\n",
       "    .dataframe tbody tr th:only-of-type {\n",
       "        vertical-align: middle;\n",
       "    }\n",
       "\n",
       "    .dataframe tbody tr th {\n",
       "        vertical-align: top;\n",
       "    }\n",
       "\n",
       "    .dataframe thead th {\n",
       "        text-align: right;\n",
       "    }\n",
       "</style>\n",
       "<table border=\"1\" class=\"dataframe\">\n",
       "  <thead>\n",
       "    <tr style=\"text-align: right;\">\n",
       "      <th></th>\n",
       "      <th>Feature</th>\n",
       "      <th>Logit_Coefficient</th>\n",
       "      <th>Odds_Ratio</th>\n",
       "    </tr>\n",
       "  </thead>\n",
       "  <tbody>\n",
       "    <tr>\n",
       "      <th>0</th>\n",
       "      <td>00</td>\n",
       "      <td>-0.879948</td>\n",
       "      <td>0.414804</td>\n",
       "    </tr>\n",
       "    <tr>\n",
       "      <th>1</th>\n",
       "      <td>000</td>\n",
       "      <td>-0.264142</td>\n",
       "      <td>0.767865</td>\n",
       "    </tr>\n",
       "    <tr>\n",
       "      <th>2</th>\n",
       "      <td>0000</td>\n",
       "      <td>0.000000</td>\n",
       "      <td>1.000000</td>\n",
       "    </tr>\n",
       "    <tr>\n",
       "      <th>3</th>\n",
       "      <td>000000</td>\n",
       "      <td>0.000000</td>\n",
       "      <td>1.000000</td>\n",
       "    </tr>\n",
       "    <tr>\n",
       "      <th>4</th>\n",
       "      <td>0000000</td>\n",
       "      <td>0.000000</td>\n",
       "      <td>1.000000</td>\n",
       "    </tr>\n",
       "  </tbody>\n",
       "</table>\n",
       "</div>"
      ],
      "text/plain": [
       "   Feature  Logit_Coefficient  Odds_Ratio\n",
       "0       00          -0.879948    0.414804\n",
       "1      000          -0.264142    0.767865\n",
       "2     0000           0.000000    1.000000\n",
       "3   000000           0.000000    1.000000\n",
       "4  0000000           0.000000    1.000000"
      ]
     },
     "execution_count": 23,
     "metadata": {},
     "output_type": "execute_result"
    }
   ],
   "source": [
    "logit_coef_df.head()"
   ]
  },
  {
   "cell_type": "code",
   "execution_count": 24,
   "id": "cff93f3f",
   "metadata": {
    "ExecuteTime": {
     "end_time": "2022-05-22T20:44:45.113119Z",
     "start_time": "2022-05-22T20:44:45.099089Z"
    }
   },
   "outputs": [
    {
     "data": {
      "text/html": [
       "<div>\n",
       "<style scoped>\n",
       "    .dataframe tbody tr th:only-of-type {\n",
       "        vertical-align: middle;\n",
       "    }\n",
       "\n",
       "    .dataframe tbody tr th {\n",
       "        vertical-align: top;\n",
       "    }\n",
       "\n",
       "    .dataframe thead th {\n",
       "        text-align: right;\n",
       "    }\n",
       "</style>\n",
       "<table border=\"1\" class=\"dataframe\">\n",
       "  <thead>\n",
       "    <tr style=\"text-align: right;\">\n",
       "      <th></th>\n",
       "      <th>Feature</th>\n",
       "      <th>Logit_Coefficient</th>\n",
       "      <th>Odds_Ratio</th>\n",
       "    </tr>\n",
       "  </thead>\n",
       "  <tbody>\n",
       "    <tr>\n",
       "      <th>98580</th>\n",
       "      <td>ｕｓｅ</td>\n",
       "      <td>0.0</td>\n",
       "      <td>1.0</td>\n",
       "    </tr>\n",
       "    <tr>\n",
       "      <th>98581</th>\n",
       "      <td>ｕｓｅｆｕｌ</td>\n",
       "      <td>0.0</td>\n",
       "      <td>1.0</td>\n",
       "    </tr>\n",
       "    <tr>\n",
       "      <th>98582</th>\n",
       "      <td>ｖｅｒｙ</td>\n",
       "      <td>0.0</td>\n",
       "      <td>1.0</td>\n",
       "    </tr>\n",
       "    <tr>\n",
       "      <th>98583</th>\n",
       "      <td>ｗｅｂｓｉｔｅ</td>\n",
       "      <td>0.0</td>\n",
       "      <td>1.0</td>\n",
       "    </tr>\n",
       "    <tr>\n",
       "      <th>98584</th>\n",
       "      <td>ｙｏｕ</td>\n",
       "      <td>0.0</td>\n",
       "      <td>1.0</td>\n",
       "    </tr>\n",
       "  </tbody>\n",
       "</table>\n",
       "</div>"
      ],
      "text/plain": [
       "       Feature  Logit_Coefficient  Odds_Ratio\n",
       "98580      ｕｓｅ                0.0         1.0\n",
       "98581   ｕｓｅｆｕｌ                0.0         1.0\n",
       "98582     ｖｅｒｙ                0.0         1.0\n",
       "98583  ｗｅｂｓｉｔｅ                0.0         1.0\n",
       "98584      ｙｏｕ                0.0         1.0"
      ]
     },
     "execution_count": 24,
     "metadata": {},
     "output_type": "execute_result"
    }
   ],
   "source": [
    "logit_coef_df.tail()"
   ]
  },
  {
   "cell_type": "markdown",
   "id": "d3c084f8",
   "metadata": {},
   "source": [
    "A peculiar observation for the bottom 5 rows in the logit coefficients dataframe are the widely spaced out letters in the words `ｕｓｅ` or `ｕｓｅｆｕｌ`. It appears that the font style of the text is responsible for the difference. The specific review with the different font style is in index 213,346 in the `reviews_df`."
   ]
  },
  {
   "cell_type": "markdown",
   "id": "571cd2bb",
   "metadata": {
    "ExecuteTime": {
     "start_time": "2022-04-03T14:54:25.164Z"
    }
   },
   "source": [
    "I will now sort the odds ratios and convert coefficients that were under 1 into negative coefficients for visualization purposes. The conversion is completed by taking the corresponding odds ratios and inversing it and turning it into a negative for appropriate visualization on the graph."
   ]
  },
  {
   "cell_type": "code",
   "execution_count": 25,
   "id": "ab9a1d98",
   "metadata": {
    "ExecuteTime": {
     "end_time": "2022-05-22T20:44:45.128631Z",
     "start_time": "2022-05-22T20:44:45.115120Z"
    }
   },
   "outputs": [],
   "source": [
    "# Filter the odds ratios and convert coefficients that were under 1 into negative coefficients for visualization\n",
    "# Odds ratios under 1 are inversed to retrieve appropriate odds ratio values\n",
    "logit_coef_df['Plotting_Odds_Ratio'] = np.where(logit_coef_df['Odds_Ratio'] >= 1.0, \n",
    "                                                logit_coef_df['Odds_Ratio'],\n",
    "                                                -1 / logit_coef_df['Odds_Ratio'])"
   ]
  },
  {
   "cell_type": "code",
   "execution_count": 26,
   "id": "0e28d3f4",
   "metadata": {
    "ExecuteTime": {
     "end_time": "2022-05-22T20:44:45.144631Z",
     "start_time": "2022-05-22T20:44:45.130632Z"
    },
    "scrolled": true
   },
   "outputs": [],
   "source": [
    "# Sort odds ratio values\n",
    "logit_coef_df = logit_coef_df.sort_values('Odds_Ratio', ascending = False)"
   ]
  },
  {
   "cell_type": "code",
   "execution_count": 27,
   "id": "fca85913",
   "metadata": {
    "ExecuteTime": {
     "end_time": "2022-05-22T20:44:45.933520Z",
     "start_time": "2022-05-22T20:44:45.146632Z"
    },
    "scrolled": false
   },
   "outputs": [
    {
     "data": {
      "image/png": "[encoded data removed]",
      "text/plain": [
       "<Figure size 864x864 with 2 Axes>"
      ]
     },
     "metadata": {
      "needs_background": "light"
     },
     "output_type": "display_data"
    }
   ],
   "source": [
    "# Visualise the positive and negative tokens and the corresponding log odds ratio of their\n",
    "# coefficients from the logistic regression\n",
    "plt.subplots(nrows=2, ncols=1, figsize=(12, 12))\n",
    "\n",
    "\n",
    "################### Positive Indicators Bar Plot ###################\n",
    "# largest positive odds ratio -> tokens indicating positive sentiment \n",
    "\n",
    "plt.subplot(2, 1, 1)\n",
    "sns.barplot(x = logit_coef_df['Feature'].head(20), y = logit_coef_df['Plotting_Odds_Ratio'].head(20), color=\"blue\")\n",
    "\n",
    "# Set titles and labels\n",
    "plt.title(f\"Top 20 Words Predictive of Positive Reviews (Rating 1)\", size=24, pad=20)\n",
    "plt.xlabel('Positive indicators', size=14)\n",
    "plt.ylabel('Odds Ratio', size=14)\n",
    "plt.xticks(rotation = 45)\n",
    "\n",
    "# Remove top and top right graph borders\n",
    "sns.despine()\n",
    "\n",
    "plt.tight_layout()\n",
    "\n",
    "################### Negative Indicators Bar Plot ###################\n",
    "# largest negative odds ratio -> tokens indicating negative sentiment\n",
    "\n",
    "plt.subplot(2, 1, 2)\n",
    "sns.barplot(x = logit_coef_df['Feature'].tail(20), y = logit_coef_df['Plotting_Odds_Ratio'].tail(20), color=\"red\")\n",
    "\n",
    "# Set titles and labels\n",
    "plt.title(f\"Top 20 Words Predictive of Negative Reviews (Rating 0)\", size=24, pad=20)\n",
    "plt.xlabel('Negative indicators', size=14)\n",
    "plt.ylabel('Odds Ratio', size=14)\n",
    "plt.xticks(rotation = 45)\n",
    "\n",
    "# Remove top and top right graph borders\n",
    "sns.despine()\n",
    "\n",
    "plt.tight_layout()\n",
    "plt.show()\n"
   ]
  },
  {
   "cell_type": "markdown",
   "id": "72412d53",
   "metadata": {},
   "source": [
    "We can see that there are a lot of nonsensical text. These were the motivations for implementation of text pre-processing and language filtering. As a side note, it appears that the magnitudes of the odds ratios are very large (in the 100s). This may be a function of the absent regularization parameters (i.e., C parameter for strength of regularization). Optimal hyperparameters, including regularization, will be explored further in the notebook."
   ]
  },
  {
   "cell_type": "markdown",
   "id": "c5a04403",
   "metadata": {},
   "source": [
    "## English-Only Reviews from Round 1 of Pre-processing"
   ]
  },
  {
   "cell_type": "markdown",
   "id": "08bc9658",
   "metadata": {},
   "source": [
    "I will now fit a logistic regression model on the `reviews_df_clean_1_en_part_2` that contains round 1 of text pre-processing and English-only reviews."
   ]
  },
  {
   "cell_type": "markdown",
   "id": "e69c1440",
   "metadata": {},
   "source": [
    "### Import Data - English-Only Reviews from Round 1 of Pre-processing"
   ]
  },
  {
   "cell_type": "code",
   "execution_count": 28,
   "id": "324a34a3",
   "metadata": {
    "ExecuteTime": {
     "end_time": "2022-05-22T20:44:46.234126Z",
     "start_time": "2022-05-22T20:44:45.938496Z"
    }
   },
   "outputs": [],
   "source": [
    "# Import dataset\n",
    "reviews_df_clean_1_en = pd.read_pickle('reviews_df_clean_1_en_part_2.pkl')"
   ]
  },
  {
   "cell_type": "markdown",
   "id": "0f1c1d96",
   "metadata": {},
   "source": [
    "Quick glimpse of the top 5 and bottom 5 rows."
   ]
  },
  {
   "cell_type": "code",
   "execution_count": 29,
   "id": "512616ff",
   "metadata": {
    "ExecuteTime": {
     "end_time": "2022-05-22T20:44:46.250142Z",
     "start_time": "2022-05-22T20:44:46.235127Z"
    }
   },
   "outputs": [
    {
     "data": {
      "text/html": [
       "<div>\n",
       "<style scoped>\n",
       "    .dataframe tbody tr th:only-of-type {\n",
       "        vertical-align: middle;\n",
       "    }\n",
       "\n",
       "    .dataframe tbody tr th {\n",
       "        vertical-align: top;\n",
       "    }\n",
       "\n",
       "    .dataframe thead th {\n",
       "        text-align: right;\n",
       "    }\n",
       "</style>\n",
       "<table border=\"1\" class=\"dataframe\">\n",
       "  <thead>\n",
       "    <tr style=\"text-align: right;\">\n",
       "      <th></th>\n",
       "      <th>app_name</th>\n",
       "      <th>review_date</th>\n",
       "      <th>review_text</th>\n",
       "      <th>dev_reply_text</th>\n",
       "      <th>dev_reply_date</th>\n",
       "      <th>is_review_good</th>\n",
       "      <th>lang_iso</th>\n",
       "    </tr>\n",
       "  </thead>\n",
       "  <tbody>\n",
       "    <tr>\n",
       "      <th>0</th>\n",
       "      <td>Instant Search +</td>\n",
       "      <td>2020-08-06</td>\n",
       "      <td>Great and super fast customer service! Highly ...</td>\n",
       "      <td>NaN</td>\n",
       "      <td>NaT</td>\n",
       "      <td>1</td>\n",
       "      <td>en</td>\n",
       "    </tr>\n",
       "    <tr>\n",
       "      <th>1</th>\n",
       "      <td>Instant Search +</td>\n",
       "      <td>2020-08-04</td>\n",
       "      <td>Still setting up my store, and after initially...</td>\n",
       "      <td>NaN</td>\n",
       "      <td>NaT</td>\n",
       "      <td>1</td>\n",
       "      <td>en</td>\n",
       "    </tr>\n",
       "    <tr>\n",
       "      <th>2</th>\n",
       "      <td>Instant Search +</td>\n",
       "      <td>2020-08-04</td>\n",
       "      <td>This is an excellent search app, which they ha...</td>\n",
       "      <td>NaN</td>\n",
       "      <td>NaT</td>\n",
       "      <td>1</td>\n",
       "      <td>en</td>\n",
       "    </tr>\n",
       "    <tr>\n",
       "      <th>3</th>\n",
       "      <td>Instant Search +</td>\n",
       "      <td>2020-07-30</td>\n",
       "      <td>A+, great great great customer service! thanks...</td>\n",
       "      <td>NaN</td>\n",
       "      <td>NaT</td>\n",
       "      <td>1</td>\n",
       "      <td>en</td>\n",
       "    </tr>\n",
       "    <tr>\n",
       "      <th>4</th>\n",
       "      <td>Instant Search +</td>\n",
       "      <td>2020-07-28</td>\n",
       "      <td>I'm begginig to use this app, the search engin...</td>\n",
       "      <td>NaN</td>\n",
       "      <td>NaT</td>\n",
       "      <td>1</td>\n",
       "      <td>en</td>\n",
       "    </tr>\n",
       "  </tbody>\n",
       "</table>\n",
       "</div>"
      ],
      "text/plain": [
       "           app_name review_date  \\\n",
       "0  Instant Search +  2020-08-06   \n",
       "1  Instant Search +  2020-08-04   \n",
       "2  Instant Search +  2020-08-04   \n",
       "3  Instant Search +  2020-07-30   \n",
       "4  Instant Search +  2020-07-28   \n",
       "\n",
       "                                         review_text dev_reply_text  \\\n",
       "0  Great and super fast customer service! Highly ...            NaN   \n",
       "1  Still setting up my store, and after initially...            NaN   \n",
       "2  This is an excellent search app, which they ha...            NaN   \n",
       "3  A+, great great great customer service! thanks...            NaN   \n",
       "4  I'm begginig to use this app, the search engin...            NaN   \n",
       "\n",
       "  dev_reply_date  is_review_good lang_iso  \n",
       "0            NaT               1       en  \n",
       "1            NaT               1       en  \n",
       "2            NaT               1       en  \n",
       "3            NaT               1       en  \n",
       "4            NaT               1       en  "
      ]
     },
     "execution_count": 29,
     "metadata": {},
     "output_type": "execute_result"
    }
   ],
   "source": [
    "reviews_df_clean_1_en.head()"
   ]
  },
  {
   "cell_type": "code",
   "execution_count": 30,
   "id": "8517e483",
   "metadata": {
    "ExecuteTime": {
     "end_time": "2022-05-22T20:44:46.266097Z",
     "start_time": "2022-05-22T20:44:46.251129Z"
    }
   },
   "outputs": [
    {
     "data": {
      "text/html": [
       "<div>\n",
       "<style scoped>\n",
       "    .dataframe tbody tr th:only-of-type {\n",
       "        vertical-align: middle;\n",
       "    }\n",
       "\n",
       "    .dataframe tbody tr th {\n",
       "        vertical-align: top;\n",
       "    }\n",
       "\n",
       "    .dataframe thead th {\n",
       "        text-align: right;\n",
       "    }\n",
       "</style>\n",
       "<table border=\"1\" class=\"dataframe\">\n",
       "  <thead>\n",
       "    <tr style=\"text-align: right;\">\n",
       "      <th></th>\n",
       "      <th>app_name</th>\n",
       "      <th>review_date</th>\n",
       "      <th>review_text</th>\n",
       "      <th>dev_reply_text</th>\n",
       "      <th>dev_reply_date</th>\n",
       "      <th>is_review_good</th>\n",
       "      <th>lang_iso</th>\n",
       "    </tr>\n",
       "  </thead>\n",
       "  <tbody>\n",
       "    <tr>\n",
       "      <th>446968</th>\n",
       "      <td>COD Order Confirmation</td>\n",
       "      <td>2018-03-22</td>\n",
       "      <td>Very very well explained tutorial. Seems very ...</td>\n",
       "      <td>NaN</td>\n",
       "      <td>NaT</td>\n",
       "      <td>1</td>\n",
       "      <td>en</td>\n",
       "    </tr>\n",
       "    <tr>\n",
       "      <th>446969</th>\n",
       "      <td>COD Order Confirmation</td>\n",
       "      <td>2018-01-23</td>\n",
       "      <td>Finally we have an App for for CoD Confirmatio...</td>\n",
       "      <td>NaN</td>\n",
       "      <td>NaT</td>\n",
       "      <td>1</td>\n",
       "      <td>en</td>\n",
       "    </tr>\n",
       "    <tr>\n",
       "      <th>446970</th>\n",
       "      <td>COD Order Confirmation</td>\n",
       "      <td>2018-01-05</td>\n",
       "      <td>Useful, App help us to reduce cost &amp; time. hig...</td>\n",
       "      <td>NaN</td>\n",
       "      <td>NaT</td>\n",
       "      <td>1</td>\n",
       "      <td>en</td>\n",
       "    </tr>\n",
       "    <tr>\n",
       "      <th>446971</th>\n",
       "      <td>COD Order Confirmation</td>\n",
       "      <td>2017-06-15</td>\n",
       "      <td>Do not purchase this application! it's like sh...</td>\n",
       "      <td>NaN</td>\n",
       "      <td>NaT</td>\n",
       "      <td>0</td>\n",
       "      <td>en</td>\n",
       "    </tr>\n",
       "    <tr>\n",
       "      <th>446972</th>\n",
       "      <td>COD Order Confirmation</td>\n",
       "      <td>2016-01-06</td>\n",
       "      <td>​​A must​ have​ app for those having e-stores ...</td>\n",
       "      <td>NaN</td>\n",
       "      <td>NaT</td>\n",
       "      <td>1</td>\n",
       "      <td>en</td>\n",
       "    </tr>\n",
       "  </tbody>\n",
       "</table>\n",
       "</div>"
      ],
      "text/plain": [
       "                      app_name review_date  \\\n",
       "446968  COD Order Confirmation  2018-03-22   \n",
       "446969  COD Order Confirmation  2018-01-23   \n",
       "446970  COD Order Confirmation  2018-01-05   \n",
       "446971  COD Order Confirmation  2017-06-15   \n",
       "446972  COD Order Confirmation  2016-01-06   \n",
       "\n",
       "                                              review_text dev_reply_text  \\\n",
       "446968  Very very well explained tutorial. Seems very ...            NaN   \n",
       "446969  Finally we have an App for for CoD Confirmatio...            NaN   \n",
       "446970  Useful, App help us to reduce cost & time. hig...            NaN   \n",
       "446971  Do not purchase this application! it's like sh...            NaN   \n",
       "446972  ​​A must​ have​ app for those having e-stores ...            NaN   \n",
       "\n",
       "       dev_reply_date  is_review_good lang_iso  \n",
       "446968            NaT               1       en  \n",
       "446969            NaT               1       en  \n",
       "446970            NaT               1       en  \n",
       "446971            NaT               0       en  \n",
       "446972            NaT               1       en  "
      ]
     },
     "execution_count": 30,
     "metadata": {},
     "output_type": "execute_result"
    }
   ],
   "source": [
    "reviews_df_clean_1_en.tail()"
   ]
  },
  {
   "cell_type": "code",
   "execution_count": 31,
   "id": "5c1916ff",
   "metadata": {
    "ExecuteTime": {
     "end_time": "2022-05-22T20:44:46.393189Z",
     "start_time": "2022-05-22T20:44:46.268096Z"
    }
   },
   "outputs": [
    {
     "name": "stdout",
     "output_type": "stream",
     "text": [
      "<class 'pandas.core.frame.DataFrame'>\n",
      "Int64Index: 426568 entries, 0 to 446972\n",
      "Data columns (total 7 columns):\n",
      " #   Column          Non-Null Count   Dtype         \n",
      "---  ------          --------------   -----         \n",
      " 0   app_name        426568 non-null  object        \n",
      " 1   review_date     426568 non-null  datetime64[ns]\n",
      " 2   review_text     426568 non-null  object        \n",
      " 3   dev_reply_text  45280 non-null   object        \n",
      " 4   dev_reply_date  45280 non-null   datetime64[ns]\n",
      " 5   is_review_good  426568 non-null  int32         \n",
      " 6   lang_iso        426568 non-null  object        \n",
      "dtypes: datetime64[ns](2), int32(1), object(4)\n",
      "memory usage: 24.4+ MB\n"
     ]
    }
   ],
   "source": [
    "reviews_df_clean_1_en.info()"
   ]
  },
  {
   "cell_type": "markdown",
   "id": "625ac78f",
   "metadata": {},
   "source": [
    "### Separate and Define X and y Variables from the Dataframe"
   ]
  },
  {
   "cell_type": "markdown",
   "id": "323f6a96",
   "metadata": {},
   "source": [
    "The `X` variable will be the `review_text` and the `y` variable will be the `is_review_good` binary variable."
   ]
  },
  {
   "cell_type": "code",
   "execution_count": 32,
   "id": "84494839",
   "metadata": {
    "ExecuteTime": {
     "end_time": "2022-05-22T20:44:46.409031Z",
     "start_time": "2022-05-22T20:44:46.394710Z"
    }
   },
   "outputs": [],
   "source": [
    "X = reviews_df_clean_1_en['review_text']"
   ]
  },
  {
   "cell_type": "code",
   "execution_count": 33,
   "id": "0680d139",
   "metadata": {
    "ExecuteTime": {
     "end_time": "2022-05-22T20:44:46.425017Z",
     "start_time": "2022-05-22T20:44:46.411017Z"
    }
   },
   "outputs": [
    {
     "data": {
      "text/plain": [
       "(426568,)"
      ]
     },
     "execution_count": 33,
     "metadata": {},
     "output_type": "execute_result"
    }
   ],
   "source": [
    "# Check the shape\n",
    "X.shape"
   ]
  },
  {
   "cell_type": "code",
   "execution_count": 34,
   "id": "56c0af28",
   "metadata": {
    "ExecuteTime": {
     "end_time": "2022-05-22T20:44:46.441017Z",
     "start_time": "2022-05-22T20:44:46.427017Z"
    }
   },
   "outputs": [],
   "source": [
    "y = reviews_df_clean_1_en['is_review_good']"
   ]
  },
  {
   "cell_type": "code",
   "execution_count": 35,
   "id": "a51d317a",
   "metadata": {
    "ExecuteTime": {
     "end_time": "2022-05-22T20:44:46.456907Z",
     "start_time": "2022-05-22T20:44:46.443403Z"
    },
    "scrolled": true
   },
   "outputs": [
    {
     "data": {
      "text/plain": [
       "(426568,)"
      ]
     },
     "execution_count": 35,
     "metadata": {},
     "output_type": "execute_result"
    }
   ],
   "source": [
    "# Check the shape\n",
    "y.shape"
   ]
  },
  {
   "cell_type": "markdown",
   "id": "f1d57783",
   "metadata": {},
   "source": [
    "### Train-Test Split"
   ]
  },
  {
   "cell_type": "markdown",
   "id": "4a14945a",
   "metadata": {
    "ExecuteTime": {
     "end_time": "2022-04-02T19:54:30.424491Z",
     "start_time": "2022-04-02T19:54:30.415495Z"
    }
   },
   "source": [
    "Create the train-test split data."
   ]
  },
  {
   "cell_type": "code",
   "execution_count": 36,
   "id": "b3e61499",
   "metadata": {
    "ExecuteTime": {
     "end_time": "2022-05-22T20:44:46.680224Z",
     "start_time": "2022-05-22T20:44:46.458906Z"
    },
    "scrolled": false
   },
   "outputs": [
    {
     "name": "stdout",
     "output_type": "stream",
     "text": [
      "\n",
      " Before Train and Test Split \n",
      "=======================================================\n",
      "\n",
      "Shape of X = (426568,); Shape of y = (426568,)\n",
      "\n",
      "\n",
      " After Train and Test Split \n",
      "=======================================================\n",
      "\n",
      "Train/Valiation Dataset \n",
      "\n",
      "Shape of X_remainder = (383911,); Shape of y_remainder = (383911,)\n",
      "\n",
      "\n",
      "Test Dataset \n",
      "\n",
      "Shape of X_test = (42657,); Shape of y_test = (42657,)\n"
     ]
    }
   ],
   "source": [
    "# Train-test split for round 1 of pre-processed data\n",
    "X_remainder, X_test, y_remainder, y_test = train_test_split_print(X, \n",
    "                                                                  y, \n",
    "                                                                  size = 0.1, \n",
    "                                                                  random_state = 1)"
   ]
  },
  {
   "cell_type": "markdown",
   "id": "7ede332b",
   "metadata": {},
   "source": [
    "### Logistic Regression Model 1"
   ]
  },
  {
   "cell_type": "markdown",
   "id": "5af86bcc",
   "metadata": {},
   "source": [
    "I will create another logit model. But this time, I will use the English-only language reviews dataframe from round 1 of text pre-processing."
   ]
  },
  {
   "cell_type": "code",
   "execution_count": 37,
   "id": "4b7f6579",
   "metadata": {
    "ExecuteTime": {
     "end_time": "2022-05-22T20:44:46.695738Z",
     "start_time": "2022-05-22T20:44:46.682227Z"
    },
    "scrolled": true
   },
   "outputs": [],
   "source": [
    "# Define a pipeline that implements the steps for the transforms and final estimator\n",
    "\n",
    "# Instantiate transformer and estimator or steps for the pipeline\n",
    "estimators = [(\"cv\", CountVectorizer()),\n",
    "              (\"logit_model\", LogisticRegression(max_iter=200,\n",
    "                              solver='liblinear',\n",
    "                              penalty='l1',\n",
    "                              random_state=1))]\n",
    "\n",
    "# Instantiate pipeline\n",
    "logit_v1_pipe = Pipeline(estimators, verbose = True)"
   ]
  },
  {
   "cell_type": "markdown",
   "id": "de541e4b",
   "metadata": {},
   "source": [
    "Fit the pipeline to the train dataset."
   ]
  },
  {
   "cell_type": "code",
   "execution_count": 38,
   "id": "1f28d6bd",
   "metadata": {
    "ExecuteTime": {
     "end_time": "2022-05-22T20:44:46.711248Z",
     "start_time": "2022-05-22T20:44:46.697740Z"
    },
    "scrolled": true
   },
   "outputs": [],
   "source": [
    "# # Fit pipeline\n",
    "# logit_v1_pipe.fit(X_remainder, y_remainder)"
   ]
  },
  {
   "cell_type": "markdown",
   "id": "563e1fb0",
   "metadata": {},
   "source": [
    "Save the fitted model to a pickle file."
   ]
  },
  {
   "cell_type": "code",
   "execution_count": 39,
   "id": "09796b0c",
   "metadata": {
    "ExecuteTime": {
     "end_time": "2022-05-22T20:44:46.727291Z",
     "start_time": "2022-05-22T20:44:46.713250Z"
    }
   },
   "outputs": [],
   "source": [
    "# # Save the model to a pickle file\n",
    "# # https://stackoverflow.com/questions/10592605/save-classifier-to-disk-in-scikit-learn\n",
    "# with open('logit_v1_pipe.pkl', 'wb') as f:\n",
    "#     pickle.dump(logit_v1_pipe, f)"
   ]
  },
  {
   "cell_type": "markdown",
   "id": "b976b9f7",
   "metadata": {},
   "source": [
    "Load the fitted model from a pickle file."
   ]
  },
  {
   "cell_type": "code",
   "execution_count": 40,
   "id": "cd106fc0",
   "metadata": {
    "ExecuteTime": {
     "end_time": "2022-05-22T20:44:46.758998Z",
     "start_time": "2022-05-22T20:44:46.729276Z"
    }
   },
   "outputs": [],
   "source": [
    "# Load pickled model file\n",
    "with open('logit_v1_pipe.pkl', 'rb') as f:\n",
    "    logit_v1_pipe = pickle.load(f)"
   ]
  },
  {
   "cell_type": "markdown",
   "id": "87eeeef5",
   "metadata": {},
   "source": [
    "Click on elements below for details of each step in the pipeline diagram."
   ]
  },
  {
   "cell_type": "code",
   "execution_count": 41,
   "id": "c39d090c",
   "metadata": {
    "ExecuteTime": {
     "end_time": "2022-05-22T20:44:46.774953Z",
     "start_time": "2022-05-22T20:44:46.760997Z"
    }
   },
   "outputs": [
    {
     "data": {
      "text/html": [
       "<style>#sk-b71b106b-cf99-47f2-8a91-4a4ca3b10bd5 {color: black;background-color: white;}#sk-b71b106b-cf99-47f2-8a91-4a4ca3b10bd5 pre{padding: 0;}#sk-b71b106b-cf99-47f2-8a91-4a4ca3b10bd5 div.sk-toggleable {background-color: white;}#sk-b71b106b-cf99-47f2-8a91-4a4ca3b10bd5 label.sk-toggleable__label {cursor: pointer;display: block;width: 100%;margin-bottom: 0;padding: 0.2em 0.3em;box-sizing: border-box;text-align: center;}#sk-b71b106b-cf99-47f2-8a91-4a4ca3b10bd5 div.sk-toggleable__content {max-height: 0;max-width: 0;overflow: hidden;text-align: left;background-color: #f0f8ff;}#sk-b71b106b-cf99-47f2-8a91-4a4ca3b10bd5 div.sk-toggleable__content pre {margin: 0.2em;color: black;border-radius: 0.25em;background-color: #f0f8ff;}#sk-b71b106b-cf99-47f2-8a91-4a4ca3b10bd5 input.sk-toggleable__control:checked~div.sk-toggleable__content {max-height: 200px;max-width: 100%;overflow: auto;}#sk-b71b106b-cf99-47f2-8a91-4a4ca3b10bd5 div.sk-estimator input.sk-toggleable__control:checked~label.sk-toggleable__label {background-color: #d4ebff;}#sk-b71b106b-cf99-47f2-8a91-4a4ca3b10bd5 div.sk-label input.sk-toggleable__control:checked~label.sk-toggleable__label {background-color: #d4ebff;}#sk-b71b106b-cf99-47f2-8a91-4a4ca3b10bd5 input.sk-hidden--visually {border: 0;clip: rect(1px 1px 1px 1px);clip: rect(1px, 1px, 1px, 1px);height: 1px;margin: -1px;overflow: hidden;padding: 0;position: absolute;width: 1px;}#sk-b71b106b-cf99-47f2-8a91-4a4ca3b10bd5 div.sk-estimator {font-family: monospace;background-color: #f0f8ff;margin: 0.25em 0.25em;border: 1px dotted black;border-radius: 0.25em;box-sizing: border-box;}#sk-b71b106b-cf99-47f2-8a91-4a4ca3b10bd5 div.sk-estimator:hover {background-color: #d4ebff;}#sk-b71b106b-cf99-47f2-8a91-4a4ca3b10bd5 div.sk-parallel-item::after {content: \"\";width: 100%;border-bottom: 1px solid gray;flex-grow: 1;}#sk-b71b106b-cf99-47f2-8a91-4a4ca3b10bd5 div.sk-label:hover label.sk-toggleable__label {background-color: #d4ebff;}#sk-b71b106b-cf99-47f2-8a91-4a4ca3b10bd5 div.sk-serial::before {content: \"\";position: absolute;border-left: 1px solid gray;box-sizing: border-box;top: 2em;bottom: 0;left: 50%;}#sk-b71b106b-cf99-47f2-8a91-4a4ca3b10bd5 div.sk-serial {display: flex;flex-direction: column;align-items: center;background-color: white;}#sk-b71b106b-cf99-47f2-8a91-4a4ca3b10bd5 div.sk-item {z-index: 1;}#sk-b71b106b-cf99-47f2-8a91-4a4ca3b10bd5 div.sk-parallel {display: flex;align-items: stretch;justify-content: center;background-color: white;}#sk-b71b106b-cf99-47f2-8a91-4a4ca3b10bd5 div.sk-parallel-item {display: flex;flex-direction: column;position: relative;background-color: white;}#sk-b71b106b-cf99-47f2-8a91-4a4ca3b10bd5 div.sk-parallel-item:first-child::after {align-self: flex-end;width: 50%;}#sk-b71b106b-cf99-47f2-8a91-4a4ca3b10bd5 div.sk-parallel-item:last-child::after {align-self: flex-start;width: 50%;}#sk-b71b106b-cf99-47f2-8a91-4a4ca3b10bd5 div.sk-parallel-item:only-child::after {width: 0;}#sk-b71b106b-cf99-47f2-8a91-4a4ca3b10bd5 div.sk-dashed-wrapped {border: 1px dashed gray;margin: 0.2em;box-sizing: border-box;padding-bottom: 0.1em;background-color: white;position: relative;}#sk-b71b106b-cf99-47f2-8a91-4a4ca3b10bd5 div.sk-label label {font-family: monospace;font-weight: bold;background-color: white;display: inline-block;line-height: 1.2em;}#sk-b71b106b-cf99-47f2-8a91-4a4ca3b10bd5 div.sk-label-container {position: relative;z-index: 2;text-align: center;}#sk-b71b106b-cf99-47f2-8a91-4a4ca3b10bd5 div.sk-container {display: inline-block;position: relative;}</style><div id=\"sk-b71b106b-cf99-47f2-8a91-4a4ca3b10bd5\" class\"sk-top-container\"><div class=\"sk-container\"><div class=\"sk-item sk-dashed-wrapped\"><div class=\"sk-label-container\"><div class=\"sk-label sk-toggleable\"><input class=\"sk-toggleable__control sk-hidden--visually\" id=\"c33da984-9906-4628-86fe-36468344afdf\" type=\"checkbox\" ><label class=\"sk-toggleable__label\" for=\"c33da984-9906-4628-86fe-36468344afdf\">Pipeline</label><div class=\"sk-toggleable__content\"><pre>Pipeline(steps=[('cv', CountVectorizer()),\n",
       "                ('logit_model',\n",
       "                 LogisticRegression(max_iter=200, penalty='l1', random_state=1,\n",
       "                                    solver='liblinear'))],\n",
       "         verbose=True)</pre></div></div></div><div class=\"sk-serial\"><div class=\"sk-item\"><div class=\"sk-estimator sk-toggleable\"><input class=\"sk-toggleable__control sk-hidden--visually\" id=\"5dd92351-9a9c-45ae-a63e-fea327acadca\" type=\"checkbox\" ><label class=\"sk-toggleable__label\" for=\"5dd92351-9a9c-45ae-a63e-fea327acadca\">CountVectorizer</label><div class=\"sk-toggleable__content\"><pre>CountVectorizer()</pre></div></div></div><div class=\"sk-item\"><div class=\"sk-estimator sk-toggleable\"><input class=\"sk-toggleable__control sk-hidden--visually\" id=\"257f4b68-9362-4a5f-abc0-33db34abb8be\" type=\"checkbox\" ><label class=\"sk-toggleable__label\" for=\"257f4b68-9362-4a5f-abc0-33db34abb8be\">LogisticRegression</label><div class=\"sk-toggleable__content\"><pre>LogisticRegression(max_iter=200, penalty='l1', random_state=1,\n",
       "                   solver='liblinear')</pre></div></div></div></div></div></div></div>"
      ],
      "text/plain": [
       "Pipeline(steps=[('cv', CountVectorizer()),\n",
       "                ('logit_model',\n",
       "                 LogisticRegression(max_iter=200, penalty='l1', random_state=1,\n",
       "                                    solver='liblinear'))],\n",
       "         verbose=True)"
      ]
     },
     "execution_count": 41,
     "metadata": {},
     "output_type": "execute_result"
    }
   ],
   "source": [
    "# Display pipeline diagram\n",
    "logit_v1_pipe  "
   ]
  },
  {
   "cell_type": "markdown",
   "id": "429abeb5",
   "metadata": {
    "ExecuteTime": {
     "end_time": "2022-04-02T20:05:42.789011Z",
     "start_time": "2022-04-02T20:05:42.776010Z"
    }
   },
   "source": [
    "Score the model on both train and test datasets and output the accuracy of the model."
   ]
  },
  {
   "cell_type": "code",
   "execution_count": 42,
   "id": "afb4d32f",
   "metadata": {
    "ExecuteTime": {
     "end_time": "2022-05-22T20:44:57.823167Z",
     "start_time": "2022-05-22T20:44:46.776954Z"
    }
   },
   "outputs": [
    {
     "name": "stdout",
     "output_type": "stream",
     "text": [
      "Train score: 97.3%\n",
      "Test score: 96.7%\n"
     ]
    }
   ],
   "source": [
    "# Train and test score from logit\n",
    "accuracy = []\n",
    "\n",
    "accuracy.append(f\"{logit_v1_pipe.score(X_remainder, y_remainder) * 100:0.1f}%\")\n",
    "accuracy.append(f\"{logit_v1_pipe.score(X_test, y_test) * 100:0.1f}%\")\n",
    "\n",
    "print(f\"Train score: {accuracy[0]}\")\n",
    "print(f\"Test score: {accuracy[1]}\")"
   ]
  },
  {
   "cell_type": "markdown",
   "id": "660c6061",
   "metadata": {},
   "source": [
    "I will retrieve the confusion matrix and classification report of the performance metrics from the model for both train and test datasets to observe the model's ability to classify positive reviews and negative reviews, separately."
   ]
  },
  {
   "cell_type": "code",
   "execution_count": 43,
   "id": "564a7f89",
   "metadata": {
    "ExecuteTime": {
     "end_time": "2022-05-22T20:45:10.128093Z",
     "start_time": "2022-05-22T20:44:57.824684Z"
    },
    "scrolled": false
   },
   "outputs": [
    {
     "name": "stdout",
     "output_type": "stream",
     "text": [
      "Confusion matrix for Train Data: \n",
      "=======================================================\n",
      "\n"
     ]
    },
    {
     "data": {
      "text/html": [
       "<div>\n",
       "<style scoped>\n",
       "    .dataframe tbody tr th:only-of-type {\n",
       "        vertical-align: middle;\n",
       "    }\n",
       "\n",
       "    .dataframe tbody tr th {\n",
       "        vertical-align: top;\n",
       "    }\n",
       "\n",
       "    .dataframe thead th {\n",
       "        text-align: right;\n",
       "    }\n",
       "</style>\n",
       "<table border=\"1\" class=\"dataframe\">\n",
       "  <thead>\n",
       "    <tr style=\"text-align: right;\">\n",
       "      <th></th>\n",
       "      <th>Predicted 0 [Negative Review]</th>\n",
       "      <th>Predicted 1 [Positive Review]</th>\n",
       "    </tr>\n",
       "  </thead>\n",
       "  <tbody>\n",
       "    <tr>\n",
       "      <th>True 0 [Negative Review]</th>\n",
       "      <td>18593</td>\n",
       "      <td>8250</td>\n",
       "    </tr>\n",
       "    <tr>\n",
       "      <th>True 1 [Positive Review]</th>\n",
       "      <td>2242</td>\n",
       "      <td>354826</td>\n",
       "    </tr>\n",
       "  </tbody>\n",
       "</table>\n",
       "</div>"
      ],
      "text/plain": [
       "                          Predicted 0 [Negative Review]  \\\n",
       "True 0 [Negative Review]                          18593   \n",
       "True 1 [Positive Review]                           2242   \n",
       "\n",
       "                          Predicted 1 [Positive Review]  \n",
       "True 0 [Negative Review]                           8250  \n",
       "True 1 [Positive Review]                         354826  "
      ]
     },
     "metadata": {},
     "output_type": "display_data"
    },
    {
     "name": "stdout",
     "output_type": "stream",
     "text": [
      "Classification Report for Train Data: \n",
      "=======================================================\n",
      "\n",
      "                    precision    recall  f1-score   support\n",
      "\n",
      "Negative (Class 0)       0.89      0.69      0.78     26843\n",
      "Positive (Class 1)       0.98      0.99      0.99    357068\n",
      "\n",
      "          accuracy                           0.97    383911\n",
      "         macro avg       0.93      0.84      0.88    383911\n",
      "      weighted avg       0.97      0.97      0.97    383911\n",
      "\n",
      "Confusion matrix for Test Data: \n",
      "=======================================================\n",
      "\n"
     ]
    },
    {
     "data": {
      "text/html": [
       "<div>\n",
       "<style scoped>\n",
       "    .dataframe tbody tr th:only-of-type {\n",
       "        vertical-align: middle;\n",
       "    }\n",
       "\n",
       "    .dataframe tbody tr th {\n",
       "        vertical-align: top;\n",
       "    }\n",
       "\n",
       "    .dataframe thead th {\n",
       "        text-align: right;\n",
       "    }\n",
       "</style>\n",
       "<table border=\"1\" class=\"dataframe\">\n",
       "  <thead>\n",
       "    <tr style=\"text-align: right;\">\n",
       "      <th></th>\n",
       "      <th>Predicted 0 [Negative Review]</th>\n",
       "      <th>Predicted 1 [Positive Review]</th>\n",
       "    </tr>\n",
       "  </thead>\n",
       "  <tbody>\n",
       "    <tr>\n",
       "      <th>True 0 [Negative Review]</th>\n",
       "      <td>1927</td>\n",
       "      <td>1056</td>\n",
       "    </tr>\n",
       "    <tr>\n",
       "      <th>True 1 [Positive Review]</th>\n",
       "      <td>341</td>\n",
       "      <td>39333</td>\n",
       "    </tr>\n",
       "  </tbody>\n",
       "</table>\n",
       "</div>"
      ],
      "text/plain": [
       "                          Predicted 0 [Negative Review]  \\\n",
       "True 0 [Negative Review]                           1927   \n",
       "True 1 [Positive Review]                            341   \n",
       "\n",
       "                          Predicted 1 [Positive Review]  \n",
       "True 0 [Negative Review]                           1056  \n",
       "True 1 [Positive Review]                          39333  "
      ]
     },
     "metadata": {},
     "output_type": "display_data"
    },
    {
     "name": "stdout",
     "output_type": "stream",
     "text": [
      "Classification Report for Test Data: \n",
      "=======================================================\n",
      "\n",
      "                    precision    recall  f1-score   support\n",
      "\n",
      "Negative (Class 0)       0.85      0.65      0.73      2983\n",
      "Positive (Class 1)       0.97      0.99      0.98     39674\n",
      "\n",
      "          accuracy                           0.97     42657\n",
      "         macro avg       0.91      0.82      0.86     42657\n",
      "      weighted avg       0.97      0.97      0.97     42657\n",
      "\n"
     ]
    }
   ],
   "source": [
    "# Use the function defined earlier for model performance metrics\n",
    "precision, recall, f1_score = model_performance_metrics(logit_v1_pipe, \n",
    "                                                        X_remainder, \n",
    "                                                        y_remainder, \n",
    "                                                        X_test, \n",
    "                                                        y_test)"
   ]
  },
  {
   "cell_type": "code",
   "execution_count": 44,
   "id": "a5dd538f",
   "metadata": {
    "ExecuteTime": {
     "end_time": "2022-05-22T20:45:10.143567Z",
     "start_time": "2022-05-22T20:45:10.129861Z"
    },
    "scrolled": true
   },
   "outputs": [],
   "source": [
    "# Compile the model performance metrics into a dataframe\n",
    "model_compilation = model_compilation.append(pd.DataFrame({\n",
    "                                                            'Model': 'logit_v1',\n",
    "                                                            'Dataset': ['Train_Remainder', \n",
    "                                                                        'Train_Remainder',\n",
    "                                                                        'Test', \n",
    "                                                                        'Test'],\n",
    "                                                            'Target':['Negative (Class 0)', \n",
    "                                                                      'Positive (Class 1)',\n",
    "                                                                      'Negative (Class 0)', \n",
    "                                                                      'Positive (Class 1)'],\n",
    "                                                            'Accuracy': [' ', accuracy[0], ' ', accuracy[1]],\n",
    "                                                            'Precision': precision,\n",
    "                                                            'Recall': recall,\n",
    "                                                            'F1-Score': f1_score\n",
    "                                                        },\n",
    "                                                        index= range(4,8)))"
   ]
  },
  {
   "cell_type": "code",
   "execution_count": 45,
   "id": "99f70d54",
   "metadata": {
    "ExecuteTime": {
     "end_time": "2022-05-22T20:45:10.158959Z",
     "start_time": "2022-05-22T20:45:10.145669Z"
    }
   },
   "outputs": [
    {
     "data": {
      "text/html": [
       "<div>\n",
       "<style scoped>\n",
       "    .dataframe tbody tr th:only-of-type {\n",
       "        vertical-align: middle;\n",
       "    }\n",
       "\n",
       "    .dataframe tbody tr th {\n",
       "        vertical-align: top;\n",
       "    }\n",
       "\n",
       "    .dataframe thead th {\n",
       "        text-align: right;\n",
       "    }\n",
       "</style>\n",
       "<table border=\"1\" class=\"dataframe\">\n",
       "  <thead>\n",
       "    <tr style=\"text-align: right;\">\n",
       "      <th></th>\n",
       "      <th>Model</th>\n",
       "      <th>Dataset</th>\n",
       "      <th>Target</th>\n",
       "      <th>Accuracy</th>\n",
       "      <th>Precision</th>\n",
       "      <th>Recall</th>\n",
       "      <th>F1-Score</th>\n",
       "    </tr>\n",
       "  </thead>\n",
       "  <tbody>\n",
       "    <tr>\n",
       "      <th>0</th>\n",
       "      <td>logit_v0</td>\n",
       "      <td>Train_Remainder</td>\n",
       "      <td>Negative (Class 0)</td>\n",
       "      <td></td>\n",
       "      <td>89.4%</td>\n",
       "      <td>67.9%</td>\n",
       "      <td>77.2%</td>\n",
       "    </tr>\n",
       "    <tr>\n",
       "      <th>1</th>\n",
       "      <td>logit_v0</td>\n",
       "      <td>Train_Remainder</td>\n",
       "      <td>Positive (Class 1)</td>\n",
       "      <td>97.2%</td>\n",
       "      <td>97.6%</td>\n",
       "      <td>99.4%</td>\n",
       "      <td>98.5%</td>\n",
       "    </tr>\n",
       "    <tr>\n",
       "      <th>2</th>\n",
       "      <td>logit_v0</td>\n",
       "      <td>Test</td>\n",
       "      <td>Negative (Class 0)</td>\n",
       "      <td></td>\n",
       "      <td>84.4%</td>\n",
       "      <td>63.9%</td>\n",
       "      <td>72.7%</td>\n",
       "    </tr>\n",
       "    <tr>\n",
       "      <th>3</th>\n",
       "      <td>logit_v0</td>\n",
       "      <td>Test</td>\n",
       "      <td>Positive (Class 1)</td>\n",
       "      <td>96.7%</td>\n",
       "      <td>97.3%</td>\n",
       "      <td>99.1%</td>\n",
       "      <td>98.2%</td>\n",
       "    </tr>\n",
       "    <tr>\n",
       "      <th>4</th>\n",
       "      <td>logit_v1</td>\n",
       "      <td>Train_Remainder</td>\n",
       "      <td>Negative (Class 0)</td>\n",
       "      <td></td>\n",
       "      <td>89.2%</td>\n",
       "      <td>69.3%</td>\n",
       "      <td>78.0%</td>\n",
       "    </tr>\n",
       "    <tr>\n",
       "      <th>5</th>\n",
       "      <td>logit_v1</td>\n",
       "      <td>Train_Remainder</td>\n",
       "      <td>Positive (Class 1)</td>\n",
       "      <td>97.3%</td>\n",
       "      <td>97.7%</td>\n",
       "      <td>99.4%</td>\n",
       "      <td>98.5%</td>\n",
       "    </tr>\n",
       "    <tr>\n",
       "      <th>6</th>\n",
       "      <td>logit_v1</td>\n",
       "      <td>Test</td>\n",
       "      <td>Negative (Class 0)</td>\n",
       "      <td></td>\n",
       "      <td>85.0%</td>\n",
       "      <td>64.6%</td>\n",
       "      <td>73.4%</td>\n",
       "    </tr>\n",
       "    <tr>\n",
       "      <th>7</th>\n",
       "      <td>logit_v1</td>\n",
       "      <td>Test</td>\n",
       "      <td>Positive (Class 1)</td>\n",
       "      <td>96.7%</td>\n",
       "      <td>97.4%</td>\n",
       "      <td>99.1%</td>\n",
       "      <td>98.3%</td>\n",
       "    </tr>\n",
       "  </tbody>\n",
       "</table>\n",
       "</div>"
      ],
      "text/plain": [
       "      Model          Dataset              Target Accuracy Precision Recall  \\\n",
       "0  logit_v0  Train_Remainder  Negative (Class 0)              89.4%  67.9%   \n",
       "1  logit_v0  Train_Remainder  Positive (Class 1)    97.2%     97.6%  99.4%   \n",
       "2  logit_v0             Test  Negative (Class 0)              84.4%  63.9%   \n",
       "3  logit_v0             Test  Positive (Class 1)    96.7%     97.3%  99.1%   \n",
       "4  logit_v1  Train_Remainder  Negative (Class 0)              89.2%  69.3%   \n",
       "5  logit_v1  Train_Remainder  Positive (Class 1)    97.3%     97.7%  99.4%   \n",
       "6  logit_v1             Test  Negative (Class 0)              85.0%  64.6%   \n",
       "7  logit_v1             Test  Positive (Class 1)    96.7%     97.4%  99.1%   \n",
       "\n",
       "  F1-Score  \n",
       "0    77.2%  \n",
       "1    98.5%  \n",
       "2    72.7%  \n",
       "3    98.2%  \n",
       "4    78.0%  \n",
       "5    98.5%  \n",
       "6    73.4%  \n",
       "7    98.3%  "
      ]
     },
     "execution_count": 45,
     "metadata": {},
     "output_type": "execute_result"
    }
   ],
   "source": [
    "# Print the model compiled results\n",
    "model_compilation"
   ]
  },
  {
   "cell_type": "markdown",
   "id": "37a240ba",
   "metadata": {},
   "source": [
    "In comparing the train dataset precision and recall for negative reviews between `logit_v0` and `logit_v1`, we can see a slight decrease in precision of 0.2% (89.4% to 89.2%) but an increase in recall of 1.4% (67.9% to 69.3%). For the test dataset,  we see a slight increase in precision of 0.6% (84.4% to 85.0%) and in recall of 0.7% (63.9% to 64.6%). The slight improvements in precision and recall for negative reviews are a result of using English-only reviews from Round 1 of text pre-processing and highlights the potential of the data-centric approach."
   ]
  },
  {
   "cell_type": "markdown",
   "id": "f86b287d",
   "metadata": {},
   "source": [
    "## English-Only Reviews from Round 2 of Pre-processing"
   ]
  },
  {
   "cell_type": "markdown",
   "id": "718208d1",
   "metadata": {},
   "source": [
    "I will now fit a logistic regression model on the `reviews_df_clean_2_en_part_2` that underwent round 2 of text pre-processing and contains English-only reviews."
   ]
  },
  {
   "cell_type": "markdown",
   "id": "b9b24c24",
   "metadata": {},
   "source": [
    "### Import Data - English-Only Reviews from Round 2 of Pre-processing"
   ]
  },
  {
   "cell_type": "code",
   "execution_count": 46,
   "id": "de88a220",
   "metadata": {
    "ExecuteTime": {
     "end_time": "2022-05-22T20:45:10.424850Z",
     "start_time": "2022-05-22T20:45:10.160988Z"
    }
   },
   "outputs": [],
   "source": [
    "# Import dataset\n",
    "reviews_df_clean_2_en = pd.read_pickle('reviews_df_clean_2_en_part_2.pkl')"
   ]
  },
  {
   "cell_type": "markdown",
   "id": "56145ce7",
   "metadata": {},
   "source": [
    "Quick glimpse of the top 5 and bottom 5 rows."
   ]
  },
  {
   "cell_type": "code",
   "execution_count": 47,
   "id": "2234aadd",
   "metadata": {
    "ExecuteTime": {
     "end_time": "2022-05-22T20:45:10.455341Z",
     "start_time": "2022-05-22T20:45:10.426342Z"
    }
   },
   "outputs": [
    {
     "data": {
      "text/html": [
       "<div>\n",
       "<style scoped>\n",
       "    .dataframe tbody tr th:only-of-type {\n",
       "        vertical-align: middle;\n",
       "    }\n",
       "\n",
       "    .dataframe tbody tr th {\n",
       "        vertical-align: top;\n",
       "    }\n",
       "\n",
       "    .dataframe thead th {\n",
       "        text-align: right;\n",
       "    }\n",
       "</style>\n",
       "<table border=\"1\" class=\"dataframe\">\n",
       "  <thead>\n",
       "    <tr style=\"text-align: right;\">\n",
       "      <th></th>\n",
       "      <th>app_name</th>\n",
       "      <th>review_date</th>\n",
       "      <th>review_text</th>\n",
       "      <th>dev_reply_text</th>\n",
       "      <th>dev_reply_date</th>\n",
       "      <th>is_review_good</th>\n",
       "      <th>lang_iso</th>\n",
       "    </tr>\n",
       "  </thead>\n",
       "  <tbody>\n",
       "    <tr>\n",
       "      <th>0</th>\n",
       "      <td>Instant Search +</td>\n",
       "      <td>2020-08-06</td>\n",
       "      <td>great and super fast customer service highly c...</td>\n",
       "      <td>NaN</td>\n",
       "      <td>NaT</td>\n",
       "      <td>1</td>\n",
       "      <td>en</td>\n",
       "    </tr>\n",
       "    <tr>\n",
       "      <th>1</th>\n",
       "      <td>Instant Search +</td>\n",
       "      <td>2020-08-04</td>\n",
       "      <td>still setting up my store and after initially ...</td>\n",
       "      <td>NaN</td>\n",
       "      <td>NaT</td>\n",
       "      <td>1</td>\n",
       "      <td>en</td>\n",
       "    </tr>\n",
       "    <tr>\n",
       "      <th>2</th>\n",
       "      <td>Instant Search +</td>\n",
       "      <td>2020-08-04</td>\n",
       "      <td>this is an excellent search app which they hav...</td>\n",
       "      <td>NaN</td>\n",
       "      <td>NaT</td>\n",
       "      <td>1</td>\n",
       "      <td>en</td>\n",
       "    </tr>\n",
       "    <tr>\n",
       "      <th>3</th>\n",
       "      <td>Instant Search +</td>\n",
       "      <td>2020-07-30</td>\n",
       "      <td>a great great great customer service thanks to...</td>\n",
       "      <td>NaN</td>\n",
       "      <td>NaT</td>\n",
       "      <td>1</td>\n",
       "      <td>en</td>\n",
       "    </tr>\n",
       "    <tr>\n",
       "      <th>4</th>\n",
       "      <td>Instant Search +</td>\n",
       "      <td>2020-07-28</td>\n",
       "      <td>i am begginig to use this app the search engin...</td>\n",
       "      <td>NaN</td>\n",
       "      <td>NaT</td>\n",
       "      <td>1</td>\n",
       "      <td>en</td>\n",
       "    </tr>\n",
       "  </tbody>\n",
       "</table>\n",
       "</div>"
      ],
      "text/plain": [
       "           app_name review_date  \\\n",
       "0  Instant Search +  2020-08-06   \n",
       "1  Instant Search +  2020-08-04   \n",
       "2  Instant Search +  2020-08-04   \n",
       "3  Instant Search +  2020-07-30   \n",
       "4  Instant Search +  2020-07-28   \n",
       "\n",
       "                                         review_text dev_reply_text  \\\n",
       "0  great and super fast customer service highly c...            NaN   \n",
       "1  still setting up my store and after initially ...            NaN   \n",
       "2  this is an excellent search app which they hav...            NaN   \n",
       "3  a great great great customer service thanks to...            NaN   \n",
       "4  i am begginig to use this app the search engin...            NaN   \n",
       "\n",
       "  dev_reply_date  is_review_good lang_iso  \n",
       "0            NaT               1       en  \n",
       "1            NaT               1       en  \n",
       "2            NaT               1       en  \n",
       "3            NaT               1       en  \n",
       "4            NaT               1       en  "
      ]
     },
     "execution_count": 47,
     "metadata": {},
     "output_type": "execute_result"
    }
   ],
   "source": [
    "reviews_df_clean_2_en.head()"
   ]
  },
  {
   "cell_type": "code",
   "execution_count": 48,
   "id": "9f703790",
   "metadata": {
    "ExecuteTime": {
     "end_time": "2022-05-22T20:45:10.471340Z",
     "start_time": "2022-05-22T20:45:10.457342Z"
    }
   },
   "outputs": [
    {
     "data": {
      "text/html": [
       "<div>\n",
       "<style scoped>\n",
       "    .dataframe tbody tr th:only-of-type {\n",
       "        vertical-align: middle;\n",
       "    }\n",
       "\n",
       "    .dataframe tbody tr th {\n",
       "        vertical-align: top;\n",
       "    }\n",
       "\n",
       "    .dataframe thead th {\n",
       "        text-align: right;\n",
       "    }\n",
       "</style>\n",
       "<table border=\"1\" class=\"dataframe\">\n",
       "  <thead>\n",
       "    <tr style=\"text-align: right;\">\n",
       "      <th></th>\n",
       "      <th>app_name</th>\n",
       "      <th>review_date</th>\n",
       "      <th>review_text</th>\n",
       "      <th>dev_reply_text</th>\n",
       "      <th>dev_reply_date</th>\n",
       "      <th>is_review_good</th>\n",
       "      <th>lang_iso</th>\n",
       "    </tr>\n",
       "  </thead>\n",
       "  <tbody>\n",
       "    <tr>\n",
       "      <th>446968</th>\n",
       "      <td>COD Order Confirmation</td>\n",
       "      <td>2018-03-22</td>\n",
       "      <td>very very well explained tutorial seems very e...</td>\n",
       "      <td>NaN</td>\n",
       "      <td>NaT</td>\n",
       "      <td>1</td>\n",
       "      <td>en</td>\n",
       "    </tr>\n",
       "    <tr>\n",
       "      <th>446969</th>\n",
       "      <td>COD Order Confirmation</td>\n",
       "      <td>2018-01-23</td>\n",
       "      <td>finally we have an app for for cod confirmatio...</td>\n",
       "      <td>NaN</td>\n",
       "      <td>NaT</td>\n",
       "      <td>1</td>\n",
       "      <td>en</td>\n",
       "    </tr>\n",
       "    <tr>\n",
       "      <th>446970</th>\n",
       "      <td>COD Order Confirmation</td>\n",
       "      <td>2018-01-05</td>\n",
       "      <td>useful app help us to reduce cost time highly ...</td>\n",
       "      <td>NaN</td>\n",
       "      <td>NaT</td>\n",
       "      <td>1</td>\n",
       "      <td>en</td>\n",
       "    </tr>\n",
       "    <tr>\n",
       "      <th>446971</th>\n",
       "      <td>COD Order Confirmation</td>\n",
       "      <td>2017-06-15</td>\n",
       "      <td>do not purchase this application it is like sh...</td>\n",
       "      <td>NaN</td>\n",
       "      <td>NaT</td>\n",
       "      <td>0</td>\n",
       "      <td>en</td>\n",
       "    </tr>\n",
       "    <tr>\n",
       "      <th>446972</th>\n",
       "      <td>COD Order Confirmation</td>\n",
       "      <td>2016-01-06</td>\n",
       "      <td>​​a must​ have​ app for those having e stores ...</td>\n",
       "      <td>NaN</td>\n",
       "      <td>NaT</td>\n",
       "      <td>1</td>\n",
       "      <td>en</td>\n",
       "    </tr>\n",
       "  </tbody>\n",
       "</table>\n",
       "</div>"
      ],
      "text/plain": [
       "                      app_name review_date  \\\n",
       "446968  COD Order Confirmation  2018-03-22   \n",
       "446969  COD Order Confirmation  2018-01-23   \n",
       "446970  COD Order Confirmation  2018-01-05   \n",
       "446971  COD Order Confirmation  2017-06-15   \n",
       "446972  COD Order Confirmation  2016-01-06   \n",
       "\n",
       "                                              review_text dev_reply_text  \\\n",
       "446968  very very well explained tutorial seems very e...            NaN   \n",
       "446969  finally we have an app for for cod confirmatio...            NaN   \n",
       "446970  useful app help us to reduce cost time highly ...            NaN   \n",
       "446971  do not purchase this application it is like sh...            NaN   \n",
       "446972  ​​a must​ have​ app for those having e stores ...            NaN   \n",
       "\n",
       "       dev_reply_date  is_review_good lang_iso  \n",
       "446968            NaT               1       en  \n",
       "446969            NaT               1       en  \n",
       "446970            NaT               1       en  \n",
       "446971            NaT               0       en  \n",
       "446972            NaT               1       en  "
      ]
     },
     "execution_count": 48,
     "metadata": {},
     "output_type": "execute_result"
    }
   ],
   "source": [
    "reviews_df_clean_2_en.tail()"
   ]
  },
  {
   "cell_type": "code",
   "execution_count": 49,
   "id": "e7008228",
   "metadata": {
    "ExecuteTime": {
     "end_time": "2022-05-22T20:45:10.564961Z",
     "start_time": "2022-05-22T20:45:10.473372Z"
    }
   },
   "outputs": [
    {
     "name": "stdout",
     "output_type": "stream",
     "text": [
      "<class 'pandas.core.frame.DataFrame'>\n",
      "Int64Index: 427298 entries, 0 to 446972\n",
      "Data columns (total 7 columns):\n",
      " #   Column          Non-Null Count   Dtype         \n",
      "---  ------          --------------   -----         \n",
      " 0   app_name        427298 non-null  object        \n",
      " 1   review_date     427298 non-null  datetime64[ns]\n",
      " 2   review_text     427298 non-null  object        \n",
      " 3   dev_reply_text  45305 non-null   object        \n",
      " 4   dev_reply_date  45305 non-null   datetime64[ns]\n",
      " 5   is_review_good  427298 non-null  int32         \n",
      " 6   lang_iso        427298 non-null  object        \n",
      "dtypes: datetime64[ns](2), int32(1), object(4)\n",
      "memory usage: 24.5+ MB\n"
     ]
    }
   ],
   "source": [
    "reviews_df_clean_2_en.info()"
   ]
  },
  {
   "cell_type": "markdown",
   "id": "c176a5a3",
   "metadata": {},
   "source": [
    "### Separate and Define X and y Variables from the Dataframe"
   ]
  },
  {
   "cell_type": "markdown",
   "id": "19b43f08",
   "metadata": {},
   "source": [
    "The `X` variable will be the `review_text` and the `y` variable will be the `is_review_good` binary variable."
   ]
  },
  {
   "cell_type": "code",
   "execution_count": 50,
   "id": "4605296c",
   "metadata": {
    "ExecuteTime": {
     "end_time": "2022-05-22T20:45:10.579971Z",
     "start_time": "2022-05-22T20:45:10.566961Z"
    }
   },
   "outputs": [],
   "source": [
    "X = reviews_df_clean_2_en['review_text']"
   ]
  },
  {
   "cell_type": "code",
   "execution_count": 51,
   "id": "48652686",
   "metadata": {
    "ExecuteTime": {
     "end_time": "2022-05-22T20:45:10.596049Z",
     "start_time": "2022-05-22T20:45:10.581961Z"
    }
   },
   "outputs": [
    {
     "data": {
      "text/plain": [
       "(427298,)"
      ]
     },
     "execution_count": 51,
     "metadata": {},
     "output_type": "execute_result"
    }
   ],
   "source": [
    "# Check the shape\n",
    "X.shape"
   ]
  },
  {
   "cell_type": "code",
   "execution_count": 52,
   "id": "4dfcdaf4",
   "metadata": {
    "ExecuteTime": {
     "end_time": "2022-05-22T20:45:10.611151Z",
     "start_time": "2022-05-22T20:45:10.598036Z"
    }
   },
   "outputs": [],
   "source": [
    "y = reviews_df_clean_2_en['is_review_good']"
   ]
  },
  {
   "cell_type": "code",
   "execution_count": 53,
   "id": "1e0938aa",
   "metadata": {
    "ExecuteTime": {
     "end_time": "2022-05-22T20:45:10.626099Z",
     "start_time": "2022-05-22T20:45:10.613099Z"
    },
    "scrolled": true
   },
   "outputs": [
    {
     "data": {
      "text/plain": [
       "(427298,)"
      ]
     },
     "execution_count": 53,
     "metadata": {},
     "output_type": "execute_result"
    }
   ],
   "source": [
    "# Check the shape\n",
    "y.shape"
   ]
  },
  {
   "cell_type": "markdown",
   "id": "47afe9ef",
   "metadata": {},
   "source": [
    "### Train-Test Split"
   ]
  },
  {
   "cell_type": "markdown",
   "id": "091f043b",
   "metadata": {
    "ExecuteTime": {
     "end_time": "2022-04-02T22:52:53.750642Z",
     "start_time": "2022-04-02T22:52:53.734633Z"
    }
   },
   "source": [
    "Create the train-test split data."
   ]
  },
  {
   "cell_type": "code",
   "execution_count": 54,
   "id": "d02fbf52",
   "metadata": {
    "ExecuteTime": {
     "end_time": "2022-05-22T20:45:10.846356Z",
     "start_time": "2022-05-22T20:45:10.628098Z"
    },
    "scrolled": false
   },
   "outputs": [
    {
     "name": "stdout",
     "output_type": "stream",
     "text": [
      "\n",
      " Before Train and Test Split \n",
      "=======================================================\n",
      "\n",
      "Shape of X = (427298,); Shape of y = (427298,)\n",
      "\n",
      "\n",
      " After Train and Test Split \n",
      "=======================================================\n",
      "\n",
      "Train/Valiation Dataset \n",
      "\n",
      "Shape of X_remainder = (384568,); Shape of y_remainder = (384568,)\n",
      "\n",
      "\n",
      "Test Dataset \n",
      "\n",
      "Shape of X_test = (42730,); Shape of y_test = (42730,)\n"
     ]
    }
   ],
   "source": [
    "# Train-test split for round 2 of pre-processed data\n",
    "X_remainder, X_test, y_remainder, y_test = train_test_split_print(X, \n",
    "                                                                  y, \n",
    "                                                                  size = 0.1, \n",
    "                                                                  random_state = 1)"
   ]
  },
  {
   "cell_type": "markdown",
   "id": "60973680",
   "metadata": {},
   "source": [
    "### Logistic Regression Model 2"
   ]
  },
  {
   "cell_type": "markdown",
   "id": "92523e51",
   "metadata": {},
   "source": [
    "I will create another logit model. But this time, I will use the English-only language reviews dataframe from round 2 of text pre-processing."
   ]
  },
  {
   "cell_type": "code",
   "execution_count": 55,
   "id": "cfefd81e",
   "metadata": {
    "ExecuteTime": {
     "end_time": "2022-05-22T20:45:10.861546Z",
     "start_time": "2022-05-22T20:45:10.847356Z"
    }
   },
   "outputs": [],
   "source": [
    "# Define a pipeline that implements the steps for the transforms and final estimator\n",
    "\n",
    "# Instantiate transformer and estimator or steps for the pipeline\n",
    "estimators = [(\"cv\", CountVectorizer()),\n",
    "              (\"logit_model\", LogisticRegression(max_iter=200,\n",
    "                              solver='liblinear',\n",
    "                              penalty='l1',\n",
    "                              random_state=1))]\n",
    "\n",
    "# Instantiate pipeline\n",
    "logit_v2_pipe = Pipeline(estimators, verbose = True)"
   ]
  },
  {
   "cell_type": "markdown",
   "id": "19fe80cf",
   "metadata": {},
   "source": [
    "Fit the pipeline to the training dataset."
   ]
  },
  {
   "cell_type": "code",
   "execution_count": 56,
   "id": "c96463ba",
   "metadata": {
    "ExecuteTime": {
     "end_time": "2022-05-22T20:45:10.877571Z",
     "start_time": "2022-05-22T20:45:10.863060Z"
    },
    "scrolled": true
   },
   "outputs": [],
   "source": [
    "# # Fit pipeline\n",
    "# logit_v2_pipe.fit(X_remainder, y_remainder)"
   ]
  },
  {
   "cell_type": "markdown",
   "id": "345c99c6",
   "metadata": {},
   "source": [
    "Save the fitted model to a pickle file."
   ]
  },
  {
   "cell_type": "code",
   "execution_count": 57,
   "id": "1621748c",
   "metadata": {
    "ExecuteTime": {
     "end_time": "2022-05-22T20:45:10.893087Z",
     "start_time": "2022-05-22T20:45:10.879572Z"
    }
   },
   "outputs": [],
   "source": [
    "# # Save the model to a pickle file\n",
    "# # https://stackoverflow.com/questions/10592605/save-classifier-to-disk-in-scikit-learn\n",
    "# with open('logit_v2_pipe.pkl', 'wb') as f:\n",
    "#     pickle.dump(logit_v2_pipe, f)"
   ]
  },
  {
   "cell_type": "markdown",
   "id": "1e5a32a5",
   "metadata": {},
   "source": [
    "Load the fitted model from a pickle file."
   ]
  },
  {
   "cell_type": "code",
   "execution_count": 58,
   "id": "a0f9128d",
   "metadata": {
    "ExecuteTime": {
     "end_time": "2022-05-22T20:45:10.941086Z",
     "start_time": "2022-05-22T20:45:10.895088Z"
    }
   },
   "outputs": [],
   "source": [
    "# Load pickled model file\n",
    "with open('logit_v2_pipe.pkl', 'rb') as f:\n",
    "    logit_v2_pipe = pickle.load(f)"
   ]
  },
  {
   "cell_type": "markdown",
   "id": "73051bbf",
   "metadata": {},
   "source": [
    "Click on elements below for details of each step in the pipeline diagram."
   ]
  },
  {
   "cell_type": "code",
   "execution_count": 59,
   "id": "df38a1ae",
   "metadata": {
    "ExecuteTime": {
     "end_time": "2022-05-22T20:45:10.957087Z",
     "start_time": "2022-05-22T20:45:10.943088Z"
    }
   },
   "outputs": [
    {
     "data": {
      "text/html": [
       "<style>#sk-8bd21b6a-4352-4d1c-ab00-9f85bc94df99 {color: black;background-color: white;}#sk-8bd21b6a-4352-4d1c-ab00-9f85bc94df99 pre{padding: 0;}#sk-8bd21b6a-4352-4d1c-ab00-9f85bc94df99 div.sk-toggleable {background-color: white;}#sk-8bd21b6a-4352-4d1c-ab00-9f85bc94df99 label.sk-toggleable__label {cursor: pointer;display: block;width: 100%;margin-bottom: 0;padding: 0.2em 0.3em;box-sizing: border-box;text-align: center;}#sk-8bd21b6a-4352-4d1c-ab00-9f85bc94df99 div.sk-toggleable__content {max-height: 0;max-width: 0;overflow: hidden;text-align: left;background-color: #f0f8ff;}#sk-8bd21b6a-4352-4d1c-ab00-9f85bc94df99 div.sk-toggleable__content pre {margin: 0.2em;color: black;border-radius: 0.25em;background-color: #f0f8ff;}#sk-8bd21b6a-4352-4d1c-ab00-9f85bc94df99 input.sk-toggleable__control:checked~div.sk-toggleable__content {max-height: 200px;max-width: 100%;overflow: auto;}#sk-8bd21b6a-4352-4d1c-ab00-9f85bc94df99 div.sk-estimator input.sk-toggleable__control:checked~label.sk-toggleable__label {background-color: #d4ebff;}#sk-8bd21b6a-4352-4d1c-ab00-9f85bc94df99 div.sk-label input.sk-toggleable__control:checked~label.sk-toggleable__label {background-color: #d4ebff;}#sk-8bd21b6a-4352-4d1c-ab00-9f85bc94df99 input.sk-hidden--visually {border: 0;clip: rect(1px 1px 1px 1px);clip: rect(1px, 1px, 1px, 1px);height: 1px;margin: -1px;overflow: hidden;padding: 0;position: absolute;width: 1px;}#sk-8bd21b6a-4352-4d1c-ab00-9f85bc94df99 div.sk-estimator {font-family: monospace;background-color: #f0f8ff;margin: 0.25em 0.25em;border: 1px dotted black;border-radius: 0.25em;box-sizing: border-box;}#sk-8bd21b6a-4352-4d1c-ab00-9f85bc94df99 div.sk-estimator:hover {background-color: #d4ebff;}#sk-8bd21b6a-4352-4d1c-ab00-9f85bc94df99 div.sk-parallel-item::after {content: \"\";width: 100%;border-bottom: 1px solid gray;flex-grow: 1;}#sk-8bd21b6a-4352-4d1c-ab00-9f85bc94df99 div.sk-label:hover label.sk-toggleable__label {background-color: #d4ebff;}#sk-8bd21b6a-4352-4d1c-ab00-9f85bc94df99 div.sk-serial::before {content: \"\";position: absolute;border-left: 1px solid gray;box-sizing: border-box;top: 2em;bottom: 0;left: 50%;}#sk-8bd21b6a-4352-4d1c-ab00-9f85bc94df99 div.sk-serial {display: flex;flex-direction: column;align-items: center;background-color: white;}#sk-8bd21b6a-4352-4d1c-ab00-9f85bc94df99 div.sk-item {z-index: 1;}#sk-8bd21b6a-4352-4d1c-ab00-9f85bc94df99 div.sk-parallel {display: flex;align-items: stretch;justify-content: center;background-color: white;}#sk-8bd21b6a-4352-4d1c-ab00-9f85bc94df99 div.sk-parallel-item {display: flex;flex-direction: column;position: relative;background-color: white;}#sk-8bd21b6a-4352-4d1c-ab00-9f85bc94df99 div.sk-parallel-item:first-child::after {align-self: flex-end;width: 50%;}#sk-8bd21b6a-4352-4d1c-ab00-9f85bc94df99 div.sk-parallel-item:last-child::after {align-self: flex-start;width: 50%;}#sk-8bd21b6a-4352-4d1c-ab00-9f85bc94df99 div.sk-parallel-item:only-child::after {width: 0;}#sk-8bd21b6a-4352-4d1c-ab00-9f85bc94df99 div.sk-dashed-wrapped {border: 1px dashed gray;margin: 0.2em;box-sizing: border-box;padding-bottom: 0.1em;background-color: white;position: relative;}#sk-8bd21b6a-4352-4d1c-ab00-9f85bc94df99 div.sk-label label {font-family: monospace;font-weight: bold;background-color: white;display: inline-block;line-height: 1.2em;}#sk-8bd21b6a-4352-4d1c-ab00-9f85bc94df99 div.sk-label-container {position: relative;z-index: 2;text-align: center;}#sk-8bd21b6a-4352-4d1c-ab00-9f85bc94df99 div.sk-container {display: inline-block;position: relative;}</style><div id=\"sk-8bd21b6a-4352-4d1c-ab00-9f85bc94df99\" class\"sk-top-container\"><div class=\"sk-container\"><div class=\"sk-item sk-dashed-wrapped\"><div class=\"sk-label-container\"><div class=\"sk-label sk-toggleable\"><input class=\"sk-toggleable__control sk-hidden--visually\" id=\"f36279fe-21ce-4b53-9f0c-cb3eeb52e084\" type=\"checkbox\" ><label class=\"sk-toggleable__label\" for=\"f36279fe-21ce-4b53-9f0c-cb3eeb52e084\">Pipeline</label><div class=\"sk-toggleable__content\"><pre>Pipeline(steps=[('cv', CountVectorizer()),\n",
       "                ('logit_model',\n",
       "                 LogisticRegression(max_iter=200, penalty='l1', random_state=1,\n",
       "                                    solver='liblinear'))],\n",
       "         verbose=True)</pre></div></div></div><div class=\"sk-serial\"><div class=\"sk-item\"><div class=\"sk-estimator sk-toggleable\"><input class=\"sk-toggleable__control sk-hidden--visually\" id=\"2257f8b0-e94d-4219-9feb-96bcd214cd47\" type=\"checkbox\" ><label class=\"sk-toggleable__label\" for=\"2257f8b0-e94d-4219-9feb-96bcd214cd47\">CountVectorizer</label><div class=\"sk-toggleable__content\"><pre>CountVectorizer()</pre></div></div></div><div class=\"sk-item\"><div class=\"sk-estimator sk-toggleable\"><input class=\"sk-toggleable__control sk-hidden--visually\" id=\"43aed922-86d1-43db-8a33-6f04785a52d0\" type=\"checkbox\" ><label class=\"sk-toggleable__label\" for=\"43aed922-86d1-43db-8a33-6f04785a52d0\">LogisticRegression</label><div class=\"sk-toggleable__content\"><pre>LogisticRegression(max_iter=200, penalty='l1', random_state=1,\n",
       "                   solver='liblinear')</pre></div></div></div></div></div></div></div>"
      ],
      "text/plain": [
       "Pipeline(steps=[('cv', CountVectorizer()),\n",
       "                ('logit_model',\n",
       "                 LogisticRegression(max_iter=200, penalty='l1', random_state=1,\n",
       "                                    solver='liblinear'))],\n",
       "         verbose=True)"
      ]
     },
     "execution_count": 59,
     "metadata": {},
     "output_type": "execute_result"
    }
   ],
   "source": [
    "# Display pipeline diagram\n",
    "logit_v2_pipe"
   ]
  },
  {
   "cell_type": "markdown",
   "id": "7562af3e",
   "metadata": {
    "ExecuteTime": {
     "end_time": "2022-04-02T20:05:42.789011Z",
     "start_time": "2022-04-02T20:05:42.776010Z"
    }
   },
   "source": [
    "Score the model on both train and test datasets and output the accuracy of the model."
   ]
  },
  {
   "cell_type": "code",
   "execution_count": 60,
   "id": "7662dc16",
   "metadata": {
    "ExecuteTime": {
     "end_time": "2022-05-22T20:45:21.563316Z",
     "start_time": "2022-05-22T20:45:10.958087Z"
    }
   },
   "outputs": [
    {
     "name": "stdout",
     "output_type": "stream",
     "text": [
      "Train score: 97.2%\n",
      "Test score: 96.6%\n"
     ]
    }
   ],
   "source": [
    "# Train and test score from logit\n",
    "accuracy = []\n",
    "\n",
    "accuracy.append(f\"{logit_v2_pipe.score(X_remainder, y_remainder) * 100:0.1f}%\")\n",
    "accuracy.append(f\"{logit_v2_pipe.score(X_test, y_test) * 100:0.1f}%\")\n",
    "\n",
    "print(f\"Train score: {accuracy[0]}\")\n",
    "print(f\"Test score: {accuracy[1]}\")"
   ]
  },
  {
   "cell_type": "markdown",
   "id": "63f043ed",
   "metadata": {},
   "source": [
    "Retrieve confusion matrix and classification report of the performance metrics from the model for both train and test datasets."
   ]
  },
  {
   "cell_type": "code",
   "execution_count": 61,
   "id": "b0a2df12",
   "metadata": {
    "ExecuteTime": {
     "end_time": "2022-05-22T20:45:32.982300Z",
     "start_time": "2022-05-22T20:45:21.565322Z"
    },
    "scrolled": false
   },
   "outputs": [
    {
     "name": "stdout",
     "output_type": "stream",
     "text": [
      "Confusion matrix for Train Data: \n",
      "=======================================================\n",
      "\n"
     ]
    },
    {
     "data": {
      "text/html": [
       "<div>\n",
       "<style scoped>\n",
       "    .dataframe tbody tr th:only-of-type {\n",
       "        vertical-align: middle;\n",
       "    }\n",
       "\n",
       "    .dataframe tbody tr th {\n",
       "        vertical-align: top;\n",
       "    }\n",
       "\n",
       "    .dataframe thead th {\n",
       "        text-align: right;\n",
       "    }\n",
       "</style>\n",
       "<table border=\"1\" class=\"dataframe\">\n",
       "  <thead>\n",
       "    <tr style=\"text-align: right;\">\n",
       "      <th></th>\n",
       "      <th>Predicted 0 [Negative Review]</th>\n",
       "      <th>Predicted 1 [Positive Review]</th>\n",
       "    </tr>\n",
       "  </thead>\n",
       "  <tbody>\n",
       "    <tr>\n",
       "      <th>True 0 [Negative Review]</th>\n",
       "      <td>18534</td>\n",
       "      <td>8314</td>\n",
       "    </tr>\n",
       "    <tr>\n",
       "      <th>True 1 [Positive Review]</th>\n",
       "      <td>2290</td>\n",
       "      <td>355430</td>\n",
       "    </tr>\n",
       "  </tbody>\n",
       "</table>\n",
       "</div>"
      ],
      "text/plain": [
       "                          Predicted 0 [Negative Review]  \\\n",
       "True 0 [Negative Review]                          18534   \n",
       "True 1 [Positive Review]                           2290   \n",
       "\n",
       "                          Predicted 1 [Positive Review]  \n",
       "True 0 [Negative Review]                           8314  \n",
       "True 1 [Positive Review]                         355430  "
      ]
     },
     "metadata": {},
     "output_type": "display_data"
    },
    {
     "name": "stdout",
     "output_type": "stream",
     "text": [
      "Classification Report for Train Data: \n",
      "=======================================================\n",
      "\n",
      "                    precision    recall  f1-score   support\n",
      "\n",
      "Negative (Class 0)       0.89      0.69      0.78     26848\n",
      "Positive (Class 1)       0.98      0.99      0.99    357720\n",
      "\n",
      "          accuracy                           0.97    384568\n",
      "         macro avg       0.93      0.84      0.88    384568\n",
      "      weighted avg       0.97      0.97      0.97    384568\n",
      "\n",
      "Confusion matrix for Test Data: \n",
      "=======================================================\n",
      "\n"
     ]
    },
    {
     "data": {
      "text/html": [
       "<div>\n",
       "<style scoped>\n",
       "    .dataframe tbody tr th:only-of-type {\n",
       "        vertical-align: middle;\n",
       "    }\n",
       "\n",
       "    .dataframe tbody tr th {\n",
       "        vertical-align: top;\n",
       "    }\n",
       "\n",
       "    .dataframe thead th {\n",
       "        text-align: right;\n",
       "    }\n",
       "</style>\n",
       "<table border=\"1\" class=\"dataframe\">\n",
       "  <thead>\n",
       "    <tr style=\"text-align: right;\">\n",
       "      <th></th>\n",
       "      <th>Predicted 0 [Negative Review]</th>\n",
       "      <th>Predicted 1 [Positive Review]</th>\n",
       "    </tr>\n",
       "  </thead>\n",
       "  <tbody>\n",
       "    <tr>\n",
       "      <th>True 0 [Negative Review]</th>\n",
       "      <td>1889</td>\n",
       "      <td>1094</td>\n",
       "    </tr>\n",
       "    <tr>\n",
       "      <th>True 1 [Positive Review]</th>\n",
       "      <td>354</td>\n",
       "      <td>39393</td>\n",
       "    </tr>\n",
       "  </tbody>\n",
       "</table>\n",
       "</div>"
      ],
      "text/plain": [
       "                          Predicted 0 [Negative Review]  \\\n",
       "True 0 [Negative Review]                           1889   \n",
       "True 1 [Positive Review]                            354   \n",
       "\n",
       "                          Predicted 1 [Positive Review]  \n",
       "True 0 [Negative Review]                           1094  \n",
       "True 1 [Positive Review]                          39393  "
      ]
     },
     "metadata": {},
     "output_type": "display_data"
    },
    {
     "name": "stdout",
     "output_type": "stream",
     "text": [
      "Classification Report for Test Data: \n",
      "=======================================================\n",
      "\n",
      "                    precision    recall  f1-score   support\n",
      "\n",
      "Negative (Class 0)       0.84      0.63      0.72      2983\n",
      "Positive (Class 1)       0.97      0.99      0.98     39747\n",
      "\n",
      "          accuracy                           0.97     42730\n",
      "         macro avg       0.91      0.81      0.85     42730\n",
      "      weighted avg       0.96      0.97      0.96     42730\n",
      "\n"
     ]
    }
   ],
   "source": [
    "# Use the function defined earlier for model performance metrics\n",
    "precision, recall, f1_score = model_performance_metrics(logit_v2_pipe, \n",
    "                                                        X_remainder, \n",
    "                                                        y_remainder, \n",
    "                                                        X_test, \n",
    "                                                        y_test)"
   ]
  },
  {
   "cell_type": "code",
   "execution_count": 62,
   "id": "6f64d5d0",
   "metadata": {
    "ExecuteTime": {
     "end_time": "2022-05-22T20:45:32.997841Z",
     "start_time": "2022-05-22T20:45:32.983299Z"
    },
    "scrolled": true
   },
   "outputs": [],
   "source": [
    "# Compile the model performance metrics into a dataframe\n",
    "model_compilation = model_compilation.append(pd.DataFrame({\n",
    "                                                            'Model': 'logit_v2',\n",
    "                                                            'Dataset': ['Train_Remainder', \n",
    "                                                                        'Train_Remainder',\n",
    "                                                                        'Test', \n",
    "                                                                        'Test'],\n",
    "                                                            'Target':['Negative (Class 0)', \n",
    "                                                                      'Positive (Class 1)',\n",
    "                                                                      'Negative (Class 0)', \n",
    "                                                                      'Positive (Class 1)'],\n",
    "                                                            'Accuracy': [' ', accuracy[0], ' ', accuracy[1]],\n",
    "                                                            'Precision': precision,\n",
    "                                                            'Recall': recall,\n",
    "                                                            'F1-Score': f1_score\n",
    "                                                        },\n",
    "                                                        index= range(8,12)))"
   ]
  },
  {
   "cell_type": "code",
   "execution_count": 63,
   "id": "9fb2d60d",
   "metadata": {
    "ExecuteTime": {
     "end_time": "2022-05-22T20:45:33.012990Z",
     "start_time": "2022-05-22T20:45:32.999829Z"
    },
    "scrolled": false
   },
   "outputs": [
    {
     "data": {
      "text/html": [
       "<div>\n",
       "<style scoped>\n",
       "    .dataframe tbody tr th:only-of-type {\n",
       "        vertical-align: middle;\n",
       "    }\n",
       "\n",
       "    .dataframe tbody tr th {\n",
       "        vertical-align: top;\n",
       "    }\n",
       "\n",
       "    .dataframe thead th {\n",
       "        text-align: right;\n",
       "    }\n",
       "</style>\n",
       "<table border=\"1\" class=\"dataframe\">\n",
       "  <thead>\n",
       "    <tr style=\"text-align: right;\">\n",
       "      <th></th>\n",
       "      <th>Model</th>\n",
       "      <th>Dataset</th>\n",
       "      <th>Target</th>\n",
       "      <th>Accuracy</th>\n",
       "      <th>Precision</th>\n",
       "      <th>Recall</th>\n",
       "      <th>F1-Score</th>\n",
       "    </tr>\n",
       "  </thead>\n",
       "  <tbody>\n",
       "    <tr>\n",
       "      <th>0</th>\n",
       "      <td>logit_v0</td>\n",
       "      <td>Train_Remainder</td>\n",
       "      <td>Negative (Class 0)</td>\n",
       "      <td></td>\n",
       "      <td>89.4%</td>\n",
       "      <td>67.9%</td>\n",
       "      <td>77.2%</td>\n",
       "    </tr>\n",
       "    <tr>\n",
       "      <th>1</th>\n",
       "      <td>logit_v0</td>\n",
       "      <td>Train_Remainder</td>\n",
       "      <td>Positive (Class 1)</td>\n",
       "      <td>97.2%</td>\n",
       "      <td>97.6%</td>\n",
       "      <td>99.4%</td>\n",
       "      <td>98.5%</td>\n",
       "    </tr>\n",
       "    <tr>\n",
       "      <th>2</th>\n",
       "      <td>logit_v0</td>\n",
       "      <td>Test</td>\n",
       "      <td>Negative (Class 0)</td>\n",
       "      <td></td>\n",
       "      <td>84.4%</td>\n",
       "      <td>63.9%</td>\n",
       "      <td>72.7%</td>\n",
       "    </tr>\n",
       "    <tr>\n",
       "      <th>3</th>\n",
       "      <td>logit_v0</td>\n",
       "      <td>Test</td>\n",
       "      <td>Positive (Class 1)</td>\n",
       "      <td>96.7%</td>\n",
       "      <td>97.3%</td>\n",
       "      <td>99.1%</td>\n",
       "      <td>98.2%</td>\n",
       "    </tr>\n",
       "    <tr>\n",
       "      <th>4</th>\n",
       "      <td>logit_v1</td>\n",
       "      <td>Train_Remainder</td>\n",
       "      <td>Negative (Class 0)</td>\n",
       "      <td></td>\n",
       "      <td>89.2%</td>\n",
       "      <td>69.3%</td>\n",
       "      <td>78.0%</td>\n",
       "    </tr>\n",
       "    <tr>\n",
       "      <th>5</th>\n",
       "      <td>logit_v1</td>\n",
       "      <td>Train_Remainder</td>\n",
       "      <td>Positive (Class 1)</td>\n",
       "      <td>97.3%</td>\n",
       "      <td>97.7%</td>\n",
       "      <td>99.4%</td>\n",
       "      <td>98.5%</td>\n",
       "    </tr>\n",
       "    <tr>\n",
       "      <th>6</th>\n",
       "      <td>logit_v1</td>\n",
       "      <td>Test</td>\n",
       "      <td>Negative (Class 0)</td>\n",
       "      <td></td>\n",
       "      <td>85.0%</td>\n",
       "      <td>64.6%</td>\n",
       "      <td>73.4%</td>\n",
       "    </tr>\n",
       "    <tr>\n",
       "      <th>7</th>\n",
       "      <td>logit_v1</td>\n",
       "      <td>Test</td>\n",
       "      <td>Positive (Class 1)</td>\n",
       "      <td>96.7%</td>\n",
       "      <td>97.4%</td>\n",
       "      <td>99.1%</td>\n",
       "      <td>98.3%</td>\n",
       "    </tr>\n",
       "    <tr>\n",
       "      <th>8</th>\n",
       "      <td>logit_v2</td>\n",
       "      <td>Train_Remainder</td>\n",
       "      <td>Negative (Class 0)</td>\n",
       "      <td></td>\n",
       "      <td>89.0%</td>\n",
       "      <td>69.0%</td>\n",
       "      <td>77.8%</td>\n",
       "    </tr>\n",
       "    <tr>\n",
       "      <th>9</th>\n",
       "      <td>logit_v2</td>\n",
       "      <td>Train_Remainder</td>\n",
       "      <td>Positive (Class 1)</td>\n",
       "      <td>97.2%</td>\n",
       "      <td>97.7%</td>\n",
       "      <td>99.4%</td>\n",
       "      <td>98.5%</td>\n",
       "    </tr>\n",
       "    <tr>\n",
       "      <th>10</th>\n",
       "      <td>logit_v2</td>\n",
       "      <td>Test</td>\n",
       "      <td>Negative (Class 0)</td>\n",
       "      <td></td>\n",
       "      <td>84.2%</td>\n",
       "      <td>63.3%</td>\n",
       "      <td>72.3%</td>\n",
       "    </tr>\n",
       "    <tr>\n",
       "      <th>11</th>\n",
       "      <td>logit_v2</td>\n",
       "      <td>Test</td>\n",
       "      <td>Positive (Class 1)</td>\n",
       "      <td>96.6%</td>\n",
       "      <td>97.3%</td>\n",
       "      <td>99.1%</td>\n",
       "      <td>98.2%</td>\n",
       "    </tr>\n",
       "  </tbody>\n",
       "</table>\n",
       "</div>"
      ],
      "text/plain": [
       "       Model          Dataset              Target Accuracy Precision Recall  \\\n",
       "0   logit_v0  Train_Remainder  Negative (Class 0)              89.4%  67.9%   \n",
       "1   logit_v0  Train_Remainder  Positive (Class 1)    97.2%     97.6%  99.4%   \n",
       "2   logit_v0             Test  Negative (Class 0)              84.4%  63.9%   \n",
       "3   logit_v0             Test  Positive (Class 1)    96.7%     97.3%  99.1%   \n",
       "4   logit_v1  Train_Remainder  Negative (Class 0)              89.2%  69.3%   \n",
       "5   logit_v1  Train_Remainder  Positive (Class 1)    97.3%     97.7%  99.4%   \n",
       "6   logit_v1             Test  Negative (Class 0)              85.0%  64.6%   \n",
       "7   logit_v1             Test  Positive (Class 1)    96.7%     97.4%  99.1%   \n",
       "8   logit_v2  Train_Remainder  Negative (Class 0)              89.0%  69.0%   \n",
       "9   logit_v2  Train_Remainder  Positive (Class 1)    97.2%     97.7%  99.4%   \n",
       "10  logit_v2             Test  Negative (Class 0)              84.2%  63.3%   \n",
       "11  logit_v2             Test  Positive (Class 1)    96.6%     97.3%  99.1%   \n",
       "\n",
       "   F1-Score  \n",
       "0     77.2%  \n",
       "1     98.5%  \n",
       "2     72.7%  \n",
       "3     98.2%  \n",
       "4     78.0%  \n",
       "5     98.5%  \n",
       "6     73.4%  \n",
       "7     98.3%  \n",
       "8     77.8%  \n",
       "9     98.5%  \n",
       "10    72.3%  \n",
       "11    98.2%  "
      ]
     },
     "execution_count": 63,
     "metadata": {},
     "output_type": "execute_result"
    }
   ],
   "source": [
    "# Print the model compiled results\n",
    "model_compilation"
   ]
  },
  {
   "cell_type": "markdown",
   "id": "70939176",
   "metadata": {},
   "source": [
    "In comparing the test data's precision and recall for `Negative` reviews between `logit_v1` and `logit_v2`, we can see a decrease of 0.8% (85.0% to 84.2%) in precision, and a decrease of 1.3% (64.6% to 63.3%) in recall. However, the major difference is the number of features that were included in each model.\n",
    "\n",
    "If we recall, the vectorization of data from the 2nd round of pre-processing resulted in a increase of vocabulary size to 81,035. This is in contrast to round 1's English-only reviews vocabulary of 73,637. This was due to the preservation of additional English-language reviews. We can see the slight impact this had on precision and the recall for the model."
   ]
  },
  {
   "cell_type": "markdown",
   "id": "35b24728",
   "metadata": {},
   "source": [
    "## Text Normalized English Reviews from Round 3 of Pre-processing"
   ]
  },
  {
   "cell_type": "markdown",
   "id": "97ea8c39",
   "metadata": {},
   "source": [
    "I will now fit a logistic regression model on the `reviews_df_clean_3a_en_verb_only_lemmatized_part_2` that contains the text normalization (verbs only) during round 3 of text pre-processing and English-only reviews."
   ]
  },
  {
   "cell_type": "markdown",
   "id": "5c74b7d1",
   "metadata": {},
   "source": [
    "### Import Data - Verb Lemmatized English-Only Reviews from Round 3 of Pre-processing"
   ]
  },
  {
   "cell_type": "code",
   "execution_count": 64,
   "id": "d6ef2a30",
   "metadata": {
    "ExecuteTime": {
     "end_time": "2022-05-22T20:45:33.280907Z",
     "start_time": "2022-05-22T20:45:33.014769Z"
    }
   },
   "outputs": [],
   "source": [
    "# Import dataset\n",
    "reviews_df_clean_3_en = pd.read_pickle('reviews_df_clean_3a_en_verb_only_lemmatized_part_2.pkl')"
   ]
  },
  {
   "cell_type": "markdown",
   "id": "08254a43",
   "metadata": {},
   "source": [
    "Quick glimpse of the top 5 and bottom 5 rows."
   ]
  },
  {
   "cell_type": "code",
   "execution_count": 65,
   "id": "a1d8d1e8",
   "metadata": {
    "ExecuteTime": {
     "end_time": "2022-05-22T20:45:33.296893Z",
     "start_time": "2022-05-22T20:45:33.282892Z"
    }
   },
   "outputs": [
    {
     "data": {
      "text/html": [
       "<div>\n",
       "<style scoped>\n",
       "    .dataframe tbody tr th:only-of-type {\n",
       "        vertical-align: middle;\n",
       "    }\n",
       "\n",
       "    .dataframe tbody tr th {\n",
       "        vertical-align: top;\n",
       "    }\n",
       "\n",
       "    .dataframe thead th {\n",
       "        text-align: right;\n",
       "    }\n",
       "</style>\n",
       "<table border=\"1\" class=\"dataframe\">\n",
       "  <thead>\n",
       "    <tr style=\"text-align: right;\">\n",
       "      <th></th>\n",
       "      <th>app_name</th>\n",
       "      <th>review_date</th>\n",
       "      <th>review_text</th>\n",
       "      <th>dev_reply_text</th>\n",
       "      <th>dev_reply_date</th>\n",
       "      <th>is_review_good</th>\n",
       "      <th>lang_iso</th>\n",
       "    </tr>\n",
       "  </thead>\n",
       "  <tbody>\n",
       "    <tr>\n",
       "      <th>0</th>\n",
       "      <td>Instant Search +</td>\n",
       "      <td>2020-08-06</td>\n",
       "      <td>great and super fast customer service highly c...</td>\n",
       "      <td>NaN</td>\n",
       "      <td>NaT</td>\n",
       "      <td>1</td>\n",
       "      <td>en</td>\n",
       "    </tr>\n",
       "    <tr>\n",
       "      <th>1</th>\n",
       "      <td>Instant Search +</td>\n",
       "      <td>2020-08-04</td>\n",
       "      <td>still set up my store and after initially pay ...</td>\n",
       "      <td>NaN</td>\n",
       "      <td>NaT</td>\n",
       "      <td>1</td>\n",
       "      <td>en</td>\n",
       "    </tr>\n",
       "    <tr>\n",
       "      <th>2</th>\n",
       "      <td>Instant Search +</td>\n",
       "      <td>2020-08-04</td>\n",
       "      <td>this be an excellent search app which they hav...</td>\n",
       "      <td>NaN</td>\n",
       "      <td>NaT</td>\n",
       "      <td>1</td>\n",
       "      <td>en</td>\n",
       "    </tr>\n",
       "    <tr>\n",
       "      <th>3</th>\n",
       "      <td>Instant Search +</td>\n",
       "      <td>2020-07-30</td>\n",
       "      <td>a great great great customer service thanks to...</td>\n",
       "      <td>NaN</td>\n",
       "      <td>NaT</td>\n",
       "      <td>1</td>\n",
       "      <td>en</td>\n",
       "    </tr>\n",
       "    <tr>\n",
       "      <th>4</th>\n",
       "      <td>Instant Search +</td>\n",
       "      <td>2020-07-28</td>\n",
       "      <td>i be begginig to use this app the search engin...</td>\n",
       "      <td>NaN</td>\n",
       "      <td>NaT</td>\n",
       "      <td>1</td>\n",
       "      <td>en</td>\n",
       "    </tr>\n",
       "  </tbody>\n",
       "</table>\n",
       "</div>"
      ],
      "text/plain": [
       "           app_name review_date  \\\n",
       "0  Instant Search +  2020-08-06   \n",
       "1  Instant Search +  2020-08-04   \n",
       "2  Instant Search +  2020-08-04   \n",
       "3  Instant Search +  2020-07-30   \n",
       "4  Instant Search +  2020-07-28   \n",
       "\n",
       "                                         review_text dev_reply_text  \\\n",
       "0  great and super fast customer service highly c...            NaN   \n",
       "1  still set up my store and after initially pay ...            NaN   \n",
       "2  this be an excellent search app which they hav...            NaN   \n",
       "3  a great great great customer service thanks to...            NaN   \n",
       "4  i be begginig to use this app the search engin...            NaN   \n",
       "\n",
       "  dev_reply_date  is_review_good lang_iso  \n",
       "0            NaT               1       en  \n",
       "1            NaT               1       en  \n",
       "2            NaT               1       en  \n",
       "3            NaT               1       en  \n",
       "4            NaT               1       en  "
      ]
     },
     "execution_count": 65,
     "metadata": {},
     "output_type": "execute_result"
    }
   ],
   "source": [
    "reviews_df_clean_3_en.head()"
   ]
  },
  {
   "cell_type": "code",
   "execution_count": 66,
   "id": "e5a49358",
   "metadata": {
    "ExecuteTime": {
     "end_time": "2022-05-22T20:45:33.312892Z",
     "start_time": "2022-05-22T20:45:33.298890Z"
    }
   },
   "outputs": [
    {
     "data": {
      "text/html": [
       "<div>\n",
       "<style scoped>\n",
       "    .dataframe tbody tr th:only-of-type {\n",
       "        vertical-align: middle;\n",
       "    }\n",
       "\n",
       "    .dataframe tbody tr th {\n",
       "        vertical-align: top;\n",
       "    }\n",
       "\n",
       "    .dataframe thead th {\n",
       "        text-align: right;\n",
       "    }\n",
       "</style>\n",
       "<table border=\"1\" class=\"dataframe\">\n",
       "  <thead>\n",
       "    <tr style=\"text-align: right;\">\n",
       "      <th></th>\n",
       "      <th>app_name</th>\n",
       "      <th>review_date</th>\n",
       "      <th>review_text</th>\n",
       "      <th>dev_reply_text</th>\n",
       "      <th>dev_reply_date</th>\n",
       "      <th>is_review_good</th>\n",
       "      <th>lang_iso</th>\n",
       "    </tr>\n",
       "  </thead>\n",
       "  <tbody>\n",
       "    <tr>\n",
       "      <th>446968</th>\n",
       "      <td>COD Order Confirmation</td>\n",
       "      <td>2018-03-22</td>\n",
       "      <td>very very well explain tutorial seem very easy...</td>\n",
       "      <td>NaN</td>\n",
       "      <td>NaT</td>\n",
       "      <td>1</td>\n",
       "      <td>en</td>\n",
       "    </tr>\n",
       "    <tr>\n",
       "      <th>446969</th>\n",
       "      <td>COD Order Confirmation</td>\n",
       "      <td>2018-01-23</td>\n",
       "      <td>finally we have an app for for cod confirmatio...</td>\n",
       "      <td>NaN</td>\n",
       "      <td>NaT</td>\n",
       "      <td>1</td>\n",
       "      <td>en</td>\n",
       "    </tr>\n",
       "    <tr>\n",
       "      <th>446970</th>\n",
       "      <td>COD Order Confirmation</td>\n",
       "      <td>2018-01-05</td>\n",
       "      <td>useful app help us to reduce cost time highly ...</td>\n",
       "      <td>NaN</td>\n",
       "      <td>NaT</td>\n",
       "      <td>1</td>\n",
       "      <td>en</td>\n",
       "    </tr>\n",
       "    <tr>\n",
       "      <th>446971</th>\n",
       "      <td>COD Order Confirmation</td>\n",
       "      <td>2017-06-15</td>\n",
       "      <td>do not purchase this application it be like sh...</td>\n",
       "      <td>NaN</td>\n",
       "      <td>NaT</td>\n",
       "      <td>0</td>\n",
       "      <td>en</td>\n",
       "    </tr>\n",
       "    <tr>\n",
       "      <th>446972</th>\n",
       "      <td>COD Order Confirmation</td>\n",
       "      <td>2016-01-06</td>\n",
       "      <td>​​a must​ have​ app for those have e stores wi...</td>\n",
       "      <td>NaN</td>\n",
       "      <td>NaT</td>\n",
       "      <td>1</td>\n",
       "      <td>en</td>\n",
       "    </tr>\n",
       "  </tbody>\n",
       "</table>\n",
       "</div>"
      ],
      "text/plain": [
       "                      app_name review_date  \\\n",
       "446968  COD Order Confirmation  2018-03-22   \n",
       "446969  COD Order Confirmation  2018-01-23   \n",
       "446970  COD Order Confirmation  2018-01-05   \n",
       "446971  COD Order Confirmation  2017-06-15   \n",
       "446972  COD Order Confirmation  2016-01-06   \n",
       "\n",
       "                                              review_text dev_reply_text  \\\n",
       "446968  very very well explain tutorial seem very easy...            NaN   \n",
       "446969  finally we have an app for for cod confirmatio...            NaN   \n",
       "446970  useful app help us to reduce cost time highly ...            NaN   \n",
       "446971  do not purchase this application it be like sh...            NaN   \n",
       "446972  ​​a must​ have​ app for those have e stores wi...            NaN   \n",
       "\n",
       "       dev_reply_date  is_review_good lang_iso  \n",
       "446968            NaT               1       en  \n",
       "446969            NaT               1       en  \n",
       "446970            NaT               1       en  \n",
       "446971            NaT               0       en  \n",
       "446972            NaT               1       en  "
      ]
     },
     "execution_count": 66,
     "metadata": {},
     "output_type": "execute_result"
    }
   ],
   "source": [
    "reviews_df_clean_3_en.tail()"
   ]
  },
  {
   "cell_type": "code",
   "execution_count": 67,
   "id": "0b3e2bd4",
   "metadata": {
    "ExecuteTime": {
     "end_time": "2022-05-22T20:45:33.421372Z",
     "start_time": "2022-05-22T20:45:33.314888Z"
    }
   },
   "outputs": [
    {
     "name": "stdout",
     "output_type": "stream",
     "text": [
      "<class 'pandas.core.frame.DataFrame'>\n",
      "Int64Index: 446973 entries, 0 to 446972\n",
      "Data columns (total 9 columns):\n",
      " #   Column          Non-Null Count   Dtype         \n",
      "---  ------          --------------   -----         \n",
      " 0   app_name        446973 non-null  object        \n",
      " 1   author          446973 non-null  object        \n",
      " 2   rating          446973 non-null  int64         \n",
      " 3   review_date     446973 non-null  datetime64[ns]\n",
      " 4   review_text     446973 non-null  object        \n",
      " 5   helpful_count   446973 non-null  int64         \n",
      " 6   dev_reply_text  47542 non-null   object        \n",
      " 7   dev_reply_date  47542 non-null   datetime64[ns]\n",
      " 8   is_review_good  446973 non-null  int32         \n",
      "dtypes: datetime64[ns](2), int32(1), int64(2), object(4)\n",
      "memory usage: 32.4+ MB\n"
     ]
    }
   ],
   "source": [
    "reviews_df.info()"
   ]
  },
  {
   "cell_type": "markdown",
   "id": "20fe028b",
   "metadata": {},
   "source": [
    "### Separate and Define X and y Variables from the Dataframe"
   ]
  },
  {
   "cell_type": "markdown",
   "id": "7d9f8b61",
   "metadata": {},
   "source": [
    "The `X` variable will be the `review_text` and the `y` variable will be the `is_review_good` binary variable."
   ]
  },
  {
   "cell_type": "code",
   "execution_count": 68,
   "id": "5f5d762b",
   "metadata": {
    "ExecuteTime": {
     "end_time": "2022-05-22T20:45:33.437371Z",
     "start_time": "2022-05-22T20:45:33.423371Z"
    }
   },
   "outputs": [],
   "source": [
    "X = reviews_df_clean_3_en['review_text']"
   ]
  },
  {
   "cell_type": "code",
   "execution_count": 69,
   "id": "c2e796b3",
   "metadata": {
    "ExecuteTime": {
     "end_time": "2022-05-22T20:45:33.452961Z",
     "start_time": "2022-05-22T20:45:33.439372Z"
    }
   },
   "outputs": [
    {
     "data": {
      "text/plain": [
       "(427298,)"
      ]
     },
     "execution_count": 69,
     "metadata": {},
     "output_type": "execute_result"
    }
   ],
   "source": [
    "# Check the shape\n",
    "X.shape"
   ]
  },
  {
   "cell_type": "code",
   "execution_count": 70,
   "id": "a7b0c21d",
   "metadata": {
    "ExecuteTime": {
     "end_time": "2022-05-22T20:45:33.467975Z",
     "start_time": "2022-05-22T20:45:33.454962Z"
    }
   },
   "outputs": [],
   "source": [
    "y = reviews_df_clean_3_en['is_review_good']"
   ]
  },
  {
   "cell_type": "code",
   "execution_count": 71,
   "id": "0bcbfde9",
   "metadata": {
    "ExecuteTime": {
     "end_time": "2022-05-22T20:45:33.483364Z",
     "start_time": "2022-05-22T20:45:33.469964Z"
    },
    "scrolled": true
   },
   "outputs": [
    {
     "data": {
      "text/plain": [
       "(427298,)"
      ]
     },
     "execution_count": 71,
     "metadata": {},
     "output_type": "execute_result"
    }
   ],
   "source": [
    "# Check the shape\n",
    "y.shape"
   ]
  },
  {
   "cell_type": "markdown",
   "id": "86f97572",
   "metadata": {},
   "source": [
    "### Train-Test Split"
   ]
  },
  {
   "cell_type": "markdown",
   "id": "d2ade034",
   "metadata": {
    "ExecuteTime": {
     "end_time": "2022-03-29T14:25:36.579509Z",
     "start_time": "2022-03-29T14:25:36.565512Z"
    }
   },
   "source": [
    "Create the train-test split data."
   ]
  },
  {
   "cell_type": "code",
   "execution_count": 72,
   "id": "68c4d0a5",
   "metadata": {
    "ExecuteTime": {
     "end_time": "2022-05-22T20:45:33.704826Z",
     "start_time": "2022-05-22T20:45:33.485363Z"
    },
    "scrolled": false
   },
   "outputs": [
    {
     "name": "stdout",
     "output_type": "stream",
     "text": [
      "\n",
      " Before Train and Test Split \n",
      "=======================================================\n",
      "\n",
      "Shape of X = (427298,); Shape of y = (427298,)\n",
      "\n",
      "\n",
      " After Train and Test Split \n",
      "=======================================================\n",
      "\n",
      "Train/Valiation Dataset \n",
      "\n",
      "Shape of X_remainder = (384568,); Shape of y_remainder = (384568,)\n",
      "\n",
      "\n",
      "Test Dataset \n",
      "\n",
      "Shape of X_test = (42730,); Shape of y_test = (42730,)\n"
     ]
    }
   ],
   "source": [
    "#Train-test split for round 3 of text normalized pre-processed data\n",
    "X_remainder, X_test, y_remainder, y_test = train_test_split_print(X, \n",
    "                                                                  y, \n",
    "                                                                  size = 0.1, \n",
    "                                                                  random_state = 1)"
   ]
  },
  {
   "cell_type": "markdown",
   "id": "70e27c9f",
   "metadata": {},
   "source": [
    "### Logistic Regression Model 3"
   ]
  },
  {
   "cell_type": "markdown",
   "id": "57817681",
   "metadata": {},
   "source": [
    "I will create another logit model with the text normalized English-language reviews dataframe from round 3 of text pre-processing."
   ]
  },
  {
   "cell_type": "code",
   "execution_count": 73,
   "id": "dc8b58b6",
   "metadata": {
    "ExecuteTime": {
     "end_time": "2022-05-22T20:45:33.720805Z",
     "start_time": "2022-05-22T20:45:33.706805Z"
    }
   },
   "outputs": [],
   "source": [
    "# Define a pipeline that implements the steps for the transforms and final estimator\n",
    "\n",
    "# Instantiate transformer and estimator or steps for the pipeline\n",
    "estimators = [(\"cv\", CountVectorizer()),\n",
    "              (\"logit_model\", LogisticRegression(max_iter=200,\n",
    "                              solver='liblinear',\n",
    "                              penalty='l1',\n",
    "                              random_state=1))]\n",
    "\n",
    "# Instantiate pipeline\n",
    "logit_v3_pipe = Pipeline(estimators, verbose = True)"
   ]
  },
  {
   "cell_type": "markdown",
   "id": "52c168cd",
   "metadata": {},
   "source": [
    "Fit the pipeline to the train dataset."
   ]
  },
  {
   "cell_type": "code",
   "execution_count": 74,
   "id": "21c73db2",
   "metadata": {
    "ExecuteTime": {
     "end_time": "2022-05-22T20:45:33.736837Z",
     "start_time": "2022-05-22T20:45:33.722805Z"
    },
    "scrolled": true
   },
   "outputs": [],
   "source": [
    "# # Fit pipeline\n",
    "# logit_v3_pipe.fit(X_remainder, y_remainder)"
   ]
  },
  {
   "cell_type": "markdown",
   "id": "29c564af",
   "metadata": {},
   "source": [
    "Save the fitted model to a pickle file."
   ]
  },
  {
   "cell_type": "code",
   "execution_count": 75,
   "id": "e9355e87",
   "metadata": {
    "ExecuteTime": {
     "end_time": "2022-05-22T20:45:33.752824Z",
     "start_time": "2022-05-22T20:45:33.737874Z"
    }
   },
   "outputs": [],
   "source": [
    "# # Save the model to a pickle file\n",
    "# # https://stackoverflow.com/questions/10592605/save-classifier-to-disk-in-scikit-learn\n",
    "# with open('logit_v3_pipe.pkl', 'wb') as f:\n",
    "#     pickle.dump(logit_v3_pipe, f)"
   ]
  },
  {
   "cell_type": "markdown",
   "id": "091dfb34",
   "metadata": {},
   "source": [
    "Load the fitted model from a pickle file."
   ]
  },
  {
   "cell_type": "code",
   "execution_count": 76,
   "id": "c8ca453a",
   "metadata": {
    "ExecuteTime": {
     "end_time": "2022-05-22T20:45:33.784821Z",
     "start_time": "2022-05-22T20:45:33.753823Z"
    }
   },
   "outputs": [],
   "source": [
    "# Load pickled model file\n",
    "with open('logit_v3_pipe.pkl', 'rb') as f:\n",
    "    logit_v3_pipe = pickle.load(f)"
   ]
  },
  {
   "cell_type": "markdown",
   "id": "a13b44b5",
   "metadata": {},
   "source": [
    "Click on elements below for details of each step in the pipeline diagram."
   ]
  },
  {
   "cell_type": "code",
   "execution_count": 77,
   "id": "0cf26b1c",
   "metadata": {
    "ExecuteTime": {
     "end_time": "2022-05-22T20:45:33.816340Z",
     "start_time": "2022-05-22T20:45:33.786831Z"
    }
   },
   "outputs": [
    {
     "data": {
      "text/html": [
       "<style>#sk-27c5928b-f863-416b-a94e-702becfb7aaa {color: black;background-color: white;}#sk-27c5928b-f863-416b-a94e-702becfb7aaa pre{padding: 0;}#sk-27c5928b-f863-416b-a94e-702becfb7aaa div.sk-toggleable {background-color: white;}#sk-27c5928b-f863-416b-a94e-702becfb7aaa label.sk-toggleable__label {cursor: pointer;display: block;width: 100%;margin-bottom: 0;padding: 0.2em 0.3em;box-sizing: border-box;text-align: center;}#sk-27c5928b-f863-416b-a94e-702becfb7aaa div.sk-toggleable__content {max-height: 0;max-width: 0;overflow: hidden;text-align: left;background-color: #f0f8ff;}#sk-27c5928b-f863-416b-a94e-702becfb7aaa div.sk-toggleable__content pre {margin: 0.2em;color: black;border-radius: 0.25em;background-color: #f0f8ff;}#sk-27c5928b-f863-416b-a94e-702becfb7aaa input.sk-toggleable__control:checked~div.sk-toggleable__content {max-height: 200px;max-width: 100%;overflow: auto;}#sk-27c5928b-f863-416b-a94e-702becfb7aaa div.sk-estimator input.sk-toggleable__control:checked~label.sk-toggleable__label {background-color: #d4ebff;}#sk-27c5928b-f863-416b-a94e-702becfb7aaa div.sk-label input.sk-toggleable__control:checked~label.sk-toggleable__label {background-color: #d4ebff;}#sk-27c5928b-f863-416b-a94e-702becfb7aaa input.sk-hidden--visually {border: 0;clip: rect(1px 1px 1px 1px);clip: rect(1px, 1px, 1px, 1px);height: 1px;margin: -1px;overflow: hidden;padding: 0;position: absolute;width: 1px;}#sk-27c5928b-f863-416b-a94e-702becfb7aaa div.sk-estimator {font-family: monospace;background-color: #f0f8ff;margin: 0.25em 0.25em;border: 1px dotted black;border-radius: 0.25em;box-sizing: border-box;}#sk-27c5928b-f863-416b-a94e-702becfb7aaa div.sk-estimator:hover {background-color: #d4ebff;}#sk-27c5928b-f863-416b-a94e-702becfb7aaa div.sk-parallel-item::after {content: \"\";width: 100%;border-bottom: 1px solid gray;flex-grow: 1;}#sk-27c5928b-f863-416b-a94e-702becfb7aaa div.sk-label:hover label.sk-toggleable__label {background-color: #d4ebff;}#sk-27c5928b-f863-416b-a94e-702becfb7aaa div.sk-serial::before {content: \"\";position: absolute;border-left: 1px solid gray;box-sizing: border-box;top: 2em;bottom: 0;left: 50%;}#sk-27c5928b-f863-416b-a94e-702becfb7aaa div.sk-serial {display: flex;flex-direction: column;align-items: center;background-color: white;}#sk-27c5928b-f863-416b-a94e-702becfb7aaa div.sk-item {z-index: 1;}#sk-27c5928b-f863-416b-a94e-702becfb7aaa div.sk-parallel {display: flex;align-items: stretch;justify-content: center;background-color: white;}#sk-27c5928b-f863-416b-a94e-702becfb7aaa div.sk-parallel-item {display: flex;flex-direction: column;position: relative;background-color: white;}#sk-27c5928b-f863-416b-a94e-702becfb7aaa div.sk-parallel-item:first-child::after {align-self: flex-end;width: 50%;}#sk-27c5928b-f863-416b-a94e-702becfb7aaa div.sk-parallel-item:last-child::after {align-self: flex-start;width: 50%;}#sk-27c5928b-f863-416b-a94e-702becfb7aaa div.sk-parallel-item:only-child::after {width: 0;}#sk-27c5928b-f863-416b-a94e-702becfb7aaa div.sk-dashed-wrapped {border: 1px dashed gray;margin: 0.2em;box-sizing: border-box;padding-bottom: 0.1em;background-color: white;position: relative;}#sk-27c5928b-f863-416b-a94e-702becfb7aaa div.sk-label label {font-family: monospace;font-weight: bold;background-color: white;display: inline-block;line-height: 1.2em;}#sk-27c5928b-f863-416b-a94e-702becfb7aaa div.sk-label-container {position: relative;z-index: 2;text-align: center;}#sk-27c5928b-f863-416b-a94e-702becfb7aaa div.sk-container {display: inline-block;position: relative;}</style><div id=\"sk-27c5928b-f863-416b-a94e-702becfb7aaa\" class\"sk-top-container\"><div class=\"sk-container\"><div class=\"sk-item sk-dashed-wrapped\"><div class=\"sk-label-container\"><div class=\"sk-label sk-toggleable\"><input class=\"sk-toggleable__control sk-hidden--visually\" id=\"f0404887-f19c-4e65-aa22-04db4ed20b39\" type=\"checkbox\" ><label class=\"sk-toggleable__label\" for=\"f0404887-f19c-4e65-aa22-04db4ed20b39\">Pipeline</label><div class=\"sk-toggleable__content\"><pre>Pipeline(steps=[('cv', CountVectorizer()),\n",
       "                ('logit_model',\n",
       "                 LogisticRegression(max_iter=200, penalty='l1', random_state=1,\n",
       "                                    solver='liblinear'))],\n",
       "         verbose=True)</pre></div></div></div><div class=\"sk-serial\"><div class=\"sk-item\"><div class=\"sk-estimator sk-toggleable\"><input class=\"sk-toggleable__control sk-hidden--visually\" id=\"4df92a4b-afbc-48cd-8790-a520a1183b29\" type=\"checkbox\" ><label class=\"sk-toggleable__label\" for=\"4df92a4b-afbc-48cd-8790-a520a1183b29\">CountVectorizer</label><div class=\"sk-toggleable__content\"><pre>CountVectorizer()</pre></div></div></div><div class=\"sk-item\"><div class=\"sk-estimator sk-toggleable\"><input class=\"sk-toggleable__control sk-hidden--visually\" id=\"1eaad586-4c24-4836-934c-f581146fee8b\" type=\"checkbox\" ><label class=\"sk-toggleable__label\" for=\"1eaad586-4c24-4836-934c-f581146fee8b\">LogisticRegression</label><div class=\"sk-toggleable__content\"><pre>LogisticRegression(max_iter=200, penalty='l1', random_state=1,\n",
       "                   solver='liblinear')</pre></div></div></div></div></div></div></div>"
      ],
      "text/plain": [
       "Pipeline(steps=[('cv', CountVectorizer()),\n",
       "                ('logit_model',\n",
       "                 LogisticRegression(max_iter=200, penalty='l1', random_state=1,\n",
       "                                    solver='liblinear'))],\n",
       "         verbose=True)"
      ]
     },
     "execution_count": 77,
     "metadata": {},
     "output_type": "execute_result"
    }
   ],
   "source": [
    "# Display pipeline diagram\n",
    "logit_v3_pipe"
   ]
  },
  {
   "cell_type": "markdown",
   "id": "c017ee98",
   "metadata": {
    "ExecuteTime": {
     "end_time": "2022-04-02T20:05:42.789011Z",
     "start_time": "2022-04-02T20:05:42.776010Z"
    }
   },
   "source": [
    "Score the model on both train and test datasets and output the accuracy of the model."
   ]
  },
  {
   "cell_type": "code",
   "execution_count": 78,
   "id": "fd8998a3",
   "metadata": {
    "ExecuteTime": {
     "end_time": "2022-05-22T20:45:43.859930Z",
     "start_time": "2022-05-22T20:45:33.818340Z"
    }
   },
   "outputs": [
    {
     "name": "stdout",
     "output_type": "stream",
     "text": [
      "Train score: 97.1%\n",
      "Test score: 96.6%\n"
     ]
    }
   ],
   "source": [
    "# Train and test score from logit\n",
    "accuracy = []\n",
    "\n",
    "accuracy.append(f\"{logit_v3_pipe.score(X_remainder, y_remainder) * 100:0.1f}%\")\n",
    "accuracy.append(f\"{logit_v3_pipe.score(X_test, y_test) * 100:0.1f}%\")\n",
    "\n",
    "print(f\"Train score: {accuracy[0]}\")\n",
    "print(f\"Test score: {accuracy[1]}\")"
   ]
  },
  {
   "cell_type": "code",
   "execution_count": 79,
   "id": "344e8ee3",
   "metadata": {
    "ExecuteTime": {
     "end_time": "2022-05-22T20:45:56.038741Z",
     "start_time": "2022-05-22T20:45:43.861661Z"
    },
    "scrolled": false
   },
   "outputs": [
    {
     "name": "stdout",
     "output_type": "stream",
     "text": [
      "Confusion matrix for Train Data: \n",
      "=======================================================\n",
      "\n"
     ]
    },
    {
     "data": {
      "text/html": [
       "<div>\n",
       "<style scoped>\n",
       "    .dataframe tbody tr th:only-of-type {\n",
       "        vertical-align: middle;\n",
       "    }\n",
       "\n",
       "    .dataframe tbody tr th {\n",
       "        vertical-align: top;\n",
       "    }\n",
       "\n",
       "    .dataframe thead th {\n",
       "        text-align: right;\n",
       "    }\n",
       "</style>\n",
       "<table border=\"1\" class=\"dataframe\">\n",
       "  <thead>\n",
       "    <tr style=\"text-align: right;\">\n",
       "      <th></th>\n",
       "      <th>Predicted 0 [Negative Review]</th>\n",
       "      <th>Predicted 1 [Positive Review]</th>\n",
       "    </tr>\n",
       "  </thead>\n",
       "  <tbody>\n",
       "    <tr>\n",
       "      <th>True 0 [Negative Review]</th>\n",
       "      <td>18181</td>\n",
       "      <td>8667</td>\n",
       "    </tr>\n",
       "    <tr>\n",
       "      <th>True 1 [Positive Review]</th>\n",
       "      <td>2357</td>\n",
       "      <td>355363</td>\n",
       "    </tr>\n",
       "  </tbody>\n",
       "</table>\n",
       "</div>"
      ],
      "text/plain": [
       "                          Predicted 0 [Negative Review]  \\\n",
       "True 0 [Negative Review]                          18181   \n",
       "True 1 [Positive Review]                           2357   \n",
       "\n",
       "                          Predicted 1 [Positive Review]  \n",
       "True 0 [Negative Review]                           8667  \n",
       "True 1 [Positive Review]                         355363  "
      ]
     },
     "metadata": {},
     "output_type": "display_data"
    },
    {
     "name": "stdout",
     "output_type": "stream",
     "text": [
      "Classification Report for Train Data: \n",
      "=======================================================\n",
      "\n",
      "                    precision    recall  f1-score   support\n",
      "\n",
      "Negative (Class 0)       0.89      0.68      0.77     26848\n",
      "Positive (Class 1)       0.98      0.99      0.98    357720\n",
      "\n",
      "          accuracy                           0.97    384568\n",
      "         macro avg       0.93      0.84      0.88    384568\n",
      "      weighted avg       0.97      0.97      0.97    384568\n",
      "\n",
      "Confusion matrix for Test Data: \n",
      "=======================================================\n",
      "\n"
     ]
    },
    {
     "data": {
      "text/html": [
       "<div>\n",
       "<style scoped>\n",
       "    .dataframe tbody tr th:only-of-type {\n",
       "        vertical-align: middle;\n",
       "    }\n",
       "\n",
       "    .dataframe tbody tr th {\n",
       "        vertical-align: top;\n",
       "    }\n",
       "\n",
       "    .dataframe thead th {\n",
       "        text-align: right;\n",
       "    }\n",
       "</style>\n",
       "<table border=\"1\" class=\"dataframe\">\n",
       "  <thead>\n",
       "    <tr style=\"text-align: right;\">\n",
       "      <th></th>\n",
       "      <th>Predicted 0 [Negative Review]</th>\n",
       "      <th>Predicted 1 [Positive Review]</th>\n",
       "    </tr>\n",
       "  </thead>\n",
       "  <tbody>\n",
       "    <tr>\n",
       "      <th>True 0 [Negative Review]</th>\n",
       "      <td>1887</td>\n",
       "      <td>1096</td>\n",
       "    </tr>\n",
       "    <tr>\n",
       "      <th>True 1 [Positive Review]</th>\n",
       "      <td>356</td>\n",
       "      <td>39391</td>\n",
       "    </tr>\n",
       "  </tbody>\n",
       "</table>\n",
       "</div>"
      ],
      "text/plain": [
       "                          Predicted 0 [Negative Review]  \\\n",
       "True 0 [Negative Review]                           1887   \n",
       "True 1 [Positive Review]                            356   \n",
       "\n",
       "                          Predicted 1 [Positive Review]  \n",
       "True 0 [Negative Review]                           1096  \n",
       "True 1 [Positive Review]                          39391  "
      ]
     },
     "metadata": {},
     "output_type": "display_data"
    },
    {
     "name": "stdout",
     "output_type": "stream",
     "text": [
      "Classification Report for Test Data: \n",
      "=======================================================\n",
      "\n",
      "                    precision    recall  f1-score   support\n",
      "\n",
      "Negative (Class 0)       0.84      0.63      0.72      2983\n",
      "Positive (Class 1)       0.97      0.99      0.98     39747\n",
      "\n",
      "          accuracy                           0.97     42730\n",
      "         macro avg       0.91      0.81      0.85     42730\n",
      "      weighted avg       0.96      0.97      0.96     42730\n",
      "\n"
     ]
    }
   ],
   "source": [
    "# Use the function defined earlier for model performance metrics\n",
    "precision, recall, f1_score = model_performance_metrics(logit_v3_pipe, \n",
    "                                                        X_remainder, \n",
    "                                                        y_remainder, \n",
    "                                                        X_test, \n",
    "                                                        y_test)"
   ]
  },
  {
   "cell_type": "code",
   "execution_count": 80,
   "id": "cbdfa14c",
   "metadata": {
    "ExecuteTime": {
     "end_time": "2022-05-22T20:45:56.053919Z",
     "start_time": "2022-05-22T20:45:56.040742Z"
    },
    "scrolled": true
   },
   "outputs": [],
   "source": [
    "# Compile the model performance metrics into a dataframe\n",
    "model_compilation = model_compilation.append(pd.DataFrame({\n",
    "                                                            'Model': 'logit_v3',\n",
    "                                                            'Dataset': ['Train_Remainder', \n",
    "                                                                        'Train_Remainder',\n",
    "                                                                        'Test', \n",
    "                                                                        'Test'],\n",
    "                                                            'Target':['Negative (Class 0)', \n",
    "                                                                      'Positive (Class 1)',\n",
    "                                                                      'Negative (Class 0)', \n",
    "                                                                      'Positive (Class 1)'],\n",
    "                                                            'Accuracy': [' ', accuracy[0], ' ', accuracy[1]],\n",
    "                                                            'Precision': precision,\n",
    "                                                            'Recall': recall,\n",
    "                                                            'F1-Score': f1_score\n",
    "                                                        },\n",
    "                                                        index= range(12,16)))"
   ]
  },
  {
   "cell_type": "code",
   "execution_count": 81,
   "id": "056a62f9",
   "metadata": {
    "ExecuteTime": {
     "end_time": "2022-05-22T20:45:56.069917Z",
     "start_time": "2022-05-22T20:45:56.055917Z"
    }
   },
   "outputs": [
    {
     "data": {
      "text/html": [
       "<div>\n",
       "<style scoped>\n",
       "    .dataframe tbody tr th:only-of-type {\n",
       "        vertical-align: middle;\n",
       "    }\n",
       "\n",
       "    .dataframe tbody tr th {\n",
       "        vertical-align: top;\n",
       "    }\n",
       "\n",
       "    .dataframe thead th {\n",
       "        text-align: right;\n",
       "    }\n",
       "</style>\n",
       "<table border=\"1\" class=\"dataframe\">\n",
       "  <thead>\n",
       "    <tr style=\"text-align: right;\">\n",
       "      <th></th>\n",
       "      <th>Model</th>\n",
       "      <th>Dataset</th>\n",
       "      <th>Target</th>\n",
       "      <th>Accuracy</th>\n",
       "      <th>Precision</th>\n",
       "      <th>Recall</th>\n",
       "      <th>F1-Score</th>\n",
       "    </tr>\n",
       "  </thead>\n",
       "  <tbody>\n",
       "    <tr>\n",
       "      <th>0</th>\n",
       "      <td>logit_v0</td>\n",
       "      <td>Train_Remainder</td>\n",
       "      <td>Negative (Class 0)</td>\n",
       "      <td></td>\n",
       "      <td>89.4%</td>\n",
       "      <td>67.9%</td>\n",
       "      <td>77.2%</td>\n",
       "    </tr>\n",
       "    <tr>\n",
       "      <th>1</th>\n",
       "      <td>logit_v0</td>\n",
       "      <td>Train_Remainder</td>\n",
       "      <td>Positive (Class 1)</td>\n",
       "      <td>97.2%</td>\n",
       "      <td>97.6%</td>\n",
       "      <td>99.4%</td>\n",
       "      <td>98.5%</td>\n",
       "    </tr>\n",
       "    <tr>\n",
       "      <th>2</th>\n",
       "      <td>logit_v0</td>\n",
       "      <td>Test</td>\n",
       "      <td>Negative (Class 0)</td>\n",
       "      <td></td>\n",
       "      <td>84.4%</td>\n",
       "      <td>63.9%</td>\n",
       "      <td>72.7%</td>\n",
       "    </tr>\n",
       "    <tr>\n",
       "      <th>3</th>\n",
       "      <td>logit_v0</td>\n",
       "      <td>Test</td>\n",
       "      <td>Positive (Class 1)</td>\n",
       "      <td>96.7%</td>\n",
       "      <td>97.3%</td>\n",
       "      <td>99.1%</td>\n",
       "      <td>98.2%</td>\n",
       "    </tr>\n",
       "    <tr>\n",
       "      <th>4</th>\n",
       "      <td>logit_v1</td>\n",
       "      <td>Train_Remainder</td>\n",
       "      <td>Negative (Class 0)</td>\n",
       "      <td></td>\n",
       "      <td>89.2%</td>\n",
       "      <td>69.3%</td>\n",
       "      <td>78.0%</td>\n",
       "    </tr>\n",
       "    <tr>\n",
       "      <th>5</th>\n",
       "      <td>logit_v1</td>\n",
       "      <td>Train_Remainder</td>\n",
       "      <td>Positive (Class 1)</td>\n",
       "      <td>97.3%</td>\n",
       "      <td>97.7%</td>\n",
       "      <td>99.4%</td>\n",
       "      <td>98.5%</td>\n",
       "    </tr>\n",
       "    <tr>\n",
       "      <th>6</th>\n",
       "      <td>logit_v1</td>\n",
       "      <td>Test</td>\n",
       "      <td>Negative (Class 0)</td>\n",
       "      <td></td>\n",
       "      <td>85.0%</td>\n",
       "      <td>64.6%</td>\n",
       "      <td>73.4%</td>\n",
       "    </tr>\n",
       "    <tr>\n",
       "      <th>7</th>\n",
       "      <td>logit_v1</td>\n",
       "      <td>Test</td>\n",
       "      <td>Positive (Class 1)</td>\n",
       "      <td>96.7%</td>\n",
       "      <td>97.4%</td>\n",
       "      <td>99.1%</td>\n",
       "      <td>98.3%</td>\n",
       "    </tr>\n",
       "    <tr>\n",
       "      <th>8</th>\n",
       "      <td>logit_v2</td>\n",
       "      <td>Train_Remainder</td>\n",
       "      <td>Negative (Class 0)</td>\n",
       "      <td></td>\n",
       "      <td>89.0%</td>\n",
       "      <td>69.0%</td>\n",
       "      <td>77.8%</td>\n",
       "    </tr>\n",
       "    <tr>\n",
       "      <th>9</th>\n",
       "      <td>logit_v2</td>\n",
       "      <td>Train_Remainder</td>\n",
       "      <td>Positive (Class 1)</td>\n",
       "      <td>97.2%</td>\n",
       "      <td>97.7%</td>\n",
       "      <td>99.4%</td>\n",
       "      <td>98.5%</td>\n",
       "    </tr>\n",
       "    <tr>\n",
       "      <th>10</th>\n",
       "      <td>logit_v2</td>\n",
       "      <td>Test</td>\n",
       "      <td>Negative (Class 0)</td>\n",
       "      <td></td>\n",
       "      <td>84.2%</td>\n",
       "      <td>63.3%</td>\n",
       "      <td>72.3%</td>\n",
       "    </tr>\n",
       "    <tr>\n",
       "      <th>11</th>\n",
       "      <td>logit_v2</td>\n",
       "      <td>Test</td>\n",
       "      <td>Positive (Class 1)</td>\n",
       "      <td>96.6%</td>\n",
       "      <td>97.3%</td>\n",
       "      <td>99.1%</td>\n",
       "      <td>98.2%</td>\n",
       "    </tr>\n",
       "    <tr>\n",
       "      <th>12</th>\n",
       "      <td>logit_v3</td>\n",
       "      <td>Train_Remainder</td>\n",
       "      <td>Negative (Class 0)</td>\n",
       "      <td></td>\n",
       "      <td>88.5%</td>\n",
       "      <td>67.7%</td>\n",
       "      <td>76.7%</td>\n",
       "    </tr>\n",
       "    <tr>\n",
       "      <th>13</th>\n",
       "      <td>logit_v3</td>\n",
       "      <td>Train_Remainder</td>\n",
       "      <td>Positive (Class 1)</td>\n",
       "      <td>97.1%</td>\n",
       "      <td>97.6%</td>\n",
       "      <td>99.3%</td>\n",
       "      <td>98.5%</td>\n",
       "    </tr>\n",
       "    <tr>\n",
       "      <th>14</th>\n",
       "      <td>logit_v3</td>\n",
       "      <td>Test</td>\n",
       "      <td>Negative (Class 0)</td>\n",
       "      <td></td>\n",
       "      <td>84.1%</td>\n",
       "      <td>63.3%</td>\n",
       "      <td>72.2%</td>\n",
       "    </tr>\n",
       "    <tr>\n",
       "      <th>15</th>\n",
       "      <td>logit_v3</td>\n",
       "      <td>Test</td>\n",
       "      <td>Positive (Class 1)</td>\n",
       "      <td>96.6%</td>\n",
       "      <td>97.3%</td>\n",
       "      <td>99.1%</td>\n",
       "      <td>98.2%</td>\n",
       "    </tr>\n",
       "  </tbody>\n",
       "</table>\n",
       "</div>"
      ],
      "text/plain": [
       "       Model          Dataset              Target Accuracy Precision Recall  \\\n",
       "0   logit_v0  Train_Remainder  Negative (Class 0)              89.4%  67.9%   \n",
       "1   logit_v0  Train_Remainder  Positive (Class 1)    97.2%     97.6%  99.4%   \n",
       "2   logit_v0             Test  Negative (Class 0)              84.4%  63.9%   \n",
       "3   logit_v0             Test  Positive (Class 1)    96.7%     97.3%  99.1%   \n",
       "4   logit_v1  Train_Remainder  Negative (Class 0)              89.2%  69.3%   \n",
       "5   logit_v1  Train_Remainder  Positive (Class 1)    97.3%     97.7%  99.4%   \n",
       "6   logit_v1             Test  Negative (Class 0)              85.0%  64.6%   \n",
       "7   logit_v1             Test  Positive (Class 1)    96.7%     97.4%  99.1%   \n",
       "8   logit_v2  Train_Remainder  Negative (Class 0)              89.0%  69.0%   \n",
       "9   logit_v2  Train_Remainder  Positive (Class 1)    97.2%     97.7%  99.4%   \n",
       "10  logit_v2             Test  Negative (Class 0)              84.2%  63.3%   \n",
       "11  logit_v2             Test  Positive (Class 1)    96.6%     97.3%  99.1%   \n",
       "12  logit_v3  Train_Remainder  Negative (Class 0)              88.5%  67.7%   \n",
       "13  logit_v3  Train_Remainder  Positive (Class 1)    97.1%     97.6%  99.3%   \n",
       "14  logit_v3             Test  Negative (Class 0)              84.1%  63.3%   \n",
       "15  logit_v3             Test  Positive (Class 1)    96.6%     97.3%  99.1%   \n",
       "\n",
       "   F1-Score  \n",
       "0     77.2%  \n",
       "1     98.5%  \n",
       "2     72.7%  \n",
       "3     98.2%  \n",
       "4     78.0%  \n",
       "5     98.5%  \n",
       "6     73.4%  \n",
       "7     98.3%  \n",
       "8     77.8%  \n",
       "9     98.5%  \n",
       "10    72.3%  \n",
       "11    98.2%  \n",
       "12    76.7%  \n",
       "13    98.5%  \n",
       "14    72.2%  \n",
       "15    98.2%  "
      ]
     },
     "execution_count": 81,
     "metadata": {},
     "output_type": "execute_result"
    }
   ],
   "source": [
    "# Print the model compiled results\n",
    "model_compilation"
   ]
  },
  {
   "cell_type": "markdown",
   "id": "a26d51fa",
   "metadata": {},
   "source": [
    "In comparing the train data's precision and recall between `logit_v2` and `logit_v3`, we can see decreases in precision (89.0% to 88.5%) and recall (69.0% to 67.7%) for `Negative` reviews. However, we can see a small decrease in the test data's precision (84.2% to 84.1%) and no change to recall (63.3%).\n",
    "\n",
    "If we recall, the vectorized data from the 3nd round of pre-processing resulted in a decrease of vocabulary size from 81,035 (Round 2) to 77,362 (Round 3). This decrease in vocabulary size was due to the lemmatization of only 1 specific word class (i.e., verbs). This minimal impact reveals the benefit to implementing dimensionality reduction through text normalization of only verbs for this dataset.\n",
    "\n",
    "Future work can explore iteratively testing through the lemmatization process of each word class or combination of word classes and its' impact on the logistic regression model performance metrics. This would help ensure the dimensionality reduction in the text data does not incur additional performance losses to the model."
   ]
  },
  {
   "cell_type": "markdown",
   "id": "49fb476f",
   "metadata": {},
   "source": [
    "Due to time constraints, the optimizing of model hyperparameters were focused on using the text normalized data from Round 3 of text pre-processing."
   ]
  },
  {
   "cell_type": "markdown",
   "id": "ea91da94",
   "metadata": {},
   "source": [
    "# Optimal Model Hyperparameters"
   ]
  },
  {
   "cell_type": "markdown",
   "id": "771fcd5c",
   "metadata": {},
   "source": [
    "I will now optimize the model hyperparameters using the `reviews_df_clean_3a_en_verb_only_lemmatized_part_2` dataframe that contains round 3 of text pre-processing and English-only reviews."
   ]
  },
  {
   "cell_type": "markdown",
   "id": "88329161",
   "metadata": {},
   "source": [
    "### Separate and Define X and y Variables from the Dataframe"
   ]
  },
  {
   "cell_type": "markdown",
   "id": "40466876",
   "metadata": {},
   "source": [
    "The `X` variable will be the `review_text` and the `y` variable will be the `is_review_good` binary variable."
   ]
  },
  {
   "cell_type": "code",
   "execution_count": 82,
   "id": "a1e7c58a",
   "metadata": {
    "ExecuteTime": {
     "end_time": "2022-05-22T20:45:56.085916Z",
     "start_time": "2022-05-22T20:45:56.080917Z"
    }
   },
   "outputs": [],
   "source": [
    "X = reviews_df_clean_3_en['review_text']"
   ]
  },
  {
   "cell_type": "code",
   "execution_count": 83,
   "id": "ade7084a",
   "metadata": {
    "ExecuteTime": {
     "end_time": "2022-05-22T20:45:56.101440Z",
     "start_time": "2022-05-22T20:45:56.087918Z"
    }
   },
   "outputs": [
    {
     "data": {
      "text/plain": [
       "(427298,)"
      ]
     },
     "execution_count": 83,
     "metadata": {},
     "output_type": "execute_result"
    }
   ],
   "source": [
    "# Check the shape\n",
    "X.shape"
   ]
  },
  {
   "cell_type": "code",
   "execution_count": 84,
   "id": "63a250d1",
   "metadata": {
    "ExecuteTime": {
     "end_time": "2022-05-22T20:45:56.117439Z",
     "start_time": "2022-05-22T20:45:56.103441Z"
    }
   },
   "outputs": [],
   "source": [
    "y = reviews_df_clean_3_en['is_review_good']"
   ]
  },
  {
   "cell_type": "code",
   "execution_count": 85,
   "id": "b7e67f13",
   "metadata": {
    "ExecuteTime": {
     "end_time": "2022-05-22T20:45:56.133439Z",
     "start_time": "2022-05-22T20:45:56.119440Z"
    },
    "scrolled": true
   },
   "outputs": [
    {
     "data": {
      "text/plain": [
       "(427298,)"
      ]
     },
     "execution_count": 85,
     "metadata": {},
     "output_type": "execute_result"
    }
   ],
   "source": [
    "# Check the shape\n",
    "y.shape"
   ]
  },
  {
   "cell_type": "markdown",
   "id": "40ebe93a",
   "metadata": {},
   "source": [
    "## Train-Test Split"
   ]
  },
  {
   "cell_type": "markdown",
   "id": "d5148a2b",
   "metadata": {
    "ExecuteTime": {
     "end_time": "2022-04-02T22:52:53.750642Z",
     "start_time": "2022-04-02T22:52:53.734633Z"
    }
   },
   "source": [
    "Create the train-test split data."
   ]
  },
  {
   "cell_type": "code",
   "execution_count": 86,
   "id": "7e565d3f",
   "metadata": {
    "ExecuteTime": {
     "end_time": "2022-05-22T20:45:56.384096Z",
     "start_time": "2022-05-22T20:45:56.134440Z"
    },
    "scrolled": false
   },
   "outputs": [
    {
     "name": "stdout",
     "output_type": "stream",
     "text": [
      "\n",
      " Before Train and Test Split \n",
      "=======================================================\n",
      "\n",
      "Shape of X = (427298,); Shape of y = (427298,)\n",
      "\n",
      "\n",
      " After Train and Test Split \n",
      "=======================================================\n",
      "\n",
      "Train/Valiation Dataset \n",
      "\n",
      "Shape of X_remainder = (384568,); Shape of y_remainder = (384568,)\n",
      "\n",
      "\n",
      "Test Dataset \n",
      "\n",
      "Shape of X_test = (42730,); Shape of y_test = (42730,)\n"
     ]
    }
   ],
   "source": [
    "# Train-test split for round 3 of text normalized pre-processed data\n",
    "X_remainder, X_test, y_remainder, y_test = train_test_split_print(X, \n",
    "                                                                  y, \n",
    "                                                                  size = 0.1, \n",
    "                                                                  random_state = 1)"
   ]
  },
  {
   "cell_type": "markdown",
   "id": "ba0263fa",
   "metadata": {},
   "source": [
    "## Optimizing Hyperparameters"
   ]
  },
  {
   "cell_type": "markdown",
   "id": "f5f6a138",
   "metadata": {},
   "source": [
    "### Gridsearch CV - Round 1"
   ]
  },
  {
   "cell_type": "markdown",
   "id": "c710ab92",
   "metadata": {
    "ExecuteTime": {
     "end_time": "2022-03-30T20:16:33.497825Z",
     "start_time": "2022-03-30T20:16:33.489840Z"
    }
   },
   "source": [
    "The 5-fold cross-validation grid search will explore the following range of parameters on the train/remainder dataset:\n",
    "\n",
    "<ol>\n",
    "  <li>CountVectorizer</li>\n",
    "      <ul>\n",
    "      <li>Max number of features (max_features)</li>\n",
    "      <li>Max number of document frequency (max_df)</li>\n",
    "      <li>Range of n-value to use for different word combinations (ngram_range)</li>\n",
    "      </ul>\n",
    "      \n",
    "<br>\n",
    "\n",
    "  <li>LogisticRegression</li>\n",
    "      <ul>\n",
    "      <li>L1 or L2 penalty for liblinear solver (penalty)</li>\n",
    "      </ul>\n",
    "</ol>"
   ]
  },
  {
   "cell_type": "code",
   "execution_count": 87,
   "id": "c73e7c05",
   "metadata": {
    "ExecuteTime": {
     "end_time": "2022-05-22T20:45:56.399751Z",
     "start_time": "2022-05-22T20:45:56.385166Z"
    }
   },
   "outputs": [],
   "source": [
    "# Define a pipeline that implements the steps for the transforms and final estimator\n",
    "\n",
    "# Attempted to create a temporary folder to store the transformers of the pipeline\n",
    "# with error that directed sending feedback to joblib team. Cache memory\n",
    "# was not integrated at this time.\n",
    "# https://scikit-learn.org/stable/modules/generated/sklearn.pipeline.Pipeline.html\n",
    "# https://scikit-learn.org/stable/auto_examples/compose/plot_compare_reduction.html\n",
    "# location = \"cachedir\"\n",
    "# memory = Memory(location=location)\n",
    "\n",
    "# Instantiate transformer and estimator or steps for the pipeline\n",
    "# Specify random state parameter instance for RNG variation\n",
    "# across cross-validation folds\n",
    "# https://scikit-learn.org/stable/common_pitfalls.html\n",
    "estimators = [(\"cv\", CountVectorizer()), \n",
    "              (\"model\", LogisticRegression(random_state=np.random.RandomState(0)))]\n",
    "\n",
    "# Instatiate pipeline\n",
    "pipe = Pipeline(estimators, verbose = True)"
   ]
  },
  {
   "cell_type": "code",
   "execution_count": 88,
   "id": "a923b3eb",
   "metadata": {
    "ExecuteTime": {
     "end_time": "2022-05-22T20:45:56.415167Z",
     "start_time": "2022-05-22T20:45:56.401278Z"
    }
   },
   "outputs": [],
   "source": [
    "# Define the parameters for the cross-validatation grid search to step-through\n",
    "# for the estimators object (i.e., countvectorizer and logistic regression)\n",
    "# created and find the best combination.\n",
    "\n",
    "# CountVectorizer parameters include max_features, max_df, and ngram_range to explore across.\n",
    "# LogitsticRegression parameters include model iterations, penalty argument (lasso or ridge), \n",
    "# and specific solver.\n",
    "\n",
    "param_grid = [\n",
    "    {\n",
    "        \"cv__max_features\": (25_000, 75_000),\n",
    "        \"cv__max_df\": (0.9, 0.95, 1.0),\n",
    "        \"cv__ngram_range\": ((1, 2), (1, 3)),\n",
    "        'model': [LogisticRegression()],\n",
    "        'model__max_iter': [200],\n",
    "        'model__penalty': ['l1', 'l2'],\n",
    "        'model__solver': ['liblinear']\n",
    "    }\n",
    "]\n"
   ]
  },
  {
   "cell_type": "code",
   "execution_count": 89,
   "id": "a0e53c1a",
   "metadata": {
    "ExecuteTime": {
     "end_time": "2022-05-22T20:45:56.431151Z",
     "start_time": "2022-05-22T20:45:56.417151Z"
    }
   },
   "outputs": [],
   "source": [
    "# # Option of listing out the list of combinations formed with the \n",
    "# # param_grid instantiated in above cell\n",
    "# from sklearn.model_selection import ParameterGrid\n",
    "# list(ParameterGrid(param_grid))"
   ]
  },
  {
   "cell_type": "code",
   "execution_count": 90,
   "id": "513352c5",
   "metadata": {
    "ExecuteTime": {
     "end_time": "2022-05-22T20:45:56.446907Z",
     "start_time": "2022-05-22T20:45:56.432909Z"
    }
   },
   "outputs": [],
   "source": [
    "# Instantiate cross-validated grid search object with the steps and parameter grid\n",
    "# https://scikit-learn.org/stable/glossary.html#term-verbose\n",
    "grid_v1 = GridSearchCV(estimator=pipe,\n",
    "                       param_grid=param_grid,\n",
    "                       cv=5,\n",
    "                       verbose=10,\n",
    "                       n_jobs=1)"
   ]
  },
  {
   "cell_type": "code",
   "execution_count": 91,
   "id": "c4b08aae",
   "metadata": {
    "ExecuteTime": {
     "end_time": "2022-05-22T20:45:56.462303Z",
     "start_time": "2022-05-22T20:45:56.448934Z"
    },
    "scrolled": true
   },
   "outputs": [],
   "source": [
    "# # Fit the grid search to the train/remainder dataset;\n",
    "# # Runtime 4h 39ms fitting 5 folds for each of 24 candidates, totalling 120 fits\n",
    "# grid_v1.fit(X_remainder, y_remainder)"
   ]
  },
  {
   "cell_type": "markdown",
   "id": "cfc66cd0",
   "metadata": {},
   "source": [
    "Save the fitted grid to a pickle file."
   ]
  },
  {
   "cell_type": "code",
   "execution_count": 92,
   "id": "b99c362e",
   "metadata": {
    "ExecuteTime": {
     "end_time": "2022-05-22T20:45:56.477859Z",
     "start_time": "2022-05-22T20:45:56.464290Z"
    }
   },
   "outputs": [],
   "source": [
    "# # Save the model to a pickle file\n",
    "# with open('grid_v1.pkl', 'wb') as f:\n",
    "#     pickle.dump(grid_v1, f)"
   ]
  },
  {
   "cell_type": "markdown",
   "id": "008e2377",
   "metadata": {},
   "source": [
    "Load the fitted model from a pickle file."
   ]
  },
  {
   "cell_type": "code",
   "execution_count": 93,
   "id": "1c61c49f",
   "metadata": {
    "ExecuteTime": {
     "end_time": "2022-05-22T20:45:57.062868Z",
     "start_time": "2022-05-22T20:45:56.479848Z"
    }
   },
   "outputs": [],
   "source": [
    "# Load pickled model file\n",
    "with open('grid_v1.pkl', 'rb') as f:\n",
    "    grid_v1 = pickle.load(f)"
   ]
  },
  {
   "cell_type": "markdown",
   "id": "8fc26a69",
   "metadata": {},
   "source": [
    "Click on elements below in the diagram for details of each step in the best estimator object selected by the grid search."
   ]
  },
  {
   "cell_type": "code",
   "execution_count": 94,
   "id": "71cd7dec",
   "metadata": {
    "ExecuteTime": {
     "end_time": "2022-05-22T20:45:57.078843Z",
     "start_time": "2022-05-22T20:45:57.064827Z"
    },
    "scrolled": true
   },
   "outputs": [
    {
     "data": {
      "text/html": [
       "<style>#sk-0c0d0697-d6b3-429a-9d8d-090d0b941366 {color: black;background-color: white;}#sk-0c0d0697-d6b3-429a-9d8d-090d0b941366 pre{padding: 0;}#sk-0c0d0697-d6b3-429a-9d8d-090d0b941366 div.sk-toggleable {background-color: white;}#sk-0c0d0697-d6b3-429a-9d8d-090d0b941366 label.sk-toggleable__label {cursor: pointer;display: block;width: 100%;margin-bottom: 0;padding: 0.2em 0.3em;box-sizing: border-box;text-align: center;}#sk-0c0d0697-d6b3-429a-9d8d-090d0b941366 div.sk-toggleable__content {max-height: 0;max-width: 0;overflow: hidden;text-align: left;background-color: #f0f8ff;}#sk-0c0d0697-d6b3-429a-9d8d-090d0b941366 div.sk-toggleable__content pre {margin: 0.2em;color: black;border-radius: 0.25em;background-color: #f0f8ff;}#sk-0c0d0697-d6b3-429a-9d8d-090d0b941366 input.sk-toggleable__control:checked~div.sk-toggleable__content {max-height: 200px;max-width: 100%;overflow: auto;}#sk-0c0d0697-d6b3-429a-9d8d-090d0b941366 div.sk-estimator input.sk-toggleable__control:checked~label.sk-toggleable__label {background-color: #d4ebff;}#sk-0c0d0697-d6b3-429a-9d8d-090d0b941366 div.sk-label input.sk-toggleable__control:checked~label.sk-toggleable__label {background-color: #d4ebff;}#sk-0c0d0697-d6b3-429a-9d8d-090d0b941366 input.sk-hidden--visually {border: 0;clip: rect(1px 1px 1px 1px);clip: rect(1px, 1px, 1px, 1px);height: 1px;margin: -1px;overflow: hidden;padding: 0;position: absolute;width: 1px;}#sk-0c0d0697-d6b3-429a-9d8d-090d0b941366 div.sk-estimator {font-family: monospace;background-color: #f0f8ff;margin: 0.25em 0.25em;border: 1px dotted black;border-radius: 0.25em;box-sizing: border-box;}#sk-0c0d0697-d6b3-429a-9d8d-090d0b941366 div.sk-estimator:hover {background-color: #d4ebff;}#sk-0c0d0697-d6b3-429a-9d8d-090d0b941366 div.sk-parallel-item::after {content: \"\";width: 100%;border-bottom: 1px solid gray;flex-grow: 1;}#sk-0c0d0697-d6b3-429a-9d8d-090d0b941366 div.sk-label:hover label.sk-toggleable__label {background-color: #d4ebff;}#sk-0c0d0697-d6b3-429a-9d8d-090d0b941366 div.sk-serial::before {content: \"\";position: absolute;border-left: 1px solid gray;box-sizing: border-box;top: 2em;bottom: 0;left: 50%;}#sk-0c0d0697-d6b3-429a-9d8d-090d0b941366 div.sk-serial {display: flex;flex-direction: column;align-items: center;background-color: white;}#sk-0c0d0697-d6b3-429a-9d8d-090d0b941366 div.sk-item {z-index: 1;}#sk-0c0d0697-d6b3-429a-9d8d-090d0b941366 div.sk-parallel {display: flex;align-items: stretch;justify-content: center;background-color: white;}#sk-0c0d0697-d6b3-429a-9d8d-090d0b941366 div.sk-parallel-item {display: flex;flex-direction: column;position: relative;background-color: white;}#sk-0c0d0697-d6b3-429a-9d8d-090d0b941366 div.sk-parallel-item:first-child::after {align-self: flex-end;width: 50%;}#sk-0c0d0697-d6b3-429a-9d8d-090d0b941366 div.sk-parallel-item:last-child::after {align-self: flex-start;width: 50%;}#sk-0c0d0697-d6b3-429a-9d8d-090d0b941366 div.sk-parallel-item:only-child::after {width: 0;}#sk-0c0d0697-d6b3-429a-9d8d-090d0b941366 div.sk-dashed-wrapped {border: 1px dashed gray;margin: 0.2em;box-sizing: border-box;padding-bottom: 0.1em;background-color: white;position: relative;}#sk-0c0d0697-d6b3-429a-9d8d-090d0b941366 div.sk-label label {font-family: monospace;font-weight: bold;background-color: white;display: inline-block;line-height: 1.2em;}#sk-0c0d0697-d6b3-429a-9d8d-090d0b941366 div.sk-label-container {position: relative;z-index: 2;text-align: center;}#sk-0c0d0697-d6b3-429a-9d8d-090d0b941366 div.sk-container {display: inline-block;position: relative;}</style><div id=\"sk-0c0d0697-d6b3-429a-9d8d-090d0b941366\" class\"sk-top-container\"><div class=\"sk-container\"><div class=\"sk-item sk-dashed-wrapped\"><div class=\"sk-label-container\"><div class=\"sk-label sk-toggleable\"><input class=\"sk-toggleable__control sk-hidden--visually\" id=\"c14063f8-844c-424b-9d86-b87cfbd45411\" type=\"checkbox\" ><label class=\"sk-toggleable__label\" for=\"c14063f8-844c-424b-9d86-b87cfbd45411\">Pipeline</label><div class=\"sk-toggleable__content\"><pre>Pipeline(steps=[('cv',\n",
       "                 CountVectorizer(max_df=0.95, max_features=75000,\n",
       "                                 ngram_range=(1, 2))),\n",
       "                ('model',\n",
       "                 LogisticRegression(max_iter=200, penalty='l1',\n",
       "                                    solver='liblinear'))],\n",
       "         verbose=True)</pre></div></div></div><div class=\"sk-serial\"><div class=\"sk-item\"><div class=\"sk-estimator sk-toggleable\"><input class=\"sk-toggleable__control sk-hidden--visually\" id=\"d84b6685-b66f-4942-934c-25f700fa5beb\" type=\"checkbox\" ><label class=\"sk-toggleable__label\" for=\"d84b6685-b66f-4942-934c-25f700fa5beb\">CountVectorizer</label><div class=\"sk-toggleable__content\"><pre>CountVectorizer(max_df=0.95, max_features=75000, ngram_range=(1, 2))</pre></div></div></div><div class=\"sk-item\"><div class=\"sk-estimator sk-toggleable\"><input class=\"sk-toggleable__control sk-hidden--visually\" id=\"2981c0cf-8aaa-40c2-952a-28f88d72e970\" type=\"checkbox\" ><label class=\"sk-toggleable__label\" for=\"2981c0cf-8aaa-40c2-952a-28f88d72e970\">LogisticRegression</label><div class=\"sk-toggleable__content\"><pre>LogisticRegression(max_iter=200, penalty='l1', solver='liblinear')</pre></div></div></div></div></div></div></div>"
      ],
      "text/plain": [
       "Pipeline(steps=[('cv',\n",
       "                 CountVectorizer(max_df=0.95, max_features=75000,\n",
       "                                 ngram_range=(1, 2))),\n",
       "                ('model',\n",
       "                 LogisticRegression(max_iter=200, penalty='l1',\n",
       "                                    solver='liblinear'))],\n",
       "         verbose=True)"
      ]
     },
     "execution_count": 94,
     "metadata": {},
     "output_type": "execute_result"
    }
   ],
   "source": [
    "# Output parameters related to the best cross-validated estimator object\n",
    "# selected by the grid search\n",
    "grid_v1.best_estimator_"
   ]
  },
  {
   "cell_type": "markdown",
   "id": "ec4df009",
   "metadata": {},
   "source": [
    "Based on the results of the best estimator from the cross-validated grid search, the following were the optimal parameters from the current grid search:\n",
    "\n",
    "- CountVectorizer(max_df=0.95, max_features=75_000, ngram_range=(1, 2))\n",
    "- LogisticRegression(max_iter=200, penalty='l1', solver='liblinear')"
   ]
  },
  {
   "cell_type": "code",
   "execution_count": 95,
   "id": "02cdc70c",
   "metadata": {
    "ExecuteTime": {
     "end_time": "2022-05-22T20:45:57.094828Z",
     "start_time": "2022-05-22T20:45:57.080830Z"
    }
   },
   "outputs": [],
   "source": [
    "# # Model accuracy mean train scores from 5-fold cross-validation for each fit\n",
    "# grid_v1.cv_results_['mean_train_score']"
   ]
  },
  {
   "cell_type": "code",
   "execution_count": 96,
   "id": "bcfc6329",
   "metadata": {
    "ExecuteTime": {
     "end_time": "2022-05-22T20:45:57.110863Z",
     "start_time": "2022-05-22T20:45:57.096827Z"
    }
   },
   "outputs": [],
   "source": [
    "# # Model accuracy mean test scores from 5-fold cross-validation for each fit\n",
    "# grid_v1.cv_results_['mean_test_score']"
   ]
  },
  {
   "cell_type": "code",
   "execution_count": 97,
   "id": "cd11a833",
   "metadata": {
    "ExecuteTime": {
     "end_time": "2022-05-22T20:46:22.153990Z",
     "start_time": "2022-05-22T20:45:57.111895Z"
    }
   },
   "outputs": [
    {
     "name": "stdout",
     "output_type": "stream",
     "text": [
      "Train score: 98.5%\n",
      "Test score: 96.9%\n"
     ]
    }
   ],
   "source": [
    "# Train and test score using the best estimator from the grid_v1 search\n",
    "accuracy = []\n",
    "\n",
    "accuracy.append(f\"{grid_v1.score(X_remainder, y_remainder) * 100:0.1f}%\")\n",
    "accuracy.append(f\"{grid_v1.score(X_test, y_test) * 100:0.1f}%\")\n",
    "\n",
    "print(f\"Train score: {accuracy[0]}\")\n",
    "print(f\"Test score: {accuracy[1]}\")"
   ]
  },
  {
   "cell_type": "code",
   "execution_count": 98,
   "id": "2a459bb9",
   "metadata": {
    "ExecuteTime": {
     "end_time": "2022-05-22T20:46:47.479943Z",
     "start_time": "2022-05-22T20:46:22.155988Z"
    },
    "scrolled": false
   },
   "outputs": [
    {
     "name": "stdout",
     "output_type": "stream",
     "text": [
      "Confusion matrix for Train Data: \n",
      "=======================================================\n",
      "\n"
     ]
    },
    {
     "data": {
      "text/html": [
       "<div>\n",
       "<style scoped>\n",
       "    .dataframe tbody tr th:only-of-type {\n",
       "        vertical-align: middle;\n",
       "    }\n",
       "\n",
       "    .dataframe tbody tr th {\n",
       "        vertical-align: top;\n",
       "    }\n",
       "\n",
       "    .dataframe thead th {\n",
       "        text-align: right;\n",
       "    }\n",
       "</style>\n",
       "<table border=\"1\" class=\"dataframe\">\n",
       "  <thead>\n",
       "    <tr style=\"text-align: right;\">\n",
       "      <th></th>\n",
       "      <th>Predicted 0 [Negative Review]</th>\n",
       "      <th>Predicted 1 [Positive Review]</th>\n",
       "    </tr>\n",
       "  </thead>\n",
       "  <tbody>\n",
       "    <tr>\n",
       "      <th>True 0 [Negative Review]</th>\n",
       "      <td>21934</td>\n",
       "      <td>4914</td>\n",
       "    </tr>\n",
       "    <tr>\n",
       "      <th>True 1 [Positive Review]</th>\n",
       "      <td>944</td>\n",
       "      <td>356776</td>\n",
       "    </tr>\n",
       "  </tbody>\n",
       "</table>\n",
       "</div>"
      ],
      "text/plain": [
       "                          Predicted 0 [Negative Review]  \\\n",
       "True 0 [Negative Review]                          21934   \n",
       "True 1 [Positive Review]                            944   \n",
       "\n",
       "                          Predicted 1 [Positive Review]  \n",
       "True 0 [Negative Review]                           4914  \n",
       "True 1 [Positive Review]                         356776  "
      ]
     },
     "metadata": {},
     "output_type": "display_data"
    },
    {
     "name": "stdout",
     "output_type": "stream",
     "text": [
      "Classification Report for Train Data: \n",
      "=======================================================\n",
      "\n",
      "                    precision    recall  f1-score   support\n",
      "\n",
      "Negative (Class 0)       0.96      0.82      0.88     26848\n",
      "Positive (Class 1)       0.99      1.00      0.99    357720\n",
      "\n",
      "          accuracy                           0.98    384568\n",
      "         macro avg       0.97      0.91      0.94    384568\n",
      "      weighted avg       0.98      0.98      0.98    384568\n",
      "\n",
      "Confusion matrix for Test Data: \n",
      "=======================================================\n",
      "\n"
     ]
    },
    {
     "data": {
      "text/html": [
       "<div>\n",
       "<style scoped>\n",
       "    .dataframe tbody tr th:only-of-type {\n",
       "        vertical-align: middle;\n",
       "    }\n",
       "\n",
       "    .dataframe tbody tr th {\n",
       "        vertical-align: top;\n",
       "    }\n",
       "\n",
       "    .dataframe thead th {\n",
       "        text-align: right;\n",
       "    }\n",
       "</style>\n",
       "<table border=\"1\" class=\"dataframe\">\n",
       "  <thead>\n",
       "    <tr style=\"text-align: right;\">\n",
       "      <th></th>\n",
       "      <th>Predicted 0 [Negative Review]</th>\n",
       "      <th>Predicted 1 [Positive Review]</th>\n",
       "    </tr>\n",
       "  </thead>\n",
       "  <tbody>\n",
       "    <tr>\n",
       "      <th>True 0 [Negative Review]</th>\n",
       "      <td>2047</td>\n",
       "      <td>936</td>\n",
       "    </tr>\n",
       "    <tr>\n",
       "      <th>True 1 [Positive Review]</th>\n",
       "      <td>397</td>\n",
       "      <td>39350</td>\n",
       "    </tr>\n",
       "  </tbody>\n",
       "</table>\n",
       "</div>"
      ],
      "text/plain": [
       "                          Predicted 0 [Negative Review]  \\\n",
       "True 0 [Negative Review]                           2047   \n",
       "True 1 [Positive Review]                            397   \n",
       "\n",
       "                          Predicted 1 [Positive Review]  \n",
       "True 0 [Negative Review]                            936  \n",
       "True 1 [Positive Review]                          39350  "
      ]
     },
     "metadata": {},
     "output_type": "display_data"
    },
    {
     "name": "stdout",
     "output_type": "stream",
     "text": [
      "Classification Report for Test Data: \n",
      "=======================================================\n",
      "\n",
      "                    precision    recall  f1-score   support\n",
      "\n",
      "Negative (Class 0)       0.84      0.69      0.75      2983\n",
      "Positive (Class 1)       0.98      0.99      0.98     39747\n",
      "\n",
      "          accuracy                           0.97     42730\n",
      "         macro avg       0.91      0.84      0.87     42730\n",
      "      weighted avg       0.97      0.97      0.97     42730\n",
      "\n"
     ]
    }
   ],
   "source": [
    "# Use the function defined earlier for model performance metrics\n",
    "precision, recall, f1_score = model_performance_metrics(grid_v1, \n",
    "                                                        X_remainder, \n",
    "                                                        y_remainder, \n",
    "                                                        X_test, \n",
    "                                                        y_test)"
   ]
  },
  {
   "cell_type": "code",
   "execution_count": 99,
   "id": "56f8b521",
   "metadata": {
    "ExecuteTime": {
     "end_time": "2022-05-22T20:46:47.495939Z",
     "start_time": "2022-05-22T20:46:47.480960Z"
    }
   },
   "outputs": [],
   "source": [
    "# Compile the model performance metrics into a dataframe\n",
    "model_compilation = model_compilation.append(pd.DataFrame({\n",
    "                                                            'Model': 'grid_v1_best_est',\n",
    "                                                            'Dataset': ['Train_Remainder', \n",
    "                                                                        'Train_Remainder',\n",
    "                                                                        'Test', \n",
    "                                                                        'Test'],\n",
    "                                                            'Target':['Negative (Class 0)', \n",
    "                                                                      'Positive (Class 1)',\n",
    "                                                                      'Negative (Class 0)', \n",
    "                                                                      'Positive (Class 1)'],\n",
    "                                                            'Accuracy': [' ', accuracy[0], ' ', accuracy[1]],\n",
    "                                                            'Precision': precision,\n",
    "                                                            'Recall': recall,\n",
    "                                                            'F1-Score': f1_score\n",
    "                                                        },\n",
    "                                                        index= range(17,21)))"
   ]
  },
  {
   "cell_type": "code",
   "execution_count": 100,
   "id": "b2d92e34",
   "metadata": {
    "ExecuteTime": {
     "end_time": "2022-05-22T20:46:47.511939Z",
     "start_time": "2022-05-22T20:46:47.497949Z"
    }
   },
   "outputs": [
    {
     "data": {
      "text/html": [
       "<div>\n",
       "<style scoped>\n",
       "    .dataframe tbody tr th:only-of-type {\n",
       "        vertical-align: middle;\n",
       "    }\n",
       "\n",
       "    .dataframe tbody tr th {\n",
       "        vertical-align: top;\n",
       "    }\n",
       "\n",
       "    .dataframe thead th {\n",
       "        text-align: right;\n",
       "    }\n",
       "</style>\n",
       "<table border=\"1\" class=\"dataframe\">\n",
       "  <thead>\n",
       "    <tr style=\"text-align: right;\">\n",
       "      <th></th>\n",
       "      <th>Model</th>\n",
       "      <th>Dataset</th>\n",
       "      <th>Target</th>\n",
       "      <th>Accuracy</th>\n",
       "      <th>Precision</th>\n",
       "      <th>Recall</th>\n",
       "      <th>F1-Score</th>\n",
       "    </tr>\n",
       "  </thead>\n",
       "  <tbody>\n",
       "    <tr>\n",
       "      <th>0</th>\n",
       "      <td>logit_v0</td>\n",
       "      <td>Train_Remainder</td>\n",
       "      <td>Negative (Class 0)</td>\n",
       "      <td></td>\n",
       "      <td>89.4%</td>\n",
       "      <td>67.9%</td>\n",
       "      <td>77.2%</td>\n",
       "    </tr>\n",
       "    <tr>\n",
       "      <th>1</th>\n",
       "      <td>logit_v0</td>\n",
       "      <td>Train_Remainder</td>\n",
       "      <td>Positive (Class 1)</td>\n",
       "      <td>97.2%</td>\n",
       "      <td>97.6%</td>\n",
       "      <td>99.4%</td>\n",
       "      <td>98.5%</td>\n",
       "    </tr>\n",
       "    <tr>\n",
       "      <th>2</th>\n",
       "      <td>logit_v0</td>\n",
       "      <td>Test</td>\n",
       "      <td>Negative (Class 0)</td>\n",
       "      <td></td>\n",
       "      <td>84.4%</td>\n",
       "      <td>63.9%</td>\n",
       "      <td>72.7%</td>\n",
       "    </tr>\n",
       "    <tr>\n",
       "      <th>3</th>\n",
       "      <td>logit_v0</td>\n",
       "      <td>Test</td>\n",
       "      <td>Positive (Class 1)</td>\n",
       "      <td>96.7%</td>\n",
       "      <td>97.3%</td>\n",
       "      <td>99.1%</td>\n",
       "      <td>98.2%</td>\n",
       "    </tr>\n",
       "    <tr>\n",
       "      <th>4</th>\n",
       "      <td>logit_v1</td>\n",
       "      <td>Train_Remainder</td>\n",
       "      <td>Negative (Class 0)</td>\n",
       "      <td></td>\n",
       "      <td>89.2%</td>\n",
       "      <td>69.3%</td>\n",
       "      <td>78.0%</td>\n",
       "    </tr>\n",
       "    <tr>\n",
       "      <th>5</th>\n",
       "      <td>logit_v1</td>\n",
       "      <td>Train_Remainder</td>\n",
       "      <td>Positive (Class 1)</td>\n",
       "      <td>97.3%</td>\n",
       "      <td>97.7%</td>\n",
       "      <td>99.4%</td>\n",
       "      <td>98.5%</td>\n",
       "    </tr>\n",
       "    <tr>\n",
       "      <th>6</th>\n",
       "      <td>logit_v1</td>\n",
       "      <td>Test</td>\n",
       "      <td>Negative (Class 0)</td>\n",
       "      <td></td>\n",
       "      <td>85.0%</td>\n",
       "      <td>64.6%</td>\n",
       "      <td>73.4%</td>\n",
       "    </tr>\n",
       "    <tr>\n",
       "      <th>7</th>\n",
       "      <td>logit_v1</td>\n",
       "      <td>Test</td>\n",
       "      <td>Positive (Class 1)</td>\n",
       "      <td>96.7%</td>\n",
       "      <td>97.4%</td>\n",
       "      <td>99.1%</td>\n",
       "      <td>98.3%</td>\n",
       "    </tr>\n",
       "    <tr>\n",
       "      <th>8</th>\n",
       "      <td>logit_v2</td>\n",
       "      <td>Train_Remainder</td>\n",
       "      <td>Negative (Class 0)</td>\n",
       "      <td></td>\n",
       "      <td>89.0%</td>\n",
       "      <td>69.0%</td>\n",
       "      <td>77.8%</td>\n",
       "    </tr>\n",
       "    <tr>\n",
       "      <th>9</th>\n",
       "      <td>logit_v2</td>\n",
       "      <td>Train_Remainder</td>\n",
       "      <td>Positive (Class 1)</td>\n",
       "      <td>97.2%</td>\n",
       "      <td>97.7%</td>\n",
       "      <td>99.4%</td>\n",
       "      <td>98.5%</td>\n",
       "    </tr>\n",
       "    <tr>\n",
       "      <th>10</th>\n",
       "      <td>logit_v2</td>\n",
       "      <td>Test</td>\n",
       "      <td>Negative (Class 0)</td>\n",
       "      <td></td>\n",
       "      <td>84.2%</td>\n",
       "      <td>63.3%</td>\n",
       "      <td>72.3%</td>\n",
       "    </tr>\n",
       "    <tr>\n",
       "      <th>11</th>\n",
       "      <td>logit_v2</td>\n",
       "      <td>Test</td>\n",
       "      <td>Positive (Class 1)</td>\n",
       "      <td>96.6%</td>\n",
       "      <td>97.3%</td>\n",
       "      <td>99.1%</td>\n",
       "      <td>98.2%</td>\n",
       "    </tr>\n",
       "    <tr>\n",
       "      <th>12</th>\n",
       "      <td>logit_v3</td>\n",
       "      <td>Train_Remainder</td>\n",
       "      <td>Negative (Class 0)</td>\n",
       "      <td></td>\n",
       "      <td>88.5%</td>\n",
       "      <td>67.7%</td>\n",
       "      <td>76.7%</td>\n",
       "    </tr>\n",
       "    <tr>\n",
       "      <th>13</th>\n",
       "      <td>logit_v3</td>\n",
       "      <td>Train_Remainder</td>\n",
       "      <td>Positive (Class 1)</td>\n",
       "      <td>97.1%</td>\n",
       "      <td>97.6%</td>\n",
       "      <td>99.3%</td>\n",
       "      <td>98.5%</td>\n",
       "    </tr>\n",
       "    <tr>\n",
       "      <th>14</th>\n",
       "      <td>logit_v3</td>\n",
       "      <td>Test</td>\n",
       "      <td>Negative (Class 0)</td>\n",
       "      <td></td>\n",
       "      <td>84.1%</td>\n",
       "      <td>63.3%</td>\n",
       "      <td>72.2%</td>\n",
       "    </tr>\n",
       "    <tr>\n",
       "      <th>15</th>\n",
       "      <td>logit_v3</td>\n",
       "      <td>Test</td>\n",
       "      <td>Positive (Class 1)</td>\n",
       "      <td>96.6%</td>\n",
       "      <td>97.3%</td>\n",
       "      <td>99.1%</td>\n",
       "      <td>98.2%</td>\n",
       "    </tr>\n",
       "    <tr>\n",
       "      <th>17</th>\n",
       "      <td>grid_v1_best_est</td>\n",
       "      <td>Train_Remainder</td>\n",
       "      <td>Negative (Class 0)</td>\n",
       "      <td></td>\n",
       "      <td>95.9%</td>\n",
       "      <td>81.7%</td>\n",
       "      <td>88.2%</td>\n",
       "    </tr>\n",
       "    <tr>\n",
       "      <th>18</th>\n",
       "      <td>grid_v1_best_est</td>\n",
       "      <td>Train_Remainder</td>\n",
       "      <td>Positive (Class 1)</td>\n",
       "      <td>98.5%</td>\n",
       "      <td>98.6%</td>\n",
       "      <td>99.7%</td>\n",
       "      <td>99.2%</td>\n",
       "    </tr>\n",
       "    <tr>\n",
       "      <th>19</th>\n",
       "      <td>grid_v1_best_est</td>\n",
       "      <td>Test</td>\n",
       "      <td>Negative (Class 0)</td>\n",
       "      <td></td>\n",
       "      <td>83.8%</td>\n",
       "      <td>68.6%</td>\n",
       "      <td>75.4%</td>\n",
       "    </tr>\n",
       "    <tr>\n",
       "      <th>20</th>\n",
       "      <td>grid_v1_best_est</td>\n",
       "      <td>Test</td>\n",
       "      <td>Positive (Class 1)</td>\n",
       "      <td>96.9%</td>\n",
       "      <td>97.7%</td>\n",
       "      <td>99.0%</td>\n",
       "      <td>98.3%</td>\n",
       "    </tr>\n",
       "  </tbody>\n",
       "</table>\n",
       "</div>"
      ],
      "text/plain": [
       "               Model          Dataset              Target Accuracy Precision  \\\n",
       "0           logit_v0  Train_Remainder  Negative (Class 0)              89.4%   \n",
       "1           logit_v0  Train_Remainder  Positive (Class 1)    97.2%     97.6%   \n",
       "2           logit_v0             Test  Negative (Class 0)              84.4%   \n",
       "3           logit_v0             Test  Positive (Class 1)    96.7%     97.3%   \n",
       "4           logit_v1  Train_Remainder  Negative (Class 0)              89.2%   \n",
       "5           logit_v1  Train_Remainder  Positive (Class 1)    97.3%     97.7%   \n",
       "6           logit_v1             Test  Negative (Class 0)              85.0%   \n",
       "7           logit_v1             Test  Positive (Class 1)    96.7%     97.4%   \n",
       "8           logit_v2  Train_Remainder  Negative (Class 0)              89.0%   \n",
       "9           logit_v2  Train_Remainder  Positive (Class 1)    97.2%     97.7%   \n",
       "10          logit_v2             Test  Negative (Class 0)              84.2%   \n",
       "11          logit_v2             Test  Positive (Class 1)    96.6%     97.3%   \n",
       "12          logit_v3  Train_Remainder  Negative (Class 0)              88.5%   \n",
       "13          logit_v3  Train_Remainder  Positive (Class 1)    97.1%     97.6%   \n",
       "14          logit_v3             Test  Negative (Class 0)              84.1%   \n",
       "15          logit_v3             Test  Positive (Class 1)    96.6%     97.3%   \n",
       "17  grid_v1_best_est  Train_Remainder  Negative (Class 0)              95.9%   \n",
       "18  grid_v1_best_est  Train_Remainder  Positive (Class 1)    98.5%     98.6%   \n",
       "19  grid_v1_best_est             Test  Negative (Class 0)              83.8%   \n",
       "20  grid_v1_best_est             Test  Positive (Class 1)    96.9%     97.7%   \n",
       "\n",
       "   Recall F1-Score  \n",
       "0   67.9%    77.2%  \n",
       "1   99.4%    98.5%  \n",
       "2   63.9%    72.7%  \n",
       "3   99.1%    98.2%  \n",
       "4   69.3%    78.0%  \n",
       "5   99.4%    98.5%  \n",
       "6   64.6%    73.4%  \n",
       "7   99.1%    98.3%  \n",
       "8   69.0%    77.8%  \n",
       "9   99.4%    98.5%  \n",
       "10  63.3%    72.3%  \n",
       "11  99.1%    98.2%  \n",
       "12  67.7%    76.7%  \n",
       "13  99.3%    98.5%  \n",
       "14  63.3%    72.2%  \n",
       "15  99.1%    98.2%  \n",
       "17  81.7%    88.2%  \n",
       "18  99.7%    99.2%  \n",
       "19  68.6%    75.4%  \n",
       "20  99.0%    98.3%  "
      ]
     },
     "execution_count": 100,
     "metadata": {},
     "output_type": "execute_result"
    }
   ],
   "source": [
    "model_compilation"
   ]
  },
  {
   "cell_type": "markdown",
   "id": "8a67219a",
   "metadata": {},
   "source": [
    "The model performance metrics from the best estimator of the grid search revealed near-perfect precision and recall for classifying positive reviews in the train dataset. It is possible that over-fitting may have occurred and may be verified during review of the model's features and corresponding coefficients/odds ratio. Precision and recall were excellent for positive reviews in the test dataset.\n",
    "\n",
    "The model performance metrics for classifying negative reviews were the highest of all models results compiled, with a 95.9% precision and 81.7% precision for train dataset and 83.8% precision and 68.6% recall for the test data."
   ]
  },
  {
   "cell_type": "markdown",
   "id": "7347b5e2",
   "metadata": {},
   "source": [
    "#### Odds Ratios"
   ]
  },
  {
   "cell_type": "markdown",
   "id": "04490ed1",
   "metadata": {},
   "source": [
    "Visualize the features and corresponding odds ratios from the best estimator of the grid search."
   ]
  },
  {
   "cell_type": "code",
   "execution_count": 101,
   "id": "7b8ec298",
   "metadata": {
    "ExecuteTime": {
     "end_time": "2022-05-22T20:46:47.607903Z",
     "start_time": "2022-05-22T20:46:47.513939Z"
    }
   },
   "outputs": [],
   "source": [
    "# Create dataframe of the logit coefficients and odds ratios\n",
    "logit_coef_df = pd.DataFrame({\"Feature\": grid_v1.best_estimator_[0].get_feature_names(),\n",
    "                              \"Logit_Coefficient\": grid_v1.best_estimator_[1].coef_[0],\n",
    "                              \"Odds_Ratio\": np.exp(grid_v1.best_estimator_[1].coef_[0])\n",
    "                             })"
   ]
  },
  {
   "cell_type": "code",
   "execution_count": 102,
   "id": "381e1ba1",
   "metadata": {
    "ExecuteTime": {
     "end_time": "2022-05-22T20:46:47.623868Z",
     "start_time": "2022-05-22T20:46:47.609903Z"
    }
   },
   "outputs": [],
   "source": [
    "# Filter the odds ratios and convert coefficients that were under 1 into negative coefficients for visualization\n",
    "# Odds ratios under 1 are inversed to retrieve appropriate odds ratio values\n",
    "logit_coef_df['Plotting_Odds_Ratio'] = np.where(logit_coef_df['Odds_Ratio'] >= 1.0, \n",
    "                                                logit_coef_df['Odds_Ratio'],\n",
    "                                                -1 / logit_coef_df['Odds_Ratio'])"
   ]
  },
  {
   "cell_type": "code",
   "execution_count": 103,
   "id": "25b7e467",
   "metadata": {
    "ExecuteTime": {
     "end_time": "2022-05-22T20:46:47.654409Z",
     "start_time": "2022-05-22T20:46:47.625882Z"
    },
    "scrolled": true
   },
   "outputs": [],
   "source": [
    "# Sort odds ratio values\n",
    "logit_coef_df = logit_coef_df.sort_values('Odds_Ratio', ascending = False)"
   ]
  },
  {
   "cell_type": "code",
   "execution_count": 104,
   "id": "5380038c",
   "metadata": {
    "ExecuteTime": {
     "end_time": "2022-05-22T20:46:47.670418Z",
     "start_time": "2022-05-22T20:46:47.656410Z"
    }
   },
   "outputs": [
    {
     "data": {
      "text/html": [
       "<div>\n",
       "<style scoped>\n",
       "    .dataframe tbody tr th:only-of-type {\n",
       "        vertical-align: middle;\n",
       "    }\n",
       "\n",
       "    .dataframe tbody tr th {\n",
       "        vertical-align: top;\n",
       "    }\n",
       "\n",
       "    .dataframe thead th {\n",
       "        text-align: right;\n",
       "    }\n",
       "</style>\n",
       "<table border=\"1\" class=\"dataframe\">\n",
       "  <thead>\n",
       "    <tr style=\"text-align: right;\">\n",
       "      <th></th>\n",
       "      <th>Feature</th>\n",
       "      <th>Logit_Coefficient</th>\n",
       "      <th>Odds_Ratio</th>\n",
       "      <th>Plotting_Odds_Ratio</th>\n",
       "    </tr>\n",
       "  </thead>\n",
       "  <tbody>\n",
       "    <tr>\n",
       "      <th>69985</th>\n",
       "      <td>veryy</td>\n",
       "      <td>4.356050</td>\n",
       "      <td>77.948620</td>\n",
       "      <td>77.948620</td>\n",
       "    </tr>\n",
       "    <tr>\n",
       "      <th>74982</th>\n",
       "      <td>zones</td>\n",
       "      <td>4.191594</td>\n",
       "      <td>66.128105</td>\n",
       "      <td>66.128105</td>\n",
       "    </tr>\n",
       "    <tr>\n",
       "      <th>70335</th>\n",
       "      <td>want not</td>\n",
       "      <td>4.185101</td>\n",
       "      <td>65.700157</td>\n",
       "      <td>65.700157</td>\n",
       "    </tr>\n",
       "    <tr>\n",
       "      <th>8247</th>\n",
       "      <td>be home</td>\n",
       "      <td>3.938155</td>\n",
       "      <td>51.323835</td>\n",
       "      <td>51.323835</td>\n",
       "    </tr>\n",
       "    <tr>\n",
       "      <th>40964</th>\n",
       "      <td>not their</td>\n",
       "      <td>3.829078</td>\n",
       "      <td>46.020074</td>\n",
       "      <td>46.020074</td>\n",
       "    </tr>\n",
       "    <tr>\n",
       "      <th>...</th>\n",
       "      <td>...</td>\n",
       "      <td>...</td>\n",
       "      <td>...</td>\n",
       "      <td>...</td>\n",
       "    </tr>\n",
       "    <tr>\n",
       "      <th>40755</th>\n",
       "      <td>not impressed</td>\n",
       "      <td>-4.069198</td>\n",
       "      <td>0.017091</td>\n",
       "      <td>-58.510000</td>\n",
       "    </tr>\n",
       "    <tr>\n",
       "      <th>26685</th>\n",
       "      <td>great wonderful</td>\n",
       "      <td>-4.544943</td>\n",
       "      <td>0.010621</td>\n",
       "      <td>-94.155042</td>\n",
       "    </tr>\n",
       "    <tr>\n",
       "      <th>26662</th>\n",
       "      <td>great until</td>\n",
       "      <td>-4.585468</td>\n",
       "      <td>0.010199</td>\n",
       "      <td>-98.049103</td>\n",
       "    </tr>\n",
       "    <tr>\n",
       "      <th>67494</th>\n",
       "      <td>two stars</td>\n",
       "      <td>-4.687818</td>\n",
       "      <td>0.009207</td>\n",
       "      <td>-108.615961</td>\n",
       "    </tr>\n",
       "    <tr>\n",
       "      <th>64756</th>\n",
       "      <td>three stars</td>\n",
       "      <td>-4.925014</td>\n",
       "      <td>0.007263</td>\n",
       "      <td>-137.691270</td>\n",
       "    </tr>\n",
       "  </tbody>\n",
       "</table>\n",
       "<p>75000 rows × 4 columns</p>\n",
       "</div>"
      ],
      "text/plain": [
       "               Feature  Logit_Coefficient  Odds_Ratio  Plotting_Odds_Ratio\n",
       "69985            veryy           4.356050   77.948620            77.948620\n",
       "74982            zones           4.191594   66.128105            66.128105\n",
       "70335         want not           4.185101   65.700157            65.700157\n",
       "8247           be home           3.938155   51.323835            51.323835\n",
       "40964        not their           3.829078   46.020074            46.020074\n",
       "...                ...                ...         ...                  ...\n",
       "40755    not impressed          -4.069198    0.017091           -58.510000\n",
       "26685  great wonderful          -4.544943    0.010621           -94.155042\n",
       "26662      great until          -4.585468    0.010199           -98.049103\n",
       "67494        two stars          -4.687818    0.009207          -108.615961\n",
       "64756      three stars          -4.925014    0.007263          -137.691270\n",
       "\n",
       "[75000 rows x 4 columns]"
      ]
     },
     "execution_count": 104,
     "metadata": {},
     "output_type": "execute_result"
    }
   ],
   "source": [
    "logit_coef_df"
   ]
  },
  {
   "cell_type": "code",
   "execution_count": 105,
   "id": "24e5e849",
   "metadata": {
    "ExecuteTime": {
     "end_time": "2022-05-22T20:46:48.399939Z",
     "start_time": "2022-05-22T20:46:47.672207Z"
    },
    "scrolled": false
   },
   "outputs": [
    {
     "data": {
      "image/png": "[encoded data removed]",
      "text/plain": [
       "<Figure size 864x864 with 2 Axes>"
      ]
     },
     "metadata": {
      "needs_background": "light"
     },
     "output_type": "display_data"
    }
   ],
   "source": [
    "# Visualise the positive and negative tokens and the corresponding log odds ratio of their\n",
    "# coefficients from the logistic regression\n",
    "plt.subplots(nrows=2, ncols=1, figsize=(12, 12))\n",
    "\n",
    "\n",
    "################### Positive Indicators Bar Plot ###################\n",
    "# largest positive odds ratio -> tokens indicating positive sentiment \n",
    "\n",
    "plt.subplot(2, 1, 1)\n",
    "sns.barplot(x = logit_coef_df['Feature'].head(20), y = logit_coef_df['Plotting_Odds_Ratio'].head(20), color=\"blue\")\n",
    "\n",
    "# Set titles and labels\n",
    "plt.title(f\"Top 20 Tokens Predictive of Positive Reviews (Rating 1)\", size=24, pad=20)\n",
    "plt.xlabel('Positive indicators', size=14)\n",
    "plt.ylabel('Odds Ratio', size=14)\n",
    "plt.xticks(rotation = 45)\n",
    "\n",
    "# Remove top and top right graph borders\n",
    "sns.despine()\n",
    "plt.tight_layout()\n",
    "\n",
    "################### Negative Indicators Bar Plot ###################\n",
    "# largest negative odds ratio -> tokens indicating negative sentiment\n",
    "plt.subplot(2, 1, 2)\n",
    "sns.barplot(x = logit_coef_df['Feature'].tail(20), y = logit_coef_df['Plotting_Odds_Ratio'].tail(20), color=\"red\")\n",
    "\n",
    "# Set titles and labels\n",
    "plt.title(f\"Top 20 Tokens Predictive of Negative Reviews (Rating 0)\", size=24, pad=20)\n",
    "plt.xlabel('Negative indicators', size=14)\n",
    "plt.ylabel('Odds Ratio', size=14)\n",
    "plt.xticks(rotation = 45)\n",
    "\n",
    "# Remove top and top right graph borders\n",
    "sns.despine()\n",
    "plt.tight_layout()\n",
    "\n",
    "plt.show()"
   ]
  },
  {
   "cell_type": "markdown",
   "id": "1f7be281",
   "metadata": {},
   "source": [
    "Of the top 20 most predictive tokens for positive reviews, \"veryy\", \"zones\", \"want not\", \"be home\", and \"not their\" are the top 5 predictors. However, these tokens are unexpected and does not make complete sense. This possibly reflects the overfitting of the train dataset in identifying the optimal model parameters. \n",
    "\n",
    "Conversely, features such as \"three stars\", \"two stars\", \"great until\", \"great wonderful\", and \"not impressed\" are the top 5 predictive tokens for negative reviews. Although some of these tokens may make sense, others may not be of much use and could be added to a custom stop words list. For instance, \"three stars\" and \"two stars\" are likely inherent to the rating that the review received. This redundant information may be removed with a custom stop words list. Furthermore, tokens such as \"pixel perfect\", \"page layout\", \"best offer\", \"partnership with\", \"international clients\", \"with faster\", \"costume\", \"help good\", \"without my\", do not really provide any negative sentiment and generally appear neutral or even positive."
   ]
  },
  {
   "cell_type": "markdown",
   "id": "1dbfc6a9",
   "metadata": {},
   "source": [
    "### Gridsearch CV - Round 2"
   ]
  },
  {
   "cell_type": "markdown",
   "id": "a5209a94",
   "metadata": {
    "ExecuteTime": {
     "end_time": "2022-03-30T20:16:33.497825Z",
     "start_time": "2022-03-30T20:16:33.489840Z"
    }
   },
   "source": [
    "The next grid search will explore the following range of parameters on the train/remainder dataset:\n",
    "\n",
    "<ol>\n",
    "  <li>CountVectorizer</li>\n",
    "      <ul>\n",
    "      <li>Inclusion of stop words (stop_words)</li>\n",
    "      <li>Additional max number of features (max_features)</li>\n",
    "      <li>Bigram and trigram only n-range values (ngram_range)</li>\n",
    "      </ul>\n",
    "      \n",
    "<br>\n",
    "\n",
    "  <li>LogisticRegression</li>\n",
    "      <ul>\n",
    "      <li>Maximum numbers of iterations (max_iter)</li>\n",
    "      <li>Regularization parameter (C)</li>\n",
    "      </ul>\n",
    "</ol>"
   ]
  },
  {
   "cell_type": "code",
   "execution_count": 106,
   "id": "3cde7357",
   "metadata": {
    "ExecuteTime": {
     "end_time": "2022-05-22T20:46:48.415187Z",
     "start_time": "2022-05-22T20:46:48.402011Z"
    }
   },
   "outputs": [],
   "source": [
    "# Define a pipeline that implements the steps for the transforms and final estimator\n",
    "\n",
    "# Instantiate transformer and estimator or steps for the pipeline\n",
    "estimators = [(\"cv\", CountVectorizer()), \n",
    "              (\"model\", LogisticRegression(random_state=np.random.RandomState(0)))]\n",
    "\n",
    "# Instatiate Pipeline\n",
    "pipe = Pipeline(estimators, verbose=True)"
   ]
  },
  {
   "cell_type": "code",
   "execution_count": 107,
   "id": "a6159eb0",
   "metadata": {
    "ExecuteTime": {
     "end_time": "2022-05-22T20:46:48.430351Z",
     "start_time": "2022-05-22T20:46:48.417185Z"
    }
   },
   "outputs": [],
   "source": [
    "# Define the parameters for the cross-validatation grid search to step-through\n",
    "# for the estimators object (i.e., countvectorizer and logistic regression)\n",
    "# created and find the best combination.\n",
    "\n",
    "param_grid = [\n",
    "    {\n",
    "        \"cv__stop_words\": (None, 'english'),\n",
    "        \"cv__max_features\": (60_000, 75_000),\n",
    "        \"cv__max_df\": [(0.95)],\n",
    "        \"cv__ngram_range\": ((1, 2), (2, 3)),\n",
    "        'model': [LogisticRegression()],\n",
    "        'model__max_iter': [200, 400],\n",
    "        'model__penalty': ['l1'],\n",
    "        'model__solver': ['liblinear'],\n",
    "        'model__C': np.logspace(-1, 1, 2)\n",
    "    }\n",
    "]"
   ]
  },
  {
   "cell_type": "code",
   "execution_count": 108,
   "id": "835ed1b2",
   "metadata": {
    "ExecuteTime": {
     "end_time": "2022-05-22T20:46:48.446290Z",
     "start_time": "2022-05-22T20:46:48.431946Z"
    }
   },
   "outputs": [],
   "source": [
    "# Instantiate cross-validated grid search object with the steps and parameter grid\n",
    "grid_v2 = GridSearchCV(estimator=pipe,\n",
    "                       param_grid=param_grid,\n",
    "                       cv=5,\n",
    "                       verbose=10,\n",
    "                       n_jobs=1)"
   ]
  },
  {
   "cell_type": "code",
   "execution_count": 109,
   "id": "28f7e418",
   "metadata": {
    "ExecuteTime": {
     "end_time": "2022-05-22T20:46:48.462289Z",
     "start_time": "2022-05-22T20:46:48.448292Z"
    }
   },
   "outputs": [],
   "source": [
    "# # # Fit the grid search to the train/remainder dataset;\n",
    "# # # Runtime 2h 50ms fitting 5 folds for each of 32 candidates, totalling 160 fits\n",
    "# grid_v2.fit(X_remainder, y_remainder)"
   ]
  },
  {
   "cell_type": "markdown",
   "id": "d3f785a7",
   "metadata": {},
   "source": [
    "Save the fitted grid to a pickle file."
   ]
  },
  {
   "cell_type": "code",
   "execution_count": 110,
   "id": "6a19c64b",
   "metadata": {
    "ExecuteTime": {
     "end_time": "2022-05-22T20:46:48.478289Z",
     "start_time": "2022-05-22T20:46:48.464293Z"
    }
   },
   "outputs": [],
   "source": [
    "# # Save the model to a pickle file\n",
    "# with open('grid_v2.pkl', 'wb') as f:\n",
    "#     pickle.dump(grid_v2, f)"
   ]
  },
  {
   "cell_type": "markdown",
   "id": "d68f132c",
   "metadata": {},
   "source": [
    "Load the fitted model from a pickle file."
   ]
  },
  {
   "cell_type": "code",
   "execution_count": 111,
   "id": "0f94fc39",
   "metadata": {
    "ExecuteTime": {
     "end_time": "2022-05-22T20:46:48.937979Z",
     "start_time": "2022-05-22T20:46:48.480288Z"
    }
   },
   "outputs": [],
   "source": [
    "# Load pickled model file\n",
    "with open('grid_v2.pkl', 'rb') as f:\n",
    "    grid_v2 = pickle.load(f)"
   ]
  },
  {
   "cell_type": "markdown",
   "id": "7ae2bb6b",
   "metadata": {},
   "source": [
    "Click on elements below in the diagram for details of each step in the best estimator object selected by the grid search."
   ]
  },
  {
   "cell_type": "code",
   "execution_count": 112,
   "id": "6f01bc70",
   "metadata": {
    "ExecuteTime": {
     "end_time": "2022-05-22T20:46:48.953958Z",
     "start_time": "2022-05-22T20:46:48.939979Z"
    }
   },
   "outputs": [
    {
     "data": {
      "text/html": [
       "<style>#sk-6cedc90e-80f6-4f28-b4bc-bce5d1789d42 {color: black;background-color: white;}#sk-6cedc90e-80f6-4f28-b4bc-bce5d1789d42 pre{padding: 0;}#sk-6cedc90e-80f6-4f28-b4bc-bce5d1789d42 div.sk-toggleable {background-color: white;}#sk-6cedc90e-80f6-4f28-b4bc-bce5d1789d42 label.sk-toggleable__label {cursor: pointer;display: block;width: 100%;margin-bottom: 0;padding: 0.2em 0.3em;box-sizing: border-box;text-align: center;}#sk-6cedc90e-80f6-4f28-b4bc-bce5d1789d42 div.sk-toggleable__content {max-height: 0;max-width: 0;overflow: hidden;text-align: left;background-color: #f0f8ff;}#sk-6cedc90e-80f6-4f28-b4bc-bce5d1789d42 div.sk-toggleable__content pre {margin: 0.2em;color: black;border-radius: 0.25em;background-color: #f0f8ff;}#sk-6cedc90e-80f6-4f28-b4bc-bce5d1789d42 input.sk-toggleable__control:checked~div.sk-toggleable__content {max-height: 200px;max-width: 100%;overflow: auto;}#sk-6cedc90e-80f6-4f28-b4bc-bce5d1789d42 div.sk-estimator input.sk-toggleable__control:checked~label.sk-toggleable__label {background-color: #d4ebff;}#sk-6cedc90e-80f6-4f28-b4bc-bce5d1789d42 div.sk-label input.sk-toggleable__control:checked~label.sk-toggleable__label {background-color: #d4ebff;}#sk-6cedc90e-80f6-4f28-b4bc-bce5d1789d42 input.sk-hidden--visually {border: 0;clip: rect(1px 1px 1px 1px);clip: rect(1px, 1px, 1px, 1px);height: 1px;margin: -1px;overflow: hidden;padding: 0;position: absolute;width: 1px;}#sk-6cedc90e-80f6-4f28-b4bc-bce5d1789d42 div.sk-estimator {font-family: monospace;background-color: #f0f8ff;margin: 0.25em 0.25em;border: 1px dotted black;border-radius: 0.25em;box-sizing: border-box;}#sk-6cedc90e-80f6-4f28-b4bc-bce5d1789d42 div.sk-estimator:hover {background-color: #d4ebff;}#sk-6cedc90e-80f6-4f28-b4bc-bce5d1789d42 div.sk-parallel-item::after {content: \"\";width: 100%;border-bottom: 1px solid gray;flex-grow: 1;}#sk-6cedc90e-80f6-4f28-b4bc-bce5d1789d42 div.sk-label:hover label.sk-toggleable__label {background-color: #d4ebff;}#sk-6cedc90e-80f6-4f28-b4bc-bce5d1789d42 div.sk-serial::before {content: \"\";position: absolute;border-left: 1px solid gray;box-sizing: border-box;top: 2em;bottom: 0;left: 50%;}#sk-6cedc90e-80f6-4f28-b4bc-bce5d1789d42 div.sk-serial {display: flex;flex-direction: column;align-items: center;background-color: white;}#sk-6cedc90e-80f6-4f28-b4bc-bce5d1789d42 div.sk-item {z-index: 1;}#sk-6cedc90e-80f6-4f28-b4bc-bce5d1789d42 div.sk-parallel {display: flex;align-items: stretch;justify-content: center;background-color: white;}#sk-6cedc90e-80f6-4f28-b4bc-bce5d1789d42 div.sk-parallel-item {display: flex;flex-direction: column;position: relative;background-color: white;}#sk-6cedc90e-80f6-4f28-b4bc-bce5d1789d42 div.sk-parallel-item:first-child::after {align-self: flex-end;width: 50%;}#sk-6cedc90e-80f6-4f28-b4bc-bce5d1789d42 div.sk-parallel-item:last-child::after {align-self: flex-start;width: 50%;}#sk-6cedc90e-80f6-4f28-b4bc-bce5d1789d42 div.sk-parallel-item:only-child::after {width: 0;}#sk-6cedc90e-80f6-4f28-b4bc-bce5d1789d42 div.sk-dashed-wrapped {border: 1px dashed gray;margin: 0.2em;box-sizing: border-box;padding-bottom: 0.1em;background-color: white;position: relative;}#sk-6cedc90e-80f6-4f28-b4bc-bce5d1789d42 div.sk-label label {font-family: monospace;font-weight: bold;background-color: white;display: inline-block;line-height: 1.2em;}#sk-6cedc90e-80f6-4f28-b4bc-bce5d1789d42 div.sk-label-container {position: relative;z-index: 2;text-align: center;}#sk-6cedc90e-80f6-4f28-b4bc-bce5d1789d42 div.sk-container {display: inline-block;position: relative;}</style><div id=\"sk-6cedc90e-80f6-4f28-b4bc-bce5d1789d42\" class\"sk-top-container\"><div class=\"sk-container\"><div class=\"sk-item sk-dashed-wrapped\"><div class=\"sk-label-container\"><div class=\"sk-label sk-toggleable\"><input class=\"sk-toggleable__control sk-hidden--visually\" id=\"73f78271-cc58-41aa-b5ab-bd1925f43f49\" type=\"checkbox\" ><label class=\"sk-toggleable__label\" for=\"73f78271-cc58-41aa-b5ab-bd1925f43f49\">Pipeline</label><div class=\"sk-toggleable__content\"><pre>Pipeline(steps=[('cv',\n",
       "                 CountVectorizer(max_df=0.95, max_features=60000,\n",
       "                                 ngram_range=(1, 2))),\n",
       "                ('model',\n",
       "                 LogisticRegression(C=0.1, max_iter=200, penalty='l1',\n",
       "                                    solver='liblinear'))],\n",
       "         verbose=True)</pre></div></div></div><div class=\"sk-serial\"><div class=\"sk-item\"><div class=\"sk-estimator sk-toggleable\"><input class=\"sk-toggleable__control sk-hidden--visually\" id=\"1443721b-e17b-4085-9f5b-0329d0e32c2a\" type=\"checkbox\" ><label class=\"sk-toggleable__label\" for=\"1443721b-e17b-4085-9f5b-0329d0e32c2a\">CountVectorizer</label><div class=\"sk-toggleable__content\"><pre>CountVectorizer(max_df=0.95, max_features=60000, ngram_range=(1, 2))</pre></div></div></div><div class=\"sk-item\"><div class=\"sk-estimator sk-toggleable\"><input class=\"sk-toggleable__control sk-hidden--visually\" id=\"4e16e742-b83d-4257-a6df-c345c8de2aeb\" type=\"checkbox\" ><label class=\"sk-toggleable__label\" for=\"4e16e742-b83d-4257-a6df-c345c8de2aeb\">LogisticRegression</label><div class=\"sk-toggleable__content\"><pre>LogisticRegression(C=0.1, max_iter=200, penalty='l1', solver='liblinear')</pre></div></div></div></div></div></div></div>"
      ],
      "text/plain": [
       "Pipeline(steps=[('cv',\n",
       "                 CountVectorizer(max_df=0.95, max_features=60000,\n",
       "                                 ngram_range=(1, 2))),\n",
       "                ('model',\n",
       "                 LogisticRegression(C=0.1, max_iter=200, penalty='l1',\n",
       "                                    solver='liblinear'))],\n",
       "         verbose=True)"
      ]
     },
     "execution_count": 112,
     "metadata": {},
     "output_type": "execute_result"
    }
   ],
   "source": [
    "# Check the most optimal model\n",
    "grid_v2.best_estimator_"
   ]
  },
  {
   "cell_type": "markdown",
   "id": "9052f4f0",
   "metadata": {},
   "source": [
    "Based on the results of the best estimator from the cross-validated grid search, the following were the optimal parameters from the current grid search:\n",
    "\n",
    "- CountVectorizer(max_df=0.95, max_features=60_000, ngram_range=(1, 2))\n",
    "- LogisticRegression(C=0.1, max_iter=200, penalty='l1', solver='liblinear')"
   ]
  },
  {
   "cell_type": "code",
   "execution_count": 113,
   "id": "94408297",
   "metadata": {
    "ExecuteTime": {
     "end_time": "2022-05-22T20:46:48.969957Z",
     "start_time": "2022-05-22T20:46:48.955958Z"
    }
   },
   "outputs": [],
   "source": [
    "# # Dataframe of cross-validated model results and corresponding model parameters\n",
    "# grid_v2_scores_df = pd.DataFrame(grid_v2.cv_results_)\n",
    "# grid_v2_scores_df = grid_v2_scores_df.sort_values(by=['rank_test_score']).reset_index(drop='index')\n",
    "# grid_v2_scores_df"
   ]
  },
  {
   "cell_type": "code",
   "execution_count": 114,
   "id": "636368f0",
   "metadata": {
    "ExecuteTime": {
     "end_time": "2022-05-22T20:46:48.985962Z",
     "start_time": "2022-05-22T20:46:48.970957Z"
    }
   },
   "outputs": [],
   "source": [
    "# # Model accuracy mean train scores from 5-fold cross-validation for each fit\n",
    "# grid_v2.cv_results_['mean_train_score']"
   ]
  },
  {
   "cell_type": "code",
   "execution_count": 115,
   "id": "b46dad68",
   "metadata": {
    "ExecuteTime": {
     "end_time": "2022-05-22T20:46:49.001960Z",
     "start_time": "2022-05-22T20:46:48.987961Z"
    }
   },
   "outputs": [],
   "source": [
    "# # Model accuracy mean test scores from 5-fold cross-validation for each fit\n",
    "# grid_v2.cv_results_['mean_test_score']"
   ]
  },
  {
   "cell_type": "code",
   "execution_count": 116,
   "id": "33ffb8f4",
   "metadata": {
    "ExecuteTime": {
     "end_time": "2022-05-22T20:47:12.819938Z",
     "start_time": "2022-05-22T20:46:49.003960Z"
    }
   },
   "outputs": [
    {
     "name": "stdout",
     "output_type": "stream",
     "text": [
      "Train score: 97.0%\n",
      "Test score: 96.8%\n"
     ]
    }
   ],
   "source": [
    "# Train and test score using the best estimator from the grid_v2 search\n",
    "accuracy = []\n",
    "\n",
    "accuracy.append(f\"{grid_v2.score(X_remainder, y_remainder) * 100:0.1f}%\")\n",
    "accuracy.append(f\"{grid_v2.score(X_test, y_test) * 100:0.1f}%\")\n",
    "\n",
    "print(f\"Train score: {accuracy[0]}\")\n",
    "print(f\"Test score: {accuracy[1]}\")"
   ]
  },
  {
   "cell_type": "code",
   "execution_count": 117,
   "id": "9b2acf58",
   "metadata": {
    "ExecuteTime": {
     "end_time": "2022-05-22T20:47:39.222098Z",
     "start_time": "2022-05-22T20:47:12.822136Z"
    },
    "scrolled": false
   },
   "outputs": [
    {
     "name": "stdout",
     "output_type": "stream",
     "text": [
      "Confusion matrix for Train Data: \n",
      "=======================================================\n",
      "\n"
     ]
    },
    {
     "data": {
      "text/html": [
       "<div>\n",
       "<style scoped>\n",
       "    .dataframe tbody tr th:only-of-type {\n",
       "        vertical-align: middle;\n",
       "    }\n",
       "\n",
       "    .dataframe tbody tr th {\n",
       "        vertical-align: top;\n",
       "    }\n",
       "\n",
       "    .dataframe thead th {\n",
       "        text-align: right;\n",
       "    }\n",
       "</style>\n",
       "<table border=\"1\" class=\"dataframe\">\n",
       "  <thead>\n",
       "    <tr style=\"text-align: right;\">\n",
       "      <th></th>\n",
       "      <th>Predicted 0 [Negative Review]</th>\n",
       "      <th>Predicted 1 [Positive Review]</th>\n",
       "    </tr>\n",
       "  </thead>\n",
       "  <tbody>\n",
       "    <tr>\n",
       "      <th>True 0 [Negative Review]</th>\n",
       "      <td>17421</td>\n",
       "      <td>9427</td>\n",
       "    </tr>\n",
       "    <tr>\n",
       "      <th>True 1 [Positive Review]</th>\n",
       "      <td>2213</td>\n",
       "      <td>355507</td>\n",
       "    </tr>\n",
       "  </tbody>\n",
       "</table>\n",
       "</div>"
      ],
      "text/plain": [
       "                          Predicted 0 [Negative Review]  \\\n",
       "True 0 [Negative Review]                          17421   \n",
       "True 1 [Positive Review]                           2213   \n",
       "\n",
       "                          Predicted 1 [Positive Review]  \n",
       "True 0 [Negative Review]                           9427  \n",
       "True 1 [Positive Review]                         355507  "
      ]
     },
     "metadata": {},
     "output_type": "display_data"
    },
    {
     "name": "stdout",
     "output_type": "stream",
     "text": [
      "Classification Report for Train Data: \n",
      "=======================================================\n",
      "\n",
      "                    precision    recall  f1-score   support\n",
      "\n",
      "Negative (Class 0)       0.89      0.65      0.75     26848\n",
      "Positive (Class 1)       0.97      0.99      0.98    357720\n",
      "\n",
      "          accuracy                           0.97    384568\n",
      "         macro avg       0.93      0.82      0.87    384568\n",
      "      weighted avg       0.97      0.97      0.97    384568\n",
      "\n",
      "Confusion matrix for Test Data: \n",
      "=======================================================\n",
      "\n"
     ]
    },
    {
     "data": {
      "text/html": [
       "<div>\n",
       "<style scoped>\n",
       "    .dataframe tbody tr th:only-of-type {\n",
       "        vertical-align: middle;\n",
       "    }\n",
       "\n",
       "    .dataframe tbody tr th {\n",
       "        vertical-align: top;\n",
       "    }\n",
       "\n",
       "    .dataframe thead th {\n",
       "        text-align: right;\n",
       "    }\n",
       "</style>\n",
       "<table border=\"1\" class=\"dataframe\">\n",
       "  <thead>\n",
       "    <tr style=\"text-align: right;\">\n",
       "      <th></th>\n",
       "      <th>Predicted 0 [Negative Review]</th>\n",
       "      <th>Predicted 1 [Positive Review]</th>\n",
       "    </tr>\n",
       "  </thead>\n",
       "  <tbody>\n",
       "    <tr>\n",
       "      <th>True 0 [Negative Review]</th>\n",
       "      <td>1868</td>\n",
       "      <td>1115</td>\n",
       "    </tr>\n",
       "    <tr>\n",
       "      <th>True 1 [Positive Review]</th>\n",
       "      <td>249</td>\n",
       "      <td>39498</td>\n",
       "    </tr>\n",
       "  </tbody>\n",
       "</table>\n",
       "</div>"
      ],
      "text/plain": [
       "                          Predicted 0 [Negative Review]  \\\n",
       "True 0 [Negative Review]                           1868   \n",
       "True 1 [Positive Review]                            249   \n",
       "\n",
       "                          Predicted 1 [Positive Review]  \n",
       "True 0 [Negative Review]                           1115  \n",
       "True 1 [Positive Review]                          39498  "
      ]
     },
     "metadata": {},
     "output_type": "display_data"
    },
    {
     "name": "stdout",
     "output_type": "stream",
     "text": [
      "Classification Report for Test Data: \n",
      "=======================================================\n",
      "\n",
      "                    precision    recall  f1-score   support\n",
      "\n",
      "Negative (Class 0)       0.88      0.63      0.73      2983\n",
      "Positive (Class 1)       0.97      0.99      0.98     39747\n",
      "\n",
      "          accuracy                           0.97     42730\n",
      "         macro avg       0.93      0.81      0.86     42730\n",
      "      weighted avg       0.97      0.97      0.97     42730\n",
      "\n"
     ]
    }
   ],
   "source": [
    "# Use the function defined earlier for model performance metrics\n",
    "precision, recall, f1_score = model_performance_metrics(grid_v2, \n",
    "                                                        X_remainder, \n",
    "                                                        y_remainder, \n",
    "                                                        X_test, \n",
    "                                                        y_test)"
   ]
  },
  {
   "cell_type": "code",
   "execution_count": 118,
   "id": "58537652",
   "metadata": {
    "ExecuteTime": {
     "end_time": "2022-05-22T20:47:39.238033Z",
     "start_time": "2022-05-22T20:47:39.224046Z"
    }
   },
   "outputs": [],
   "source": [
    "# Compile the model performance metrics into a dataframe\n",
    "model_compilation = model_compilation.append(pd.DataFrame({\n",
    "                                                            'Model': 'grid_v2_best_est',\n",
    "                                                            'Dataset': ['Train_Remainder', \n",
    "                                                                        'Train_Remainder',\n",
    "                                                                        'Test', \n",
    "                                                                        'Test'],\n",
    "                                                            'Target':['Negative (Class 0)', \n",
    "                                                                      'Positive (Class 1)',\n",
    "                                                                      'Negative (Class 0)', \n",
    "                                                                      'Positive (Class 1)'],\n",
    "                                                            'Accuracy': [' ', accuracy[0], ' ', accuracy[1]],\n",
    "                                                            'Precision': precision,\n",
    "                                                            'Recall': recall,\n",
    "                                                            'F1-Score': f1_score\n",
    "                                                        },\n",
    "                                                        index= range(21,25)))"
   ]
  },
  {
   "cell_type": "code",
   "execution_count": 119,
   "id": "a3e2b4c7",
   "metadata": {
    "ExecuteTime": {
     "end_time": "2022-05-22T20:47:39.269571Z",
     "start_time": "2022-05-22T20:47:39.240037Z"
    }
   },
   "outputs": [
    {
     "data": {
      "text/html": [
       "<div>\n",
       "<style scoped>\n",
       "    .dataframe tbody tr th:only-of-type {\n",
       "        vertical-align: middle;\n",
       "    }\n",
       "\n",
       "    .dataframe tbody tr th {\n",
       "        vertical-align: top;\n",
       "    }\n",
       "\n",
       "    .dataframe thead th {\n",
       "        text-align: right;\n",
       "    }\n",
       "</style>\n",
       "<table border=\"1\" class=\"dataframe\">\n",
       "  <thead>\n",
       "    <tr style=\"text-align: right;\">\n",
       "      <th></th>\n",
       "      <th>Model</th>\n",
       "      <th>Dataset</th>\n",
       "      <th>Target</th>\n",
       "      <th>Accuracy</th>\n",
       "      <th>Precision</th>\n",
       "      <th>Recall</th>\n",
       "      <th>F1-Score</th>\n",
       "    </tr>\n",
       "  </thead>\n",
       "  <tbody>\n",
       "    <tr>\n",
       "      <th>0</th>\n",
       "      <td>logit_v0</td>\n",
       "      <td>Train_Remainder</td>\n",
       "      <td>Negative (Class 0)</td>\n",
       "      <td></td>\n",
       "      <td>89.4%</td>\n",
       "      <td>67.9%</td>\n",
       "      <td>77.2%</td>\n",
       "    </tr>\n",
       "    <tr>\n",
       "      <th>1</th>\n",
       "      <td>logit_v0</td>\n",
       "      <td>Train_Remainder</td>\n",
       "      <td>Positive (Class 1)</td>\n",
       "      <td>97.2%</td>\n",
       "      <td>97.6%</td>\n",
       "      <td>99.4%</td>\n",
       "      <td>98.5%</td>\n",
       "    </tr>\n",
       "    <tr>\n",
       "      <th>2</th>\n",
       "      <td>logit_v0</td>\n",
       "      <td>Test</td>\n",
       "      <td>Negative (Class 0)</td>\n",
       "      <td></td>\n",
       "      <td>84.4%</td>\n",
       "      <td>63.9%</td>\n",
       "      <td>72.7%</td>\n",
       "    </tr>\n",
       "    <tr>\n",
       "      <th>3</th>\n",
       "      <td>logit_v0</td>\n",
       "      <td>Test</td>\n",
       "      <td>Positive (Class 1)</td>\n",
       "      <td>96.7%</td>\n",
       "      <td>97.3%</td>\n",
       "      <td>99.1%</td>\n",
       "      <td>98.2%</td>\n",
       "    </tr>\n",
       "    <tr>\n",
       "      <th>4</th>\n",
       "      <td>logit_v1</td>\n",
       "      <td>Train_Remainder</td>\n",
       "      <td>Negative (Class 0)</td>\n",
       "      <td></td>\n",
       "      <td>89.2%</td>\n",
       "      <td>69.3%</td>\n",
       "      <td>78.0%</td>\n",
       "    </tr>\n",
       "    <tr>\n",
       "      <th>5</th>\n",
       "      <td>logit_v1</td>\n",
       "      <td>Train_Remainder</td>\n",
       "      <td>Positive (Class 1)</td>\n",
       "      <td>97.3%</td>\n",
       "      <td>97.7%</td>\n",
       "      <td>99.4%</td>\n",
       "      <td>98.5%</td>\n",
       "    </tr>\n",
       "    <tr>\n",
       "      <th>6</th>\n",
       "      <td>logit_v1</td>\n",
       "      <td>Test</td>\n",
       "      <td>Negative (Class 0)</td>\n",
       "      <td></td>\n",
       "      <td>85.0%</td>\n",
       "      <td>64.6%</td>\n",
       "      <td>73.4%</td>\n",
       "    </tr>\n",
       "    <tr>\n",
       "      <th>7</th>\n",
       "      <td>logit_v1</td>\n",
       "      <td>Test</td>\n",
       "      <td>Positive (Class 1)</td>\n",
       "      <td>96.7%</td>\n",
       "      <td>97.4%</td>\n",
       "      <td>99.1%</td>\n",
       "      <td>98.3%</td>\n",
       "    </tr>\n",
       "    <tr>\n",
       "      <th>8</th>\n",
       "      <td>logit_v2</td>\n",
       "      <td>Train_Remainder</td>\n",
       "      <td>Negative (Class 0)</td>\n",
       "      <td></td>\n",
       "      <td>89.0%</td>\n",
       "      <td>69.0%</td>\n",
       "      <td>77.8%</td>\n",
       "    </tr>\n",
       "    <tr>\n",
       "      <th>9</th>\n",
       "      <td>logit_v2</td>\n",
       "      <td>Train_Remainder</td>\n",
       "      <td>Positive (Class 1)</td>\n",
       "      <td>97.2%</td>\n",
       "      <td>97.7%</td>\n",
       "      <td>99.4%</td>\n",
       "      <td>98.5%</td>\n",
       "    </tr>\n",
       "    <tr>\n",
       "      <th>10</th>\n",
       "      <td>logit_v2</td>\n",
       "      <td>Test</td>\n",
       "      <td>Negative (Class 0)</td>\n",
       "      <td></td>\n",
       "      <td>84.2%</td>\n",
       "      <td>63.3%</td>\n",
       "      <td>72.3%</td>\n",
       "    </tr>\n",
       "    <tr>\n",
       "      <th>11</th>\n",
       "      <td>logit_v2</td>\n",
       "      <td>Test</td>\n",
       "      <td>Positive (Class 1)</td>\n",
       "      <td>96.6%</td>\n",
       "      <td>97.3%</td>\n",
       "      <td>99.1%</td>\n",
       "      <td>98.2%</td>\n",
       "    </tr>\n",
       "    <tr>\n",
       "      <th>12</th>\n",
       "      <td>logit_v3</td>\n",
       "      <td>Train_Remainder</td>\n",
       "      <td>Negative (Class 0)</td>\n",
       "      <td></td>\n",
       "      <td>88.5%</td>\n",
       "      <td>67.7%</td>\n",
       "      <td>76.7%</td>\n",
       "    </tr>\n",
       "    <tr>\n",
       "      <th>13</th>\n",
       "      <td>logit_v3</td>\n",
       "      <td>Train_Remainder</td>\n",
       "      <td>Positive (Class 1)</td>\n",
       "      <td>97.1%</td>\n",
       "      <td>97.6%</td>\n",
       "      <td>99.3%</td>\n",
       "      <td>98.5%</td>\n",
       "    </tr>\n",
       "    <tr>\n",
       "      <th>14</th>\n",
       "      <td>logit_v3</td>\n",
       "      <td>Test</td>\n",
       "      <td>Negative (Class 0)</td>\n",
       "      <td></td>\n",
       "      <td>84.1%</td>\n",
       "      <td>63.3%</td>\n",
       "      <td>72.2%</td>\n",
       "    </tr>\n",
       "    <tr>\n",
       "      <th>15</th>\n",
       "      <td>logit_v3</td>\n",
       "      <td>Test</td>\n",
       "      <td>Positive (Class 1)</td>\n",
       "      <td>96.6%</td>\n",
       "      <td>97.3%</td>\n",
       "      <td>99.1%</td>\n",
       "      <td>98.2%</td>\n",
       "    </tr>\n",
       "    <tr>\n",
       "      <th>17</th>\n",
       "      <td>grid_v1_best_est</td>\n",
       "      <td>Train_Remainder</td>\n",
       "      <td>Negative (Class 0)</td>\n",
       "      <td></td>\n",
       "      <td>95.9%</td>\n",
       "      <td>81.7%</td>\n",
       "      <td>88.2%</td>\n",
       "    </tr>\n",
       "    <tr>\n",
       "      <th>18</th>\n",
       "      <td>grid_v1_best_est</td>\n",
       "      <td>Train_Remainder</td>\n",
       "      <td>Positive (Class 1)</td>\n",
       "      <td>98.5%</td>\n",
       "      <td>98.6%</td>\n",
       "      <td>99.7%</td>\n",
       "      <td>99.2%</td>\n",
       "    </tr>\n",
       "    <tr>\n",
       "      <th>19</th>\n",
       "      <td>grid_v1_best_est</td>\n",
       "      <td>Test</td>\n",
       "      <td>Negative (Class 0)</td>\n",
       "      <td></td>\n",
       "      <td>83.8%</td>\n",
       "      <td>68.6%</td>\n",
       "      <td>75.4%</td>\n",
       "    </tr>\n",
       "    <tr>\n",
       "      <th>20</th>\n",
       "      <td>grid_v1_best_est</td>\n",
       "      <td>Test</td>\n",
       "      <td>Positive (Class 1)</td>\n",
       "      <td>96.9%</td>\n",
       "      <td>97.7%</td>\n",
       "      <td>99.0%</td>\n",
       "      <td>98.3%</td>\n",
       "    </tr>\n",
       "    <tr>\n",
       "      <th>21</th>\n",
       "      <td>grid_v2_best_est</td>\n",
       "      <td>Train_Remainder</td>\n",
       "      <td>Negative (Class 0)</td>\n",
       "      <td></td>\n",
       "      <td>88.7%</td>\n",
       "      <td>64.9%</td>\n",
       "      <td>75.0%</td>\n",
       "    </tr>\n",
       "    <tr>\n",
       "      <th>22</th>\n",
       "      <td>grid_v2_best_est</td>\n",
       "      <td>Train_Remainder</td>\n",
       "      <td>Positive (Class 1)</td>\n",
       "      <td>97.0%</td>\n",
       "      <td>97.4%</td>\n",
       "      <td>99.4%</td>\n",
       "      <td>98.4%</td>\n",
       "    </tr>\n",
       "    <tr>\n",
       "      <th>23</th>\n",
       "      <td>grid_v2_best_est</td>\n",
       "      <td>Test</td>\n",
       "      <td>Negative (Class 0)</td>\n",
       "      <td></td>\n",
       "      <td>88.2%</td>\n",
       "      <td>62.6%</td>\n",
       "      <td>73.3%</td>\n",
       "    </tr>\n",
       "    <tr>\n",
       "      <th>24</th>\n",
       "      <td>grid_v2_best_est</td>\n",
       "      <td>Test</td>\n",
       "      <td>Positive (Class 1)</td>\n",
       "      <td>96.8%</td>\n",
       "      <td>97.3%</td>\n",
       "      <td>99.4%</td>\n",
       "      <td>98.3%</td>\n",
       "    </tr>\n",
       "  </tbody>\n",
       "</table>\n",
       "</div>"
      ],
      "text/plain": [
       "               Model          Dataset              Target Accuracy Precision  \\\n",
       "0           logit_v0  Train_Remainder  Negative (Class 0)              89.4%   \n",
       "1           logit_v0  Train_Remainder  Positive (Class 1)    97.2%     97.6%   \n",
       "2           logit_v0             Test  Negative (Class 0)              84.4%   \n",
       "3           logit_v0             Test  Positive (Class 1)    96.7%     97.3%   \n",
       "4           logit_v1  Train_Remainder  Negative (Class 0)              89.2%   \n",
       "5           logit_v1  Train_Remainder  Positive (Class 1)    97.3%     97.7%   \n",
       "6           logit_v1             Test  Negative (Class 0)              85.0%   \n",
       "7           logit_v1             Test  Positive (Class 1)    96.7%     97.4%   \n",
       "8           logit_v2  Train_Remainder  Negative (Class 0)              89.0%   \n",
       "9           logit_v2  Train_Remainder  Positive (Class 1)    97.2%     97.7%   \n",
       "10          logit_v2             Test  Negative (Class 0)              84.2%   \n",
       "11          logit_v2             Test  Positive (Class 1)    96.6%     97.3%   \n",
       "12          logit_v3  Train_Remainder  Negative (Class 0)              88.5%   \n",
       "13          logit_v3  Train_Remainder  Positive (Class 1)    97.1%     97.6%   \n",
       "14          logit_v3             Test  Negative (Class 0)              84.1%   \n",
       "15          logit_v3             Test  Positive (Class 1)    96.6%     97.3%   \n",
       "17  grid_v1_best_est  Train_Remainder  Negative (Class 0)              95.9%   \n",
       "18  grid_v1_best_est  Train_Remainder  Positive (Class 1)    98.5%     98.6%   \n",
       "19  grid_v1_best_est             Test  Negative (Class 0)              83.8%   \n",
       "20  grid_v1_best_est             Test  Positive (Class 1)    96.9%     97.7%   \n",
       "21  grid_v2_best_est  Train_Remainder  Negative (Class 0)              88.7%   \n",
       "22  grid_v2_best_est  Train_Remainder  Positive (Class 1)    97.0%     97.4%   \n",
       "23  grid_v2_best_est             Test  Negative (Class 0)              88.2%   \n",
       "24  grid_v2_best_est             Test  Positive (Class 1)    96.8%     97.3%   \n",
       "\n",
       "   Recall F1-Score  \n",
       "0   67.9%    77.2%  \n",
       "1   99.4%    98.5%  \n",
       "2   63.9%    72.7%  \n",
       "3   99.1%    98.2%  \n",
       "4   69.3%    78.0%  \n",
       "5   99.4%    98.5%  \n",
       "6   64.6%    73.4%  \n",
       "7   99.1%    98.3%  \n",
       "8   69.0%    77.8%  \n",
       "9   99.4%    98.5%  \n",
       "10  63.3%    72.3%  \n",
       "11  99.1%    98.2%  \n",
       "12  67.7%    76.7%  \n",
       "13  99.3%    98.5%  \n",
       "14  63.3%    72.2%  \n",
       "15  99.1%    98.2%  \n",
       "17  81.7%    88.2%  \n",
       "18  99.7%    99.2%  \n",
       "19  68.6%    75.4%  \n",
       "20  99.0%    98.3%  \n",
       "21  64.9%    75.0%  \n",
       "22  99.4%    98.4%  \n",
       "23  62.6%    73.3%  \n",
       "24  99.4%    98.3%  "
      ]
     },
     "execution_count": 119,
     "metadata": {},
     "output_type": "execute_result"
    }
   ],
   "source": [
    "model_compilation"
   ]
  },
  {
   "cell_type": "markdown",
   "id": "732b7536",
   "metadata": {},
   "source": [
    "The best estimator from this grid search was actually worse than the previous one, with precision decreased from 95.9% to 88.7% and recall decreased from 81.7% to 64.9% for negative reviews within the train data. Similarly, precision decreased from 83.8% to 88.2% and a recall decreased from 68.6% to 62.6% for negative reviews within the test data. These results may be due to the stronger regularization parameter."
   ]
  },
  {
   "cell_type": "markdown",
   "id": "2ba0299f",
   "metadata": {},
   "source": [
    "#### Odds Ratios"
   ]
  },
  {
   "cell_type": "markdown",
   "id": "3bf10765",
   "metadata": {},
   "source": [
    "Visualize the features and corresponding odds ratios from the best estimator of the grid search."
   ]
  },
  {
   "cell_type": "code",
   "execution_count": 120,
   "id": "7a92db15",
   "metadata": {
    "ExecuteTime": {
     "end_time": "2022-05-22T20:47:39.364378Z",
     "start_time": "2022-05-22T20:47:39.271574Z"
    }
   },
   "outputs": [],
   "source": [
    "logit_coef_df = pd.DataFrame({\"Feature\": grid_v2.best_estimator_[0].get_feature_names(),\n",
    "                              \"Logit_Coefficient\": grid_v2.best_estimator_[1].coef_[0],\n",
    "                              \"Odds_Ratio\": np.exp(grid_v2.best_estimator_[1].coef_[0])\n",
    "                             })"
   ]
  },
  {
   "cell_type": "code",
   "execution_count": 121,
   "id": "3749a357",
   "metadata": {
    "ExecuteTime": {
     "end_time": "2022-05-22T20:47:39.391382Z",
     "start_time": "2022-05-22T20:47:39.366380Z"
    }
   },
   "outputs": [],
   "source": [
    "# Sort the odds ratios; those under 1 are from a negative coefficients; convert those\n",
    "# odds ratios by inversing it and turning it into a negative for appropriate \n",
    "# interpretation\n",
    "logit_coef_df['Plotting_Odds_Ratio'] = np.where(logit_coef_df['Odds_Ratio'] >= 1.0, \n",
    "                                                logit_coef_df['Odds_Ratio'],\n",
    "                                                -1 / logit_coef_df['Odds_Ratio'])"
   ]
  },
  {
   "cell_type": "code",
   "execution_count": 122,
   "id": "4af38bb2",
   "metadata": {
    "ExecuteTime": {
     "end_time": "2022-05-22T20:47:39.429233Z",
     "start_time": "2022-05-22T20:47:39.394380Z"
    }
   },
   "outputs": [],
   "source": [
    "logit_coef_df = logit_coef_df.sort_values('Odds_Ratio', ascending = False)"
   ]
  },
  {
   "cell_type": "code",
   "execution_count": 123,
   "id": "ed7ba18a",
   "metadata": {
    "ExecuteTime": {
     "end_time": "2022-05-22T20:47:39.460232Z",
     "start_time": "2022-05-22T20:47:39.431233Z"
    }
   },
   "outputs": [
    {
     "data": {
      "text/html": [
       "<div>\n",
       "<style scoped>\n",
       "    .dataframe tbody tr th:only-of-type {\n",
       "        vertical-align: middle;\n",
       "    }\n",
       "\n",
       "    .dataframe tbody tr th {\n",
       "        vertical-align: top;\n",
       "    }\n",
       "\n",
       "    .dataframe thead th {\n",
       "        text-align: right;\n",
       "    }\n",
       "</style>\n",
       "<table border=\"1\" class=\"dataframe\">\n",
       "  <thead>\n",
       "    <tr style=\"text-align: right;\">\n",
       "      <th></th>\n",
       "      <th>Feature</th>\n",
       "      <th>Logit_Coefficient</th>\n",
       "      <th>Odds_Ratio</th>\n",
       "      <th>Plotting_Odds_Ratio</th>\n",
       "    </tr>\n",
       "  </thead>\n",
       "  <tbody>\n",
       "    <tr>\n",
       "      <th>1809</th>\n",
       "      <td>amaze</td>\n",
       "      <td>2.119816</td>\n",
       "      <td>8.329602</td>\n",
       "      <td>8.329602</td>\n",
       "    </tr>\n",
       "    <tr>\n",
       "      <th>9824</th>\n",
       "      <td>cannot wait</td>\n",
       "      <td>2.037598</td>\n",
       "      <td>7.672155</td>\n",
       "      <td>7.672155</td>\n",
       "    </tr>\n",
       "    <tr>\n",
       "      <th>16469</th>\n",
       "      <td>excellent</td>\n",
       "      <td>1.986721</td>\n",
       "      <td>7.291585</td>\n",
       "      <td>7.291585</td>\n",
       "    </tr>\n",
       "    <tr>\n",
       "      <th>17106</th>\n",
       "      <td>fantastic</td>\n",
       "      <td>1.850689</td>\n",
       "      <td>6.364205</td>\n",
       "      <td>6.364205</td>\n",
       "    </tr>\n",
       "    <tr>\n",
       "      <th>5735</th>\n",
       "      <td>awesome</td>\n",
       "      <td>1.834256</td>\n",
       "      <td>6.260473</td>\n",
       "      <td>6.260473</td>\n",
       "    </tr>\n",
       "    <tr>\n",
       "      <th>...</th>\n",
       "      <td>...</td>\n",
       "      <td>...</td>\n",
       "      <td>...</td>\n",
       "      <td>...</td>\n",
       "    </tr>\n",
       "    <tr>\n",
       "      <th>5843</th>\n",
       "      <td>awful</td>\n",
       "      <td>-2.138111</td>\n",
       "      <td>0.117877</td>\n",
       "      <td>-8.483397</td>\n",
       "    </tr>\n",
       "    <tr>\n",
       "      <th>51703</th>\n",
       "      <td>three stars</td>\n",
       "      <td>-2.390859</td>\n",
       "      <td>0.091551</td>\n",
       "      <td>-10.922874</td>\n",
       "    </tr>\n",
       "    <tr>\n",
       "      <th>55408</th>\n",
       "      <td>useless</td>\n",
       "      <td>-2.451651</td>\n",
       "      <td>0.086151</td>\n",
       "      <td>-11.607499</td>\n",
       "    </tr>\n",
       "    <tr>\n",
       "      <th>48080</th>\n",
       "      <td>terrible</td>\n",
       "      <td>-2.500843</td>\n",
       "      <td>0.082016</td>\n",
       "      <td>-12.192769</td>\n",
       "    </tr>\n",
       "    <tr>\n",
       "      <th>32638</th>\n",
       "      <td>not recommend</td>\n",
       "      <td>-2.726586</td>\n",
       "      <td>0.065442</td>\n",
       "      <td>-15.280634</td>\n",
       "    </tr>\n",
       "  </tbody>\n",
       "</table>\n",
       "<p>60000 rows × 4 columns</p>\n",
       "</div>"
      ],
      "text/plain": [
       "             Feature  Logit_Coefficient  Odds_Ratio  Plotting_Odds_Ratio\n",
       "1809           amaze           2.119816    8.329602             8.329602\n",
       "9824     cannot wait           2.037598    7.672155             7.672155\n",
       "16469      excellent           1.986721    7.291585             7.291585\n",
       "17106      fantastic           1.850689    6.364205             6.364205\n",
       "5735         awesome           1.834256    6.260473             6.260473\n",
       "...              ...                ...         ...                  ...\n",
       "5843           awful          -2.138111    0.117877            -8.483397\n",
       "51703    three stars          -2.390859    0.091551           -10.922874\n",
       "55408        useless          -2.451651    0.086151           -11.607499\n",
       "48080       terrible          -2.500843    0.082016           -12.192769\n",
       "32638  not recommend          -2.726586    0.065442           -15.280634\n",
       "\n",
       "[60000 rows x 4 columns]"
      ]
     },
     "execution_count": 123,
     "metadata": {},
     "output_type": "execute_result"
    }
   ],
   "source": [
    "logit_coef_df"
   ]
  },
  {
   "cell_type": "code",
   "execution_count": 124,
   "id": "473c3cad",
   "metadata": {
    "ExecuteTime": {
     "end_time": "2022-05-22T20:47:40.345799Z",
     "start_time": "2022-05-22T20:47:39.462236Z"
    },
    "scrolled": false
   },
   "outputs": [
    {
     "data": {
      "image/png": "[encoded data removed]",
      "text/plain": [
       "<Figure size 864x864 with 2 Axes>"
      ]
     },
     "metadata": {
      "needs_background": "light"
     },
     "output_type": "display_data"
    }
   ],
   "source": [
    "# Visualise the positive and negative tokens and their corresponding log odds ratio of their\n",
    "# coefficients from the logistic regression\n",
    "plt.subplots(nrows=2, ncols=1, figsize=(12, 12))\n",
    "\n",
    "\n",
    "################### Positive Indicators Bar Plot ###################\n",
    "################### largest positive coefficient -> tokens indicating positive sentiment \n",
    "\n",
    "plt.subplot(2, 1, 1)\n",
    "sns.barplot(x = logit_coef_df['Feature'].head(20), y = logit_coef_df['Plotting_Odds_Ratio'].head(20), color=\"blue\")\n",
    "\n",
    "# Set titles and labels\n",
    "plt.title(f\"Top 20 Words Predictive of Positive Reviews (Rating 1)\", size=24, pad=20)\n",
    "plt.xlabel('Positive indicators', size=14)\n",
    "plt.ylabel('Odds Ratio', size=14)\n",
    "plt.xticks(rotation = 45)\n",
    "\n",
    "# Remove top and top right graph borders\n",
    "sns.despine()\n",
    "plt.tight_layout()\n",
    "\n",
    "################### Negative Indicators Bar Plot ###################\n",
    "################### largest negative coefficient -> tokens indicating negative sentiment \n",
    "plt.subplot(2, 1, 2)\n",
    "sns.barplot(x = logit_coef_df['Feature'].tail(20), y = logit_coef_df['Plotting_Odds_Ratio'].tail(20), color=\"red\")\n",
    "\n",
    "# Set titles and labels\n",
    "plt.title(f\"Top 20 Words Predictive of Negative Reviews (Rating 0)\", size=24, pad=20)\n",
    "plt.xlabel('Negative indicators', size=14)\n",
    "plt.ylabel('Odds Ratio', size=14)\n",
    "plt.xticks(rotation = 45)\n",
    "\n",
    "# Remove top and top right graph borders\n",
    "sns.despine()\n",
    "plt.tight_layout()\n",
    "\n",
    "plt.show()\n"
   ]
  },
  {
   "cell_type": "markdown",
   "id": "69dd6247",
   "metadata": {},
   "source": [
    "Of the top 20 most predictive tokens for positive reviews, \"amaze\", \"cannot wait\", \"excellent\", \"fantastic\", and \"awesome\" are the top 5 predictors. These tokens make sense as to what can be expected from positive reviews. The precision and recall for this model did not exhibit overfitting of the train dataset as observed in the grid search from round 1. \n",
    "\n",
    "Conversely, features such as \"not recommend\", \"terrible\", \"useless\", \"three stars\", and \"awful\" are the top 5 predictive tokens for negative reviews. Most of these tokens in the top 20 reflect negative sentiment and make sense in being predictive for negative reviews. For instance, \"poor\", \"not worth\", \"horrible\", \"not happy\", \"garbage\", \"mislead\", \"disappointed\", \"very bad\", \"uninstalling\", \"scam\", \"unfortunately\", and \"great until\" tokens have some general negative sentiment and may reflect a better fitted model compared to that observed in the grid search from round 1.\n",
    "\n",
    "Furthermore, the odds ratios are in reasonable magnitudes as a result of the regularization parameter implemented."
   ]
  },
  {
   "cell_type": "code",
   "execution_count": 125,
   "id": "e0b03ce3",
   "metadata": {
    "ExecuteTime": {
     "end_time": "2022-05-22T20:47:40.361550Z",
     "start_time": "2022-05-22T20:47:40.347800Z"
    },
    "scrolled": false
   },
   "outputs": [],
   "source": [
    "# #######################################################\n",
    "# ################### OPTIONAL GRAPHS ###################\n",
    "# #######################################################\n",
    "\n",
    "\n",
    "# # Visualise the positive and negative tokens and their corresponding log odds ratio of their\n",
    "# # coefficients from the logistic regression\n",
    "\n",
    "\n",
    "# ################### Positive Indicators HORIZONTAL Bar Plot ###################\n",
    "# ################### largest positive coefficient -> tokens indicating positive sentiment \n",
    "\n",
    "# data = logit_coef_df['Plotting_Odds_Ratio'].head(10).values\n",
    "# df = pd.DataFrame(data,columns=['Plotting_Odds_Ratio'], index = logit_coef_df['Feature'].head(10))\n",
    "\n",
    "# df.sort_values(by = 'Plotting_Odds_Ratio', ascending = True).plot.barh(figsize = (15,10), legend=None)\n",
    "\n",
    "# # Set titles and labels\n",
    "# plt.title(f\"Top 10 Words Predictive of Positive Reviews (Rating 1)\", size=24, pad=20)\n",
    "# plt.ylabel('', size=14)\n",
    "# plt.xlabel('Odds Ratio', size=16)\n",
    "\n",
    "# # Set axes tick labels\n",
    "# plt.yticks(size = 20)\n",
    "\n",
    "# # Remove top and top right graph borders\n",
    "# sns.despine()\n",
    "\n",
    "# # Save figure as support vector graphics for further customization in microsoft powerpoint\n",
    "# plt.savefig(\"positive_predictors.svg\")\n",
    "# plt.show()"
   ]
  },
  {
   "cell_type": "code",
   "execution_count": 126,
   "id": "2772235e",
   "metadata": {
    "ExecuteTime": {
     "end_time": "2022-05-22T20:47:40.377054Z",
     "start_time": "2022-05-22T20:47:40.364051Z"
    }
   },
   "outputs": [],
   "source": [
    "# # Visualise the positive and negative tokens and their corresponding log odds ratio of their\n",
    "# # coefficients from the logistic regression\n",
    "\n",
    "\n",
    "# ################### Negative Indicators HORIZONTAL Bar Plot ###################\n",
    "# ################### largest negative coefficient -> tokens indicating negative sentiment \n",
    "\n",
    "# data = logit_coef_df['Plotting_Odds_Ratio'].tail(10).values\n",
    "# df = pd.DataFrame(data,columns=['Plotting_Odds_Ratio'], index = logit_coef_df['Feature'].tail(10))\n",
    "\n",
    "# df.sort_values(by = 'Plotting_Odds_Ratio', ascending = False).plot.barh(figsize = (15,10), legend=None, color = 'crimson')\n",
    "\n",
    "# # Set titles and labels\n",
    "# plt.title(f\"Top 10 Words Predictive of Negative Reviews (Rating 0)\", size=24, pad=20)\n",
    "# plt.ylabel('', size=14)\n",
    "# plt.xlabel('Odds Ratio', size=16)\n",
    "\n",
    "# # Set axes tick labels\n",
    "# plt.yticks(size = 20)\n",
    "\n",
    "\n",
    "# # Remove top and top right graph borders\n",
    "# sns.despine()\n",
    "\n",
    "# # Save figure as support vector graphics for further customization in microsoft powerpoint\n",
    "# plt.savefig(\"negative_predictors.svg\")\n",
    "# plt.show()"
   ]
  },
  {
   "cell_type": "markdown",
   "id": "5da13699",
   "metadata": {},
   "source": [
    "# Summary"
   ]
  },
  {
   "cell_type": "markdown",
   "id": "91962314",
   "metadata": {},
   "source": [
    "The data-centric approach was briefly highlighted during the comparison of the logit model performance metrics when comparing the model using reviews without any text pre-processing or language separation to the model using English-only language reviews with text pre-processing.\n",
    "\n",
    "In comparing the performance metrics with the reviews that underwent different text pre-processing steps, the verb lemmatized English-only reviews exhibited minimal to no change in the model performance metrics with the test data compared to the other text-preprocessed datasets used. As a result, optimization of hyperparameters were based on the text normalized English reviews for the rest of the notebook.\n",
    "\n",
    "With 5-fold cross-validation grid search of hyperparameters for CountVectorizer and LogisticRegression, the optimal estimator object selected was from grid search round 2. The hyperparameters were the following:\n",
    "\n",
    "- CountVectorizer(max_df=0.95, max_features=60_000, ngram_range=(1, 2))\n",
    "- LogisticRegression(C=0.1, max_iter=200, penalty='l1', solver='liblinear')\n",
    "\n",
    "Furthermore, despite the stronger model performance metrics for negative reviews observed during grid search round 1 compared to round 2, this conclusion was made in conjunction with the visualization of the top 20 most predictive tokens for positive and negative reviews. \n",
    "\n",
    "In adopting the model-centric approach, further fine-tuning of the grid search optimization can be made to the hyperparameters in future analyses. At this time, the CountVectorizer parameters used in grid search round 2 will be used for topic modeling. This approach is adopted to conduct the analyses in-series, such that the topic modeling will help further explain the results observed in logistic regression by uncovering hidden themes related to the tokens observed. "
   ]
  }
 ],
 "metadata": {
  "kernelspec": {
   "display_name": "Python 3 (ipykernel)",
   "language": "python",
   "name": "python3"
  },
  "language_info": {
   "codemirror_mode": {
    "name": "ipython",
    "version": 3
   },
   "file_extension": ".py",
   "mimetype": "text/x-python",
   "name": "python",
   "nbconvert_exporter": "python",
   "pygments_lexer": "ipython3",
   "version": "3.9.7"
  },
  "toc": {
   "base_numbering": 1,
   "nav_menu": {},
   "number_sections": true,
   "sideBar": true,
   "skip_h1_title": false,
   "title_cell": "Table of Contents",
   "title_sidebar": "Contents",
   "toc_cell": false,
   "toc_position": {
    "height": "calc(100% - 180px)",
    "left": "10px",
    "top": "150px",
    "width": "336px"
   },
   "toc_section_display": true,
   "toc_window_display": true
  },
  "varInspector": {
   "cols": {
    "lenName": 16,
    "lenType": 16,
    "lenVar": 40
   },
   "kernels_config": {
    "python": {
     "delete_cmd_postfix": "",
     "delete_cmd_prefix": "del ",
     "library": "var_list.py",
     "varRefreshCmd": "print(var_dic_list())"
    },
    "r": {
     "delete_cmd_postfix": ") ",
     "delete_cmd_prefix": "rm(",
     "library": "var_list.r",
     "varRefreshCmd": "cat(var_dic_list()) "
    }
   },
   "types_to_exclude": [
    "module",
    "function",
    "builtin_function_or_method",
    "instance",
    "_Feature"
   ],
   "window_display": false
  }
 },
 "nbformat": 4,
 "nbformat_minor": 5
}
